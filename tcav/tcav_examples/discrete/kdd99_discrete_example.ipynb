{
  "cells": [
    {
      "cell_type": "code",
      "execution_count": 1,
      "metadata": {
        "id": "kSnLYpZ6YZJ0"
      },
      "outputs": [
        {
          "name": "stdout",
          "output_type": "stream",
          "text": [
            "/zhome/94/5/127021/speciale/tcav/tcav/tcav_examples/discrete\n",
            "/zhome/94/5/127021/speciale/tcav\n"
          ]
        }
      ],
      "source": [
        "# Necessary because jupyter restricts relative imports from parent directories\n",
        "import os\n",
        "if os.getcwd().split('/')[-1] != 'tcav':\n",
        "    print(os.getcwd())\n",
        "    os.chdir('../')\n",
        "    os.chdir('../')\n",
        "    os.chdir('../')    \n",
        "    print(os.getcwd())"
      ]
    },
    {
      "cell_type": "code",
      "execution_count": 2,
      "metadata": {
        "id": "vEnmU7H8YZJ1"
      },
      "outputs": [
        {
          "name": "stderr",
          "output_type": "stream",
          "text": [
            "2022-09-22 13:55:35.887608: I tensorflow/core/platform/cpu_feature_guard.cc:193] This TensorFlow binary is optimized with oneAPI Deep Neural Network Library (oneDNN) to use the following CPU instructions in performance-critical operations:  AVX2 FMA\n",
            "To enable them in other operations, rebuild TensorFlow with the appropriate compiler flags.\n",
            "2022-09-22 13:55:36.113078: W tensorflow/stream_executor/platform/default/dso_loader.cc:64] Could not load dynamic library 'libcudart.so.11.0'; dlerror: libcudart.so.11.0: cannot open shared object file: No such file or directory; LD_LIBRARY_PATH: /lsf/10.1/linux3.10-glibc2.17-x86_64/lib\n",
            "2022-09-22 13:55:36.113108: I tensorflow/stream_executor/cuda/cudart_stub.cc:29] Ignore above cudart dlerror if you do not have a GPU set up on your machine.\n",
            "2022-09-22 13:55:36.157889: E tensorflow/stream_executor/cuda/cuda_blas.cc:2981] Unable to register cuBLAS factory: Attempting to register factory for plugin cuBLAS when one has already been registered\n",
            "2022-09-22 13:55:37.900383: W tensorflow/stream_executor/platform/default/dso_loader.cc:64] Could not load dynamic library 'libnvinfer.so.7'; dlerror: libnvinfer.so.7: cannot open shared object file: No such file or directory; LD_LIBRARY_PATH: /lsf/10.1/linux3.10-glibc2.17-x86_64/lib\n",
            "2022-09-22 13:55:37.901299: W tensorflow/stream_executor/platform/default/dso_loader.cc:64] Could not load dynamic library 'libnvinfer_plugin.so.7'; dlerror: libnvinfer_plugin.so.7: cannot open shared object file: No such file or directory; LD_LIBRARY_PATH: /lsf/10.1/linux3.10-glibc2.17-x86_64/lib\n",
            "2022-09-22 13:55:37.901316: W tensorflow/compiler/tf2tensorrt/utils/py_utils.cc:38] TF-TRT Warning: Cannot dlopen some TensorRT libraries. If you would like to use Nvidia GPU with TensorRT, please make sure the missing libraries mentioned above are installed properly.\n"
          ]
        }
      ],
      "source": [
        "from tensorflow.io import gfile\n",
        "from tcav.tcav_examples.discrete.kdd99_activation_generator import KDD99DiscreteActivationGenerator\n",
        "from tcav.utils import create_session\n",
        "from tcav.tcav_examples.discrete.kdd99_model_wrapper import KDD99KerasModelWrapper\n",
        "\n",
        "from tcav.utils import create_session\n",
        "import tcav.utils_plot as utils_plot # utils_plot requires matplotlib\n",
        "from tcav.tcav import TCAV\n",
        "import pickle\n",
        "import absl\n",
        "absl.logging.set_verbosity(0)\n"
      ]
    },
    {
      "cell_type": "code",
      "execution_count": 8,
      "metadata": {
        "id": "0mY7PFNXYZJ2"
      },
      "outputs": [],
      "source": [
        "# Make source directory, \n",
        "source_dir = \"./tcav_examples/discrete/kdd_sanity2\"\n",
        "working_dir = source_dir\n",
        "acts_dir = os.path.join(working_dir, \"activations\")\n",
        "gfile.makedirs(acts_dir)\n",
        "cav_dir = os.path.join(working_dir, \"cav\")\n",
        "gfile.makedirs(cav_dir)\n"
      ]
    },
    {
      "cell_type": "code",
      "execution_count": 9,
      "metadata": {
        "id": "Dq5zqd_VYZJ2",
        "outputId": "0cd19982-df47-4365-d2e2-23c4b7495dd3"
      },
      "outputs": [],
      "source": [
        "# Make data\n",
        "# ! python  tcav/tcav_examples/discrete/make_kdd99_concepts.py --source_dir={source_dir}\n"
      ]
    },
    {
      "cell_type": "code",
      "execution_count": 10,
      "metadata": {
        "id": "7gN4d9WeYZJ2",
        "outputId": "21453805-3035-43a3-f98e-e16484f9ffd3"
      },
      "outputs": [
        {
          "name": "stdout",
          "output_type": "stream",
          "text": [
            "WARNING:tensorflow:From /zhome/94/5/127021/miniconda3/envs/tcav_env/lib/python3.9/site-packages/keras/layers/normalization/batch_normalization.py:562: _colocate_with (from tensorflow.python.framework.ops) is deprecated and will be removed in a future version.\n",
            "Instructions for updating:\n",
            "Colocations handled automatically by placer.\n"
          ]
        },
        {
          "name": "stderr",
          "output_type": "stream",
          "text": [
            "2022-09-22 13:58:43.023470: I tensorflow/core/platform/cpu_feature_guard.cc:193] This TensorFlow binary is optimized with oneAPI Deep Neural Network Library (oneDNN) to use the following CPU instructions in performance-critical operations:  AVX2 FMA\n",
            "To enable them in other operations, rebuild TensorFlow with the appropriate compiler flags.\n",
            "2022-09-22 13:58:43.027855: W tensorflow/stream_executor/platform/default/dso_loader.cc:64] Could not load dynamic library 'libcuda.so.1'; dlerror: libcuda.so.1: cannot open shared object file: No such file or directory; LD_LIBRARY_PATH: /lsf/10.1/linux3.10-glibc2.17-x86_64/lib\n",
            "2022-09-22 13:58:43.027897: W tensorflow/stream_executor/cuda/cuda_driver.cc:263] failed call to cuInit: UNKNOWN ERROR (303)\n",
            "2022-09-22 13:58:43.027927: I tensorflow/stream_executor/cuda/cuda_diagnostics.cc:156] kernel driver does not appear to be running on this host (gbarlogin1): /proc/driver/nvidia/version does not exist\n",
            "2022-09-22 13:58:43.454560: I tensorflow/compiler/mlir/mlir_graph_optimization_pass.cc:354] MLIR V1 optimization pass is not enabled\n",
            "/zhome/94/5/127021/miniconda3/envs/tcav_env/lib/python3.9/site-packages/keras/backend.py:5582: UserWarning: \"`sparse_categorical_crossentropy` received `from_logits=True`, but the `output` argument was produced by a Softmax activation and thus does not represent logits. Was this intended?\n",
            "  output, from_logits = _get_logits(\n"
          ]
        }
      ],
      "source": [
        "# Create models\n",
        "label_path = os.path.join(source_dir, \"labels.txt\")\n",
        "model_path = os.path.join(source_dir, \"kdd99_2.h5\")\n",
        "uci_model = KDD99KerasModelWrapper(create_session(), model_path, label_path)\n",
        "\n"
      ]
    },
    {
      "cell_type": "code",
      "execution_count": 11,
      "metadata": {
        "id": "TyZeQGr7YZJ3"
      },
      "outputs": [],
      "source": [
        "# Create activation generator\n",
        "act_gen = KDD99DiscreteActivationGenerator(model=uci_model, source_dir=source_dir, acts_dir=acts_dir, max_examples=200)"
      ]
    },
    {
      "cell_type": "code",
      "execution_count": 12,
      "metadata": {},
      "outputs": [],
      "source": [
        "target = \"normal.\"\n",
        "bottlenecks = [\"dense\", \"dense_1\" ]\n",
        "concepts = [\"dst_host_same_src_port_rate_less_than_one\", \"dst_host_same_src_port_rate_more_than_one\"]\n",
        "alphas = [0.01]\n",
        "\n",
        "num_random_concepts_to_pick = 3\n",
        "num_random_exp=3"
      ]
    },
    {
      "cell_type": "code",
      "execution_count": 13,
      "metadata": {
        "id": "ImAqsG-iYZJ3",
        "outputId": "02233430-d173-483f-f058-e07d257e11f5"
      },
      "outputs": [
        {
          "name": "stdout",
          "output_type": "stream",
          "text": [
            "pair:  normal.\n",
            "concept:  ['dst_host_same_src_port_rate_less_than_one']\n",
            "pair:  normal.\n",
            "concept:  ['dst_host_same_src_port_rate_more_than_one']\n",
            "Concept:  dst_host_same_src_port_rate_less_than_one\n",
            "process_what_to_run_expand: random500_0\n",
            "process_what_to_run_expand: random500_0\n",
            "process_what_to_run_expand: random500_0\n",
            "Length of new_pairs_to_test_t =  1\n",
            "Concept:  dst_host_same_src_port_rate_less_than_one\n",
            "process_what_to_run_expand: random500_1\n",
            "process_what_to_run_expand: random500_1\n",
            "process_what_to_run_expand: random500_1\n",
            "Length of new_pairs_to_test_t =  2\n",
            "Concept:  dst_host_same_src_port_rate_less_than_one\n",
            "process_what_to_run_expand: random500_2\n",
            "process_what_to_run_expand: random500_2\n",
            "process_what_to_run_expand: random500_2\n",
            "Length of new_pairs_to_test_t =  3\n",
            "Concept:  dst_host_same_src_port_rate_more_than_one\n",
            "process_what_to_run_expand: random500_0\n",
            "process_what_to_run_expand: random500_0\n",
            "process_what_to_run_expand: random500_0\n",
            "Length of new_pairs_to_test_t =  1\n",
            "Concept:  dst_host_same_src_port_rate_more_than_one\n",
            "process_what_to_run_expand: random500_1\n",
            "process_what_to_run_expand: random500_1\n",
            "process_what_to_run_expand: random500_1\n",
            "Length of new_pairs_to_test_t =  2\n",
            "Concept:  dst_host_same_src_port_rate_more_than_one\n",
            "process_what_to_run_expand: random500_2\n",
            "process_what_to_run_expand: random500_2\n",
            "process_what_to_run_expand: random500_2\n",
            "Length of new_pairs_to_test_t =  3\n",
            "get_random_concept: random500_0\n",
            "Target normal.\n",
            "random_counterpart random500_0\n",
            "Concept:  random500_0\n",
            "process_what_to_run_expand: random500_0\n",
            "Length of new_pairs_to_test_t =  0\n",
            "Concept:  random500_0\n",
            "process_what_to_run_expand: random500_1\n",
            "process_what_to_run_expand: random500_1\n",
            "process_what_to_run_expand: random500_1\n",
            "Length of new_pairs_to_test_t =  1\n",
            "Concept:  random500_0\n",
            "process_what_to_run_expand: random500_2\n",
            "process_what_to_run_expand: random500_2\n",
            "process_what_to_run_expand: random500_2\n",
            "Length of new_pairs_to_test_t =  2\n",
            "get_random_concept: random500_1\n",
            "Target normal.\n",
            "random_counterpart random500_1\n",
            "Concept:  random500_1\n",
            "process_what_to_run_expand: random500_0\n",
            "process_what_to_run_expand: random500_0\n",
            "process_what_to_run_expand: random500_0\n",
            "Length of new_pairs_to_test_t =  1\n",
            "Concept:  random500_1\n",
            "process_what_to_run_expand: random500_1\n",
            "Length of new_pairs_to_test_t =  1\n",
            "Concept:  random500_1\n",
            "process_what_to_run_expand: random500_2\n",
            "process_what_to_run_expand: random500_2\n",
            "process_what_to_run_expand: random500_2\n",
            "Length of new_pairs_to_test_t =  2\n",
            "get_random_concept: random500_2\n",
            "Target normal.\n",
            "random_counterpart random500_2\n",
            "Concept:  random500_2\n",
            "process_what_to_run_expand: random500_0\n",
            "process_what_to_run_expand: random500_0\n",
            "process_what_to_run_expand: random500_0\n",
            "Length of new_pairs_to_test_t =  1\n",
            "Concept:  random500_2\n",
            "process_what_to_run_expand: random500_1\n",
            "process_what_to_run_expand: random500_1\n",
            "process_what_to_run_expand: random500_1\n",
            "Length of new_pairs_to_test_t =  2\n",
            "INFO:tensorflow:dense ['dst_host_same_src_port_rate_less_than_one', 'random500_0'] normal. 0.01\n",
            "INFO:tensorflow:dense ['dst_host_same_src_port_rate_less_than_one', 'random500_1'] normal. 0.01\n",
            "INFO:tensorflow:dense ['dst_host_same_src_port_rate_less_than_one', 'random500_2'] normal. 0.01\n",
            "INFO:tensorflow:dense ['dst_host_same_src_port_rate_more_than_one', 'random500_0'] normal. 0.01\n",
            "INFO:tensorflow:dense ['dst_host_same_src_port_rate_more_than_one', 'random500_1'] normal. 0.01\n",
            "INFO:tensorflow:dense ['dst_host_same_src_port_rate_more_than_one', 'random500_2'] normal. 0.01\n",
            "INFO:tensorflow:dense ['random500_0', 'random500_1'] normal. 0.01\n",
            "INFO:tensorflow:dense ['random500_0', 'random500_2'] normal. 0.01\n",
            "INFO:tensorflow:dense ['random500_1', 'random500_0'] normal. 0.01\n",
            "INFO:tensorflow:dense ['random500_1', 'random500_2'] normal. 0.01\n",
            "INFO:tensorflow:dense ['random500_2', 'random500_0'] normal. 0.01\n",
            "INFO:tensorflow:dense ['random500_2', 'random500_1'] normal. 0.01\n",
            "INFO:tensorflow:dense_1 ['dst_host_same_src_port_rate_less_than_one', 'random500_0'] normal. 0.01\n",
            "INFO:tensorflow:dense_1 ['dst_host_same_src_port_rate_less_than_one', 'random500_1'] normal. 0.01\n",
            "INFO:tensorflow:dense_1 ['dst_host_same_src_port_rate_less_than_one', 'random500_2'] normal. 0.01\n",
            "INFO:tensorflow:dense_1 ['dst_host_same_src_port_rate_more_than_one', 'random500_0'] normal. 0.01\n",
            "INFO:tensorflow:dense_1 ['dst_host_same_src_port_rate_more_than_one', 'random500_1'] normal. 0.01\n",
            "INFO:tensorflow:dense_1 ['dst_host_same_src_port_rate_more_than_one', 'random500_2'] normal. 0.01\n",
            "INFO:tensorflow:dense_1 ['random500_0', 'random500_1'] normal. 0.01\n",
            "INFO:tensorflow:dense_1 ['random500_0', 'random500_2'] normal. 0.01\n",
            "INFO:tensorflow:dense_1 ['random500_1', 'random500_0'] normal. 0.01\n",
            "INFO:tensorflow:dense_1 ['random500_1', 'random500_2'] normal. 0.01\n",
            "INFO:tensorflow:dense_1 ['random500_2', 'random500_0'] normal. 0.01\n",
            "INFO:tensorflow:dense_1 ['random500_2', 'random500_1'] normal. 0.01\n",
            "INFO:tensorflow:TCAV will 24 params\n"
          ]
        }
      ],
      "source": [
        "\n",
        "my_tcav = TCAV(create_session,\n",
        "                   target,\n",
        "                   concepts,\n",
        "                   bottlenecks,\n",
        "                   act_gen,\n",
        "                   alphas,\n",
        "                   cav_dir=cav_dir,\n",
        "                   num_random_exp=num_random_exp,\n",
        "                   num_random_concepts_to_pick = num_random_concepts_to_pick)\n"
      ]
    },
    {
      "cell_type": "code",
      "execution_count": 7,
      "metadata": {},
      "outputs": [
        {
          "data": {
            "text/plain": [
              "'\\nmy_tcav.params[0] #dir()\\nfor i, param in enumerate(my_tcav.params):\\n    print(param.concepts)\\n    print(param.cav_dir)\\n'"
            ]
          },
          "execution_count": 7,
          "metadata": {},
          "output_type": "execute_result"
        }
      ],
      "source": [
        "\"\"\"\n",
        "my_tcav.params[0] #dir()\n",
        "for i, param in enumerate(my_tcav.params):\n",
        "    print(param.concepts)\n",
        "    print(param.cav_dir)\n",
        "\"\"\""
      ]
    },
    {
      "cell_type": "code",
      "execution_count": 14,
      "metadata": {},
      "outputs": [
        {
          "name": "stdout",
          "output_type": "stream",
          "text": [
            "INFO:tensorflow:running 24 params\n",
            "INFO:tensorflow:Running param 0 of 24\n",
            "INFO:tensorflow:running normal. ['dst_host_same_src_port_rate_less_than_one', 'random500_0']\n",
            "INFO:tensorflow:Loaded ./tcav_examples/discrete/kdd_sanity2/activations/acts_dst_host_same_src_port_rate_less_than_one_dense shape (200, 1000)\n",
            "INFO:tensorflow:Loaded ./tcav_examples/discrete/kdd_sanity2/activations/acts_random500_0_dense shape (2, 1000)\n",
            "INFO:tensorflow:Loaded ./tcav_examples/discrete/kdd_sanity2/activations/acts_normal._dense shape (200, 1000)\n",
            "INFO:tensorflow:Training CAV ['dst_host_same_src_port_rate_less_than_one', 'random500_0'] - dense alpha 0.01\n",
            "INFO:tensorflow:training with alpha=0.01\n",
            "INFO:tensorflow:acc per class {'dst_host_same_src_port_rate_less_than_one': 1.0, 'random500_0': 1.0, 'overall': 1.0}\n",
            "INFO:tensorflow:CAV accuracies: {'dst_host_same_src_port_rate_less_than_one': 1.0, 'random500_0': 1.0, 'overall': 1.0}\n",
            "INFO:tensorflow:Running param 1 of 24\n",
            "INFO:tensorflow:running normal. ['dst_host_same_src_port_rate_less_than_one', 'random500_1']\n",
            "INFO:tensorflow:Loaded ./tcav_examples/discrete/kdd_sanity2/activations/acts_dst_host_same_src_port_rate_less_than_one_dense shape (200, 1000)\n",
            "INFO:tensorflow:Loaded ./tcav_examples/discrete/kdd_sanity2/activations/acts_random500_1_dense shape (2, 1000)\n",
            "INFO:tensorflow:Loaded ./tcav_examples/discrete/kdd_sanity2/activations/acts_normal._dense shape (200, 1000)\n",
            "INFO:tensorflow:Training CAV ['dst_host_same_src_port_rate_less_than_one', 'random500_1'] - dense alpha 0.01\n",
            "INFO:tensorflow:training with alpha=0.01\n",
            "INFO:tensorflow:acc per class {'dst_host_same_src_port_rate_less_than_one': 1.0, 'random500_1': 0.0, 'overall': 0.5}\n",
            "INFO:tensorflow:CAV accuracies: {'dst_host_same_src_port_rate_less_than_one': 1.0, 'random500_1': 0.0, 'overall': 0.5}\n",
            "INFO:tensorflow:Running param 2 of 24\n",
            "INFO:tensorflow:running normal. ['dst_host_same_src_port_rate_less_than_one', 'random500_2']\n",
            "INFO:tensorflow:Loaded ./tcav_examples/discrete/kdd_sanity2/activations/acts_dst_host_same_src_port_rate_less_than_one_dense shape (200, 1000)\n",
            "INFO:tensorflow:Loaded ./tcav_examples/discrete/kdd_sanity2/activations/acts_random500_2_dense shape (2, 1000)\n",
            "INFO:tensorflow:Loaded ./tcav_examples/discrete/kdd_sanity2/activations/acts_normal._dense shape (200, 1000)\n",
            "INFO:tensorflow:Training CAV ['dst_host_same_src_port_rate_less_than_one', 'random500_2'] - dense alpha 0.01\n",
            "INFO:tensorflow:training with alpha=0.01\n",
            "INFO:tensorflow:acc per class {'dst_host_same_src_port_rate_less_than_one': 1.0, 'random500_2': 1.0, 'overall': 1.0}\n",
            "INFO:tensorflow:CAV accuracies: {'dst_host_same_src_port_rate_less_than_one': 1.0, 'random500_2': 1.0, 'overall': 1.0}\n",
            "INFO:tensorflow:Running param 3 of 24\n",
            "INFO:tensorflow:running normal. ['dst_host_same_src_port_rate_more_than_one', 'random500_0']\n",
            "INFO:tensorflow:Loaded ./tcav_examples/discrete/kdd_sanity2/activations/acts_dst_host_same_src_port_rate_more_than_one_dense shape (200, 1000)\n",
            "INFO:tensorflow:Loaded ./tcav_examples/discrete/kdd_sanity2/activations/acts_random500_0_dense shape (2, 1000)\n",
            "INFO:tensorflow:Loaded ./tcav_examples/discrete/kdd_sanity2/activations/acts_normal._dense shape (200, 1000)\n",
            "INFO:tensorflow:Training CAV ['dst_host_same_src_port_rate_more_than_one', 'random500_0'] - dense alpha 0.01\n",
            "INFO:tensorflow:training with alpha=0.01\n",
            "INFO:tensorflow:acc per class {'dst_host_same_src_port_rate_more_than_one': 1.0, 'random500_0': 0.0, 'overall': 0.5}\n",
            "INFO:tensorflow:CAV accuracies: {'dst_host_same_src_port_rate_more_than_one': 1.0, 'random500_0': 0.0, 'overall': 0.5}\n",
            "INFO:tensorflow:Running param 4 of 24\n",
            "INFO:tensorflow:running normal. ['dst_host_same_src_port_rate_more_than_one', 'random500_1']\n",
            "INFO:tensorflow:Loaded ./tcav_examples/discrete/kdd_sanity2/activations/acts_dst_host_same_src_port_rate_more_than_one_dense shape (200, 1000)\n",
            "INFO:tensorflow:Loaded ./tcav_examples/discrete/kdd_sanity2/activations/acts_random500_1_dense shape (2, 1000)\n",
            "INFO:tensorflow:Loaded ./tcav_examples/discrete/kdd_sanity2/activations/acts_normal._dense shape (200, 1000)\n",
            "INFO:tensorflow:Training CAV ['dst_host_same_src_port_rate_more_than_one', 'random500_1'] - dense alpha 0.01\n",
            "INFO:tensorflow:training with alpha=0.01\n",
            "INFO:tensorflow:acc per class {'dst_host_same_src_port_rate_more_than_one': 1.0, 'random500_1': 1.0, 'overall': 1.0}\n",
            "INFO:tensorflow:CAV accuracies: {'dst_host_same_src_port_rate_more_than_one': 1.0, 'random500_1': 1.0, 'overall': 1.0}\n",
            "INFO:tensorflow:Running param 5 of 24\n",
            "INFO:tensorflow:running normal. ['dst_host_same_src_port_rate_more_than_one', 'random500_2']\n",
            "INFO:tensorflow:Loaded ./tcav_examples/discrete/kdd_sanity2/activations/acts_dst_host_same_src_port_rate_more_than_one_dense shape (200, 1000)\n",
            "INFO:tensorflow:Loaded ./tcav_examples/discrete/kdd_sanity2/activations/acts_random500_2_dense shape (2, 1000)\n",
            "INFO:tensorflow:Loaded ./tcav_examples/discrete/kdd_sanity2/activations/acts_normal._dense shape (200, 1000)\n",
            "INFO:tensorflow:Training CAV ['dst_host_same_src_port_rate_more_than_one', 'random500_2'] - dense alpha 0.01\n",
            "INFO:tensorflow:training with alpha=0.01\n",
            "INFO:tensorflow:acc per class {'dst_host_same_src_port_rate_more_than_one': 1.0, 'random500_2': 1.0, 'overall': 1.0}\n",
            "INFO:tensorflow:CAV accuracies: {'dst_host_same_src_port_rate_more_than_one': 1.0, 'random500_2': 1.0, 'overall': 1.0}\n",
            "INFO:tensorflow:Running param 6 of 24\n",
            "INFO:tensorflow:running normal. ['random500_0', 'random500_1']\n",
            "INFO:tensorflow:Loaded ./tcav_examples/discrete/kdd_sanity2/activations/acts_random500_0_dense shape (2, 1000)\n",
            "INFO:tensorflow:Loaded ./tcav_examples/discrete/kdd_sanity2/activations/acts_random500_1_dense shape (2, 1000)\n",
            "INFO:tensorflow:Loaded ./tcav_examples/discrete/kdd_sanity2/activations/acts_normal._dense shape (200, 1000)\n",
            "INFO:tensorflow:Training CAV ['random500_0', 'random500_1'] - dense alpha 0.01\n",
            "INFO:tensorflow:training with alpha=0.01\n",
            "INFO:tensorflow:acc per class {'random500_0': 0.0, 'random500_1': 1.0, 'overall': 0.5}\n",
            "INFO:tensorflow:CAV accuracies: {'random500_0': 0.0, 'random500_1': 1.0, 'overall': 0.5}\n",
            "INFO:tensorflow:Running param 7 of 24\n",
            "INFO:tensorflow:running normal. ['random500_0', 'random500_2']\n",
            "INFO:tensorflow:Loaded ./tcav_examples/discrete/kdd_sanity2/activations/acts_random500_0_dense shape (2, 1000)\n",
            "INFO:tensorflow:Loaded ./tcav_examples/discrete/kdd_sanity2/activations/acts_random500_2_dense shape (2, 1000)\n",
            "INFO:tensorflow:Loaded ./tcav_examples/discrete/kdd_sanity2/activations/acts_normal._dense shape (200, 1000)\n",
            "INFO:tensorflow:Training CAV ['random500_0', 'random500_2'] - dense alpha 0.01\n",
            "INFO:tensorflow:training with alpha=0.01\n",
            "INFO:tensorflow:acc per class {'random500_0': 0.0, 'random500_2': 0.0, 'overall': 0.0}\n",
            "INFO:tensorflow:CAV accuracies: {'random500_0': 0.0, 'random500_2': 0.0, 'overall': 0.0}\n",
            "INFO:tensorflow:Running param 8 of 24\n",
            "INFO:tensorflow:running normal. ['random500_1', 'random500_0']\n",
            "INFO:tensorflow:Loaded ./tcav_examples/discrete/kdd_sanity2/activations/acts_random500_1_dense shape (2, 1000)\n",
            "INFO:tensorflow:Loaded ./tcav_examples/discrete/kdd_sanity2/activations/acts_random500_0_dense shape (2, 1000)\n",
            "INFO:tensorflow:Loaded ./tcav_examples/discrete/kdd_sanity2/activations/acts_normal._dense shape (200, 1000)\n",
            "INFO:tensorflow:Training CAV ['random500_1', 'random500_0'] - dense alpha 0.01\n",
            "INFO:tensorflow:training with alpha=0.01\n",
            "INFO:tensorflow:acc per class {'random500_1': 0.0, 'random500_0': 0.0, 'overall': 0.0}\n",
            "INFO:tensorflow:CAV accuracies: {'random500_1': 0.0, 'random500_0': 0.0, 'overall': 0.0}\n",
            "INFO:tensorflow:Running param 9 of 24\n",
            "INFO:tensorflow:running normal. ['random500_1', 'random500_2']\n",
            "INFO:tensorflow:Loaded ./tcav_examples/discrete/kdd_sanity2/activations/acts_random500_1_dense shape (2, 1000)\n",
            "INFO:tensorflow:Loaded ./tcav_examples/discrete/kdd_sanity2/activations/acts_random500_2_dense shape (2, 1000)\n",
            "INFO:tensorflow:Loaded ./tcav_examples/discrete/kdd_sanity2/activations/acts_normal._dense shape (200, 1000)\n",
            "INFO:tensorflow:Training CAV ['random500_1', 'random500_2'] - dense alpha 0.01\n",
            "INFO:tensorflow:training with alpha=0.01\n",
            "INFO:tensorflow:acc per class {'random500_1': 1.0, 'random500_2': 0.0, 'overall': 0.5}\n",
            "INFO:tensorflow:CAV accuracies: {'random500_1': 1.0, 'random500_2': 0.0, 'overall': 0.5}\n",
            "INFO:tensorflow:Running param 10 of 24\n",
            "INFO:tensorflow:running normal. ['random500_2', 'random500_0']\n",
            "INFO:tensorflow:Loaded ./tcav_examples/discrete/kdd_sanity2/activations/acts_random500_2_dense shape (2, 1000)\n",
            "INFO:tensorflow:Loaded ./tcav_examples/discrete/kdd_sanity2/activations/acts_random500_0_dense shape (2, 1000)\n",
            "INFO:tensorflow:Loaded ./tcav_examples/discrete/kdd_sanity2/activations/acts_normal._dense shape (200, 1000)\n",
            "INFO:tensorflow:Training CAV ['random500_2', 'random500_0'] - dense alpha 0.01\n",
            "INFO:tensorflow:training with alpha=0.01\n",
            "INFO:tensorflow:acc per class {'random500_2': 1.0, 'random500_0': 0.0, 'overall': 0.5}\n",
            "INFO:tensorflow:CAV accuracies: {'random500_2': 1.0, 'random500_0': 0.0, 'overall': 0.5}\n",
            "INFO:tensorflow:Running param 11 of 24\n",
            "INFO:tensorflow:running normal. ['random500_2', 'random500_1']\n",
            "INFO:tensorflow:Loaded ./tcav_examples/discrete/kdd_sanity2/activations/acts_random500_2_dense shape (2, 1000)\n",
            "INFO:tensorflow:Loaded ./tcav_examples/discrete/kdd_sanity2/activations/acts_random500_1_dense shape (2, 1000)\n",
            "INFO:tensorflow:Loaded ./tcav_examples/discrete/kdd_sanity2/activations/acts_normal._dense shape (200, 1000)\n",
            "INFO:tensorflow:Training CAV ['random500_2', 'random500_1'] - dense alpha 0.01\n",
            "INFO:tensorflow:training with alpha=0.01\n",
            "INFO:tensorflow:acc per class {'random500_2': 0.0, 'random500_1': 1.0, 'overall': 0.5}\n",
            "INFO:tensorflow:CAV accuracies: {'random500_2': 0.0, 'random500_1': 1.0, 'overall': 0.5}\n",
            "INFO:tensorflow:Running param 12 of 24\n",
            "INFO:tensorflow:running normal. ['dst_host_same_src_port_rate_less_than_one', 'random500_0']\n",
            "INFO:tensorflow:Loaded ./tcav_examples/discrete/kdd_sanity2/activations/acts_dst_host_same_src_port_rate_less_than_one_dense_1 shape (200, 256)\n",
            "INFO:tensorflow:Loaded ./tcav_examples/discrete/kdd_sanity2/activations/acts_random500_0_dense_1 shape (2, 256)\n",
            "INFO:tensorflow:Loaded ./tcav_examples/discrete/kdd_sanity2/activations/acts_normal._dense_1 shape (200, 256)\n",
            "INFO:tensorflow:Training CAV ['dst_host_same_src_port_rate_less_than_one', 'random500_0'] - dense_1 alpha 0.01\n",
            "INFO:tensorflow:training with alpha=0.01\n",
            "INFO:tensorflow:acc per class {'dst_host_same_src_port_rate_less_than_one': 1.0, 'random500_0': 1.0, 'overall': 1.0}\n",
            "INFO:tensorflow:CAV accuracies: {'dst_host_same_src_port_rate_less_than_one': 1.0, 'random500_0': 1.0, 'overall': 1.0}\n",
            "INFO:tensorflow:Running param 13 of 24\n",
            "INFO:tensorflow:running normal. ['dst_host_same_src_port_rate_less_than_one', 'random500_1']\n",
            "INFO:tensorflow:Loaded ./tcav_examples/discrete/kdd_sanity2/activations/acts_dst_host_same_src_port_rate_less_than_one_dense_1 shape (200, 256)\n",
            "INFO:tensorflow:Loaded ./tcav_examples/discrete/kdd_sanity2/activations/acts_random500_1_dense_1 shape (2, 256)\n",
            "INFO:tensorflow:Loaded ./tcav_examples/discrete/kdd_sanity2/activations/acts_normal._dense_1 shape (200, 256)\n",
            "INFO:tensorflow:Training CAV ['dst_host_same_src_port_rate_less_than_one', 'random500_1'] - dense_1 alpha 0.01\n",
            "INFO:tensorflow:training with alpha=0.01\n",
            "INFO:tensorflow:acc per class {'dst_host_same_src_port_rate_less_than_one': 1.0, 'random500_1': 0.0, 'overall': 0.5}\n",
            "INFO:tensorflow:CAV accuracies: {'dst_host_same_src_port_rate_less_than_one': 1.0, 'random500_1': 0.0, 'overall': 0.5}\n",
            "INFO:tensorflow:Running param 14 of 24\n",
            "INFO:tensorflow:running normal. ['dst_host_same_src_port_rate_less_than_one', 'random500_2']\n",
            "INFO:tensorflow:Loaded ./tcav_examples/discrete/kdd_sanity2/activations/acts_dst_host_same_src_port_rate_less_than_one_dense_1 shape (200, 256)\n",
            "INFO:tensorflow:Loaded ./tcav_examples/discrete/kdd_sanity2/activations/acts_random500_2_dense_1 shape (2, 256)\n",
            "INFO:tensorflow:Loaded ./tcav_examples/discrete/kdd_sanity2/activations/acts_normal._dense_1 shape (200, 256)\n",
            "INFO:tensorflow:Training CAV ['dst_host_same_src_port_rate_less_than_one', 'random500_2'] - dense_1 alpha 0.01\n",
            "INFO:tensorflow:training with alpha=0.01\n",
            "INFO:tensorflow:acc per class {'dst_host_same_src_port_rate_less_than_one': 1.0, 'random500_2': 1.0, 'overall': 1.0}\n",
            "INFO:tensorflow:CAV accuracies: {'dst_host_same_src_port_rate_less_than_one': 1.0, 'random500_2': 1.0, 'overall': 1.0}\n",
            "INFO:tensorflow:Running param 15 of 24\n",
            "INFO:tensorflow:running normal. ['dst_host_same_src_port_rate_more_than_one', 'random500_0']\n",
            "INFO:tensorflow:Loaded ./tcav_examples/discrete/kdd_sanity2/activations/acts_dst_host_same_src_port_rate_more_than_one_dense_1 shape (200, 256)\n",
            "INFO:tensorflow:Loaded ./tcav_examples/discrete/kdd_sanity2/activations/acts_random500_0_dense_1 shape (2, 256)\n",
            "INFO:tensorflow:Loaded ./tcav_examples/discrete/kdd_sanity2/activations/acts_normal._dense_1 shape (200, 256)\n",
            "INFO:tensorflow:Training CAV ['dst_host_same_src_port_rate_more_than_one', 'random500_0'] - dense_1 alpha 0.01\n",
            "INFO:tensorflow:training with alpha=0.01\n",
            "INFO:tensorflow:acc per class {'dst_host_same_src_port_rate_more_than_one': 1.0, 'random500_0': 0.0, 'overall': 0.5}\n",
            "INFO:tensorflow:CAV accuracies: {'dst_host_same_src_port_rate_more_than_one': 1.0, 'random500_0': 0.0, 'overall': 0.5}\n",
            "INFO:tensorflow:Running param 16 of 24\n",
            "INFO:tensorflow:running normal. ['dst_host_same_src_port_rate_more_than_one', 'random500_1']\n",
            "INFO:tensorflow:Loaded ./tcav_examples/discrete/kdd_sanity2/activations/acts_dst_host_same_src_port_rate_more_than_one_dense_1 shape (200, 256)\n",
            "INFO:tensorflow:Loaded ./tcav_examples/discrete/kdd_sanity2/activations/acts_random500_1_dense_1 shape (2, 256)\n",
            "INFO:tensorflow:Loaded ./tcav_examples/discrete/kdd_sanity2/activations/acts_normal._dense_1 shape (200, 256)\n",
            "INFO:tensorflow:Training CAV ['dst_host_same_src_port_rate_more_than_one', 'random500_1'] - dense_1 alpha 0.01\n",
            "INFO:tensorflow:training with alpha=0.01\n",
            "INFO:tensorflow:acc per class {'dst_host_same_src_port_rate_more_than_one': 1.0, 'random500_1': 0.0, 'overall': 0.5}\n",
            "INFO:tensorflow:CAV accuracies: {'dst_host_same_src_port_rate_more_than_one': 1.0, 'random500_1': 0.0, 'overall': 0.5}\n",
            "INFO:tensorflow:Running param 17 of 24\n",
            "INFO:tensorflow:running normal. ['dst_host_same_src_port_rate_more_than_one', 'random500_2']\n",
            "INFO:tensorflow:Loaded ./tcav_examples/discrete/kdd_sanity2/activations/acts_dst_host_same_src_port_rate_more_than_one_dense_1 shape (200, 256)\n",
            "INFO:tensorflow:Loaded ./tcav_examples/discrete/kdd_sanity2/activations/acts_random500_2_dense_1 shape (2, 256)\n",
            "INFO:tensorflow:Loaded ./tcav_examples/discrete/kdd_sanity2/activations/acts_normal._dense_1 shape (200, 256)\n",
            "INFO:tensorflow:Training CAV ['dst_host_same_src_port_rate_more_than_one', 'random500_2'] - dense_1 alpha 0.01\n",
            "INFO:tensorflow:training with alpha=0.01\n",
            "INFO:tensorflow:acc per class {'dst_host_same_src_port_rate_more_than_one': 1.0, 'random500_2': 1.0, 'overall': 1.0}\n",
            "INFO:tensorflow:CAV accuracies: {'dst_host_same_src_port_rate_more_than_one': 1.0, 'random500_2': 1.0, 'overall': 1.0}\n",
            "INFO:tensorflow:Running param 18 of 24\n",
            "INFO:tensorflow:running normal. ['random500_0', 'random500_1']\n",
            "INFO:tensorflow:Loaded ./tcav_examples/discrete/kdd_sanity2/activations/acts_random500_0_dense_1 shape (2, 256)\n",
            "INFO:tensorflow:Loaded ./tcav_examples/discrete/kdd_sanity2/activations/acts_random500_1_dense_1 shape (2, 256)\n",
            "INFO:tensorflow:Loaded ./tcav_examples/discrete/kdd_sanity2/activations/acts_normal._dense_1 shape (200, 256)\n",
            "INFO:tensorflow:Training CAV ['random500_0', 'random500_1'] - dense_1 alpha 0.01\n",
            "INFO:tensorflow:training with alpha=0.01\n",
            "INFO:tensorflow:acc per class {'random500_0': 0.0, 'random500_1': 1.0, 'overall': 0.5}\n",
            "INFO:tensorflow:CAV accuracies: {'random500_0': 0.0, 'random500_1': 1.0, 'overall': 0.5}\n",
            "INFO:tensorflow:Running param 19 of 24\n",
            "INFO:tensorflow:running normal. ['random500_0', 'random500_2']\n",
            "INFO:tensorflow:Loaded ./tcav_examples/discrete/kdd_sanity2/activations/acts_random500_0_dense_1 shape (2, 256)\n",
            "INFO:tensorflow:Loaded ./tcav_examples/discrete/kdd_sanity2/activations/acts_random500_2_dense_1 shape (2, 256)\n",
            "INFO:tensorflow:Loaded ./tcav_examples/discrete/kdd_sanity2/activations/acts_normal._dense_1 shape (200, 256)\n",
            "INFO:tensorflow:Training CAV ['random500_0', 'random500_2'] - dense_1 alpha 0.01\n",
            "INFO:tensorflow:training with alpha=0.01\n",
            "INFO:tensorflow:acc per class {'random500_0': 1.0, 'random500_2': 0.0, 'overall': 0.5}\n",
            "INFO:tensorflow:CAV accuracies: {'random500_0': 1.0, 'random500_2': 0.0, 'overall': 0.5}\n",
            "INFO:tensorflow:Running param 20 of 24\n",
            "INFO:tensorflow:running normal. ['random500_1', 'random500_0']\n",
            "INFO:tensorflow:Loaded ./tcav_examples/discrete/kdd_sanity2/activations/acts_random500_1_dense_1 shape (2, 256)\n",
            "INFO:tensorflow:Loaded ./tcav_examples/discrete/kdd_sanity2/activations/acts_random500_0_dense_1 shape (2, 256)\n",
            "INFO:tensorflow:Loaded ./tcav_examples/discrete/kdd_sanity2/activations/acts_normal._dense_1 shape (200, 256)\n",
            "INFO:tensorflow:Training CAV ['random500_1', 'random500_0'] - dense_1 alpha 0.01\n",
            "INFO:tensorflow:training with alpha=0.01\n",
            "INFO:tensorflow:acc per class {'random500_1': 0.0, 'random500_0': 1.0, 'overall': 0.5}\n",
            "INFO:tensorflow:CAV accuracies: {'random500_1': 0.0, 'random500_0': 1.0, 'overall': 0.5}\n",
            "INFO:tensorflow:Running param 21 of 24\n",
            "INFO:tensorflow:running normal. ['random500_1', 'random500_2']\n",
            "INFO:tensorflow:Loaded ./tcav_examples/discrete/kdd_sanity2/activations/acts_random500_1_dense_1 shape (2, 256)\n",
            "INFO:tensorflow:Loaded ./tcav_examples/discrete/kdd_sanity2/activations/acts_random500_2_dense_1 shape (2, 256)\n",
            "INFO:tensorflow:Loaded ./tcav_examples/discrete/kdd_sanity2/activations/acts_normal._dense_1 shape (200, 256)\n",
            "INFO:tensorflow:Training CAV ['random500_1', 'random500_2'] - dense_1 alpha 0.01\n",
            "INFO:tensorflow:training with alpha=0.01\n",
            "INFO:tensorflow:acc per class {'random500_1': 0.0, 'random500_2': 1.0, 'overall': 0.5}\n",
            "INFO:tensorflow:CAV accuracies: {'random500_1': 0.0, 'random500_2': 1.0, 'overall': 0.5}\n",
            "INFO:tensorflow:Running param 22 of 24\n",
            "INFO:tensorflow:running normal. ['random500_2', 'random500_0']\n",
            "INFO:tensorflow:Loaded ./tcav_examples/discrete/kdd_sanity2/activations/acts_random500_2_dense_1 shape (2, 256)\n",
            "INFO:tensorflow:Loaded ./tcav_examples/discrete/kdd_sanity2/activations/acts_random500_0_dense_1 shape (2, 256)\n",
            "INFO:tensorflow:Loaded ./tcav_examples/discrete/kdd_sanity2/activations/acts_normal._dense_1 shape (200, 256)\n",
            "INFO:tensorflow:Training CAV ['random500_2', 'random500_0'] - dense_1 alpha 0.01\n",
            "INFO:tensorflow:training with alpha=0.01\n",
            "INFO:tensorflow:acc per class {'random500_2': 0.0, 'random500_0': 0.0, 'overall': 0.0}\n",
            "INFO:tensorflow:CAV accuracies: {'random500_2': 0.0, 'random500_0': 0.0, 'overall': 0.0}\n",
            "INFO:tensorflow:Running param 23 of 24\n",
            "INFO:tensorflow:running normal. ['random500_2', 'random500_1']\n",
            "INFO:tensorflow:Loaded ./tcav_examples/discrete/kdd_sanity2/activations/acts_random500_2_dense_1 shape (2, 256)\n",
            "INFO:tensorflow:Loaded ./tcav_examples/discrete/kdd_sanity2/activations/acts_random500_1_dense_1 shape (2, 256)\n",
            "INFO:tensorflow:Loaded ./tcav_examples/discrete/kdd_sanity2/activations/acts_normal._dense_1 shape (200, 256)\n",
            "INFO:tensorflow:Training CAV ['random500_2', 'random500_1'] - dense_1 alpha 0.01\n",
            "INFO:tensorflow:training with alpha=0.01\n",
            "INFO:tensorflow:acc per class {'random500_2': 0.0, 'random500_1': 1.0, 'overall': 0.5}\n",
            "INFO:tensorflow:CAV accuracies: {'random500_2': 0.0, 'random500_1': 1.0, 'overall': 0.5}\n",
            "INFO:tensorflow:Done running 24 params. Took 22.09267234802246 seconds...\n"
          ]
        }
      ],
      "source": [
        "results = my_tcav.run(overwrite=True)"
      ]
    },
    {
      "cell_type": "code",
      "execution_count": 10,
      "metadata": {},
      "outputs": [],
      "source": [
        "#results\n",
        "with open('result_test.pickle', 'wb') as handle:\n",
        "    pickle.dump(results, handle, protocol=pickle.HIGHEST_PROTOCOL)\n",
        "\n",
        "utils_plot.plot_results(results, num_random_exp=num_random_concepts_to_pick)\n",
        "\n"
      ]
    },
    {
      "cell_type": "code",
      "execution_count": 3,
      "metadata": {},
      "outputs": [],
      "source": [
        "with open('result_test.pickle', 'rb') as handle:\n",
        "    results_load = pickle.load(handle)\n",
        "\n",
        "utils_plot.plot_results(results_load, num_random_exp=num_random_concepts_to_pick)\n"
      ]
    },
    {
      "cell_type": "code",
      "execution_count": 15,
      "metadata": {
        "id": "D0PHkt5DYZJ3",
        "outputId": "e1740ca8-0300-4e00-a99f-19897468e68f"
      },
      "outputs": [
        {
          "name": "stdout",
          "output_type": "stream",
          "text": [
            "Class = normal.\n",
            "  Concept = dst_host_same_src_port_rate_less_than_one\n",
            ">>> Number of TCAV concept observations <<<\n",
            " 3\n",
            ">>> Number of TCAV random observations <<<\n",
            " 6\n",
            "    Bottleneck = dense. TCAV Score = 1.00 (+- 0.00), random was 0.33 (+- 0.47). p-val = 0.068 (not significant)\n",
            ">>> Number of TCAV concept observations <<<\n",
            " 3\n",
            ">>> Number of TCAV random observations <<<\n",
            " 6\n",
            "    Bottleneck = dense_1. TCAV Score = 1.00 (+- 0.00), random was 0.50 (+- 0.50). p-val = 0.170 (not significant)\n",
            "  Concept = dst_host_same_src_port_rate_more_than_one\n",
            ">>> Number of TCAV concept observations <<<\n",
            " 3\n",
            ">>> Number of TCAV random observations <<<\n",
            " 6\n",
            "    Bottleneck = dense. TCAV Score = 1.00 (+- 0.00), random was 0.33 (+- 0.47). p-val = 0.068 (not significant)\n",
            ">>> Number of TCAV concept observations <<<\n",
            " 3\n",
            ">>> Number of TCAV random observations <<<\n",
            " 6\n",
            "    Bottleneck = dense_1. TCAV Score = 1.00 (+- 0.00), random was 0.50 (+- 0.50). p-val = 0.170 (not significant)\n",
            ">>> result summary length<<<\n",
            " 5\n",
            ">>> # random exp <<<\n",
            " 3\n",
            ">>> index <<<\n",
            " [0.   1.05]\n",
            ">>> # concepts <<<\n",
            " 2\n",
            ">>> # bottlenecks <<<\n",
            " 2\n",
            ">>> VALS <<<\n",
            " {'bn_vals': [0.01, 0.01], 'bn_stds': [0, 0], 'significant': [False, False]}\n",
            ">>> VALS <<<\n",
            " {'bn_vals': [0.01, 0.01], 'bn_stds': [0, 0], 'significant': [False, False]}\n",
            "{'dense': {'bn_vals': [0.01, 0.01], 'bn_stds': [0, 0], 'significant': [False, False]}, 'dense_1': {'bn_vals': [0.01, 0.01], 'bn_stds': [0, 0], 'significant': [False, False]}}\n"
          ]
        },
        {
          "name": "stderr",
          "output_type": "stream",
          "text": [
            "/zhome/94/5/127021/speciale/tcav/tcav/utils_plot.py:96: RuntimeWarning: Precision loss occurred in moment calculation due to catastrophic cancellation. This occurs when the data are nearly identical. Results may be unreliable.\n",
            "  _, p_val = ttest_ind(random_i_ups[bottleneck], i_ups)\n"
          ]
        },
        {
          "data": {
            "text/plain": [
              "<Figure size 640x480 with 0 Axes>"
            ]
          },
          "metadata": {},
          "output_type": "display_data"
        },
        {
          "data": {
            "image/png": "[encoded data removed]",
            "text/plain": [
              "<Figure size 640x480 with 1 Axes>"
            ]
          },
          "metadata": {},
          "output_type": "display_data"
        }
      ],
      "source": [
        "utils_plot.plot_results(results, num_random_exp=num_random_concepts_to_pick)\n"
      ]
    },
    {
      "cell_type": "code",
      "execution_count": null,
      "metadata": {
        "id": "6G0fMWYgYZJ4"
      },
      "outputs": [],
      "source": []
    }
  ],
  "metadata": {
    "colab": {
      "name": "kdd99_discrete_example.ipynb",
      "provenance": []
    },
    "kernelspec": {
      "display_name": "Python 3.9.13 ('tcav_env')",
      "language": "python",
      "name": "python3"
    },
    "language_info": {
      "codemirror_mode": {
        "name": "ipython",
        "version": 3
      },
      "file_extension": ".py",
      "mimetype": "text/x-python",
      "name": "python",
      "nbconvert_exporter": "python",
      "pygments_lexer": "ipython3",
      "version": "3.9.13"
    },
    "pycharm": {
      "stem_cell": {
        "cell_type": "raw",
        "metadata": {
          "collapsed": false
        },
        "source": []
      }
    },
    "vscode": {
      "interpreter": {
        "hash": "71c981450b3eb46ec4971980ac675b4c821ac07572b956e8a9883f2852e4df28"
      }
    }
  },
  "nbformat": 4,
  "nbformat_minor": 0
}
