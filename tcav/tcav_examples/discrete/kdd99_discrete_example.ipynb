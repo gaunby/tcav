{
  "cells": [
    {
      "cell_type": "code",
      "execution_count": 1,
      "metadata": {
        "id": "kSnLYpZ6YZJ0"
      },
      "outputs": [
        {
          "name": "stdout",
          "output_type": "stream",
          "text": [
            "c:\\Users\\ellen\\git_master\\TCAV\\tcav\\tcav\\tcav_examples\\discrete\n",
            "C:\\Users\\ellen\\git_master\\TCAV\\tcav\n",
            "C:\\Users\\ellen\\git_master\\TCAV\\tcav\n",
            "C:\\Users\\ellen\\git_master\\TCAV\\tcav\n"
          ]
        }
      ],
      "source": [
        "# Necessary because jupyter restricts relative imports from parent directories\n",
        "import os\n",
        "print(os.getcwd())\n",
        "os.chdir('C:/Users/ellen/git_master/TCAV/tcav')\n",
        "print(os.getcwd())\n",
        "\n",
        "if os.getcwd().split('/')[-1] != 'tcav':\n",
        "    print(os.getcwd())\n",
        "    #os.chdir('../')\n",
        "    #os.chdir('../')\n",
        "    #os.chdir('../')    \n",
        "    print(os.getcwd())"
      ]
    },
    {
      "cell_type": "code",
      "execution_count": 2,
      "metadata": {
        "id": "vEnmU7H8YZJ1"
      },
      "outputs": [],
      "source": [
        "from tensorflow.io import gfile\n",
        "from tcav.tcav_examples.discrete.kdd99_activation_generator import KDD99DiscreteActivationGenerator\n",
        "from tcav.utils import create_session\n",
        "from tcav.tcav_examples.discrete.kdd99_model_wrapper import KDD99KerasModelWrapper\n"
      ]
    },
    {
      "cell_type": "code",
      "execution_count": 3,
      "metadata": {
        "id": "0mY7PFNXYZJ2"
      },
      "outputs": [],
      "source": [
        "# Make source directory, \n",
        "source_dir = \"./tcav/tcav_examples/discrete/kdd_sanity2\"\n",
        "working_dir = source_dir\n",
        "acts_dir = os.path.join(working_dir, \"activations\")\n",
        "gfile.makedirs(acts_dir)\n",
        "cav_dir = os.path.join(working_dir, \"cav\")\n",
        "gfile.makedirs(cav_dir)\n"
      ]
    },
    {
      "cell_type": "code",
      "execution_count": 18,
      "metadata": {
        "id": "Dq5zqd_VYZJ2",
        "outputId": "0cd19982-df47-4365-d2e2-23c4b7495dd3"
      },
      "outputs": [
        {
          "name": "stderr",
          "output_type": "stream",
          "text": [
            "python: can't open file 'c:\\tcav\\tcav_examples\\discrete\\make_kdd99_concepts.py': [Errno 2] No such file or directory\n"
          ]
        }
      ],
      "source": [
        "# Make data\n",
        "! python ./tcav/tcav_examples/discrete/make_kdd99_concepts.py --source_dir={source_dir}\n"
      ]
    },
    {
      "cell_type": "code",
      "execution_count": 4,
      "metadata": {
        "id": "7gN4d9WeYZJ2",
        "outputId": "21453805-3035-43a3-f98e-e16484f9ffd3"
      },
      "outputs": [
        {
          "name": "stdout",
          "output_type": "stream",
          "text": [
            "WARNING:tensorflow:From c:\\Users\\ellen\\Anaconda3\\envs\\tcav_env\\lib\\site-packages\\keras\\layers\\normalization\\batch_normalization.py:514: _colocate_with (from tensorflow.python.framework.ops) is deprecated and will be removed in a future version.\n",
            "Instructions for updating:\n",
            "Colocations handled automatically by placer.\n",
            "Model: \"model\"\n",
            "__________________________________________________________________________________________________\n",
            " Layer (type)                   Output Shape         Param #     Connected to                     \n",
            "==================================================================================================\n",
            " input (InputLayer)             [(None, 41)]         0           []                               \n",
            "                                                                                                  \n",
            " tf_op_layer_split (TensorFlowO  [(None, 1),         0           ['input[0][0]']                  \n",
            " pLayer)                         (None, 1),                                                       \n",
            "                                 (None, 1),                                                       \n",
            "                                 (None, 1),                                                       \n",
            "                                 (None, 1),                                                       \n",
            "                                 (None, 1),                                                       \n",
            "                                 (None, 1),                                                       \n",
            "                                 (None, 1),                                                       \n",
            "                                 (None, 1),                                                       \n",
            "                                 (None, 1),                                                       \n",
            "                                 (None, 1),                                                       \n",
            "                                 (None, 1),                                                       \n",
            "                                 (None, 1),                                                       \n",
            "                                 (None, 1),                                                       \n",
            "                                 (None, 1),                                                       \n",
            "                                 (None, 1),                                                       \n",
            "                                 (None, 1),                                                       \n",
            "                                 (None, 1),                                                       \n",
            "                                 (None, 1),                                                       \n",
            "                                 (None, 1),                                                       \n",
            "                                 (None, 1),                                                       \n",
            "                                 (None, 1),                                                       \n",
            "                                 (None, 1),                                                       \n",
            "                                 (None, 1),                                                       \n",
            "                                 (None, 1),                                                       \n",
            "                                 (None, 1),                                                       \n",
            "                                 (None, 1),                                                       \n",
            "                                 (None, 1),                                                       \n",
            "                                 (None, 1),                                                       \n",
            "                                 (None, 1),                                                       \n",
            "                                 (None, 1),                                                       \n",
            "                                 (None, 1),                                                       \n",
            "                                 (None, 1),                                                       \n",
            "                                 (None, 1),                                                       \n",
            "                                 (None, 1),                                                       \n",
            "                                 (None, 1),                                                       \n",
            "                                 (None, 1),                                                       \n",
            "                                 (None, 1),                                                       \n",
            "                                 (None, 1),                                                       \n",
            "                                 (None, 1),                                                       \n",
            "                                 (None, 1)]                                                       \n",
            "                                                                                                  \n",
            " embedding (Embedding)          (None, 1, 200)       600         ['tf_op_layer_split[0][1]']      \n",
            "                                                                                                  \n",
            " embedding_1 (Embedding)        (None, 1, 200)       13200       ['tf_op_layer_split[0][2]']      \n",
            "                                                                                                  \n",
            " embedding_2 (Embedding)        (None, 1, 200)       2200        ['tf_op_layer_split[0][3]']      \n",
            "                                                                                                  \n",
            " reshape (Reshape)              (None, 200)          0           ['embedding[0][0]']              \n",
            "                                                                                                  \n",
            " reshape_1 (Reshape)            (None, 200)          0           ['embedding_1[0][0]']            \n",
            "                                                                                                  \n",
            " reshape_2 (Reshape)            (None, 200)          0           ['embedding_2[0][0]']            \n",
            "                                                                                                  \n",
            " concatenate (Concatenate)      (None, 638)          0           ['tf_op_layer_split[0][0]',      \n",
            "                                                                  'reshape[0][0]',                \n",
            "                                                                  'reshape_1[0][0]',              \n",
            "                                                                  'reshape_2[0][0]',              \n",
            "                                                                  'tf_op_layer_split[0][4]',      \n",
            "                                                                  'tf_op_layer_split[0][5]',      \n",
            "                                                                  'tf_op_layer_split[0][6]',      \n",
            "                                                                  'tf_op_layer_split[0][7]',      \n",
            "                                                                  'tf_op_layer_split[0][8]',      \n",
            "                                                                  'tf_op_layer_split[0][9]',      \n",
            "                                                                  'tf_op_layer_split[0][10]',     \n",
            "                                                                  'tf_op_layer_split[0][11]',     \n",
            "                                                                  'tf_op_layer_split[0][12]',     \n",
            "                                                                  'tf_op_layer_split[0][13]',     \n",
            "                                                                  'tf_op_layer_split[0][14]',     \n",
            "                                                                  'tf_op_layer_split[0][15]',     \n",
            "                                                                  'tf_op_layer_split[0][16]',     \n",
            "                                                                  'tf_op_layer_split[0][17]',     \n",
            "                                                                  'tf_op_layer_split[0][18]',     \n",
            "                                                                  'tf_op_layer_split[0][19]',     \n",
            "                                                                  'tf_op_layer_split[0][20]',     \n",
            "                                                                  'tf_op_layer_split[0][21]',     \n",
            "                                                                  'tf_op_layer_split[0][22]',     \n",
            "                                                                  'tf_op_layer_split[0][23]',     \n",
            "                                                                  'tf_op_layer_split[0][24]',     \n",
            "                                                                  'tf_op_layer_split[0][25]',     \n",
            "                                                                  'tf_op_layer_split[0][26]',     \n",
            "                                                                  'tf_op_layer_split[0][27]',     \n",
            "                                                                  'tf_op_layer_split[0][28]',     \n",
            "                                                                  'tf_op_layer_split[0][29]',     \n",
            "                                                                  'tf_op_layer_split[0][30]',     \n",
            "                                                                  'tf_op_layer_split[0][31]',     \n",
            "                                                                  'tf_op_layer_split[0][32]',     \n",
            "                                                                  'tf_op_layer_split[0][33]',     \n",
            "                                                                  'tf_op_layer_split[0][34]',     \n",
            "                                                                  'tf_op_layer_split[0][35]',     \n",
            "                                                                  'tf_op_layer_split[0][36]',     \n",
            "                                                                  'tf_op_layer_split[0][37]',     \n",
            "                                                                  'tf_op_layer_split[0][38]',     \n",
            "                                                                  'tf_op_layer_split[0][39]',     \n",
            "                                                                  'tf_op_layer_split[0][40]']     \n",
            "                                                                                                  \n",
            " dense (Dense)                  (None, 1000)         639000      ['concatenate[0][0]']            \n",
            "                                                                                                  \n",
            " batch_normalization (BatchNorm  (None, 1000)        4000        ['dense[0][0]']                  \n",
            " alization)                                                                                       \n",
            "                                                                                                  \n",
            " dense_1 (Dense)                (None, 256)          256256      ['batch_normalization[0][0]']    \n",
            "                                                                                                  \n",
            " batch_normalization_1 (BatchNo  (None, 256)         1024        ['dense_1[0][0]']                \n",
            " rmalization)                                                                                     \n",
            "                                                                                                  \n",
            " dense_2 (Dense)                (None, 23)           5911        ['batch_normalization_1[0][0]']  \n",
            "                                                                                                  \n",
            "==================================================================================================\n",
            "Total params: 922,191\n",
            "Trainable params: 919,679\n",
            "Non-trainable params: 2,512\n",
            "__________________________________________________________________________________________________\n"
          ]
        },
        {
          "name": "stderr",
          "output_type": "stream",
          "text": [
            "c:\\Users\\ellen\\Anaconda3\\envs\\tcav_env\\lib\\site-packages\\tensorflow\\python\\util\\dispatch.py:1082: UserWarning: \"`sparse_categorical_crossentropy` received `from_logits=True`, but the `output` argument was produced by a sigmoid or softmax activation and thus does not represent logits. Was this intended?\"\n",
            "  return dispatch_target(*args, **kwargs)\n"
          ]
        },
        {
          "name": "stdout",
          "output_type": "stream",
          "text": [
            "None\n",
            "Train on 395216 samples, validate on 98805 samples\n",
            "Epoch 1/4\n",
            "395200/395216 [============================>.] - ETA: 0s - loss: 0.0555 - accuracy: 0.9873"
          ]
        },
        {
          "name": "stderr",
          "output_type": "stream",
          "text": [
            "c:\\Users\\ellen\\Anaconda3\\envs\\tcav_env\\lib\\site-packages\\keras\\engine\\training_v1.py:2045: UserWarning: `Model.state_updates` will be removed in a future version. This property should not be used in TensorFlow 2.0, as `updates` are applied automatically.\n",
            "  updates = self.state_updates\n"
          ]
        },
        {
          "name": "stdout",
          "output_type": "stream",
          "text": [
            "395216/395216 [==============================] - 62s 157us/sample - loss: 0.0555 - accuracy: 0.9873 - val_loss: 0.1909 - val_accuracy: 0.9822\n",
            "Epoch 2/4\n",
            "395216/395216 [==============================] - 65s 165us/sample - loss: 0.0304 - accuracy: 0.9907 - val_loss: 0.9187 - val_accuracy: 0.6362\n",
            "Epoch 3/4\n",
            "395216/395216 [==============================] - 65s 165us/sample - loss: 0.0254 - accuracy: 0.9905 - val_loss: 0.1551 - val_accuracy: 0.9825\n",
            "Epoch 4/4\n",
            "395216/395216 [==============================] - 68s 171us/sample - loss: 0.0219 - accuracy: 0.9909 - val_loss: 0.1989 - val_accuracy: 0.9822\n"
          ]
        },
        {
          "name": "stderr",
          "output_type": "stream",
          "text": [
            "WARNING:absl:Found untraced functions such as _defun_call while saving (showing 1 of 1). These functions will not be directly callable after loading.\n"
          ]
        },
        {
          "name": "stdout",
          "output_type": "stream",
          "text": [
            "INFO:tensorflow:Assets written to: ./tcav/tcav_examples/discrete/kdd_sanity2\\kdd99_2\\assets\n"
          ]
        },
        {
          "name": "stderr",
          "output_type": "stream",
          "text": [
            "INFO:tensorflow:Assets written to: ./tcav/tcav_examples/discrete/kdd_sanity2\\kdd99_2\\assets\n"
          ]
        },
        {
          "name": "stdout",
          "output_type": "stream",
          "text": [
            "[[9.68323171e-01 3.94759253e-02 1.94352455e-02 3.86591330e-02\n",
            "  9.99143004e-01 2.17590271e-03 1.84417870e-02 5.84396813e-03\n",
            "  6.17989838e-01 7.85638750e-01 3.17077905e-01 1.04200684e-01\n",
            "  1.70303434e-02 1.77425608e-01 1.36272246e-02 9.06843662e-01\n",
            "  3.88332680e-02 1.00442104e-01 7.92150572e-02 7.46763349e-02\n",
            "  4.68719453e-01 2.71327440e-02 6.13379814e-02]\n",
            " [9.95139718e-01 7.92459249e-02 4.10573147e-02 2.41180528e-02\n",
            "  6.25757754e-01 5.87577699e-04 1.90572627e-02 4.24945168e-02\n",
            "  1.21114753e-01 2.09117264e-01 6.33505166e-01 3.00335735e-02\n",
            "  5.50308265e-02 2.33456358e-01 3.65442708e-02 3.84970605e-01\n",
            "  7.47133568e-02 2.45472357e-01 1.05029210e-01 1.87448263e-01\n",
            "  8.73091757e-01 2.22340561e-02 9.84876677e-02]\n",
            " [9.40834999e-01 9.34011675e-03 1.97998830e-03 1.16812030e-03\n",
            "  8.02258968e-01 9.99984086e-01 7.09158182e-03 4.94321078e-01\n",
            "  1.29595369e-01 5.69137670e-02 2.67073393e-01 1.54266483e-03\n",
            "  3.60599207e-03 2.90593743e-01 2.49737874e-03 8.81841779e-02\n",
            "  3.40287760e-02 5.33234701e-02 1.37327015e-02 5.94886951e-02\n",
            "  1.36918947e-01 1.02926011e-03 1.58036705e-02]\n",
            " [9.40921366e-01 9.36637446e-03 2.01678229e-03 1.18517154e-03\n",
            "  8.05534542e-01 9.99983370e-01 7.24923471e-03 4.86691564e-01\n",
            "  1.27421796e-01 5.76734766e-02 2.67683566e-01 1.53913687e-03\n",
            "  3.67106451e-03 2.84420937e-01 2.53561046e-03 9.00556147e-02\n",
            "  3.37703414e-02 5.26576638e-02 1.37843331e-02 5.94941899e-02\n",
            "  1.41406924e-01 1.04432961e-03 1.59636810e-02]\n",
            " [9.97585177e-01 4.18868028e-02 1.15959626e-02 6.95463130e-03\n",
            "  4.48583692e-01 2.19415687e-03 6.12404617e-03 4.80200201e-02\n",
            "  3.69551219e-02 1.15003124e-01 5.13969004e-01 1.75427198e-02\n",
            "  2.37715505e-02 4.64671910e-01 1.28942104e-02 1.14984743e-01\n",
            "  1.08798854e-01 1.95295200e-01 7.87979141e-02 2.13732213e-01\n",
            "  7.88450599e-01 1.01427073e-02 6.93038106e-02]\n",
            " [9.40834999e-01 9.34011675e-03 1.97998830e-03 1.16812030e-03\n",
            "  8.02258968e-01 9.99984086e-01 7.09158182e-03 4.94321078e-01\n",
            "  1.29595369e-01 5.69137670e-02 2.67073393e-01 1.54266483e-03\n",
            "  3.60599207e-03 2.90593743e-01 2.49737874e-03 8.81841779e-02\n",
            "  3.40287760e-02 5.33234701e-02 1.37327015e-02 5.94886951e-02\n",
            "  1.36918947e-01 1.02926011e-03 1.58036705e-02]\n",
            " [9.40834999e-01 9.34011675e-03 1.97998830e-03 1.16812030e-03\n",
            "  8.02258968e-01 9.99984086e-01 7.09158182e-03 4.94321078e-01\n",
            "  1.29595369e-01 5.69137670e-02 2.67073393e-01 1.54266483e-03\n",
            "  3.60599207e-03 2.90593743e-01 2.49737874e-03 8.81841779e-02\n",
            "  3.40287760e-02 5.33234701e-02 1.37327015e-02 5.94886951e-02\n",
            "  1.36918947e-01 1.02926011e-03 1.58036705e-02]\n",
            " [9.40834999e-01 9.34011675e-03 1.97998830e-03 1.16812030e-03\n",
            "  8.02258968e-01 9.99984086e-01 7.09158182e-03 4.94321078e-01\n",
            "  1.29595369e-01 5.69137670e-02 2.67073393e-01 1.54266483e-03\n",
            "  3.60599207e-03 2.90593743e-01 2.49737874e-03 8.81841779e-02\n",
            "  3.40287760e-02 5.33234701e-02 1.37327015e-02 5.94886951e-02\n",
            "  1.36918947e-01 1.02926011e-03 1.58036705e-02]\n",
            " [9.40834999e-01 9.34011675e-03 1.97998830e-03 1.16812030e-03\n",
            "  8.02258968e-01 9.99984086e-01 7.09158182e-03 4.94321078e-01\n",
            "  1.29595369e-01 5.69137670e-02 2.67073393e-01 1.54266483e-03\n",
            "  3.60599207e-03 2.90593743e-01 2.49737874e-03 8.81841779e-02\n",
            "  3.40287760e-02 5.33234701e-02 1.37327015e-02 5.94886951e-02\n",
            "  1.36918947e-01 1.02926011e-03 1.58036705e-02]\n",
            " [9.79736745e-01 4.00530547e-02 1.76016930e-02 2.39581708e-02\n",
            "  9.91942644e-01 6.75929058e-03 1.82560813e-02 1.73488762e-02\n",
            "  3.67228329e-01 6.30493224e-01 4.21648145e-01 4.81751449e-02\n",
            "  1.87211856e-02 2.05096841e-01 1.54011361e-02 6.81777179e-01\n",
            "  4.49829176e-02 1.48156971e-01 7.23089501e-02 8.85128900e-02\n",
            "  5.45797467e-01 1.91245191e-02 5.72861694e-02]]\n"
          ]
        },
        {
          "name": "stderr",
          "output_type": "stream",
          "text": [
            "c:\\Users\\ellen\\Anaconda3\\envs\\tcav_env\\lib\\site-packages\\keras\\engine\\training_v1.py:2067: UserWarning: `Model.state_updates` will be removed in a future version. This property should not be used in TensorFlow 2.0, as `updates` are applied automatically.\n",
            "  updates=self.state_updates,\n",
            "c:\\Users\\ellen\\Anaconda3\\envs\\tcav_env\\lib\\site-packages\\tensorflow\\python\\util\\dispatch.py:1082: UserWarning: \"`sparse_categorical_crossentropy` received `from_logits=True`, but the `output` argument was produced by a sigmoid or softmax activation and thus does not represent logits. Was this intended?\"\n",
            "  return dispatch_target(*args, **kwargs)\n"
          ]
        }
      ],
      "source": [
        "# Create models\n",
        "label_path = os.path.join(source_dir, \"labels.txt\")\n",
        "model_path = os.path.join(source_dir, \"kdd99_2\") #.h5\")\n",
        "uci_model = KDD99KerasModelWrapper(create_session(), model_path, label_path)\n",
        "\n"
      ]
    },
    {
      "cell_type": "code",
      "execution_count": 5,
      "metadata": {
        "id": "TyZeQGr7YZJ3"
      },
      "outputs": [],
      "source": [
        "# Create activation generator\n",
        "act_gen = KDD99DiscreteActivationGenerator(model=uci_model, source_dir=source_dir, acts_dir=acts_dir, max_examples=200)"
      ]
    },
    {
      "cell_type": "code",
      "execution_count": 6,
      "metadata": {
        "id": "ImAqsG-iYZJ3",
        "outputId": "02233430-d173-483f-f058-e07d257e11f5"
      },
      "outputs": [
        {
          "name": "stdout",
          "output_type": "stream",
          "text": [
            "INFO:tensorflow:dense ['dst_host_same_src_port_rate_less_than_one', 'random500_0'] normal. 0.01\n"
          ]
        },
        {
          "name": "stderr",
          "output_type": "stream",
          "text": [
            "INFO:tensorflow:dense ['dst_host_same_src_port_rate_less_than_one', 'random500_0'] normal. 0.01\n"
          ]
        },
        {
          "name": "stdout",
          "output_type": "stream",
          "text": [
            "INFO:tensorflow:dense ['dst_host_same_src_port_rate_less_than_one', 'random500_1'] normal. 0.01\n"
          ]
        },
        {
          "name": "stderr",
          "output_type": "stream",
          "text": [
            "INFO:tensorflow:dense ['dst_host_same_src_port_rate_less_than_one', 'random500_1'] normal. 0.01\n"
          ]
        },
        {
          "name": "stdout",
          "output_type": "stream",
          "text": [
            "INFO:tensorflow:dense ['dst_host_same_src_port_rate_less_than_one', 'random500_2'] normal. 0.01\n"
          ]
        },
        {
          "name": "stderr",
          "output_type": "stream",
          "text": [
            "INFO:tensorflow:dense ['dst_host_same_src_port_rate_less_than_one', 'random500_2'] normal. 0.01\n"
          ]
        },
        {
          "name": "stdout",
          "output_type": "stream",
          "text": [
            "INFO:tensorflow:dense ['dst_host_same_src_port_rate_less_than_one', 'random500_3'] normal. 0.01\n"
          ]
        },
        {
          "name": "stderr",
          "output_type": "stream",
          "text": [
            "INFO:tensorflow:dense ['dst_host_same_src_port_rate_less_than_one', 'random500_3'] normal. 0.01\n"
          ]
        },
        {
          "name": "stdout",
          "output_type": "stream",
          "text": [
            "INFO:tensorflow:dense ['dst_host_same_src_port_rate_less_than_one', 'random500_4'] normal. 0.01\n"
          ]
        },
        {
          "name": "stderr",
          "output_type": "stream",
          "text": [
            "INFO:tensorflow:dense ['dst_host_same_src_port_rate_less_than_one', 'random500_4'] normal. 0.01\n"
          ]
        },
        {
          "name": "stdout",
          "output_type": "stream",
          "text": [
            "INFO:tensorflow:dense ['dst_host_same_src_port_rate_less_than_one', 'random500_5'] normal. 0.01\n"
          ]
        },
        {
          "name": "stderr",
          "output_type": "stream",
          "text": [
            "INFO:tensorflow:dense ['dst_host_same_src_port_rate_less_than_one', 'random500_5'] normal. 0.01\n"
          ]
        },
        {
          "name": "stdout",
          "output_type": "stream",
          "text": [
            "INFO:tensorflow:dense ['dst_host_same_src_port_rate_less_than_one', 'random500_6'] normal. 0.01\n"
          ]
        },
        {
          "name": "stderr",
          "output_type": "stream",
          "text": [
            "INFO:tensorflow:dense ['dst_host_same_src_port_rate_less_than_one', 'random500_6'] normal. 0.01\n"
          ]
        },
        {
          "name": "stdout",
          "output_type": "stream",
          "text": [
            "INFO:tensorflow:dense ['dst_host_same_src_port_rate_less_than_one', 'random500_7'] normal. 0.01\n"
          ]
        },
        {
          "name": "stderr",
          "output_type": "stream",
          "text": [
            "INFO:tensorflow:dense ['dst_host_same_src_port_rate_less_than_one', 'random500_7'] normal. 0.01\n"
          ]
        },
        {
          "name": "stdout",
          "output_type": "stream",
          "text": [
            "INFO:tensorflow:dense ['dst_host_same_src_port_rate_less_than_one', 'random500_8'] normal. 0.01\n"
          ]
        },
        {
          "name": "stderr",
          "output_type": "stream",
          "text": [
            "INFO:tensorflow:dense ['dst_host_same_src_port_rate_less_than_one', 'random500_8'] normal. 0.01\n"
          ]
        },
        {
          "name": "stdout",
          "output_type": "stream",
          "text": [
            "INFO:tensorflow:dense ['dst_host_same_src_port_rate_less_than_one', 'random500_9'] normal. 0.01\n"
          ]
        },
        {
          "name": "stderr",
          "output_type": "stream",
          "text": [
            "INFO:tensorflow:dense ['dst_host_same_src_port_rate_less_than_one', 'random500_9'] normal. 0.01\n"
          ]
        },
        {
          "name": "stdout",
          "output_type": "stream",
          "text": [
            "INFO:tensorflow:dense ['dst_host_same_src_port_rate_more_than_one', 'random500_0'] normal. 0.01\n"
          ]
        },
        {
          "name": "stderr",
          "output_type": "stream",
          "text": [
            "INFO:tensorflow:dense ['dst_host_same_src_port_rate_more_than_one', 'random500_0'] normal. 0.01\n"
          ]
        },
        {
          "name": "stdout",
          "output_type": "stream",
          "text": [
            "INFO:tensorflow:dense ['dst_host_same_src_port_rate_more_than_one', 'random500_1'] normal. 0.01\n"
          ]
        },
        {
          "name": "stderr",
          "output_type": "stream",
          "text": [
            "INFO:tensorflow:dense ['dst_host_same_src_port_rate_more_than_one', 'random500_1'] normal. 0.01\n"
          ]
        },
        {
          "name": "stdout",
          "output_type": "stream",
          "text": [
            "INFO:tensorflow:dense ['dst_host_same_src_port_rate_more_than_one', 'random500_2'] normal. 0.01\n"
          ]
        },
        {
          "name": "stderr",
          "output_type": "stream",
          "text": [
            "INFO:tensorflow:dense ['dst_host_same_src_port_rate_more_than_one', 'random500_2'] normal. 0.01\n"
          ]
        },
        {
          "name": "stdout",
          "output_type": "stream",
          "text": [
            "INFO:tensorflow:dense ['dst_host_same_src_port_rate_more_than_one', 'random500_3'] normal. 0.01\n"
          ]
        },
        {
          "name": "stderr",
          "output_type": "stream",
          "text": [
            "INFO:tensorflow:dense ['dst_host_same_src_port_rate_more_than_one', 'random500_3'] normal. 0.01\n"
          ]
        },
        {
          "name": "stdout",
          "output_type": "stream",
          "text": [
            "INFO:tensorflow:dense ['dst_host_same_src_port_rate_more_than_one', 'random500_4'] normal. 0.01\n"
          ]
        },
        {
          "name": "stderr",
          "output_type": "stream",
          "text": [
            "INFO:tensorflow:dense ['dst_host_same_src_port_rate_more_than_one', 'random500_4'] normal. 0.01\n"
          ]
        },
        {
          "name": "stdout",
          "output_type": "stream",
          "text": [
            "INFO:tensorflow:dense ['dst_host_same_src_port_rate_more_than_one', 'random500_5'] normal. 0.01\n"
          ]
        },
        {
          "name": "stderr",
          "output_type": "stream",
          "text": [
            "INFO:tensorflow:dense ['dst_host_same_src_port_rate_more_than_one', 'random500_5'] normal. 0.01\n"
          ]
        },
        {
          "name": "stdout",
          "output_type": "stream",
          "text": [
            "INFO:tensorflow:dense ['dst_host_same_src_port_rate_more_than_one', 'random500_6'] normal. 0.01\n"
          ]
        },
        {
          "name": "stderr",
          "output_type": "stream",
          "text": [
            "INFO:tensorflow:dense ['dst_host_same_src_port_rate_more_than_one', 'random500_6'] normal. 0.01\n"
          ]
        },
        {
          "name": "stdout",
          "output_type": "stream",
          "text": [
            "INFO:tensorflow:dense ['dst_host_same_src_port_rate_more_than_one', 'random500_7'] normal. 0.01\n"
          ]
        },
        {
          "name": "stderr",
          "output_type": "stream",
          "text": [
            "INFO:tensorflow:dense ['dst_host_same_src_port_rate_more_than_one', 'random500_7'] normal. 0.01\n"
          ]
        },
        {
          "name": "stdout",
          "output_type": "stream",
          "text": [
            "INFO:tensorflow:dense ['dst_host_same_src_port_rate_more_than_one', 'random500_8'] normal. 0.01\n"
          ]
        },
        {
          "name": "stderr",
          "output_type": "stream",
          "text": [
            "INFO:tensorflow:dense ['dst_host_same_src_port_rate_more_than_one', 'random500_8'] normal. 0.01\n"
          ]
        },
        {
          "name": "stdout",
          "output_type": "stream",
          "text": [
            "INFO:tensorflow:dense ['dst_host_same_src_port_rate_more_than_one', 'random500_9'] normal. 0.01\n"
          ]
        },
        {
          "name": "stderr",
          "output_type": "stream",
          "text": [
            "INFO:tensorflow:dense ['dst_host_same_src_port_rate_more_than_one', 'random500_9'] normal. 0.01\n"
          ]
        },
        {
          "name": "stdout",
          "output_type": "stream",
          "text": [
            "INFO:tensorflow:dense ['random500_0', 'random500_1'] normal. 0.01\n"
          ]
        },
        {
          "name": "stderr",
          "output_type": "stream",
          "text": [
            "INFO:tensorflow:dense ['random500_0', 'random500_1'] normal. 0.01\n"
          ]
        },
        {
          "name": "stdout",
          "output_type": "stream",
          "text": [
            "INFO:tensorflow:dense ['random500_0', 'random500_2'] normal. 0.01\n"
          ]
        },
        {
          "name": "stderr",
          "output_type": "stream",
          "text": [
            "INFO:tensorflow:dense ['random500_0', 'random500_2'] normal. 0.01\n"
          ]
        },
        {
          "name": "stdout",
          "output_type": "stream",
          "text": [
            "INFO:tensorflow:dense ['random500_0', 'random500_3'] normal. 0.01\n"
          ]
        },
        {
          "name": "stderr",
          "output_type": "stream",
          "text": [
            "INFO:tensorflow:dense ['random500_0', 'random500_3'] normal. 0.01\n"
          ]
        },
        {
          "name": "stdout",
          "output_type": "stream",
          "text": [
            "INFO:tensorflow:dense ['random500_0', 'random500_4'] normal. 0.01\n"
          ]
        },
        {
          "name": "stderr",
          "output_type": "stream",
          "text": [
            "INFO:tensorflow:dense ['random500_0', 'random500_4'] normal. 0.01\n"
          ]
        },
        {
          "name": "stdout",
          "output_type": "stream",
          "text": [
            "INFO:tensorflow:dense ['random500_0', 'random500_5'] normal. 0.01\n"
          ]
        },
        {
          "name": "stderr",
          "output_type": "stream",
          "text": [
            "INFO:tensorflow:dense ['random500_0', 'random500_5'] normal. 0.01\n"
          ]
        },
        {
          "name": "stdout",
          "output_type": "stream",
          "text": [
            "INFO:tensorflow:dense ['random500_0', 'random500_6'] normal. 0.01\n"
          ]
        },
        {
          "name": "stderr",
          "output_type": "stream",
          "text": [
            "INFO:tensorflow:dense ['random500_0', 'random500_6'] normal. 0.01\n"
          ]
        },
        {
          "name": "stdout",
          "output_type": "stream",
          "text": [
            "INFO:tensorflow:dense ['random500_0', 'random500_7'] normal. 0.01\n"
          ]
        },
        {
          "name": "stderr",
          "output_type": "stream",
          "text": [
            "INFO:tensorflow:dense ['random500_0', 'random500_7'] normal. 0.01\n"
          ]
        },
        {
          "name": "stdout",
          "output_type": "stream",
          "text": [
            "INFO:tensorflow:dense ['random500_0', 'random500_8'] normal. 0.01\n"
          ]
        },
        {
          "name": "stderr",
          "output_type": "stream",
          "text": [
            "INFO:tensorflow:dense ['random500_0', 'random500_8'] normal. 0.01\n"
          ]
        },
        {
          "name": "stdout",
          "output_type": "stream",
          "text": [
            "INFO:tensorflow:dense ['random500_0', 'random500_9'] normal. 0.01\n"
          ]
        },
        {
          "name": "stderr",
          "output_type": "stream",
          "text": [
            "INFO:tensorflow:dense ['random500_0', 'random500_9'] normal. 0.01\n"
          ]
        },
        {
          "name": "stdout",
          "output_type": "stream",
          "text": [
            "INFO:tensorflow:dense ['random500_1', 'random500_0'] normal. 0.01\n"
          ]
        },
        {
          "name": "stderr",
          "output_type": "stream",
          "text": [
            "INFO:tensorflow:dense ['random500_1', 'random500_0'] normal. 0.01\n"
          ]
        },
        {
          "name": "stdout",
          "output_type": "stream",
          "text": [
            "INFO:tensorflow:dense ['random500_1', 'random500_2'] normal. 0.01\n"
          ]
        },
        {
          "name": "stderr",
          "output_type": "stream",
          "text": [
            "INFO:tensorflow:dense ['random500_1', 'random500_2'] normal. 0.01\n"
          ]
        },
        {
          "name": "stdout",
          "output_type": "stream",
          "text": [
            "INFO:tensorflow:dense ['random500_1', 'random500_3'] normal. 0.01\n"
          ]
        },
        {
          "name": "stderr",
          "output_type": "stream",
          "text": [
            "INFO:tensorflow:dense ['random500_1', 'random500_3'] normal. 0.01\n"
          ]
        },
        {
          "name": "stdout",
          "output_type": "stream",
          "text": [
            "INFO:tensorflow:dense ['random500_1', 'random500_4'] normal. 0.01\n"
          ]
        },
        {
          "name": "stderr",
          "output_type": "stream",
          "text": [
            "INFO:tensorflow:dense ['random500_1', 'random500_4'] normal. 0.01\n"
          ]
        },
        {
          "name": "stdout",
          "output_type": "stream",
          "text": [
            "INFO:tensorflow:dense ['random500_1', 'random500_5'] normal. 0.01\n"
          ]
        },
        {
          "name": "stderr",
          "output_type": "stream",
          "text": [
            "INFO:tensorflow:dense ['random500_1', 'random500_5'] normal. 0.01\n"
          ]
        },
        {
          "name": "stdout",
          "output_type": "stream",
          "text": [
            "INFO:tensorflow:dense ['random500_1', 'random500_6'] normal. 0.01\n"
          ]
        },
        {
          "name": "stderr",
          "output_type": "stream",
          "text": [
            "INFO:tensorflow:dense ['random500_1', 'random500_6'] normal. 0.01\n"
          ]
        },
        {
          "name": "stdout",
          "output_type": "stream",
          "text": [
            "INFO:tensorflow:dense ['random500_1', 'random500_7'] normal. 0.01\n"
          ]
        },
        {
          "name": "stderr",
          "output_type": "stream",
          "text": [
            "INFO:tensorflow:dense ['random500_1', 'random500_7'] normal. 0.01\n"
          ]
        },
        {
          "name": "stdout",
          "output_type": "stream",
          "text": [
            "INFO:tensorflow:dense ['random500_1', 'random500_8'] normal. 0.01\n"
          ]
        },
        {
          "name": "stderr",
          "output_type": "stream",
          "text": [
            "INFO:tensorflow:dense ['random500_1', 'random500_8'] normal. 0.01\n"
          ]
        },
        {
          "name": "stdout",
          "output_type": "stream",
          "text": [
            "INFO:tensorflow:dense ['random500_1', 'random500_9'] normal. 0.01\n"
          ]
        },
        {
          "name": "stderr",
          "output_type": "stream",
          "text": [
            "INFO:tensorflow:dense ['random500_1', 'random500_9'] normal. 0.01\n"
          ]
        },
        {
          "name": "stdout",
          "output_type": "stream",
          "text": [
            "INFO:tensorflow:dense ['random500_2', 'random500_0'] normal. 0.01\n"
          ]
        },
        {
          "name": "stderr",
          "output_type": "stream",
          "text": [
            "INFO:tensorflow:dense ['random500_2', 'random500_0'] normal. 0.01\n"
          ]
        },
        {
          "name": "stdout",
          "output_type": "stream",
          "text": [
            "INFO:tensorflow:dense ['random500_2', 'random500_1'] normal. 0.01\n"
          ]
        },
        {
          "name": "stderr",
          "output_type": "stream",
          "text": [
            "INFO:tensorflow:dense ['random500_2', 'random500_1'] normal. 0.01\n"
          ]
        },
        {
          "name": "stdout",
          "output_type": "stream",
          "text": [
            "INFO:tensorflow:dense ['random500_2', 'random500_3'] normal. 0.01\n"
          ]
        },
        {
          "name": "stderr",
          "output_type": "stream",
          "text": [
            "INFO:tensorflow:dense ['random500_2', 'random500_3'] normal. 0.01\n"
          ]
        },
        {
          "name": "stdout",
          "output_type": "stream",
          "text": [
            "INFO:tensorflow:dense ['random500_2', 'random500_4'] normal. 0.01\n"
          ]
        },
        {
          "name": "stderr",
          "output_type": "stream",
          "text": [
            "INFO:tensorflow:dense ['random500_2', 'random500_4'] normal. 0.01\n"
          ]
        },
        {
          "name": "stdout",
          "output_type": "stream",
          "text": [
            "INFO:tensorflow:dense ['random500_2', 'random500_5'] normal. 0.01\n"
          ]
        },
        {
          "name": "stderr",
          "output_type": "stream",
          "text": [
            "INFO:tensorflow:dense ['random500_2', 'random500_5'] normal. 0.01\n"
          ]
        },
        {
          "name": "stdout",
          "output_type": "stream",
          "text": [
            "INFO:tensorflow:dense ['random500_2', 'random500_6'] normal. 0.01\n"
          ]
        },
        {
          "name": "stderr",
          "output_type": "stream",
          "text": [
            "INFO:tensorflow:dense ['random500_2', 'random500_6'] normal. 0.01\n"
          ]
        },
        {
          "name": "stdout",
          "output_type": "stream",
          "text": [
            "INFO:tensorflow:dense ['random500_2', 'random500_7'] normal. 0.01\n"
          ]
        },
        {
          "name": "stderr",
          "output_type": "stream",
          "text": [
            "INFO:tensorflow:dense ['random500_2', 'random500_7'] normal. 0.01\n"
          ]
        },
        {
          "name": "stdout",
          "output_type": "stream",
          "text": [
            "INFO:tensorflow:dense ['random500_2', 'random500_8'] normal. 0.01\n"
          ]
        },
        {
          "name": "stderr",
          "output_type": "stream",
          "text": [
            "INFO:tensorflow:dense ['random500_2', 'random500_8'] normal. 0.01\n"
          ]
        },
        {
          "name": "stdout",
          "output_type": "stream",
          "text": [
            "INFO:tensorflow:dense ['random500_2', 'random500_9'] normal. 0.01\n"
          ]
        },
        {
          "name": "stderr",
          "output_type": "stream",
          "text": [
            "INFO:tensorflow:dense ['random500_2', 'random500_9'] normal. 0.01\n"
          ]
        },
        {
          "name": "stdout",
          "output_type": "stream",
          "text": [
            "INFO:tensorflow:dense ['random500_3', 'random500_0'] normal. 0.01\n"
          ]
        },
        {
          "name": "stderr",
          "output_type": "stream",
          "text": [
            "INFO:tensorflow:dense ['random500_3', 'random500_0'] normal. 0.01\n"
          ]
        },
        {
          "name": "stdout",
          "output_type": "stream",
          "text": [
            "INFO:tensorflow:dense ['random500_3', 'random500_1'] normal. 0.01\n"
          ]
        },
        {
          "name": "stderr",
          "output_type": "stream",
          "text": [
            "INFO:tensorflow:dense ['random500_3', 'random500_1'] normal. 0.01\n"
          ]
        },
        {
          "name": "stdout",
          "output_type": "stream",
          "text": [
            "INFO:tensorflow:dense ['random500_3', 'random500_2'] normal. 0.01\n"
          ]
        },
        {
          "name": "stderr",
          "output_type": "stream",
          "text": [
            "INFO:tensorflow:dense ['random500_3', 'random500_2'] normal. 0.01\n"
          ]
        },
        {
          "name": "stdout",
          "output_type": "stream",
          "text": [
            "INFO:tensorflow:dense ['random500_3', 'random500_4'] normal. 0.01\n"
          ]
        },
        {
          "name": "stderr",
          "output_type": "stream",
          "text": [
            "INFO:tensorflow:dense ['random500_3', 'random500_4'] normal. 0.01\n"
          ]
        },
        {
          "name": "stdout",
          "output_type": "stream",
          "text": [
            "INFO:tensorflow:dense ['random500_3', 'random500_5'] normal. 0.01\n"
          ]
        },
        {
          "name": "stderr",
          "output_type": "stream",
          "text": [
            "INFO:tensorflow:dense ['random500_3', 'random500_5'] normal. 0.01\n"
          ]
        },
        {
          "name": "stdout",
          "output_type": "stream",
          "text": [
            "INFO:tensorflow:dense ['random500_3', 'random500_6'] normal. 0.01\n"
          ]
        },
        {
          "name": "stderr",
          "output_type": "stream",
          "text": [
            "INFO:tensorflow:dense ['random500_3', 'random500_6'] normal. 0.01\n"
          ]
        },
        {
          "name": "stdout",
          "output_type": "stream",
          "text": [
            "INFO:tensorflow:dense ['random500_3', 'random500_7'] normal. 0.01\n"
          ]
        },
        {
          "name": "stderr",
          "output_type": "stream",
          "text": [
            "INFO:tensorflow:dense ['random500_3', 'random500_7'] normal. 0.01\n"
          ]
        },
        {
          "name": "stdout",
          "output_type": "stream",
          "text": [
            "INFO:tensorflow:dense ['random500_3', 'random500_8'] normal. 0.01\n"
          ]
        },
        {
          "name": "stderr",
          "output_type": "stream",
          "text": [
            "INFO:tensorflow:dense ['random500_3', 'random500_8'] normal. 0.01\n"
          ]
        },
        {
          "name": "stdout",
          "output_type": "stream",
          "text": [
            "INFO:tensorflow:dense ['random500_3', 'random500_9'] normal. 0.01\n"
          ]
        },
        {
          "name": "stderr",
          "output_type": "stream",
          "text": [
            "INFO:tensorflow:dense ['random500_3', 'random500_9'] normal. 0.01\n"
          ]
        },
        {
          "name": "stdout",
          "output_type": "stream",
          "text": [
            "INFO:tensorflow:dense ['random500_4', 'random500_0'] normal. 0.01\n"
          ]
        },
        {
          "name": "stderr",
          "output_type": "stream",
          "text": [
            "INFO:tensorflow:dense ['random500_4', 'random500_0'] normal. 0.01\n"
          ]
        },
        {
          "name": "stdout",
          "output_type": "stream",
          "text": [
            "INFO:tensorflow:dense ['random500_4', 'random500_1'] normal. 0.01\n"
          ]
        },
        {
          "name": "stderr",
          "output_type": "stream",
          "text": [
            "INFO:tensorflow:dense ['random500_4', 'random500_1'] normal. 0.01\n"
          ]
        },
        {
          "name": "stdout",
          "output_type": "stream",
          "text": [
            "INFO:tensorflow:dense ['random500_4', 'random500_2'] normal. 0.01\n"
          ]
        },
        {
          "name": "stderr",
          "output_type": "stream",
          "text": [
            "INFO:tensorflow:dense ['random500_4', 'random500_2'] normal. 0.01\n"
          ]
        },
        {
          "name": "stdout",
          "output_type": "stream",
          "text": [
            "INFO:tensorflow:dense ['random500_4', 'random500_3'] normal. 0.01\n"
          ]
        },
        {
          "name": "stderr",
          "output_type": "stream",
          "text": [
            "INFO:tensorflow:dense ['random500_4', 'random500_3'] normal. 0.01\n"
          ]
        },
        {
          "name": "stdout",
          "output_type": "stream",
          "text": [
            "INFO:tensorflow:dense ['random500_4', 'random500_5'] normal. 0.01\n"
          ]
        },
        {
          "name": "stderr",
          "output_type": "stream",
          "text": [
            "INFO:tensorflow:dense ['random500_4', 'random500_5'] normal. 0.01\n"
          ]
        },
        {
          "name": "stdout",
          "output_type": "stream",
          "text": [
            "INFO:tensorflow:dense ['random500_4', 'random500_6'] normal. 0.01\n"
          ]
        },
        {
          "name": "stderr",
          "output_type": "stream",
          "text": [
            "INFO:tensorflow:dense ['random500_4', 'random500_6'] normal. 0.01\n"
          ]
        },
        {
          "name": "stdout",
          "output_type": "stream",
          "text": [
            "INFO:tensorflow:dense ['random500_4', 'random500_7'] normal. 0.01\n"
          ]
        },
        {
          "name": "stderr",
          "output_type": "stream",
          "text": [
            "INFO:tensorflow:dense ['random500_4', 'random500_7'] normal. 0.01\n"
          ]
        },
        {
          "name": "stdout",
          "output_type": "stream",
          "text": [
            "INFO:tensorflow:dense ['random500_4', 'random500_8'] normal. 0.01\n"
          ]
        },
        {
          "name": "stderr",
          "output_type": "stream",
          "text": [
            "INFO:tensorflow:dense ['random500_4', 'random500_8'] normal. 0.01\n"
          ]
        },
        {
          "name": "stdout",
          "output_type": "stream",
          "text": [
            "INFO:tensorflow:dense ['random500_4', 'random500_9'] normal. 0.01\n"
          ]
        },
        {
          "name": "stderr",
          "output_type": "stream",
          "text": [
            "INFO:tensorflow:dense ['random500_4', 'random500_9'] normal. 0.01\n"
          ]
        },
        {
          "name": "stdout",
          "output_type": "stream",
          "text": [
            "INFO:tensorflow:dense ['random500_5', 'random500_0'] normal. 0.01\n"
          ]
        },
        {
          "name": "stderr",
          "output_type": "stream",
          "text": [
            "INFO:tensorflow:dense ['random500_5', 'random500_0'] normal. 0.01\n"
          ]
        },
        {
          "name": "stdout",
          "output_type": "stream",
          "text": [
            "INFO:tensorflow:dense ['random500_5', 'random500_1'] normal. 0.01\n"
          ]
        },
        {
          "name": "stderr",
          "output_type": "stream",
          "text": [
            "INFO:tensorflow:dense ['random500_5', 'random500_1'] normal. 0.01\n"
          ]
        },
        {
          "name": "stdout",
          "output_type": "stream",
          "text": [
            "INFO:tensorflow:dense ['random500_5', 'random500_2'] normal. 0.01\n"
          ]
        },
        {
          "name": "stderr",
          "output_type": "stream",
          "text": [
            "INFO:tensorflow:dense ['random500_5', 'random500_2'] normal. 0.01\n"
          ]
        },
        {
          "name": "stdout",
          "output_type": "stream",
          "text": [
            "INFO:tensorflow:dense ['random500_5', 'random500_3'] normal. 0.01\n"
          ]
        },
        {
          "name": "stderr",
          "output_type": "stream",
          "text": [
            "INFO:tensorflow:dense ['random500_5', 'random500_3'] normal. 0.01\n"
          ]
        },
        {
          "name": "stdout",
          "output_type": "stream",
          "text": [
            "INFO:tensorflow:dense ['random500_5', 'random500_4'] normal. 0.01\n"
          ]
        },
        {
          "name": "stderr",
          "output_type": "stream",
          "text": [
            "INFO:tensorflow:dense ['random500_5', 'random500_4'] normal. 0.01\n"
          ]
        },
        {
          "name": "stdout",
          "output_type": "stream",
          "text": [
            "INFO:tensorflow:dense ['random500_5', 'random500_6'] normal. 0.01\n"
          ]
        },
        {
          "name": "stderr",
          "output_type": "stream",
          "text": [
            "INFO:tensorflow:dense ['random500_5', 'random500_6'] normal. 0.01\n"
          ]
        },
        {
          "name": "stdout",
          "output_type": "stream",
          "text": [
            "INFO:tensorflow:dense ['random500_5', 'random500_7'] normal. 0.01\n"
          ]
        },
        {
          "name": "stderr",
          "output_type": "stream",
          "text": [
            "INFO:tensorflow:dense ['random500_5', 'random500_7'] normal. 0.01\n"
          ]
        },
        {
          "name": "stdout",
          "output_type": "stream",
          "text": [
            "INFO:tensorflow:dense ['random500_5', 'random500_8'] normal. 0.01\n"
          ]
        },
        {
          "name": "stderr",
          "output_type": "stream",
          "text": [
            "INFO:tensorflow:dense ['random500_5', 'random500_8'] normal. 0.01\n"
          ]
        },
        {
          "name": "stdout",
          "output_type": "stream",
          "text": [
            "INFO:tensorflow:dense ['random500_5', 'random500_9'] normal. 0.01\n"
          ]
        },
        {
          "name": "stderr",
          "output_type": "stream",
          "text": [
            "INFO:tensorflow:dense ['random500_5', 'random500_9'] normal. 0.01\n"
          ]
        },
        {
          "name": "stdout",
          "output_type": "stream",
          "text": [
            "INFO:tensorflow:dense ['random500_6', 'random500_0'] normal. 0.01\n"
          ]
        },
        {
          "name": "stderr",
          "output_type": "stream",
          "text": [
            "INFO:tensorflow:dense ['random500_6', 'random500_0'] normal. 0.01\n"
          ]
        },
        {
          "name": "stdout",
          "output_type": "stream",
          "text": [
            "INFO:tensorflow:dense ['random500_6', 'random500_1'] normal. 0.01\n"
          ]
        },
        {
          "name": "stderr",
          "output_type": "stream",
          "text": [
            "INFO:tensorflow:dense ['random500_6', 'random500_1'] normal. 0.01\n"
          ]
        },
        {
          "name": "stdout",
          "output_type": "stream",
          "text": [
            "INFO:tensorflow:dense ['random500_6', 'random500_2'] normal. 0.01\n"
          ]
        },
        {
          "name": "stderr",
          "output_type": "stream",
          "text": [
            "INFO:tensorflow:dense ['random500_6', 'random500_2'] normal. 0.01\n"
          ]
        },
        {
          "name": "stdout",
          "output_type": "stream",
          "text": [
            "INFO:tensorflow:dense ['random500_6', 'random500_3'] normal. 0.01\n"
          ]
        },
        {
          "name": "stderr",
          "output_type": "stream",
          "text": [
            "INFO:tensorflow:dense ['random500_6', 'random500_3'] normal. 0.01\n"
          ]
        },
        {
          "name": "stdout",
          "output_type": "stream",
          "text": [
            "INFO:tensorflow:dense ['random500_6', 'random500_4'] normal. 0.01\n"
          ]
        },
        {
          "name": "stderr",
          "output_type": "stream",
          "text": [
            "INFO:tensorflow:dense ['random500_6', 'random500_4'] normal. 0.01\n"
          ]
        },
        {
          "name": "stdout",
          "output_type": "stream",
          "text": [
            "INFO:tensorflow:dense ['random500_6', 'random500_5'] normal. 0.01\n"
          ]
        },
        {
          "name": "stderr",
          "output_type": "stream",
          "text": [
            "INFO:tensorflow:dense ['random500_6', 'random500_5'] normal. 0.01\n"
          ]
        },
        {
          "name": "stdout",
          "output_type": "stream",
          "text": [
            "INFO:tensorflow:dense ['random500_6', 'random500_7'] normal. 0.01\n"
          ]
        },
        {
          "name": "stderr",
          "output_type": "stream",
          "text": [
            "INFO:tensorflow:dense ['random500_6', 'random500_7'] normal. 0.01\n"
          ]
        },
        {
          "name": "stdout",
          "output_type": "stream",
          "text": [
            "INFO:tensorflow:dense ['random500_6', 'random500_8'] normal. 0.01\n"
          ]
        },
        {
          "name": "stderr",
          "output_type": "stream",
          "text": [
            "INFO:tensorflow:dense ['random500_6', 'random500_8'] normal. 0.01\n"
          ]
        },
        {
          "name": "stdout",
          "output_type": "stream",
          "text": [
            "INFO:tensorflow:dense ['random500_6', 'random500_9'] normal. 0.01\n"
          ]
        },
        {
          "name": "stderr",
          "output_type": "stream",
          "text": [
            "INFO:tensorflow:dense ['random500_6', 'random500_9'] normal. 0.01\n"
          ]
        },
        {
          "name": "stdout",
          "output_type": "stream",
          "text": [
            "INFO:tensorflow:dense ['random500_7', 'random500_0'] normal. 0.01\n"
          ]
        },
        {
          "name": "stderr",
          "output_type": "stream",
          "text": [
            "INFO:tensorflow:dense ['random500_7', 'random500_0'] normal. 0.01\n"
          ]
        },
        {
          "name": "stdout",
          "output_type": "stream",
          "text": [
            "INFO:tensorflow:dense ['random500_7', 'random500_1'] normal. 0.01\n"
          ]
        },
        {
          "name": "stderr",
          "output_type": "stream",
          "text": [
            "INFO:tensorflow:dense ['random500_7', 'random500_1'] normal. 0.01\n"
          ]
        },
        {
          "name": "stdout",
          "output_type": "stream",
          "text": [
            "INFO:tensorflow:dense ['random500_7', 'random500_2'] normal. 0.01\n"
          ]
        },
        {
          "name": "stderr",
          "output_type": "stream",
          "text": [
            "INFO:tensorflow:dense ['random500_7', 'random500_2'] normal. 0.01\n"
          ]
        },
        {
          "name": "stdout",
          "output_type": "stream",
          "text": [
            "INFO:tensorflow:dense ['random500_7', 'random500_3'] normal. 0.01\n"
          ]
        },
        {
          "name": "stderr",
          "output_type": "stream",
          "text": [
            "INFO:tensorflow:dense ['random500_7', 'random500_3'] normal. 0.01\n"
          ]
        },
        {
          "name": "stdout",
          "output_type": "stream",
          "text": [
            "INFO:tensorflow:dense ['random500_7', 'random500_4'] normal. 0.01\n"
          ]
        },
        {
          "name": "stderr",
          "output_type": "stream",
          "text": [
            "INFO:tensorflow:dense ['random500_7', 'random500_4'] normal. 0.01\n"
          ]
        },
        {
          "name": "stdout",
          "output_type": "stream",
          "text": [
            "INFO:tensorflow:dense ['random500_7', 'random500_5'] normal. 0.01\n"
          ]
        },
        {
          "name": "stderr",
          "output_type": "stream",
          "text": [
            "INFO:tensorflow:dense ['random500_7', 'random500_5'] normal. 0.01\n"
          ]
        },
        {
          "name": "stdout",
          "output_type": "stream",
          "text": [
            "INFO:tensorflow:dense ['random500_7', 'random500_6'] normal. 0.01\n"
          ]
        },
        {
          "name": "stderr",
          "output_type": "stream",
          "text": [
            "INFO:tensorflow:dense ['random500_7', 'random500_6'] normal. 0.01\n"
          ]
        },
        {
          "name": "stdout",
          "output_type": "stream",
          "text": [
            "INFO:tensorflow:dense ['random500_7', 'random500_8'] normal. 0.01\n"
          ]
        },
        {
          "name": "stderr",
          "output_type": "stream",
          "text": [
            "INFO:tensorflow:dense ['random500_7', 'random500_8'] normal. 0.01\n"
          ]
        },
        {
          "name": "stdout",
          "output_type": "stream",
          "text": [
            "INFO:tensorflow:dense ['random500_7', 'random500_9'] normal. 0.01\n"
          ]
        },
        {
          "name": "stderr",
          "output_type": "stream",
          "text": [
            "INFO:tensorflow:dense ['random500_7', 'random500_9'] normal. 0.01\n"
          ]
        },
        {
          "name": "stdout",
          "output_type": "stream",
          "text": [
            "INFO:tensorflow:dense ['random500_8', 'random500_0'] normal. 0.01\n"
          ]
        },
        {
          "name": "stderr",
          "output_type": "stream",
          "text": [
            "INFO:tensorflow:dense ['random500_8', 'random500_0'] normal. 0.01\n"
          ]
        },
        {
          "name": "stdout",
          "output_type": "stream",
          "text": [
            "INFO:tensorflow:dense ['random500_8', 'random500_1'] normal. 0.01\n"
          ]
        },
        {
          "name": "stderr",
          "output_type": "stream",
          "text": [
            "INFO:tensorflow:dense ['random500_8', 'random500_1'] normal. 0.01\n"
          ]
        },
        {
          "name": "stdout",
          "output_type": "stream",
          "text": [
            "INFO:tensorflow:dense ['random500_8', 'random500_2'] normal. 0.01\n"
          ]
        },
        {
          "name": "stderr",
          "output_type": "stream",
          "text": [
            "INFO:tensorflow:dense ['random500_8', 'random500_2'] normal. 0.01\n"
          ]
        },
        {
          "name": "stdout",
          "output_type": "stream",
          "text": [
            "INFO:tensorflow:dense ['random500_8', 'random500_3'] normal. 0.01\n"
          ]
        },
        {
          "name": "stderr",
          "output_type": "stream",
          "text": [
            "INFO:tensorflow:dense ['random500_8', 'random500_3'] normal. 0.01\n"
          ]
        },
        {
          "name": "stdout",
          "output_type": "stream",
          "text": [
            "INFO:tensorflow:dense ['random500_8', 'random500_4'] normal. 0.01\n"
          ]
        },
        {
          "name": "stderr",
          "output_type": "stream",
          "text": [
            "INFO:tensorflow:dense ['random500_8', 'random500_4'] normal. 0.01\n"
          ]
        },
        {
          "name": "stdout",
          "output_type": "stream",
          "text": [
            "INFO:tensorflow:dense ['random500_8', 'random500_5'] normal. 0.01\n"
          ]
        },
        {
          "name": "stderr",
          "output_type": "stream",
          "text": [
            "INFO:tensorflow:dense ['random500_8', 'random500_5'] normal. 0.01\n"
          ]
        },
        {
          "name": "stdout",
          "output_type": "stream",
          "text": [
            "INFO:tensorflow:dense ['random500_8', 'random500_6'] normal. 0.01\n"
          ]
        },
        {
          "name": "stderr",
          "output_type": "stream",
          "text": [
            "INFO:tensorflow:dense ['random500_8', 'random500_6'] normal. 0.01\n"
          ]
        },
        {
          "name": "stdout",
          "output_type": "stream",
          "text": [
            "INFO:tensorflow:dense ['random500_8', 'random500_7'] normal. 0.01\n"
          ]
        },
        {
          "name": "stderr",
          "output_type": "stream",
          "text": [
            "INFO:tensorflow:dense ['random500_8', 'random500_7'] normal. 0.01\n"
          ]
        },
        {
          "name": "stdout",
          "output_type": "stream",
          "text": [
            "INFO:tensorflow:dense ['random500_8', 'random500_9'] normal. 0.01\n"
          ]
        },
        {
          "name": "stderr",
          "output_type": "stream",
          "text": [
            "INFO:tensorflow:dense ['random500_8', 'random500_9'] normal. 0.01\n"
          ]
        },
        {
          "name": "stdout",
          "output_type": "stream",
          "text": [
            "INFO:tensorflow:dense ['random500_9', 'random500_0'] normal. 0.01\n"
          ]
        },
        {
          "name": "stderr",
          "output_type": "stream",
          "text": [
            "INFO:tensorflow:dense ['random500_9', 'random500_0'] normal. 0.01\n"
          ]
        },
        {
          "name": "stdout",
          "output_type": "stream",
          "text": [
            "INFO:tensorflow:dense ['random500_9', 'random500_1'] normal. 0.01\n"
          ]
        },
        {
          "name": "stderr",
          "output_type": "stream",
          "text": [
            "INFO:tensorflow:dense ['random500_9', 'random500_1'] normal. 0.01\n"
          ]
        },
        {
          "name": "stdout",
          "output_type": "stream",
          "text": [
            "INFO:tensorflow:dense ['random500_9', 'random500_2'] normal. 0.01\n"
          ]
        },
        {
          "name": "stderr",
          "output_type": "stream",
          "text": [
            "INFO:tensorflow:dense ['random500_9', 'random500_2'] normal. 0.01\n"
          ]
        },
        {
          "name": "stdout",
          "output_type": "stream",
          "text": [
            "INFO:tensorflow:dense ['random500_9', 'random500_3'] normal. 0.01\n"
          ]
        },
        {
          "name": "stderr",
          "output_type": "stream",
          "text": [
            "INFO:tensorflow:dense ['random500_9', 'random500_3'] normal. 0.01\n"
          ]
        },
        {
          "name": "stdout",
          "output_type": "stream",
          "text": [
            "INFO:tensorflow:dense ['random500_9', 'random500_4'] normal. 0.01\n"
          ]
        },
        {
          "name": "stderr",
          "output_type": "stream",
          "text": [
            "INFO:tensorflow:dense ['random500_9', 'random500_4'] normal. 0.01\n"
          ]
        },
        {
          "name": "stdout",
          "output_type": "stream",
          "text": [
            "INFO:tensorflow:dense ['random500_9', 'random500_5'] normal. 0.01\n"
          ]
        },
        {
          "name": "stderr",
          "output_type": "stream",
          "text": [
            "INFO:tensorflow:dense ['random500_9', 'random500_5'] normal. 0.01\n"
          ]
        },
        {
          "name": "stdout",
          "output_type": "stream",
          "text": [
            "INFO:tensorflow:dense ['random500_9', 'random500_6'] normal. 0.01\n"
          ]
        },
        {
          "name": "stderr",
          "output_type": "stream",
          "text": [
            "INFO:tensorflow:dense ['random500_9', 'random500_6'] normal. 0.01\n"
          ]
        },
        {
          "name": "stdout",
          "output_type": "stream",
          "text": [
            "INFO:tensorflow:dense ['random500_9', 'random500_7'] normal. 0.01\n"
          ]
        },
        {
          "name": "stderr",
          "output_type": "stream",
          "text": [
            "INFO:tensorflow:dense ['random500_9', 'random500_7'] normal. 0.01\n"
          ]
        },
        {
          "name": "stdout",
          "output_type": "stream",
          "text": [
            "INFO:tensorflow:dense ['random500_9', 'random500_8'] normal. 0.01\n"
          ]
        },
        {
          "name": "stderr",
          "output_type": "stream",
          "text": [
            "INFO:tensorflow:dense ['random500_9', 'random500_8'] normal. 0.01\n"
          ]
        },
        {
          "name": "stdout",
          "output_type": "stream",
          "text": [
            "INFO:tensorflow:dense_1 ['dst_host_same_src_port_rate_less_than_one', 'random500_0'] normal. 0.01\n"
          ]
        },
        {
          "name": "stderr",
          "output_type": "stream",
          "text": [
            "INFO:tensorflow:dense_1 ['dst_host_same_src_port_rate_less_than_one', 'random500_0'] normal. 0.01\n"
          ]
        },
        {
          "name": "stdout",
          "output_type": "stream",
          "text": [
            "INFO:tensorflow:dense_1 ['dst_host_same_src_port_rate_less_than_one', 'random500_1'] normal. 0.01\n"
          ]
        },
        {
          "name": "stderr",
          "output_type": "stream",
          "text": [
            "INFO:tensorflow:dense_1 ['dst_host_same_src_port_rate_less_than_one', 'random500_1'] normal. 0.01\n"
          ]
        },
        {
          "name": "stdout",
          "output_type": "stream",
          "text": [
            "INFO:tensorflow:dense_1 ['dst_host_same_src_port_rate_less_than_one', 'random500_2'] normal. 0.01\n"
          ]
        },
        {
          "name": "stderr",
          "output_type": "stream",
          "text": [
            "INFO:tensorflow:dense_1 ['dst_host_same_src_port_rate_less_than_one', 'random500_2'] normal. 0.01\n"
          ]
        },
        {
          "name": "stdout",
          "output_type": "stream",
          "text": [
            "INFO:tensorflow:dense_1 ['dst_host_same_src_port_rate_less_than_one', 'random500_3'] normal. 0.01\n"
          ]
        },
        {
          "name": "stderr",
          "output_type": "stream",
          "text": [
            "INFO:tensorflow:dense_1 ['dst_host_same_src_port_rate_less_than_one', 'random500_3'] normal. 0.01\n"
          ]
        },
        {
          "name": "stdout",
          "output_type": "stream",
          "text": [
            "INFO:tensorflow:dense_1 ['dst_host_same_src_port_rate_less_than_one', 'random500_4'] normal. 0.01\n"
          ]
        },
        {
          "name": "stderr",
          "output_type": "stream",
          "text": [
            "INFO:tensorflow:dense_1 ['dst_host_same_src_port_rate_less_than_one', 'random500_4'] normal. 0.01\n"
          ]
        },
        {
          "name": "stdout",
          "output_type": "stream",
          "text": [
            "INFO:tensorflow:dense_1 ['dst_host_same_src_port_rate_less_than_one', 'random500_5'] normal. 0.01\n"
          ]
        },
        {
          "name": "stderr",
          "output_type": "stream",
          "text": [
            "INFO:tensorflow:dense_1 ['dst_host_same_src_port_rate_less_than_one', 'random500_5'] normal. 0.01\n"
          ]
        },
        {
          "name": "stdout",
          "output_type": "stream",
          "text": [
            "INFO:tensorflow:dense_1 ['dst_host_same_src_port_rate_less_than_one', 'random500_6'] normal. 0.01\n"
          ]
        },
        {
          "name": "stderr",
          "output_type": "stream",
          "text": [
            "INFO:tensorflow:dense_1 ['dst_host_same_src_port_rate_less_than_one', 'random500_6'] normal. 0.01\n"
          ]
        },
        {
          "name": "stdout",
          "output_type": "stream",
          "text": [
            "INFO:tensorflow:dense_1 ['dst_host_same_src_port_rate_less_than_one', 'random500_7'] normal. 0.01\n"
          ]
        },
        {
          "name": "stderr",
          "output_type": "stream",
          "text": [
            "INFO:tensorflow:dense_1 ['dst_host_same_src_port_rate_less_than_one', 'random500_7'] normal. 0.01\n"
          ]
        },
        {
          "name": "stdout",
          "output_type": "stream",
          "text": [
            "INFO:tensorflow:dense_1 ['dst_host_same_src_port_rate_less_than_one', 'random500_8'] normal. 0.01\n"
          ]
        },
        {
          "name": "stderr",
          "output_type": "stream",
          "text": [
            "INFO:tensorflow:dense_1 ['dst_host_same_src_port_rate_less_than_one', 'random500_8'] normal. 0.01\n"
          ]
        },
        {
          "name": "stdout",
          "output_type": "stream",
          "text": [
            "INFO:tensorflow:dense_1 ['dst_host_same_src_port_rate_less_than_one', 'random500_9'] normal. 0.01\n"
          ]
        },
        {
          "name": "stderr",
          "output_type": "stream",
          "text": [
            "INFO:tensorflow:dense_1 ['dst_host_same_src_port_rate_less_than_one', 'random500_9'] normal. 0.01\n"
          ]
        },
        {
          "name": "stdout",
          "output_type": "stream",
          "text": [
            "INFO:tensorflow:dense_1 ['dst_host_same_src_port_rate_more_than_one', 'random500_0'] normal. 0.01\n"
          ]
        },
        {
          "name": "stderr",
          "output_type": "stream",
          "text": [
            "INFO:tensorflow:dense_1 ['dst_host_same_src_port_rate_more_than_one', 'random500_0'] normal. 0.01\n"
          ]
        },
        {
          "name": "stdout",
          "output_type": "stream",
          "text": [
            "INFO:tensorflow:dense_1 ['dst_host_same_src_port_rate_more_than_one', 'random500_1'] normal. 0.01\n"
          ]
        },
        {
          "name": "stderr",
          "output_type": "stream",
          "text": [
            "INFO:tensorflow:dense_1 ['dst_host_same_src_port_rate_more_than_one', 'random500_1'] normal. 0.01\n"
          ]
        },
        {
          "name": "stdout",
          "output_type": "stream",
          "text": [
            "INFO:tensorflow:dense_1 ['dst_host_same_src_port_rate_more_than_one', 'random500_2'] normal. 0.01\n"
          ]
        },
        {
          "name": "stderr",
          "output_type": "stream",
          "text": [
            "INFO:tensorflow:dense_1 ['dst_host_same_src_port_rate_more_than_one', 'random500_2'] normal. 0.01\n"
          ]
        },
        {
          "name": "stdout",
          "output_type": "stream",
          "text": [
            "INFO:tensorflow:dense_1 ['dst_host_same_src_port_rate_more_than_one', 'random500_3'] normal. 0.01\n"
          ]
        },
        {
          "name": "stderr",
          "output_type": "stream",
          "text": [
            "INFO:tensorflow:dense_1 ['dst_host_same_src_port_rate_more_than_one', 'random500_3'] normal. 0.01\n"
          ]
        },
        {
          "name": "stdout",
          "output_type": "stream",
          "text": [
            "INFO:tensorflow:dense_1 ['dst_host_same_src_port_rate_more_than_one', 'random500_4'] normal. 0.01\n"
          ]
        },
        {
          "name": "stderr",
          "output_type": "stream",
          "text": [
            "INFO:tensorflow:dense_1 ['dst_host_same_src_port_rate_more_than_one', 'random500_4'] normal. 0.01\n"
          ]
        },
        {
          "name": "stdout",
          "output_type": "stream",
          "text": [
            "INFO:tensorflow:dense_1 ['dst_host_same_src_port_rate_more_than_one', 'random500_5'] normal. 0.01\n"
          ]
        },
        {
          "name": "stderr",
          "output_type": "stream",
          "text": [
            "INFO:tensorflow:dense_1 ['dst_host_same_src_port_rate_more_than_one', 'random500_5'] normal. 0.01\n"
          ]
        },
        {
          "name": "stdout",
          "output_type": "stream",
          "text": [
            "INFO:tensorflow:dense_1 ['dst_host_same_src_port_rate_more_than_one', 'random500_6'] normal. 0.01\n"
          ]
        },
        {
          "name": "stderr",
          "output_type": "stream",
          "text": [
            "INFO:tensorflow:dense_1 ['dst_host_same_src_port_rate_more_than_one', 'random500_6'] normal. 0.01\n"
          ]
        },
        {
          "name": "stdout",
          "output_type": "stream",
          "text": [
            "INFO:tensorflow:dense_1 ['dst_host_same_src_port_rate_more_than_one', 'random500_7'] normal. 0.01\n"
          ]
        },
        {
          "name": "stderr",
          "output_type": "stream",
          "text": [
            "INFO:tensorflow:dense_1 ['dst_host_same_src_port_rate_more_than_one', 'random500_7'] normal. 0.01\n"
          ]
        },
        {
          "name": "stdout",
          "output_type": "stream",
          "text": [
            "INFO:tensorflow:dense_1 ['dst_host_same_src_port_rate_more_than_one', 'random500_8'] normal. 0.01\n"
          ]
        },
        {
          "name": "stderr",
          "output_type": "stream",
          "text": [
            "INFO:tensorflow:dense_1 ['dst_host_same_src_port_rate_more_than_one', 'random500_8'] normal. 0.01\n"
          ]
        },
        {
          "name": "stdout",
          "output_type": "stream",
          "text": [
            "INFO:tensorflow:dense_1 ['dst_host_same_src_port_rate_more_than_one', 'random500_9'] normal. 0.01\n"
          ]
        },
        {
          "name": "stderr",
          "output_type": "stream",
          "text": [
            "INFO:tensorflow:dense_1 ['dst_host_same_src_port_rate_more_than_one', 'random500_9'] normal. 0.01\n"
          ]
        },
        {
          "name": "stdout",
          "output_type": "stream",
          "text": [
            "INFO:tensorflow:dense_1 ['random500_0', 'random500_1'] normal. 0.01\n"
          ]
        },
        {
          "name": "stderr",
          "output_type": "stream",
          "text": [
            "INFO:tensorflow:dense_1 ['random500_0', 'random500_1'] normal. 0.01\n"
          ]
        },
        {
          "name": "stdout",
          "output_type": "stream",
          "text": [
            "INFO:tensorflow:dense_1 ['random500_0', 'random500_2'] normal. 0.01\n"
          ]
        },
        {
          "name": "stderr",
          "output_type": "stream",
          "text": [
            "INFO:tensorflow:dense_1 ['random500_0', 'random500_2'] normal. 0.01\n"
          ]
        },
        {
          "name": "stdout",
          "output_type": "stream",
          "text": [
            "INFO:tensorflow:dense_1 ['random500_0', 'random500_3'] normal. 0.01\n"
          ]
        },
        {
          "name": "stderr",
          "output_type": "stream",
          "text": [
            "INFO:tensorflow:dense_1 ['random500_0', 'random500_3'] normal. 0.01\n"
          ]
        },
        {
          "name": "stdout",
          "output_type": "stream",
          "text": [
            "INFO:tensorflow:dense_1 ['random500_0', 'random500_4'] normal. 0.01\n"
          ]
        },
        {
          "name": "stderr",
          "output_type": "stream",
          "text": [
            "INFO:tensorflow:dense_1 ['random500_0', 'random500_4'] normal. 0.01\n"
          ]
        },
        {
          "name": "stdout",
          "output_type": "stream",
          "text": [
            "INFO:tensorflow:dense_1 ['random500_0', 'random500_5'] normal. 0.01\n"
          ]
        },
        {
          "name": "stderr",
          "output_type": "stream",
          "text": [
            "INFO:tensorflow:dense_1 ['random500_0', 'random500_5'] normal. 0.01\n"
          ]
        },
        {
          "name": "stdout",
          "output_type": "stream",
          "text": [
            "INFO:tensorflow:dense_1 ['random500_0', 'random500_6'] normal. 0.01\n"
          ]
        },
        {
          "name": "stderr",
          "output_type": "stream",
          "text": [
            "INFO:tensorflow:dense_1 ['random500_0', 'random500_6'] normal. 0.01\n"
          ]
        },
        {
          "name": "stdout",
          "output_type": "stream",
          "text": [
            "INFO:tensorflow:dense_1 ['random500_0', 'random500_7'] normal. 0.01\n"
          ]
        },
        {
          "name": "stderr",
          "output_type": "stream",
          "text": [
            "INFO:tensorflow:dense_1 ['random500_0', 'random500_7'] normal. 0.01\n"
          ]
        },
        {
          "name": "stdout",
          "output_type": "stream",
          "text": [
            "INFO:tensorflow:dense_1 ['random500_0', 'random500_8'] normal. 0.01\n"
          ]
        },
        {
          "name": "stderr",
          "output_type": "stream",
          "text": [
            "INFO:tensorflow:dense_1 ['random500_0', 'random500_8'] normal. 0.01\n"
          ]
        },
        {
          "name": "stdout",
          "output_type": "stream",
          "text": [
            "INFO:tensorflow:dense_1 ['random500_0', 'random500_9'] normal. 0.01\n"
          ]
        },
        {
          "name": "stderr",
          "output_type": "stream",
          "text": [
            "INFO:tensorflow:dense_1 ['random500_0', 'random500_9'] normal. 0.01\n"
          ]
        },
        {
          "name": "stdout",
          "output_type": "stream",
          "text": [
            "INFO:tensorflow:dense_1 ['random500_1', 'random500_0'] normal. 0.01\n"
          ]
        },
        {
          "name": "stderr",
          "output_type": "stream",
          "text": [
            "INFO:tensorflow:dense_1 ['random500_1', 'random500_0'] normal. 0.01\n"
          ]
        },
        {
          "name": "stdout",
          "output_type": "stream",
          "text": [
            "INFO:tensorflow:dense_1 ['random500_1', 'random500_2'] normal. 0.01\n"
          ]
        },
        {
          "name": "stderr",
          "output_type": "stream",
          "text": [
            "INFO:tensorflow:dense_1 ['random500_1', 'random500_2'] normal. 0.01\n"
          ]
        },
        {
          "name": "stdout",
          "output_type": "stream",
          "text": [
            "INFO:tensorflow:dense_1 ['random500_1', 'random500_3'] normal. 0.01\n"
          ]
        },
        {
          "name": "stderr",
          "output_type": "stream",
          "text": [
            "INFO:tensorflow:dense_1 ['random500_1', 'random500_3'] normal. 0.01\n"
          ]
        },
        {
          "name": "stdout",
          "output_type": "stream",
          "text": [
            "INFO:tensorflow:dense_1 ['random500_1', 'random500_4'] normal. 0.01\n"
          ]
        },
        {
          "name": "stderr",
          "output_type": "stream",
          "text": [
            "INFO:tensorflow:dense_1 ['random500_1', 'random500_4'] normal. 0.01\n"
          ]
        },
        {
          "name": "stdout",
          "output_type": "stream",
          "text": [
            "INFO:tensorflow:dense_1 ['random500_1', 'random500_5'] normal. 0.01\n"
          ]
        },
        {
          "name": "stderr",
          "output_type": "stream",
          "text": [
            "INFO:tensorflow:dense_1 ['random500_1', 'random500_5'] normal. 0.01\n"
          ]
        },
        {
          "name": "stdout",
          "output_type": "stream",
          "text": [
            "INFO:tensorflow:dense_1 ['random500_1', 'random500_6'] normal. 0.01\n"
          ]
        },
        {
          "name": "stderr",
          "output_type": "stream",
          "text": [
            "INFO:tensorflow:dense_1 ['random500_1', 'random500_6'] normal. 0.01\n"
          ]
        },
        {
          "name": "stdout",
          "output_type": "stream",
          "text": [
            "INFO:tensorflow:dense_1 ['random500_1', 'random500_7'] normal. 0.01\n"
          ]
        },
        {
          "name": "stderr",
          "output_type": "stream",
          "text": [
            "INFO:tensorflow:dense_1 ['random500_1', 'random500_7'] normal. 0.01\n"
          ]
        },
        {
          "name": "stdout",
          "output_type": "stream",
          "text": [
            "INFO:tensorflow:dense_1 ['random500_1', 'random500_8'] normal. 0.01\n"
          ]
        },
        {
          "name": "stderr",
          "output_type": "stream",
          "text": [
            "INFO:tensorflow:dense_1 ['random500_1', 'random500_8'] normal. 0.01\n"
          ]
        },
        {
          "name": "stdout",
          "output_type": "stream",
          "text": [
            "INFO:tensorflow:dense_1 ['random500_1', 'random500_9'] normal. 0.01\n"
          ]
        },
        {
          "name": "stderr",
          "output_type": "stream",
          "text": [
            "INFO:tensorflow:dense_1 ['random500_1', 'random500_9'] normal. 0.01\n"
          ]
        },
        {
          "name": "stdout",
          "output_type": "stream",
          "text": [
            "INFO:tensorflow:dense_1 ['random500_2', 'random500_0'] normal. 0.01\n"
          ]
        },
        {
          "name": "stderr",
          "output_type": "stream",
          "text": [
            "INFO:tensorflow:dense_1 ['random500_2', 'random500_0'] normal. 0.01\n"
          ]
        },
        {
          "name": "stdout",
          "output_type": "stream",
          "text": [
            "INFO:tensorflow:dense_1 ['random500_2', 'random500_1'] normal. 0.01\n"
          ]
        },
        {
          "name": "stderr",
          "output_type": "stream",
          "text": [
            "INFO:tensorflow:dense_1 ['random500_2', 'random500_1'] normal. 0.01\n"
          ]
        },
        {
          "name": "stdout",
          "output_type": "stream",
          "text": [
            "INFO:tensorflow:dense_1 ['random500_2', 'random500_3'] normal. 0.01\n"
          ]
        },
        {
          "name": "stderr",
          "output_type": "stream",
          "text": [
            "INFO:tensorflow:dense_1 ['random500_2', 'random500_3'] normal. 0.01\n"
          ]
        },
        {
          "name": "stdout",
          "output_type": "stream",
          "text": [
            "INFO:tensorflow:dense_1 ['random500_2', 'random500_4'] normal. 0.01\n"
          ]
        },
        {
          "name": "stderr",
          "output_type": "stream",
          "text": [
            "INFO:tensorflow:dense_1 ['random500_2', 'random500_4'] normal. 0.01\n"
          ]
        },
        {
          "name": "stdout",
          "output_type": "stream",
          "text": [
            "INFO:tensorflow:dense_1 ['random500_2', 'random500_5'] normal. 0.01\n"
          ]
        },
        {
          "name": "stderr",
          "output_type": "stream",
          "text": [
            "INFO:tensorflow:dense_1 ['random500_2', 'random500_5'] normal. 0.01\n"
          ]
        },
        {
          "name": "stdout",
          "output_type": "stream",
          "text": [
            "INFO:tensorflow:dense_1 ['random500_2', 'random500_6'] normal. 0.01\n"
          ]
        },
        {
          "name": "stderr",
          "output_type": "stream",
          "text": [
            "INFO:tensorflow:dense_1 ['random500_2', 'random500_6'] normal. 0.01\n"
          ]
        },
        {
          "name": "stdout",
          "output_type": "stream",
          "text": [
            "INFO:tensorflow:dense_1 ['random500_2', 'random500_7'] normal. 0.01\n"
          ]
        },
        {
          "name": "stderr",
          "output_type": "stream",
          "text": [
            "INFO:tensorflow:dense_1 ['random500_2', 'random500_7'] normal. 0.01\n"
          ]
        },
        {
          "name": "stdout",
          "output_type": "stream",
          "text": [
            "INFO:tensorflow:dense_1 ['random500_2', 'random500_8'] normal. 0.01\n"
          ]
        },
        {
          "name": "stderr",
          "output_type": "stream",
          "text": [
            "INFO:tensorflow:dense_1 ['random500_2', 'random500_8'] normal. 0.01\n"
          ]
        },
        {
          "name": "stdout",
          "output_type": "stream",
          "text": [
            "INFO:tensorflow:dense_1 ['random500_2', 'random500_9'] normal. 0.01\n"
          ]
        },
        {
          "name": "stderr",
          "output_type": "stream",
          "text": [
            "INFO:tensorflow:dense_1 ['random500_2', 'random500_9'] normal. 0.01\n"
          ]
        },
        {
          "name": "stdout",
          "output_type": "stream",
          "text": [
            "INFO:tensorflow:dense_1 ['random500_3', 'random500_0'] normal. 0.01\n"
          ]
        },
        {
          "name": "stderr",
          "output_type": "stream",
          "text": [
            "INFO:tensorflow:dense_1 ['random500_3', 'random500_0'] normal. 0.01\n"
          ]
        },
        {
          "name": "stdout",
          "output_type": "stream",
          "text": [
            "INFO:tensorflow:dense_1 ['random500_3', 'random500_1'] normal. 0.01\n"
          ]
        },
        {
          "name": "stderr",
          "output_type": "stream",
          "text": [
            "INFO:tensorflow:dense_1 ['random500_3', 'random500_1'] normal. 0.01\n"
          ]
        },
        {
          "name": "stdout",
          "output_type": "stream",
          "text": [
            "INFO:tensorflow:dense_1 ['random500_3', 'random500_2'] normal. 0.01\n"
          ]
        },
        {
          "name": "stderr",
          "output_type": "stream",
          "text": [
            "INFO:tensorflow:dense_1 ['random500_3', 'random500_2'] normal. 0.01\n"
          ]
        },
        {
          "name": "stdout",
          "output_type": "stream",
          "text": [
            "INFO:tensorflow:dense_1 ['random500_3', 'random500_4'] normal. 0.01\n"
          ]
        },
        {
          "name": "stderr",
          "output_type": "stream",
          "text": [
            "INFO:tensorflow:dense_1 ['random500_3', 'random500_4'] normal. 0.01\n"
          ]
        },
        {
          "name": "stdout",
          "output_type": "stream",
          "text": [
            "INFO:tensorflow:dense_1 ['random500_3', 'random500_5'] normal. 0.01\n"
          ]
        },
        {
          "name": "stderr",
          "output_type": "stream",
          "text": [
            "INFO:tensorflow:dense_1 ['random500_3', 'random500_5'] normal. 0.01\n"
          ]
        },
        {
          "name": "stdout",
          "output_type": "stream",
          "text": [
            "INFO:tensorflow:dense_1 ['random500_3', 'random500_6'] normal. 0.01\n"
          ]
        },
        {
          "name": "stderr",
          "output_type": "stream",
          "text": [
            "INFO:tensorflow:dense_1 ['random500_3', 'random500_6'] normal. 0.01\n"
          ]
        },
        {
          "name": "stdout",
          "output_type": "stream",
          "text": [
            "INFO:tensorflow:dense_1 ['random500_3', 'random500_7'] normal. 0.01\n"
          ]
        },
        {
          "name": "stderr",
          "output_type": "stream",
          "text": [
            "INFO:tensorflow:dense_1 ['random500_3', 'random500_7'] normal. 0.01\n"
          ]
        },
        {
          "name": "stdout",
          "output_type": "stream",
          "text": [
            "INFO:tensorflow:dense_1 ['random500_3', 'random500_8'] normal. 0.01\n"
          ]
        },
        {
          "name": "stderr",
          "output_type": "stream",
          "text": [
            "INFO:tensorflow:dense_1 ['random500_3', 'random500_8'] normal. 0.01\n"
          ]
        },
        {
          "name": "stdout",
          "output_type": "stream",
          "text": [
            "INFO:tensorflow:dense_1 ['random500_3', 'random500_9'] normal. 0.01\n"
          ]
        },
        {
          "name": "stderr",
          "output_type": "stream",
          "text": [
            "INFO:tensorflow:dense_1 ['random500_3', 'random500_9'] normal. 0.01\n"
          ]
        },
        {
          "name": "stdout",
          "output_type": "stream",
          "text": [
            "INFO:tensorflow:dense_1 ['random500_4', 'random500_0'] normal. 0.01\n"
          ]
        },
        {
          "name": "stderr",
          "output_type": "stream",
          "text": [
            "INFO:tensorflow:dense_1 ['random500_4', 'random500_0'] normal. 0.01\n"
          ]
        },
        {
          "name": "stdout",
          "output_type": "stream",
          "text": [
            "INFO:tensorflow:dense_1 ['random500_4', 'random500_1'] normal. 0.01\n"
          ]
        },
        {
          "name": "stderr",
          "output_type": "stream",
          "text": [
            "INFO:tensorflow:dense_1 ['random500_4', 'random500_1'] normal. 0.01\n"
          ]
        },
        {
          "name": "stdout",
          "output_type": "stream",
          "text": [
            "INFO:tensorflow:dense_1 ['random500_4', 'random500_2'] normal. 0.01\n"
          ]
        },
        {
          "name": "stderr",
          "output_type": "stream",
          "text": [
            "INFO:tensorflow:dense_1 ['random500_4', 'random500_2'] normal. 0.01\n"
          ]
        },
        {
          "name": "stdout",
          "output_type": "stream",
          "text": [
            "INFO:tensorflow:dense_1 ['random500_4', 'random500_3'] normal. 0.01\n"
          ]
        },
        {
          "name": "stderr",
          "output_type": "stream",
          "text": [
            "INFO:tensorflow:dense_1 ['random500_4', 'random500_3'] normal. 0.01\n"
          ]
        },
        {
          "name": "stdout",
          "output_type": "stream",
          "text": [
            "INFO:tensorflow:dense_1 ['random500_4', 'random500_5'] normal. 0.01\n"
          ]
        },
        {
          "name": "stderr",
          "output_type": "stream",
          "text": [
            "INFO:tensorflow:dense_1 ['random500_4', 'random500_5'] normal. 0.01\n"
          ]
        },
        {
          "name": "stdout",
          "output_type": "stream",
          "text": [
            "INFO:tensorflow:dense_1 ['random500_4', 'random500_6'] normal. 0.01\n"
          ]
        },
        {
          "name": "stderr",
          "output_type": "stream",
          "text": [
            "INFO:tensorflow:dense_1 ['random500_4', 'random500_6'] normal. 0.01\n"
          ]
        },
        {
          "name": "stdout",
          "output_type": "stream",
          "text": [
            "INFO:tensorflow:dense_1 ['random500_4', 'random500_7'] normal. 0.01\n"
          ]
        },
        {
          "name": "stderr",
          "output_type": "stream",
          "text": [
            "INFO:tensorflow:dense_1 ['random500_4', 'random500_7'] normal. 0.01\n"
          ]
        },
        {
          "name": "stdout",
          "output_type": "stream",
          "text": [
            "INFO:tensorflow:dense_1 ['random500_4', 'random500_8'] normal. 0.01\n"
          ]
        },
        {
          "name": "stderr",
          "output_type": "stream",
          "text": [
            "INFO:tensorflow:dense_1 ['random500_4', 'random500_8'] normal. 0.01\n"
          ]
        },
        {
          "name": "stdout",
          "output_type": "stream",
          "text": [
            "INFO:tensorflow:dense_1 ['random500_4', 'random500_9'] normal. 0.01\n"
          ]
        },
        {
          "name": "stderr",
          "output_type": "stream",
          "text": [
            "INFO:tensorflow:dense_1 ['random500_4', 'random500_9'] normal. 0.01\n"
          ]
        },
        {
          "name": "stdout",
          "output_type": "stream",
          "text": [
            "INFO:tensorflow:dense_1 ['random500_5', 'random500_0'] normal. 0.01\n"
          ]
        },
        {
          "name": "stderr",
          "output_type": "stream",
          "text": [
            "INFO:tensorflow:dense_1 ['random500_5', 'random500_0'] normal. 0.01\n"
          ]
        },
        {
          "name": "stdout",
          "output_type": "stream",
          "text": [
            "INFO:tensorflow:dense_1 ['random500_5', 'random500_1'] normal. 0.01\n"
          ]
        },
        {
          "name": "stderr",
          "output_type": "stream",
          "text": [
            "INFO:tensorflow:dense_1 ['random500_5', 'random500_1'] normal. 0.01\n"
          ]
        },
        {
          "name": "stdout",
          "output_type": "stream",
          "text": [
            "INFO:tensorflow:dense_1 ['random500_5', 'random500_2'] normal. 0.01\n"
          ]
        },
        {
          "name": "stderr",
          "output_type": "stream",
          "text": [
            "INFO:tensorflow:dense_1 ['random500_5', 'random500_2'] normal. 0.01\n"
          ]
        },
        {
          "name": "stdout",
          "output_type": "stream",
          "text": [
            "INFO:tensorflow:dense_1 ['random500_5', 'random500_3'] normal. 0.01\n"
          ]
        },
        {
          "name": "stderr",
          "output_type": "stream",
          "text": [
            "INFO:tensorflow:dense_1 ['random500_5', 'random500_3'] normal. 0.01\n"
          ]
        },
        {
          "name": "stdout",
          "output_type": "stream",
          "text": [
            "INFO:tensorflow:dense_1 ['random500_5', 'random500_4'] normal. 0.01\n"
          ]
        },
        {
          "name": "stderr",
          "output_type": "stream",
          "text": [
            "INFO:tensorflow:dense_1 ['random500_5', 'random500_4'] normal. 0.01\n"
          ]
        },
        {
          "name": "stdout",
          "output_type": "stream",
          "text": [
            "INFO:tensorflow:dense_1 ['random500_5', 'random500_6'] normal. 0.01\n"
          ]
        },
        {
          "name": "stderr",
          "output_type": "stream",
          "text": [
            "INFO:tensorflow:dense_1 ['random500_5', 'random500_6'] normal. 0.01\n"
          ]
        },
        {
          "name": "stdout",
          "output_type": "stream",
          "text": [
            "INFO:tensorflow:dense_1 ['random500_5', 'random500_7'] normal. 0.01\n"
          ]
        },
        {
          "name": "stderr",
          "output_type": "stream",
          "text": [
            "INFO:tensorflow:dense_1 ['random500_5', 'random500_7'] normal. 0.01\n"
          ]
        },
        {
          "name": "stdout",
          "output_type": "stream",
          "text": [
            "INFO:tensorflow:dense_1 ['random500_5', 'random500_8'] normal. 0.01\n"
          ]
        },
        {
          "name": "stderr",
          "output_type": "stream",
          "text": [
            "INFO:tensorflow:dense_1 ['random500_5', 'random500_8'] normal. 0.01\n"
          ]
        },
        {
          "name": "stdout",
          "output_type": "stream",
          "text": [
            "INFO:tensorflow:dense_1 ['random500_5', 'random500_9'] normal. 0.01\n"
          ]
        },
        {
          "name": "stderr",
          "output_type": "stream",
          "text": [
            "INFO:tensorflow:dense_1 ['random500_5', 'random500_9'] normal. 0.01\n"
          ]
        },
        {
          "name": "stdout",
          "output_type": "stream",
          "text": [
            "INFO:tensorflow:dense_1 ['random500_6', 'random500_0'] normal. 0.01\n"
          ]
        },
        {
          "name": "stderr",
          "output_type": "stream",
          "text": [
            "INFO:tensorflow:dense_1 ['random500_6', 'random500_0'] normal. 0.01\n"
          ]
        },
        {
          "name": "stdout",
          "output_type": "stream",
          "text": [
            "INFO:tensorflow:dense_1 ['random500_6', 'random500_1'] normal. 0.01\n"
          ]
        },
        {
          "name": "stderr",
          "output_type": "stream",
          "text": [
            "INFO:tensorflow:dense_1 ['random500_6', 'random500_1'] normal. 0.01\n"
          ]
        },
        {
          "name": "stdout",
          "output_type": "stream",
          "text": [
            "INFO:tensorflow:dense_1 ['random500_6', 'random500_2'] normal. 0.01\n"
          ]
        },
        {
          "name": "stderr",
          "output_type": "stream",
          "text": [
            "INFO:tensorflow:dense_1 ['random500_6', 'random500_2'] normal. 0.01\n"
          ]
        },
        {
          "name": "stdout",
          "output_type": "stream",
          "text": [
            "INFO:tensorflow:dense_1 ['random500_6', 'random500_3'] normal. 0.01\n"
          ]
        },
        {
          "name": "stderr",
          "output_type": "stream",
          "text": [
            "INFO:tensorflow:dense_1 ['random500_6', 'random500_3'] normal. 0.01\n"
          ]
        },
        {
          "name": "stdout",
          "output_type": "stream",
          "text": [
            "INFO:tensorflow:dense_1 ['random500_6', 'random500_4'] normal. 0.01\n"
          ]
        },
        {
          "name": "stderr",
          "output_type": "stream",
          "text": [
            "INFO:tensorflow:dense_1 ['random500_6', 'random500_4'] normal. 0.01\n"
          ]
        },
        {
          "name": "stdout",
          "output_type": "stream",
          "text": [
            "INFO:tensorflow:dense_1 ['random500_6', 'random500_5'] normal. 0.01\n"
          ]
        },
        {
          "name": "stderr",
          "output_type": "stream",
          "text": [
            "INFO:tensorflow:dense_1 ['random500_6', 'random500_5'] normal. 0.01\n"
          ]
        },
        {
          "name": "stdout",
          "output_type": "stream",
          "text": [
            "INFO:tensorflow:dense_1 ['random500_6', 'random500_7'] normal. 0.01\n"
          ]
        },
        {
          "name": "stderr",
          "output_type": "stream",
          "text": [
            "INFO:tensorflow:dense_1 ['random500_6', 'random500_7'] normal. 0.01\n"
          ]
        },
        {
          "name": "stdout",
          "output_type": "stream",
          "text": [
            "INFO:tensorflow:dense_1 ['random500_6', 'random500_8'] normal. 0.01\n"
          ]
        },
        {
          "name": "stderr",
          "output_type": "stream",
          "text": [
            "INFO:tensorflow:dense_1 ['random500_6', 'random500_8'] normal. 0.01\n"
          ]
        },
        {
          "name": "stdout",
          "output_type": "stream",
          "text": [
            "INFO:tensorflow:dense_1 ['random500_6', 'random500_9'] normal. 0.01\n"
          ]
        },
        {
          "name": "stderr",
          "output_type": "stream",
          "text": [
            "INFO:tensorflow:dense_1 ['random500_6', 'random500_9'] normal. 0.01\n"
          ]
        },
        {
          "name": "stdout",
          "output_type": "stream",
          "text": [
            "INFO:tensorflow:dense_1 ['random500_7', 'random500_0'] normal. 0.01\n"
          ]
        },
        {
          "name": "stderr",
          "output_type": "stream",
          "text": [
            "INFO:tensorflow:dense_1 ['random500_7', 'random500_0'] normal. 0.01\n"
          ]
        },
        {
          "name": "stdout",
          "output_type": "stream",
          "text": [
            "INFO:tensorflow:dense_1 ['random500_7', 'random500_1'] normal. 0.01\n"
          ]
        },
        {
          "name": "stderr",
          "output_type": "stream",
          "text": [
            "INFO:tensorflow:dense_1 ['random500_7', 'random500_1'] normal. 0.01\n"
          ]
        },
        {
          "name": "stdout",
          "output_type": "stream",
          "text": [
            "INFO:tensorflow:dense_1 ['random500_7', 'random500_2'] normal. 0.01\n"
          ]
        },
        {
          "name": "stderr",
          "output_type": "stream",
          "text": [
            "INFO:tensorflow:dense_1 ['random500_7', 'random500_2'] normal. 0.01\n"
          ]
        },
        {
          "name": "stdout",
          "output_type": "stream",
          "text": [
            "INFO:tensorflow:dense_1 ['random500_7', 'random500_3'] normal. 0.01\n"
          ]
        },
        {
          "name": "stderr",
          "output_type": "stream",
          "text": [
            "INFO:tensorflow:dense_1 ['random500_7', 'random500_3'] normal. 0.01\n"
          ]
        },
        {
          "name": "stdout",
          "output_type": "stream",
          "text": [
            "INFO:tensorflow:dense_1 ['random500_7', 'random500_4'] normal. 0.01\n"
          ]
        },
        {
          "name": "stderr",
          "output_type": "stream",
          "text": [
            "INFO:tensorflow:dense_1 ['random500_7', 'random500_4'] normal. 0.01\n"
          ]
        },
        {
          "name": "stdout",
          "output_type": "stream",
          "text": [
            "INFO:tensorflow:dense_1 ['random500_7', 'random500_5'] normal. 0.01\n"
          ]
        },
        {
          "name": "stderr",
          "output_type": "stream",
          "text": [
            "INFO:tensorflow:dense_1 ['random500_7', 'random500_5'] normal. 0.01\n"
          ]
        },
        {
          "name": "stdout",
          "output_type": "stream",
          "text": [
            "INFO:tensorflow:dense_1 ['random500_7', 'random500_6'] normal. 0.01\n"
          ]
        },
        {
          "name": "stderr",
          "output_type": "stream",
          "text": [
            "INFO:tensorflow:dense_1 ['random500_7', 'random500_6'] normal. 0.01\n"
          ]
        },
        {
          "name": "stdout",
          "output_type": "stream",
          "text": [
            "INFO:tensorflow:dense_1 ['random500_7', 'random500_8'] normal. 0.01\n"
          ]
        },
        {
          "name": "stderr",
          "output_type": "stream",
          "text": [
            "INFO:tensorflow:dense_1 ['random500_7', 'random500_8'] normal. 0.01\n"
          ]
        },
        {
          "name": "stdout",
          "output_type": "stream",
          "text": [
            "INFO:tensorflow:dense_1 ['random500_7', 'random500_9'] normal. 0.01\n"
          ]
        },
        {
          "name": "stderr",
          "output_type": "stream",
          "text": [
            "INFO:tensorflow:dense_1 ['random500_7', 'random500_9'] normal. 0.01\n"
          ]
        },
        {
          "name": "stdout",
          "output_type": "stream",
          "text": [
            "INFO:tensorflow:dense_1 ['random500_8', 'random500_0'] normal. 0.01\n"
          ]
        },
        {
          "name": "stderr",
          "output_type": "stream",
          "text": [
            "INFO:tensorflow:dense_1 ['random500_8', 'random500_0'] normal. 0.01\n"
          ]
        },
        {
          "name": "stdout",
          "output_type": "stream",
          "text": [
            "INFO:tensorflow:dense_1 ['random500_8', 'random500_1'] normal. 0.01\n"
          ]
        },
        {
          "name": "stderr",
          "output_type": "stream",
          "text": [
            "INFO:tensorflow:dense_1 ['random500_8', 'random500_1'] normal. 0.01\n"
          ]
        },
        {
          "name": "stdout",
          "output_type": "stream",
          "text": [
            "INFO:tensorflow:dense_1 ['random500_8', 'random500_2'] normal. 0.01\n"
          ]
        },
        {
          "name": "stderr",
          "output_type": "stream",
          "text": [
            "INFO:tensorflow:dense_1 ['random500_8', 'random500_2'] normal. 0.01\n"
          ]
        },
        {
          "name": "stdout",
          "output_type": "stream",
          "text": [
            "INFO:tensorflow:dense_1 ['random500_8', 'random500_3'] normal. 0.01\n"
          ]
        },
        {
          "name": "stderr",
          "output_type": "stream",
          "text": [
            "INFO:tensorflow:dense_1 ['random500_8', 'random500_3'] normal. 0.01\n"
          ]
        },
        {
          "name": "stdout",
          "output_type": "stream",
          "text": [
            "INFO:tensorflow:dense_1 ['random500_8', 'random500_4'] normal. 0.01\n"
          ]
        },
        {
          "name": "stderr",
          "output_type": "stream",
          "text": [
            "INFO:tensorflow:dense_1 ['random500_8', 'random500_4'] normal. 0.01\n"
          ]
        },
        {
          "name": "stdout",
          "output_type": "stream",
          "text": [
            "INFO:tensorflow:dense_1 ['random500_8', 'random500_5'] normal. 0.01\n"
          ]
        },
        {
          "name": "stderr",
          "output_type": "stream",
          "text": [
            "INFO:tensorflow:dense_1 ['random500_8', 'random500_5'] normal. 0.01\n"
          ]
        },
        {
          "name": "stdout",
          "output_type": "stream",
          "text": [
            "INFO:tensorflow:dense_1 ['random500_8', 'random500_6'] normal. 0.01\n"
          ]
        },
        {
          "name": "stderr",
          "output_type": "stream",
          "text": [
            "INFO:tensorflow:dense_1 ['random500_8', 'random500_6'] normal. 0.01\n"
          ]
        },
        {
          "name": "stdout",
          "output_type": "stream",
          "text": [
            "INFO:tensorflow:dense_1 ['random500_8', 'random500_7'] normal. 0.01\n"
          ]
        },
        {
          "name": "stderr",
          "output_type": "stream",
          "text": [
            "INFO:tensorflow:dense_1 ['random500_8', 'random500_7'] normal. 0.01\n"
          ]
        },
        {
          "name": "stdout",
          "output_type": "stream",
          "text": [
            "INFO:tensorflow:dense_1 ['random500_8', 'random500_9'] normal. 0.01\n"
          ]
        },
        {
          "name": "stderr",
          "output_type": "stream",
          "text": [
            "INFO:tensorflow:dense_1 ['random500_8', 'random500_9'] normal. 0.01\n"
          ]
        },
        {
          "name": "stdout",
          "output_type": "stream",
          "text": [
            "INFO:tensorflow:dense_1 ['random500_9', 'random500_0'] normal. 0.01\n"
          ]
        },
        {
          "name": "stderr",
          "output_type": "stream",
          "text": [
            "INFO:tensorflow:dense_1 ['random500_9', 'random500_0'] normal. 0.01\n"
          ]
        },
        {
          "name": "stdout",
          "output_type": "stream",
          "text": [
            "INFO:tensorflow:dense_1 ['random500_9', 'random500_1'] normal. 0.01\n"
          ]
        },
        {
          "name": "stderr",
          "output_type": "stream",
          "text": [
            "INFO:tensorflow:dense_1 ['random500_9', 'random500_1'] normal. 0.01\n"
          ]
        },
        {
          "name": "stdout",
          "output_type": "stream",
          "text": [
            "INFO:tensorflow:dense_1 ['random500_9', 'random500_2'] normal. 0.01\n"
          ]
        },
        {
          "name": "stderr",
          "output_type": "stream",
          "text": [
            "INFO:tensorflow:dense_1 ['random500_9', 'random500_2'] normal. 0.01\n"
          ]
        },
        {
          "name": "stdout",
          "output_type": "stream",
          "text": [
            "INFO:tensorflow:dense_1 ['random500_9', 'random500_3'] normal. 0.01\n"
          ]
        },
        {
          "name": "stderr",
          "output_type": "stream",
          "text": [
            "INFO:tensorflow:dense_1 ['random500_9', 'random500_3'] normal. 0.01\n"
          ]
        },
        {
          "name": "stdout",
          "output_type": "stream",
          "text": [
            "INFO:tensorflow:dense_1 ['random500_9', 'random500_4'] normal. 0.01\n"
          ]
        },
        {
          "name": "stderr",
          "output_type": "stream",
          "text": [
            "INFO:tensorflow:dense_1 ['random500_9', 'random500_4'] normal. 0.01\n"
          ]
        },
        {
          "name": "stdout",
          "output_type": "stream",
          "text": [
            "INFO:tensorflow:dense_1 ['random500_9', 'random500_5'] normal. 0.01\n"
          ]
        },
        {
          "name": "stderr",
          "output_type": "stream",
          "text": [
            "INFO:tensorflow:dense_1 ['random500_9', 'random500_5'] normal. 0.01\n"
          ]
        },
        {
          "name": "stdout",
          "output_type": "stream",
          "text": [
            "INFO:tensorflow:dense_1 ['random500_9', 'random500_6'] normal. 0.01\n"
          ]
        },
        {
          "name": "stderr",
          "output_type": "stream",
          "text": [
            "INFO:tensorflow:dense_1 ['random500_9', 'random500_6'] normal. 0.01\n"
          ]
        },
        {
          "name": "stdout",
          "output_type": "stream",
          "text": [
            "INFO:tensorflow:dense_1 ['random500_9', 'random500_7'] normal. 0.01\n"
          ]
        },
        {
          "name": "stderr",
          "output_type": "stream",
          "text": [
            "INFO:tensorflow:dense_1 ['random500_9', 'random500_7'] normal. 0.01\n"
          ]
        },
        {
          "name": "stdout",
          "output_type": "stream",
          "text": [
            "INFO:tensorflow:dense_1 ['random500_9', 'random500_8'] normal. 0.01\n"
          ]
        },
        {
          "name": "stderr",
          "output_type": "stream",
          "text": [
            "INFO:tensorflow:dense_1 ['random500_9', 'random500_8'] normal. 0.01\n"
          ]
        },
        {
          "name": "stdout",
          "output_type": "stream",
          "text": [
            "INFO:tensorflow:TCAV will 220 params\n"
          ]
        },
        {
          "name": "stderr",
          "output_type": "stream",
          "text": [
            "INFO:tensorflow:TCAV will 220 params\n"
          ]
        },
        {
          "name": "stdout",
          "output_type": "stream",
          "text": [
            "INFO:tensorflow:running 220 params\n"
          ]
        },
        {
          "name": "stderr",
          "output_type": "stream",
          "text": [
            "INFO:tensorflow:running 220 params\n"
          ]
        },
        {
          "name": "stdout",
          "output_type": "stream",
          "text": [
            "INFO:tensorflow:Running param 0 of 220\n"
          ]
        },
        {
          "name": "stderr",
          "output_type": "stream",
          "text": [
            "INFO:tensorflow:Running param 0 of 220\n"
          ]
        },
        {
          "name": "stdout",
          "output_type": "stream",
          "text": [
            "INFO:tensorflow:running normal. ['dst_host_same_src_port_rate_less_than_one', 'random500_0']\n"
          ]
        },
        {
          "name": "stderr",
          "output_type": "stream",
          "text": [
            "INFO:tensorflow:running normal. ['dst_host_same_src_port_rate_less_than_one', 'random500_0']\n"
          ]
        },
        {
          "name": "stdout",
          "output_type": "stream",
          "text": [
            "INFO:tensorflow:Loaded ./tcav/tcav_examples/discrete/kdd_sanity2\\activations\\acts_dst_host_same_src_port_rate_less_than_one_dense shape (200, 1000)\n"
          ]
        },
        {
          "name": "stderr",
          "output_type": "stream",
          "text": [
            "INFO:tensorflow:Loaded ./tcav/tcav_examples/discrete/kdd_sanity2\\activations\\acts_dst_host_same_src_port_rate_less_than_one_dense shape (200, 1000)\n"
          ]
        },
        {
          "name": "stdout",
          "output_type": "stream",
          "text": [
            "INFO:tensorflow:Loaded ./tcav/tcav_examples/discrete/kdd_sanity2\\activations\\acts_random500_0_dense shape (10, 1000)\n"
          ]
        },
        {
          "name": "stderr",
          "output_type": "stream",
          "text": [
            "INFO:tensorflow:Loaded ./tcav/tcav_examples/discrete/kdd_sanity2\\activations\\acts_random500_0_dense shape (10, 1000)\n"
          ]
        },
        {
          "name": "stdout",
          "output_type": "stream",
          "text": [
            "INFO:tensorflow:Loaded ./tcav/tcav_examples/discrete/kdd_sanity2\\activations\\acts_normal._dense shape (200, 1000)\n"
          ]
        },
        {
          "name": "stderr",
          "output_type": "stream",
          "text": [
            "INFO:tensorflow:Loaded ./tcav/tcav_examples/discrete/kdd_sanity2\\activations\\acts_normal._dense shape (200, 1000)\n"
          ]
        },
        {
          "name": "stdout",
          "output_type": "stream",
          "text": [
            "INFO:tensorflow:CAV already exists: ./tcav/tcav_examples/discrete/kdd_sanity2\\cav\\dst_host_same_src_port_rate_less_than_one-random500_0-dense-linear-0.01.pkl\n"
          ]
        },
        {
          "name": "stderr",
          "output_type": "stream",
          "text": [
            "INFO:tensorflow:CAV already exists: ./tcav/tcav_examples/discrete/kdd_sanity2\\cav\\dst_host_same_src_port_rate_less_than_one-random500_0-dense-linear-0.01.pkl\n"
          ]
        },
        {
          "name": "stdout",
          "output_type": "stream",
          "text": [
            "INFO:tensorflow:CAV accuracies: {'dst_host_same_src_port_rate_less_than_one': 1.0, 'random500_0': 1.0, 'overall': 1.0}\n"
          ]
        },
        {
          "name": "stderr",
          "output_type": "stream",
          "text": [
            "INFO:tensorflow:CAV accuracies: {'dst_host_same_src_port_rate_less_than_one': 1.0, 'random500_0': 1.0, 'overall': 1.0}\n"
          ]
        },
        {
          "name": "stdout",
          "output_type": "stream",
          "text": [
            "INFO:tensorflow:Running param 1 of 220\n"
          ]
        },
        {
          "name": "stderr",
          "output_type": "stream",
          "text": [
            "INFO:tensorflow:Running param 1 of 220\n"
          ]
        },
        {
          "name": "stdout",
          "output_type": "stream",
          "text": [
            "INFO:tensorflow:running normal. ['dst_host_same_src_port_rate_less_than_one', 'random500_1']\n"
          ]
        },
        {
          "name": "stderr",
          "output_type": "stream",
          "text": [
            "INFO:tensorflow:running normal. ['dst_host_same_src_port_rate_less_than_one', 'random500_1']\n"
          ]
        },
        {
          "name": "stdout",
          "output_type": "stream",
          "text": [
            "INFO:tensorflow:Loaded ./tcav/tcav_examples/discrete/kdd_sanity2\\activations\\acts_dst_host_same_src_port_rate_less_than_one_dense shape (200, 1000)\n"
          ]
        },
        {
          "name": "stderr",
          "output_type": "stream",
          "text": [
            "INFO:tensorflow:Loaded ./tcav/tcav_examples/discrete/kdd_sanity2\\activations\\acts_dst_host_same_src_port_rate_less_than_one_dense shape (200, 1000)\n"
          ]
        },
        {
          "name": "stdout",
          "output_type": "stream",
          "text": [
            "INFO:tensorflow:Loaded ./tcav/tcav_examples/discrete/kdd_sanity2\\activations\\acts_random500_1_dense shape (10, 1000)\n"
          ]
        },
        {
          "name": "stderr",
          "output_type": "stream",
          "text": [
            "INFO:tensorflow:Loaded ./tcav/tcav_examples/discrete/kdd_sanity2\\activations\\acts_random500_1_dense shape (10, 1000)\n"
          ]
        },
        {
          "name": "stdout",
          "output_type": "stream",
          "text": [
            "INFO:tensorflow:Loaded ./tcav/tcav_examples/discrete/kdd_sanity2\\activations\\acts_normal._dense shape (200, 1000)\n"
          ]
        },
        {
          "name": "stderr",
          "output_type": "stream",
          "text": [
            "INFO:tensorflow:Loaded ./tcav/tcav_examples/discrete/kdd_sanity2\\activations\\acts_normal._dense shape (200, 1000)\n"
          ]
        },
        {
          "name": "stdout",
          "output_type": "stream",
          "text": [
            "INFO:tensorflow:CAV already exists: ./tcav/tcav_examples/discrete/kdd_sanity2\\cav\\dst_host_same_src_port_rate_less_than_one-random500_1-dense-linear-0.01.pkl\n"
          ]
        },
        {
          "name": "stderr",
          "output_type": "stream",
          "text": [
            "INFO:tensorflow:CAV already exists: ./tcav/tcav_examples/discrete/kdd_sanity2\\cav\\dst_host_same_src_port_rate_less_than_one-random500_1-dense-linear-0.01.pkl\n"
          ]
        },
        {
          "name": "stdout",
          "output_type": "stream",
          "text": [
            "INFO:tensorflow:CAV accuracies: {'dst_host_same_src_port_rate_less_than_one': 1.0, 'random500_1': 1.0, 'overall': 1.0}\n"
          ]
        },
        {
          "name": "stderr",
          "output_type": "stream",
          "text": [
            "INFO:tensorflow:CAV accuracies: {'dst_host_same_src_port_rate_less_than_one': 1.0, 'random500_1': 1.0, 'overall': 1.0}\n"
          ]
        },
        {
          "name": "stdout",
          "output_type": "stream",
          "text": [
            "INFO:tensorflow:Running param 2 of 220\n"
          ]
        },
        {
          "name": "stderr",
          "output_type": "stream",
          "text": [
            "INFO:tensorflow:Running param 2 of 220\n"
          ]
        },
        {
          "name": "stdout",
          "output_type": "stream",
          "text": [
            "INFO:tensorflow:running normal. ['dst_host_same_src_port_rate_less_than_one', 'random500_2']\n"
          ]
        },
        {
          "name": "stderr",
          "output_type": "stream",
          "text": [
            "INFO:tensorflow:running normal. ['dst_host_same_src_port_rate_less_than_one', 'random500_2']\n"
          ]
        },
        {
          "name": "stdout",
          "output_type": "stream",
          "text": [
            "INFO:tensorflow:Loaded ./tcav/tcav_examples/discrete/kdd_sanity2\\activations\\acts_dst_host_same_src_port_rate_less_than_one_dense shape (200, 1000)\n"
          ]
        },
        {
          "name": "stderr",
          "output_type": "stream",
          "text": [
            "INFO:tensorflow:Loaded ./tcav/tcav_examples/discrete/kdd_sanity2\\activations\\acts_dst_host_same_src_port_rate_less_than_one_dense shape (200, 1000)\n"
          ]
        },
        {
          "name": "stdout",
          "output_type": "stream",
          "text": [
            "INFO:tensorflow:Loaded ./tcav/tcav_examples/discrete/kdd_sanity2\\activations\\acts_random500_2_dense shape (10, 1000)\n"
          ]
        },
        {
          "name": "stderr",
          "output_type": "stream",
          "text": [
            "INFO:tensorflow:Loaded ./tcav/tcav_examples/discrete/kdd_sanity2\\activations\\acts_random500_2_dense shape (10, 1000)\n"
          ]
        },
        {
          "name": "stdout",
          "output_type": "stream",
          "text": [
            "INFO:tensorflow:Loaded ./tcav/tcav_examples/discrete/kdd_sanity2\\activations\\acts_normal._dense shape (200, 1000)\n"
          ]
        },
        {
          "name": "stderr",
          "output_type": "stream",
          "text": [
            "INFO:tensorflow:Loaded ./tcav/tcav_examples/discrete/kdd_sanity2\\activations\\acts_normal._dense shape (200, 1000)\n"
          ]
        },
        {
          "name": "stdout",
          "output_type": "stream",
          "text": [
            "INFO:tensorflow:CAV already exists: ./tcav/tcav_examples/discrete/kdd_sanity2\\cav\\dst_host_same_src_port_rate_less_than_one-random500_2-dense-linear-0.01.pkl\n"
          ]
        },
        {
          "name": "stderr",
          "output_type": "stream",
          "text": [
            "INFO:tensorflow:CAV already exists: ./tcav/tcav_examples/discrete/kdd_sanity2\\cav\\dst_host_same_src_port_rate_less_than_one-random500_2-dense-linear-0.01.pkl\n"
          ]
        },
        {
          "name": "stdout",
          "output_type": "stream",
          "text": [
            "INFO:tensorflow:CAV accuracies: {'dst_host_same_src_port_rate_less_than_one': 1.0, 'random500_2': 1.0, 'overall': 1.0}\n"
          ]
        },
        {
          "name": "stderr",
          "output_type": "stream",
          "text": [
            "INFO:tensorflow:CAV accuracies: {'dst_host_same_src_port_rate_less_than_one': 1.0, 'random500_2': 1.0, 'overall': 1.0}\n"
          ]
        },
        {
          "name": "stdout",
          "output_type": "stream",
          "text": [
            "INFO:tensorflow:Running param 3 of 220\n"
          ]
        },
        {
          "name": "stderr",
          "output_type": "stream",
          "text": [
            "INFO:tensorflow:Running param 3 of 220\n"
          ]
        },
        {
          "name": "stdout",
          "output_type": "stream",
          "text": [
            "INFO:tensorflow:running normal. ['dst_host_same_src_port_rate_less_than_one', 'random500_3']\n"
          ]
        },
        {
          "name": "stderr",
          "output_type": "stream",
          "text": [
            "INFO:tensorflow:running normal. ['dst_host_same_src_port_rate_less_than_one', 'random500_3']\n"
          ]
        },
        {
          "name": "stdout",
          "output_type": "stream",
          "text": [
            "INFO:tensorflow:Loaded ./tcav/tcav_examples/discrete/kdd_sanity2\\activations\\acts_dst_host_same_src_port_rate_less_than_one_dense shape (200, 1000)\n"
          ]
        },
        {
          "name": "stderr",
          "output_type": "stream",
          "text": [
            "INFO:tensorflow:Loaded ./tcav/tcav_examples/discrete/kdd_sanity2\\activations\\acts_dst_host_same_src_port_rate_less_than_one_dense shape (200, 1000)\n"
          ]
        },
        {
          "name": "stdout",
          "output_type": "stream",
          "text": [
            "INFO:tensorflow:Loaded ./tcav/tcav_examples/discrete/kdd_sanity2\\activations\\acts_random500_3_dense shape (10, 1000)\n"
          ]
        },
        {
          "name": "stderr",
          "output_type": "stream",
          "text": [
            "INFO:tensorflow:Loaded ./tcav/tcav_examples/discrete/kdd_sanity2\\activations\\acts_random500_3_dense shape (10, 1000)\n"
          ]
        },
        {
          "name": "stdout",
          "output_type": "stream",
          "text": [
            "INFO:tensorflow:Loaded ./tcav/tcav_examples/discrete/kdd_sanity2\\activations\\acts_normal._dense shape (200, 1000)\n"
          ]
        },
        {
          "name": "stderr",
          "output_type": "stream",
          "text": [
            "INFO:tensorflow:Loaded ./tcav/tcav_examples/discrete/kdd_sanity2\\activations\\acts_normal._dense shape (200, 1000)\n"
          ]
        },
        {
          "name": "stdout",
          "output_type": "stream",
          "text": [
            "INFO:tensorflow:CAV already exists: ./tcav/tcav_examples/discrete/kdd_sanity2\\cav\\dst_host_same_src_port_rate_less_than_one-random500_3-dense-linear-0.01.pkl\n"
          ]
        },
        {
          "name": "stderr",
          "output_type": "stream",
          "text": [
            "INFO:tensorflow:CAV already exists: ./tcav/tcav_examples/discrete/kdd_sanity2\\cav\\dst_host_same_src_port_rate_less_than_one-random500_3-dense-linear-0.01.pkl\n"
          ]
        },
        {
          "name": "stdout",
          "output_type": "stream",
          "text": [
            "INFO:tensorflow:CAV accuracies: {'dst_host_same_src_port_rate_less_than_one': 1.0, 'random500_3': 1.0, 'overall': 1.0}\n"
          ]
        },
        {
          "name": "stderr",
          "output_type": "stream",
          "text": [
            "INFO:tensorflow:CAV accuracies: {'dst_host_same_src_port_rate_less_than_one': 1.0, 'random500_3': 1.0, 'overall': 1.0}\n"
          ]
        },
        {
          "name": "stdout",
          "output_type": "stream",
          "text": [
            "INFO:tensorflow:Running param 4 of 220\n"
          ]
        },
        {
          "name": "stderr",
          "output_type": "stream",
          "text": [
            "INFO:tensorflow:Running param 4 of 220\n"
          ]
        },
        {
          "name": "stdout",
          "output_type": "stream",
          "text": [
            "INFO:tensorflow:running normal. ['dst_host_same_src_port_rate_less_than_one', 'random500_4']\n"
          ]
        },
        {
          "name": "stderr",
          "output_type": "stream",
          "text": [
            "INFO:tensorflow:running normal. ['dst_host_same_src_port_rate_less_than_one', 'random500_4']\n"
          ]
        },
        {
          "name": "stdout",
          "output_type": "stream",
          "text": [
            "INFO:tensorflow:Loaded ./tcav/tcav_examples/discrete/kdd_sanity2\\activations\\acts_dst_host_same_src_port_rate_less_than_one_dense shape (200, 1000)\n"
          ]
        },
        {
          "name": "stderr",
          "output_type": "stream",
          "text": [
            "INFO:tensorflow:Loaded ./tcav/tcav_examples/discrete/kdd_sanity2\\activations\\acts_dst_host_same_src_port_rate_less_than_one_dense shape (200, 1000)\n"
          ]
        },
        {
          "name": "stdout",
          "output_type": "stream",
          "text": [
            "INFO:tensorflow:Loaded ./tcav/tcav_examples/discrete/kdd_sanity2\\activations\\acts_random500_4_dense shape (10, 1000)\n"
          ]
        },
        {
          "name": "stderr",
          "output_type": "stream",
          "text": [
            "INFO:tensorflow:Loaded ./tcav/tcav_examples/discrete/kdd_sanity2\\activations\\acts_random500_4_dense shape (10, 1000)\n"
          ]
        },
        {
          "name": "stdout",
          "output_type": "stream",
          "text": [
            "INFO:tensorflow:Loaded ./tcav/tcav_examples/discrete/kdd_sanity2\\activations\\acts_normal._dense shape (200, 1000)\n"
          ]
        },
        {
          "name": "stderr",
          "output_type": "stream",
          "text": [
            "INFO:tensorflow:Loaded ./tcav/tcav_examples/discrete/kdd_sanity2\\activations\\acts_normal._dense shape (200, 1000)\n"
          ]
        },
        {
          "name": "stdout",
          "output_type": "stream",
          "text": [
            "INFO:tensorflow:CAV already exists: ./tcav/tcav_examples/discrete/kdd_sanity2\\cav\\dst_host_same_src_port_rate_less_than_one-random500_4-dense-linear-0.01.pkl\n"
          ]
        },
        {
          "name": "stderr",
          "output_type": "stream",
          "text": [
            "INFO:tensorflow:CAV already exists: ./tcav/tcav_examples/discrete/kdd_sanity2\\cav\\dst_host_same_src_port_rate_less_than_one-random500_4-dense-linear-0.01.pkl\n"
          ]
        },
        {
          "name": "stdout",
          "output_type": "stream",
          "text": [
            "INFO:tensorflow:CAV accuracies: {'dst_host_same_src_port_rate_less_than_one': 0.0, 'random500_4': 1.0, 'overall': 0.5714285714285714}\n"
          ]
        },
        {
          "name": "stderr",
          "output_type": "stream",
          "text": [
            "INFO:tensorflow:CAV accuracies: {'dst_host_same_src_port_rate_less_than_one': 0.0, 'random500_4': 1.0, 'overall': 0.5714285714285714}\n"
          ]
        },
        {
          "name": "stdout",
          "output_type": "stream",
          "text": [
            "INFO:tensorflow:Running param 5 of 220\n"
          ]
        },
        {
          "name": "stderr",
          "output_type": "stream",
          "text": [
            "INFO:tensorflow:Running param 5 of 220\n"
          ]
        },
        {
          "name": "stdout",
          "output_type": "stream",
          "text": [
            "INFO:tensorflow:running normal. ['dst_host_same_src_port_rate_less_than_one', 'random500_5']\n"
          ]
        },
        {
          "name": "stderr",
          "output_type": "stream",
          "text": [
            "INFO:tensorflow:running normal. ['dst_host_same_src_port_rate_less_than_one', 'random500_5']\n"
          ]
        },
        {
          "name": "stdout",
          "output_type": "stream",
          "text": [
            "INFO:tensorflow:Loaded ./tcav/tcav_examples/discrete/kdd_sanity2\\activations\\acts_dst_host_same_src_port_rate_less_than_one_dense shape (200, 1000)\n"
          ]
        },
        {
          "name": "stderr",
          "output_type": "stream",
          "text": [
            "INFO:tensorflow:Loaded ./tcav/tcav_examples/discrete/kdd_sanity2\\activations\\acts_dst_host_same_src_port_rate_less_than_one_dense shape (200, 1000)\n"
          ]
        },
        {
          "name": "stdout",
          "output_type": "stream",
          "text": [
            "INFO:tensorflow:Loaded ./tcav/tcav_examples/discrete/kdd_sanity2\\activations\\acts_random500_5_dense shape (10, 1000)\n"
          ]
        },
        {
          "name": "stderr",
          "output_type": "stream",
          "text": [
            "INFO:tensorflow:Loaded ./tcav/tcav_examples/discrete/kdd_sanity2\\activations\\acts_random500_5_dense shape (10, 1000)\n"
          ]
        },
        {
          "name": "stdout",
          "output_type": "stream",
          "text": [
            "INFO:tensorflow:Loaded ./tcav/tcav_examples/discrete/kdd_sanity2\\activations\\acts_normal._dense shape (200, 1000)\n"
          ]
        },
        {
          "name": "stderr",
          "output_type": "stream",
          "text": [
            "INFO:tensorflow:Loaded ./tcav/tcav_examples/discrete/kdd_sanity2\\activations\\acts_normal._dense shape (200, 1000)\n"
          ]
        },
        {
          "name": "stdout",
          "output_type": "stream",
          "text": [
            "INFO:tensorflow:CAV already exists: ./tcav/tcav_examples/discrete/kdd_sanity2\\cav\\dst_host_same_src_port_rate_less_than_one-random500_5-dense-linear-0.01.pkl\n"
          ]
        },
        {
          "name": "stderr",
          "output_type": "stream",
          "text": [
            "INFO:tensorflow:CAV already exists: ./tcav/tcav_examples/discrete/kdd_sanity2\\cav\\dst_host_same_src_port_rate_less_than_one-random500_5-dense-linear-0.01.pkl\n"
          ]
        },
        {
          "name": "stdout",
          "output_type": "stream",
          "text": [
            "INFO:tensorflow:CAV accuracies: {'dst_host_same_src_port_rate_less_than_one': 1.0, 'random500_5': 1.0, 'overall': 1.0}\n"
          ]
        },
        {
          "name": "stderr",
          "output_type": "stream",
          "text": [
            "INFO:tensorflow:CAV accuracies: {'dst_host_same_src_port_rate_less_than_one': 1.0, 'random500_5': 1.0, 'overall': 1.0}\n"
          ]
        },
        {
          "name": "stdout",
          "output_type": "stream",
          "text": [
            "INFO:tensorflow:Running param 6 of 220\n"
          ]
        },
        {
          "name": "stderr",
          "output_type": "stream",
          "text": [
            "INFO:tensorflow:Running param 6 of 220\n"
          ]
        },
        {
          "name": "stdout",
          "output_type": "stream",
          "text": [
            "INFO:tensorflow:running normal. ['dst_host_same_src_port_rate_less_than_one', 'random500_6']\n"
          ]
        },
        {
          "name": "stderr",
          "output_type": "stream",
          "text": [
            "INFO:tensorflow:running normal. ['dst_host_same_src_port_rate_less_than_one', 'random500_6']\n"
          ]
        },
        {
          "name": "stdout",
          "output_type": "stream",
          "text": [
            "INFO:tensorflow:Loaded ./tcav/tcav_examples/discrete/kdd_sanity2\\activations\\acts_dst_host_same_src_port_rate_less_than_one_dense shape (200, 1000)\n"
          ]
        },
        {
          "name": "stderr",
          "output_type": "stream",
          "text": [
            "INFO:tensorflow:Loaded ./tcav/tcav_examples/discrete/kdd_sanity2\\activations\\acts_dst_host_same_src_port_rate_less_than_one_dense shape (200, 1000)\n"
          ]
        },
        {
          "name": "stdout",
          "output_type": "stream",
          "text": [
            "INFO:tensorflow:Loaded ./tcav/tcav_examples/discrete/kdd_sanity2\\activations\\acts_random500_6_dense shape (10, 1000)\n"
          ]
        },
        {
          "name": "stderr",
          "output_type": "stream",
          "text": [
            "INFO:tensorflow:Loaded ./tcav/tcav_examples/discrete/kdd_sanity2\\activations\\acts_random500_6_dense shape (10, 1000)\n"
          ]
        },
        {
          "name": "stdout",
          "output_type": "stream",
          "text": [
            "INFO:tensorflow:Loaded ./tcav/tcav_examples/discrete/kdd_sanity2\\activations\\acts_normal._dense shape (200, 1000)\n"
          ]
        },
        {
          "name": "stderr",
          "output_type": "stream",
          "text": [
            "INFO:tensorflow:Loaded ./tcav/tcav_examples/discrete/kdd_sanity2\\activations\\acts_normal._dense shape (200, 1000)\n"
          ]
        },
        {
          "name": "stdout",
          "output_type": "stream",
          "text": [
            "INFO:tensorflow:CAV already exists: ./tcav/tcav_examples/discrete/kdd_sanity2\\cav\\dst_host_same_src_port_rate_less_than_one-random500_6-dense-linear-0.01.pkl\n"
          ]
        },
        {
          "name": "stderr",
          "output_type": "stream",
          "text": [
            "INFO:tensorflow:CAV already exists: ./tcav/tcav_examples/discrete/kdd_sanity2\\cav\\dst_host_same_src_port_rate_less_than_one-random500_6-dense-linear-0.01.pkl\n"
          ]
        },
        {
          "name": "stdout",
          "output_type": "stream",
          "text": [
            "INFO:tensorflow:CAV accuracies: {'dst_host_same_src_port_rate_less_than_one': 1.0, 'random500_6': 1.0, 'overall': 1.0}\n"
          ]
        },
        {
          "name": "stderr",
          "output_type": "stream",
          "text": [
            "INFO:tensorflow:CAV accuracies: {'dst_host_same_src_port_rate_less_than_one': 1.0, 'random500_6': 1.0, 'overall': 1.0}\n"
          ]
        },
        {
          "name": "stdout",
          "output_type": "stream",
          "text": [
            "INFO:tensorflow:Running param 7 of 220\n"
          ]
        },
        {
          "name": "stderr",
          "output_type": "stream",
          "text": [
            "INFO:tensorflow:Running param 7 of 220\n"
          ]
        },
        {
          "name": "stdout",
          "output_type": "stream",
          "text": [
            "INFO:tensorflow:running normal. ['dst_host_same_src_port_rate_less_than_one', 'random500_7']\n"
          ]
        },
        {
          "name": "stderr",
          "output_type": "stream",
          "text": [
            "INFO:tensorflow:running normal. ['dst_host_same_src_port_rate_less_than_one', 'random500_7']\n"
          ]
        },
        {
          "name": "stdout",
          "output_type": "stream",
          "text": [
            "INFO:tensorflow:Loaded ./tcav/tcav_examples/discrete/kdd_sanity2\\activations\\acts_dst_host_same_src_port_rate_less_than_one_dense shape (200, 1000)\n"
          ]
        },
        {
          "name": "stderr",
          "output_type": "stream",
          "text": [
            "INFO:tensorflow:Loaded ./tcav/tcav_examples/discrete/kdd_sanity2\\activations\\acts_dst_host_same_src_port_rate_less_than_one_dense shape (200, 1000)\n"
          ]
        },
        {
          "name": "stdout",
          "output_type": "stream",
          "text": [
            "INFO:tensorflow:Loaded ./tcav/tcav_examples/discrete/kdd_sanity2\\activations\\acts_random500_7_dense shape (10, 1000)\n"
          ]
        },
        {
          "name": "stderr",
          "output_type": "stream",
          "text": [
            "INFO:tensorflow:Loaded ./tcav/tcav_examples/discrete/kdd_sanity2\\activations\\acts_random500_7_dense shape (10, 1000)\n"
          ]
        },
        {
          "name": "stdout",
          "output_type": "stream",
          "text": [
            "INFO:tensorflow:Loaded ./tcav/tcav_examples/discrete/kdd_sanity2\\activations\\acts_normal._dense shape (200, 1000)\n"
          ]
        },
        {
          "name": "stderr",
          "output_type": "stream",
          "text": [
            "INFO:tensorflow:Loaded ./tcav/tcav_examples/discrete/kdd_sanity2\\activations\\acts_normal._dense shape (200, 1000)\n"
          ]
        },
        {
          "name": "stdout",
          "output_type": "stream",
          "text": [
            "INFO:tensorflow:CAV already exists: ./tcav/tcav_examples/discrete/kdd_sanity2\\cav\\dst_host_same_src_port_rate_less_than_one-random500_7-dense-linear-0.01.pkl\n"
          ]
        },
        {
          "name": "stderr",
          "output_type": "stream",
          "text": [
            "INFO:tensorflow:CAV already exists: ./tcav/tcav_examples/discrete/kdd_sanity2\\cav\\dst_host_same_src_port_rate_less_than_one-random500_7-dense-linear-0.01.pkl\n"
          ]
        },
        {
          "name": "stdout",
          "output_type": "stream",
          "text": [
            "INFO:tensorflow:CAV accuracies: {'dst_host_same_src_port_rate_less_than_one': 1.0, 'random500_7': 0.75, 'overall': 0.8571428571428571}\n"
          ]
        },
        {
          "name": "stderr",
          "output_type": "stream",
          "text": [
            "INFO:tensorflow:CAV accuracies: {'dst_host_same_src_port_rate_less_than_one': 1.0, 'random500_7': 0.75, 'overall': 0.8571428571428571}\n"
          ]
        },
        {
          "name": "stdout",
          "output_type": "stream",
          "text": [
            "INFO:tensorflow:Running param 8 of 220\n"
          ]
        },
        {
          "name": "stderr",
          "output_type": "stream",
          "text": [
            "INFO:tensorflow:Running param 8 of 220\n"
          ]
        },
        {
          "name": "stdout",
          "output_type": "stream",
          "text": [
            "INFO:tensorflow:running normal. ['dst_host_same_src_port_rate_less_than_one', 'random500_8']\n"
          ]
        },
        {
          "name": "stderr",
          "output_type": "stream",
          "text": [
            "INFO:tensorflow:running normal. ['dst_host_same_src_port_rate_less_than_one', 'random500_8']\n"
          ]
        },
        {
          "name": "stdout",
          "output_type": "stream",
          "text": [
            "INFO:tensorflow:Loaded ./tcav/tcav_examples/discrete/kdd_sanity2\\activations\\acts_dst_host_same_src_port_rate_less_than_one_dense shape (200, 1000)\n"
          ]
        },
        {
          "name": "stderr",
          "output_type": "stream",
          "text": [
            "INFO:tensorflow:Loaded ./tcav/tcav_examples/discrete/kdd_sanity2\\activations\\acts_dst_host_same_src_port_rate_less_than_one_dense shape (200, 1000)\n"
          ]
        },
        {
          "name": "stdout",
          "output_type": "stream",
          "text": [
            "INFO:tensorflow:Loaded ./tcav/tcav_examples/discrete/kdd_sanity2\\activations\\acts_random500_8_dense shape (10, 1000)\n"
          ]
        },
        {
          "name": "stderr",
          "output_type": "stream",
          "text": [
            "INFO:tensorflow:Loaded ./tcav/tcav_examples/discrete/kdd_sanity2\\activations\\acts_random500_8_dense shape (10, 1000)\n"
          ]
        },
        {
          "name": "stdout",
          "output_type": "stream",
          "text": [
            "INFO:tensorflow:Loaded ./tcav/tcav_examples/discrete/kdd_sanity2\\activations\\acts_normal._dense shape (200, 1000)\n"
          ]
        },
        {
          "name": "stderr",
          "output_type": "stream",
          "text": [
            "INFO:tensorflow:Loaded ./tcav/tcav_examples/discrete/kdd_sanity2\\activations\\acts_normal._dense shape (200, 1000)\n"
          ]
        },
        {
          "name": "stdout",
          "output_type": "stream",
          "text": [
            "INFO:tensorflow:CAV already exists: ./tcav/tcav_examples/discrete/kdd_sanity2\\cav\\dst_host_same_src_port_rate_less_than_one-random500_8-dense-linear-0.01.pkl\n"
          ]
        },
        {
          "name": "stderr",
          "output_type": "stream",
          "text": [
            "INFO:tensorflow:CAV already exists: ./tcav/tcav_examples/discrete/kdd_sanity2\\cav\\dst_host_same_src_port_rate_less_than_one-random500_8-dense-linear-0.01.pkl\n"
          ]
        },
        {
          "name": "stdout",
          "output_type": "stream",
          "text": [
            "INFO:tensorflow:CAV accuracies: {'dst_host_same_src_port_rate_less_than_one': 0.6666666666666666, 'random500_8': 1.0, 'overall': 0.8571428571428571}\n"
          ]
        },
        {
          "name": "stderr",
          "output_type": "stream",
          "text": [
            "INFO:tensorflow:CAV accuracies: {'dst_host_same_src_port_rate_less_than_one': 0.6666666666666666, 'random500_8': 1.0, 'overall': 0.8571428571428571}\n"
          ]
        },
        {
          "name": "stdout",
          "output_type": "stream",
          "text": [
            "INFO:tensorflow:Running param 9 of 220\n"
          ]
        },
        {
          "name": "stderr",
          "output_type": "stream",
          "text": [
            "INFO:tensorflow:Running param 9 of 220\n"
          ]
        },
        {
          "name": "stdout",
          "output_type": "stream",
          "text": [
            "INFO:tensorflow:running normal. ['dst_host_same_src_port_rate_less_than_one', 'random500_9']\n"
          ]
        },
        {
          "name": "stderr",
          "output_type": "stream",
          "text": [
            "INFO:tensorflow:running normal. ['dst_host_same_src_port_rate_less_than_one', 'random500_9']\n"
          ]
        },
        {
          "name": "stdout",
          "output_type": "stream",
          "text": [
            "INFO:tensorflow:Loaded ./tcav/tcav_examples/discrete/kdd_sanity2\\activations\\acts_dst_host_same_src_port_rate_less_than_one_dense shape (200, 1000)\n"
          ]
        },
        {
          "name": "stderr",
          "output_type": "stream",
          "text": [
            "INFO:tensorflow:Loaded ./tcav/tcav_examples/discrete/kdd_sanity2\\activations\\acts_dst_host_same_src_port_rate_less_than_one_dense shape (200, 1000)\n"
          ]
        },
        {
          "name": "stdout",
          "output_type": "stream",
          "text": [
            "INFO:tensorflow:Loaded ./tcav/tcav_examples/discrete/kdd_sanity2\\activations\\acts_random500_9_dense shape (10, 1000)\n"
          ]
        },
        {
          "name": "stderr",
          "output_type": "stream",
          "text": [
            "INFO:tensorflow:Loaded ./tcav/tcav_examples/discrete/kdd_sanity2\\activations\\acts_random500_9_dense shape (10, 1000)\n"
          ]
        },
        {
          "name": "stdout",
          "output_type": "stream",
          "text": [
            "INFO:tensorflow:Loaded ./tcav/tcav_examples/discrete/kdd_sanity2\\activations\\acts_normal._dense shape (200, 1000)\n"
          ]
        },
        {
          "name": "stderr",
          "output_type": "stream",
          "text": [
            "INFO:tensorflow:Loaded ./tcav/tcav_examples/discrete/kdd_sanity2\\activations\\acts_normal._dense shape (200, 1000)\n"
          ]
        },
        {
          "name": "stdout",
          "output_type": "stream",
          "text": [
            "INFO:tensorflow:CAV already exists: ./tcav/tcav_examples/discrete/kdd_sanity2\\cav\\dst_host_same_src_port_rate_less_than_one-random500_9-dense-linear-0.01.pkl\n"
          ]
        },
        {
          "name": "stderr",
          "output_type": "stream",
          "text": [
            "INFO:tensorflow:CAV already exists: ./tcav/tcav_examples/discrete/kdd_sanity2\\cav\\dst_host_same_src_port_rate_less_than_one-random500_9-dense-linear-0.01.pkl\n"
          ]
        },
        {
          "name": "stdout",
          "output_type": "stream",
          "text": [
            "INFO:tensorflow:CAV accuracies: {'dst_host_same_src_port_rate_less_than_one': 1.0, 'random500_9': 1.0, 'overall': 1.0}\n"
          ]
        },
        {
          "name": "stderr",
          "output_type": "stream",
          "text": [
            "INFO:tensorflow:CAV accuracies: {'dst_host_same_src_port_rate_less_than_one': 1.0, 'random500_9': 1.0, 'overall': 1.0}\n"
          ]
        },
        {
          "name": "stdout",
          "output_type": "stream",
          "text": [
            "INFO:tensorflow:Running param 10 of 220\n"
          ]
        },
        {
          "name": "stderr",
          "output_type": "stream",
          "text": [
            "INFO:tensorflow:Running param 10 of 220\n"
          ]
        },
        {
          "name": "stdout",
          "output_type": "stream",
          "text": [
            "INFO:tensorflow:running normal. ['dst_host_same_src_port_rate_more_than_one', 'random500_0']\n"
          ]
        },
        {
          "name": "stderr",
          "output_type": "stream",
          "text": [
            "INFO:tensorflow:running normal. ['dst_host_same_src_port_rate_more_than_one', 'random500_0']\n"
          ]
        },
        {
          "name": "stdout",
          "output_type": "stream",
          "text": [
            "INFO:tensorflow:Loaded ./tcav/tcav_examples/discrete/kdd_sanity2\\activations\\acts_dst_host_same_src_port_rate_more_than_one_dense shape (200, 1000)\n"
          ]
        },
        {
          "name": "stderr",
          "output_type": "stream",
          "text": [
            "INFO:tensorflow:Loaded ./tcav/tcav_examples/discrete/kdd_sanity2\\activations\\acts_dst_host_same_src_port_rate_more_than_one_dense shape (200, 1000)\n"
          ]
        },
        {
          "name": "stdout",
          "output_type": "stream",
          "text": [
            "INFO:tensorflow:Loaded ./tcav/tcav_examples/discrete/kdd_sanity2\\activations\\acts_random500_0_dense shape (10, 1000)\n"
          ]
        },
        {
          "name": "stderr",
          "output_type": "stream",
          "text": [
            "INFO:tensorflow:Loaded ./tcav/tcav_examples/discrete/kdd_sanity2\\activations\\acts_random500_0_dense shape (10, 1000)\n"
          ]
        },
        {
          "name": "stdout",
          "output_type": "stream",
          "text": [
            "INFO:tensorflow:Loaded ./tcav/tcav_examples/discrete/kdd_sanity2\\activations\\acts_normal._dense shape (200, 1000)\n"
          ]
        },
        {
          "name": "stderr",
          "output_type": "stream",
          "text": [
            "INFO:tensorflow:Loaded ./tcav/tcav_examples/discrete/kdd_sanity2\\activations\\acts_normal._dense shape (200, 1000)\n"
          ]
        },
        {
          "name": "stdout",
          "output_type": "stream",
          "text": [
            "INFO:tensorflow:CAV already exists: ./tcav/tcav_examples/discrete/kdd_sanity2\\cav\\dst_host_same_src_port_rate_more_than_one-random500_0-dense-linear-0.01.pkl\n"
          ]
        },
        {
          "name": "stderr",
          "output_type": "stream",
          "text": [
            "INFO:tensorflow:CAV already exists: ./tcav/tcav_examples/discrete/kdd_sanity2\\cav\\dst_host_same_src_port_rate_more_than_one-random500_0-dense-linear-0.01.pkl\n"
          ]
        },
        {
          "name": "stdout",
          "output_type": "stream",
          "text": [
            "INFO:tensorflow:CAV accuracies: {'dst_host_same_src_port_rate_more_than_one': 1.0, 'random500_0': 1.0, 'overall': 1.0}\n"
          ]
        },
        {
          "name": "stderr",
          "output_type": "stream",
          "text": [
            "INFO:tensorflow:CAV accuracies: {'dst_host_same_src_port_rate_more_than_one': 1.0, 'random500_0': 1.0, 'overall': 1.0}\n"
          ]
        },
        {
          "name": "stdout",
          "output_type": "stream",
          "text": [
            "INFO:tensorflow:Running param 11 of 220\n"
          ]
        },
        {
          "name": "stderr",
          "output_type": "stream",
          "text": [
            "INFO:tensorflow:Running param 11 of 220\n"
          ]
        },
        {
          "name": "stdout",
          "output_type": "stream",
          "text": [
            "INFO:tensorflow:running normal. ['dst_host_same_src_port_rate_more_than_one', 'random500_1']\n"
          ]
        },
        {
          "name": "stderr",
          "output_type": "stream",
          "text": [
            "INFO:tensorflow:running normal. ['dst_host_same_src_port_rate_more_than_one', 'random500_1']\n"
          ]
        },
        {
          "name": "stdout",
          "output_type": "stream",
          "text": [
            "INFO:tensorflow:Loaded ./tcav/tcav_examples/discrete/kdd_sanity2\\activations\\acts_dst_host_same_src_port_rate_more_than_one_dense shape (200, 1000)\n"
          ]
        },
        {
          "name": "stderr",
          "output_type": "stream",
          "text": [
            "INFO:tensorflow:Loaded ./tcav/tcav_examples/discrete/kdd_sanity2\\activations\\acts_dst_host_same_src_port_rate_more_than_one_dense shape (200, 1000)\n"
          ]
        },
        {
          "name": "stdout",
          "output_type": "stream",
          "text": [
            "INFO:tensorflow:Loaded ./tcav/tcav_examples/discrete/kdd_sanity2\\activations\\acts_random500_1_dense shape (10, 1000)\n"
          ]
        },
        {
          "name": "stderr",
          "output_type": "stream",
          "text": [
            "INFO:tensorflow:Loaded ./tcav/tcav_examples/discrete/kdd_sanity2\\activations\\acts_random500_1_dense shape (10, 1000)\n"
          ]
        },
        {
          "name": "stdout",
          "output_type": "stream",
          "text": [
            "INFO:tensorflow:Loaded ./tcav/tcav_examples/discrete/kdd_sanity2\\activations\\acts_normal._dense shape (200, 1000)\n"
          ]
        },
        {
          "name": "stderr",
          "output_type": "stream",
          "text": [
            "INFO:tensorflow:Loaded ./tcav/tcav_examples/discrete/kdd_sanity2\\activations\\acts_normal._dense shape (200, 1000)\n"
          ]
        },
        {
          "name": "stdout",
          "output_type": "stream",
          "text": [
            "INFO:tensorflow:CAV already exists: ./tcav/tcav_examples/discrete/kdd_sanity2\\cav\\dst_host_same_src_port_rate_more_than_one-random500_1-dense-linear-0.01.pkl\n"
          ]
        },
        {
          "name": "stderr",
          "output_type": "stream",
          "text": [
            "INFO:tensorflow:CAV already exists: ./tcav/tcav_examples/discrete/kdd_sanity2\\cav\\dst_host_same_src_port_rate_more_than_one-random500_1-dense-linear-0.01.pkl\n"
          ]
        },
        {
          "name": "stdout",
          "output_type": "stream",
          "text": [
            "INFO:tensorflow:CAV accuracies: {'dst_host_same_src_port_rate_more_than_one': 1.0, 'random500_1': 1.0, 'overall': 1.0}\n"
          ]
        },
        {
          "name": "stderr",
          "output_type": "stream",
          "text": [
            "INFO:tensorflow:CAV accuracies: {'dst_host_same_src_port_rate_more_than_one': 1.0, 'random500_1': 1.0, 'overall': 1.0}\n"
          ]
        },
        {
          "name": "stdout",
          "output_type": "stream",
          "text": [
            "INFO:tensorflow:Running param 12 of 220\n"
          ]
        },
        {
          "name": "stderr",
          "output_type": "stream",
          "text": [
            "INFO:tensorflow:Running param 12 of 220\n"
          ]
        },
        {
          "name": "stdout",
          "output_type": "stream",
          "text": [
            "INFO:tensorflow:running normal. ['dst_host_same_src_port_rate_more_than_one', 'random500_2']\n"
          ]
        },
        {
          "name": "stderr",
          "output_type": "stream",
          "text": [
            "INFO:tensorflow:running normal. ['dst_host_same_src_port_rate_more_than_one', 'random500_2']\n"
          ]
        },
        {
          "name": "stdout",
          "output_type": "stream",
          "text": [
            "INFO:tensorflow:Loaded ./tcav/tcav_examples/discrete/kdd_sanity2\\activations\\acts_dst_host_same_src_port_rate_more_than_one_dense shape (200, 1000)\n"
          ]
        },
        {
          "name": "stderr",
          "output_type": "stream",
          "text": [
            "INFO:tensorflow:Loaded ./tcav/tcav_examples/discrete/kdd_sanity2\\activations\\acts_dst_host_same_src_port_rate_more_than_one_dense shape (200, 1000)\n"
          ]
        },
        {
          "name": "stdout",
          "output_type": "stream",
          "text": [
            "INFO:tensorflow:Loaded ./tcav/tcav_examples/discrete/kdd_sanity2\\activations\\acts_random500_2_dense shape (10, 1000)\n"
          ]
        },
        {
          "name": "stderr",
          "output_type": "stream",
          "text": [
            "INFO:tensorflow:Loaded ./tcav/tcav_examples/discrete/kdd_sanity2\\activations\\acts_random500_2_dense shape (10, 1000)\n"
          ]
        },
        {
          "name": "stdout",
          "output_type": "stream",
          "text": [
            "INFO:tensorflow:Loaded ./tcav/tcav_examples/discrete/kdd_sanity2\\activations\\acts_normal._dense shape (200, 1000)\n"
          ]
        },
        {
          "name": "stderr",
          "output_type": "stream",
          "text": [
            "INFO:tensorflow:Loaded ./tcav/tcav_examples/discrete/kdd_sanity2\\activations\\acts_normal._dense shape (200, 1000)\n"
          ]
        },
        {
          "name": "stdout",
          "output_type": "stream",
          "text": [
            "INFO:tensorflow:CAV already exists: ./tcav/tcav_examples/discrete/kdd_sanity2\\cav\\dst_host_same_src_port_rate_more_than_one-random500_2-dense-linear-0.01.pkl\n"
          ]
        },
        {
          "name": "stderr",
          "output_type": "stream",
          "text": [
            "INFO:tensorflow:CAV already exists: ./tcav/tcav_examples/discrete/kdd_sanity2\\cav\\dst_host_same_src_port_rate_more_than_one-random500_2-dense-linear-0.01.pkl\n"
          ]
        },
        {
          "name": "stdout",
          "output_type": "stream",
          "text": [
            "INFO:tensorflow:CAV accuracies: {'dst_host_same_src_port_rate_more_than_one': 1.0, 'random500_2': 1.0, 'overall': 1.0}\n"
          ]
        },
        {
          "name": "stderr",
          "output_type": "stream",
          "text": [
            "INFO:tensorflow:CAV accuracies: {'dst_host_same_src_port_rate_more_than_one': 1.0, 'random500_2': 1.0, 'overall': 1.0}\n"
          ]
        },
        {
          "name": "stdout",
          "output_type": "stream",
          "text": [
            "INFO:tensorflow:Running param 13 of 220\n"
          ]
        },
        {
          "name": "stderr",
          "output_type": "stream",
          "text": [
            "INFO:tensorflow:Running param 13 of 220\n"
          ]
        },
        {
          "name": "stdout",
          "output_type": "stream",
          "text": [
            "INFO:tensorflow:running normal. ['dst_host_same_src_port_rate_more_than_one', 'random500_3']\n"
          ]
        },
        {
          "name": "stderr",
          "output_type": "stream",
          "text": [
            "INFO:tensorflow:running normal. ['dst_host_same_src_port_rate_more_than_one', 'random500_3']\n"
          ]
        },
        {
          "name": "stdout",
          "output_type": "stream",
          "text": [
            "INFO:tensorflow:Loaded ./tcav/tcav_examples/discrete/kdd_sanity2\\activations\\acts_dst_host_same_src_port_rate_more_than_one_dense shape (200, 1000)\n"
          ]
        },
        {
          "name": "stderr",
          "output_type": "stream",
          "text": [
            "INFO:tensorflow:Loaded ./tcav/tcav_examples/discrete/kdd_sanity2\\activations\\acts_dst_host_same_src_port_rate_more_than_one_dense shape (200, 1000)\n"
          ]
        },
        {
          "name": "stdout",
          "output_type": "stream",
          "text": [
            "INFO:tensorflow:Loaded ./tcav/tcav_examples/discrete/kdd_sanity2\\activations\\acts_random500_3_dense shape (10, 1000)\n"
          ]
        },
        {
          "name": "stderr",
          "output_type": "stream",
          "text": [
            "INFO:tensorflow:Loaded ./tcav/tcav_examples/discrete/kdd_sanity2\\activations\\acts_random500_3_dense shape (10, 1000)\n"
          ]
        },
        {
          "name": "stdout",
          "output_type": "stream",
          "text": [
            "INFO:tensorflow:Loaded ./tcav/tcav_examples/discrete/kdd_sanity2\\activations\\acts_normal._dense shape (200, 1000)\n"
          ]
        },
        {
          "name": "stderr",
          "output_type": "stream",
          "text": [
            "INFO:tensorflow:Loaded ./tcav/tcav_examples/discrete/kdd_sanity2\\activations\\acts_normal._dense shape (200, 1000)\n"
          ]
        },
        {
          "name": "stdout",
          "output_type": "stream",
          "text": [
            "INFO:tensorflow:CAV already exists: ./tcav/tcav_examples/discrete/kdd_sanity2\\cav\\dst_host_same_src_port_rate_more_than_one-random500_3-dense-linear-0.01.pkl\n"
          ]
        },
        {
          "name": "stderr",
          "output_type": "stream",
          "text": [
            "INFO:tensorflow:CAV already exists: ./tcav/tcav_examples/discrete/kdd_sanity2\\cav\\dst_host_same_src_port_rate_more_than_one-random500_3-dense-linear-0.01.pkl\n"
          ]
        },
        {
          "name": "stdout",
          "output_type": "stream",
          "text": [
            "INFO:tensorflow:CAV accuracies: {'dst_host_same_src_port_rate_more_than_one': 1.0, 'random500_3': 0.75, 'overall': 0.8571428571428571}\n"
          ]
        },
        {
          "name": "stderr",
          "output_type": "stream",
          "text": [
            "INFO:tensorflow:CAV accuracies: {'dst_host_same_src_port_rate_more_than_one': 1.0, 'random500_3': 0.75, 'overall': 0.8571428571428571}\n"
          ]
        },
        {
          "name": "stdout",
          "output_type": "stream",
          "text": [
            "INFO:tensorflow:Running param 14 of 220\n"
          ]
        },
        {
          "name": "stderr",
          "output_type": "stream",
          "text": [
            "INFO:tensorflow:Running param 14 of 220\n"
          ]
        },
        {
          "name": "stdout",
          "output_type": "stream",
          "text": [
            "INFO:tensorflow:running normal. ['dst_host_same_src_port_rate_more_than_one', 'random500_4']\n"
          ]
        },
        {
          "name": "stderr",
          "output_type": "stream",
          "text": [
            "INFO:tensorflow:running normal. ['dst_host_same_src_port_rate_more_than_one', 'random500_4']\n"
          ]
        },
        {
          "name": "stdout",
          "output_type": "stream",
          "text": [
            "INFO:tensorflow:Loaded ./tcav/tcav_examples/discrete/kdd_sanity2\\activations\\acts_dst_host_same_src_port_rate_more_than_one_dense shape (200, 1000)\n"
          ]
        },
        {
          "name": "stderr",
          "output_type": "stream",
          "text": [
            "INFO:tensorflow:Loaded ./tcav/tcav_examples/discrete/kdd_sanity2\\activations\\acts_dst_host_same_src_port_rate_more_than_one_dense shape (200, 1000)\n"
          ]
        },
        {
          "name": "stdout",
          "output_type": "stream",
          "text": [
            "INFO:tensorflow:Loaded ./tcav/tcav_examples/discrete/kdd_sanity2\\activations\\acts_random500_4_dense shape (10, 1000)\n"
          ]
        },
        {
          "name": "stderr",
          "output_type": "stream",
          "text": [
            "INFO:tensorflow:Loaded ./tcav/tcav_examples/discrete/kdd_sanity2\\activations\\acts_random500_4_dense shape (10, 1000)\n"
          ]
        },
        {
          "name": "stdout",
          "output_type": "stream",
          "text": [
            "INFO:tensorflow:Loaded ./tcav/tcav_examples/discrete/kdd_sanity2\\activations\\acts_normal._dense shape (200, 1000)\n"
          ]
        },
        {
          "name": "stderr",
          "output_type": "stream",
          "text": [
            "INFO:tensorflow:Loaded ./tcav/tcav_examples/discrete/kdd_sanity2\\activations\\acts_normal._dense shape (200, 1000)\n"
          ]
        },
        {
          "name": "stdout",
          "output_type": "stream",
          "text": [
            "INFO:tensorflow:CAV already exists: ./tcav/tcav_examples/discrete/kdd_sanity2\\cav\\dst_host_same_src_port_rate_more_than_one-random500_4-dense-linear-0.01.pkl\n"
          ]
        },
        {
          "name": "stderr",
          "output_type": "stream",
          "text": [
            "INFO:tensorflow:CAV already exists: ./tcav/tcav_examples/discrete/kdd_sanity2\\cav\\dst_host_same_src_port_rate_more_than_one-random500_4-dense-linear-0.01.pkl\n"
          ]
        },
        {
          "name": "stdout",
          "output_type": "stream",
          "text": [
            "INFO:tensorflow:CAV accuracies: {'dst_host_same_src_port_rate_more_than_one': 1.0, 'random500_4': 0.6666666666666666, 'overall': 0.8571428571428571}\n"
          ]
        },
        {
          "name": "stderr",
          "output_type": "stream",
          "text": [
            "INFO:tensorflow:CAV accuracies: {'dst_host_same_src_port_rate_more_than_one': 1.0, 'random500_4': 0.6666666666666666, 'overall': 0.8571428571428571}\n"
          ]
        },
        {
          "name": "stdout",
          "output_type": "stream",
          "text": [
            "INFO:tensorflow:Running param 15 of 220\n"
          ]
        },
        {
          "name": "stderr",
          "output_type": "stream",
          "text": [
            "INFO:tensorflow:Running param 15 of 220\n"
          ]
        },
        {
          "name": "stdout",
          "output_type": "stream",
          "text": [
            "INFO:tensorflow:running normal. ['dst_host_same_src_port_rate_more_than_one', 'random500_5']\n"
          ]
        },
        {
          "name": "stderr",
          "output_type": "stream",
          "text": [
            "INFO:tensorflow:running normal. ['dst_host_same_src_port_rate_more_than_one', 'random500_5']\n"
          ]
        },
        {
          "name": "stdout",
          "output_type": "stream",
          "text": [
            "INFO:tensorflow:Loaded ./tcav/tcav_examples/discrete/kdd_sanity2\\activations\\acts_dst_host_same_src_port_rate_more_than_one_dense shape (200, 1000)\n"
          ]
        },
        {
          "name": "stderr",
          "output_type": "stream",
          "text": [
            "INFO:tensorflow:Loaded ./tcav/tcav_examples/discrete/kdd_sanity2\\activations\\acts_dst_host_same_src_port_rate_more_than_one_dense shape (200, 1000)\n"
          ]
        },
        {
          "name": "stdout",
          "output_type": "stream",
          "text": [
            "INFO:tensorflow:Loaded ./tcav/tcav_examples/discrete/kdd_sanity2\\activations\\acts_random500_5_dense shape (10, 1000)\n"
          ]
        },
        {
          "name": "stderr",
          "output_type": "stream",
          "text": [
            "INFO:tensorflow:Loaded ./tcav/tcav_examples/discrete/kdd_sanity2\\activations\\acts_random500_5_dense shape (10, 1000)\n"
          ]
        },
        {
          "name": "stdout",
          "output_type": "stream",
          "text": [
            "INFO:tensorflow:Loaded ./tcav/tcav_examples/discrete/kdd_sanity2\\activations\\acts_normal._dense shape (200, 1000)\n"
          ]
        },
        {
          "name": "stderr",
          "output_type": "stream",
          "text": [
            "INFO:tensorflow:Loaded ./tcav/tcav_examples/discrete/kdd_sanity2\\activations\\acts_normal._dense shape (200, 1000)\n"
          ]
        },
        {
          "name": "stdout",
          "output_type": "stream",
          "text": [
            "INFO:tensorflow:CAV already exists: ./tcav/tcav_examples/discrete/kdd_sanity2\\cav\\dst_host_same_src_port_rate_more_than_one-random500_5-dense-linear-0.01.pkl\n"
          ]
        },
        {
          "name": "stderr",
          "output_type": "stream",
          "text": [
            "INFO:tensorflow:CAV already exists: ./tcav/tcav_examples/discrete/kdd_sanity2\\cav\\dst_host_same_src_port_rate_more_than_one-random500_5-dense-linear-0.01.pkl\n"
          ]
        },
        {
          "name": "stdout",
          "output_type": "stream",
          "text": [
            "INFO:tensorflow:CAV accuracies: {'dst_host_same_src_port_rate_more_than_one': 1.0, 'random500_5': 0.6666666666666666, 'overall': 0.8571428571428571}\n"
          ]
        },
        {
          "name": "stderr",
          "output_type": "stream",
          "text": [
            "INFO:tensorflow:CAV accuracies: {'dst_host_same_src_port_rate_more_than_one': 1.0, 'random500_5': 0.6666666666666666, 'overall': 0.8571428571428571}\n"
          ]
        },
        {
          "name": "stdout",
          "output_type": "stream",
          "text": [
            "INFO:tensorflow:Running param 16 of 220\n"
          ]
        },
        {
          "name": "stderr",
          "output_type": "stream",
          "text": [
            "INFO:tensorflow:Running param 16 of 220\n"
          ]
        },
        {
          "name": "stdout",
          "output_type": "stream",
          "text": [
            "INFO:tensorflow:running normal. ['dst_host_same_src_port_rate_more_than_one', 'random500_6']\n"
          ]
        },
        {
          "name": "stderr",
          "output_type": "stream",
          "text": [
            "INFO:tensorflow:running normal. ['dst_host_same_src_port_rate_more_than_one', 'random500_6']\n"
          ]
        },
        {
          "name": "stdout",
          "output_type": "stream",
          "text": [
            "INFO:tensorflow:Loaded ./tcav/tcav_examples/discrete/kdd_sanity2\\activations\\acts_dst_host_same_src_port_rate_more_than_one_dense shape (200, 1000)\n"
          ]
        },
        {
          "name": "stderr",
          "output_type": "stream",
          "text": [
            "INFO:tensorflow:Loaded ./tcav/tcav_examples/discrete/kdd_sanity2\\activations\\acts_dst_host_same_src_port_rate_more_than_one_dense shape (200, 1000)\n"
          ]
        },
        {
          "name": "stdout",
          "output_type": "stream",
          "text": [
            "INFO:tensorflow:Loaded ./tcav/tcav_examples/discrete/kdd_sanity2\\activations\\acts_random500_6_dense shape (10, 1000)\n"
          ]
        },
        {
          "name": "stderr",
          "output_type": "stream",
          "text": [
            "INFO:tensorflow:Loaded ./tcav/tcav_examples/discrete/kdd_sanity2\\activations\\acts_random500_6_dense shape (10, 1000)\n"
          ]
        },
        {
          "name": "stdout",
          "output_type": "stream",
          "text": [
            "INFO:tensorflow:Loaded ./tcav/tcav_examples/discrete/kdd_sanity2\\activations\\acts_normal._dense shape (200, 1000)\n"
          ]
        },
        {
          "name": "stderr",
          "output_type": "stream",
          "text": [
            "INFO:tensorflow:Loaded ./tcav/tcav_examples/discrete/kdd_sanity2\\activations\\acts_normal._dense shape (200, 1000)\n"
          ]
        },
        {
          "name": "stdout",
          "output_type": "stream",
          "text": [
            "INFO:tensorflow:CAV already exists: ./tcav/tcav_examples/discrete/kdd_sanity2\\cav\\dst_host_same_src_port_rate_more_than_one-random500_6-dense-linear-0.01.pkl\n"
          ]
        },
        {
          "name": "stderr",
          "output_type": "stream",
          "text": [
            "INFO:tensorflow:CAV already exists: ./tcav/tcav_examples/discrete/kdd_sanity2\\cav\\dst_host_same_src_port_rate_more_than_one-random500_6-dense-linear-0.01.pkl\n"
          ]
        },
        {
          "name": "stdout",
          "output_type": "stream",
          "text": [
            "INFO:tensorflow:CAV accuracies: {'dst_host_same_src_port_rate_more_than_one': 0.75, 'random500_6': 0.6666666666666666, 'overall': 0.7142857142857143}\n"
          ]
        },
        {
          "name": "stderr",
          "output_type": "stream",
          "text": [
            "INFO:tensorflow:CAV accuracies: {'dst_host_same_src_port_rate_more_than_one': 0.75, 'random500_6': 0.6666666666666666, 'overall': 0.7142857142857143}\n"
          ]
        },
        {
          "name": "stdout",
          "output_type": "stream",
          "text": [
            "INFO:tensorflow:Running param 17 of 220\n"
          ]
        },
        {
          "name": "stderr",
          "output_type": "stream",
          "text": [
            "INFO:tensorflow:Running param 17 of 220\n"
          ]
        },
        {
          "name": "stdout",
          "output_type": "stream",
          "text": [
            "INFO:tensorflow:running normal. ['dst_host_same_src_port_rate_more_than_one', 'random500_7']\n"
          ]
        },
        {
          "name": "stderr",
          "output_type": "stream",
          "text": [
            "INFO:tensorflow:running normal. ['dst_host_same_src_port_rate_more_than_one', 'random500_7']\n"
          ]
        },
        {
          "name": "stdout",
          "output_type": "stream",
          "text": [
            "INFO:tensorflow:Loaded ./tcav/tcav_examples/discrete/kdd_sanity2\\activations\\acts_dst_host_same_src_port_rate_more_than_one_dense shape (200, 1000)\n"
          ]
        },
        {
          "name": "stderr",
          "output_type": "stream",
          "text": [
            "INFO:tensorflow:Loaded ./tcav/tcav_examples/discrete/kdd_sanity2\\activations\\acts_dst_host_same_src_port_rate_more_than_one_dense shape (200, 1000)\n"
          ]
        },
        {
          "name": "stdout",
          "output_type": "stream",
          "text": [
            "INFO:tensorflow:Loaded ./tcav/tcav_examples/discrete/kdd_sanity2\\activations\\acts_random500_7_dense shape (10, 1000)\n"
          ]
        },
        {
          "name": "stderr",
          "output_type": "stream",
          "text": [
            "INFO:tensorflow:Loaded ./tcav/tcav_examples/discrete/kdd_sanity2\\activations\\acts_random500_7_dense shape (10, 1000)\n"
          ]
        },
        {
          "name": "stdout",
          "output_type": "stream",
          "text": [
            "INFO:tensorflow:Loaded ./tcav/tcav_examples/discrete/kdd_sanity2\\activations\\acts_normal._dense shape (200, 1000)\n"
          ]
        },
        {
          "name": "stderr",
          "output_type": "stream",
          "text": [
            "INFO:tensorflow:Loaded ./tcav/tcav_examples/discrete/kdd_sanity2\\activations\\acts_normal._dense shape (200, 1000)\n"
          ]
        },
        {
          "name": "stdout",
          "output_type": "stream",
          "text": [
            "INFO:tensorflow:CAV already exists: ./tcav/tcav_examples/discrete/kdd_sanity2\\cav\\dst_host_same_src_port_rate_more_than_one-random500_7-dense-linear-0.01.pkl\n"
          ]
        },
        {
          "name": "stderr",
          "output_type": "stream",
          "text": [
            "INFO:tensorflow:CAV already exists: ./tcav/tcav_examples/discrete/kdd_sanity2\\cav\\dst_host_same_src_port_rate_more_than_one-random500_7-dense-linear-0.01.pkl\n"
          ]
        },
        {
          "name": "stdout",
          "output_type": "stream",
          "text": [
            "INFO:tensorflow:CAV accuracies: {'dst_host_same_src_port_rate_more_than_one': 1.0, 'random500_7': 0.75, 'overall': 0.8571428571428571}\n"
          ]
        },
        {
          "name": "stderr",
          "output_type": "stream",
          "text": [
            "INFO:tensorflow:CAV accuracies: {'dst_host_same_src_port_rate_more_than_one': 1.0, 'random500_7': 0.75, 'overall': 0.8571428571428571}\n"
          ]
        },
        {
          "name": "stdout",
          "output_type": "stream",
          "text": [
            "INFO:tensorflow:Running param 18 of 220\n"
          ]
        },
        {
          "name": "stderr",
          "output_type": "stream",
          "text": [
            "INFO:tensorflow:Running param 18 of 220\n"
          ]
        },
        {
          "name": "stdout",
          "output_type": "stream",
          "text": [
            "INFO:tensorflow:running normal. ['dst_host_same_src_port_rate_more_than_one', 'random500_8']\n"
          ]
        },
        {
          "name": "stderr",
          "output_type": "stream",
          "text": [
            "INFO:tensorflow:running normal. ['dst_host_same_src_port_rate_more_than_one', 'random500_8']\n"
          ]
        },
        {
          "name": "stdout",
          "output_type": "stream",
          "text": [
            "INFO:tensorflow:Loaded ./tcav/tcav_examples/discrete/kdd_sanity2\\activations\\acts_dst_host_same_src_port_rate_more_than_one_dense shape (200, 1000)\n"
          ]
        },
        {
          "name": "stderr",
          "output_type": "stream",
          "text": [
            "INFO:tensorflow:Loaded ./tcav/tcav_examples/discrete/kdd_sanity2\\activations\\acts_dst_host_same_src_port_rate_more_than_one_dense shape (200, 1000)\n"
          ]
        },
        {
          "name": "stdout",
          "output_type": "stream",
          "text": [
            "INFO:tensorflow:Loaded ./tcav/tcav_examples/discrete/kdd_sanity2\\activations\\acts_random500_8_dense shape (10, 1000)\n"
          ]
        },
        {
          "name": "stderr",
          "output_type": "stream",
          "text": [
            "INFO:tensorflow:Loaded ./tcav/tcav_examples/discrete/kdd_sanity2\\activations\\acts_random500_8_dense shape (10, 1000)\n"
          ]
        },
        {
          "name": "stdout",
          "output_type": "stream",
          "text": [
            "INFO:tensorflow:Loaded ./tcav/tcav_examples/discrete/kdd_sanity2\\activations\\acts_normal._dense shape (200, 1000)\n"
          ]
        },
        {
          "name": "stderr",
          "output_type": "stream",
          "text": [
            "INFO:tensorflow:Loaded ./tcav/tcav_examples/discrete/kdd_sanity2\\activations\\acts_normal._dense shape (200, 1000)\n"
          ]
        },
        {
          "name": "stdout",
          "output_type": "stream",
          "text": [
            "INFO:tensorflow:CAV already exists: ./tcav/tcav_examples/discrete/kdd_sanity2\\cav\\dst_host_same_src_port_rate_more_than_one-random500_8-dense-linear-0.01.pkl\n"
          ]
        },
        {
          "name": "stderr",
          "output_type": "stream",
          "text": [
            "INFO:tensorflow:CAV already exists: ./tcav/tcav_examples/discrete/kdd_sanity2\\cav\\dst_host_same_src_port_rate_more_than_one-random500_8-dense-linear-0.01.pkl\n"
          ]
        },
        {
          "name": "stdout",
          "output_type": "stream",
          "text": [
            "INFO:tensorflow:CAV accuracies: {'dst_host_same_src_port_rate_more_than_one': 1.0, 'random500_8': 1.0, 'overall': 1.0}\n"
          ]
        },
        {
          "name": "stderr",
          "output_type": "stream",
          "text": [
            "INFO:tensorflow:CAV accuracies: {'dst_host_same_src_port_rate_more_than_one': 1.0, 'random500_8': 1.0, 'overall': 1.0}\n"
          ]
        },
        {
          "name": "stdout",
          "output_type": "stream",
          "text": [
            "INFO:tensorflow:Running param 19 of 220\n"
          ]
        },
        {
          "name": "stderr",
          "output_type": "stream",
          "text": [
            "INFO:tensorflow:Running param 19 of 220\n"
          ]
        },
        {
          "name": "stdout",
          "output_type": "stream",
          "text": [
            "INFO:tensorflow:running normal. ['dst_host_same_src_port_rate_more_than_one', 'random500_9']\n"
          ]
        },
        {
          "name": "stderr",
          "output_type": "stream",
          "text": [
            "INFO:tensorflow:running normal. ['dst_host_same_src_port_rate_more_than_one', 'random500_9']\n"
          ]
        },
        {
          "name": "stdout",
          "output_type": "stream",
          "text": [
            "INFO:tensorflow:Loaded ./tcav/tcav_examples/discrete/kdd_sanity2\\activations\\acts_dst_host_same_src_port_rate_more_than_one_dense shape (200, 1000)\n"
          ]
        },
        {
          "name": "stderr",
          "output_type": "stream",
          "text": [
            "INFO:tensorflow:Loaded ./tcav/tcav_examples/discrete/kdd_sanity2\\activations\\acts_dst_host_same_src_port_rate_more_than_one_dense shape (200, 1000)\n"
          ]
        },
        {
          "name": "stdout",
          "output_type": "stream",
          "text": [
            "INFO:tensorflow:Loaded ./tcav/tcav_examples/discrete/kdd_sanity2\\activations\\acts_random500_9_dense shape (10, 1000)\n"
          ]
        },
        {
          "name": "stderr",
          "output_type": "stream",
          "text": [
            "INFO:tensorflow:Loaded ./tcav/tcav_examples/discrete/kdd_sanity2\\activations\\acts_random500_9_dense shape (10, 1000)\n"
          ]
        },
        {
          "name": "stdout",
          "output_type": "stream",
          "text": [
            "INFO:tensorflow:Loaded ./tcav/tcav_examples/discrete/kdd_sanity2\\activations\\acts_normal._dense shape (200, 1000)\n"
          ]
        },
        {
          "name": "stderr",
          "output_type": "stream",
          "text": [
            "INFO:tensorflow:Loaded ./tcav/tcav_examples/discrete/kdd_sanity2\\activations\\acts_normal._dense shape (200, 1000)\n"
          ]
        },
        {
          "name": "stdout",
          "output_type": "stream",
          "text": [
            "INFO:tensorflow:CAV already exists: ./tcav/tcav_examples/discrete/kdd_sanity2\\cav\\dst_host_same_src_port_rate_more_than_one-random500_9-dense-linear-0.01.pkl\n"
          ]
        },
        {
          "name": "stderr",
          "output_type": "stream",
          "text": [
            "INFO:tensorflow:CAV already exists: ./tcav/tcav_examples/discrete/kdd_sanity2\\cav\\dst_host_same_src_port_rate_more_than_one-random500_9-dense-linear-0.01.pkl\n"
          ]
        },
        {
          "name": "stdout",
          "output_type": "stream",
          "text": [
            "INFO:tensorflow:CAV accuracies: {'dst_host_same_src_port_rate_more_than_one': 1.0, 'random500_9': 1.0, 'overall': 1.0}\n"
          ]
        },
        {
          "name": "stderr",
          "output_type": "stream",
          "text": [
            "INFO:tensorflow:CAV accuracies: {'dst_host_same_src_port_rate_more_than_one': 1.0, 'random500_9': 1.0, 'overall': 1.0}\n"
          ]
        },
        {
          "name": "stdout",
          "output_type": "stream",
          "text": [
            "INFO:tensorflow:Running param 20 of 220\n"
          ]
        },
        {
          "name": "stderr",
          "output_type": "stream",
          "text": [
            "INFO:tensorflow:Running param 20 of 220\n"
          ]
        },
        {
          "name": "stdout",
          "output_type": "stream",
          "text": [
            "INFO:tensorflow:running normal. ['random500_0', 'random500_1']\n"
          ]
        },
        {
          "name": "stderr",
          "output_type": "stream",
          "text": [
            "INFO:tensorflow:running normal. ['random500_0', 'random500_1']\n"
          ]
        },
        {
          "name": "stdout",
          "output_type": "stream",
          "text": [
            "INFO:tensorflow:Loaded ./tcav/tcav_examples/discrete/kdd_sanity2\\activations\\acts_random500_0_dense shape (10, 1000)\n"
          ]
        },
        {
          "name": "stderr",
          "output_type": "stream",
          "text": [
            "INFO:tensorflow:Loaded ./tcav/tcav_examples/discrete/kdd_sanity2\\activations\\acts_random500_0_dense shape (10, 1000)\n"
          ]
        },
        {
          "name": "stdout",
          "output_type": "stream",
          "text": [
            "INFO:tensorflow:Loaded ./tcav/tcav_examples/discrete/kdd_sanity2\\activations\\acts_random500_1_dense shape (10, 1000)\n"
          ]
        },
        {
          "name": "stderr",
          "output_type": "stream",
          "text": [
            "INFO:tensorflow:Loaded ./tcav/tcav_examples/discrete/kdd_sanity2\\activations\\acts_random500_1_dense shape (10, 1000)\n"
          ]
        },
        {
          "name": "stdout",
          "output_type": "stream",
          "text": [
            "INFO:tensorflow:Loaded ./tcav/tcav_examples/discrete/kdd_sanity2\\activations\\acts_normal._dense shape (200, 1000)\n"
          ]
        },
        {
          "name": "stderr",
          "output_type": "stream",
          "text": [
            "INFO:tensorflow:Loaded ./tcav/tcav_examples/discrete/kdd_sanity2\\activations\\acts_normal._dense shape (200, 1000)\n"
          ]
        },
        {
          "name": "stdout",
          "output_type": "stream",
          "text": [
            "INFO:tensorflow:CAV already exists: ./tcav/tcav_examples/discrete/kdd_sanity2\\cav\\random500_0-random500_1-dense-linear-0.01.pkl\n"
          ]
        },
        {
          "name": "stderr",
          "output_type": "stream",
          "text": [
            "INFO:tensorflow:CAV already exists: ./tcav/tcav_examples/discrete/kdd_sanity2\\cav\\random500_0-random500_1-dense-linear-0.01.pkl\n"
          ]
        },
        {
          "name": "stdout",
          "output_type": "stream",
          "text": [
            "INFO:tensorflow:CAV accuracies: {'random500_0': 1.0, 'random500_1': 0.0, 'overall': 0.5714285714285714}\n"
          ]
        },
        {
          "name": "stderr",
          "output_type": "stream",
          "text": [
            "INFO:tensorflow:CAV accuracies: {'random500_0': 1.0, 'random500_1': 0.0, 'overall': 0.5714285714285714}\n"
          ]
        },
        {
          "name": "stdout",
          "output_type": "stream",
          "text": [
            "INFO:tensorflow:Running param 21 of 220\n"
          ]
        },
        {
          "name": "stderr",
          "output_type": "stream",
          "text": [
            "INFO:tensorflow:Running param 21 of 220\n"
          ]
        },
        {
          "name": "stdout",
          "output_type": "stream",
          "text": [
            "INFO:tensorflow:running normal. ['random500_0', 'random500_2']\n"
          ]
        },
        {
          "name": "stderr",
          "output_type": "stream",
          "text": [
            "INFO:tensorflow:running normal. ['random500_0', 'random500_2']\n"
          ]
        },
        {
          "name": "stdout",
          "output_type": "stream",
          "text": [
            "INFO:tensorflow:Loaded ./tcav/tcav_examples/discrete/kdd_sanity2\\activations\\acts_random500_0_dense shape (10, 1000)\n"
          ]
        },
        {
          "name": "stderr",
          "output_type": "stream",
          "text": [
            "INFO:tensorflow:Loaded ./tcav/tcav_examples/discrete/kdd_sanity2\\activations\\acts_random500_0_dense shape (10, 1000)\n"
          ]
        },
        {
          "name": "stdout",
          "output_type": "stream",
          "text": [
            "INFO:tensorflow:Loaded ./tcav/tcav_examples/discrete/kdd_sanity2\\activations\\acts_random500_2_dense shape (10, 1000)\n"
          ]
        },
        {
          "name": "stderr",
          "output_type": "stream",
          "text": [
            "INFO:tensorflow:Loaded ./tcav/tcav_examples/discrete/kdd_sanity2\\activations\\acts_random500_2_dense shape (10, 1000)\n"
          ]
        },
        {
          "name": "stdout",
          "output_type": "stream",
          "text": [
            "INFO:tensorflow:Loaded ./tcav/tcav_examples/discrete/kdd_sanity2\\activations\\acts_normal._dense shape (200, 1000)\n"
          ]
        },
        {
          "name": "stderr",
          "output_type": "stream",
          "text": [
            "INFO:tensorflow:Loaded ./tcav/tcav_examples/discrete/kdd_sanity2\\activations\\acts_normal._dense shape (200, 1000)\n"
          ]
        },
        {
          "name": "stdout",
          "output_type": "stream",
          "text": [
            "INFO:tensorflow:CAV already exists: ./tcav/tcav_examples/discrete/kdd_sanity2\\cav\\random500_0-random500_2-dense-linear-0.01.pkl\n"
          ]
        },
        {
          "name": "stderr",
          "output_type": "stream",
          "text": [
            "INFO:tensorflow:CAV already exists: ./tcav/tcav_examples/discrete/kdd_sanity2\\cav\\random500_0-random500_2-dense-linear-0.01.pkl\n"
          ]
        },
        {
          "name": "stdout",
          "output_type": "stream",
          "text": [
            "INFO:tensorflow:CAV accuracies: {'random500_0': 0.6666666666666666, 'random500_2': 1.0, 'overall': 0.8571428571428571}\n"
          ]
        },
        {
          "name": "stderr",
          "output_type": "stream",
          "text": [
            "INFO:tensorflow:CAV accuracies: {'random500_0': 0.6666666666666666, 'random500_2': 1.0, 'overall': 0.8571428571428571}\n"
          ]
        },
        {
          "name": "stdout",
          "output_type": "stream",
          "text": [
            "INFO:tensorflow:Running param 22 of 220\n"
          ]
        },
        {
          "name": "stderr",
          "output_type": "stream",
          "text": [
            "INFO:tensorflow:Running param 22 of 220\n"
          ]
        },
        {
          "name": "stdout",
          "output_type": "stream",
          "text": [
            "INFO:tensorflow:running normal. ['random500_0', 'random500_3']\n"
          ]
        },
        {
          "name": "stderr",
          "output_type": "stream",
          "text": [
            "INFO:tensorflow:running normal. ['random500_0', 'random500_3']\n"
          ]
        },
        {
          "name": "stdout",
          "output_type": "stream",
          "text": [
            "INFO:tensorflow:Loaded ./tcav/tcav_examples/discrete/kdd_sanity2\\activations\\acts_random500_0_dense shape (10, 1000)\n"
          ]
        },
        {
          "name": "stderr",
          "output_type": "stream",
          "text": [
            "INFO:tensorflow:Loaded ./tcav/tcav_examples/discrete/kdd_sanity2\\activations\\acts_random500_0_dense shape (10, 1000)\n"
          ]
        },
        {
          "name": "stdout",
          "output_type": "stream",
          "text": [
            "INFO:tensorflow:Loaded ./tcav/tcav_examples/discrete/kdd_sanity2\\activations\\acts_random500_3_dense shape (10, 1000)\n"
          ]
        },
        {
          "name": "stderr",
          "output_type": "stream",
          "text": [
            "INFO:tensorflow:Loaded ./tcav/tcav_examples/discrete/kdd_sanity2\\activations\\acts_random500_3_dense shape (10, 1000)\n"
          ]
        },
        {
          "name": "stdout",
          "output_type": "stream",
          "text": [
            "INFO:tensorflow:Loaded ./tcav/tcav_examples/discrete/kdd_sanity2\\activations\\acts_normal._dense shape (200, 1000)\n"
          ]
        },
        {
          "name": "stderr",
          "output_type": "stream",
          "text": [
            "INFO:tensorflow:Loaded ./tcav/tcav_examples/discrete/kdd_sanity2\\activations\\acts_normal._dense shape (200, 1000)\n"
          ]
        },
        {
          "name": "stdout",
          "output_type": "stream",
          "text": [
            "INFO:tensorflow:CAV already exists: ./tcav/tcav_examples/discrete/kdd_sanity2\\cav\\random500_0-random500_3-dense-linear-0.01.pkl\n"
          ]
        },
        {
          "name": "stderr",
          "output_type": "stream",
          "text": [
            "INFO:tensorflow:CAV already exists: ./tcav/tcav_examples/discrete/kdd_sanity2\\cav\\random500_0-random500_3-dense-linear-0.01.pkl\n"
          ]
        },
        {
          "name": "stdout",
          "output_type": "stream",
          "text": [
            "INFO:tensorflow:CAV accuracies: {'random500_0': 1.0, 'random500_3': 0.0, 'overall': 0.5714285714285714}\n"
          ]
        },
        {
          "name": "stderr",
          "output_type": "stream",
          "text": [
            "INFO:tensorflow:CAV accuracies: {'random500_0': 1.0, 'random500_3': 0.0, 'overall': 0.5714285714285714}\n"
          ]
        },
        {
          "name": "stdout",
          "output_type": "stream",
          "text": [
            "INFO:tensorflow:Running param 23 of 220\n"
          ]
        },
        {
          "name": "stderr",
          "output_type": "stream",
          "text": [
            "INFO:tensorflow:Running param 23 of 220\n"
          ]
        },
        {
          "name": "stdout",
          "output_type": "stream",
          "text": [
            "INFO:tensorflow:running normal. ['random500_0', 'random500_4']\n"
          ]
        },
        {
          "name": "stderr",
          "output_type": "stream",
          "text": [
            "INFO:tensorflow:running normal. ['random500_0', 'random500_4']\n"
          ]
        },
        {
          "name": "stdout",
          "output_type": "stream",
          "text": [
            "INFO:tensorflow:Loaded ./tcav/tcav_examples/discrete/kdd_sanity2\\activations\\acts_random500_0_dense shape (10, 1000)\n"
          ]
        },
        {
          "name": "stderr",
          "output_type": "stream",
          "text": [
            "INFO:tensorflow:Loaded ./tcav/tcav_examples/discrete/kdd_sanity2\\activations\\acts_random500_0_dense shape (10, 1000)\n"
          ]
        },
        {
          "name": "stdout",
          "output_type": "stream",
          "text": [
            "INFO:tensorflow:Loaded ./tcav/tcav_examples/discrete/kdd_sanity2\\activations\\acts_random500_4_dense shape (10, 1000)\n"
          ]
        },
        {
          "name": "stderr",
          "output_type": "stream",
          "text": [
            "INFO:tensorflow:Loaded ./tcav/tcav_examples/discrete/kdd_sanity2\\activations\\acts_random500_4_dense shape (10, 1000)\n"
          ]
        },
        {
          "name": "stdout",
          "output_type": "stream",
          "text": [
            "INFO:tensorflow:Loaded ./tcav/tcav_examples/discrete/kdd_sanity2\\activations\\acts_normal._dense shape (200, 1000)\n"
          ]
        },
        {
          "name": "stderr",
          "output_type": "stream",
          "text": [
            "INFO:tensorflow:Loaded ./tcav/tcav_examples/discrete/kdd_sanity2\\activations\\acts_normal._dense shape (200, 1000)\n"
          ]
        },
        {
          "name": "stdout",
          "output_type": "stream",
          "text": [
            "INFO:tensorflow:CAV already exists: ./tcav/tcav_examples/discrete/kdd_sanity2\\cav\\random500_0-random500_4-dense-linear-0.01.pkl\n"
          ]
        },
        {
          "name": "stderr",
          "output_type": "stream",
          "text": [
            "INFO:tensorflow:CAV already exists: ./tcav/tcav_examples/discrete/kdd_sanity2\\cav\\random500_0-random500_4-dense-linear-0.01.pkl\n"
          ]
        },
        {
          "name": "stdout",
          "output_type": "stream",
          "text": [
            "INFO:tensorflow:CAV accuracies: {'random500_0': 1.0, 'random500_4': 0.6666666666666666, 'overall': 0.8571428571428571}\n"
          ]
        },
        {
          "name": "stderr",
          "output_type": "stream",
          "text": [
            "INFO:tensorflow:CAV accuracies: {'random500_0': 1.0, 'random500_4': 0.6666666666666666, 'overall': 0.8571428571428571}\n"
          ]
        },
        {
          "name": "stdout",
          "output_type": "stream",
          "text": [
            "INFO:tensorflow:Running param 24 of 220\n"
          ]
        },
        {
          "name": "stderr",
          "output_type": "stream",
          "text": [
            "INFO:tensorflow:Running param 24 of 220\n"
          ]
        },
        {
          "name": "stdout",
          "output_type": "stream",
          "text": [
            "INFO:tensorflow:running normal. ['random500_0', 'random500_5']\n"
          ]
        },
        {
          "name": "stderr",
          "output_type": "stream",
          "text": [
            "INFO:tensorflow:running normal. ['random500_0', 'random500_5']\n"
          ]
        },
        {
          "name": "stdout",
          "output_type": "stream",
          "text": [
            "INFO:tensorflow:Loaded ./tcav/tcav_examples/discrete/kdd_sanity2\\activations\\acts_random500_0_dense shape (10, 1000)\n"
          ]
        },
        {
          "name": "stderr",
          "output_type": "stream",
          "text": [
            "INFO:tensorflow:Loaded ./tcav/tcav_examples/discrete/kdd_sanity2\\activations\\acts_random500_0_dense shape (10, 1000)\n"
          ]
        },
        {
          "name": "stdout",
          "output_type": "stream",
          "text": [
            "INFO:tensorflow:Loaded ./tcav/tcav_examples/discrete/kdd_sanity2\\activations\\acts_random500_5_dense shape (10, 1000)\n"
          ]
        },
        {
          "name": "stderr",
          "output_type": "stream",
          "text": [
            "INFO:tensorflow:Loaded ./tcav/tcav_examples/discrete/kdd_sanity2\\activations\\acts_random500_5_dense shape (10, 1000)\n"
          ]
        },
        {
          "name": "stdout",
          "output_type": "stream",
          "text": [
            "INFO:tensorflow:Loaded ./tcav/tcav_examples/discrete/kdd_sanity2\\activations\\acts_normal._dense shape (200, 1000)\n"
          ]
        },
        {
          "name": "stderr",
          "output_type": "stream",
          "text": [
            "INFO:tensorflow:Loaded ./tcav/tcav_examples/discrete/kdd_sanity2\\activations\\acts_normal._dense shape (200, 1000)\n"
          ]
        },
        {
          "name": "stdout",
          "output_type": "stream",
          "text": [
            "INFO:tensorflow:CAV already exists: ./tcav/tcav_examples/discrete/kdd_sanity2\\cav\\random500_0-random500_5-dense-linear-0.01.pkl\n"
          ]
        },
        {
          "name": "stderr",
          "output_type": "stream",
          "text": [
            "INFO:tensorflow:CAV already exists: ./tcav/tcav_examples/discrete/kdd_sanity2\\cav\\random500_0-random500_5-dense-linear-0.01.pkl\n"
          ]
        },
        {
          "name": "stdout",
          "output_type": "stream",
          "text": [
            "INFO:tensorflow:CAV accuracies: {'random500_0': 1.0, 'random500_5': 0.3333333333333333, 'overall': 0.7142857142857143}\n"
          ]
        },
        {
          "name": "stderr",
          "output_type": "stream",
          "text": [
            "INFO:tensorflow:CAV accuracies: {'random500_0': 1.0, 'random500_5': 0.3333333333333333, 'overall': 0.7142857142857143}\n"
          ]
        },
        {
          "name": "stdout",
          "output_type": "stream",
          "text": [
            "INFO:tensorflow:Running param 25 of 220\n"
          ]
        },
        {
          "name": "stderr",
          "output_type": "stream",
          "text": [
            "INFO:tensorflow:Running param 25 of 220\n"
          ]
        },
        {
          "name": "stdout",
          "output_type": "stream",
          "text": [
            "INFO:tensorflow:running normal. ['random500_0', 'random500_6']\n"
          ]
        },
        {
          "name": "stderr",
          "output_type": "stream",
          "text": [
            "INFO:tensorflow:running normal. ['random500_0', 'random500_6']\n"
          ]
        },
        {
          "name": "stdout",
          "output_type": "stream",
          "text": [
            "INFO:tensorflow:Loaded ./tcav/tcav_examples/discrete/kdd_sanity2\\activations\\acts_random500_0_dense shape (10, 1000)\n"
          ]
        },
        {
          "name": "stderr",
          "output_type": "stream",
          "text": [
            "INFO:tensorflow:Loaded ./tcav/tcav_examples/discrete/kdd_sanity2\\activations\\acts_random500_0_dense shape (10, 1000)\n"
          ]
        },
        {
          "name": "stdout",
          "output_type": "stream",
          "text": [
            "INFO:tensorflow:Loaded ./tcav/tcav_examples/discrete/kdd_sanity2\\activations\\acts_random500_6_dense shape (10, 1000)\n"
          ]
        },
        {
          "name": "stderr",
          "output_type": "stream",
          "text": [
            "INFO:tensorflow:Loaded ./tcav/tcav_examples/discrete/kdd_sanity2\\activations\\acts_random500_6_dense shape (10, 1000)\n"
          ]
        },
        {
          "name": "stdout",
          "output_type": "stream",
          "text": [
            "INFO:tensorflow:Loaded ./tcav/tcav_examples/discrete/kdd_sanity2\\activations\\acts_normal._dense shape (200, 1000)\n"
          ]
        },
        {
          "name": "stderr",
          "output_type": "stream",
          "text": [
            "INFO:tensorflow:Loaded ./tcav/tcav_examples/discrete/kdd_sanity2\\activations\\acts_normal._dense shape (200, 1000)\n"
          ]
        },
        {
          "name": "stdout",
          "output_type": "stream",
          "text": [
            "INFO:tensorflow:CAV already exists: ./tcav/tcav_examples/discrete/kdd_sanity2\\cav\\random500_0-random500_6-dense-linear-0.01.pkl\n"
          ]
        },
        {
          "name": "stderr",
          "output_type": "stream",
          "text": [
            "INFO:tensorflow:CAV already exists: ./tcav/tcav_examples/discrete/kdd_sanity2\\cav\\random500_0-random500_6-dense-linear-0.01.pkl\n"
          ]
        },
        {
          "name": "stdout",
          "output_type": "stream",
          "text": [
            "INFO:tensorflow:CAV accuracies: {'random500_0': 1.0, 'random500_6': 0.6666666666666666, 'overall': 0.8571428571428571}\n"
          ]
        },
        {
          "name": "stderr",
          "output_type": "stream",
          "text": [
            "INFO:tensorflow:CAV accuracies: {'random500_0': 1.0, 'random500_6': 0.6666666666666666, 'overall': 0.8571428571428571}\n"
          ]
        },
        {
          "name": "stdout",
          "output_type": "stream",
          "text": [
            "INFO:tensorflow:Running param 26 of 220\n"
          ]
        },
        {
          "name": "stderr",
          "output_type": "stream",
          "text": [
            "INFO:tensorflow:Running param 26 of 220\n"
          ]
        },
        {
          "name": "stdout",
          "output_type": "stream",
          "text": [
            "INFO:tensorflow:running normal. ['random500_0', 'random500_7']\n"
          ]
        },
        {
          "name": "stderr",
          "output_type": "stream",
          "text": [
            "INFO:tensorflow:running normal. ['random500_0', 'random500_7']\n"
          ]
        },
        {
          "name": "stdout",
          "output_type": "stream",
          "text": [
            "INFO:tensorflow:Loaded ./tcav/tcav_examples/discrete/kdd_sanity2\\activations\\acts_random500_0_dense shape (10, 1000)\n"
          ]
        },
        {
          "name": "stderr",
          "output_type": "stream",
          "text": [
            "INFO:tensorflow:Loaded ./tcav/tcav_examples/discrete/kdd_sanity2\\activations\\acts_random500_0_dense shape (10, 1000)\n"
          ]
        },
        {
          "name": "stdout",
          "output_type": "stream",
          "text": [
            "INFO:tensorflow:Loaded ./tcav/tcav_examples/discrete/kdd_sanity2\\activations\\acts_random500_7_dense shape (10, 1000)\n"
          ]
        },
        {
          "name": "stderr",
          "output_type": "stream",
          "text": [
            "INFO:tensorflow:Loaded ./tcav/tcav_examples/discrete/kdd_sanity2\\activations\\acts_random500_7_dense shape (10, 1000)\n"
          ]
        },
        {
          "name": "stdout",
          "output_type": "stream",
          "text": [
            "INFO:tensorflow:Loaded ./tcav/tcav_examples/discrete/kdd_sanity2\\activations\\acts_normal._dense shape (200, 1000)\n"
          ]
        },
        {
          "name": "stderr",
          "output_type": "stream",
          "text": [
            "INFO:tensorflow:Loaded ./tcav/tcav_examples/discrete/kdd_sanity2\\activations\\acts_normal._dense shape (200, 1000)\n"
          ]
        },
        {
          "name": "stdout",
          "output_type": "stream",
          "text": [
            "INFO:tensorflow:CAV already exists: ./tcav/tcav_examples/discrete/kdd_sanity2\\cav\\random500_0-random500_7-dense-linear-0.01.pkl\n"
          ]
        },
        {
          "name": "stderr",
          "output_type": "stream",
          "text": [
            "INFO:tensorflow:CAV already exists: ./tcav/tcav_examples/discrete/kdd_sanity2\\cav\\random500_0-random500_7-dense-linear-0.01.pkl\n"
          ]
        },
        {
          "name": "stdout",
          "output_type": "stream",
          "text": [
            "INFO:tensorflow:CAV accuracies: {'random500_0': 1.0, 'random500_7': 0.75, 'overall': 0.8571428571428571}\n"
          ]
        },
        {
          "name": "stderr",
          "output_type": "stream",
          "text": [
            "INFO:tensorflow:CAV accuracies: {'random500_0': 1.0, 'random500_7': 0.75, 'overall': 0.8571428571428571}\n"
          ]
        },
        {
          "name": "stdout",
          "output_type": "stream",
          "text": [
            "INFO:tensorflow:Running param 27 of 220\n"
          ]
        },
        {
          "name": "stderr",
          "output_type": "stream",
          "text": [
            "INFO:tensorflow:Running param 27 of 220\n"
          ]
        },
        {
          "name": "stdout",
          "output_type": "stream",
          "text": [
            "INFO:tensorflow:running normal. ['random500_0', 'random500_8']\n"
          ]
        },
        {
          "name": "stderr",
          "output_type": "stream",
          "text": [
            "INFO:tensorflow:running normal. ['random500_0', 'random500_8']\n"
          ]
        },
        {
          "name": "stdout",
          "output_type": "stream",
          "text": [
            "INFO:tensorflow:Loaded ./tcav/tcav_examples/discrete/kdd_sanity2\\activations\\acts_random500_0_dense shape (10, 1000)\n"
          ]
        },
        {
          "name": "stderr",
          "output_type": "stream",
          "text": [
            "INFO:tensorflow:Loaded ./tcav/tcav_examples/discrete/kdd_sanity2\\activations\\acts_random500_0_dense shape (10, 1000)\n"
          ]
        },
        {
          "name": "stdout",
          "output_type": "stream",
          "text": [
            "INFO:tensorflow:Loaded ./tcav/tcav_examples/discrete/kdd_sanity2\\activations\\acts_random500_8_dense shape (10, 1000)\n"
          ]
        },
        {
          "name": "stderr",
          "output_type": "stream",
          "text": [
            "INFO:tensorflow:Loaded ./tcav/tcav_examples/discrete/kdd_sanity2\\activations\\acts_random500_8_dense shape (10, 1000)\n"
          ]
        },
        {
          "name": "stdout",
          "output_type": "stream",
          "text": [
            "INFO:tensorflow:Loaded ./tcav/tcav_examples/discrete/kdd_sanity2\\activations\\acts_normal._dense shape (200, 1000)\n"
          ]
        },
        {
          "name": "stderr",
          "output_type": "stream",
          "text": [
            "INFO:tensorflow:Loaded ./tcav/tcav_examples/discrete/kdd_sanity2\\activations\\acts_normal._dense shape (200, 1000)\n"
          ]
        },
        {
          "name": "stdout",
          "output_type": "stream",
          "text": [
            "INFO:tensorflow:CAV already exists: ./tcav/tcav_examples/discrete/kdd_sanity2\\cav\\random500_0-random500_8-dense-linear-0.01.pkl\n"
          ]
        },
        {
          "name": "stderr",
          "output_type": "stream",
          "text": [
            "INFO:tensorflow:CAV already exists: ./tcav/tcav_examples/discrete/kdd_sanity2\\cav\\random500_0-random500_8-dense-linear-0.01.pkl\n"
          ]
        },
        {
          "name": "stdout",
          "output_type": "stream",
          "text": [
            "INFO:tensorflow:CAV accuracies: {'random500_0': 0.6666666666666666, 'random500_8': 0.5, 'overall': 0.5714285714285714}\n"
          ]
        },
        {
          "name": "stderr",
          "output_type": "stream",
          "text": [
            "INFO:tensorflow:CAV accuracies: {'random500_0': 0.6666666666666666, 'random500_8': 0.5, 'overall': 0.5714285714285714}\n"
          ]
        },
        {
          "name": "stdout",
          "output_type": "stream",
          "text": [
            "INFO:tensorflow:Running param 28 of 220\n"
          ]
        },
        {
          "name": "stderr",
          "output_type": "stream",
          "text": [
            "INFO:tensorflow:Running param 28 of 220\n"
          ]
        },
        {
          "name": "stdout",
          "output_type": "stream",
          "text": [
            "INFO:tensorflow:running normal. ['random500_0', 'random500_9']\n"
          ]
        },
        {
          "name": "stderr",
          "output_type": "stream",
          "text": [
            "INFO:tensorflow:running normal. ['random500_0', 'random500_9']\n"
          ]
        },
        {
          "name": "stdout",
          "output_type": "stream",
          "text": [
            "INFO:tensorflow:Loaded ./tcav/tcav_examples/discrete/kdd_sanity2\\activations\\acts_random500_0_dense shape (10, 1000)\n"
          ]
        },
        {
          "name": "stderr",
          "output_type": "stream",
          "text": [
            "INFO:tensorflow:Loaded ./tcav/tcav_examples/discrete/kdd_sanity2\\activations\\acts_random500_0_dense shape (10, 1000)\n"
          ]
        },
        {
          "name": "stdout",
          "output_type": "stream",
          "text": [
            "INFO:tensorflow:Loaded ./tcav/tcav_examples/discrete/kdd_sanity2\\activations\\acts_random500_9_dense shape (10, 1000)\n"
          ]
        },
        {
          "name": "stderr",
          "output_type": "stream",
          "text": [
            "INFO:tensorflow:Loaded ./tcav/tcav_examples/discrete/kdd_sanity2\\activations\\acts_random500_9_dense shape (10, 1000)\n"
          ]
        },
        {
          "name": "stdout",
          "output_type": "stream",
          "text": [
            "INFO:tensorflow:Loaded ./tcav/tcav_examples/discrete/kdd_sanity2\\activations\\acts_normal._dense shape (200, 1000)\n"
          ]
        },
        {
          "name": "stderr",
          "output_type": "stream",
          "text": [
            "INFO:tensorflow:Loaded ./tcav/tcav_examples/discrete/kdd_sanity2\\activations\\acts_normal._dense shape (200, 1000)\n"
          ]
        },
        {
          "name": "stdout",
          "output_type": "stream",
          "text": [
            "INFO:tensorflow:CAV already exists: ./tcav/tcav_examples/discrete/kdd_sanity2\\cav\\random500_0-random500_9-dense-linear-0.01.pkl\n"
          ]
        },
        {
          "name": "stderr",
          "output_type": "stream",
          "text": [
            "INFO:tensorflow:CAV already exists: ./tcav/tcav_examples/discrete/kdd_sanity2\\cav\\random500_0-random500_9-dense-linear-0.01.pkl\n"
          ]
        },
        {
          "name": "stdout",
          "output_type": "stream",
          "text": [
            "INFO:tensorflow:CAV accuracies: {'random500_0': 0.0, 'random500_9': 1.0, 'overall': 0.5714285714285714}\n"
          ]
        },
        {
          "name": "stderr",
          "output_type": "stream",
          "text": [
            "INFO:tensorflow:CAV accuracies: {'random500_0': 0.0, 'random500_9': 1.0, 'overall': 0.5714285714285714}\n"
          ]
        },
        {
          "name": "stdout",
          "output_type": "stream",
          "text": [
            "INFO:tensorflow:Running param 29 of 220\n"
          ]
        },
        {
          "name": "stderr",
          "output_type": "stream",
          "text": [
            "INFO:tensorflow:Running param 29 of 220\n"
          ]
        },
        {
          "name": "stdout",
          "output_type": "stream",
          "text": [
            "INFO:tensorflow:running normal. ['random500_1', 'random500_0']\n"
          ]
        },
        {
          "name": "stderr",
          "output_type": "stream",
          "text": [
            "INFO:tensorflow:running normal. ['random500_1', 'random500_0']\n"
          ]
        },
        {
          "name": "stdout",
          "output_type": "stream",
          "text": [
            "INFO:tensorflow:Loaded ./tcav/tcav_examples/discrete/kdd_sanity2\\activations\\acts_random500_1_dense shape (10, 1000)\n"
          ]
        },
        {
          "name": "stderr",
          "output_type": "stream",
          "text": [
            "INFO:tensorflow:Loaded ./tcav/tcav_examples/discrete/kdd_sanity2\\activations\\acts_random500_1_dense shape (10, 1000)\n"
          ]
        },
        {
          "name": "stdout",
          "output_type": "stream",
          "text": [
            "INFO:tensorflow:Loaded ./tcav/tcav_examples/discrete/kdd_sanity2\\activations\\acts_random500_0_dense shape (10, 1000)\n"
          ]
        },
        {
          "name": "stderr",
          "output_type": "stream",
          "text": [
            "INFO:tensorflow:Loaded ./tcav/tcav_examples/discrete/kdd_sanity2\\activations\\acts_random500_0_dense shape (10, 1000)\n"
          ]
        },
        {
          "name": "stdout",
          "output_type": "stream",
          "text": [
            "INFO:tensorflow:Loaded ./tcav/tcav_examples/discrete/kdd_sanity2\\activations\\acts_normal._dense shape (200, 1000)\n"
          ]
        },
        {
          "name": "stderr",
          "output_type": "stream",
          "text": [
            "INFO:tensorflow:Loaded ./tcav/tcav_examples/discrete/kdd_sanity2\\activations\\acts_normal._dense shape (200, 1000)\n"
          ]
        },
        {
          "name": "stdout",
          "output_type": "stream",
          "text": [
            "INFO:tensorflow:CAV already exists: ./tcav/tcav_examples/discrete/kdd_sanity2\\cav\\random500_1-random500_0-dense-linear-0.01.pkl\n"
          ]
        },
        {
          "name": "stderr",
          "output_type": "stream",
          "text": [
            "INFO:tensorflow:CAV already exists: ./tcav/tcav_examples/discrete/kdd_sanity2\\cav\\random500_1-random500_0-dense-linear-0.01.pkl\n"
          ]
        },
        {
          "name": "stdout",
          "output_type": "stream",
          "text": [
            "INFO:tensorflow:CAV accuracies: {'random500_1': 1.0, 'random500_0': 1.0, 'overall': 1.0}\n"
          ]
        },
        {
          "name": "stderr",
          "output_type": "stream",
          "text": [
            "INFO:tensorflow:CAV accuracies: {'random500_1': 1.0, 'random500_0': 1.0, 'overall': 1.0}\n"
          ]
        },
        {
          "name": "stdout",
          "output_type": "stream",
          "text": [
            "INFO:tensorflow:Running param 30 of 220\n"
          ]
        },
        {
          "name": "stderr",
          "output_type": "stream",
          "text": [
            "INFO:tensorflow:Running param 30 of 220\n"
          ]
        },
        {
          "name": "stdout",
          "output_type": "stream",
          "text": [
            "INFO:tensorflow:running normal. ['random500_1', 'random500_2']\n"
          ]
        },
        {
          "name": "stderr",
          "output_type": "stream",
          "text": [
            "INFO:tensorflow:running normal. ['random500_1', 'random500_2']\n"
          ]
        },
        {
          "name": "stdout",
          "output_type": "stream",
          "text": [
            "INFO:tensorflow:Loaded ./tcav/tcav_examples/discrete/kdd_sanity2\\activations\\acts_random500_1_dense shape (10, 1000)\n"
          ]
        },
        {
          "name": "stderr",
          "output_type": "stream",
          "text": [
            "INFO:tensorflow:Loaded ./tcav/tcav_examples/discrete/kdd_sanity2\\activations\\acts_random500_1_dense shape (10, 1000)\n"
          ]
        },
        {
          "name": "stdout",
          "output_type": "stream",
          "text": [
            "INFO:tensorflow:Loaded ./tcav/tcav_examples/discrete/kdd_sanity2\\activations\\acts_random500_2_dense shape (10, 1000)\n"
          ]
        },
        {
          "name": "stderr",
          "output_type": "stream",
          "text": [
            "INFO:tensorflow:Loaded ./tcav/tcav_examples/discrete/kdd_sanity2\\activations\\acts_random500_2_dense shape (10, 1000)\n"
          ]
        },
        {
          "name": "stdout",
          "output_type": "stream",
          "text": [
            "INFO:tensorflow:Loaded ./tcav/tcav_examples/discrete/kdd_sanity2\\activations\\acts_normal._dense shape (200, 1000)\n"
          ]
        },
        {
          "name": "stderr",
          "output_type": "stream",
          "text": [
            "INFO:tensorflow:Loaded ./tcav/tcav_examples/discrete/kdd_sanity2\\activations\\acts_normal._dense shape (200, 1000)\n"
          ]
        },
        {
          "name": "stdout",
          "output_type": "stream",
          "text": [
            "INFO:tensorflow:CAV already exists: ./tcav/tcav_examples/discrete/kdd_sanity2\\cav\\random500_1-random500_2-dense-linear-0.01.pkl\n"
          ]
        },
        {
          "name": "stderr",
          "output_type": "stream",
          "text": [
            "INFO:tensorflow:CAV already exists: ./tcav/tcav_examples/discrete/kdd_sanity2\\cav\\random500_1-random500_2-dense-linear-0.01.pkl\n"
          ]
        },
        {
          "name": "stdout",
          "output_type": "stream",
          "text": [
            "INFO:tensorflow:CAV accuracies: {'random500_1': 1.0, 'random500_2': 0.0, 'overall': 0.42857142857142855}\n"
          ]
        },
        {
          "name": "stderr",
          "output_type": "stream",
          "text": [
            "INFO:tensorflow:CAV accuracies: {'random500_1': 1.0, 'random500_2': 0.0, 'overall': 0.42857142857142855}\n"
          ]
        },
        {
          "name": "stdout",
          "output_type": "stream",
          "text": [
            "INFO:tensorflow:Running param 31 of 220\n"
          ]
        },
        {
          "name": "stderr",
          "output_type": "stream",
          "text": [
            "INFO:tensorflow:Running param 31 of 220\n"
          ]
        },
        {
          "name": "stdout",
          "output_type": "stream",
          "text": [
            "INFO:tensorflow:running normal. ['random500_1', 'random500_3']\n"
          ]
        },
        {
          "name": "stderr",
          "output_type": "stream",
          "text": [
            "INFO:tensorflow:running normal. ['random500_1', 'random500_3']\n"
          ]
        },
        {
          "name": "stdout",
          "output_type": "stream",
          "text": [
            "INFO:tensorflow:Loaded ./tcav/tcav_examples/discrete/kdd_sanity2\\activations\\acts_random500_1_dense shape (10, 1000)\n"
          ]
        },
        {
          "name": "stderr",
          "output_type": "stream",
          "text": [
            "INFO:tensorflow:Loaded ./tcav/tcav_examples/discrete/kdd_sanity2\\activations\\acts_random500_1_dense shape (10, 1000)\n"
          ]
        },
        {
          "name": "stdout",
          "output_type": "stream",
          "text": [
            "INFO:tensorflow:Loaded ./tcav/tcav_examples/discrete/kdd_sanity2\\activations\\acts_random500_3_dense shape (10, 1000)\n"
          ]
        },
        {
          "name": "stderr",
          "output_type": "stream",
          "text": [
            "INFO:tensorflow:Loaded ./tcav/tcav_examples/discrete/kdd_sanity2\\activations\\acts_random500_3_dense shape (10, 1000)\n"
          ]
        },
        {
          "name": "stdout",
          "output_type": "stream",
          "text": [
            "INFO:tensorflow:Loaded ./tcav/tcav_examples/discrete/kdd_sanity2\\activations\\acts_normal._dense shape (200, 1000)\n"
          ]
        },
        {
          "name": "stderr",
          "output_type": "stream",
          "text": [
            "INFO:tensorflow:Loaded ./tcav/tcav_examples/discrete/kdd_sanity2\\activations\\acts_normal._dense shape (200, 1000)\n"
          ]
        },
        {
          "name": "stdout",
          "output_type": "stream",
          "text": [
            "INFO:tensorflow:CAV already exists: ./tcav/tcav_examples/discrete/kdd_sanity2\\cav\\random500_1-random500_3-dense-linear-0.01.pkl\n"
          ]
        },
        {
          "name": "stderr",
          "output_type": "stream",
          "text": [
            "INFO:tensorflow:CAV already exists: ./tcav/tcav_examples/discrete/kdd_sanity2\\cav\\random500_1-random500_3-dense-linear-0.01.pkl\n"
          ]
        },
        {
          "name": "stdout",
          "output_type": "stream",
          "text": [
            "INFO:tensorflow:CAV accuracies: {'random500_1': 0.75, 'random500_3': 1.0, 'overall': 0.8571428571428571}\n"
          ]
        },
        {
          "name": "stderr",
          "output_type": "stream",
          "text": [
            "INFO:tensorflow:CAV accuracies: {'random500_1': 0.75, 'random500_3': 1.0, 'overall': 0.8571428571428571}\n"
          ]
        },
        {
          "name": "stdout",
          "output_type": "stream",
          "text": [
            "INFO:tensorflow:Running param 32 of 220\n"
          ]
        },
        {
          "name": "stderr",
          "output_type": "stream",
          "text": [
            "INFO:tensorflow:Running param 32 of 220\n"
          ]
        },
        {
          "name": "stdout",
          "output_type": "stream",
          "text": [
            "INFO:tensorflow:running normal. ['random500_1', 'random500_4']\n"
          ]
        },
        {
          "name": "stderr",
          "output_type": "stream",
          "text": [
            "INFO:tensorflow:running normal. ['random500_1', 'random500_4']\n"
          ]
        },
        {
          "name": "stdout",
          "output_type": "stream",
          "text": [
            "INFO:tensorflow:Loaded ./tcav/tcav_examples/discrete/kdd_sanity2\\activations\\acts_random500_1_dense shape (10, 1000)\n"
          ]
        },
        {
          "name": "stderr",
          "output_type": "stream",
          "text": [
            "INFO:tensorflow:Loaded ./tcav/tcav_examples/discrete/kdd_sanity2\\activations\\acts_random500_1_dense shape (10, 1000)\n"
          ]
        },
        {
          "name": "stdout",
          "output_type": "stream",
          "text": [
            "INFO:tensorflow:Loaded ./tcav/tcav_examples/discrete/kdd_sanity2\\activations\\acts_random500_4_dense shape (10, 1000)\n"
          ]
        },
        {
          "name": "stderr",
          "output_type": "stream",
          "text": [
            "INFO:tensorflow:Loaded ./tcav/tcav_examples/discrete/kdd_sanity2\\activations\\acts_random500_4_dense shape (10, 1000)\n"
          ]
        },
        {
          "name": "stdout",
          "output_type": "stream",
          "text": [
            "INFO:tensorflow:Loaded ./tcav/tcav_examples/discrete/kdd_sanity2\\activations\\acts_normal._dense shape (200, 1000)\n"
          ]
        },
        {
          "name": "stderr",
          "output_type": "stream",
          "text": [
            "INFO:tensorflow:Loaded ./tcav/tcav_examples/discrete/kdd_sanity2\\activations\\acts_normal._dense shape (200, 1000)\n"
          ]
        },
        {
          "name": "stdout",
          "output_type": "stream",
          "text": [
            "INFO:tensorflow:CAV already exists: ./tcav/tcav_examples/discrete/kdd_sanity2\\cav\\random500_1-random500_4-dense-linear-0.01.pkl\n"
          ]
        },
        {
          "name": "stderr",
          "output_type": "stream",
          "text": [
            "INFO:tensorflow:CAV already exists: ./tcav/tcav_examples/discrete/kdd_sanity2\\cav\\random500_1-random500_4-dense-linear-0.01.pkl\n"
          ]
        },
        {
          "name": "stdout",
          "output_type": "stream",
          "text": [
            "INFO:tensorflow:CAV accuracies: {'random500_1': 1.0, 'random500_4': 0.5, 'overall': 0.7142857142857143}\n"
          ]
        },
        {
          "name": "stderr",
          "output_type": "stream",
          "text": [
            "INFO:tensorflow:CAV accuracies: {'random500_1': 1.0, 'random500_4': 0.5, 'overall': 0.7142857142857143}\n"
          ]
        },
        {
          "name": "stdout",
          "output_type": "stream",
          "text": [
            "INFO:tensorflow:Running param 33 of 220\n"
          ]
        },
        {
          "name": "stderr",
          "output_type": "stream",
          "text": [
            "INFO:tensorflow:Running param 33 of 220\n"
          ]
        },
        {
          "name": "stdout",
          "output_type": "stream",
          "text": [
            "INFO:tensorflow:running normal. ['random500_1', 'random500_5']\n"
          ]
        },
        {
          "name": "stderr",
          "output_type": "stream",
          "text": [
            "INFO:tensorflow:running normal. ['random500_1', 'random500_5']\n"
          ]
        },
        {
          "name": "stdout",
          "output_type": "stream",
          "text": [
            "INFO:tensorflow:Loaded ./tcav/tcav_examples/discrete/kdd_sanity2\\activations\\acts_random500_1_dense shape (10, 1000)\n"
          ]
        },
        {
          "name": "stderr",
          "output_type": "stream",
          "text": [
            "INFO:tensorflow:Loaded ./tcav/tcav_examples/discrete/kdd_sanity2\\activations\\acts_random500_1_dense shape (10, 1000)\n"
          ]
        },
        {
          "name": "stdout",
          "output_type": "stream",
          "text": [
            "INFO:tensorflow:Loaded ./tcav/tcav_examples/discrete/kdd_sanity2\\activations\\acts_random500_5_dense shape (10, 1000)\n"
          ]
        },
        {
          "name": "stderr",
          "output_type": "stream",
          "text": [
            "INFO:tensorflow:Loaded ./tcav/tcav_examples/discrete/kdd_sanity2\\activations\\acts_random500_5_dense shape (10, 1000)\n"
          ]
        },
        {
          "name": "stdout",
          "output_type": "stream",
          "text": [
            "INFO:tensorflow:Loaded ./tcav/tcav_examples/discrete/kdd_sanity2\\activations\\acts_normal._dense shape (200, 1000)\n"
          ]
        },
        {
          "name": "stderr",
          "output_type": "stream",
          "text": [
            "INFO:tensorflow:Loaded ./tcav/tcav_examples/discrete/kdd_sanity2\\activations\\acts_normal._dense shape (200, 1000)\n"
          ]
        },
        {
          "name": "stdout",
          "output_type": "stream",
          "text": [
            "INFO:tensorflow:CAV already exists: ./tcav/tcav_examples/discrete/kdd_sanity2\\cav\\random500_1-random500_5-dense-linear-0.01.pkl\n"
          ]
        },
        {
          "name": "stderr",
          "output_type": "stream",
          "text": [
            "INFO:tensorflow:CAV already exists: ./tcav/tcav_examples/discrete/kdd_sanity2\\cav\\random500_1-random500_5-dense-linear-0.01.pkl\n"
          ]
        },
        {
          "name": "stdout",
          "output_type": "stream",
          "text": [
            "INFO:tensorflow:CAV accuracies: {'random500_1': 0.0, 'random500_5': 1.0, 'overall': 0.5714285714285714}\n"
          ]
        },
        {
          "name": "stderr",
          "output_type": "stream",
          "text": [
            "INFO:tensorflow:CAV accuracies: {'random500_1': 0.0, 'random500_5': 1.0, 'overall': 0.5714285714285714}\n"
          ]
        },
        {
          "name": "stdout",
          "output_type": "stream",
          "text": [
            "INFO:tensorflow:Running param 34 of 220\n"
          ]
        },
        {
          "name": "stderr",
          "output_type": "stream",
          "text": [
            "INFO:tensorflow:Running param 34 of 220\n"
          ]
        },
        {
          "name": "stdout",
          "output_type": "stream",
          "text": [
            "INFO:tensorflow:running normal. ['random500_1', 'random500_6']\n"
          ]
        },
        {
          "name": "stderr",
          "output_type": "stream",
          "text": [
            "INFO:tensorflow:running normal. ['random500_1', 'random500_6']\n"
          ]
        },
        {
          "name": "stdout",
          "output_type": "stream",
          "text": [
            "INFO:tensorflow:Loaded ./tcav/tcav_examples/discrete/kdd_sanity2\\activations\\acts_random500_1_dense shape (10, 1000)\n"
          ]
        },
        {
          "name": "stderr",
          "output_type": "stream",
          "text": [
            "INFO:tensorflow:Loaded ./tcav/tcav_examples/discrete/kdd_sanity2\\activations\\acts_random500_1_dense shape (10, 1000)\n"
          ]
        },
        {
          "name": "stdout",
          "output_type": "stream",
          "text": [
            "INFO:tensorflow:Loaded ./tcav/tcav_examples/discrete/kdd_sanity2\\activations\\acts_random500_6_dense shape (10, 1000)\n"
          ]
        },
        {
          "name": "stderr",
          "output_type": "stream",
          "text": [
            "INFO:tensorflow:Loaded ./tcav/tcav_examples/discrete/kdd_sanity2\\activations\\acts_random500_6_dense shape (10, 1000)\n"
          ]
        },
        {
          "name": "stdout",
          "output_type": "stream",
          "text": [
            "INFO:tensorflow:Loaded ./tcav/tcav_examples/discrete/kdd_sanity2\\activations\\acts_normal._dense shape (200, 1000)\n"
          ]
        },
        {
          "name": "stderr",
          "output_type": "stream",
          "text": [
            "INFO:tensorflow:Loaded ./tcav/tcav_examples/discrete/kdd_sanity2\\activations\\acts_normal._dense shape (200, 1000)\n"
          ]
        },
        {
          "name": "stdout",
          "output_type": "stream",
          "text": [
            "INFO:tensorflow:CAV already exists: ./tcav/tcav_examples/discrete/kdd_sanity2\\cav\\random500_1-random500_6-dense-linear-0.01.pkl\n"
          ]
        },
        {
          "name": "stderr",
          "output_type": "stream",
          "text": [
            "INFO:tensorflow:CAV already exists: ./tcav/tcav_examples/discrete/kdd_sanity2\\cav\\random500_1-random500_6-dense-linear-0.01.pkl\n"
          ]
        },
        {
          "name": "stdout",
          "output_type": "stream",
          "text": [
            "INFO:tensorflow:CAV accuracies: {'random500_1': 1.0, 'random500_6': 0.25, 'overall': 0.5714285714285714}\n"
          ]
        },
        {
          "name": "stderr",
          "output_type": "stream",
          "text": [
            "INFO:tensorflow:CAV accuracies: {'random500_1': 1.0, 'random500_6': 0.25, 'overall': 0.5714285714285714}\n"
          ]
        },
        {
          "name": "stdout",
          "output_type": "stream",
          "text": [
            "INFO:tensorflow:Running param 35 of 220\n"
          ]
        },
        {
          "name": "stderr",
          "output_type": "stream",
          "text": [
            "INFO:tensorflow:Running param 35 of 220\n"
          ]
        },
        {
          "name": "stdout",
          "output_type": "stream",
          "text": [
            "INFO:tensorflow:running normal. ['random500_1', 'random500_7']\n"
          ]
        },
        {
          "name": "stderr",
          "output_type": "stream",
          "text": [
            "INFO:tensorflow:running normal. ['random500_1', 'random500_7']\n"
          ]
        },
        {
          "name": "stdout",
          "output_type": "stream",
          "text": [
            "INFO:tensorflow:Loaded ./tcav/tcav_examples/discrete/kdd_sanity2\\activations\\acts_random500_1_dense shape (10, 1000)\n"
          ]
        },
        {
          "name": "stderr",
          "output_type": "stream",
          "text": [
            "INFO:tensorflow:Loaded ./tcav/tcav_examples/discrete/kdd_sanity2\\activations\\acts_random500_1_dense shape (10, 1000)\n"
          ]
        },
        {
          "name": "stdout",
          "output_type": "stream",
          "text": [
            "INFO:tensorflow:Loaded ./tcav/tcav_examples/discrete/kdd_sanity2\\activations\\acts_random500_7_dense shape (10, 1000)\n"
          ]
        },
        {
          "name": "stderr",
          "output_type": "stream",
          "text": [
            "INFO:tensorflow:Loaded ./tcav/tcav_examples/discrete/kdd_sanity2\\activations\\acts_random500_7_dense shape (10, 1000)\n"
          ]
        },
        {
          "name": "stdout",
          "output_type": "stream",
          "text": [
            "INFO:tensorflow:Loaded ./tcav/tcav_examples/discrete/kdd_sanity2\\activations\\acts_normal._dense shape (200, 1000)\n"
          ]
        },
        {
          "name": "stderr",
          "output_type": "stream",
          "text": [
            "INFO:tensorflow:Loaded ./tcav/tcav_examples/discrete/kdd_sanity2\\activations\\acts_normal._dense shape (200, 1000)\n"
          ]
        },
        {
          "name": "stdout",
          "output_type": "stream",
          "text": [
            "INFO:tensorflow:CAV already exists: ./tcav/tcav_examples/discrete/kdd_sanity2\\cav\\random500_1-random500_7-dense-linear-0.01.pkl\n"
          ]
        },
        {
          "name": "stderr",
          "output_type": "stream",
          "text": [
            "INFO:tensorflow:CAV already exists: ./tcav/tcav_examples/discrete/kdd_sanity2\\cav\\random500_1-random500_7-dense-linear-0.01.pkl\n"
          ]
        },
        {
          "name": "stdout",
          "output_type": "stream",
          "text": [
            "INFO:tensorflow:CAV accuracies: {'random500_1': 0.0, 'random500_7': 0.75, 'overall': 0.42857142857142855}\n"
          ]
        },
        {
          "name": "stderr",
          "output_type": "stream",
          "text": [
            "INFO:tensorflow:CAV accuracies: {'random500_1': 0.0, 'random500_7': 0.75, 'overall': 0.42857142857142855}\n"
          ]
        },
        {
          "name": "stdout",
          "output_type": "stream",
          "text": [
            "INFO:tensorflow:Running param 36 of 220\n"
          ]
        },
        {
          "name": "stderr",
          "output_type": "stream",
          "text": [
            "INFO:tensorflow:Running param 36 of 220\n"
          ]
        },
        {
          "name": "stdout",
          "output_type": "stream",
          "text": [
            "INFO:tensorflow:running normal. ['random500_1', 'random500_8']\n"
          ]
        },
        {
          "name": "stderr",
          "output_type": "stream",
          "text": [
            "INFO:tensorflow:running normal. ['random500_1', 'random500_8']\n"
          ]
        },
        {
          "name": "stdout",
          "output_type": "stream",
          "text": [
            "INFO:tensorflow:Loaded ./tcav/tcav_examples/discrete/kdd_sanity2\\activations\\acts_random500_1_dense shape (10, 1000)\n"
          ]
        },
        {
          "name": "stderr",
          "output_type": "stream",
          "text": [
            "INFO:tensorflow:Loaded ./tcav/tcav_examples/discrete/kdd_sanity2\\activations\\acts_random500_1_dense shape (10, 1000)\n"
          ]
        },
        {
          "name": "stdout",
          "output_type": "stream",
          "text": [
            "INFO:tensorflow:Loaded ./tcav/tcav_examples/discrete/kdd_sanity2\\activations\\acts_random500_8_dense shape (10, 1000)\n"
          ]
        },
        {
          "name": "stderr",
          "output_type": "stream",
          "text": [
            "INFO:tensorflow:Loaded ./tcav/tcav_examples/discrete/kdd_sanity2\\activations\\acts_random500_8_dense shape (10, 1000)\n"
          ]
        },
        {
          "name": "stdout",
          "output_type": "stream",
          "text": [
            "INFO:tensorflow:Loaded ./tcav/tcav_examples/discrete/kdd_sanity2\\activations\\acts_normal._dense shape (200, 1000)\n"
          ]
        },
        {
          "name": "stderr",
          "output_type": "stream",
          "text": [
            "INFO:tensorflow:Loaded ./tcav/tcav_examples/discrete/kdd_sanity2\\activations\\acts_normal._dense shape (200, 1000)\n"
          ]
        },
        {
          "name": "stdout",
          "output_type": "stream",
          "text": [
            "INFO:tensorflow:CAV already exists: ./tcav/tcav_examples/discrete/kdd_sanity2\\cav\\random500_1-random500_8-dense-linear-0.01.pkl\n"
          ]
        },
        {
          "name": "stderr",
          "output_type": "stream",
          "text": [
            "INFO:tensorflow:CAV already exists: ./tcav/tcav_examples/discrete/kdd_sanity2\\cav\\random500_1-random500_8-dense-linear-0.01.pkl\n"
          ]
        },
        {
          "name": "stdout",
          "output_type": "stream",
          "text": [
            "INFO:tensorflow:CAV accuracies: {'random500_1': 0.5, 'random500_8': 1.0, 'overall': 0.7142857142857143}\n"
          ]
        },
        {
          "name": "stderr",
          "output_type": "stream",
          "text": [
            "INFO:tensorflow:CAV accuracies: {'random500_1': 0.5, 'random500_8': 1.0, 'overall': 0.7142857142857143}\n"
          ]
        },
        {
          "name": "stdout",
          "output_type": "stream",
          "text": [
            "INFO:tensorflow:Running param 37 of 220\n"
          ]
        },
        {
          "name": "stderr",
          "output_type": "stream",
          "text": [
            "INFO:tensorflow:Running param 37 of 220\n"
          ]
        },
        {
          "name": "stdout",
          "output_type": "stream",
          "text": [
            "INFO:tensorflow:running normal. ['random500_1', 'random500_9']\n"
          ]
        },
        {
          "name": "stderr",
          "output_type": "stream",
          "text": [
            "INFO:tensorflow:running normal. ['random500_1', 'random500_9']\n"
          ]
        },
        {
          "name": "stdout",
          "output_type": "stream",
          "text": [
            "INFO:tensorflow:Loaded ./tcav/tcav_examples/discrete/kdd_sanity2\\activations\\acts_random500_1_dense shape (10, 1000)\n"
          ]
        },
        {
          "name": "stderr",
          "output_type": "stream",
          "text": [
            "INFO:tensorflow:Loaded ./tcav/tcav_examples/discrete/kdd_sanity2\\activations\\acts_random500_1_dense shape (10, 1000)\n"
          ]
        },
        {
          "name": "stdout",
          "output_type": "stream",
          "text": [
            "INFO:tensorflow:Loaded ./tcav/tcav_examples/discrete/kdd_sanity2\\activations\\acts_random500_9_dense shape (10, 1000)\n"
          ]
        },
        {
          "name": "stderr",
          "output_type": "stream",
          "text": [
            "INFO:tensorflow:Loaded ./tcav/tcav_examples/discrete/kdd_sanity2\\activations\\acts_random500_9_dense shape (10, 1000)\n"
          ]
        },
        {
          "name": "stdout",
          "output_type": "stream",
          "text": [
            "INFO:tensorflow:Loaded ./tcav/tcav_examples/discrete/kdd_sanity2\\activations\\acts_normal._dense shape (200, 1000)\n"
          ]
        },
        {
          "name": "stderr",
          "output_type": "stream",
          "text": [
            "INFO:tensorflow:Loaded ./tcav/tcav_examples/discrete/kdd_sanity2\\activations\\acts_normal._dense shape (200, 1000)\n"
          ]
        },
        {
          "name": "stdout",
          "output_type": "stream",
          "text": [
            "INFO:tensorflow:CAV already exists: ./tcav/tcav_examples/discrete/kdd_sanity2\\cav\\random500_1-random500_9-dense-linear-0.01.pkl\n"
          ]
        },
        {
          "name": "stderr",
          "output_type": "stream",
          "text": [
            "INFO:tensorflow:CAV already exists: ./tcav/tcav_examples/discrete/kdd_sanity2\\cav\\random500_1-random500_9-dense-linear-0.01.pkl\n"
          ]
        },
        {
          "name": "stdout",
          "output_type": "stream",
          "text": [
            "INFO:tensorflow:CAV accuracies: {'random500_1': 0.0, 'random500_9': 1.0, 'overall': 0.42857142857142855}\n"
          ]
        },
        {
          "name": "stderr",
          "output_type": "stream",
          "text": [
            "INFO:tensorflow:CAV accuracies: {'random500_1': 0.0, 'random500_9': 1.0, 'overall': 0.42857142857142855}\n"
          ]
        },
        {
          "name": "stdout",
          "output_type": "stream",
          "text": [
            "INFO:tensorflow:Running param 38 of 220\n"
          ]
        },
        {
          "name": "stderr",
          "output_type": "stream",
          "text": [
            "INFO:tensorflow:Running param 38 of 220\n"
          ]
        },
        {
          "name": "stdout",
          "output_type": "stream",
          "text": [
            "INFO:tensorflow:running normal. ['random500_2', 'random500_0']\n"
          ]
        },
        {
          "name": "stderr",
          "output_type": "stream",
          "text": [
            "INFO:tensorflow:running normal. ['random500_2', 'random500_0']\n"
          ]
        },
        {
          "name": "stdout",
          "output_type": "stream",
          "text": [
            "INFO:tensorflow:Loaded ./tcav/tcav_examples/discrete/kdd_sanity2\\activations\\acts_random500_2_dense shape (10, 1000)\n"
          ]
        },
        {
          "name": "stderr",
          "output_type": "stream",
          "text": [
            "INFO:tensorflow:Loaded ./tcav/tcav_examples/discrete/kdd_sanity2\\activations\\acts_random500_2_dense shape (10, 1000)\n"
          ]
        },
        {
          "name": "stdout",
          "output_type": "stream",
          "text": [
            "INFO:tensorflow:Loaded ./tcav/tcav_examples/discrete/kdd_sanity2\\activations\\acts_random500_0_dense shape (10, 1000)\n"
          ]
        },
        {
          "name": "stderr",
          "output_type": "stream",
          "text": [
            "INFO:tensorflow:Loaded ./tcav/tcav_examples/discrete/kdd_sanity2\\activations\\acts_random500_0_dense shape (10, 1000)\n"
          ]
        },
        {
          "name": "stdout",
          "output_type": "stream",
          "text": [
            "INFO:tensorflow:Loaded ./tcav/tcav_examples/discrete/kdd_sanity2\\activations\\acts_normal._dense shape (200, 1000)\n"
          ]
        },
        {
          "name": "stderr",
          "output_type": "stream",
          "text": [
            "INFO:tensorflow:Loaded ./tcav/tcav_examples/discrete/kdd_sanity2\\activations\\acts_normal._dense shape (200, 1000)\n"
          ]
        },
        {
          "name": "stdout",
          "output_type": "stream",
          "text": [
            "INFO:tensorflow:CAV already exists: ./tcav/tcav_examples/discrete/kdd_sanity2\\cav\\random500_2-random500_0-dense-linear-0.01.pkl\n"
          ]
        },
        {
          "name": "stderr",
          "output_type": "stream",
          "text": [
            "INFO:tensorflow:CAV already exists: ./tcav/tcav_examples/discrete/kdd_sanity2\\cav\\random500_2-random500_0-dense-linear-0.01.pkl\n"
          ]
        },
        {
          "name": "stdout",
          "output_type": "stream",
          "text": [
            "INFO:tensorflow:CAV accuracies: {'random500_2': 1.0, 'random500_0': 0.6666666666666666, 'overall': 0.8571428571428571}\n"
          ]
        },
        {
          "name": "stderr",
          "output_type": "stream",
          "text": [
            "INFO:tensorflow:CAV accuracies: {'random500_2': 1.0, 'random500_0': 0.6666666666666666, 'overall': 0.8571428571428571}\n"
          ]
        },
        {
          "name": "stdout",
          "output_type": "stream",
          "text": [
            "INFO:tensorflow:Running param 39 of 220\n"
          ]
        },
        {
          "name": "stderr",
          "output_type": "stream",
          "text": [
            "INFO:tensorflow:Running param 39 of 220\n"
          ]
        },
        {
          "name": "stdout",
          "output_type": "stream",
          "text": [
            "INFO:tensorflow:running normal. ['random500_2', 'random500_1']\n"
          ]
        },
        {
          "name": "stderr",
          "output_type": "stream",
          "text": [
            "INFO:tensorflow:running normal. ['random500_2', 'random500_1']\n"
          ]
        },
        {
          "name": "stdout",
          "output_type": "stream",
          "text": [
            "INFO:tensorflow:Loaded ./tcav/tcav_examples/discrete/kdd_sanity2\\activations\\acts_random500_2_dense shape (10, 1000)\n"
          ]
        },
        {
          "name": "stderr",
          "output_type": "stream",
          "text": [
            "INFO:tensorflow:Loaded ./tcav/tcav_examples/discrete/kdd_sanity2\\activations\\acts_random500_2_dense shape (10, 1000)\n"
          ]
        },
        {
          "name": "stdout",
          "output_type": "stream",
          "text": [
            "INFO:tensorflow:Loaded ./tcav/tcav_examples/discrete/kdd_sanity2\\activations\\acts_random500_1_dense shape (10, 1000)\n"
          ]
        },
        {
          "name": "stderr",
          "output_type": "stream",
          "text": [
            "INFO:tensorflow:Loaded ./tcav/tcav_examples/discrete/kdd_sanity2\\activations\\acts_random500_1_dense shape (10, 1000)\n"
          ]
        },
        {
          "name": "stdout",
          "output_type": "stream",
          "text": [
            "INFO:tensorflow:Loaded ./tcav/tcav_examples/discrete/kdd_sanity2\\activations\\acts_normal._dense shape (200, 1000)\n"
          ]
        },
        {
          "name": "stderr",
          "output_type": "stream",
          "text": [
            "INFO:tensorflow:Loaded ./tcav/tcav_examples/discrete/kdd_sanity2\\activations\\acts_normal._dense shape (200, 1000)\n"
          ]
        },
        {
          "name": "stdout",
          "output_type": "stream",
          "text": [
            "INFO:tensorflow:CAV already exists: ./tcav/tcav_examples/discrete/kdd_sanity2\\cav\\random500_2-random500_1-dense-linear-0.01.pkl\n"
          ]
        },
        {
          "name": "stderr",
          "output_type": "stream",
          "text": [
            "INFO:tensorflow:CAV already exists: ./tcav/tcav_examples/discrete/kdd_sanity2\\cav\\random500_2-random500_1-dense-linear-0.01.pkl\n"
          ]
        },
        {
          "name": "stdout",
          "output_type": "stream",
          "text": [
            "INFO:tensorflow:CAV accuracies: {'random500_2': 1.0, 'random500_1': 0.0, 'overall': 0.42857142857142855}\n"
          ]
        },
        {
          "name": "stderr",
          "output_type": "stream",
          "text": [
            "INFO:tensorflow:CAV accuracies: {'random500_2': 1.0, 'random500_1': 0.0, 'overall': 0.42857142857142855}\n"
          ]
        },
        {
          "name": "stdout",
          "output_type": "stream",
          "text": [
            "INFO:tensorflow:Running param 40 of 220\n"
          ]
        },
        {
          "name": "stderr",
          "output_type": "stream",
          "text": [
            "INFO:tensorflow:Running param 40 of 220\n"
          ]
        },
        {
          "name": "stdout",
          "output_type": "stream",
          "text": [
            "INFO:tensorflow:running normal. ['random500_2', 'random500_3']\n"
          ]
        },
        {
          "name": "stderr",
          "output_type": "stream",
          "text": [
            "INFO:tensorflow:running normal. ['random500_2', 'random500_3']\n"
          ]
        },
        {
          "name": "stdout",
          "output_type": "stream",
          "text": [
            "INFO:tensorflow:Loaded ./tcav/tcav_examples/discrete/kdd_sanity2\\activations\\acts_random500_2_dense shape (10, 1000)\n"
          ]
        },
        {
          "name": "stderr",
          "output_type": "stream",
          "text": [
            "INFO:tensorflow:Loaded ./tcav/tcav_examples/discrete/kdd_sanity2\\activations\\acts_random500_2_dense shape (10, 1000)\n"
          ]
        },
        {
          "name": "stdout",
          "output_type": "stream",
          "text": [
            "INFO:tensorflow:Loaded ./tcav/tcav_examples/discrete/kdd_sanity2\\activations\\acts_random500_3_dense shape (10, 1000)\n"
          ]
        },
        {
          "name": "stderr",
          "output_type": "stream",
          "text": [
            "INFO:tensorflow:Loaded ./tcav/tcav_examples/discrete/kdd_sanity2\\activations\\acts_random500_3_dense shape (10, 1000)\n"
          ]
        },
        {
          "name": "stdout",
          "output_type": "stream",
          "text": [
            "INFO:tensorflow:Loaded ./tcav/tcav_examples/discrete/kdd_sanity2\\activations\\acts_normal._dense shape (200, 1000)\n"
          ]
        },
        {
          "name": "stderr",
          "output_type": "stream",
          "text": [
            "INFO:tensorflow:Loaded ./tcav/tcav_examples/discrete/kdd_sanity2\\activations\\acts_normal._dense shape (200, 1000)\n"
          ]
        },
        {
          "name": "stdout",
          "output_type": "stream",
          "text": [
            "INFO:tensorflow:CAV already exists: ./tcav/tcav_examples/discrete/kdd_sanity2\\cav\\random500_2-random500_3-dense-linear-0.01.pkl\n"
          ]
        },
        {
          "name": "stderr",
          "output_type": "stream",
          "text": [
            "INFO:tensorflow:CAV already exists: ./tcav/tcav_examples/discrete/kdd_sanity2\\cav\\random500_2-random500_3-dense-linear-0.01.pkl\n"
          ]
        },
        {
          "name": "stdout",
          "output_type": "stream",
          "text": [
            "INFO:tensorflow:CAV accuracies: {'random500_2': 0.3333333333333333, 'random500_3': 0.75, 'overall': 0.5714285714285714}\n"
          ]
        },
        {
          "name": "stderr",
          "output_type": "stream",
          "text": [
            "INFO:tensorflow:CAV accuracies: {'random500_2': 0.3333333333333333, 'random500_3': 0.75, 'overall': 0.5714285714285714}\n"
          ]
        },
        {
          "name": "stdout",
          "output_type": "stream",
          "text": [
            "INFO:tensorflow:Running param 41 of 220\n"
          ]
        },
        {
          "name": "stderr",
          "output_type": "stream",
          "text": [
            "INFO:tensorflow:Running param 41 of 220\n"
          ]
        },
        {
          "name": "stdout",
          "output_type": "stream",
          "text": [
            "INFO:tensorflow:running normal. ['random500_2', 'random500_4']\n"
          ]
        },
        {
          "name": "stderr",
          "output_type": "stream",
          "text": [
            "INFO:tensorflow:running normal. ['random500_2', 'random500_4']\n"
          ]
        },
        {
          "name": "stdout",
          "output_type": "stream",
          "text": [
            "INFO:tensorflow:Loaded ./tcav/tcav_examples/discrete/kdd_sanity2\\activations\\acts_random500_2_dense shape (10, 1000)\n"
          ]
        },
        {
          "name": "stderr",
          "output_type": "stream",
          "text": [
            "INFO:tensorflow:Loaded ./tcav/tcav_examples/discrete/kdd_sanity2\\activations\\acts_random500_2_dense shape (10, 1000)\n"
          ]
        },
        {
          "name": "stdout",
          "output_type": "stream",
          "text": [
            "INFO:tensorflow:Loaded ./tcav/tcav_examples/discrete/kdd_sanity2\\activations\\acts_random500_4_dense shape (10, 1000)\n"
          ]
        },
        {
          "name": "stderr",
          "output_type": "stream",
          "text": [
            "INFO:tensorflow:Loaded ./tcav/tcav_examples/discrete/kdd_sanity2\\activations\\acts_random500_4_dense shape (10, 1000)\n"
          ]
        },
        {
          "name": "stdout",
          "output_type": "stream",
          "text": [
            "INFO:tensorflow:Loaded ./tcav/tcav_examples/discrete/kdd_sanity2\\activations\\acts_normal._dense shape (200, 1000)\n"
          ]
        },
        {
          "name": "stderr",
          "output_type": "stream",
          "text": [
            "INFO:tensorflow:Loaded ./tcav/tcav_examples/discrete/kdd_sanity2\\activations\\acts_normal._dense shape (200, 1000)\n"
          ]
        },
        {
          "name": "stdout",
          "output_type": "stream",
          "text": [
            "INFO:tensorflow:CAV already exists: ./tcav/tcav_examples/discrete/kdd_sanity2\\cav\\random500_2-random500_4-dense-linear-0.01.pkl\n"
          ]
        },
        {
          "name": "stderr",
          "output_type": "stream",
          "text": [
            "INFO:tensorflow:CAV already exists: ./tcav/tcav_examples/discrete/kdd_sanity2\\cav\\random500_2-random500_4-dense-linear-0.01.pkl\n"
          ]
        },
        {
          "name": "stdout",
          "output_type": "stream",
          "text": [
            "INFO:tensorflow:CAV accuracies: {'random500_2': 0.6666666666666666, 'random500_4': 0.75, 'overall': 0.7142857142857143}\n"
          ]
        },
        {
          "name": "stderr",
          "output_type": "stream",
          "text": [
            "INFO:tensorflow:CAV accuracies: {'random500_2': 0.6666666666666666, 'random500_4': 0.75, 'overall': 0.7142857142857143}\n"
          ]
        },
        {
          "name": "stdout",
          "output_type": "stream",
          "text": [
            "INFO:tensorflow:Running param 42 of 220\n"
          ]
        },
        {
          "name": "stderr",
          "output_type": "stream",
          "text": [
            "INFO:tensorflow:Running param 42 of 220\n"
          ]
        },
        {
          "name": "stdout",
          "output_type": "stream",
          "text": [
            "INFO:tensorflow:running normal. ['random500_2', 'random500_5']\n"
          ]
        },
        {
          "name": "stderr",
          "output_type": "stream",
          "text": [
            "INFO:tensorflow:running normal. ['random500_2', 'random500_5']\n"
          ]
        },
        {
          "name": "stdout",
          "output_type": "stream",
          "text": [
            "INFO:tensorflow:Loaded ./tcav/tcav_examples/discrete/kdd_sanity2\\activations\\acts_random500_2_dense shape (10, 1000)\n"
          ]
        },
        {
          "name": "stderr",
          "output_type": "stream",
          "text": [
            "INFO:tensorflow:Loaded ./tcav/tcav_examples/discrete/kdd_sanity2\\activations\\acts_random500_2_dense shape (10, 1000)\n"
          ]
        },
        {
          "name": "stdout",
          "output_type": "stream",
          "text": [
            "INFO:tensorflow:Loaded ./tcav/tcav_examples/discrete/kdd_sanity2\\activations\\acts_random500_5_dense shape (10, 1000)\n"
          ]
        },
        {
          "name": "stderr",
          "output_type": "stream",
          "text": [
            "INFO:tensorflow:Loaded ./tcav/tcav_examples/discrete/kdd_sanity2\\activations\\acts_random500_5_dense shape (10, 1000)\n"
          ]
        },
        {
          "name": "stdout",
          "output_type": "stream",
          "text": [
            "INFO:tensorflow:Loaded ./tcav/tcav_examples/discrete/kdd_sanity2\\activations\\acts_normal._dense shape (200, 1000)\n"
          ]
        },
        {
          "name": "stderr",
          "output_type": "stream",
          "text": [
            "INFO:tensorflow:Loaded ./tcav/tcav_examples/discrete/kdd_sanity2\\activations\\acts_normal._dense shape (200, 1000)\n"
          ]
        },
        {
          "name": "stdout",
          "output_type": "stream",
          "text": [
            "INFO:tensorflow:CAV already exists: ./tcav/tcav_examples/discrete/kdd_sanity2\\cav\\random500_2-random500_5-dense-linear-0.01.pkl\n"
          ]
        },
        {
          "name": "stderr",
          "output_type": "stream",
          "text": [
            "INFO:tensorflow:CAV already exists: ./tcav/tcav_examples/discrete/kdd_sanity2\\cav\\random500_2-random500_5-dense-linear-0.01.pkl\n"
          ]
        },
        {
          "name": "stdout",
          "output_type": "stream",
          "text": [
            "INFO:tensorflow:CAV accuracies: {'random500_2': 0.0, 'random500_5': 1.0, 'overall': 0.5714285714285714}\n"
          ]
        },
        {
          "name": "stderr",
          "output_type": "stream",
          "text": [
            "INFO:tensorflow:CAV accuracies: {'random500_2': 0.0, 'random500_5': 1.0, 'overall': 0.5714285714285714}\n"
          ]
        },
        {
          "name": "stdout",
          "output_type": "stream",
          "text": [
            "INFO:tensorflow:Running param 43 of 220\n"
          ]
        },
        {
          "name": "stderr",
          "output_type": "stream",
          "text": [
            "INFO:tensorflow:Running param 43 of 220\n"
          ]
        },
        {
          "name": "stdout",
          "output_type": "stream",
          "text": [
            "INFO:tensorflow:running normal. ['random500_2', 'random500_6']\n"
          ]
        },
        {
          "name": "stderr",
          "output_type": "stream",
          "text": [
            "INFO:tensorflow:running normal. ['random500_2', 'random500_6']\n"
          ]
        },
        {
          "name": "stdout",
          "output_type": "stream",
          "text": [
            "INFO:tensorflow:Loaded ./tcav/tcav_examples/discrete/kdd_sanity2\\activations\\acts_random500_2_dense shape (10, 1000)\n"
          ]
        },
        {
          "name": "stderr",
          "output_type": "stream",
          "text": [
            "INFO:tensorflow:Loaded ./tcav/tcav_examples/discrete/kdd_sanity2\\activations\\acts_random500_2_dense shape (10, 1000)\n"
          ]
        },
        {
          "name": "stdout",
          "output_type": "stream",
          "text": [
            "INFO:tensorflow:Loaded ./tcav/tcav_examples/discrete/kdd_sanity2\\activations\\acts_random500_6_dense shape (10, 1000)\n"
          ]
        },
        {
          "name": "stderr",
          "output_type": "stream",
          "text": [
            "INFO:tensorflow:Loaded ./tcav/tcav_examples/discrete/kdd_sanity2\\activations\\acts_random500_6_dense shape (10, 1000)\n"
          ]
        },
        {
          "name": "stdout",
          "output_type": "stream",
          "text": [
            "INFO:tensorflow:Loaded ./tcav/tcav_examples/discrete/kdd_sanity2\\activations\\acts_normal._dense shape (200, 1000)\n"
          ]
        },
        {
          "name": "stderr",
          "output_type": "stream",
          "text": [
            "INFO:tensorflow:Loaded ./tcav/tcav_examples/discrete/kdd_sanity2\\activations\\acts_normal._dense shape (200, 1000)\n"
          ]
        },
        {
          "name": "stdout",
          "output_type": "stream",
          "text": [
            "INFO:tensorflow:CAV already exists: ./tcav/tcav_examples/discrete/kdd_sanity2\\cav\\random500_2-random500_6-dense-linear-0.01.pkl\n"
          ]
        },
        {
          "name": "stderr",
          "output_type": "stream",
          "text": [
            "INFO:tensorflow:CAV already exists: ./tcav/tcav_examples/discrete/kdd_sanity2\\cav\\random500_2-random500_6-dense-linear-0.01.pkl\n"
          ]
        },
        {
          "name": "stdout",
          "output_type": "stream",
          "text": [
            "INFO:tensorflow:CAV accuracies: {'random500_2': 0.5, 'random500_6': 0.0, 'overall': 0.2857142857142857}\n"
          ]
        },
        {
          "name": "stderr",
          "output_type": "stream",
          "text": [
            "INFO:tensorflow:CAV accuracies: {'random500_2': 0.5, 'random500_6': 0.0, 'overall': 0.2857142857142857}\n"
          ]
        },
        {
          "name": "stdout",
          "output_type": "stream",
          "text": [
            "INFO:tensorflow:Running param 44 of 220\n"
          ]
        },
        {
          "name": "stderr",
          "output_type": "stream",
          "text": [
            "INFO:tensorflow:Running param 44 of 220\n"
          ]
        },
        {
          "name": "stdout",
          "output_type": "stream",
          "text": [
            "INFO:tensorflow:running normal. ['random500_2', 'random500_7']\n"
          ]
        },
        {
          "name": "stderr",
          "output_type": "stream",
          "text": [
            "INFO:tensorflow:running normal. ['random500_2', 'random500_7']\n"
          ]
        },
        {
          "name": "stdout",
          "output_type": "stream",
          "text": [
            "INFO:tensorflow:Loaded ./tcav/tcav_examples/discrete/kdd_sanity2\\activations\\acts_random500_2_dense shape (10, 1000)\n"
          ]
        },
        {
          "name": "stderr",
          "output_type": "stream",
          "text": [
            "INFO:tensorflow:Loaded ./tcav/tcav_examples/discrete/kdd_sanity2\\activations\\acts_random500_2_dense shape (10, 1000)\n"
          ]
        },
        {
          "name": "stdout",
          "output_type": "stream",
          "text": [
            "INFO:tensorflow:Loaded ./tcav/tcav_examples/discrete/kdd_sanity2\\activations\\acts_random500_7_dense shape (10, 1000)\n"
          ]
        },
        {
          "name": "stderr",
          "output_type": "stream",
          "text": [
            "INFO:tensorflow:Loaded ./tcav/tcav_examples/discrete/kdd_sanity2\\activations\\acts_random500_7_dense shape (10, 1000)\n"
          ]
        },
        {
          "name": "stdout",
          "output_type": "stream",
          "text": [
            "INFO:tensorflow:Loaded ./tcav/tcav_examples/discrete/kdd_sanity2\\activations\\acts_normal._dense shape (200, 1000)\n"
          ]
        },
        {
          "name": "stderr",
          "output_type": "stream",
          "text": [
            "INFO:tensorflow:Loaded ./tcav/tcav_examples/discrete/kdd_sanity2\\activations\\acts_normal._dense shape (200, 1000)\n"
          ]
        },
        {
          "name": "stdout",
          "output_type": "stream",
          "text": [
            "INFO:tensorflow:CAV already exists: ./tcav/tcav_examples/discrete/kdd_sanity2\\cav\\random500_2-random500_7-dense-linear-0.01.pkl\n"
          ]
        },
        {
          "name": "stderr",
          "output_type": "stream",
          "text": [
            "INFO:tensorflow:CAV already exists: ./tcav/tcav_examples/discrete/kdd_sanity2\\cav\\random500_2-random500_7-dense-linear-0.01.pkl\n"
          ]
        },
        {
          "name": "stdout",
          "output_type": "stream",
          "text": [
            "INFO:tensorflow:CAV accuracies: {'random500_2': 0.5, 'random500_7': 0.6666666666666666, 'overall': 0.5714285714285714}\n"
          ]
        },
        {
          "name": "stderr",
          "output_type": "stream",
          "text": [
            "INFO:tensorflow:CAV accuracies: {'random500_2': 0.5, 'random500_7': 0.6666666666666666, 'overall': 0.5714285714285714}\n"
          ]
        },
        {
          "name": "stdout",
          "output_type": "stream",
          "text": [
            "INFO:tensorflow:Running param 45 of 220\n"
          ]
        },
        {
          "name": "stderr",
          "output_type": "stream",
          "text": [
            "INFO:tensorflow:Running param 45 of 220\n"
          ]
        },
        {
          "name": "stdout",
          "output_type": "stream",
          "text": [
            "INFO:tensorflow:running normal. ['random500_2', 'random500_8']\n"
          ]
        },
        {
          "name": "stderr",
          "output_type": "stream",
          "text": [
            "INFO:tensorflow:running normal. ['random500_2', 'random500_8']\n"
          ]
        },
        {
          "name": "stdout",
          "output_type": "stream",
          "text": [
            "INFO:tensorflow:Loaded ./tcav/tcav_examples/discrete/kdd_sanity2\\activations\\acts_random500_2_dense shape (10, 1000)\n"
          ]
        },
        {
          "name": "stderr",
          "output_type": "stream",
          "text": [
            "INFO:tensorflow:Loaded ./tcav/tcav_examples/discrete/kdd_sanity2\\activations\\acts_random500_2_dense shape (10, 1000)\n"
          ]
        },
        {
          "name": "stdout",
          "output_type": "stream",
          "text": [
            "INFO:tensorflow:Loaded ./tcav/tcav_examples/discrete/kdd_sanity2\\activations\\acts_random500_8_dense shape (10, 1000)\n"
          ]
        },
        {
          "name": "stderr",
          "output_type": "stream",
          "text": [
            "INFO:tensorflow:Loaded ./tcav/tcav_examples/discrete/kdd_sanity2\\activations\\acts_random500_8_dense shape (10, 1000)\n"
          ]
        },
        {
          "name": "stdout",
          "output_type": "stream",
          "text": [
            "INFO:tensorflow:Loaded ./tcav/tcav_examples/discrete/kdd_sanity2\\activations\\acts_normal._dense shape (200, 1000)\n"
          ]
        },
        {
          "name": "stderr",
          "output_type": "stream",
          "text": [
            "INFO:tensorflow:Loaded ./tcav/tcav_examples/discrete/kdd_sanity2\\activations\\acts_normal._dense shape (200, 1000)\n"
          ]
        },
        {
          "name": "stdout",
          "output_type": "stream",
          "text": [
            "INFO:tensorflow:CAV already exists: ./tcav/tcav_examples/discrete/kdd_sanity2\\cav\\random500_2-random500_8-dense-linear-0.01.pkl\n"
          ]
        },
        {
          "name": "stderr",
          "output_type": "stream",
          "text": [
            "INFO:tensorflow:CAV already exists: ./tcav/tcav_examples/discrete/kdd_sanity2\\cav\\random500_2-random500_8-dense-linear-0.01.pkl\n"
          ]
        },
        {
          "name": "stdout",
          "output_type": "stream",
          "text": [
            "INFO:tensorflow:CAV accuracies: {'random500_2': 0.0, 'random500_8': 0.75, 'overall': 0.42857142857142855}\n"
          ]
        },
        {
          "name": "stderr",
          "output_type": "stream",
          "text": [
            "INFO:tensorflow:CAV accuracies: {'random500_2': 0.0, 'random500_8': 0.75, 'overall': 0.42857142857142855}\n"
          ]
        },
        {
          "name": "stdout",
          "output_type": "stream",
          "text": [
            "INFO:tensorflow:Running param 46 of 220\n"
          ]
        },
        {
          "name": "stderr",
          "output_type": "stream",
          "text": [
            "INFO:tensorflow:Running param 46 of 220\n"
          ]
        },
        {
          "name": "stdout",
          "output_type": "stream",
          "text": [
            "INFO:tensorflow:running normal. ['random500_2', 'random500_9']\n"
          ]
        },
        {
          "name": "stderr",
          "output_type": "stream",
          "text": [
            "INFO:tensorflow:running normal. ['random500_2', 'random500_9']\n"
          ]
        },
        {
          "name": "stdout",
          "output_type": "stream",
          "text": [
            "INFO:tensorflow:Loaded ./tcav/tcav_examples/discrete/kdd_sanity2\\activations\\acts_random500_2_dense shape (10, 1000)\n"
          ]
        },
        {
          "name": "stderr",
          "output_type": "stream",
          "text": [
            "INFO:tensorflow:Loaded ./tcav/tcav_examples/discrete/kdd_sanity2\\activations\\acts_random500_2_dense shape (10, 1000)\n"
          ]
        },
        {
          "name": "stdout",
          "output_type": "stream",
          "text": [
            "INFO:tensorflow:Loaded ./tcav/tcav_examples/discrete/kdd_sanity2\\activations\\acts_random500_9_dense shape (10, 1000)\n"
          ]
        },
        {
          "name": "stderr",
          "output_type": "stream",
          "text": [
            "INFO:tensorflow:Loaded ./tcav/tcav_examples/discrete/kdd_sanity2\\activations\\acts_random500_9_dense shape (10, 1000)\n"
          ]
        },
        {
          "name": "stdout",
          "output_type": "stream",
          "text": [
            "INFO:tensorflow:Loaded ./tcav/tcav_examples/discrete/kdd_sanity2\\activations\\acts_normal._dense shape (200, 1000)\n"
          ]
        },
        {
          "name": "stderr",
          "output_type": "stream",
          "text": [
            "INFO:tensorflow:Loaded ./tcav/tcav_examples/discrete/kdd_sanity2\\activations\\acts_normal._dense shape (200, 1000)\n"
          ]
        },
        {
          "name": "stdout",
          "output_type": "stream",
          "text": [
            "INFO:tensorflow:CAV already exists: ./tcav/tcav_examples/discrete/kdd_sanity2\\cav\\random500_2-random500_9-dense-linear-0.01.pkl\n"
          ]
        },
        {
          "name": "stderr",
          "output_type": "stream",
          "text": [
            "INFO:tensorflow:CAV already exists: ./tcav/tcav_examples/discrete/kdd_sanity2\\cav\\random500_2-random500_9-dense-linear-0.01.pkl\n"
          ]
        },
        {
          "name": "stdout",
          "output_type": "stream",
          "text": [
            "INFO:tensorflow:CAV accuracies: {'random500_2': 0.75, 'random500_9': 0.0, 'overall': 0.42857142857142855}\n"
          ]
        },
        {
          "name": "stderr",
          "output_type": "stream",
          "text": [
            "INFO:tensorflow:CAV accuracies: {'random500_2': 0.75, 'random500_9': 0.0, 'overall': 0.42857142857142855}\n"
          ]
        },
        {
          "name": "stdout",
          "output_type": "stream",
          "text": [
            "INFO:tensorflow:Running param 47 of 220\n"
          ]
        },
        {
          "name": "stderr",
          "output_type": "stream",
          "text": [
            "INFO:tensorflow:Running param 47 of 220\n"
          ]
        },
        {
          "name": "stdout",
          "output_type": "stream",
          "text": [
            "INFO:tensorflow:running normal. ['random500_3', 'random500_0']\n"
          ]
        },
        {
          "name": "stderr",
          "output_type": "stream",
          "text": [
            "INFO:tensorflow:running normal. ['random500_3', 'random500_0']\n"
          ]
        },
        {
          "name": "stdout",
          "output_type": "stream",
          "text": [
            "INFO:tensorflow:Loaded ./tcav/tcav_examples/discrete/kdd_sanity2\\activations\\acts_random500_3_dense shape (10, 1000)\n"
          ]
        },
        {
          "name": "stderr",
          "output_type": "stream",
          "text": [
            "INFO:tensorflow:Loaded ./tcav/tcav_examples/discrete/kdd_sanity2\\activations\\acts_random500_3_dense shape (10, 1000)\n"
          ]
        },
        {
          "name": "stdout",
          "output_type": "stream",
          "text": [
            "INFO:tensorflow:Loaded ./tcav/tcav_examples/discrete/kdd_sanity2\\activations\\acts_random500_0_dense shape (10, 1000)\n"
          ]
        },
        {
          "name": "stderr",
          "output_type": "stream",
          "text": [
            "INFO:tensorflow:Loaded ./tcav/tcav_examples/discrete/kdd_sanity2\\activations\\acts_random500_0_dense shape (10, 1000)\n"
          ]
        },
        {
          "name": "stdout",
          "output_type": "stream",
          "text": [
            "INFO:tensorflow:Loaded ./tcav/tcav_examples/discrete/kdd_sanity2\\activations\\acts_normal._dense shape (200, 1000)\n"
          ]
        },
        {
          "name": "stderr",
          "output_type": "stream",
          "text": [
            "INFO:tensorflow:Loaded ./tcav/tcav_examples/discrete/kdd_sanity2\\activations\\acts_normal._dense shape (200, 1000)\n"
          ]
        },
        {
          "name": "stdout",
          "output_type": "stream",
          "text": [
            "INFO:tensorflow:CAV already exists: ./tcav/tcav_examples/discrete/kdd_sanity2\\cav\\random500_3-random500_0-dense-linear-0.01.pkl\n"
          ]
        },
        {
          "name": "stderr",
          "output_type": "stream",
          "text": [
            "INFO:tensorflow:CAV already exists: ./tcav/tcav_examples/discrete/kdd_sanity2\\cav\\random500_3-random500_0-dense-linear-0.01.pkl\n"
          ]
        },
        {
          "name": "stdout",
          "output_type": "stream",
          "text": [
            "INFO:tensorflow:CAV accuracies: {'random500_3': 0.25, 'random500_0': 0.6666666666666666, 'overall': 0.42857142857142855}\n"
          ]
        },
        {
          "name": "stderr",
          "output_type": "stream",
          "text": [
            "INFO:tensorflow:CAV accuracies: {'random500_3': 0.25, 'random500_0': 0.6666666666666666, 'overall': 0.42857142857142855}\n"
          ]
        },
        {
          "name": "stdout",
          "output_type": "stream",
          "text": [
            "INFO:tensorflow:Running param 48 of 220\n"
          ]
        },
        {
          "name": "stderr",
          "output_type": "stream",
          "text": [
            "INFO:tensorflow:Running param 48 of 220\n"
          ]
        },
        {
          "name": "stdout",
          "output_type": "stream",
          "text": [
            "INFO:tensorflow:running normal. ['random500_3', 'random500_1']\n"
          ]
        },
        {
          "name": "stderr",
          "output_type": "stream",
          "text": [
            "INFO:tensorflow:running normal. ['random500_3', 'random500_1']\n"
          ]
        },
        {
          "name": "stdout",
          "output_type": "stream",
          "text": [
            "INFO:tensorflow:Loaded ./tcav/tcav_examples/discrete/kdd_sanity2\\activations\\acts_random500_3_dense shape (10, 1000)\n"
          ]
        },
        {
          "name": "stderr",
          "output_type": "stream",
          "text": [
            "INFO:tensorflow:Loaded ./tcav/tcav_examples/discrete/kdd_sanity2\\activations\\acts_random500_3_dense shape (10, 1000)\n"
          ]
        },
        {
          "name": "stdout",
          "output_type": "stream",
          "text": [
            "INFO:tensorflow:Loaded ./tcav/tcav_examples/discrete/kdd_sanity2\\activations\\acts_random500_1_dense shape (10, 1000)\n"
          ]
        },
        {
          "name": "stderr",
          "output_type": "stream",
          "text": [
            "INFO:tensorflow:Loaded ./tcav/tcav_examples/discrete/kdd_sanity2\\activations\\acts_random500_1_dense shape (10, 1000)\n"
          ]
        },
        {
          "name": "stdout",
          "output_type": "stream",
          "text": [
            "INFO:tensorflow:Loaded ./tcav/tcav_examples/discrete/kdd_sanity2\\activations\\acts_normal._dense shape (200, 1000)\n"
          ]
        },
        {
          "name": "stderr",
          "output_type": "stream",
          "text": [
            "INFO:tensorflow:Loaded ./tcav/tcav_examples/discrete/kdd_sanity2\\activations\\acts_normal._dense shape (200, 1000)\n"
          ]
        },
        {
          "name": "stdout",
          "output_type": "stream",
          "text": [
            "INFO:tensorflow:CAV already exists: ./tcav/tcav_examples/discrete/kdd_sanity2\\cav\\random500_3-random500_1-dense-linear-0.01.pkl\n"
          ]
        },
        {
          "name": "stderr",
          "output_type": "stream",
          "text": [
            "INFO:tensorflow:CAV already exists: ./tcav/tcav_examples/discrete/kdd_sanity2\\cav\\random500_3-random500_1-dense-linear-0.01.pkl\n"
          ]
        },
        {
          "name": "stdout",
          "output_type": "stream",
          "text": [
            "INFO:tensorflow:CAV accuracies: {'random500_3': 1.0, 'random500_1': 0.0, 'overall': 0.42857142857142855}\n"
          ]
        },
        {
          "name": "stderr",
          "output_type": "stream",
          "text": [
            "INFO:tensorflow:CAV accuracies: {'random500_3': 1.0, 'random500_1': 0.0, 'overall': 0.42857142857142855}\n"
          ]
        },
        {
          "name": "stdout",
          "output_type": "stream",
          "text": [
            "INFO:tensorflow:Running param 49 of 220\n"
          ]
        },
        {
          "name": "stderr",
          "output_type": "stream",
          "text": [
            "INFO:tensorflow:Running param 49 of 220\n"
          ]
        },
        {
          "name": "stdout",
          "output_type": "stream",
          "text": [
            "INFO:tensorflow:running normal. ['random500_3', 'random500_2']\n"
          ]
        },
        {
          "name": "stderr",
          "output_type": "stream",
          "text": [
            "INFO:tensorflow:running normal. ['random500_3', 'random500_2']\n"
          ]
        },
        {
          "name": "stdout",
          "output_type": "stream",
          "text": [
            "INFO:tensorflow:Loaded ./tcav/tcav_examples/discrete/kdd_sanity2\\activations\\acts_random500_3_dense shape (10, 1000)\n"
          ]
        },
        {
          "name": "stderr",
          "output_type": "stream",
          "text": [
            "INFO:tensorflow:Loaded ./tcav/tcav_examples/discrete/kdd_sanity2\\activations\\acts_random500_3_dense shape (10, 1000)\n"
          ]
        },
        {
          "name": "stdout",
          "output_type": "stream",
          "text": [
            "INFO:tensorflow:Loaded ./tcav/tcav_examples/discrete/kdd_sanity2\\activations\\acts_random500_2_dense shape (10, 1000)\n"
          ]
        },
        {
          "name": "stderr",
          "output_type": "stream",
          "text": [
            "INFO:tensorflow:Loaded ./tcav/tcav_examples/discrete/kdd_sanity2\\activations\\acts_random500_2_dense shape (10, 1000)\n"
          ]
        },
        {
          "name": "stdout",
          "output_type": "stream",
          "text": [
            "INFO:tensorflow:Loaded ./tcav/tcav_examples/discrete/kdd_sanity2\\activations\\acts_normal._dense shape (200, 1000)\n"
          ]
        },
        {
          "name": "stderr",
          "output_type": "stream",
          "text": [
            "INFO:tensorflow:Loaded ./tcav/tcav_examples/discrete/kdd_sanity2\\activations\\acts_normal._dense shape (200, 1000)\n"
          ]
        },
        {
          "name": "stdout",
          "output_type": "stream",
          "text": [
            "INFO:tensorflow:CAV already exists: ./tcav/tcav_examples/discrete/kdd_sanity2\\cav\\random500_3-random500_2-dense-linear-0.01.pkl\n"
          ]
        },
        {
          "name": "stderr",
          "output_type": "stream",
          "text": [
            "INFO:tensorflow:CAV already exists: ./tcav/tcav_examples/discrete/kdd_sanity2\\cav\\random500_3-random500_2-dense-linear-0.01.pkl\n"
          ]
        },
        {
          "name": "stdout",
          "output_type": "stream",
          "text": [
            "INFO:tensorflow:CAV accuracies: {'random500_3': 1.0, 'random500_2': 0.5, 'overall': 0.7142857142857143}\n"
          ]
        },
        {
          "name": "stderr",
          "output_type": "stream",
          "text": [
            "INFO:tensorflow:CAV accuracies: {'random500_3': 1.0, 'random500_2': 0.5, 'overall': 0.7142857142857143}\n"
          ]
        },
        {
          "name": "stdout",
          "output_type": "stream",
          "text": [
            "INFO:tensorflow:Running param 50 of 220\n"
          ]
        },
        {
          "name": "stderr",
          "output_type": "stream",
          "text": [
            "INFO:tensorflow:Running param 50 of 220\n"
          ]
        },
        {
          "name": "stdout",
          "output_type": "stream",
          "text": [
            "INFO:tensorflow:running normal. ['random500_3', 'random500_4']\n"
          ]
        },
        {
          "name": "stderr",
          "output_type": "stream",
          "text": [
            "INFO:tensorflow:running normal. ['random500_3', 'random500_4']\n"
          ]
        },
        {
          "name": "stdout",
          "output_type": "stream",
          "text": [
            "INFO:tensorflow:Loaded ./tcav/tcav_examples/discrete/kdd_sanity2\\activations\\acts_random500_3_dense shape (10, 1000)\n"
          ]
        },
        {
          "name": "stderr",
          "output_type": "stream",
          "text": [
            "INFO:tensorflow:Loaded ./tcav/tcav_examples/discrete/kdd_sanity2\\activations\\acts_random500_3_dense shape (10, 1000)\n"
          ]
        },
        {
          "name": "stdout",
          "output_type": "stream",
          "text": [
            "INFO:tensorflow:Loaded ./tcav/tcav_examples/discrete/kdd_sanity2\\activations\\acts_random500_4_dense shape (10, 1000)\n"
          ]
        },
        {
          "name": "stderr",
          "output_type": "stream",
          "text": [
            "INFO:tensorflow:Loaded ./tcav/tcav_examples/discrete/kdd_sanity2\\activations\\acts_random500_4_dense shape (10, 1000)\n"
          ]
        },
        {
          "name": "stdout",
          "output_type": "stream",
          "text": [
            "INFO:tensorflow:Loaded ./tcav/tcav_examples/discrete/kdd_sanity2\\activations\\acts_normal._dense shape (200, 1000)\n"
          ]
        },
        {
          "name": "stderr",
          "output_type": "stream",
          "text": [
            "INFO:tensorflow:Loaded ./tcav/tcav_examples/discrete/kdd_sanity2\\activations\\acts_normal._dense shape (200, 1000)\n"
          ]
        },
        {
          "name": "stdout",
          "output_type": "stream",
          "text": [
            "INFO:tensorflow:CAV already exists: ./tcav/tcav_examples/discrete/kdd_sanity2\\cav\\random500_3-random500_4-dense-linear-0.01.pkl\n"
          ]
        },
        {
          "name": "stderr",
          "output_type": "stream",
          "text": [
            "INFO:tensorflow:CAV already exists: ./tcav/tcav_examples/discrete/kdd_sanity2\\cav\\random500_3-random500_4-dense-linear-0.01.pkl\n"
          ]
        },
        {
          "name": "stdout",
          "output_type": "stream",
          "text": [
            "INFO:tensorflow:CAV accuracies: {'random500_3': 1.0, 'random500_4': 0.0, 'overall': 0.42857142857142855}\n"
          ]
        },
        {
          "name": "stderr",
          "output_type": "stream",
          "text": [
            "INFO:tensorflow:CAV accuracies: {'random500_3': 1.0, 'random500_4': 0.0, 'overall': 0.42857142857142855}\n"
          ]
        },
        {
          "name": "stdout",
          "output_type": "stream",
          "text": [
            "INFO:tensorflow:Running param 51 of 220\n"
          ]
        },
        {
          "name": "stderr",
          "output_type": "stream",
          "text": [
            "INFO:tensorflow:Running param 51 of 220\n"
          ]
        },
        {
          "name": "stdout",
          "output_type": "stream",
          "text": [
            "INFO:tensorflow:running normal. ['random500_3', 'random500_5']\n"
          ]
        },
        {
          "name": "stderr",
          "output_type": "stream",
          "text": [
            "INFO:tensorflow:running normal. ['random500_3', 'random500_5']\n"
          ]
        },
        {
          "name": "stdout",
          "output_type": "stream",
          "text": [
            "INFO:tensorflow:Loaded ./tcav/tcav_examples/discrete/kdd_sanity2\\activations\\acts_random500_3_dense shape (10, 1000)\n"
          ]
        },
        {
          "name": "stderr",
          "output_type": "stream",
          "text": [
            "INFO:tensorflow:Loaded ./tcav/tcav_examples/discrete/kdd_sanity2\\activations\\acts_random500_3_dense shape (10, 1000)\n"
          ]
        },
        {
          "name": "stdout",
          "output_type": "stream",
          "text": [
            "INFO:tensorflow:Loaded ./tcav/tcav_examples/discrete/kdd_sanity2\\activations\\acts_random500_5_dense shape (10, 1000)\n"
          ]
        },
        {
          "name": "stderr",
          "output_type": "stream",
          "text": [
            "INFO:tensorflow:Loaded ./tcav/tcav_examples/discrete/kdd_sanity2\\activations\\acts_random500_5_dense shape (10, 1000)\n"
          ]
        },
        {
          "name": "stdout",
          "output_type": "stream",
          "text": [
            "INFO:tensorflow:Loaded ./tcav/tcav_examples/discrete/kdd_sanity2\\activations\\acts_normal._dense shape (200, 1000)\n"
          ]
        },
        {
          "name": "stderr",
          "output_type": "stream",
          "text": [
            "INFO:tensorflow:Loaded ./tcav/tcav_examples/discrete/kdd_sanity2\\activations\\acts_normal._dense shape (200, 1000)\n"
          ]
        },
        {
          "name": "stdout",
          "output_type": "stream",
          "text": [
            "INFO:tensorflow:CAV already exists: ./tcav/tcav_examples/discrete/kdd_sanity2\\cav\\random500_3-random500_5-dense-linear-0.01.pkl\n"
          ]
        },
        {
          "name": "stderr",
          "output_type": "stream",
          "text": [
            "INFO:tensorflow:CAV already exists: ./tcav/tcav_examples/discrete/kdd_sanity2\\cav\\random500_3-random500_5-dense-linear-0.01.pkl\n"
          ]
        },
        {
          "name": "stdout",
          "output_type": "stream",
          "text": [
            "INFO:tensorflow:CAV accuracies: {'random500_3': 0.6666666666666666, 'random500_5': 0.0, 'overall': 0.2857142857142857}\n"
          ]
        },
        {
          "name": "stderr",
          "output_type": "stream",
          "text": [
            "INFO:tensorflow:CAV accuracies: {'random500_3': 0.6666666666666666, 'random500_5': 0.0, 'overall': 0.2857142857142857}\n"
          ]
        },
        {
          "name": "stdout",
          "output_type": "stream",
          "text": [
            "INFO:tensorflow:Running param 52 of 220\n"
          ]
        },
        {
          "name": "stderr",
          "output_type": "stream",
          "text": [
            "INFO:tensorflow:Running param 52 of 220\n"
          ]
        },
        {
          "name": "stdout",
          "output_type": "stream",
          "text": [
            "INFO:tensorflow:running normal. ['random500_3', 'random500_6']\n"
          ]
        },
        {
          "name": "stderr",
          "output_type": "stream",
          "text": [
            "INFO:tensorflow:running normal. ['random500_3', 'random500_6']\n"
          ]
        },
        {
          "name": "stdout",
          "output_type": "stream",
          "text": [
            "INFO:tensorflow:Loaded ./tcav/tcav_examples/discrete/kdd_sanity2\\activations\\acts_random500_3_dense shape (10, 1000)\n"
          ]
        },
        {
          "name": "stderr",
          "output_type": "stream",
          "text": [
            "INFO:tensorflow:Loaded ./tcav/tcav_examples/discrete/kdd_sanity2\\activations\\acts_random500_3_dense shape (10, 1000)\n"
          ]
        },
        {
          "name": "stdout",
          "output_type": "stream",
          "text": [
            "INFO:tensorflow:Loaded ./tcav/tcav_examples/discrete/kdd_sanity2\\activations\\acts_random500_6_dense shape (10, 1000)\n"
          ]
        },
        {
          "name": "stderr",
          "output_type": "stream",
          "text": [
            "INFO:tensorflow:Loaded ./tcav/tcav_examples/discrete/kdd_sanity2\\activations\\acts_random500_6_dense shape (10, 1000)\n"
          ]
        },
        {
          "name": "stdout",
          "output_type": "stream",
          "text": [
            "INFO:tensorflow:Loaded ./tcav/tcav_examples/discrete/kdd_sanity2\\activations\\acts_normal._dense shape (200, 1000)\n"
          ]
        },
        {
          "name": "stderr",
          "output_type": "stream",
          "text": [
            "INFO:tensorflow:Loaded ./tcav/tcav_examples/discrete/kdd_sanity2\\activations\\acts_normal._dense shape (200, 1000)\n"
          ]
        },
        {
          "name": "stdout",
          "output_type": "stream",
          "text": [
            "INFO:tensorflow:CAV already exists: ./tcav/tcav_examples/discrete/kdd_sanity2\\cav\\random500_3-random500_6-dense-linear-0.01.pkl\n"
          ]
        },
        {
          "name": "stderr",
          "output_type": "stream",
          "text": [
            "INFO:tensorflow:CAV already exists: ./tcav/tcav_examples/discrete/kdd_sanity2\\cav\\random500_3-random500_6-dense-linear-0.01.pkl\n"
          ]
        },
        {
          "name": "stdout",
          "output_type": "stream",
          "text": [
            "INFO:tensorflow:CAV accuracies: {'random500_3': 0.0, 'random500_6': 1.0, 'overall': 0.42857142857142855}\n"
          ]
        },
        {
          "name": "stderr",
          "output_type": "stream",
          "text": [
            "INFO:tensorflow:CAV accuracies: {'random500_3': 0.0, 'random500_6': 1.0, 'overall': 0.42857142857142855}\n"
          ]
        },
        {
          "name": "stdout",
          "output_type": "stream",
          "text": [
            "INFO:tensorflow:Running param 53 of 220\n"
          ]
        },
        {
          "name": "stderr",
          "output_type": "stream",
          "text": [
            "INFO:tensorflow:Running param 53 of 220\n"
          ]
        },
        {
          "name": "stdout",
          "output_type": "stream",
          "text": [
            "INFO:tensorflow:running normal. ['random500_3', 'random500_7']\n"
          ]
        },
        {
          "name": "stderr",
          "output_type": "stream",
          "text": [
            "INFO:tensorflow:running normal. ['random500_3', 'random500_7']\n"
          ]
        },
        {
          "name": "stdout",
          "output_type": "stream",
          "text": [
            "INFO:tensorflow:Loaded ./tcav/tcav_examples/discrete/kdd_sanity2\\activations\\acts_random500_3_dense shape (10, 1000)\n"
          ]
        },
        {
          "name": "stderr",
          "output_type": "stream",
          "text": [
            "INFO:tensorflow:Loaded ./tcav/tcav_examples/discrete/kdd_sanity2\\activations\\acts_random500_3_dense shape (10, 1000)\n"
          ]
        },
        {
          "name": "stdout",
          "output_type": "stream",
          "text": [
            "INFO:tensorflow:Loaded ./tcav/tcav_examples/discrete/kdd_sanity2\\activations\\acts_random500_7_dense shape (10, 1000)\n"
          ]
        },
        {
          "name": "stderr",
          "output_type": "stream",
          "text": [
            "INFO:tensorflow:Loaded ./tcav/tcav_examples/discrete/kdd_sanity2\\activations\\acts_random500_7_dense shape (10, 1000)\n"
          ]
        },
        {
          "name": "stdout",
          "output_type": "stream",
          "text": [
            "INFO:tensorflow:Loaded ./tcav/tcav_examples/discrete/kdd_sanity2\\activations\\acts_normal._dense shape (200, 1000)\n"
          ]
        },
        {
          "name": "stderr",
          "output_type": "stream",
          "text": [
            "INFO:tensorflow:Loaded ./tcav/tcav_examples/discrete/kdd_sanity2\\activations\\acts_normal._dense shape (200, 1000)\n"
          ]
        },
        {
          "name": "stdout",
          "output_type": "stream",
          "text": [
            "INFO:tensorflow:CAV already exists: ./tcav/tcav_examples/discrete/kdd_sanity2\\cav\\random500_3-random500_7-dense-linear-0.01.pkl\n"
          ]
        },
        {
          "name": "stderr",
          "output_type": "stream",
          "text": [
            "INFO:tensorflow:CAV already exists: ./tcav/tcav_examples/discrete/kdd_sanity2\\cav\\random500_3-random500_7-dense-linear-0.01.pkl\n"
          ]
        },
        {
          "name": "stdout",
          "output_type": "stream",
          "text": [
            "INFO:tensorflow:CAV accuracies: {'random500_3': 1.0, 'random500_7': 0.75, 'overall': 0.8571428571428571}\n"
          ]
        },
        {
          "name": "stderr",
          "output_type": "stream",
          "text": [
            "INFO:tensorflow:CAV accuracies: {'random500_3': 1.0, 'random500_7': 0.75, 'overall': 0.8571428571428571}\n"
          ]
        },
        {
          "name": "stdout",
          "output_type": "stream",
          "text": [
            "INFO:tensorflow:Running param 54 of 220\n"
          ]
        },
        {
          "name": "stderr",
          "output_type": "stream",
          "text": [
            "INFO:tensorflow:Running param 54 of 220\n"
          ]
        },
        {
          "name": "stdout",
          "output_type": "stream",
          "text": [
            "INFO:tensorflow:running normal. ['random500_3', 'random500_8']\n"
          ]
        },
        {
          "name": "stderr",
          "output_type": "stream",
          "text": [
            "INFO:tensorflow:running normal. ['random500_3', 'random500_8']\n"
          ]
        },
        {
          "name": "stdout",
          "output_type": "stream",
          "text": [
            "INFO:tensorflow:Loaded ./tcav/tcav_examples/discrete/kdd_sanity2\\activations\\acts_random500_3_dense shape (10, 1000)\n"
          ]
        },
        {
          "name": "stderr",
          "output_type": "stream",
          "text": [
            "INFO:tensorflow:Loaded ./tcav/tcav_examples/discrete/kdd_sanity2\\activations\\acts_random500_3_dense shape (10, 1000)\n"
          ]
        },
        {
          "name": "stdout",
          "output_type": "stream",
          "text": [
            "INFO:tensorflow:Loaded ./tcav/tcav_examples/discrete/kdd_sanity2\\activations\\acts_random500_8_dense shape (10, 1000)\n"
          ]
        },
        {
          "name": "stderr",
          "output_type": "stream",
          "text": [
            "INFO:tensorflow:Loaded ./tcav/tcav_examples/discrete/kdd_sanity2\\activations\\acts_random500_8_dense shape (10, 1000)\n"
          ]
        },
        {
          "name": "stdout",
          "output_type": "stream",
          "text": [
            "INFO:tensorflow:Loaded ./tcav/tcav_examples/discrete/kdd_sanity2\\activations\\acts_normal._dense shape (200, 1000)\n"
          ]
        },
        {
          "name": "stderr",
          "output_type": "stream",
          "text": [
            "INFO:tensorflow:Loaded ./tcav/tcav_examples/discrete/kdd_sanity2\\activations\\acts_normal._dense shape (200, 1000)\n"
          ]
        },
        {
          "name": "stdout",
          "output_type": "stream",
          "text": [
            "INFO:tensorflow:CAV already exists: ./tcav/tcav_examples/discrete/kdd_sanity2\\cav\\random500_3-random500_8-dense-linear-0.01.pkl\n"
          ]
        },
        {
          "name": "stderr",
          "output_type": "stream",
          "text": [
            "INFO:tensorflow:CAV already exists: ./tcav/tcav_examples/discrete/kdd_sanity2\\cav\\random500_3-random500_8-dense-linear-0.01.pkl\n"
          ]
        },
        {
          "name": "stdout",
          "output_type": "stream",
          "text": [
            "INFO:tensorflow:CAV accuracies: {'random500_3': 0.25, 'random500_8': 1.0, 'overall': 0.5714285714285714}\n"
          ]
        },
        {
          "name": "stderr",
          "output_type": "stream",
          "text": [
            "INFO:tensorflow:CAV accuracies: {'random500_3': 0.25, 'random500_8': 1.0, 'overall': 0.5714285714285714}\n"
          ]
        },
        {
          "name": "stdout",
          "output_type": "stream",
          "text": [
            "INFO:tensorflow:Running param 55 of 220\n"
          ]
        },
        {
          "name": "stderr",
          "output_type": "stream",
          "text": [
            "INFO:tensorflow:Running param 55 of 220\n"
          ]
        },
        {
          "name": "stdout",
          "output_type": "stream",
          "text": [
            "INFO:tensorflow:running normal. ['random500_3', 'random500_9']\n"
          ]
        },
        {
          "name": "stderr",
          "output_type": "stream",
          "text": [
            "INFO:tensorflow:running normal. ['random500_3', 'random500_9']\n"
          ]
        },
        {
          "name": "stdout",
          "output_type": "stream",
          "text": [
            "INFO:tensorflow:Loaded ./tcav/tcav_examples/discrete/kdd_sanity2\\activations\\acts_random500_3_dense shape (10, 1000)\n"
          ]
        },
        {
          "name": "stderr",
          "output_type": "stream",
          "text": [
            "INFO:tensorflow:Loaded ./tcav/tcav_examples/discrete/kdd_sanity2\\activations\\acts_random500_3_dense shape (10, 1000)\n"
          ]
        },
        {
          "name": "stdout",
          "output_type": "stream",
          "text": [
            "INFO:tensorflow:Loaded ./tcav/tcav_examples/discrete/kdd_sanity2\\activations\\acts_random500_9_dense shape (10, 1000)\n"
          ]
        },
        {
          "name": "stderr",
          "output_type": "stream",
          "text": [
            "INFO:tensorflow:Loaded ./tcav/tcav_examples/discrete/kdd_sanity2\\activations\\acts_random500_9_dense shape (10, 1000)\n"
          ]
        },
        {
          "name": "stdout",
          "output_type": "stream",
          "text": [
            "INFO:tensorflow:Loaded ./tcav/tcav_examples/discrete/kdd_sanity2\\activations\\acts_normal._dense shape (200, 1000)\n"
          ]
        },
        {
          "name": "stderr",
          "output_type": "stream",
          "text": [
            "INFO:tensorflow:Loaded ./tcav/tcav_examples/discrete/kdd_sanity2\\activations\\acts_normal._dense shape (200, 1000)\n"
          ]
        },
        {
          "name": "stdout",
          "output_type": "stream",
          "text": [
            "INFO:tensorflow:CAV already exists: ./tcav/tcav_examples/discrete/kdd_sanity2\\cav\\random500_3-random500_9-dense-linear-0.01.pkl\n"
          ]
        },
        {
          "name": "stderr",
          "output_type": "stream",
          "text": [
            "INFO:tensorflow:CAV already exists: ./tcav/tcav_examples/discrete/kdd_sanity2\\cav\\random500_3-random500_9-dense-linear-0.01.pkl\n"
          ]
        },
        {
          "name": "stdout",
          "output_type": "stream",
          "text": [
            "INFO:tensorflow:CAV accuracies: {'random500_3': 0.0, 'random500_9': 1.0, 'overall': 0.42857142857142855}\n"
          ]
        },
        {
          "name": "stderr",
          "output_type": "stream",
          "text": [
            "INFO:tensorflow:CAV accuracies: {'random500_3': 0.0, 'random500_9': 1.0, 'overall': 0.42857142857142855}\n"
          ]
        },
        {
          "name": "stdout",
          "output_type": "stream",
          "text": [
            "INFO:tensorflow:Running param 56 of 220\n"
          ]
        },
        {
          "name": "stderr",
          "output_type": "stream",
          "text": [
            "INFO:tensorflow:Running param 56 of 220\n"
          ]
        },
        {
          "name": "stdout",
          "output_type": "stream",
          "text": [
            "INFO:tensorflow:running normal. ['random500_4', 'random500_0']\n"
          ]
        },
        {
          "name": "stderr",
          "output_type": "stream",
          "text": [
            "INFO:tensorflow:running normal. ['random500_4', 'random500_0']\n"
          ]
        },
        {
          "name": "stdout",
          "output_type": "stream",
          "text": [
            "INFO:tensorflow:Loaded ./tcav/tcav_examples/discrete/kdd_sanity2\\activations\\acts_random500_4_dense shape (10, 1000)\n"
          ]
        },
        {
          "name": "stderr",
          "output_type": "stream",
          "text": [
            "INFO:tensorflow:Loaded ./tcav/tcav_examples/discrete/kdd_sanity2\\activations\\acts_random500_4_dense shape (10, 1000)\n"
          ]
        },
        {
          "name": "stdout",
          "output_type": "stream",
          "text": [
            "INFO:tensorflow:Loaded ./tcav/tcav_examples/discrete/kdd_sanity2\\activations\\acts_random500_0_dense shape (10, 1000)\n"
          ]
        },
        {
          "name": "stderr",
          "output_type": "stream",
          "text": [
            "INFO:tensorflow:Loaded ./tcav/tcav_examples/discrete/kdd_sanity2\\activations\\acts_random500_0_dense shape (10, 1000)\n"
          ]
        },
        {
          "name": "stdout",
          "output_type": "stream",
          "text": [
            "INFO:tensorflow:Loaded ./tcav/tcav_examples/discrete/kdd_sanity2\\activations\\acts_normal._dense shape (200, 1000)\n"
          ]
        },
        {
          "name": "stderr",
          "output_type": "stream",
          "text": [
            "INFO:tensorflow:Loaded ./tcav/tcav_examples/discrete/kdd_sanity2\\activations\\acts_normal._dense shape (200, 1000)\n"
          ]
        },
        {
          "name": "stdout",
          "output_type": "stream",
          "text": [
            "INFO:tensorflow:CAV already exists: ./tcav/tcav_examples/discrete/kdd_sanity2\\cav\\random500_4-random500_0-dense-linear-0.01.pkl\n"
          ]
        },
        {
          "name": "stderr",
          "output_type": "stream",
          "text": [
            "INFO:tensorflow:CAV already exists: ./tcav/tcav_examples/discrete/kdd_sanity2\\cav\\random500_4-random500_0-dense-linear-0.01.pkl\n"
          ]
        },
        {
          "name": "stdout",
          "output_type": "stream",
          "text": [
            "INFO:tensorflow:CAV accuracies: {'random500_4': 1.0, 'random500_0': 1.0, 'overall': 1.0}\n"
          ]
        },
        {
          "name": "stderr",
          "output_type": "stream",
          "text": [
            "INFO:tensorflow:CAV accuracies: {'random500_4': 1.0, 'random500_0': 1.0, 'overall': 1.0}\n"
          ]
        },
        {
          "name": "stdout",
          "output_type": "stream",
          "text": [
            "INFO:tensorflow:Running param 57 of 220\n"
          ]
        },
        {
          "name": "stderr",
          "output_type": "stream",
          "text": [
            "INFO:tensorflow:Running param 57 of 220\n"
          ]
        },
        {
          "name": "stdout",
          "output_type": "stream",
          "text": [
            "INFO:tensorflow:running normal. ['random500_4', 'random500_1']\n"
          ]
        },
        {
          "name": "stderr",
          "output_type": "stream",
          "text": [
            "INFO:tensorflow:running normal. ['random500_4', 'random500_1']\n"
          ]
        },
        {
          "name": "stdout",
          "output_type": "stream",
          "text": [
            "INFO:tensorflow:Loaded ./tcav/tcav_examples/discrete/kdd_sanity2\\activations\\acts_random500_4_dense shape (10, 1000)\n"
          ]
        },
        {
          "name": "stderr",
          "output_type": "stream",
          "text": [
            "INFO:tensorflow:Loaded ./tcav/tcav_examples/discrete/kdd_sanity2\\activations\\acts_random500_4_dense shape (10, 1000)\n"
          ]
        },
        {
          "name": "stdout",
          "output_type": "stream",
          "text": [
            "INFO:tensorflow:Loaded ./tcav/tcav_examples/discrete/kdd_sanity2\\activations\\acts_random500_1_dense shape (10, 1000)\n"
          ]
        },
        {
          "name": "stderr",
          "output_type": "stream",
          "text": [
            "INFO:tensorflow:Loaded ./tcav/tcav_examples/discrete/kdd_sanity2\\activations\\acts_random500_1_dense shape (10, 1000)\n"
          ]
        },
        {
          "name": "stdout",
          "output_type": "stream",
          "text": [
            "INFO:tensorflow:Loaded ./tcav/tcav_examples/discrete/kdd_sanity2\\activations\\acts_normal._dense shape (200, 1000)\n"
          ]
        },
        {
          "name": "stderr",
          "output_type": "stream",
          "text": [
            "INFO:tensorflow:Loaded ./tcav/tcav_examples/discrete/kdd_sanity2\\activations\\acts_normal._dense shape (200, 1000)\n"
          ]
        },
        {
          "name": "stdout",
          "output_type": "stream",
          "text": [
            "INFO:tensorflow:CAV already exists: ./tcav/tcav_examples/discrete/kdd_sanity2\\cav\\random500_4-random500_1-dense-linear-0.01.pkl\n"
          ]
        },
        {
          "name": "stderr",
          "output_type": "stream",
          "text": [
            "INFO:tensorflow:CAV already exists: ./tcav/tcav_examples/discrete/kdd_sanity2\\cav\\random500_4-random500_1-dense-linear-0.01.pkl\n"
          ]
        },
        {
          "name": "stdout",
          "output_type": "stream",
          "text": [
            "INFO:tensorflow:CAV accuracies: {'random500_4': 1.0, 'random500_1': 0.75, 'overall': 0.8571428571428571}\n"
          ]
        },
        {
          "name": "stderr",
          "output_type": "stream",
          "text": [
            "INFO:tensorflow:CAV accuracies: {'random500_4': 1.0, 'random500_1': 0.75, 'overall': 0.8571428571428571}\n"
          ]
        },
        {
          "name": "stdout",
          "output_type": "stream",
          "text": [
            "INFO:tensorflow:Running param 58 of 220\n"
          ]
        },
        {
          "name": "stderr",
          "output_type": "stream",
          "text": [
            "INFO:tensorflow:Running param 58 of 220\n"
          ]
        },
        {
          "name": "stdout",
          "output_type": "stream",
          "text": [
            "INFO:tensorflow:running normal. ['random500_4', 'random500_2']\n"
          ]
        },
        {
          "name": "stderr",
          "output_type": "stream",
          "text": [
            "INFO:tensorflow:running normal. ['random500_4', 'random500_2']\n"
          ]
        },
        {
          "name": "stdout",
          "output_type": "stream",
          "text": [
            "INFO:tensorflow:Loaded ./tcav/tcav_examples/discrete/kdd_sanity2\\activations\\acts_random500_4_dense shape (10, 1000)\n"
          ]
        },
        {
          "name": "stderr",
          "output_type": "stream",
          "text": [
            "INFO:tensorflow:Loaded ./tcav/tcav_examples/discrete/kdd_sanity2\\activations\\acts_random500_4_dense shape (10, 1000)\n"
          ]
        },
        {
          "name": "stdout",
          "output_type": "stream",
          "text": [
            "INFO:tensorflow:Loaded ./tcav/tcav_examples/discrete/kdd_sanity2\\activations\\acts_random500_2_dense shape (10, 1000)\n"
          ]
        },
        {
          "name": "stderr",
          "output_type": "stream",
          "text": [
            "INFO:tensorflow:Loaded ./tcav/tcav_examples/discrete/kdd_sanity2\\activations\\acts_random500_2_dense shape (10, 1000)\n"
          ]
        },
        {
          "name": "stdout",
          "output_type": "stream",
          "text": [
            "INFO:tensorflow:Loaded ./tcav/tcav_examples/discrete/kdd_sanity2\\activations\\acts_normal._dense shape (200, 1000)\n"
          ]
        },
        {
          "name": "stderr",
          "output_type": "stream",
          "text": [
            "INFO:tensorflow:Loaded ./tcav/tcav_examples/discrete/kdd_sanity2\\activations\\acts_normal._dense shape (200, 1000)\n"
          ]
        },
        {
          "name": "stdout",
          "output_type": "stream",
          "text": [
            "INFO:tensorflow:CAV already exists: ./tcav/tcav_examples/discrete/kdd_sanity2\\cav\\random500_4-random500_2-dense-linear-0.01.pkl\n"
          ]
        },
        {
          "name": "stderr",
          "output_type": "stream",
          "text": [
            "INFO:tensorflow:CAV already exists: ./tcav/tcav_examples/discrete/kdd_sanity2\\cav\\random500_4-random500_2-dense-linear-0.01.pkl\n"
          ]
        },
        {
          "name": "stdout",
          "output_type": "stream",
          "text": [
            "INFO:tensorflow:CAV accuracies: {'random500_4': 0.25, 'random500_2': 1.0, 'overall': 0.5714285714285714}\n"
          ]
        },
        {
          "name": "stderr",
          "output_type": "stream",
          "text": [
            "INFO:tensorflow:CAV accuracies: {'random500_4': 0.25, 'random500_2': 1.0, 'overall': 0.5714285714285714}\n"
          ]
        },
        {
          "name": "stdout",
          "output_type": "stream",
          "text": [
            "INFO:tensorflow:Running param 59 of 220\n"
          ]
        },
        {
          "name": "stderr",
          "output_type": "stream",
          "text": [
            "INFO:tensorflow:Running param 59 of 220\n"
          ]
        },
        {
          "name": "stdout",
          "output_type": "stream",
          "text": [
            "INFO:tensorflow:running normal. ['random500_4', 'random500_3']\n"
          ]
        },
        {
          "name": "stderr",
          "output_type": "stream",
          "text": [
            "INFO:tensorflow:running normal. ['random500_4', 'random500_3']\n"
          ]
        },
        {
          "name": "stdout",
          "output_type": "stream",
          "text": [
            "INFO:tensorflow:Loaded ./tcav/tcav_examples/discrete/kdd_sanity2\\activations\\acts_random500_4_dense shape (10, 1000)\n"
          ]
        },
        {
          "name": "stderr",
          "output_type": "stream",
          "text": [
            "INFO:tensorflow:Loaded ./tcav/tcav_examples/discrete/kdd_sanity2\\activations\\acts_random500_4_dense shape (10, 1000)\n"
          ]
        },
        {
          "name": "stdout",
          "output_type": "stream",
          "text": [
            "INFO:tensorflow:Loaded ./tcav/tcav_examples/discrete/kdd_sanity2\\activations\\acts_random500_3_dense shape (10, 1000)\n"
          ]
        },
        {
          "name": "stderr",
          "output_type": "stream",
          "text": [
            "INFO:tensorflow:Loaded ./tcav/tcav_examples/discrete/kdd_sanity2\\activations\\acts_random500_3_dense shape (10, 1000)\n"
          ]
        },
        {
          "name": "stdout",
          "output_type": "stream",
          "text": [
            "INFO:tensorflow:Loaded ./tcav/tcav_examples/discrete/kdd_sanity2\\activations\\acts_normal._dense shape (200, 1000)\n"
          ]
        },
        {
          "name": "stderr",
          "output_type": "stream",
          "text": [
            "INFO:tensorflow:Loaded ./tcav/tcav_examples/discrete/kdd_sanity2\\activations\\acts_normal._dense shape (200, 1000)\n"
          ]
        },
        {
          "name": "stdout",
          "output_type": "stream",
          "text": [
            "INFO:tensorflow:CAV already exists: ./tcav/tcav_examples/discrete/kdd_sanity2\\cav\\random500_4-random500_3-dense-linear-0.01.pkl\n"
          ]
        },
        {
          "name": "stderr",
          "output_type": "stream",
          "text": [
            "INFO:tensorflow:CAV already exists: ./tcav/tcav_examples/discrete/kdd_sanity2\\cav\\random500_4-random500_3-dense-linear-0.01.pkl\n"
          ]
        },
        {
          "name": "stdout",
          "output_type": "stream",
          "text": [
            "INFO:tensorflow:CAV accuracies: {'random500_4': 0.3333333333333333, 'random500_3': 1.0, 'overall': 0.7142857142857143}\n"
          ]
        },
        {
          "name": "stderr",
          "output_type": "stream",
          "text": [
            "INFO:tensorflow:CAV accuracies: {'random500_4': 0.3333333333333333, 'random500_3': 1.0, 'overall': 0.7142857142857143}\n"
          ]
        },
        {
          "name": "stdout",
          "output_type": "stream",
          "text": [
            "INFO:tensorflow:Running param 60 of 220\n"
          ]
        },
        {
          "name": "stderr",
          "output_type": "stream",
          "text": [
            "INFO:tensorflow:Running param 60 of 220\n"
          ]
        },
        {
          "name": "stdout",
          "output_type": "stream",
          "text": [
            "INFO:tensorflow:running normal. ['random500_4', 'random500_5']\n"
          ]
        },
        {
          "name": "stderr",
          "output_type": "stream",
          "text": [
            "INFO:tensorflow:running normal. ['random500_4', 'random500_5']\n"
          ]
        },
        {
          "name": "stdout",
          "output_type": "stream",
          "text": [
            "INFO:tensorflow:Loaded ./tcav/tcav_examples/discrete/kdd_sanity2\\activations\\acts_random500_4_dense shape (10, 1000)\n"
          ]
        },
        {
          "name": "stderr",
          "output_type": "stream",
          "text": [
            "INFO:tensorflow:Loaded ./tcav/tcav_examples/discrete/kdd_sanity2\\activations\\acts_random500_4_dense shape (10, 1000)\n"
          ]
        },
        {
          "name": "stdout",
          "output_type": "stream",
          "text": [
            "INFO:tensorflow:Loaded ./tcav/tcav_examples/discrete/kdd_sanity2\\activations\\acts_random500_5_dense shape (10, 1000)\n"
          ]
        },
        {
          "name": "stderr",
          "output_type": "stream",
          "text": [
            "INFO:tensorflow:Loaded ./tcav/tcav_examples/discrete/kdd_sanity2\\activations\\acts_random500_5_dense shape (10, 1000)\n"
          ]
        },
        {
          "name": "stdout",
          "output_type": "stream",
          "text": [
            "INFO:tensorflow:Loaded ./tcav/tcav_examples/discrete/kdd_sanity2\\activations\\acts_normal._dense shape (200, 1000)\n"
          ]
        },
        {
          "name": "stderr",
          "output_type": "stream",
          "text": [
            "INFO:tensorflow:Loaded ./tcav/tcav_examples/discrete/kdd_sanity2\\activations\\acts_normal._dense shape (200, 1000)\n"
          ]
        },
        {
          "name": "stdout",
          "output_type": "stream",
          "text": [
            "INFO:tensorflow:CAV already exists: ./tcav/tcav_examples/discrete/kdd_sanity2\\cav\\random500_4-random500_5-dense-linear-0.01.pkl\n"
          ]
        },
        {
          "name": "stderr",
          "output_type": "stream",
          "text": [
            "INFO:tensorflow:CAV already exists: ./tcav/tcav_examples/discrete/kdd_sanity2\\cav\\random500_4-random500_5-dense-linear-0.01.pkl\n"
          ]
        },
        {
          "name": "stdout",
          "output_type": "stream",
          "text": [
            "INFO:tensorflow:CAV accuracies: {'random500_4': 0.0, 'random500_5': 0.25, 'overall': 0.14285714285714285}\n"
          ]
        },
        {
          "name": "stderr",
          "output_type": "stream",
          "text": [
            "INFO:tensorflow:CAV accuracies: {'random500_4': 0.0, 'random500_5': 0.25, 'overall': 0.14285714285714285}\n"
          ]
        },
        {
          "name": "stdout",
          "output_type": "stream",
          "text": [
            "INFO:tensorflow:Running param 61 of 220\n"
          ]
        },
        {
          "name": "stderr",
          "output_type": "stream",
          "text": [
            "INFO:tensorflow:Running param 61 of 220\n"
          ]
        },
        {
          "name": "stdout",
          "output_type": "stream",
          "text": [
            "INFO:tensorflow:running normal. ['random500_4', 'random500_6']\n"
          ]
        },
        {
          "name": "stderr",
          "output_type": "stream",
          "text": [
            "INFO:tensorflow:running normal. ['random500_4', 'random500_6']\n"
          ]
        },
        {
          "name": "stdout",
          "output_type": "stream",
          "text": [
            "INFO:tensorflow:Loaded ./tcav/tcav_examples/discrete/kdd_sanity2\\activations\\acts_random500_4_dense shape (10, 1000)\n"
          ]
        },
        {
          "name": "stderr",
          "output_type": "stream",
          "text": [
            "INFO:tensorflow:Loaded ./tcav/tcav_examples/discrete/kdd_sanity2\\activations\\acts_random500_4_dense shape (10, 1000)\n"
          ]
        },
        {
          "name": "stdout",
          "output_type": "stream",
          "text": [
            "INFO:tensorflow:Loaded ./tcav/tcav_examples/discrete/kdd_sanity2\\activations\\acts_random500_6_dense shape (10, 1000)\n"
          ]
        },
        {
          "name": "stderr",
          "output_type": "stream",
          "text": [
            "INFO:tensorflow:Loaded ./tcav/tcav_examples/discrete/kdd_sanity2\\activations\\acts_random500_6_dense shape (10, 1000)\n"
          ]
        },
        {
          "name": "stdout",
          "output_type": "stream",
          "text": [
            "INFO:tensorflow:Loaded ./tcav/tcav_examples/discrete/kdd_sanity2\\activations\\acts_normal._dense shape (200, 1000)\n"
          ]
        },
        {
          "name": "stderr",
          "output_type": "stream",
          "text": [
            "INFO:tensorflow:Loaded ./tcav/tcav_examples/discrete/kdd_sanity2\\activations\\acts_normal._dense shape (200, 1000)\n"
          ]
        },
        {
          "name": "stdout",
          "output_type": "stream",
          "text": [
            "INFO:tensorflow:CAV already exists: ./tcav/tcav_examples/discrete/kdd_sanity2\\cav\\random500_4-random500_6-dense-linear-0.01.pkl\n"
          ]
        },
        {
          "name": "stderr",
          "output_type": "stream",
          "text": [
            "INFO:tensorflow:CAV already exists: ./tcav/tcav_examples/discrete/kdd_sanity2\\cav\\random500_4-random500_6-dense-linear-0.01.pkl\n"
          ]
        },
        {
          "name": "stdout",
          "output_type": "stream",
          "text": [
            "INFO:tensorflow:CAV accuracies: {'random500_4': 0.25, 'random500_6': 1.0, 'overall': 0.5714285714285714}\n"
          ]
        },
        {
          "name": "stderr",
          "output_type": "stream",
          "text": [
            "INFO:tensorflow:CAV accuracies: {'random500_4': 0.25, 'random500_6': 1.0, 'overall': 0.5714285714285714}\n"
          ]
        },
        {
          "name": "stdout",
          "output_type": "stream",
          "text": [
            "INFO:tensorflow:Running param 62 of 220\n"
          ]
        },
        {
          "name": "stderr",
          "output_type": "stream",
          "text": [
            "INFO:tensorflow:Running param 62 of 220\n"
          ]
        },
        {
          "name": "stdout",
          "output_type": "stream",
          "text": [
            "INFO:tensorflow:running normal. ['random500_4', 'random500_7']\n"
          ]
        },
        {
          "name": "stderr",
          "output_type": "stream",
          "text": [
            "INFO:tensorflow:running normal. ['random500_4', 'random500_7']\n"
          ]
        },
        {
          "name": "stdout",
          "output_type": "stream",
          "text": [
            "INFO:tensorflow:Loaded ./tcav/tcav_examples/discrete/kdd_sanity2\\activations\\acts_random500_4_dense shape (10, 1000)\n"
          ]
        },
        {
          "name": "stderr",
          "output_type": "stream",
          "text": [
            "INFO:tensorflow:Loaded ./tcav/tcav_examples/discrete/kdd_sanity2\\activations\\acts_random500_4_dense shape (10, 1000)\n"
          ]
        },
        {
          "name": "stdout",
          "output_type": "stream",
          "text": [
            "INFO:tensorflow:Loaded ./tcav/tcav_examples/discrete/kdd_sanity2\\activations\\acts_random500_7_dense shape (10, 1000)\n"
          ]
        },
        {
          "name": "stderr",
          "output_type": "stream",
          "text": [
            "INFO:tensorflow:Loaded ./tcav/tcav_examples/discrete/kdd_sanity2\\activations\\acts_random500_7_dense shape (10, 1000)\n"
          ]
        },
        {
          "name": "stdout",
          "output_type": "stream",
          "text": [
            "INFO:tensorflow:Loaded ./tcav/tcav_examples/discrete/kdd_sanity2\\activations\\acts_normal._dense shape (200, 1000)\n"
          ]
        },
        {
          "name": "stderr",
          "output_type": "stream",
          "text": [
            "INFO:tensorflow:Loaded ./tcav/tcav_examples/discrete/kdd_sanity2\\activations\\acts_normal._dense shape (200, 1000)\n"
          ]
        },
        {
          "name": "stdout",
          "output_type": "stream",
          "text": [
            "INFO:tensorflow:CAV already exists: ./tcav/tcav_examples/discrete/kdd_sanity2\\cav\\random500_4-random500_7-dense-linear-0.01.pkl\n"
          ]
        },
        {
          "name": "stderr",
          "output_type": "stream",
          "text": [
            "INFO:tensorflow:CAV already exists: ./tcav/tcav_examples/discrete/kdd_sanity2\\cav\\random500_4-random500_7-dense-linear-0.01.pkl\n"
          ]
        },
        {
          "name": "stdout",
          "output_type": "stream",
          "text": [
            "INFO:tensorflow:CAV accuracies: {'random500_4': 1.0, 'random500_7': 0.5, 'overall': 0.7142857142857143}\n"
          ]
        },
        {
          "name": "stderr",
          "output_type": "stream",
          "text": [
            "INFO:tensorflow:CAV accuracies: {'random500_4': 1.0, 'random500_7': 0.5, 'overall': 0.7142857142857143}\n"
          ]
        },
        {
          "name": "stdout",
          "output_type": "stream",
          "text": [
            "INFO:tensorflow:Running param 63 of 220\n"
          ]
        },
        {
          "name": "stderr",
          "output_type": "stream",
          "text": [
            "INFO:tensorflow:Running param 63 of 220\n"
          ]
        },
        {
          "name": "stdout",
          "output_type": "stream",
          "text": [
            "INFO:tensorflow:running normal. ['random500_4', 'random500_8']\n"
          ]
        },
        {
          "name": "stderr",
          "output_type": "stream",
          "text": [
            "INFO:tensorflow:running normal. ['random500_4', 'random500_8']\n"
          ]
        },
        {
          "name": "stdout",
          "output_type": "stream",
          "text": [
            "INFO:tensorflow:Loaded ./tcav/tcav_examples/discrete/kdd_sanity2\\activations\\acts_random500_4_dense shape (10, 1000)\n"
          ]
        },
        {
          "name": "stderr",
          "output_type": "stream",
          "text": [
            "INFO:tensorflow:Loaded ./tcav/tcav_examples/discrete/kdd_sanity2\\activations\\acts_random500_4_dense shape (10, 1000)\n"
          ]
        },
        {
          "name": "stdout",
          "output_type": "stream",
          "text": [
            "INFO:tensorflow:Loaded ./tcav/tcav_examples/discrete/kdd_sanity2\\activations\\acts_random500_8_dense shape (10, 1000)\n"
          ]
        },
        {
          "name": "stderr",
          "output_type": "stream",
          "text": [
            "INFO:tensorflow:Loaded ./tcav/tcav_examples/discrete/kdd_sanity2\\activations\\acts_random500_8_dense shape (10, 1000)\n"
          ]
        },
        {
          "name": "stdout",
          "output_type": "stream",
          "text": [
            "INFO:tensorflow:Loaded ./tcav/tcav_examples/discrete/kdd_sanity2\\activations\\acts_normal._dense shape (200, 1000)\n"
          ]
        },
        {
          "name": "stderr",
          "output_type": "stream",
          "text": [
            "INFO:tensorflow:Loaded ./tcav/tcav_examples/discrete/kdd_sanity2\\activations\\acts_normal._dense shape (200, 1000)\n"
          ]
        },
        {
          "name": "stdout",
          "output_type": "stream",
          "text": [
            "INFO:tensorflow:CAV already exists: ./tcav/tcav_examples/discrete/kdd_sanity2\\cav\\random500_4-random500_8-dense-linear-0.01.pkl\n"
          ]
        },
        {
          "name": "stderr",
          "output_type": "stream",
          "text": [
            "INFO:tensorflow:CAV already exists: ./tcav/tcav_examples/discrete/kdd_sanity2\\cav\\random500_4-random500_8-dense-linear-0.01.pkl\n"
          ]
        },
        {
          "name": "stdout",
          "output_type": "stream",
          "text": [
            "INFO:tensorflow:CAV accuracies: {'random500_4': 1.0, 'random500_8': 0.75, 'overall': 0.8571428571428571}\n"
          ]
        },
        {
          "name": "stderr",
          "output_type": "stream",
          "text": [
            "INFO:tensorflow:CAV accuracies: {'random500_4': 1.0, 'random500_8': 0.75, 'overall': 0.8571428571428571}\n"
          ]
        },
        {
          "name": "stdout",
          "output_type": "stream",
          "text": [
            "INFO:tensorflow:Running param 64 of 220\n"
          ]
        },
        {
          "name": "stderr",
          "output_type": "stream",
          "text": [
            "INFO:tensorflow:Running param 64 of 220\n"
          ]
        },
        {
          "name": "stdout",
          "output_type": "stream",
          "text": [
            "INFO:tensorflow:running normal. ['random500_4', 'random500_9']\n"
          ]
        },
        {
          "name": "stderr",
          "output_type": "stream",
          "text": [
            "INFO:tensorflow:running normal. ['random500_4', 'random500_9']\n"
          ]
        },
        {
          "name": "stdout",
          "output_type": "stream",
          "text": [
            "INFO:tensorflow:Loaded ./tcav/tcav_examples/discrete/kdd_sanity2\\activations\\acts_random500_4_dense shape (10, 1000)\n"
          ]
        },
        {
          "name": "stderr",
          "output_type": "stream",
          "text": [
            "INFO:tensorflow:Loaded ./tcav/tcav_examples/discrete/kdd_sanity2\\activations\\acts_random500_4_dense shape (10, 1000)\n"
          ]
        },
        {
          "name": "stdout",
          "output_type": "stream",
          "text": [
            "INFO:tensorflow:Loaded ./tcav/tcav_examples/discrete/kdd_sanity2\\activations\\acts_random500_9_dense shape (10, 1000)\n"
          ]
        },
        {
          "name": "stderr",
          "output_type": "stream",
          "text": [
            "INFO:tensorflow:Loaded ./tcav/tcav_examples/discrete/kdd_sanity2\\activations\\acts_random500_9_dense shape (10, 1000)\n"
          ]
        },
        {
          "name": "stdout",
          "output_type": "stream",
          "text": [
            "INFO:tensorflow:Loaded ./tcav/tcav_examples/discrete/kdd_sanity2\\activations\\acts_normal._dense shape (200, 1000)\n"
          ]
        },
        {
          "name": "stderr",
          "output_type": "stream",
          "text": [
            "INFO:tensorflow:Loaded ./tcav/tcav_examples/discrete/kdd_sanity2\\activations\\acts_normal._dense shape (200, 1000)\n"
          ]
        },
        {
          "name": "stdout",
          "output_type": "stream",
          "text": [
            "INFO:tensorflow:CAV already exists: ./tcav/tcav_examples/discrete/kdd_sanity2\\cav\\random500_4-random500_9-dense-linear-0.01.pkl\n"
          ]
        },
        {
          "name": "stderr",
          "output_type": "stream",
          "text": [
            "INFO:tensorflow:CAV already exists: ./tcav/tcav_examples/discrete/kdd_sanity2\\cav\\random500_4-random500_9-dense-linear-0.01.pkl\n"
          ]
        },
        {
          "name": "stdout",
          "output_type": "stream",
          "text": [
            "INFO:tensorflow:CAV accuracies: {'random500_4': 0.6666666666666666, 'random500_9': 1.0, 'overall': 0.8571428571428571}\n"
          ]
        },
        {
          "name": "stderr",
          "output_type": "stream",
          "text": [
            "INFO:tensorflow:CAV accuracies: {'random500_4': 0.6666666666666666, 'random500_9': 1.0, 'overall': 0.8571428571428571}\n"
          ]
        },
        {
          "name": "stdout",
          "output_type": "stream",
          "text": [
            "INFO:tensorflow:Running param 65 of 220\n"
          ]
        },
        {
          "name": "stderr",
          "output_type": "stream",
          "text": [
            "INFO:tensorflow:Running param 65 of 220\n"
          ]
        },
        {
          "name": "stdout",
          "output_type": "stream",
          "text": [
            "INFO:tensorflow:running normal. ['random500_5', 'random500_0']\n"
          ]
        },
        {
          "name": "stderr",
          "output_type": "stream",
          "text": [
            "INFO:tensorflow:running normal. ['random500_5', 'random500_0']\n"
          ]
        },
        {
          "name": "stdout",
          "output_type": "stream",
          "text": [
            "INFO:tensorflow:Loaded ./tcav/tcav_examples/discrete/kdd_sanity2\\activations\\acts_random500_5_dense shape (10, 1000)\n"
          ]
        },
        {
          "name": "stderr",
          "output_type": "stream",
          "text": [
            "INFO:tensorflow:Loaded ./tcav/tcav_examples/discrete/kdd_sanity2\\activations\\acts_random500_5_dense shape (10, 1000)\n"
          ]
        },
        {
          "name": "stdout",
          "output_type": "stream",
          "text": [
            "INFO:tensorflow:Loaded ./tcav/tcav_examples/discrete/kdd_sanity2\\activations\\acts_random500_0_dense shape (10, 1000)\n"
          ]
        },
        {
          "name": "stderr",
          "output_type": "stream",
          "text": [
            "INFO:tensorflow:Loaded ./tcav/tcav_examples/discrete/kdd_sanity2\\activations\\acts_random500_0_dense shape (10, 1000)\n"
          ]
        },
        {
          "name": "stdout",
          "output_type": "stream",
          "text": [
            "INFO:tensorflow:Loaded ./tcav/tcav_examples/discrete/kdd_sanity2\\activations\\acts_normal._dense shape (200, 1000)\n"
          ]
        },
        {
          "name": "stderr",
          "output_type": "stream",
          "text": [
            "INFO:tensorflow:Loaded ./tcav/tcav_examples/discrete/kdd_sanity2\\activations\\acts_normal._dense shape (200, 1000)\n"
          ]
        },
        {
          "name": "stdout",
          "output_type": "stream",
          "text": [
            "INFO:tensorflow:CAV already exists: ./tcav/tcav_examples/discrete/kdd_sanity2\\cav\\random500_5-random500_0-dense-linear-0.01.pkl\n"
          ]
        },
        {
          "name": "stderr",
          "output_type": "stream",
          "text": [
            "INFO:tensorflow:CAV already exists: ./tcav/tcav_examples/discrete/kdd_sanity2\\cav\\random500_5-random500_0-dense-linear-0.01.pkl\n"
          ]
        },
        {
          "name": "stdout",
          "output_type": "stream",
          "text": [
            "INFO:tensorflow:CAV accuracies: {'random500_5': 0.0, 'random500_0': 1.0, 'overall': 0.42857142857142855}\n"
          ]
        },
        {
          "name": "stderr",
          "output_type": "stream",
          "text": [
            "INFO:tensorflow:CAV accuracies: {'random500_5': 0.0, 'random500_0': 1.0, 'overall': 0.42857142857142855}\n"
          ]
        },
        {
          "name": "stdout",
          "output_type": "stream",
          "text": [
            "INFO:tensorflow:Running param 66 of 220\n"
          ]
        },
        {
          "name": "stderr",
          "output_type": "stream",
          "text": [
            "INFO:tensorflow:Running param 66 of 220\n"
          ]
        },
        {
          "name": "stdout",
          "output_type": "stream",
          "text": [
            "INFO:tensorflow:running normal. ['random500_5', 'random500_1']\n"
          ]
        },
        {
          "name": "stderr",
          "output_type": "stream",
          "text": [
            "INFO:tensorflow:running normal. ['random500_5', 'random500_1']\n"
          ]
        },
        {
          "name": "stdout",
          "output_type": "stream",
          "text": [
            "INFO:tensorflow:Loaded ./tcav/tcav_examples/discrete/kdd_sanity2\\activations\\acts_random500_5_dense shape (10, 1000)\n"
          ]
        },
        {
          "name": "stderr",
          "output_type": "stream",
          "text": [
            "INFO:tensorflow:Loaded ./tcav/tcav_examples/discrete/kdd_sanity2\\activations\\acts_random500_5_dense shape (10, 1000)\n"
          ]
        },
        {
          "name": "stdout",
          "output_type": "stream",
          "text": [
            "INFO:tensorflow:Loaded ./tcav/tcav_examples/discrete/kdd_sanity2\\activations\\acts_random500_1_dense shape (10, 1000)\n"
          ]
        },
        {
          "name": "stderr",
          "output_type": "stream",
          "text": [
            "INFO:tensorflow:Loaded ./tcav/tcav_examples/discrete/kdd_sanity2\\activations\\acts_random500_1_dense shape (10, 1000)\n"
          ]
        },
        {
          "name": "stdout",
          "output_type": "stream",
          "text": [
            "INFO:tensorflow:Loaded ./tcav/tcav_examples/discrete/kdd_sanity2\\activations\\acts_normal._dense shape (200, 1000)\n"
          ]
        },
        {
          "name": "stderr",
          "output_type": "stream",
          "text": [
            "INFO:tensorflow:Loaded ./tcav/tcav_examples/discrete/kdd_sanity2\\activations\\acts_normal._dense shape (200, 1000)\n"
          ]
        },
        {
          "name": "stdout",
          "output_type": "stream",
          "text": [
            "INFO:tensorflow:CAV already exists: ./tcav/tcav_examples/discrete/kdd_sanity2\\cav\\random500_5-random500_1-dense-linear-0.01.pkl\n"
          ]
        },
        {
          "name": "stderr",
          "output_type": "stream",
          "text": [
            "INFO:tensorflow:CAV already exists: ./tcav/tcav_examples/discrete/kdd_sanity2\\cav\\random500_5-random500_1-dense-linear-0.01.pkl\n"
          ]
        },
        {
          "name": "stdout",
          "output_type": "stream",
          "text": [
            "INFO:tensorflow:CAV accuracies: {'random500_5': 0.75, 'random500_1': 0.6666666666666666, 'overall': 0.7142857142857143}\n"
          ]
        },
        {
          "name": "stderr",
          "output_type": "stream",
          "text": [
            "INFO:tensorflow:CAV accuracies: {'random500_5': 0.75, 'random500_1': 0.6666666666666666, 'overall': 0.7142857142857143}\n"
          ]
        },
        {
          "name": "stdout",
          "output_type": "stream",
          "text": [
            "INFO:tensorflow:Running param 67 of 220\n"
          ]
        },
        {
          "name": "stderr",
          "output_type": "stream",
          "text": [
            "INFO:tensorflow:Running param 67 of 220\n"
          ]
        },
        {
          "name": "stdout",
          "output_type": "stream",
          "text": [
            "INFO:tensorflow:running normal. ['random500_5', 'random500_2']\n"
          ]
        },
        {
          "name": "stderr",
          "output_type": "stream",
          "text": [
            "INFO:tensorflow:running normal. ['random500_5', 'random500_2']\n"
          ]
        },
        {
          "name": "stdout",
          "output_type": "stream",
          "text": [
            "INFO:tensorflow:Loaded ./tcav/tcav_examples/discrete/kdd_sanity2\\activations\\acts_random500_5_dense shape (10, 1000)\n"
          ]
        },
        {
          "name": "stderr",
          "output_type": "stream",
          "text": [
            "INFO:tensorflow:Loaded ./tcav/tcav_examples/discrete/kdd_sanity2\\activations\\acts_random500_5_dense shape (10, 1000)\n"
          ]
        },
        {
          "name": "stdout",
          "output_type": "stream",
          "text": [
            "INFO:tensorflow:Loaded ./tcav/tcav_examples/discrete/kdd_sanity2\\activations\\acts_random500_2_dense shape (10, 1000)\n"
          ]
        },
        {
          "name": "stderr",
          "output_type": "stream",
          "text": [
            "INFO:tensorflow:Loaded ./tcav/tcav_examples/discrete/kdd_sanity2\\activations\\acts_random500_2_dense shape (10, 1000)\n"
          ]
        },
        {
          "name": "stdout",
          "output_type": "stream",
          "text": [
            "INFO:tensorflow:Loaded ./tcav/tcav_examples/discrete/kdd_sanity2\\activations\\acts_normal._dense shape (200, 1000)\n"
          ]
        },
        {
          "name": "stderr",
          "output_type": "stream",
          "text": [
            "INFO:tensorflow:Loaded ./tcav/tcav_examples/discrete/kdd_sanity2\\activations\\acts_normal._dense shape (200, 1000)\n"
          ]
        },
        {
          "name": "stdout",
          "output_type": "stream",
          "text": [
            "INFO:tensorflow:CAV already exists: ./tcav/tcav_examples/discrete/kdd_sanity2\\cav\\random500_5-random500_2-dense-linear-0.01.pkl\n"
          ]
        },
        {
          "name": "stderr",
          "output_type": "stream",
          "text": [
            "INFO:tensorflow:CAV already exists: ./tcav/tcav_examples/discrete/kdd_sanity2\\cav\\random500_5-random500_2-dense-linear-0.01.pkl\n"
          ]
        },
        {
          "name": "stdout",
          "output_type": "stream",
          "text": [
            "INFO:tensorflow:CAV accuracies: {'random500_5': 1.0, 'random500_2': 0.25, 'overall': 0.5714285714285714}\n"
          ]
        },
        {
          "name": "stderr",
          "output_type": "stream",
          "text": [
            "INFO:tensorflow:CAV accuracies: {'random500_5': 1.0, 'random500_2': 0.25, 'overall': 0.5714285714285714}\n"
          ]
        },
        {
          "name": "stdout",
          "output_type": "stream",
          "text": [
            "INFO:tensorflow:Running param 68 of 220\n"
          ]
        },
        {
          "name": "stderr",
          "output_type": "stream",
          "text": [
            "INFO:tensorflow:Running param 68 of 220\n"
          ]
        },
        {
          "name": "stdout",
          "output_type": "stream",
          "text": [
            "INFO:tensorflow:running normal. ['random500_5', 'random500_3']\n"
          ]
        },
        {
          "name": "stderr",
          "output_type": "stream",
          "text": [
            "INFO:tensorflow:running normal. ['random500_5', 'random500_3']\n"
          ]
        },
        {
          "name": "stdout",
          "output_type": "stream",
          "text": [
            "INFO:tensorflow:Loaded ./tcav/tcav_examples/discrete/kdd_sanity2\\activations\\acts_random500_5_dense shape (10, 1000)\n"
          ]
        },
        {
          "name": "stderr",
          "output_type": "stream",
          "text": [
            "INFO:tensorflow:Loaded ./tcav/tcav_examples/discrete/kdd_sanity2\\activations\\acts_random500_5_dense shape (10, 1000)\n"
          ]
        },
        {
          "name": "stdout",
          "output_type": "stream",
          "text": [
            "INFO:tensorflow:Loaded ./tcav/tcav_examples/discrete/kdd_sanity2\\activations\\acts_random500_3_dense shape (10, 1000)\n"
          ]
        },
        {
          "name": "stderr",
          "output_type": "stream",
          "text": [
            "INFO:tensorflow:Loaded ./tcav/tcav_examples/discrete/kdd_sanity2\\activations\\acts_random500_3_dense shape (10, 1000)\n"
          ]
        },
        {
          "name": "stdout",
          "output_type": "stream",
          "text": [
            "INFO:tensorflow:Loaded ./tcav/tcav_examples/discrete/kdd_sanity2\\activations\\acts_normal._dense shape (200, 1000)\n"
          ]
        },
        {
          "name": "stderr",
          "output_type": "stream",
          "text": [
            "INFO:tensorflow:Loaded ./tcav/tcav_examples/discrete/kdd_sanity2\\activations\\acts_normal._dense shape (200, 1000)\n"
          ]
        },
        {
          "name": "stdout",
          "output_type": "stream",
          "text": [
            "INFO:tensorflow:CAV already exists: ./tcav/tcav_examples/discrete/kdd_sanity2\\cav\\random500_5-random500_3-dense-linear-0.01.pkl\n"
          ]
        },
        {
          "name": "stderr",
          "output_type": "stream",
          "text": [
            "INFO:tensorflow:CAV already exists: ./tcav/tcav_examples/discrete/kdd_sanity2\\cav\\random500_5-random500_3-dense-linear-0.01.pkl\n"
          ]
        },
        {
          "name": "stdout",
          "output_type": "stream",
          "text": [
            "INFO:tensorflow:CAV accuracies: {'random500_5': 0.0, 'random500_3': 0.5, 'overall': 0.2857142857142857}\n"
          ]
        },
        {
          "name": "stderr",
          "output_type": "stream",
          "text": [
            "INFO:tensorflow:CAV accuracies: {'random500_5': 0.0, 'random500_3': 0.5, 'overall': 0.2857142857142857}\n"
          ]
        },
        {
          "name": "stdout",
          "output_type": "stream",
          "text": [
            "INFO:tensorflow:Running param 69 of 220\n"
          ]
        },
        {
          "name": "stderr",
          "output_type": "stream",
          "text": [
            "INFO:tensorflow:Running param 69 of 220\n"
          ]
        },
        {
          "name": "stdout",
          "output_type": "stream",
          "text": [
            "INFO:tensorflow:running normal. ['random500_5', 'random500_4']\n"
          ]
        },
        {
          "name": "stderr",
          "output_type": "stream",
          "text": [
            "INFO:tensorflow:running normal. ['random500_5', 'random500_4']\n"
          ]
        },
        {
          "name": "stdout",
          "output_type": "stream",
          "text": [
            "INFO:tensorflow:Loaded ./tcav/tcav_examples/discrete/kdd_sanity2\\activations\\acts_random500_5_dense shape (10, 1000)\n"
          ]
        },
        {
          "name": "stderr",
          "output_type": "stream",
          "text": [
            "INFO:tensorflow:Loaded ./tcav/tcav_examples/discrete/kdd_sanity2\\activations\\acts_random500_5_dense shape (10, 1000)\n"
          ]
        },
        {
          "name": "stdout",
          "output_type": "stream",
          "text": [
            "INFO:tensorflow:Loaded ./tcav/tcav_examples/discrete/kdd_sanity2\\activations\\acts_random500_4_dense shape (10, 1000)\n"
          ]
        },
        {
          "name": "stderr",
          "output_type": "stream",
          "text": [
            "INFO:tensorflow:Loaded ./tcav/tcav_examples/discrete/kdd_sanity2\\activations\\acts_random500_4_dense shape (10, 1000)\n"
          ]
        },
        {
          "name": "stdout",
          "output_type": "stream",
          "text": [
            "INFO:tensorflow:Loaded ./tcav/tcav_examples/discrete/kdd_sanity2\\activations\\acts_normal._dense shape (200, 1000)\n"
          ]
        },
        {
          "name": "stderr",
          "output_type": "stream",
          "text": [
            "INFO:tensorflow:Loaded ./tcav/tcav_examples/discrete/kdd_sanity2\\activations\\acts_normal._dense shape (200, 1000)\n"
          ]
        },
        {
          "name": "stdout",
          "output_type": "stream",
          "text": [
            "INFO:tensorflow:CAV already exists: ./tcav/tcav_examples/discrete/kdd_sanity2\\cav\\random500_5-random500_4-dense-linear-0.01.pkl\n"
          ]
        },
        {
          "name": "stderr",
          "output_type": "stream",
          "text": [
            "INFO:tensorflow:CAV already exists: ./tcav/tcav_examples/discrete/kdd_sanity2\\cav\\random500_5-random500_4-dense-linear-0.01.pkl\n"
          ]
        },
        {
          "name": "stdout",
          "output_type": "stream",
          "text": [
            "INFO:tensorflow:CAV accuracies: {'random500_5': 0.3333333333333333, 'random500_4': 0.5, 'overall': 0.42857142857142855}\n"
          ]
        },
        {
          "name": "stderr",
          "output_type": "stream",
          "text": [
            "INFO:tensorflow:CAV accuracies: {'random500_5': 0.3333333333333333, 'random500_4': 0.5, 'overall': 0.42857142857142855}\n"
          ]
        },
        {
          "name": "stdout",
          "output_type": "stream",
          "text": [
            "INFO:tensorflow:Running param 70 of 220\n"
          ]
        },
        {
          "name": "stderr",
          "output_type": "stream",
          "text": [
            "INFO:tensorflow:Running param 70 of 220\n"
          ]
        },
        {
          "name": "stdout",
          "output_type": "stream",
          "text": [
            "INFO:tensorflow:running normal. ['random500_5', 'random500_6']\n"
          ]
        },
        {
          "name": "stderr",
          "output_type": "stream",
          "text": [
            "INFO:tensorflow:running normal. ['random500_5', 'random500_6']\n"
          ]
        },
        {
          "name": "stdout",
          "output_type": "stream",
          "text": [
            "INFO:tensorflow:Loaded ./tcav/tcav_examples/discrete/kdd_sanity2\\activations\\acts_random500_5_dense shape (10, 1000)\n"
          ]
        },
        {
          "name": "stderr",
          "output_type": "stream",
          "text": [
            "INFO:tensorflow:Loaded ./tcav/tcav_examples/discrete/kdd_sanity2\\activations\\acts_random500_5_dense shape (10, 1000)\n"
          ]
        },
        {
          "name": "stdout",
          "output_type": "stream",
          "text": [
            "INFO:tensorflow:Loaded ./tcav/tcav_examples/discrete/kdd_sanity2\\activations\\acts_random500_6_dense shape (10, 1000)\n"
          ]
        },
        {
          "name": "stderr",
          "output_type": "stream",
          "text": [
            "INFO:tensorflow:Loaded ./tcav/tcav_examples/discrete/kdd_sanity2\\activations\\acts_random500_6_dense shape (10, 1000)\n"
          ]
        },
        {
          "name": "stdout",
          "output_type": "stream",
          "text": [
            "INFO:tensorflow:Loaded ./tcav/tcav_examples/discrete/kdd_sanity2\\activations\\acts_normal._dense shape (200, 1000)\n"
          ]
        },
        {
          "name": "stderr",
          "output_type": "stream",
          "text": [
            "INFO:tensorflow:Loaded ./tcav/tcav_examples/discrete/kdd_sanity2\\activations\\acts_normal._dense shape (200, 1000)\n"
          ]
        },
        {
          "name": "stdout",
          "output_type": "stream",
          "text": [
            "INFO:tensorflow:CAV already exists: ./tcav/tcav_examples/discrete/kdd_sanity2\\cav\\random500_5-random500_6-dense-linear-0.01.pkl\n"
          ]
        },
        {
          "name": "stderr",
          "output_type": "stream",
          "text": [
            "INFO:tensorflow:CAV already exists: ./tcav/tcav_examples/discrete/kdd_sanity2\\cav\\random500_5-random500_6-dense-linear-0.01.pkl\n"
          ]
        },
        {
          "name": "stdout",
          "output_type": "stream",
          "text": [
            "INFO:tensorflow:CAV accuracies: {'random500_5': 0.0, 'random500_6': 0.75, 'overall': 0.42857142857142855}\n"
          ]
        },
        {
          "name": "stderr",
          "output_type": "stream",
          "text": [
            "INFO:tensorflow:CAV accuracies: {'random500_5': 0.0, 'random500_6': 0.75, 'overall': 0.42857142857142855}\n"
          ]
        },
        {
          "name": "stdout",
          "output_type": "stream",
          "text": [
            "INFO:tensorflow:Running param 71 of 220\n"
          ]
        },
        {
          "name": "stderr",
          "output_type": "stream",
          "text": [
            "INFO:tensorflow:Running param 71 of 220\n"
          ]
        },
        {
          "name": "stdout",
          "output_type": "stream",
          "text": [
            "INFO:tensorflow:running normal. ['random500_5', 'random500_7']\n"
          ]
        },
        {
          "name": "stderr",
          "output_type": "stream",
          "text": [
            "INFO:tensorflow:running normal. ['random500_5', 'random500_7']\n"
          ]
        },
        {
          "name": "stdout",
          "output_type": "stream",
          "text": [
            "INFO:tensorflow:Loaded ./tcav/tcav_examples/discrete/kdd_sanity2\\activations\\acts_random500_5_dense shape (10, 1000)\n"
          ]
        },
        {
          "name": "stderr",
          "output_type": "stream",
          "text": [
            "INFO:tensorflow:Loaded ./tcav/tcav_examples/discrete/kdd_sanity2\\activations\\acts_random500_5_dense shape (10, 1000)\n"
          ]
        },
        {
          "name": "stdout",
          "output_type": "stream",
          "text": [
            "INFO:tensorflow:Loaded ./tcav/tcav_examples/discrete/kdd_sanity2\\activations\\acts_random500_7_dense shape (10, 1000)\n"
          ]
        },
        {
          "name": "stderr",
          "output_type": "stream",
          "text": [
            "INFO:tensorflow:Loaded ./tcav/tcav_examples/discrete/kdd_sanity2\\activations\\acts_random500_7_dense shape (10, 1000)\n"
          ]
        },
        {
          "name": "stdout",
          "output_type": "stream",
          "text": [
            "INFO:tensorflow:Loaded ./tcav/tcav_examples/discrete/kdd_sanity2\\activations\\acts_normal._dense shape (200, 1000)\n"
          ]
        },
        {
          "name": "stderr",
          "output_type": "stream",
          "text": [
            "INFO:tensorflow:Loaded ./tcav/tcav_examples/discrete/kdd_sanity2\\activations\\acts_normal._dense shape (200, 1000)\n"
          ]
        },
        {
          "name": "stdout",
          "output_type": "stream",
          "text": [
            "INFO:tensorflow:CAV already exists: ./tcav/tcav_examples/discrete/kdd_sanity2\\cav\\random500_5-random500_7-dense-linear-0.01.pkl\n"
          ]
        },
        {
          "name": "stderr",
          "output_type": "stream",
          "text": [
            "INFO:tensorflow:CAV already exists: ./tcav/tcav_examples/discrete/kdd_sanity2\\cav\\random500_5-random500_7-dense-linear-0.01.pkl\n"
          ]
        },
        {
          "name": "stdout",
          "output_type": "stream",
          "text": [
            "INFO:tensorflow:CAV accuracies: {'random500_5': 1.0, 'random500_7': 0.0, 'overall': 0.42857142857142855}\n"
          ]
        },
        {
          "name": "stderr",
          "output_type": "stream",
          "text": [
            "INFO:tensorflow:CAV accuracies: {'random500_5': 1.0, 'random500_7': 0.0, 'overall': 0.42857142857142855}\n"
          ]
        },
        {
          "name": "stdout",
          "output_type": "stream",
          "text": [
            "INFO:tensorflow:Running param 72 of 220\n"
          ]
        },
        {
          "name": "stderr",
          "output_type": "stream",
          "text": [
            "INFO:tensorflow:Running param 72 of 220\n"
          ]
        },
        {
          "name": "stdout",
          "output_type": "stream",
          "text": [
            "INFO:tensorflow:running normal. ['random500_5', 'random500_8']\n"
          ]
        },
        {
          "name": "stderr",
          "output_type": "stream",
          "text": [
            "INFO:tensorflow:running normal. ['random500_5', 'random500_8']\n"
          ]
        },
        {
          "name": "stdout",
          "output_type": "stream",
          "text": [
            "INFO:tensorflow:Loaded ./tcav/tcav_examples/discrete/kdd_sanity2\\activations\\acts_random500_5_dense shape (10, 1000)\n"
          ]
        },
        {
          "name": "stderr",
          "output_type": "stream",
          "text": [
            "INFO:tensorflow:Loaded ./tcav/tcav_examples/discrete/kdd_sanity2\\activations\\acts_random500_5_dense shape (10, 1000)\n"
          ]
        },
        {
          "name": "stdout",
          "output_type": "stream",
          "text": [
            "INFO:tensorflow:Loaded ./tcav/tcav_examples/discrete/kdd_sanity2\\activations\\acts_random500_8_dense shape (10, 1000)\n"
          ]
        },
        {
          "name": "stderr",
          "output_type": "stream",
          "text": [
            "INFO:tensorflow:Loaded ./tcav/tcav_examples/discrete/kdd_sanity2\\activations\\acts_random500_8_dense shape (10, 1000)\n"
          ]
        },
        {
          "name": "stdout",
          "output_type": "stream",
          "text": [
            "INFO:tensorflow:Loaded ./tcav/tcav_examples/discrete/kdd_sanity2\\activations\\acts_normal._dense shape (200, 1000)\n"
          ]
        },
        {
          "name": "stderr",
          "output_type": "stream",
          "text": [
            "INFO:tensorflow:Loaded ./tcav/tcav_examples/discrete/kdd_sanity2\\activations\\acts_normal._dense shape (200, 1000)\n"
          ]
        },
        {
          "name": "stdout",
          "output_type": "stream",
          "text": [
            "INFO:tensorflow:CAV already exists: ./tcav/tcav_examples/discrete/kdd_sanity2\\cav\\random500_5-random500_8-dense-linear-0.01.pkl\n"
          ]
        },
        {
          "name": "stderr",
          "output_type": "stream",
          "text": [
            "INFO:tensorflow:CAV already exists: ./tcav/tcav_examples/discrete/kdd_sanity2\\cav\\random500_5-random500_8-dense-linear-0.01.pkl\n"
          ]
        },
        {
          "name": "stdout",
          "output_type": "stream",
          "text": [
            "INFO:tensorflow:CAV accuracies: {'random500_5': 0.6666666666666666, 'random500_8': 0.75, 'overall': 0.7142857142857143}\n"
          ]
        },
        {
          "name": "stderr",
          "output_type": "stream",
          "text": [
            "INFO:tensorflow:CAV accuracies: {'random500_5': 0.6666666666666666, 'random500_8': 0.75, 'overall': 0.7142857142857143}\n"
          ]
        },
        {
          "name": "stdout",
          "output_type": "stream",
          "text": [
            "INFO:tensorflow:Running param 73 of 220\n"
          ]
        },
        {
          "name": "stderr",
          "output_type": "stream",
          "text": [
            "INFO:tensorflow:Running param 73 of 220\n"
          ]
        },
        {
          "name": "stdout",
          "output_type": "stream",
          "text": [
            "INFO:tensorflow:running normal. ['random500_5', 'random500_9']\n"
          ]
        },
        {
          "name": "stderr",
          "output_type": "stream",
          "text": [
            "INFO:tensorflow:running normal. ['random500_5', 'random500_9']\n"
          ]
        },
        {
          "name": "stdout",
          "output_type": "stream",
          "text": [
            "INFO:tensorflow:Loaded ./tcav/tcav_examples/discrete/kdd_sanity2\\activations\\acts_random500_5_dense shape (10, 1000)\n"
          ]
        },
        {
          "name": "stderr",
          "output_type": "stream",
          "text": [
            "INFO:tensorflow:Loaded ./tcav/tcav_examples/discrete/kdd_sanity2\\activations\\acts_random500_5_dense shape (10, 1000)\n"
          ]
        },
        {
          "name": "stdout",
          "output_type": "stream",
          "text": [
            "INFO:tensorflow:Loaded ./tcav/tcav_examples/discrete/kdd_sanity2\\activations\\acts_random500_9_dense shape (10, 1000)\n"
          ]
        },
        {
          "name": "stderr",
          "output_type": "stream",
          "text": [
            "INFO:tensorflow:Loaded ./tcav/tcav_examples/discrete/kdd_sanity2\\activations\\acts_random500_9_dense shape (10, 1000)\n"
          ]
        },
        {
          "name": "stdout",
          "output_type": "stream",
          "text": [
            "INFO:tensorflow:Loaded ./tcav/tcav_examples/discrete/kdd_sanity2\\activations\\acts_normal._dense shape (200, 1000)\n"
          ]
        },
        {
          "name": "stderr",
          "output_type": "stream",
          "text": [
            "INFO:tensorflow:Loaded ./tcav/tcav_examples/discrete/kdd_sanity2\\activations\\acts_normal._dense shape (200, 1000)\n"
          ]
        },
        {
          "name": "stdout",
          "output_type": "stream",
          "text": [
            "INFO:tensorflow:CAV already exists: ./tcav/tcav_examples/discrete/kdd_sanity2\\cav\\random500_5-random500_9-dense-linear-0.01.pkl\n"
          ]
        },
        {
          "name": "stderr",
          "output_type": "stream",
          "text": [
            "INFO:tensorflow:CAV already exists: ./tcav/tcav_examples/discrete/kdd_sanity2\\cav\\random500_5-random500_9-dense-linear-0.01.pkl\n"
          ]
        },
        {
          "name": "stdout",
          "output_type": "stream",
          "text": [
            "INFO:tensorflow:CAV accuracies: {'random500_5': 0.5, 'random500_9': 0.3333333333333333, 'overall': 0.42857142857142855}\n"
          ]
        },
        {
          "name": "stderr",
          "output_type": "stream",
          "text": [
            "INFO:tensorflow:CAV accuracies: {'random500_5': 0.5, 'random500_9': 0.3333333333333333, 'overall': 0.42857142857142855}\n"
          ]
        },
        {
          "name": "stdout",
          "output_type": "stream",
          "text": [
            "INFO:tensorflow:Running param 74 of 220\n"
          ]
        },
        {
          "name": "stderr",
          "output_type": "stream",
          "text": [
            "INFO:tensorflow:Running param 74 of 220\n"
          ]
        },
        {
          "name": "stdout",
          "output_type": "stream",
          "text": [
            "INFO:tensorflow:running normal. ['random500_6', 'random500_0']\n"
          ]
        },
        {
          "name": "stderr",
          "output_type": "stream",
          "text": [
            "INFO:tensorflow:running normal. ['random500_6', 'random500_0']\n"
          ]
        },
        {
          "name": "stdout",
          "output_type": "stream",
          "text": [
            "INFO:tensorflow:Loaded ./tcav/tcav_examples/discrete/kdd_sanity2\\activations\\acts_random500_6_dense shape (10, 1000)\n"
          ]
        },
        {
          "name": "stderr",
          "output_type": "stream",
          "text": [
            "INFO:tensorflow:Loaded ./tcav/tcav_examples/discrete/kdd_sanity2\\activations\\acts_random500_6_dense shape (10, 1000)\n"
          ]
        },
        {
          "name": "stdout",
          "output_type": "stream",
          "text": [
            "INFO:tensorflow:Loaded ./tcav/tcav_examples/discrete/kdd_sanity2\\activations\\acts_random500_0_dense shape (10, 1000)\n"
          ]
        },
        {
          "name": "stderr",
          "output_type": "stream",
          "text": [
            "INFO:tensorflow:Loaded ./tcav/tcav_examples/discrete/kdd_sanity2\\activations\\acts_random500_0_dense shape (10, 1000)\n"
          ]
        },
        {
          "name": "stdout",
          "output_type": "stream",
          "text": [
            "INFO:tensorflow:Loaded ./tcav/tcav_examples/discrete/kdd_sanity2\\activations\\acts_normal._dense shape (200, 1000)\n"
          ]
        },
        {
          "name": "stderr",
          "output_type": "stream",
          "text": [
            "INFO:tensorflow:Loaded ./tcav/tcav_examples/discrete/kdd_sanity2\\activations\\acts_normal._dense shape (200, 1000)\n"
          ]
        },
        {
          "name": "stdout",
          "output_type": "stream",
          "text": [
            "INFO:tensorflow:CAV already exists: ./tcav/tcav_examples/discrete/kdd_sanity2\\cav\\random500_6-random500_0-dense-linear-0.01.pkl\n"
          ]
        },
        {
          "name": "stderr",
          "output_type": "stream",
          "text": [
            "INFO:tensorflow:CAV already exists: ./tcav/tcav_examples/discrete/kdd_sanity2\\cav\\random500_6-random500_0-dense-linear-0.01.pkl\n"
          ]
        },
        {
          "name": "stdout",
          "output_type": "stream",
          "text": [
            "INFO:tensorflow:CAV accuracies: {'random500_6': 0.25, 'random500_0': 1.0, 'overall': 0.5714285714285714}\n"
          ]
        },
        {
          "name": "stderr",
          "output_type": "stream",
          "text": [
            "INFO:tensorflow:CAV accuracies: {'random500_6': 0.25, 'random500_0': 1.0, 'overall': 0.5714285714285714}\n"
          ]
        },
        {
          "name": "stdout",
          "output_type": "stream",
          "text": [
            "INFO:tensorflow:Running param 75 of 220\n"
          ]
        },
        {
          "name": "stderr",
          "output_type": "stream",
          "text": [
            "INFO:tensorflow:Running param 75 of 220\n"
          ]
        },
        {
          "name": "stdout",
          "output_type": "stream",
          "text": [
            "INFO:tensorflow:running normal. ['random500_6', 'random500_1']\n"
          ]
        },
        {
          "name": "stderr",
          "output_type": "stream",
          "text": [
            "INFO:tensorflow:running normal. ['random500_6', 'random500_1']\n"
          ]
        },
        {
          "name": "stdout",
          "output_type": "stream",
          "text": [
            "INFO:tensorflow:Loaded ./tcav/tcav_examples/discrete/kdd_sanity2\\activations\\acts_random500_6_dense shape (10, 1000)\n"
          ]
        },
        {
          "name": "stderr",
          "output_type": "stream",
          "text": [
            "INFO:tensorflow:Loaded ./tcav/tcav_examples/discrete/kdd_sanity2\\activations\\acts_random500_6_dense shape (10, 1000)\n"
          ]
        },
        {
          "name": "stdout",
          "output_type": "stream",
          "text": [
            "INFO:tensorflow:Loaded ./tcav/tcav_examples/discrete/kdd_sanity2\\activations\\acts_random500_1_dense shape (10, 1000)\n"
          ]
        },
        {
          "name": "stderr",
          "output_type": "stream",
          "text": [
            "INFO:tensorflow:Loaded ./tcav/tcav_examples/discrete/kdd_sanity2\\activations\\acts_random500_1_dense shape (10, 1000)\n"
          ]
        },
        {
          "name": "stdout",
          "output_type": "stream",
          "text": [
            "INFO:tensorflow:Loaded ./tcav/tcav_examples/discrete/kdd_sanity2\\activations\\acts_normal._dense shape (200, 1000)\n"
          ]
        },
        {
          "name": "stderr",
          "output_type": "stream",
          "text": [
            "INFO:tensorflow:Loaded ./tcav/tcav_examples/discrete/kdd_sanity2\\activations\\acts_normal._dense shape (200, 1000)\n"
          ]
        },
        {
          "name": "stdout",
          "output_type": "stream",
          "text": [
            "INFO:tensorflow:CAV already exists: ./tcav/tcav_examples/discrete/kdd_sanity2\\cav\\random500_6-random500_1-dense-linear-0.01.pkl\n"
          ]
        },
        {
          "name": "stderr",
          "output_type": "stream",
          "text": [
            "INFO:tensorflow:CAV already exists: ./tcav/tcav_examples/discrete/kdd_sanity2\\cav\\random500_6-random500_1-dense-linear-0.01.pkl\n"
          ]
        },
        {
          "name": "stdout",
          "output_type": "stream",
          "text": [
            "INFO:tensorflow:CAV accuracies: {'random500_6': 1.0, 'random500_1': 0.0, 'overall': 0.42857142857142855}\n"
          ]
        },
        {
          "name": "stderr",
          "output_type": "stream",
          "text": [
            "INFO:tensorflow:CAV accuracies: {'random500_6': 1.0, 'random500_1': 0.0, 'overall': 0.42857142857142855}\n"
          ]
        },
        {
          "name": "stdout",
          "output_type": "stream",
          "text": [
            "INFO:tensorflow:Running param 76 of 220\n"
          ]
        },
        {
          "name": "stderr",
          "output_type": "stream",
          "text": [
            "INFO:tensorflow:Running param 76 of 220\n"
          ]
        },
        {
          "name": "stdout",
          "output_type": "stream",
          "text": [
            "INFO:tensorflow:running normal. ['random500_6', 'random500_2']\n"
          ]
        },
        {
          "name": "stderr",
          "output_type": "stream",
          "text": [
            "INFO:tensorflow:running normal. ['random500_6', 'random500_2']\n"
          ]
        },
        {
          "name": "stdout",
          "output_type": "stream",
          "text": [
            "INFO:tensorflow:Loaded ./tcav/tcav_examples/discrete/kdd_sanity2\\activations\\acts_random500_6_dense shape (10, 1000)\n"
          ]
        },
        {
          "name": "stderr",
          "output_type": "stream",
          "text": [
            "INFO:tensorflow:Loaded ./tcav/tcav_examples/discrete/kdd_sanity2\\activations\\acts_random500_6_dense shape (10, 1000)\n"
          ]
        },
        {
          "name": "stdout",
          "output_type": "stream",
          "text": [
            "INFO:tensorflow:Loaded ./tcav/tcav_examples/discrete/kdd_sanity2\\activations\\acts_random500_2_dense shape (10, 1000)\n"
          ]
        },
        {
          "name": "stderr",
          "output_type": "stream",
          "text": [
            "INFO:tensorflow:Loaded ./tcav/tcav_examples/discrete/kdd_sanity2\\activations\\acts_random500_2_dense shape (10, 1000)\n"
          ]
        },
        {
          "name": "stdout",
          "output_type": "stream",
          "text": [
            "INFO:tensorflow:Loaded ./tcav/tcav_examples/discrete/kdd_sanity2\\activations\\acts_normal._dense shape (200, 1000)\n"
          ]
        },
        {
          "name": "stderr",
          "output_type": "stream",
          "text": [
            "INFO:tensorflow:Loaded ./tcav/tcav_examples/discrete/kdd_sanity2\\activations\\acts_normal._dense shape (200, 1000)\n"
          ]
        },
        {
          "name": "stdout",
          "output_type": "stream",
          "text": [
            "INFO:tensorflow:CAV already exists: ./tcav/tcav_examples/discrete/kdd_sanity2\\cav\\random500_6-random500_2-dense-linear-0.01.pkl\n"
          ]
        },
        {
          "name": "stderr",
          "output_type": "stream",
          "text": [
            "INFO:tensorflow:CAV already exists: ./tcav/tcav_examples/discrete/kdd_sanity2\\cav\\random500_6-random500_2-dense-linear-0.01.pkl\n"
          ]
        },
        {
          "name": "stdout",
          "output_type": "stream",
          "text": [
            "INFO:tensorflow:CAV accuracies: {'random500_6': 0.25, 'random500_2': 1.0, 'overall': 0.5714285714285714}\n"
          ]
        },
        {
          "name": "stderr",
          "output_type": "stream",
          "text": [
            "INFO:tensorflow:CAV accuracies: {'random500_6': 0.25, 'random500_2': 1.0, 'overall': 0.5714285714285714}\n"
          ]
        },
        {
          "name": "stdout",
          "output_type": "stream",
          "text": [
            "INFO:tensorflow:Running param 77 of 220\n"
          ]
        },
        {
          "name": "stderr",
          "output_type": "stream",
          "text": [
            "INFO:tensorflow:Running param 77 of 220\n"
          ]
        },
        {
          "name": "stdout",
          "output_type": "stream",
          "text": [
            "INFO:tensorflow:running normal. ['random500_6', 'random500_3']\n"
          ]
        },
        {
          "name": "stderr",
          "output_type": "stream",
          "text": [
            "INFO:tensorflow:running normal. ['random500_6', 'random500_3']\n"
          ]
        },
        {
          "name": "stdout",
          "output_type": "stream",
          "text": [
            "INFO:tensorflow:Loaded ./tcav/tcav_examples/discrete/kdd_sanity2\\activations\\acts_random500_6_dense shape (10, 1000)\n"
          ]
        },
        {
          "name": "stderr",
          "output_type": "stream",
          "text": [
            "INFO:tensorflow:Loaded ./tcav/tcav_examples/discrete/kdd_sanity2\\activations\\acts_random500_6_dense shape (10, 1000)\n"
          ]
        },
        {
          "name": "stdout",
          "output_type": "stream",
          "text": [
            "INFO:tensorflow:Loaded ./tcav/tcav_examples/discrete/kdd_sanity2\\activations\\acts_random500_3_dense shape (10, 1000)\n"
          ]
        },
        {
          "name": "stderr",
          "output_type": "stream",
          "text": [
            "INFO:tensorflow:Loaded ./tcav/tcav_examples/discrete/kdd_sanity2\\activations\\acts_random500_3_dense shape (10, 1000)\n"
          ]
        },
        {
          "name": "stdout",
          "output_type": "stream",
          "text": [
            "INFO:tensorflow:Loaded ./tcav/tcav_examples/discrete/kdd_sanity2\\activations\\acts_normal._dense shape (200, 1000)\n"
          ]
        },
        {
          "name": "stderr",
          "output_type": "stream",
          "text": [
            "INFO:tensorflow:Loaded ./tcav/tcav_examples/discrete/kdd_sanity2\\activations\\acts_normal._dense shape (200, 1000)\n"
          ]
        },
        {
          "name": "stdout",
          "output_type": "stream",
          "text": [
            "INFO:tensorflow:CAV already exists: ./tcav/tcav_examples/discrete/kdd_sanity2\\cav\\random500_6-random500_3-dense-linear-0.01.pkl\n"
          ]
        },
        {
          "name": "stderr",
          "output_type": "stream",
          "text": [
            "INFO:tensorflow:CAV already exists: ./tcav/tcav_examples/discrete/kdd_sanity2\\cav\\random500_6-random500_3-dense-linear-0.01.pkl\n"
          ]
        },
        {
          "name": "stdout",
          "output_type": "stream",
          "text": [
            "INFO:tensorflow:CAV accuracies: {'random500_6': 0.0, 'random500_3': 1.0, 'overall': 0.42857142857142855}\n"
          ]
        },
        {
          "name": "stderr",
          "output_type": "stream",
          "text": [
            "INFO:tensorflow:CAV accuracies: {'random500_6': 0.0, 'random500_3': 1.0, 'overall': 0.42857142857142855}\n"
          ]
        },
        {
          "name": "stdout",
          "output_type": "stream",
          "text": [
            "INFO:tensorflow:Running param 78 of 220\n"
          ]
        },
        {
          "name": "stderr",
          "output_type": "stream",
          "text": [
            "INFO:tensorflow:Running param 78 of 220\n"
          ]
        },
        {
          "name": "stdout",
          "output_type": "stream",
          "text": [
            "INFO:tensorflow:running normal. ['random500_6', 'random500_4']\n"
          ]
        },
        {
          "name": "stderr",
          "output_type": "stream",
          "text": [
            "INFO:tensorflow:running normal. ['random500_6', 'random500_4']\n"
          ]
        },
        {
          "name": "stdout",
          "output_type": "stream",
          "text": [
            "INFO:tensorflow:Loaded ./tcav/tcav_examples/discrete/kdd_sanity2\\activations\\acts_random500_6_dense shape (10, 1000)\n"
          ]
        },
        {
          "name": "stderr",
          "output_type": "stream",
          "text": [
            "INFO:tensorflow:Loaded ./tcav/tcav_examples/discrete/kdd_sanity2\\activations\\acts_random500_6_dense shape (10, 1000)\n"
          ]
        },
        {
          "name": "stdout",
          "output_type": "stream",
          "text": [
            "INFO:tensorflow:Loaded ./tcav/tcav_examples/discrete/kdd_sanity2\\activations\\acts_random500_4_dense shape (10, 1000)\n"
          ]
        },
        {
          "name": "stderr",
          "output_type": "stream",
          "text": [
            "INFO:tensorflow:Loaded ./tcav/tcav_examples/discrete/kdd_sanity2\\activations\\acts_random500_4_dense shape (10, 1000)\n"
          ]
        },
        {
          "name": "stdout",
          "output_type": "stream",
          "text": [
            "INFO:tensorflow:Loaded ./tcav/tcav_examples/discrete/kdd_sanity2\\activations\\acts_normal._dense shape (200, 1000)\n"
          ]
        },
        {
          "name": "stderr",
          "output_type": "stream",
          "text": [
            "INFO:tensorflow:Loaded ./tcav/tcav_examples/discrete/kdd_sanity2\\activations\\acts_normal._dense shape (200, 1000)\n"
          ]
        },
        {
          "name": "stdout",
          "output_type": "stream",
          "text": [
            "INFO:tensorflow:CAV already exists: ./tcav/tcav_examples/discrete/kdd_sanity2\\cav\\random500_6-random500_4-dense-linear-0.01.pkl\n"
          ]
        },
        {
          "name": "stderr",
          "output_type": "stream",
          "text": [
            "INFO:tensorflow:CAV already exists: ./tcav/tcav_examples/discrete/kdd_sanity2\\cav\\random500_6-random500_4-dense-linear-0.01.pkl\n"
          ]
        },
        {
          "name": "stdout",
          "output_type": "stream",
          "text": [
            "INFO:tensorflow:CAV accuracies: {'random500_6': 1.0, 'random500_4': 0.0, 'overall': 0.5714285714285714}\n"
          ]
        },
        {
          "name": "stderr",
          "output_type": "stream",
          "text": [
            "INFO:tensorflow:CAV accuracies: {'random500_6': 1.0, 'random500_4': 0.0, 'overall': 0.5714285714285714}\n"
          ]
        },
        {
          "name": "stdout",
          "output_type": "stream",
          "text": [
            "INFO:tensorflow:Running param 79 of 220\n"
          ]
        },
        {
          "name": "stderr",
          "output_type": "stream",
          "text": [
            "INFO:tensorflow:Running param 79 of 220\n"
          ]
        },
        {
          "name": "stdout",
          "output_type": "stream",
          "text": [
            "INFO:tensorflow:running normal. ['random500_6', 'random500_5']\n"
          ]
        },
        {
          "name": "stderr",
          "output_type": "stream",
          "text": [
            "INFO:tensorflow:running normal. ['random500_6', 'random500_5']\n"
          ]
        },
        {
          "name": "stdout",
          "output_type": "stream",
          "text": [
            "INFO:tensorflow:Loaded ./tcav/tcav_examples/discrete/kdd_sanity2\\activations\\acts_random500_6_dense shape (10, 1000)\n"
          ]
        },
        {
          "name": "stderr",
          "output_type": "stream",
          "text": [
            "INFO:tensorflow:Loaded ./tcav/tcav_examples/discrete/kdd_sanity2\\activations\\acts_random500_6_dense shape (10, 1000)\n"
          ]
        },
        {
          "name": "stdout",
          "output_type": "stream",
          "text": [
            "INFO:tensorflow:Loaded ./tcav/tcav_examples/discrete/kdd_sanity2\\activations\\acts_random500_5_dense shape (10, 1000)\n"
          ]
        },
        {
          "name": "stderr",
          "output_type": "stream",
          "text": [
            "INFO:tensorflow:Loaded ./tcav/tcav_examples/discrete/kdd_sanity2\\activations\\acts_random500_5_dense shape (10, 1000)\n"
          ]
        },
        {
          "name": "stdout",
          "output_type": "stream",
          "text": [
            "INFO:tensorflow:Loaded ./tcav/tcav_examples/discrete/kdd_sanity2\\activations\\acts_normal._dense shape (200, 1000)\n"
          ]
        },
        {
          "name": "stderr",
          "output_type": "stream",
          "text": [
            "INFO:tensorflow:Loaded ./tcav/tcav_examples/discrete/kdd_sanity2\\activations\\acts_normal._dense shape (200, 1000)\n"
          ]
        },
        {
          "name": "stdout",
          "output_type": "stream",
          "text": [
            "INFO:tensorflow:CAV already exists: ./tcav/tcav_examples/discrete/kdd_sanity2\\cav\\random500_6-random500_5-dense-linear-0.01.pkl\n"
          ]
        },
        {
          "name": "stderr",
          "output_type": "stream",
          "text": [
            "INFO:tensorflow:CAV already exists: ./tcav/tcav_examples/discrete/kdd_sanity2\\cav\\random500_6-random500_5-dense-linear-0.01.pkl\n"
          ]
        },
        {
          "name": "stdout",
          "output_type": "stream",
          "text": [
            "INFO:tensorflow:CAV accuracies: {'random500_6': 0.0, 'random500_5': 0.5, 'overall': 0.2857142857142857}\n"
          ]
        },
        {
          "name": "stderr",
          "output_type": "stream",
          "text": [
            "INFO:tensorflow:CAV accuracies: {'random500_6': 0.0, 'random500_5': 0.5, 'overall': 0.2857142857142857}\n"
          ]
        },
        {
          "name": "stdout",
          "output_type": "stream",
          "text": [
            "INFO:tensorflow:Running param 80 of 220\n"
          ]
        },
        {
          "name": "stderr",
          "output_type": "stream",
          "text": [
            "INFO:tensorflow:Running param 80 of 220\n"
          ]
        },
        {
          "name": "stdout",
          "output_type": "stream",
          "text": [
            "INFO:tensorflow:running normal. ['random500_6', 'random500_7']\n"
          ]
        },
        {
          "name": "stderr",
          "output_type": "stream",
          "text": [
            "INFO:tensorflow:running normal. ['random500_6', 'random500_7']\n"
          ]
        },
        {
          "name": "stdout",
          "output_type": "stream",
          "text": [
            "INFO:tensorflow:Loaded ./tcav/tcav_examples/discrete/kdd_sanity2\\activations\\acts_random500_6_dense shape (10, 1000)\n"
          ]
        },
        {
          "name": "stderr",
          "output_type": "stream",
          "text": [
            "INFO:tensorflow:Loaded ./tcav/tcav_examples/discrete/kdd_sanity2\\activations\\acts_random500_6_dense shape (10, 1000)\n"
          ]
        },
        {
          "name": "stdout",
          "output_type": "stream",
          "text": [
            "INFO:tensorflow:Loaded ./tcav/tcav_examples/discrete/kdd_sanity2\\activations\\acts_random500_7_dense shape (10, 1000)\n"
          ]
        },
        {
          "name": "stderr",
          "output_type": "stream",
          "text": [
            "INFO:tensorflow:Loaded ./tcav/tcav_examples/discrete/kdd_sanity2\\activations\\acts_random500_7_dense shape (10, 1000)\n"
          ]
        },
        {
          "name": "stdout",
          "output_type": "stream",
          "text": [
            "INFO:tensorflow:Loaded ./tcav/tcav_examples/discrete/kdd_sanity2\\activations\\acts_normal._dense shape (200, 1000)\n"
          ]
        },
        {
          "name": "stderr",
          "output_type": "stream",
          "text": [
            "INFO:tensorflow:Loaded ./tcav/tcav_examples/discrete/kdd_sanity2\\activations\\acts_normal._dense shape (200, 1000)\n"
          ]
        },
        {
          "name": "stdout",
          "output_type": "stream",
          "text": [
            "INFO:tensorflow:CAV already exists: ./tcav/tcav_examples/discrete/kdd_sanity2\\cav\\random500_6-random500_7-dense-linear-0.01.pkl\n"
          ]
        },
        {
          "name": "stderr",
          "output_type": "stream",
          "text": [
            "INFO:tensorflow:CAV already exists: ./tcav/tcav_examples/discrete/kdd_sanity2\\cav\\random500_6-random500_7-dense-linear-0.01.pkl\n"
          ]
        },
        {
          "name": "stdout",
          "output_type": "stream",
          "text": [
            "INFO:tensorflow:CAV accuracies: {'random500_6': 1.0, 'random500_7': 0.5, 'overall': 0.7142857142857143}\n"
          ]
        },
        {
          "name": "stderr",
          "output_type": "stream",
          "text": [
            "INFO:tensorflow:CAV accuracies: {'random500_6': 1.0, 'random500_7': 0.5, 'overall': 0.7142857142857143}\n"
          ]
        },
        {
          "name": "stdout",
          "output_type": "stream",
          "text": [
            "INFO:tensorflow:Running param 81 of 220\n"
          ]
        },
        {
          "name": "stderr",
          "output_type": "stream",
          "text": [
            "INFO:tensorflow:Running param 81 of 220\n"
          ]
        },
        {
          "name": "stdout",
          "output_type": "stream",
          "text": [
            "INFO:tensorflow:running normal. ['random500_6', 'random500_8']\n"
          ]
        },
        {
          "name": "stderr",
          "output_type": "stream",
          "text": [
            "INFO:tensorflow:running normal. ['random500_6', 'random500_8']\n"
          ]
        },
        {
          "name": "stdout",
          "output_type": "stream",
          "text": [
            "INFO:tensorflow:Loaded ./tcav/tcav_examples/discrete/kdd_sanity2\\activations\\acts_random500_6_dense shape (10, 1000)\n"
          ]
        },
        {
          "name": "stderr",
          "output_type": "stream",
          "text": [
            "INFO:tensorflow:Loaded ./tcav/tcav_examples/discrete/kdd_sanity2\\activations\\acts_random500_6_dense shape (10, 1000)\n"
          ]
        },
        {
          "name": "stdout",
          "output_type": "stream",
          "text": [
            "INFO:tensorflow:Loaded ./tcav/tcav_examples/discrete/kdd_sanity2\\activations\\acts_random500_8_dense shape (10, 1000)\n"
          ]
        },
        {
          "name": "stderr",
          "output_type": "stream",
          "text": [
            "INFO:tensorflow:Loaded ./tcav/tcav_examples/discrete/kdd_sanity2\\activations\\acts_random500_8_dense shape (10, 1000)\n"
          ]
        },
        {
          "name": "stdout",
          "output_type": "stream",
          "text": [
            "INFO:tensorflow:Loaded ./tcav/tcav_examples/discrete/kdd_sanity2\\activations\\acts_normal._dense shape (200, 1000)\n"
          ]
        },
        {
          "name": "stderr",
          "output_type": "stream",
          "text": [
            "INFO:tensorflow:Loaded ./tcav/tcav_examples/discrete/kdd_sanity2\\activations\\acts_normal._dense shape (200, 1000)\n"
          ]
        },
        {
          "name": "stdout",
          "output_type": "stream",
          "text": [
            "INFO:tensorflow:CAV already exists: ./tcav/tcav_examples/discrete/kdd_sanity2\\cav\\random500_6-random500_8-dense-linear-0.01.pkl\n"
          ]
        },
        {
          "name": "stderr",
          "output_type": "stream",
          "text": [
            "INFO:tensorflow:CAV already exists: ./tcav/tcav_examples/discrete/kdd_sanity2\\cav\\random500_6-random500_8-dense-linear-0.01.pkl\n"
          ]
        },
        {
          "name": "stdout",
          "output_type": "stream",
          "text": [
            "INFO:tensorflow:CAV accuracies: {'random500_6': 1.0, 'random500_8': 0.0, 'overall': 0.42857142857142855}\n"
          ]
        },
        {
          "name": "stderr",
          "output_type": "stream",
          "text": [
            "INFO:tensorflow:CAV accuracies: {'random500_6': 1.0, 'random500_8': 0.0, 'overall': 0.42857142857142855}\n"
          ]
        },
        {
          "name": "stdout",
          "output_type": "stream",
          "text": [
            "INFO:tensorflow:Running param 82 of 220\n"
          ]
        },
        {
          "name": "stderr",
          "output_type": "stream",
          "text": [
            "INFO:tensorflow:Running param 82 of 220\n"
          ]
        },
        {
          "name": "stdout",
          "output_type": "stream",
          "text": [
            "INFO:tensorflow:running normal. ['random500_6', 'random500_9']\n"
          ]
        },
        {
          "name": "stderr",
          "output_type": "stream",
          "text": [
            "INFO:tensorflow:running normal. ['random500_6', 'random500_9']\n"
          ]
        },
        {
          "name": "stdout",
          "output_type": "stream",
          "text": [
            "INFO:tensorflow:Loaded ./tcav/tcav_examples/discrete/kdd_sanity2\\activations\\acts_random500_6_dense shape (10, 1000)\n"
          ]
        },
        {
          "name": "stderr",
          "output_type": "stream",
          "text": [
            "INFO:tensorflow:Loaded ./tcav/tcav_examples/discrete/kdd_sanity2\\activations\\acts_random500_6_dense shape (10, 1000)\n"
          ]
        },
        {
          "name": "stdout",
          "output_type": "stream",
          "text": [
            "INFO:tensorflow:Loaded ./tcav/tcav_examples/discrete/kdd_sanity2\\activations\\acts_random500_9_dense shape (10, 1000)\n"
          ]
        },
        {
          "name": "stderr",
          "output_type": "stream",
          "text": [
            "INFO:tensorflow:Loaded ./tcav/tcav_examples/discrete/kdd_sanity2\\activations\\acts_random500_9_dense shape (10, 1000)\n"
          ]
        },
        {
          "name": "stdout",
          "output_type": "stream",
          "text": [
            "INFO:tensorflow:Loaded ./tcav/tcav_examples/discrete/kdd_sanity2\\activations\\acts_normal._dense shape (200, 1000)\n"
          ]
        },
        {
          "name": "stderr",
          "output_type": "stream",
          "text": [
            "INFO:tensorflow:Loaded ./tcav/tcav_examples/discrete/kdd_sanity2\\activations\\acts_normal._dense shape (200, 1000)\n"
          ]
        },
        {
          "name": "stdout",
          "output_type": "stream",
          "text": [
            "INFO:tensorflow:CAV already exists: ./tcav/tcav_examples/discrete/kdd_sanity2\\cav\\random500_6-random500_9-dense-linear-0.01.pkl\n"
          ]
        },
        {
          "name": "stderr",
          "output_type": "stream",
          "text": [
            "INFO:tensorflow:CAV already exists: ./tcav/tcav_examples/discrete/kdd_sanity2\\cav\\random500_6-random500_9-dense-linear-0.01.pkl\n"
          ]
        },
        {
          "name": "stdout",
          "output_type": "stream",
          "text": [
            "INFO:tensorflow:CAV accuracies: {'random500_6': 0.3333333333333333, 'random500_9': 1.0, 'overall': 0.7142857142857143}\n"
          ]
        },
        {
          "name": "stderr",
          "output_type": "stream",
          "text": [
            "INFO:tensorflow:CAV accuracies: {'random500_6': 0.3333333333333333, 'random500_9': 1.0, 'overall': 0.7142857142857143}\n"
          ]
        },
        {
          "name": "stdout",
          "output_type": "stream",
          "text": [
            "INFO:tensorflow:Running param 83 of 220\n"
          ]
        },
        {
          "name": "stderr",
          "output_type": "stream",
          "text": [
            "INFO:tensorflow:Running param 83 of 220\n"
          ]
        },
        {
          "name": "stdout",
          "output_type": "stream",
          "text": [
            "INFO:tensorflow:running normal. ['random500_7', 'random500_0']\n"
          ]
        },
        {
          "name": "stderr",
          "output_type": "stream",
          "text": [
            "INFO:tensorflow:running normal. ['random500_7', 'random500_0']\n"
          ]
        },
        {
          "name": "stdout",
          "output_type": "stream",
          "text": [
            "INFO:tensorflow:Loaded ./tcav/tcav_examples/discrete/kdd_sanity2\\activations\\acts_random500_7_dense shape (10, 1000)\n"
          ]
        },
        {
          "name": "stderr",
          "output_type": "stream",
          "text": [
            "INFO:tensorflow:Loaded ./tcav/tcav_examples/discrete/kdd_sanity2\\activations\\acts_random500_7_dense shape (10, 1000)\n"
          ]
        },
        {
          "name": "stdout",
          "output_type": "stream",
          "text": [
            "INFO:tensorflow:Loaded ./tcav/tcav_examples/discrete/kdd_sanity2\\activations\\acts_random500_0_dense shape (10, 1000)\n"
          ]
        },
        {
          "name": "stderr",
          "output_type": "stream",
          "text": [
            "INFO:tensorflow:Loaded ./tcav/tcav_examples/discrete/kdd_sanity2\\activations\\acts_random500_0_dense shape (10, 1000)\n"
          ]
        },
        {
          "name": "stdout",
          "output_type": "stream",
          "text": [
            "INFO:tensorflow:Loaded ./tcav/tcav_examples/discrete/kdd_sanity2\\activations\\acts_normal._dense shape (200, 1000)\n"
          ]
        },
        {
          "name": "stderr",
          "output_type": "stream",
          "text": [
            "INFO:tensorflow:Loaded ./tcav/tcav_examples/discrete/kdd_sanity2\\activations\\acts_normal._dense shape (200, 1000)\n"
          ]
        },
        {
          "name": "stdout",
          "output_type": "stream",
          "text": [
            "INFO:tensorflow:CAV already exists: ./tcav/tcav_examples/discrete/kdd_sanity2\\cav\\random500_7-random500_0-dense-linear-0.01.pkl\n"
          ]
        },
        {
          "name": "stderr",
          "output_type": "stream",
          "text": [
            "INFO:tensorflow:CAV already exists: ./tcav/tcav_examples/discrete/kdd_sanity2\\cav\\random500_7-random500_0-dense-linear-0.01.pkl\n"
          ]
        },
        {
          "name": "stdout",
          "output_type": "stream",
          "text": [
            "INFO:tensorflow:CAV accuracies: {'random500_7': 1.0, 'random500_0': 1.0, 'overall': 1.0}\n"
          ]
        },
        {
          "name": "stderr",
          "output_type": "stream",
          "text": [
            "INFO:tensorflow:CAV accuracies: {'random500_7': 1.0, 'random500_0': 1.0, 'overall': 1.0}\n"
          ]
        },
        {
          "name": "stdout",
          "output_type": "stream",
          "text": [
            "INFO:tensorflow:Running param 84 of 220\n"
          ]
        },
        {
          "name": "stderr",
          "output_type": "stream",
          "text": [
            "INFO:tensorflow:Running param 84 of 220\n"
          ]
        },
        {
          "name": "stdout",
          "output_type": "stream",
          "text": [
            "INFO:tensorflow:running normal. ['random500_7', 'random500_1']\n"
          ]
        },
        {
          "name": "stderr",
          "output_type": "stream",
          "text": [
            "INFO:tensorflow:running normal. ['random500_7', 'random500_1']\n"
          ]
        },
        {
          "name": "stdout",
          "output_type": "stream",
          "text": [
            "INFO:tensorflow:Loaded ./tcav/tcav_examples/discrete/kdd_sanity2\\activations\\acts_random500_7_dense shape (10, 1000)\n"
          ]
        },
        {
          "name": "stderr",
          "output_type": "stream",
          "text": [
            "INFO:tensorflow:Loaded ./tcav/tcav_examples/discrete/kdd_sanity2\\activations\\acts_random500_7_dense shape (10, 1000)\n"
          ]
        },
        {
          "name": "stdout",
          "output_type": "stream",
          "text": [
            "INFO:tensorflow:Loaded ./tcav/tcav_examples/discrete/kdd_sanity2\\activations\\acts_random500_1_dense shape (10, 1000)\n"
          ]
        },
        {
          "name": "stderr",
          "output_type": "stream",
          "text": [
            "INFO:tensorflow:Loaded ./tcav/tcav_examples/discrete/kdd_sanity2\\activations\\acts_random500_1_dense shape (10, 1000)\n"
          ]
        },
        {
          "name": "stdout",
          "output_type": "stream",
          "text": [
            "INFO:tensorflow:Loaded ./tcav/tcav_examples/discrete/kdd_sanity2\\activations\\acts_normal._dense shape (200, 1000)\n"
          ]
        },
        {
          "name": "stderr",
          "output_type": "stream",
          "text": [
            "INFO:tensorflow:Loaded ./tcav/tcav_examples/discrete/kdd_sanity2\\activations\\acts_normal._dense shape (200, 1000)\n"
          ]
        },
        {
          "name": "stdout",
          "output_type": "stream",
          "text": [
            "INFO:tensorflow:CAV already exists: ./tcav/tcav_examples/discrete/kdd_sanity2\\cav\\random500_7-random500_1-dense-linear-0.01.pkl\n"
          ]
        },
        {
          "name": "stderr",
          "output_type": "stream",
          "text": [
            "INFO:tensorflow:CAV already exists: ./tcav/tcav_examples/discrete/kdd_sanity2\\cav\\random500_7-random500_1-dense-linear-0.01.pkl\n"
          ]
        },
        {
          "name": "stdout",
          "output_type": "stream",
          "text": [
            "INFO:tensorflow:CAV accuracies: {'random500_7': 0.0, 'random500_1': 1.0, 'overall': 0.42857142857142855}\n"
          ]
        },
        {
          "name": "stderr",
          "output_type": "stream",
          "text": [
            "INFO:tensorflow:CAV accuracies: {'random500_7': 0.0, 'random500_1': 1.0, 'overall': 0.42857142857142855}\n"
          ]
        },
        {
          "name": "stdout",
          "output_type": "stream",
          "text": [
            "INFO:tensorflow:Running param 85 of 220\n"
          ]
        },
        {
          "name": "stderr",
          "output_type": "stream",
          "text": [
            "INFO:tensorflow:Running param 85 of 220\n"
          ]
        },
        {
          "name": "stdout",
          "output_type": "stream",
          "text": [
            "INFO:tensorflow:running normal. ['random500_7', 'random500_2']\n"
          ]
        },
        {
          "name": "stderr",
          "output_type": "stream",
          "text": [
            "INFO:tensorflow:running normal. ['random500_7', 'random500_2']\n"
          ]
        },
        {
          "name": "stdout",
          "output_type": "stream",
          "text": [
            "INFO:tensorflow:Loaded ./tcav/tcav_examples/discrete/kdd_sanity2\\activations\\acts_random500_7_dense shape (10, 1000)\n"
          ]
        },
        {
          "name": "stderr",
          "output_type": "stream",
          "text": [
            "INFO:tensorflow:Loaded ./tcav/tcav_examples/discrete/kdd_sanity2\\activations\\acts_random500_7_dense shape (10, 1000)\n"
          ]
        },
        {
          "name": "stdout",
          "output_type": "stream",
          "text": [
            "INFO:tensorflow:Loaded ./tcav/tcav_examples/discrete/kdd_sanity2\\activations\\acts_random500_2_dense shape (10, 1000)\n"
          ]
        },
        {
          "name": "stderr",
          "output_type": "stream",
          "text": [
            "INFO:tensorflow:Loaded ./tcav/tcav_examples/discrete/kdd_sanity2\\activations\\acts_random500_2_dense shape (10, 1000)\n"
          ]
        },
        {
          "name": "stdout",
          "output_type": "stream",
          "text": [
            "INFO:tensorflow:Loaded ./tcav/tcav_examples/discrete/kdd_sanity2\\activations\\acts_normal._dense shape (200, 1000)\n"
          ]
        },
        {
          "name": "stderr",
          "output_type": "stream",
          "text": [
            "INFO:tensorflow:Loaded ./tcav/tcav_examples/discrete/kdd_sanity2\\activations\\acts_normal._dense shape (200, 1000)\n"
          ]
        },
        {
          "name": "stdout",
          "output_type": "stream",
          "text": [
            "INFO:tensorflow:CAV already exists: ./tcav/tcav_examples/discrete/kdd_sanity2\\cav\\random500_7-random500_2-dense-linear-0.01.pkl\n"
          ]
        },
        {
          "name": "stderr",
          "output_type": "stream",
          "text": [
            "INFO:tensorflow:CAV already exists: ./tcav/tcav_examples/discrete/kdd_sanity2\\cav\\random500_7-random500_2-dense-linear-0.01.pkl\n"
          ]
        },
        {
          "name": "stdout",
          "output_type": "stream",
          "text": [
            "INFO:tensorflow:CAV accuracies: {'random500_7': 0.75, 'random500_2': 0.6666666666666666, 'overall': 0.7142857142857143}\n"
          ]
        },
        {
          "name": "stderr",
          "output_type": "stream",
          "text": [
            "INFO:tensorflow:CAV accuracies: {'random500_7': 0.75, 'random500_2': 0.6666666666666666, 'overall': 0.7142857142857143}\n"
          ]
        },
        {
          "name": "stdout",
          "output_type": "stream",
          "text": [
            "INFO:tensorflow:Running param 86 of 220\n"
          ]
        },
        {
          "name": "stderr",
          "output_type": "stream",
          "text": [
            "INFO:tensorflow:Running param 86 of 220\n"
          ]
        },
        {
          "name": "stdout",
          "output_type": "stream",
          "text": [
            "INFO:tensorflow:running normal. ['random500_7', 'random500_3']\n"
          ]
        },
        {
          "name": "stderr",
          "output_type": "stream",
          "text": [
            "INFO:tensorflow:running normal. ['random500_7', 'random500_3']\n"
          ]
        },
        {
          "name": "stdout",
          "output_type": "stream",
          "text": [
            "INFO:tensorflow:Loaded ./tcav/tcav_examples/discrete/kdd_sanity2\\activations\\acts_random500_7_dense shape (10, 1000)\n"
          ]
        },
        {
          "name": "stderr",
          "output_type": "stream",
          "text": [
            "INFO:tensorflow:Loaded ./tcav/tcav_examples/discrete/kdd_sanity2\\activations\\acts_random500_7_dense shape (10, 1000)\n"
          ]
        },
        {
          "name": "stdout",
          "output_type": "stream",
          "text": [
            "INFO:tensorflow:Loaded ./tcav/tcav_examples/discrete/kdd_sanity2\\activations\\acts_random500_3_dense shape (10, 1000)\n"
          ]
        },
        {
          "name": "stderr",
          "output_type": "stream",
          "text": [
            "INFO:tensorflow:Loaded ./tcav/tcav_examples/discrete/kdd_sanity2\\activations\\acts_random500_3_dense shape (10, 1000)\n"
          ]
        },
        {
          "name": "stdout",
          "output_type": "stream",
          "text": [
            "INFO:tensorflow:Loaded ./tcav/tcav_examples/discrete/kdd_sanity2\\activations\\acts_normal._dense shape (200, 1000)\n"
          ]
        },
        {
          "name": "stderr",
          "output_type": "stream",
          "text": [
            "INFO:tensorflow:Loaded ./tcav/tcav_examples/discrete/kdd_sanity2\\activations\\acts_normal._dense shape (200, 1000)\n"
          ]
        },
        {
          "name": "stdout",
          "output_type": "stream",
          "text": [
            "INFO:tensorflow:CAV already exists: ./tcav/tcav_examples/discrete/kdd_sanity2\\cav\\random500_7-random500_3-dense-linear-0.01.pkl\n"
          ]
        },
        {
          "name": "stderr",
          "output_type": "stream",
          "text": [
            "INFO:tensorflow:CAV already exists: ./tcav/tcav_examples/discrete/kdd_sanity2\\cav\\random500_7-random500_3-dense-linear-0.01.pkl\n"
          ]
        },
        {
          "name": "stdout",
          "output_type": "stream",
          "text": [
            "INFO:tensorflow:CAV accuracies: {'random500_7': 1.0, 'random500_3': 1.0, 'overall': 1.0}\n"
          ]
        },
        {
          "name": "stderr",
          "output_type": "stream",
          "text": [
            "INFO:tensorflow:CAV accuracies: {'random500_7': 1.0, 'random500_3': 1.0, 'overall': 1.0}\n"
          ]
        },
        {
          "name": "stdout",
          "output_type": "stream",
          "text": [
            "INFO:tensorflow:Running param 87 of 220\n"
          ]
        },
        {
          "name": "stderr",
          "output_type": "stream",
          "text": [
            "INFO:tensorflow:Running param 87 of 220\n"
          ]
        },
        {
          "name": "stdout",
          "output_type": "stream",
          "text": [
            "INFO:tensorflow:running normal. ['random500_7', 'random500_4']\n"
          ]
        },
        {
          "name": "stderr",
          "output_type": "stream",
          "text": [
            "INFO:tensorflow:running normal. ['random500_7', 'random500_4']\n"
          ]
        },
        {
          "name": "stdout",
          "output_type": "stream",
          "text": [
            "INFO:tensorflow:Loaded ./tcav/tcav_examples/discrete/kdd_sanity2\\activations\\acts_random500_7_dense shape (10, 1000)\n"
          ]
        },
        {
          "name": "stderr",
          "output_type": "stream",
          "text": [
            "INFO:tensorflow:Loaded ./tcav/tcav_examples/discrete/kdd_sanity2\\activations\\acts_random500_7_dense shape (10, 1000)\n"
          ]
        },
        {
          "name": "stdout",
          "output_type": "stream",
          "text": [
            "INFO:tensorflow:Loaded ./tcav/tcav_examples/discrete/kdd_sanity2\\activations\\acts_random500_4_dense shape (10, 1000)\n"
          ]
        },
        {
          "name": "stderr",
          "output_type": "stream",
          "text": [
            "INFO:tensorflow:Loaded ./tcav/tcav_examples/discrete/kdd_sanity2\\activations\\acts_random500_4_dense shape (10, 1000)\n"
          ]
        },
        {
          "name": "stdout",
          "output_type": "stream",
          "text": [
            "INFO:tensorflow:Loaded ./tcav/tcav_examples/discrete/kdd_sanity2\\activations\\acts_normal._dense shape (200, 1000)\n"
          ]
        },
        {
          "name": "stderr",
          "output_type": "stream",
          "text": [
            "INFO:tensorflow:Loaded ./tcav/tcav_examples/discrete/kdd_sanity2\\activations\\acts_normal._dense shape (200, 1000)\n"
          ]
        },
        {
          "name": "stdout",
          "output_type": "stream",
          "text": [
            "INFO:tensorflow:CAV already exists: ./tcav/tcav_examples/discrete/kdd_sanity2\\cav\\random500_7-random500_4-dense-linear-0.01.pkl\n"
          ]
        },
        {
          "name": "stderr",
          "output_type": "stream",
          "text": [
            "INFO:tensorflow:CAV already exists: ./tcav/tcav_examples/discrete/kdd_sanity2\\cav\\random500_7-random500_4-dense-linear-0.01.pkl\n"
          ]
        },
        {
          "name": "stdout",
          "output_type": "stream",
          "text": [
            "INFO:tensorflow:CAV accuracies: {'random500_7': 1.0, 'random500_4': 0.25, 'overall': 0.5714285714285714}\n"
          ]
        },
        {
          "name": "stderr",
          "output_type": "stream",
          "text": [
            "INFO:tensorflow:CAV accuracies: {'random500_7': 1.0, 'random500_4': 0.25, 'overall': 0.5714285714285714}\n"
          ]
        },
        {
          "name": "stdout",
          "output_type": "stream",
          "text": [
            "INFO:tensorflow:Running param 88 of 220\n"
          ]
        },
        {
          "name": "stderr",
          "output_type": "stream",
          "text": [
            "INFO:tensorflow:Running param 88 of 220\n"
          ]
        },
        {
          "name": "stdout",
          "output_type": "stream",
          "text": [
            "INFO:tensorflow:running normal. ['random500_7', 'random500_5']\n"
          ]
        },
        {
          "name": "stderr",
          "output_type": "stream",
          "text": [
            "INFO:tensorflow:running normal. ['random500_7', 'random500_5']\n"
          ]
        },
        {
          "name": "stdout",
          "output_type": "stream",
          "text": [
            "INFO:tensorflow:Loaded ./tcav/tcav_examples/discrete/kdd_sanity2\\activations\\acts_random500_7_dense shape (10, 1000)\n"
          ]
        },
        {
          "name": "stderr",
          "output_type": "stream",
          "text": [
            "INFO:tensorflow:Loaded ./tcav/tcav_examples/discrete/kdd_sanity2\\activations\\acts_random500_7_dense shape (10, 1000)\n"
          ]
        },
        {
          "name": "stdout",
          "output_type": "stream",
          "text": [
            "INFO:tensorflow:Loaded ./tcav/tcav_examples/discrete/kdd_sanity2\\activations\\acts_random500_5_dense shape (10, 1000)\n"
          ]
        },
        {
          "name": "stderr",
          "output_type": "stream",
          "text": [
            "INFO:tensorflow:Loaded ./tcav/tcav_examples/discrete/kdd_sanity2\\activations\\acts_random500_5_dense shape (10, 1000)\n"
          ]
        },
        {
          "name": "stdout",
          "output_type": "stream",
          "text": [
            "INFO:tensorflow:Loaded ./tcav/tcav_examples/discrete/kdd_sanity2\\activations\\acts_normal._dense shape (200, 1000)\n"
          ]
        },
        {
          "name": "stderr",
          "output_type": "stream",
          "text": [
            "INFO:tensorflow:Loaded ./tcav/tcav_examples/discrete/kdd_sanity2\\activations\\acts_normal._dense shape (200, 1000)\n"
          ]
        },
        {
          "name": "stdout",
          "output_type": "stream",
          "text": [
            "INFO:tensorflow:CAV already exists: ./tcav/tcav_examples/discrete/kdd_sanity2\\cav\\random500_7-random500_5-dense-linear-0.01.pkl\n"
          ]
        },
        {
          "name": "stderr",
          "output_type": "stream",
          "text": [
            "INFO:tensorflow:CAV already exists: ./tcav/tcav_examples/discrete/kdd_sanity2\\cav\\random500_7-random500_5-dense-linear-0.01.pkl\n"
          ]
        },
        {
          "name": "stdout",
          "output_type": "stream",
          "text": [
            "INFO:tensorflow:CAV accuracies: {'random500_7': 0.6666666666666666, 'random500_5': 0.5, 'overall': 0.5714285714285714}\n"
          ]
        },
        {
          "name": "stderr",
          "output_type": "stream",
          "text": [
            "INFO:tensorflow:CAV accuracies: {'random500_7': 0.6666666666666666, 'random500_5': 0.5, 'overall': 0.5714285714285714}\n"
          ]
        },
        {
          "name": "stdout",
          "output_type": "stream",
          "text": [
            "INFO:tensorflow:Running param 89 of 220\n"
          ]
        },
        {
          "name": "stderr",
          "output_type": "stream",
          "text": [
            "INFO:tensorflow:Running param 89 of 220\n"
          ]
        },
        {
          "name": "stdout",
          "output_type": "stream",
          "text": [
            "INFO:tensorflow:running normal. ['random500_7', 'random500_6']\n"
          ]
        },
        {
          "name": "stderr",
          "output_type": "stream",
          "text": [
            "INFO:tensorflow:running normal. ['random500_7', 'random500_6']\n"
          ]
        },
        {
          "name": "stdout",
          "output_type": "stream",
          "text": [
            "INFO:tensorflow:Loaded ./tcav/tcav_examples/discrete/kdd_sanity2\\activations\\acts_random500_7_dense shape (10, 1000)\n"
          ]
        },
        {
          "name": "stderr",
          "output_type": "stream",
          "text": [
            "INFO:tensorflow:Loaded ./tcav/tcav_examples/discrete/kdd_sanity2\\activations\\acts_random500_7_dense shape (10, 1000)\n"
          ]
        },
        {
          "name": "stdout",
          "output_type": "stream",
          "text": [
            "INFO:tensorflow:Loaded ./tcav/tcav_examples/discrete/kdd_sanity2\\activations\\acts_random500_6_dense shape (10, 1000)\n"
          ]
        },
        {
          "name": "stderr",
          "output_type": "stream",
          "text": [
            "INFO:tensorflow:Loaded ./tcav/tcav_examples/discrete/kdd_sanity2\\activations\\acts_random500_6_dense shape (10, 1000)\n"
          ]
        },
        {
          "name": "stdout",
          "output_type": "stream",
          "text": [
            "INFO:tensorflow:Loaded ./tcav/tcav_examples/discrete/kdd_sanity2\\activations\\acts_normal._dense shape (200, 1000)\n"
          ]
        },
        {
          "name": "stderr",
          "output_type": "stream",
          "text": [
            "INFO:tensorflow:Loaded ./tcav/tcav_examples/discrete/kdd_sanity2\\activations\\acts_normal._dense shape (200, 1000)\n"
          ]
        },
        {
          "name": "stdout",
          "output_type": "stream",
          "text": [
            "INFO:tensorflow:CAV already exists: ./tcav/tcav_examples/discrete/kdd_sanity2\\cav\\random500_7-random500_6-dense-linear-0.01.pkl\n"
          ]
        },
        {
          "name": "stderr",
          "output_type": "stream",
          "text": [
            "INFO:tensorflow:CAV already exists: ./tcav/tcav_examples/discrete/kdd_sanity2\\cav\\random500_7-random500_6-dense-linear-0.01.pkl\n"
          ]
        },
        {
          "name": "stdout",
          "output_type": "stream",
          "text": [
            "INFO:tensorflow:CAV accuracies: {'random500_7': 0.75, 'random500_6': 0.3333333333333333, 'overall': 0.5714285714285714}\n"
          ]
        },
        {
          "name": "stderr",
          "output_type": "stream",
          "text": [
            "INFO:tensorflow:CAV accuracies: {'random500_7': 0.75, 'random500_6': 0.3333333333333333, 'overall': 0.5714285714285714}\n"
          ]
        },
        {
          "name": "stdout",
          "output_type": "stream",
          "text": [
            "INFO:tensorflow:Running param 90 of 220\n"
          ]
        },
        {
          "name": "stderr",
          "output_type": "stream",
          "text": [
            "INFO:tensorflow:Running param 90 of 220\n"
          ]
        },
        {
          "name": "stdout",
          "output_type": "stream",
          "text": [
            "INFO:tensorflow:running normal. ['random500_7', 'random500_8']\n"
          ]
        },
        {
          "name": "stderr",
          "output_type": "stream",
          "text": [
            "INFO:tensorflow:running normal. ['random500_7', 'random500_8']\n"
          ]
        },
        {
          "name": "stdout",
          "output_type": "stream",
          "text": [
            "INFO:tensorflow:Loaded ./tcav/tcav_examples/discrete/kdd_sanity2\\activations\\acts_random500_7_dense shape (10, 1000)\n"
          ]
        },
        {
          "name": "stderr",
          "output_type": "stream",
          "text": [
            "INFO:tensorflow:Loaded ./tcav/tcav_examples/discrete/kdd_sanity2\\activations\\acts_random500_7_dense shape (10, 1000)\n"
          ]
        },
        {
          "name": "stdout",
          "output_type": "stream",
          "text": [
            "INFO:tensorflow:Loaded ./tcav/tcav_examples/discrete/kdd_sanity2\\activations\\acts_random500_8_dense shape (10, 1000)\n"
          ]
        },
        {
          "name": "stderr",
          "output_type": "stream",
          "text": [
            "INFO:tensorflow:Loaded ./tcav/tcav_examples/discrete/kdd_sanity2\\activations\\acts_random500_8_dense shape (10, 1000)\n"
          ]
        },
        {
          "name": "stdout",
          "output_type": "stream",
          "text": [
            "INFO:tensorflow:Loaded ./tcav/tcav_examples/discrete/kdd_sanity2\\activations\\acts_normal._dense shape (200, 1000)\n"
          ]
        },
        {
          "name": "stderr",
          "output_type": "stream",
          "text": [
            "INFO:tensorflow:Loaded ./tcav/tcav_examples/discrete/kdd_sanity2\\activations\\acts_normal._dense shape (200, 1000)\n"
          ]
        },
        {
          "name": "stdout",
          "output_type": "stream",
          "text": [
            "INFO:tensorflow:CAV already exists: ./tcav/tcav_examples/discrete/kdd_sanity2\\cav\\random500_7-random500_8-dense-linear-0.01.pkl\n"
          ]
        },
        {
          "name": "stderr",
          "output_type": "stream",
          "text": [
            "INFO:tensorflow:CAV already exists: ./tcav/tcav_examples/discrete/kdd_sanity2\\cav\\random500_7-random500_8-dense-linear-0.01.pkl\n"
          ]
        },
        {
          "name": "stdout",
          "output_type": "stream",
          "text": [
            "INFO:tensorflow:CAV accuracies: {'random500_7': 0.5, 'random500_8': 1.0, 'overall': 0.7142857142857143}\n"
          ]
        },
        {
          "name": "stderr",
          "output_type": "stream",
          "text": [
            "INFO:tensorflow:CAV accuracies: {'random500_7': 0.5, 'random500_8': 1.0, 'overall': 0.7142857142857143}\n"
          ]
        },
        {
          "name": "stdout",
          "output_type": "stream",
          "text": [
            "INFO:tensorflow:Running param 91 of 220\n"
          ]
        },
        {
          "name": "stderr",
          "output_type": "stream",
          "text": [
            "INFO:tensorflow:Running param 91 of 220\n"
          ]
        },
        {
          "name": "stdout",
          "output_type": "stream",
          "text": [
            "INFO:tensorflow:running normal. ['random500_7', 'random500_9']\n"
          ]
        },
        {
          "name": "stderr",
          "output_type": "stream",
          "text": [
            "INFO:tensorflow:running normal. ['random500_7', 'random500_9']\n"
          ]
        },
        {
          "name": "stdout",
          "output_type": "stream",
          "text": [
            "INFO:tensorflow:Loaded ./tcav/tcav_examples/discrete/kdd_sanity2\\activations\\acts_random500_7_dense shape (10, 1000)\n"
          ]
        },
        {
          "name": "stderr",
          "output_type": "stream",
          "text": [
            "INFO:tensorflow:Loaded ./tcav/tcav_examples/discrete/kdd_sanity2\\activations\\acts_random500_7_dense shape (10, 1000)\n"
          ]
        },
        {
          "name": "stdout",
          "output_type": "stream",
          "text": [
            "INFO:tensorflow:Loaded ./tcav/tcav_examples/discrete/kdd_sanity2\\activations\\acts_random500_9_dense shape (10, 1000)\n"
          ]
        },
        {
          "name": "stderr",
          "output_type": "stream",
          "text": [
            "INFO:tensorflow:Loaded ./tcav/tcav_examples/discrete/kdd_sanity2\\activations\\acts_random500_9_dense shape (10, 1000)\n"
          ]
        },
        {
          "name": "stdout",
          "output_type": "stream",
          "text": [
            "INFO:tensorflow:Loaded ./tcav/tcav_examples/discrete/kdd_sanity2\\activations\\acts_normal._dense shape (200, 1000)\n"
          ]
        },
        {
          "name": "stderr",
          "output_type": "stream",
          "text": [
            "INFO:tensorflow:Loaded ./tcav/tcav_examples/discrete/kdd_sanity2\\activations\\acts_normal._dense shape (200, 1000)\n"
          ]
        },
        {
          "name": "stdout",
          "output_type": "stream",
          "text": [
            "INFO:tensorflow:CAV already exists: ./tcav/tcav_examples/discrete/kdd_sanity2\\cav\\random500_7-random500_9-dense-linear-0.01.pkl\n"
          ]
        },
        {
          "name": "stderr",
          "output_type": "stream",
          "text": [
            "INFO:tensorflow:CAV already exists: ./tcav/tcav_examples/discrete/kdd_sanity2\\cav\\random500_7-random500_9-dense-linear-0.01.pkl\n"
          ]
        },
        {
          "name": "stdout",
          "output_type": "stream",
          "text": [
            "INFO:tensorflow:CAV accuracies: {'random500_7': 0.3333333333333333, 'random500_9': 1.0, 'overall': 0.7142857142857143}\n"
          ]
        },
        {
          "name": "stderr",
          "output_type": "stream",
          "text": [
            "INFO:tensorflow:CAV accuracies: {'random500_7': 0.3333333333333333, 'random500_9': 1.0, 'overall': 0.7142857142857143}\n"
          ]
        },
        {
          "name": "stdout",
          "output_type": "stream",
          "text": [
            "INFO:tensorflow:Running param 92 of 220\n"
          ]
        },
        {
          "name": "stderr",
          "output_type": "stream",
          "text": [
            "INFO:tensorflow:Running param 92 of 220\n"
          ]
        },
        {
          "name": "stdout",
          "output_type": "stream",
          "text": [
            "INFO:tensorflow:running normal. ['random500_8', 'random500_0']\n"
          ]
        },
        {
          "name": "stderr",
          "output_type": "stream",
          "text": [
            "INFO:tensorflow:running normal. ['random500_8', 'random500_0']\n"
          ]
        },
        {
          "name": "stdout",
          "output_type": "stream",
          "text": [
            "INFO:tensorflow:Loaded ./tcav/tcav_examples/discrete/kdd_sanity2\\activations\\acts_random500_8_dense shape (10, 1000)\n"
          ]
        },
        {
          "name": "stderr",
          "output_type": "stream",
          "text": [
            "INFO:tensorflow:Loaded ./tcav/tcav_examples/discrete/kdd_sanity2\\activations\\acts_random500_8_dense shape (10, 1000)\n"
          ]
        },
        {
          "name": "stdout",
          "output_type": "stream",
          "text": [
            "INFO:tensorflow:Loaded ./tcav/tcav_examples/discrete/kdd_sanity2\\activations\\acts_random500_0_dense shape (10, 1000)\n"
          ]
        },
        {
          "name": "stderr",
          "output_type": "stream",
          "text": [
            "INFO:tensorflow:Loaded ./tcav/tcav_examples/discrete/kdd_sanity2\\activations\\acts_random500_0_dense shape (10, 1000)\n"
          ]
        },
        {
          "name": "stdout",
          "output_type": "stream",
          "text": [
            "INFO:tensorflow:Loaded ./tcav/tcav_examples/discrete/kdd_sanity2\\activations\\acts_normal._dense shape (200, 1000)\n"
          ]
        },
        {
          "name": "stderr",
          "output_type": "stream",
          "text": [
            "INFO:tensorflow:Loaded ./tcav/tcav_examples/discrete/kdd_sanity2\\activations\\acts_normal._dense shape (200, 1000)\n"
          ]
        },
        {
          "name": "stdout",
          "output_type": "stream",
          "text": [
            "INFO:tensorflow:CAV already exists: ./tcav/tcav_examples/discrete/kdd_sanity2\\cav\\random500_8-random500_0-dense-linear-0.01.pkl\n"
          ]
        },
        {
          "name": "stderr",
          "output_type": "stream",
          "text": [
            "INFO:tensorflow:CAV already exists: ./tcav/tcav_examples/discrete/kdd_sanity2\\cav\\random500_8-random500_0-dense-linear-0.01.pkl\n"
          ]
        },
        {
          "name": "stdout",
          "output_type": "stream",
          "text": [
            "INFO:tensorflow:CAV accuracies: {'random500_8': 0.25, 'random500_0': 1.0, 'overall': 0.5714285714285714}\n"
          ]
        },
        {
          "name": "stderr",
          "output_type": "stream",
          "text": [
            "INFO:tensorflow:CAV accuracies: {'random500_8': 0.25, 'random500_0': 1.0, 'overall': 0.5714285714285714}\n"
          ]
        },
        {
          "name": "stdout",
          "output_type": "stream",
          "text": [
            "INFO:tensorflow:Running param 93 of 220\n"
          ]
        },
        {
          "name": "stderr",
          "output_type": "stream",
          "text": [
            "INFO:tensorflow:Running param 93 of 220\n"
          ]
        },
        {
          "name": "stdout",
          "output_type": "stream",
          "text": [
            "INFO:tensorflow:running normal. ['random500_8', 'random500_1']\n"
          ]
        },
        {
          "name": "stderr",
          "output_type": "stream",
          "text": [
            "INFO:tensorflow:running normal. ['random500_8', 'random500_1']\n"
          ]
        },
        {
          "name": "stdout",
          "output_type": "stream",
          "text": [
            "INFO:tensorflow:Loaded ./tcav/tcav_examples/discrete/kdd_sanity2\\activations\\acts_random500_8_dense shape (10, 1000)\n"
          ]
        },
        {
          "name": "stderr",
          "output_type": "stream",
          "text": [
            "INFO:tensorflow:Loaded ./tcav/tcav_examples/discrete/kdd_sanity2\\activations\\acts_random500_8_dense shape (10, 1000)\n"
          ]
        },
        {
          "name": "stdout",
          "output_type": "stream",
          "text": [
            "INFO:tensorflow:Loaded ./tcav/tcav_examples/discrete/kdd_sanity2\\activations\\acts_random500_1_dense shape (10, 1000)\n"
          ]
        },
        {
          "name": "stderr",
          "output_type": "stream",
          "text": [
            "INFO:tensorflow:Loaded ./tcav/tcav_examples/discrete/kdd_sanity2\\activations\\acts_random500_1_dense shape (10, 1000)\n"
          ]
        },
        {
          "name": "stdout",
          "output_type": "stream",
          "text": [
            "INFO:tensorflow:Loaded ./tcav/tcav_examples/discrete/kdd_sanity2\\activations\\acts_normal._dense shape (200, 1000)\n"
          ]
        },
        {
          "name": "stderr",
          "output_type": "stream",
          "text": [
            "INFO:tensorflow:Loaded ./tcav/tcav_examples/discrete/kdd_sanity2\\activations\\acts_normal._dense shape (200, 1000)\n"
          ]
        },
        {
          "name": "stdout",
          "output_type": "stream",
          "text": [
            "INFO:tensorflow:CAV already exists: ./tcav/tcav_examples/discrete/kdd_sanity2\\cav\\random500_8-random500_1-dense-linear-0.01.pkl\n"
          ]
        },
        {
          "name": "stderr",
          "output_type": "stream",
          "text": [
            "INFO:tensorflow:CAV already exists: ./tcav/tcav_examples/discrete/kdd_sanity2\\cav\\random500_8-random500_1-dense-linear-0.01.pkl\n"
          ]
        },
        {
          "name": "stdout",
          "output_type": "stream",
          "text": [
            "INFO:tensorflow:CAV accuracies: {'random500_8': 1.0, 'random500_1': 0.0, 'overall': 0.42857142857142855}\n"
          ]
        },
        {
          "name": "stderr",
          "output_type": "stream",
          "text": [
            "INFO:tensorflow:CAV accuracies: {'random500_8': 1.0, 'random500_1': 0.0, 'overall': 0.42857142857142855}\n"
          ]
        },
        {
          "name": "stdout",
          "output_type": "stream",
          "text": [
            "INFO:tensorflow:Running param 94 of 220\n"
          ]
        },
        {
          "name": "stderr",
          "output_type": "stream",
          "text": [
            "INFO:tensorflow:Running param 94 of 220\n"
          ]
        },
        {
          "name": "stdout",
          "output_type": "stream",
          "text": [
            "INFO:tensorflow:running normal. ['random500_8', 'random500_2']\n"
          ]
        },
        {
          "name": "stderr",
          "output_type": "stream",
          "text": [
            "INFO:tensorflow:running normal. ['random500_8', 'random500_2']\n"
          ]
        },
        {
          "name": "stdout",
          "output_type": "stream",
          "text": [
            "INFO:tensorflow:Loaded ./tcav/tcav_examples/discrete/kdd_sanity2\\activations\\acts_random500_8_dense shape (10, 1000)\n"
          ]
        },
        {
          "name": "stderr",
          "output_type": "stream",
          "text": [
            "INFO:tensorflow:Loaded ./tcav/tcav_examples/discrete/kdd_sanity2\\activations\\acts_random500_8_dense shape (10, 1000)\n"
          ]
        },
        {
          "name": "stdout",
          "output_type": "stream",
          "text": [
            "INFO:tensorflow:Loaded ./tcav/tcav_examples/discrete/kdd_sanity2\\activations\\acts_random500_2_dense shape (10, 1000)\n"
          ]
        },
        {
          "name": "stderr",
          "output_type": "stream",
          "text": [
            "INFO:tensorflow:Loaded ./tcav/tcav_examples/discrete/kdd_sanity2\\activations\\acts_random500_2_dense shape (10, 1000)\n"
          ]
        },
        {
          "name": "stdout",
          "output_type": "stream",
          "text": [
            "INFO:tensorflow:Loaded ./tcav/tcav_examples/discrete/kdd_sanity2\\activations\\acts_normal._dense shape (200, 1000)\n"
          ]
        },
        {
          "name": "stderr",
          "output_type": "stream",
          "text": [
            "INFO:tensorflow:Loaded ./tcav/tcav_examples/discrete/kdd_sanity2\\activations\\acts_normal._dense shape (200, 1000)\n"
          ]
        },
        {
          "name": "stdout",
          "output_type": "stream",
          "text": [
            "INFO:tensorflow:CAV already exists: ./tcav/tcav_examples/discrete/kdd_sanity2\\cav\\random500_8-random500_2-dense-linear-0.01.pkl\n"
          ]
        },
        {
          "name": "stderr",
          "output_type": "stream",
          "text": [
            "INFO:tensorflow:CAV already exists: ./tcav/tcav_examples/discrete/kdd_sanity2\\cav\\random500_8-random500_2-dense-linear-0.01.pkl\n"
          ]
        },
        {
          "name": "stdout",
          "output_type": "stream",
          "text": [
            "INFO:tensorflow:CAV accuracies: {'random500_8': 0.6666666666666666, 'random500_2': 0.75, 'overall': 0.7142857142857143}\n"
          ]
        },
        {
          "name": "stderr",
          "output_type": "stream",
          "text": [
            "INFO:tensorflow:CAV accuracies: {'random500_8': 0.6666666666666666, 'random500_2': 0.75, 'overall': 0.7142857142857143}\n"
          ]
        },
        {
          "name": "stdout",
          "output_type": "stream",
          "text": [
            "INFO:tensorflow:Running param 95 of 220\n"
          ]
        },
        {
          "name": "stderr",
          "output_type": "stream",
          "text": [
            "INFO:tensorflow:Running param 95 of 220\n"
          ]
        },
        {
          "name": "stdout",
          "output_type": "stream",
          "text": [
            "INFO:tensorflow:running normal. ['random500_8', 'random500_3']\n"
          ]
        },
        {
          "name": "stderr",
          "output_type": "stream",
          "text": [
            "INFO:tensorflow:running normal. ['random500_8', 'random500_3']\n"
          ]
        },
        {
          "name": "stdout",
          "output_type": "stream",
          "text": [
            "INFO:tensorflow:Loaded ./tcav/tcav_examples/discrete/kdd_sanity2\\activations\\acts_random500_8_dense shape (10, 1000)\n"
          ]
        },
        {
          "name": "stderr",
          "output_type": "stream",
          "text": [
            "INFO:tensorflow:Loaded ./tcav/tcav_examples/discrete/kdd_sanity2\\activations\\acts_random500_8_dense shape (10, 1000)\n"
          ]
        },
        {
          "name": "stdout",
          "output_type": "stream",
          "text": [
            "INFO:tensorflow:Loaded ./tcav/tcav_examples/discrete/kdd_sanity2\\activations\\acts_random500_3_dense shape (10, 1000)\n"
          ]
        },
        {
          "name": "stderr",
          "output_type": "stream",
          "text": [
            "INFO:tensorflow:Loaded ./tcav/tcav_examples/discrete/kdd_sanity2\\activations\\acts_random500_3_dense shape (10, 1000)\n"
          ]
        },
        {
          "name": "stdout",
          "output_type": "stream",
          "text": [
            "INFO:tensorflow:Loaded ./tcav/tcav_examples/discrete/kdd_sanity2\\activations\\acts_normal._dense shape (200, 1000)\n"
          ]
        },
        {
          "name": "stderr",
          "output_type": "stream",
          "text": [
            "INFO:tensorflow:Loaded ./tcav/tcav_examples/discrete/kdd_sanity2\\activations\\acts_normal._dense shape (200, 1000)\n"
          ]
        },
        {
          "name": "stdout",
          "output_type": "stream",
          "text": [
            "INFO:tensorflow:CAV already exists: ./tcav/tcav_examples/discrete/kdd_sanity2\\cav\\random500_8-random500_3-dense-linear-0.01.pkl\n"
          ]
        },
        {
          "name": "stderr",
          "output_type": "stream",
          "text": [
            "INFO:tensorflow:CAV already exists: ./tcav/tcav_examples/discrete/kdd_sanity2\\cav\\random500_8-random500_3-dense-linear-0.01.pkl\n"
          ]
        },
        {
          "name": "stdout",
          "output_type": "stream",
          "text": [
            "INFO:tensorflow:CAV accuracies: {'random500_8': 0.75, 'random500_3': 0.0, 'overall': 0.42857142857142855}\n"
          ]
        },
        {
          "name": "stderr",
          "output_type": "stream",
          "text": [
            "INFO:tensorflow:CAV accuracies: {'random500_8': 0.75, 'random500_3': 0.0, 'overall': 0.42857142857142855}\n"
          ]
        },
        {
          "name": "stdout",
          "output_type": "stream",
          "text": [
            "INFO:tensorflow:Running param 96 of 220\n"
          ]
        },
        {
          "name": "stderr",
          "output_type": "stream",
          "text": [
            "INFO:tensorflow:Running param 96 of 220\n"
          ]
        },
        {
          "name": "stdout",
          "output_type": "stream",
          "text": [
            "INFO:tensorflow:running normal. ['random500_8', 'random500_4']\n"
          ]
        },
        {
          "name": "stderr",
          "output_type": "stream",
          "text": [
            "INFO:tensorflow:running normal. ['random500_8', 'random500_4']\n"
          ]
        },
        {
          "name": "stdout",
          "output_type": "stream",
          "text": [
            "INFO:tensorflow:Loaded ./tcav/tcav_examples/discrete/kdd_sanity2\\activations\\acts_random500_8_dense shape (10, 1000)\n"
          ]
        },
        {
          "name": "stderr",
          "output_type": "stream",
          "text": [
            "INFO:tensorflow:Loaded ./tcav/tcav_examples/discrete/kdd_sanity2\\activations\\acts_random500_8_dense shape (10, 1000)\n"
          ]
        },
        {
          "name": "stdout",
          "output_type": "stream",
          "text": [
            "INFO:tensorflow:Loaded ./tcav/tcav_examples/discrete/kdd_sanity2\\activations\\acts_random500_4_dense shape (10, 1000)\n"
          ]
        },
        {
          "name": "stderr",
          "output_type": "stream",
          "text": [
            "INFO:tensorflow:Loaded ./tcav/tcav_examples/discrete/kdd_sanity2\\activations\\acts_random500_4_dense shape (10, 1000)\n"
          ]
        },
        {
          "name": "stdout",
          "output_type": "stream",
          "text": [
            "INFO:tensorflow:Loaded ./tcav/tcav_examples/discrete/kdd_sanity2\\activations\\acts_normal._dense shape (200, 1000)\n"
          ]
        },
        {
          "name": "stderr",
          "output_type": "stream",
          "text": [
            "INFO:tensorflow:Loaded ./tcav/tcav_examples/discrete/kdd_sanity2\\activations\\acts_normal._dense shape (200, 1000)\n"
          ]
        },
        {
          "name": "stdout",
          "output_type": "stream",
          "text": [
            "INFO:tensorflow:CAV already exists: ./tcav/tcav_examples/discrete/kdd_sanity2\\cav\\random500_8-random500_4-dense-linear-0.01.pkl\n"
          ]
        },
        {
          "name": "stderr",
          "output_type": "stream",
          "text": [
            "INFO:tensorflow:CAV already exists: ./tcav/tcav_examples/discrete/kdd_sanity2\\cav\\random500_8-random500_4-dense-linear-0.01.pkl\n"
          ]
        },
        {
          "name": "stdout",
          "output_type": "stream",
          "text": [
            "INFO:tensorflow:CAV accuracies: {'random500_8': 0.6666666666666666, 'random500_4': 0.5, 'overall': 0.5714285714285714}\n"
          ]
        },
        {
          "name": "stderr",
          "output_type": "stream",
          "text": [
            "INFO:tensorflow:CAV accuracies: {'random500_8': 0.6666666666666666, 'random500_4': 0.5, 'overall': 0.5714285714285714}\n"
          ]
        },
        {
          "name": "stdout",
          "output_type": "stream",
          "text": [
            "INFO:tensorflow:Running param 97 of 220\n"
          ]
        },
        {
          "name": "stderr",
          "output_type": "stream",
          "text": [
            "INFO:tensorflow:Running param 97 of 220\n"
          ]
        },
        {
          "name": "stdout",
          "output_type": "stream",
          "text": [
            "INFO:tensorflow:running normal. ['random500_8', 'random500_5']\n"
          ]
        },
        {
          "name": "stderr",
          "output_type": "stream",
          "text": [
            "INFO:tensorflow:running normal. ['random500_8', 'random500_5']\n"
          ]
        },
        {
          "name": "stdout",
          "output_type": "stream",
          "text": [
            "INFO:tensorflow:Loaded ./tcav/tcav_examples/discrete/kdd_sanity2\\activations\\acts_random500_8_dense shape (10, 1000)\n"
          ]
        },
        {
          "name": "stderr",
          "output_type": "stream",
          "text": [
            "INFO:tensorflow:Loaded ./tcav/tcav_examples/discrete/kdd_sanity2\\activations\\acts_random500_8_dense shape (10, 1000)\n"
          ]
        },
        {
          "name": "stdout",
          "output_type": "stream",
          "text": [
            "INFO:tensorflow:Loaded ./tcav/tcav_examples/discrete/kdd_sanity2\\activations\\acts_random500_5_dense shape (10, 1000)\n"
          ]
        },
        {
          "name": "stderr",
          "output_type": "stream",
          "text": [
            "INFO:tensorflow:Loaded ./tcav/tcav_examples/discrete/kdd_sanity2\\activations\\acts_random500_5_dense shape (10, 1000)\n"
          ]
        },
        {
          "name": "stdout",
          "output_type": "stream",
          "text": [
            "INFO:tensorflow:Loaded ./tcav/tcav_examples/discrete/kdd_sanity2\\activations\\acts_normal._dense shape (200, 1000)\n"
          ]
        },
        {
          "name": "stderr",
          "output_type": "stream",
          "text": [
            "INFO:tensorflow:Loaded ./tcav/tcav_examples/discrete/kdd_sanity2\\activations\\acts_normal._dense shape (200, 1000)\n"
          ]
        },
        {
          "name": "stdout",
          "output_type": "stream",
          "text": [
            "INFO:tensorflow:CAV already exists: ./tcav/tcav_examples/discrete/kdd_sanity2\\cav\\random500_8-random500_5-dense-linear-0.01.pkl\n"
          ]
        },
        {
          "name": "stderr",
          "output_type": "stream",
          "text": [
            "INFO:tensorflow:CAV already exists: ./tcav/tcav_examples/discrete/kdd_sanity2\\cav\\random500_8-random500_5-dense-linear-0.01.pkl\n"
          ]
        },
        {
          "name": "stdout",
          "output_type": "stream",
          "text": [
            "INFO:tensorflow:CAV accuracies: {'random500_8': 0.6666666666666666, 'random500_5': 0.75, 'overall': 0.7142857142857143}\n"
          ]
        },
        {
          "name": "stderr",
          "output_type": "stream",
          "text": [
            "INFO:tensorflow:CAV accuracies: {'random500_8': 0.6666666666666666, 'random500_5': 0.75, 'overall': 0.7142857142857143}\n"
          ]
        },
        {
          "name": "stdout",
          "output_type": "stream",
          "text": [
            "INFO:tensorflow:Running param 98 of 220\n"
          ]
        },
        {
          "name": "stderr",
          "output_type": "stream",
          "text": [
            "INFO:tensorflow:Running param 98 of 220\n"
          ]
        },
        {
          "name": "stdout",
          "output_type": "stream",
          "text": [
            "INFO:tensorflow:running normal. ['random500_8', 'random500_6']\n"
          ]
        },
        {
          "name": "stderr",
          "output_type": "stream",
          "text": [
            "INFO:tensorflow:running normal. ['random500_8', 'random500_6']\n"
          ]
        },
        {
          "name": "stdout",
          "output_type": "stream",
          "text": [
            "INFO:tensorflow:Loaded ./tcav/tcav_examples/discrete/kdd_sanity2\\activations\\acts_random500_8_dense shape (10, 1000)\n"
          ]
        },
        {
          "name": "stderr",
          "output_type": "stream",
          "text": [
            "INFO:tensorflow:Loaded ./tcav/tcav_examples/discrete/kdd_sanity2\\activations\\acts_random500_8_dense shape (10, 1000)\n"
          ]
        },
        {
          "name": "stdout",
          "output_type": "stream",
          "text": [
            "INFO:tensorflow:Loaded ./tcav/tcav_examples/discrete/kdd_sanity2\\activations\\acts_random500_6_dense shape (10, 1000)\n"
          ]
        },
        {
          "name": "stderr",
          "output_type": "stream",
          "text": [
            "INFO:tensorflow:Loaded ./tcav/tcav_examples/discrete/kdd_sanity2\\activations\\acts_random500_6_dense shape (10, 1000)\n"
          ]
        },
        {
          "name": "stdout",
          "output_type": "stream",
          "text": [
            "INFO:tensorflow:Loaded ./tcav/tcav_examples/discrete/kdd_sanity2\\activations\\acts_normal._dense shape (200, 1000)\n"
          ]
        },
        {
          "name": "stderr",
          "output_type": "stream",
          "text": [
            "INFO:tensorflow:Loaded ./tcav/tcav_examples/discrete/kdd_sanity2\\activations\\acts_normal._dense shape (200, 1000)\n"
          ]
        },
        {
          "name": "stdout",
          "output_type": "stream",
          "text": [
            "INFO:tensorflow:CAV already exists: ./tcav/tcav_examples/discrete/kdd_sanity2\\cav\\random500_8-random500_6-dense-linear-0.01.pkl\n"
          ]
        },
        {
          "name": "stderr",
          "output_type": "stream",
          "text": [
            "INFO:tensorflow:CAV already exists: ./tcav/tcav_examples/discrete/kdd_sanity2\\cav\\random500_8-random500_6-dense-linear-0.01.pkl\n"
          ]
        },
        {
          "name": "stdout",
          "output_type": "stream",
          "text": [
            "INFO:tensorflow:CAV accuracies: {'random500_8': 0.75, 'random500_6': 0.0, 'overall': 0.42857142857142855}\n"
          ]
        },
        {
          "name": "stderr",
          "output_type": "stream",
          "text": [
            "INFO:tensorflow:CAV accuracies: {'random500_8': 0.75, 'random500_6': 0.0, 'overall': 0.42857142857142855}\n"
          ]
        },
        {
          "name": "stdout",
          "output_type": "stream",
          "text": [
            "INFO:tensorflow:Running param 99 of 220\n"
          ]
        },
        {
          "name": "stderr",
          "output_type": "stream",
          "text": [
            "INFO:tensorflow:Running param 99 of 220\n"
          ]
        },
        {
          "name": "stdout",
          "output_type": "stream",
          "text": [
            "INFO:tensorflow:running normal. ['random500_8', 'random500_7']\n"
          ]
        },
        {
          "name": "stderr",
          "output_type": "stream",
          "text": [
            "INFO:tensorflow:running normal. ['random500_8', 'random500_7']\n"
          ]
        },
        {
          "name": "stdout",
          "output_type": "stream",
          "text": [
            "INFO:tensorflow:Loaded ./tcav/tcav_examples/discrete/kdd_sanity2\\activations\\acts_random500_8_dense shape (10, 1000)\n"
          ]
        },
        {
          "name": "stderr",
          "output_type": "stream",
          "text": [
            "INFO:tensorflow:Loaded ./tcav/tcav_examples/discrete/kdd_sanity2\\activations\\acts_random500_8_dense shape (10, 1000)\n"
          ]
        },
        {
          "name": "stdout",
          "output_type": "stream",
          "text": [
            "INFO:tensorflow:Loaded ./tcav/tcav_examples/discrete/kdd_sanity2\\activations\\acts_random500_7_dense shape (10, 1000)\n"
          ]
        },
        {
          "name": "stderr",
          "output_type": "stream",
          "text": [
            "INFO:tensorflow:Loaded ./tcav/tcav_examples/discrete/kdd_sanity2\\activations\\acts_random500_7_dense shape (10, 1000)\n"
          ]
        },
        {
          "name": "stdout",
          "output_type": "stream",
          "text": [
            "INFO:tensorflow:Loaded ./tcav/tcav_examples/discrete/kdd_sanity2\\activations\\acts_normal._dense shape (200, 1000)\n"
          ]
        },
        {
          "name": "stderr",
          "output_type": "stream",
          "text": [
            "INFO:tensorflow:Loaded ./tcav/tcav_examples/discrete/kdd_sanity2\\activations\\acts_normal._dense shape (200, 1000)\n"
          ]
        },
        {
          "name": "stdout",
          "output_type": "stream",
          "text": [
            "INFO:tensorflow:CAV already exists: ./tcav/tcav_examples/discrete/kdd_sanity2\\cav\\random500_8-random500_7-dense-linear-0.01.pkl\n"
          ]
        },
        {
          "name": "stderr",
          "output_type": "stream",
          "text": [
            "INFO:tensorflow:CAV already exists: ./tcav/tcav_examples/discrete/kdd_sanity2\\cav\\random500_8-random500_7-dense-linear-0.01.pkl\n"
          ]
        },
        {
          "name": "stdout",
          "output_type": "stream",
          "text": [
            "INFO:tensorflow:CAV accuracies: {'random500_8': 0.75, 'random500_7': 0.6666666666666666, 'overall': 0.7142857142857143}\n"
          ]
        },
        {
          "name": "stderr",
          "output_type": "stream",
          "text": [
            "INFO:tensorflow:CAV accuracies: {'random500_8': 0.75, 'random500_7': 0.6666666666666666, 'overall': 0.7142857142857143}\n"
          ]
        },
        {
          "name": "stdout",
          "output_type": "stream",
          "text": [
            "INFO:tensorflow:Running param 100 of 220\n"
          ]
        },
        {
          "name": "stderr",
          "output_type": "stream",
          "text": [
            "INFO:tensorflow:Running param 100 of 220\n"
          ]
        },
        {
          "name": "stdout",
          "output_type": "stream",
          "text": [
            "INFO:tensorflow:running normal. ['random500_8', 'random500_9']\n"
          ]
        },
        {
          "name": "stderr",
          "output_type": "stream",
          "text": [
            "INFO:tensorflow:running normal. ['random500_8', 'random500_9']\n"
          ]
        },
        {
          "name": "stdout",
          "output_type": "stream",
          "text": [
            "INFO:tensorflow:Loaded ./tcav/tcav_examples/discrete/kdd_sanity2\\activations\\acts_random500_8_dense shape (10, 1000)\n"
          ]
        },
        {
          "name": "stderr",
          "output_type": "stream",
          "text": [
            "INFO:tensorflow:Loaded ./tcav/tcav_examples/discrete/kdd_sanity2\\activations\\acts_random500_8_dense shape (10, 1000)\n"
          ]
        },
        {
          "name": "stdout",
          "output_type": "stream",
          "text": [
            "INFO:tensorflow:Loaded ./tcav/tcav_examples/discrete/kdd_sanity2\\activations\\acts_random500_9_dense shape (10, 1000)\n"
          ]
        },
        {
          "name": "stderr",
          "output_type": "stream",
          "text": [
            "INFO:tensorflow:Loaded ./tcav/tcav_examples/discrete/kdd_sanity2\\activations\\acts_random500_9_dense shape (10, 1000)\n"
          ]
        },
        {
          "name": "stdout",
          "output_type": "stream",
          "text": [
            "INFO:tensorflow:Loaded ./tcav/tcav_examples/discrete/kdd_sanity2\\activations\\acts_normal._dense shape (200, 1000)\n"
          ]
        },
        {
          "name": "stderr",
          "output_type": "stream",
          "text": [
            "INFO:tensorflow:Loaded ./tcav/tcav_examples/discrete/kdd_sanity2\\activations\\acts_normal._dense shape (200, 1000)\n"
          ]
        },
        {
          "name": "stdout",
          "output_type": "stream",
          "text": [
            "INFO:tensorflow:CAV already exists: ./tcav/tcav_examples/discrete/kdd_sanity2\\cav\\random500_8-random500_9-dense-linear-0.01.pkl\n"
          ]
        },
        {
          "name": "stderr",
          "output_type": "stream",
          "text": [
            "INFO:tensorflow:CAV already exists: ./tcav/tcav_examples/discrete/kdd_sanity2\\cav\\random500_8-random500_9-dense-linear-0.01.pkl\n"
          ]
        },
        {
          "name": "stdout",
          "output_type": "stream",
          "text": [
            "INFO:tensorflow:CAV accuracies: {'random500_8': 0.6666666666666666, 'random500_9': 1.0, 'overall': 0.8571428571428571}\n"
          ]
        },
        {
          "name": "stderr",
          "output_type": "stream",
          "text": [
            "INFO:tensorflow:CAV accuracies: {'random500_8': 0.6666666666666666, 'random500_9': 1.0, 'overall': 0.8571428571428571}\n"
          ]
        },
        {
          "name": "stdout",
          "output_type": "stream",
          "text": [
            "INFO:tensorflow:Running param 101 of 220\n"
          ]
        },
        {
          "name": "stderr",
          "output_type": "stream",
          "text": [
            "INFO:tensorflow:Running param 101 of 220\n"
          ]
        },
        {
          "name": "stdout",
          "output_type": "stream",
          "text": [
            "INFO:tensorflow:running normal. ['random500_9', 'random500_0']\n"
          ]
        },
        {
          "name": "stderr",
          "output_type": "stream",
          "text": [
            "INFO:tensorflow:running normal. ['random500_9', 'random500_0']\n"
          ]
        },
        {
          "name": "stdout",
          "output_type": "stream",
          "text": [
            "INFO:tensorflow:Loaded ./tcav/tcav_examples/discrete/kdd_sanity2\\activations\\acts_random500_9_dense shape (10, 1000)\n"
          ]
        },
        {
          "name": "stderr",
          "output_type": "stream",
          "text": [
            "INFO:tensorflow:Loaded ./tcav/tcav_examples/discrete/kdd_sanity2\\activations\\acts_random500_9_dense shape (10, 1000)\n"
          ]
        },
        {
          "name": "stdout",
          "output_type": "stream",
          "text": [
            "INFO:tensorflow:Loaded ./tcav/tcav_examples/discrete/kdd_sanity2\\activations\\acts_random500_0_dense shape (10, 1000)\n"
          ]
        },
        {
          "name": "stderr",
          "output_type": "stream",
          "text": [
            "INFO:tensorflow:Loaded ./tcav/tcav_examples/discrete/kdd_sanity2\\activations\\acts_random500_0_dense shape (10, 1000)\n"
          ]
        },
        {
          "name": "stdout",
          "output_type": "stream",
          "text": [
            "INFO:tensorflow:Loaded ./tcav/tcav_examples/discrete/kdd_sanity2\\activations\\acts_normal._dense shape (200, 1000)\n"
          ]
        },
        {
          "name": "stderr",
          "output_type": "stream",
          "text": [
            "INFO:tensorflow:Loaded ./tcav/tcav_examples/discrete/kdd_sanity2\\activations\\acts_normal._dense shape (200, 1000)\n"
          ]
        },
        {
          "name": "stdout",
          "output_type": "stream",
          "text": [
            "INFO:tensorflow:CAV already exists: ./tcav/tcav_examples/discrete/kdd_sanity2\\cav\\random500_9-random500_0-dense-linear-0.01.pkl\n"
          ]
        },
        {
          "name": "stderr",
          "output_type": "stream",
          "text": [
            "INFO:tensorflow:CAV already exists: ./tcav/tcav_examples/discrete/kdd_sanity2\\cav\\random500_9-random500_0-dense-linear-0.01.pkl\n"
          ]
        },
        {
          "name": "stdout",
          "output_type": "stream",
          "text": [
            "INFO:tensorflow:CAV accuracies: {'random500_9': 0.0, 'random500_0': 1.0, 'overall': 0.42857142857142855}\n"
          ]
        },
        {
          "name": "stderr",
          "output_type": "stream",
          "text": [
            "INFO:tensorflow:CAV accuracies: {'random500_9': 0.0, 'random500_0': 1.0, 'overall': 0.42857142857142855}\n"
          ]
        },
        {
          "name": "stdout",
          "output_type": "stream",
          "text": [
            "INFO:tensorflow:Running param 102 of 220\n"
          ]
        },
        {
          "name": "stderr",
          "output_type": "stream",
          "text": [
            "INFO:tensorflow:Running param 102 of 220\n"
          ]
        },
        {
          "name": "stdout",
          "output_type": "stream",
          "text": [
            "INFO:tensorflow:running normal. ['random500_9', 'random500_1']\n"
          ]
        },
        {
          "name": "stderr",
          "output_type": "stream",
          "text": [
            "INFO:tensorflow:running normal. ['random500_9', 'random500_1']\n"
          ]
        },
        {
          "name": "stdout",
          "output_type": "stream",
          "text": [
            "INFO:tensorflow:Loaded ./tcav/tcav_examples/discrete/kdd_sanity2\\activations\\acts_random500_9_dense shape (10, 1000)\n"
          ]
        },
        {
          "name": "stderr",
          "output_type": "stream",
          "text": [
            "INFO:tensorflow:Loaded ./tcav/tcav_examples/discrete/kdd_sanity2\\activations\\acts_random500_9_dense shape (10, 1000)\n"
          ]
        },
        {
          "name": "stdout",
          "output_type": "stream",
          "text": [
            "INFO:tensorflow:Loaded ./tcav/tcav_examples/discrete/kdd_sanity2\\activations\\acts_random500_1_dense shape (10, 1000)\n"
          ]
        },
        {
          "name": "stderr",
          "output_type": "stream",
          "text": [
            "INFO:tensorflow:Loaded ./tcav/tcav_examples/discrete/kdd_sanity2\\activations\\acts_random500_1_dense shape (10, 1000)\n"
          ]
        },
        {
          "name": "stdout",
          "output_type": "stream",
          "text": [
            "INFO:tensorflow:Loaded ./tcav/tcav_examples/discrete/kdd_sanity2\\activations\\acts_normal._dense shape (200, 1000)\n"
          ]
        },
        {
          "name": "stderr",
          "output_type": "stream",
          "text": [
            "INFO:tensorflow:Loaded ./tcav/tcav_examples/discrete/kdd_sanity2\\activations\\acts_normal._dense shape (200, 1000)\n"
          ]
        },
        {
          "name": "stdout",
          "output_type": "stream",
          "text": [
            "INFO:tensorflow:CAV already exists: ./tcav/tcav_examples/discrete/kdd_sanity2\\cav\\random500_9-random500_1-dense-linear-0.01.pkl\n"
          ]
        },
        {
          "name": "stderr",
          "output_type": "stream",
          "text": [
            "INFO:tensorflow:CAV already exists: ./tcav/tcav_examples/discrete/kdd_sanity2\\cav\\random500_9-random500_1-dense-linear-0.01.pkl\n"
          ]
        },
        {
          "name": "stdout",
          "output_type": "stream",
          "text": [
            "INFO:tensorflow:CAV accuracies: {'random500_9': 0.25, 'random500_1': 0.3333333333333333, 'overall': 0.2857142857142857}\n"
          ]
        },
        {
          "name": "stderr",
          "output_type": "stream",
          "text": [
            "INFO:tensorflow:CAV accuracies: {'random500_9': 0.25, 'random500_1': 0.3333333333333333, 'overall': 0.2857142857142857}\n"
          ]
        },
        {
          "name": "stdout",
          "output_type": "stream",
          "text": [
            "INFO:tensorflow:Running param 103 of 220\n"
          ]
        },
        {
          "name": "stderr",
          "output_type": "stream",
          "text": [
            "INFO:tensorflow:Running param 103 of 220\n"
          ]
        },
        {
          "name": "stdout",
          "output_type": "stream",
          "text": [
            "INFO:tensorflow:running normal. ['random500_9', 'random500_2']\n"
          ]
        },
        {
          "name": "stderr",
          "output_type": "stream",
          "text": [
            "INFO:tensorflow:running normal. ['random500_9', 'random500_2']\n"
          ]
        },
        {
          "name": "stdout",
          "output_type": "stream",
          "text": [
            "INFO:tensorflow:Loaded ./tcav/tcav_examples/discrete/kdd_sanity2\\activations\\acts_random500_9_dense shape (10, 1000)\n"
          ]
        },
        {
          "name": "stderr",
          "output_type": "stream",
          "text": [
            "INFO:tensorflow:Loaded ./tcav/tcav_examples/discrete/kdd_sanity2\\activations\\acts_random500_9_dense shape (10, 1000)\n"
          ]
        },
        {
          "name": "stdout",
          "output_type": "stream",
          "text": [
            "INFO:tensorflow:Loaded ./tcav/tcav_examples/discrete/kdd_sanity2\\activations\\acts_random500_2_dense shape (10, 1000)\n"
          ]
        },
        {
          "name": "stderr",
          "output_type": "stream",
          "text": [
            "INFO:tensorflow:Loaded ./tcav/tcav_examples/discrete/kdd_sanity2\\activations\\acts_random500_2_dense shape (10, 1000)\n"
          ]
        },
        {
          "name": "stdout",
          "output_type": "stream",
          "text": [
            "INFO:tensorflow:Loaded ./tcav/tcav_examples/discrete/kdd_sanity2\\activations\\acts_normal._dense shape (200, 1000)\n"
          ]
        },
        {
          "name": "stderr",
          "output_type": "stream",
          "text": [
            "INFO:tensorflow:Loaded ./tcav/tcav_examples/discrete/kdd_sanity2\\activations\\acts_normal._dense shape (200, 1000)\n"
          ]
        },
        {
          "name": "stdout",
          "output_type": "stream",
          "text": [
            "INFO:tensorflow:CAV already exists: ./tcav/tcav_examples/discrete/kdd_sanity2\\cav\\random500_9-random500_2-dense-linear-0.01.pkl\n"
          ]
        },
        {
          "name": "stderr",
          "output_type": "stream",
          "text": [
            "INFO:tensorflow:CAV already exists: ./tcav/tcav_examples/discrete/kdd_sanity2\\cav\\random500_9-random500_2-dense-linear-0.01.pkl\n"
          ]
        },
        {
          "name": "stdout",
          "output_type": "stream",
          "text": [
            "INFO:tensorflow:CAV accuracies: {'random500_9': 1.0, 'random500_2': 0.6666666666666666, 'overall': 0.8571428571428571}\n"
          ]
        },
        {
          "name": "stderr",
          "output_type": "stream",
          "text": [
            "INFO:tensorflow:CAV accuracies: {'random500_9': 1.0, 'random500_2': 0.6666666666666666, 'overall': 0.8571428571428571}\n"
          ]
        },
        {
          "name": "stdout",
          "output_type": "stream",
          "text": [
            "INFO:tensorflow:Running param 104 of 220\n"
          ]
        },
        {
          "name": "stderr",
          "output_type": "stream",
          "text": [
            "INFO:tensorflow:Running param 104 of 220\n"
          ]
        },
        {
          "name": "stdout",
          "output_type": "stream",
          "text": [
            "INFO:tensorflow:running normal. ['random500_9', 'random500_3']\n"
          ]
        },
        {
          "name": "stderr",
          "output_type": "stream",
          "text": [
            "INFO:tensorflow:running normal. ['random500_9', 'random500_3']\n"
          ]
        },
        {
          "name": "stdout",
          "output_type": "stream",
          "text": [
            "INFO:tensorflow:Loaded ./tcav/tcav_examples/discrete/kdd_sanity2\\activations\\acts_random500_9_dense shape (10, 1000)\n"
          ]
        },
        {
          "name": "stderr",
          "output_type": "stream",
          "text": [
            "INFO:tensorflow:Loaded ./tcav/tcav_examples/discrete/kdd_sanity2\\activations\\acts_random500_9_dense shape (10, 1000)\n"
          ]
        },
        {
          "name": "stdout",
          "output_type": "stream",
          "text": [
            "INFO:tensorflow:Loaded ./tcav/tcav_examples/discrete/kdd_sanity2\\activations\\acts_random500_3_dense shape (10, 1000)\n"
          ]
        },
        {
          "name": "stderr",
          "output_type": "stream",
          "text": [
            "INFO:tensorflow:Loaded ./tcav/tcav_examples/discrete/kdd_sanity2\\activations\\acts_random500_3_dense shape (10, 1000)\n"
          ]
        },
        {
          "name": "stdout",
          "output_type": "stream",
          "text": [
            "INFO:tensorflow:Loaded ./tcav/tcav_examples/discrete/kdd_sanity2\\activations\\acts_normal._dense shape (200, 1000)\n"
          ]
        },
        {
          "name": "stderr",
          "output_type": "stream",
          "text": [
            "INFO:tensorflow:Loaded ./tcav/tcav_examples/discrete/kdd_sanity2\\activations\\acts_normal._dense shape (200, 1000)\n"
          ]
        },
        {
          "name": "stdout",
          "output_type": "stream",
          "text": [
            "INFO:tensorflow:CAV already exists: ./tcav/tcav_examples/discrete/kdd_sanity2\\cav\\random500_9-random500_3-dense-linear-0.01.pkl\n"
          ]
        },
        {
          "name": "stderr",
          "output_type": "stream",
          "text": [
            "INFO:tensorflow:CAV already exists: ./tcav/tcav_examples/discrete/kdd_sanity2\\cav\\random500_9-random500_3-dense-linear-0.01.pkl\n"
          ]
        },
        {
          "name": "stdout",
          "output_type": "stream",
          "text": [
            "INFO:tensorflow:CAV accuracies: {'random500_9': 0.25, 'random500_3': 1.0, 'overall': 0.5714285714285714}\n"
          ]
        },
        {
          "name": "stderr",
          "output_type": "stream",
          "text": [
            "INFO:tensorflow:CAV accuracies: {'random500_9': 0.25, 'random500_3': 1.0, 'overall': 0.5714285714285714}\n"
          ]
        },
        {
          "name": "stdout",
          "output_type": "stream",
          "text": [
            "INFO:tensorflow:Running param 105 of 220\n"
          ]
        },
        {
          "name": "stderr",
          "output_type": "stream",
          "text": [
            "INFO:tensorflow:Running param 105 of 220\n"
          ]
        },
        {
          "name": "stdout",
          "output_type": "stream",
          "text": [
            "INFO:tensorflow:running normal. ['random500_9', 'random500_4']\n"
          ]
        },
        {
          "name": "stderr",
          "output_type": "stream",
          "text": [
            "INFO:tensorflow:running normal. ['random500_9', 'random500_4']\n"
          ]
        },
        {
          "name": "stdout",
          "output_type": "stream",
          "text": [
            "INFO:tensorflow:Loaded ./tcav/tcav_examples/discrete/kdd_sanity2\\activations\\acts_random500_9_dense shape (10, 1000)\n"
          ]
        },
        {
          "name": "stderr",
          "output_type": "stream",
          "text": [
            "INFO:tensorflow:Loaded ./tcav/tcav_examples/discrete/kdd_sanity2\\activations\\acts_random500_9_dense shape (10, 1000)\n"
          ]
        },
        {
          "name": "stdout",
          "output_type": "stream",
          "text": [
            "INFO:tensorflow:Loaded ./tcav/tcav_examples/discrete/kdd_sanity2\\activations\\acts_random500_4_dense shape (10, 1000)\n"
          ]
        },
        {
          "name": "stderr",
          "output_type": "stream",
          "text": [
            "INFO:tensorflow:Loaded ./tcav/tcav_examples/discrete/kdd_sanity2\\activations\\acts_random500_4_dense shape (10, 1000)\n"
          ]
        },
        {
          "name": "stdout",
          "output_type": "stream",
          "text": [
            "INFO:tensorflow:Loaded ./tcav/tcav_examples/discrete/kdd_sanity2\\activations\\acts_normal._dense shape (200, 1000)\n"
          ]
        },
        {
          "name": "stderr",
          "output_type": "stream",
          "text": [
            "INFO:tensorflow:Loaded ./tcav/tcav_examples/discrete/kdd_sanity2\\activations\\acts_normal._dense shape (200, 1000)\n"
          ]
        },
        {
          "name": "stdout",
          "output_type": "stream",
          "text": [
            "INFO:tensorflow:CAV already exists: ./tcav/tcav_examples/discrete/kdd_sanity2\\cav\\random500_9-random500_4-dense-linear-0.01.pkl\n"
          ]
        },
        {
          "name": "stderr",
          "output_type": "stream",
          "text": [
            "INFO:tensorflow:CAV already exists: ./tcav/tcav_examples/discrete/kdd_sanity2\\cav\\random500_9-random500_4-dense-linear-0.01.pkl\n"
          ]
        },
        {
          "name": "stdout",
          "output_type": "stream",
          "text": [
            "INFO:tensorflow:CAV accuracies: {'random500_9': 1.0, 'random500_4': 0.5, 'overall': 0.7142857142857143}\n"
          ]
        },
        {
          "name": "stderr",
          "output_type": "stream",
          "text": [
            "INFO:tensorflow:CAV accuracies: {'random500_9': 1.0, 'random500_4': 0.5, 'overall': 0.7142857142857143}\n"
          ]
        },
        {
          "name": "stdout",
          "output_type": "stream",
          "text": [
            "INFO:tensorflow:Running param 106 of 220\n"
          ]
        },
        {
          "name": "stderr",
          "output_type": "stream",
          "text": [
            "INFO:tensorflow:Running param 106 of 220\n"
          ]
        },
        {
          "name": "stdout",
          "output_type": "stream",
          "text": [
            "INFO:tensorflow:running normal. ['random500_9', 'random500_5']\n"
          ]
        },
        {
          "name": "stderr",
          "output_type": "stream",
          "text": [
            "INFO:tensorflow:running normal. ['random500_9', 'random500_5']\n"
          ]
        },
        {
          "name": "stdout",
          "output_type": "stream",
          "text": [
            "INFO:tensorflow:Loaded ./tcav/tcav_examples/discrete/kdd_sanity2\\activations\\acts_random500_9_dense shape (10, 1000)\n"
          ]
        },
        {
          "name": "stderr",
          "output_type": "stream",
          "text": [
            "INFO:tensorflow:Loaded ./tcav/tcav_examples/discrete/kdd_sanity2\\activations\\acts_random500_9_dense shape (10, 1000)\n"
          ]
        },
        {
          "name": "stdout",
          "output_type": "stream",
          "text": [
            "INFO:tensorflow:Loaded ./tcav/tcav_examples/discrete/kdd_sanity2\\activations\\acts_random500_5_dense shape (10, 1000)\n"
          ]
        },
        {
          "name": "stderr",
          "output_type": "stream",
          "text": [
            "INFO:tensorflow:Loaded ./tcav/tcav_examples/discrete/kdd_sanity2\\activations\\acts_random500_5_dense shape (10, 1000)\n"
          ]
        },
        {
          "name": "stdout",
          "output_type": "stream",
          "text": [
            "INFO:tensorflow:Loaded ./tcav/tcav_examples/discrete/kdd_sanity2\\activations\\acts_normal._dense shape (200, 1000)\n"
          ]
        },
        {
          "name": "stderr",
          "output_type": "stream",
          "text": [
            "INFO:tensorflow:Loaded ./tcav/tcav_examples/discrete/kdd_sanity2\\activations\\acts_normal._dense shape (200, 1000)\n"
          ]
        },
        {
          "name": "stdout",
          "output_type": "stream",
          "text": [
            "INFO:tensorflow:CAV already exists: ./tcav/tcav_examples/discrete/kdd_sanity2\\cav\\random500_9-random500_5-dense-linear-0.01.pkl\n"
          ]
        },
        {
          "name": "stderr",
          "output_type": "stream",
          "text": [
            "INFO:tensorflow:CAV already exists: ./tcav/tcav_examples/discrete/kdd_sanity2\\cav\\random500_9-random500_5-dense-linear-0.01.pkl\n"
          ]
        },
        {
          "name": "stdout",
          "output_type": "stream",
          "text": [
            "INFO:tensorflow:CAV accuracies: {'random500_9': 1.0, 'random500_5': 0.6666666666666666, 'overall': 0.8571428571428571}\n"
          ]
        },
        {
          "name": "stderr",
          "output_type": "stream",
          "text": [
            "INFO:tensorflow:CAV accuracies: {'random500_9': 1.0, 'random500_5': 0.6666666666666666, 'overall': 0.8571428571428571}\n"
          ]
        },
        {
          "name": "stdout",
          "output_type": "stream",
          "text": [
            "INFO:tensorflow:Running param 107 of 220\n"
          ]
        },
        {
          "name": "stderr",
          "output_type": "stream",
          "text": [
            "INFO:tensorflow:Running param 107 of 220\n"
          ]
        },
        {
          "name": "stdout",
          "output_type": "stream",
          "text": [
            "INFO:tensorflow:running normal. ['random500_9', 'random500_6']\n"
          ]
        },
        {
          "name": "stderr",
          "output_type": "stream",
          "text": [
            "INFO:tensorflow:running normal. ['random500_9', 'random500_6']\n"
          ]
        },
        {
          "name": "stdout",
          "output_type": "stream",
          "text": [
            "INFO:tensorflow:Loaded ./tcav/tcav_examples/discrete/kdd_sanity2\\activations\\acts_random500_9_dense shape (10, 1000)\n"
          ]
        },
        {
          "name": "stderr",
          "output_type": "stream",
          "text": [
            "INFO:tensorflow:Loaded ./tcav/tcav_examples/discrete/kdd_sanity2\\activations\\acts_random500_9_dense shape (10, 1000)\n"
          ]
        },
        {
          "name": "stdout",
          "output_type": "stream",
          "text": [
            "INFO:tensorflow:Loaded ./tcav/tcav_examples/discrete/kdd_sanity2\\activations\\acts_random500_6_dense shape (10, 1000)\n"
          ]
        },
        {
          "name": "stderr",
          "output_type": "stream",
          "text": [
            "INFO:tensorflow:Loaded ./tcav/tcav_examples/discrete/kdd_sanity2\\activations\\acts_random500_6_dense shape (10, 1000)\n"
          ]
        },
        {
          "name": "stdout",
          "output_type": "stream",
          "text": [
            "INFO:tensorflow:Loaded ./tcav/tcav_examples/discrete/kdd_sanity2\\activations\\acts_normal._dense shape (200, 1000)\n"
          ]
        },
        {
          "name": "stderr",
          "output_type": "stream",
          "text": [
            "INFO:tensorflow:Loaded ./tcav/tcav_examples/discrete/kdd_sanity2\\activations\\acts_normal._dense shape (200, 1000)\n"
          ]
        },
        {
          "name": "stdout",
          "output_type": "stream",
          "text": [
            "INFO:tensorflow:CAV already exists: ./tcav/tcav_examples/discrete/kdd_sanity2\\cav\\random500_9-random500_6-dense-linear-0.01.pkl\n"
          ]
        },
        {
          "name": "stderr",
          "output_type": "stream",
          "text": [
            "INFO:tensorflow:CAV already exists: ./tcav/tcav_examples/discrete/kdd_sanity2\\cav\\random500_9-random500_6-dense-linear-0.01.pkl\n"
          ]
        },
        {
          "name": "stdout",
          "output_type": "stream",
          "text": [
            "INFO:tensorflow:CAV accuracies: {'random500_9': 1.0, 'random500_6': 0.25, 'overall': 0.5714285714285714}\n"
          ]
        },
        {
          "name": "stderr",
          "output_type": "stream",
          "text": [
            "INFO:tensorflow:CAV accuracies: {'random500_9': 1.0, 'random500_6': 0.25, 'overall': 0.5714285714285714}\n"
          ]
        },
        {
          "name": "stdout",
          "output_type": "stream",
          "text": [
            "INFO:tensorflow:Running param 108 of 220\n"
          ]
        },
        {
          "name": "stderr",
          "output_type": "stream",
          "text": [
            "INFO:tensorflow:Running param 108 of 220\n"
          ]
        },
        {
          "name": "stdout",
          "output_type": "stream",
          "text": [
            "INFO:tensorflow:running normal. ['random500_9', 'random500_7']\n"
          ]
        },
        {
          "name": "stderr",
          "output_type": "stream",
          "text": [
            "INFO:tensorflow:running normal. ['random500_9', 'random500_7']\n"
          ]
        },
        {
          "name": "stdout",
          "output_type": "stream",
          "text": [
            "INFO:tensorflow:Loaded ./tcav/tcav_examples/discrete/kdd_sanity2\\activations\\acts_random500_9_dense shape (10, 1000)\n"
          ]
        },
        {
          "name": "stderr",
          "output_type": "stream",
          "text": [
            "INFO:tensorflow:Loaded ./tcav/tcav_examples/discrete/kdd_sanity2\\activations\\acts_random500_9_dense shape (10, 1000)\n"
          ]
        },
        {
          "name": "stdout",
          "output_type": "stream",
          "text": [
            "INFO:tensorflow:Loaded ./tcav/tcav_examples/discrete/kdd_sanity2\\activations\\acts_random500_7_dense shape (10, 1000)\n"
          ]
        },
        {
          "name": "stderr",
          "output_type": "stream",
          "text": [
            "INFO:tensorflow:Loaded ./tcav/tcav_examples/discrete/kdd_sanity2\\activations\\acts_random500_7_dense shape (10, 1000)\n"
          ]
        },
        {
          "name": "stdout",
          "output_type": "stream",
          "text": [
            "INFO:tensorflow:Loaded ./tcav/tcav_examples/discrete/kdd_sanity2\\activations\\acts_normal._dense shape (200, 1000)\n"
          ]
        },
        {
          "name": "stderr",
          "output_type": "stream",
          "text": [
            "INFO:tensorflow:Loaded ./tcav/tcav_examples/discrete/kdd_sanity2\\activations\\acts_normal._dense shape (200, 1000)\n"
          ]
        },
        {
          "name": "stdout",
          "output_type": "stream",
          "text": [
            "INFO:tensorflow:CAV already exists: ./tcav/tcav_examples/discrete/kdd_sanity2\\cav\\random500_9-random500_7-dense-linear-0.01.pkl\n"
          ]
        },
        {
          "name": "stderr",
          "output_type": "stream",
          "text": [
            "INFO:tensorflow:CAV already exists: ./tcav/tcav_examples/discrete/kdd_sanity2\\cav\\random500_9-random500_7-dense-linear-0.01.pkl\n"
          ]
        },
        {
          "name": "stdout",
          "output_type": "stream",
          "text": [
            "INFO:tensorflow:CAV accuracies: {'random500_9': 1.0, 'random500_7': 0.6666666666666666, 'overall': 0.8571428571428571}\n"
          ]
        },
        {
          "name": "stderr",
          "output_type": "stream",
          "text": [
            "INFO:tensorflow:CAV accuracies: {'random500_9': 1.0, 'random500_7': 0.6666666666666666, 'overall': 0.8571428571428571}\n"
          ]
        },
        {
          "name": "stdout",
          "output_type": "stream",
          "text": [
            "INFO:tensorflow:Running param 109 of 220\n"
          ]
        },
        {
          "name": "stderr",
          "output_type": "stream",
          "text": [
            "INFO:tensorflow:Running param 109 of 220\n"
          ]
        },
        {
          "name": "stdout",
          "output_type": "stream",
          "text": [
            "INFO:tensorflow:running normal. ['random500_9', 'random500_8']\n"
          ]
        },
        {
          "name": "stderr",
          "output_type": "stream",
          "text": [
            "INFO:tensorflow:running normal. ['random500_9', 'random500_8']\n"
          ]
        },
        {
          "name": "stdout",
          "output_type": "stream",
          "text": [
            "INFO:tensorflow:Loaded ./tcav/tcav_examples/discrete/kdd_sanity2\\activations\\acts_random500_9_dense shape (10, 1000)\n"
          ]
        },
        {
          "name": "stderr",
          "output_type": "stream",
          "text": [
            "INFO:tensorflow:Loaded ./tcav/tcav_examples/discrete/kdd_sanity2\\activations\\acts_random500_9_dense shape (10, 1000)\n"
          ]
        },
        {
          "name": "stdout",
          "output_type": "stream",
          "text": [
            "INFO:tensorflow:Loaded ./tcav/tcav_examples/discrete/kdd_sanity2\\activations\\acts_random500_8_dense shape (10, 1000)\n"
          ]
        },
        {
          "name": "stderr",
          "output_type": "stream",
          "text": [
            "INFO:tensorflow:Loaded ./tcav/tcav_examples/discrete/kdd_sanity2\\activations\\acts_random500_8_dense shape (10, 1000)\n"
          ]
        },
        {
          "name": "stdout",
          "output_type": "stream",
          "text": [
            "INFO:tensorflow:Loaded ./tcav/tcav_examples/discrete/kdd_sanity2\\activations\\acts_normal._dense shape (200, 1000)\n"
          ]
        },
        {
          "name": "stderr",
          "output_type": "stream",
          "text": [
            "INFO:tensorflow:Loaded ./tcav/tcav_examples/discrete/kdd_sanity2\\activations\\acts_normal._dense shape (200, 1000)\n"
          ]
        },
        {
          "name": "stdout",
          "output_type": "stream",
          "text": [
            "INFO:tensorflow:CAV already exists: ./tcav/tcav_examples/discrete/kdd_sanity2\\cav\\random500_9-random500_8-dense-linear-0.01.pkl\n"
          ]
        },
        {
          "name": "stderr",
          "output_type": "stream",
          "text": [
            "INFO:tensorflow:CAV already exists: ./tcav/tcav_examples/discrete/kdd_sanity2\\cav\\random500_9-random500_8-dense-linear-0.01.pkl\n"
          ]
        },
        {
          "name": "stdout",
          "output_type": "stream",
          "text": [
            "INFO:tensorflow:CAV accuracies: {'random500_9': 1.0, 'random500_8': 1.0, 'overall': 1.0}\n"
          ]
        },
        {
          "name": "stderr",
          "output_type": "stream",
          "text": [
            "INFO:tensorflow:CAV accuracies: {'random500_9': 1.0, 'random500_8': 1.0, 'overall': 1.0}\n"
          ]
        },
        {
          "name": "stdout",
          "output_type": "stream",
          "text": [
            "INFO:tensorflow:Running param 110 of 220\n"
          ]
        },
        {
          "name": "stderr",
          "output_type": "stream",
          "text": [
            "INFO:tensorflow:Running param 110 of 220\n"
          ]
        },
        {
          "name": "stdout",
          "output_type": "stream",
          "text": [
            "INFO:tensorflow:running normal. ['dst_host_same_src_port_rate_less_than_one', 'random500_0']\n"
          ]
        },
        {
          "name": "stderr",
          "output_type": "stream",
          "text": [
            "INFO:tensorflow:running normal. ['dst_host_same_src_port_rate_less_than_one', 'random500_0']\n"
          ]
        },
        {
          "name": "stdout",
          "output_type": "stream",
          "text": [
            "INFO:tensorflow:Loaded ./tcav/tcav_examples/discrete/kdd_sanity2\\activations\\acts_dst_host_same_src_port_rate_less_than_one_dense_1 shape (200, 256)\n"
          ]
        },
        {
          "name": "stderr",
          "output_type": "stream",
          "text": [
            "INFO:tensorflow:Loaded ./tcav/tcav_examples/discrete/kdd_sanity2\\activations\\acts_dst_host_same_src_port_rate_less_than_one_dense_1 shape (200, 256)\n"
          ]
        },
        {
          "name": "stdout",
          "output_type": "stream",
          "text": [
            "INFO:tensorflow:Loaded ./tcav/tcav_examples/discrete/kdd_sanity2\\activations\\acts_random500_0_dense_1 shape (10, 256)\n"
          ]
        },
        {
          "name": "stderr",
          "output_type": "stream",
          "text": [
            "INFO:tensorflow:Loaded ./tcav/tcav_examples/discrete/kdd_sanity2\\activations\\acts_random500_0_dense_1 shape (10, 256)\n"
          ]
        },
        {
          "name": "stdout",
          "output_type": "stream",
          "text": [
            "INFO:tensorflow:Loaded ./tcav/tcav_examples/discrete/kdd_sanity2\\activations\\acts_normal._dense_1 shape (200, 256)\n"
          ]
        },
        {
          "name": "stderr",
          "output_type": "stream",
          "text": [
            "INFO:tensorflow:Loaded ./tcav/tcav_examples/discrete/kdd_sanity2\\activations\\acts_normal._dense_1 shape (200, 256)\n"
          ]
        },
        {
          "name": "stdout",
          "output_type": "stream",
          "text": [
            "INFO:tensorflow:CAV already exists: ./tcav/tcav_examples/discrete/kdd_sanity2\\cav\\dst_host_same_src_port_rate_less_than_one-random500_0-dense_1-linear-0.01.pkl\n"
          ]
        },
        {
          "name": "stderr",
          "output_type": "stream",
          "text": [
            "INFO:tensorflow:CAV already exists: ./tcav/tcav_examples/discrete/kdd_sanity2\\cav\\dst_host_same_src_port_rate_less_than_one-random500_0-dense_1-linear-0.01.pkl\n"
          ]
        },
        {
          "name": "stdout",
          "output_type": "stream",
          "text": [
            "INFO:tensorflow:CAV accuracies: {'dst_host_same_src_port_rate_less_than_one': 1.0, 'random500_0': 1.0, 'overall': 1.0}\n"
          ]
        },
        {
          "name": "stderr",
          "output_type": "stream",
          "text": [
            "INFO:tensorflow:CAV accuracies: {'dst_host_same_src_port_rate_less_than_one': 1.0, 'random500_0': 1.0, 'overall': 1.0}\n"
          ]
        },
        {
          "name": "stdout",
          "output_type": "stream",
          "text": [
            "INFO:tensorflow:Running param 111 of 220\n"
          ]
        },
        {
          "name": "stderr",
          "output_type": "stream",
          "text": [
            "INFO:tensorflow:Running param 111 of 220\n"
          ]
        },
        {
          "name": "stdout",
          "output_type": "stream",
          "text": [
            "INFO:tensorflow:running normal. ['dst_host_same_src_port_rate_less_than_one', 'random500_1']\n"
          ]
        },
        {
          "name": "stderr",
          "output_type": "stream",
          "text": [
            "INFO:tensorflow:running normal. ['dst_host_same_src_port_rate_less_than_one', 'random500_1']\n"
          ]
        },
        {
          "name": "stdout",
          "output_type": "stream",
          "text": [
            "INFO:tensorflow:Loaded ./tcav/tcav_examples/discrete/kdd_sanity2\\activations\\acts_dst_host_same_src_port_rate_less_than_one_dense_1 shape (200, 256)\n"
          ]
        },
        {
          "name": "stderr",
          "output_type": "stream",
          "text": [
            "INFO:tensorflow:Loaded ./tcav/tcav_examples/discrete/kdd_sanity2\\activations\\acts_dst_host_same_src_port_rate_less_than_one_dense_1 shape (200, 256)\n"
          ]
        },
        {
          "name": "stdout",
          "output_type": "stream",
          "text": [
            "INFO:tensorflow:Loaded ./tcav/tcav_examples/discrete/kdd_sanity2\\activations\\acts_random500_1_dense_1 shape (10, 256)\n"
          ]
        },
        {
          "name": "stderr",
          "output_type": "stream",
          "text": [
            "INFO:tensorflow:Loaded ./tcav/tcav_examples/discrete/kdd_sanity2\\activations\\acts_random500_1_dense_1 shape (10, 256)\n"
          ]
        },
        {
          "name": "stdout",
          "output_type": "stream",
          "text": [
            "INFO:tensorflow:Loaded ./tcav/tcav_examples/discrete/kdd_sanity2\\activations\\acts_normal._dense_1 shape (200, 256)\n"
          ]
        },
        {
          "name": "stderr",
          "output_type": "stream",
          "text": [
            "INFO:tensorflow:Loaded ./tcav/tcav_examples/discrete/kdd_sanity2\\activations\\acts_normal._dense_1 shape (200, 256)\n"
          ]
        },
        {
          "name": "stdout",
          "output_type": "stream",
          "text": [
            "INFO:tensorflow:CAV already exists: ./tcav/tcav_examples/discrete/kdd_sanity2\\cav\\dst_host_same_src_port_rate_less_than_one-random500_1-dense_1-linear-0.01.pkl\n"
          ]
        },
        {
          "name": "stderr",
          "output_type": "stream",
          "text": [
            "INFO:tensorflow:CAV already exists: ./tcav/tcav_examples/discrete/kdd_sanity2\\cav\\dst_host_same_src_port_rate_less_than_one-random500_1-dense_1-linear-0.01.pkl\n"
          ]
        },
        {
          "name": "stdout",
          "output_type": "stream",
          "text": [
            "INFO:tensorflow:CAV accuracies: {'dst_host_same_src_port_rate_less_than_one': 1.0, 'random500_1': 1.0, 'overall': 1.0}\n"
          ]
        },
        {
          "name": "stderr",
          "output_type": "stream",
          "text": [
            "INFO:tensorflow:CAV accuracies: {'dst_host_same_src_port_rate_less_than_one': 1.0, 'random500_1': 1.0, 'overall': 1.0}\n"
          ]
        },
        {
          "name": "stdout",
          "output_type": "stream",
          "text": [
            "INFO:tensorflow:Running param 112 of 220\n"
          ]
        },
        {
          "name": "stderr",
          "output_type": "stream",
          "text": [
            "INFO:tensorflow:Running param 112 of 220\n"
          ]
        },
        {
          "name": "stdout",
          "output_type": "stream",
          "text": [
            "INFO:tensorflow:running normal. ['dst_host_same_src_port_rate_less_than_one', 'random500_2']\n"
          ]
        },
        {
          "name": "stderr",
          "output_type": "stream",
          "text": [
            "INFO:tensorflow:running normal. ['dst_host_same_src_port_rate_less_than_one', 'random500_2']\n"
          ]
        },
        {
          "name": "stdout",
          "output_type": "stream",
          "text": [
            "INFO:tensorflow:Loaded ./tcav/tcav_examples/discrete/kdd_sanity2\\activations\\acts_dst_host_same_src_port_rate_less_than_one_dense_1 shape (200, 256)\n"
          ]
        },
        {
          "name": "stderr",
          "output_type": "stream",
          "text": [
            "INFO:tensorflow:Loaded ./tcav/tcav_examples/discrete/kdd_sanity2\\activations\\acts_dst_host_same_src_port_rate_less_than_one_dense_1 shape (200, 256)\n"
          ]
        },
        {
          "name": "stdout",
          "output_type": "stream",
          "text": [
            "INFO:tensorflow:Loaded ./tcav/tcav_examples/discrete/kdd_sanity2\\activations\\acts_random500_2_dense_1 shape (10, 256)\n"
          ]
        },
        {
          "name": "stderr",
          "output_type": "stream",
          "text": [
            "INFO:tensorflow:Loaded ./tcav/tcav_examples/discrete/kdd_sanity2\\activations\\acts_random500_2_dense_1 shape (10, 256)\n"
          ]
        },
        {
          "name": "stdout",
          "output_type": "stream",
          "text": [
            "INFO:tensorflow:Loaded ./tcav/tcav_examples/discrete/kdd_sanity2\\activations\\acts_normal._dense_1 shape (200, 256)\n"
          ]
        },
        {
          "name": "stderr",
          "output_type": "stream",
          "text": [
            "INFO:tensorflow:Loaded ./tcav/tcav_examples/discrete/kdd_sanity2\\activations\\acts_normal._dense_1 shape (200, 256)\n"
          ]
        },
        {
          "name": "stdout",
          "output_type": "stream",
          "text": [
            "INFO:tensorflow:CAV already exists: ./tcav/tcav_examples/discrete/kdd_sanity2\\cav\\dst_host_same_src_port_rate_less_than_one-random500_2-dense_1-linear-0.01.pkl\n"
          ]
        },
        {
          "name": "stderr",
          "output_type": "stream",
          "text": [
            "INFO:tensorflow:CAV already exists: ./tcav/tcav_examples/discrete/kdd_sanity2\\cav\\dst_host_same_src_port_rate_less_than_one-random500_2-dense_1-linear-0.01.pkl\n"
          ]
        },
        {
          "name": "stdout",
          "output_type": "stream",
          "text": [
            "INFO:tensorflow:CAV accuracies: {'dst_host_same_src_port_rate_less_than_one': 1.0, 'random500_2': 0.75, 'overall': 0.8571428571428571}\n"
          ]
        },
        {
          "name": "stderr",
          "output_type": "stream",
          "text": [
            "INFO:tensorflow:CAV accuracies: {'dst_host_same_src_port_rate_less_than_one': 1.0, 'random500_2': 0.75, 'overall': 0.8571428571428571}\n"
          ]
        },
        {
          "name": "stdout",
          "output_type": "stream",
          "text": [
            "INFO:tensorflow:Running param 113 of 220\n"
          ]
        },
        {
          "name": "stderr",
          "output_type": "stream",
          "text": [
            "INFO:tensorflow:Running param 113 of 220\n"
          ]
        },
        {
          "name": "stdout",
          "output_type": "stream",
          "text": [
            "INFO:tensorflow:running normal. ['dst_host_same_src_port_rate_less_than_one', 'random500_3']\n"
          ]
        },
        {
          "name": "stderr",
          "output_type": "stream",
          "text": [
            "INFO:tensorflow:running normal. ['dst_host_same_src_port_rate_less_than_one', 'random500_3']\n"
          ]
        },
        {
          "name": "stdout",
          "output_type": "stream",
          "text": [
            "INFO:tensorflow:Loaded ./tcav/tcav_examples/discrete/kdd_sanity2\\activations\\acts_dst_host_same_src_port_rate_less_than_one_dense_1 shape (200, 256)\n"
          ]
        },
        {
          "name": "stderr",
          "output_type": "stream",
          "text": [
            "INFO:tensorflow:Loaded ./tcav/tcav_examples/discrete/kdd_sanity2\\activations\\acts_dst_host_same_src_port_rate_less_than_one_dense_1 shape (200, 256)\n"
          ]
        },
        {
          "name": "stdout",
          "output_type": "stream",
          "text": [
            "INFO:tensorflow:Loaded ./tcav/tcav_examples/discrete/kdd_sanity2\\activations\\acts_random500_3_dense_1 shape (10, 256)\n"
          ]
        },
        {
          "name": "stderr",
          "output_type": "stream",
          "text": [
            "INFO:tensorflow:Loaded ./tcav/tcav_examples/discrete/kdd_sanity2\\activations\\acts_random500_3_dense_1 shape (10, 256)\n"
          ]
        },
        {
          "name": "stdout",
          "output_type": "stream",
          "text": [
            "INFO:tensorflow:Loaded ./tcav/tcav_examples/discrete/kdd_sanity2\\activations\\acts_normal._dense_1 shape (200, 256)\n"
          ]
        },
        {
          "name": "stderr",
          "output_type": "stream",
          "text": [
            "INFO:tensorflow:Loaded ./tcav/tcav_examples/discrete/kdd_sanity2\\activations\\acts_normal._dense_1 shape (200, 256)\n"
          ]
        },
        {
          "name": "stdout",
          "output_type": "stream",
          "text": [
            "INFO:tensorflow:CAV already exists: ./tcav/tcav_examples/discrete/kdd_sanity2\\cav\\dst_host_same_src_port_rate_less_than_one-random500_3-dense_1-linear-0.01.pkl\n"
          ]
        },
        {
          "name": "stderr",
          "output_type": "stream",
          "text": [
            "INFO:tensorflow:CAV already exists: ./tcav/tcav_examples/discrete/kdd_sanity2\\cav\\dst_host_same_src_port_rate_less_than_one-random500_3-dense_1-linear-0.01.pkl\n"
          ]
        },
        {
          "name": "stdout",
          "output_type": "stream",
          "text": [
            "INFO:tensorflow:CAV accuracies: {'dst_host_same_src_port_rate_less_than_one': 1.0, 'random500_3': 0.6666666666666666, 'overall': 0.8571428571428571}\n"
          ]
        },
        {
          "name": "stderr",
          "output_type": "stream",
          "text": [
            "INFO:tensorflow:CAV accuracies: {'dst_host_same_src_port_rate_less_than_one': 1.0, 'random500_3': 0.6666666666666666, 'overall': 0.8571428571428571}\n"
          ]
        },
        {
          "name": "stdout",
          "output_type": "stream",
          "text": [
            "INFO:tensorflow:Running param 114 of 220\n"
          ]
        },
        {
          "name": "stderr",
          "output_type": "stream",
          "text": [
            "INFO:tensorflow:Running param 114 of 220\n"
          ]
        },
        {
          "name": "stdout",
          "output_type": "stream",
          "text": [
            "INFO:tensorflow:running normal. ['dst_host_same_src_port_rate_less_than_one', 'random500_4']\n"
          ]
        },
        {
          "name": "stderr",
          "output_type": "stream",
          "text": [
            "INFO:tensorflow:running normal. ['dst_host_same_src_port_rate_less_than_one', 'random500_4']\n"
          ]
        },
        {
          "name": "stdout",
          "output_type": "stream",
          "text": [
            "INFO:tensorflow:Loaded ./tcav/tcav_examples/discrete/kdd_sanity2\\activations\\acts_dst_host_same_src_port_rate_less_than_one_dense_1 shape (200, 256)\n"
          ]
        },
        {
          "name": "stderr",
          "output_type": "stream",
          "text": [
            "INFO:tensorflow:Loaded ./tcav/tcav_examples/discrete/kdd_sanity2\\activations\\acts_dst_host_same_src_port_rate_less_than_one_dense_1 shape (200, 256)\n"
          ]
        },
        {
          "name": "stdout",
          "output_type": "stream",
          "text": [
            "INFO:tensorflow:Loaded ./tcav/tcav_examples/discrete/kdd_sanity2\\activations\\acts_random500_4_dense_1 shape (10, 256)\n"
          ]
        },
        {
          "name": "stderr",
          "output_type": "stream",
          "text": [
            "INFO:tensorflow:Loaded ./tcav/tcav_examples/discrete/kdd_sanity2\\activations\\acts_random500_4_dense_1 shape (10, 256)\n"
          ]
        },
        {
          "name": "stdout",
          "output_type": "stream",
          "text": [
            "INFO:tensorflow:Loaded ./tcav/tcav_examples/discrete/kdd_sanity2\\activations\\acts_normal._dense_1 shape (200, 256)\n"
          ]
        },
        {
          "name": "stderr",
          "output_type": "stream",
          "text": [
            "INFO:tensorflow:Loaded ./tcav/tcav_examples/discrete/kdd_sanity2\\activations\\acts_normal._dense_1 shape (200, 256)\n"
          ]
        },
        {
          "name": "stdout",
          "output_type": "stream",
          "text": [
            "INFO:tensorflow:CAV already exists: ./tcav/tcav_examples/discrete/kdd_sanity2\\cav\\dst_host_same_src_port_rate_less_than_one-random500_4-dense_1-linear-0.01.pkl\n"
          ]
        },
        {
          "name": "stderr",
          "output_type": "stream",
          "text": [
            "INFO:tensorflow:CAV already exists: ./tcav/tcav_examples/discrete/kdd_sanity2\\cav\\dst_host_same_src_port_rate_less_than_one-random500_4-dense_1-linear-0.01.pkl\n"
          ]
        },
        {
          "name": "stdout",
          "output_type": "stream",
          "text": [
            "INFO:tensorflow:CAV accuracies: {'dst_host_same_src_port_rate_less_than_one': 1.0, 'random500_4': 1.0, 'overall': 1.0}\n"
          ]
        },
        {
          "name": "stderr",
          "output_type": "stream",
          "text": [
            "INFO:tensorflow:CAV accuracies: {'dst_host_same_src_port_rate_less_than_one': 1.0, 'random500_4': 1.0, 'overall': 1.0}\n"
          ]
        },
        {
          "name": "stdout",
          "output_type": "stream",
          "text": [
            "INFO:tensorflow:Running param 115 of 220\n"
          ]
        },
        {
          "name": "stderr",
          "output_type": "stream",
          "text": [
            "INFO:tensorflow:Running param 115 of 220\n"
          ]
        },
        {
          "name": "stdout",
          "output_type": "stream",
          "text": [
            "INFO:tensorflow:running normal. ['dst_host_same_src_port_rate_less_than_one', 'random500_5']\n"
          ]
        },
        {
          "name": "stderr",
          "output_type": "stream",
          "text": [
            "INFO:tensorflow:running normal. ['dst_host_same_src_port_rate_less_than_one', 'random500_5']\n"
          ]
        },
        {
          "name": "stdout",
          "output_type": "stream",
          "text": [
            "INFO:tensorflow:Loaded ./tcav/tcav_examples/discrete/kdd_sanity2\\activations\\acts_dst_host_same_src_port_rate_less_than_one_dense_1 shape (200, 256)\n"
          ]
        },
        {
          "name": "stderr",
          "output_type": "stream",
          "text": [
            "INFO:tensorflow:Loaded ./tcav/tcav_examples/discrete/kdd_sanity2\\activations\\acts_dst_host_same_src_port_rate_less_than_one_dense_1 shape (200, 256)\n"
          ]
        },
        {
          "name": "stdout",
          "output_type": "stream",
          "text": [
            "INFO:tensorflow:Loaded ./tcav/tcav_examples/discrete/kdd_sanity2\\activations\\acts_random500_5_dense_1 shape (10, 256)\n"
          ]
        },
        {
          "name": "stderr",
          "output_type": "stream",
          "text": [
            "INFO:tensorflow:Loaded ./tcav/tcav_examples/discrete/kdd_sanity2\\activations\\acts_random500_5_dense_1 shape (10, 256)\n"
          ]
        },
        {
          "name": "stdout",
          "output_type": "stream",
          "text": [
            "INFO:tensorflow:Loaded ./tcav/tcav_examples/discrete/kdd_sanity2\\activations\\acts_normal._dense_1 shape (200, 256)\n"
          ]
        },
        {
          "name": "stderr",
          "output_type": "stream",
          "text": [
            "INFO:tensorflow:Loaded ./tcav/tcav_examples/discrete/kdd_sanity2\\activations\\acts_normal._dense_1 shape (200, 256)\n"
          ]
        },
        {
          "name": "stdout",
          "output_type": "stream",
          "text": [
            "INFO:tensorflow:CAV already exists: ./tcav/tcav_examples/discrete/kdd_sanity2\\cav\\dst_host_same_src_port_rate_less_than_one-random500_5-dense_1-linear-0.01.pkl\n"
          ]
        },
        {
          "name": "stderr",
          "output_type": "stream",
          "text": [
            "INFO:tensorflow:CAV already exists: ./tcav/tcav_examples/discrete/kdd_sanity2\\cav\\dst_host_same_src_port_rate_less_than_one-random500_5-dense_1-linear-0.01.pkl\n"
          ]
        },
        {
          "name": "stdout",
          "output_type": "stream",
          "text": [
            "INFO:tensorflow:CAV accuracies: {'dst_host_same_src_port_rate_less_than_one': 1.0, 'random500_5': 1.0, 'overall': 1.0}\n"
          ]
        },
        {
          "name": "stderr",
          "output_type": "stream",
          "text": [
            "INFO:tensorflow:CAV accuracies: {'dst_host_same_src_port_rate_less_than_one': 1.0, 'random500_5': 1.0, 'overall': 1.0}\n"
          ]
        },
        {
          "name": "stdout",
          "output_type": "stream",
          "text": [
            "INFO:tensorflow:Running param 116 of 220\n"
          ]
        },
        {
          "name": "stderr",
          "output_type": "stream",
          "text": [
            "INFO:tensorflow:Running param 116 of 220\n"
          ]
        },
        {
          "name": "stdout",
          "output_type": "stream",
          "text": [
            "INFO:tensorflow:running normal. ['dst_host_same_src_port_rate_less_than_one', 'random500_6']\n"
          ]
        },
        {
          "name": "stderr",
          "output_type": "stream",
          "text": [
            "INFO:tensorflow:running normal. ['dst_host_same_src_port_rate_less_than_one', 'random500_6']\n"
          ]
        },
        {
          "name": "stdout",
          "output_type": "stream",
          "text": [
            "INFO:tensorflow:Loaded ./tcav/tcav_examples/discrete/kdd_sanity2\\activations\\acts_dst_host_same_src_port_rate_less_than_one_dense_1 shape (200, 256)\n"
          ]
        },
        {
          "name": "stderr",
          "output_type": "stream",
          "text": [
            "INFO:tensorflow:Loaded ./tcav/tcav_examples/discrete/kdd_sanity2\\activations\\acts_dst_host_same_src_port_rate_less_than_one_dense_1 shape (200, 256)\n"
          ]
        },
        {
          "name": "stdout",
          "output_type": "stream",
          "text": [
            "INFO:tensorflow:Loaded ./tcav/tcav_examples/discrete/kdd_sanity2\\activations\\acts_random500_6_dense_1 shape (10, 256)\n"
          ]
        },
        {
          "name": "stderr",
          "output_type": "stream",
          "text": [
            "INFO:tensorflow:Loaded ./tcav/tcav_examples/discrete/kdd_sanity2\\activations\\acts_random500_6_dense_1 shape (10, 256)\n"
          ]
        },
        {
          "name": "stdout",
          "output_type": "stream",
          "text": [
            "INFO:tensorflow:Loaded ./tcav/tcav_examples/discrete/kdd_sanity2\\activations\\acts_normal._dense_1 shape (200, 256)\n"
          ]
        },
        {
          "name": "stderr",
          "output_type": "stream",
          "text": [
            "INFO:tensorflow:Loaded ./tcav/tcav_examples/discrete/kdd_sanity2\\activations\\acts_normal._dense_1 shape (200, 256)\n"
          ]
        },
        {
          "name": "stdout",
          "output_type": "stream",
          "text": [
            "INFO:tensorflow:CAV already exists: ./tcav/tcav_examples/discrete/kdd_sanity2\\cav\\dst_host_same_src_port_rate_less_than_one-random500_6-dense_1-linear-0.01.pkl\n"
          ]
        },
        {
          "name": "stderr",
          "output_type": "stream",
          "text": [
            "INFO:tensorflow:CAV already exists: ./tcav/tcav_examples/discrete/kdd_sanity2\\cav\\dst_host_same_src_port_rate_less_than_one-random500_6-dense_1-linear-0.01.pkl\n"
          ]
        },
        {
          "name": "stdout",
          "output_type": "stream",
          "text": [
            "INFO:tensorflow:CAV accuracies: {'dst_host_same_src_port_rate_less_than_one': 1.0, 'random500_6': 1.0, 'overall': 1.0}\n"
          ]
        },
        {
          "name": "stderr",
          "output_type": "stream",
          "text": [
            "INFO:tensorflow:CAV accuracies: {'dst_host_same_src_port_rate_less_than_one': 1.0, 'random500_6': 1.0, 'overall': 1.0}\n"
          ]
        },
        {
          "name": "stdout",
          "output_type": "stream",
          "text": [
            "INFO:tensorflow:Running param 117 of 220\n"
          ]
        },
        {
          "name": "stderr",
          "output_type": "stream",
          "text": [
            "INFO:tensorflow:Running param 117 of 220\n"
          ]
        },
        {
          "name": "stdout",
          "output_type": "stream",
          "text": [
            "INFO:tensorflow:running normal. ['dst_host_same_src_port_rate_less_than_one', 'random500_7']\n"
          ]
        },
        {
          "name": "stderr",
          "output_type": "stream",
          "text": [
            "INFO:tensorflow:running normal. ['dst_host_same_src_port_rate_less_than_one', 'random500_7']\n"
          ]
        },
        {
          "name": "stdout",
          "output_type": "stream",
          "text": [
            "INFO:tensorflow:Loaded ./tcav/tcav_examples/discrete/kdd_sanity2\\activations\\acts_dst_host_same_src_port_rate_less_than_one_dense_1 shape (200, 256)\n"
          ]
        },
        {
          "name": "stderr",
          "output_type": "stream",
          "text": [
            "INFO:tensorflow:Loaded ./tcav/tcav_examples/discrete/kdd_sanity2\\activations\\acts_dst_host_same_src_port_rate_less_than_one_dense_1 shape (200, 256)\n"
          ]
        },
        {
          "name": "stdout",
          "output_type": "stream",
          "text": [
            "INFO:tensorflow:Loaded ./tcav/tcav_examples/discrete/kdd_sanity2\\activations\\acts_random500_7_dense_1 shape (10, 256)\n"
          ]
        },
        {
          "name": "stderr",
          "output_type": "stream",
          "text": [
            "INFO:tensorflow:Loaded ./tcav/tcav_examples/discrete/kdd_sanity2\\activations\\acts_random500_7_dense_1 shape (10, 256)\n"
          ]
        },
        {
          "name": "stdout",
          "output_type": "stream",
          "text": [
            "INFO:tensorflow:Loaded ./tcav/tcav_examples/discrete/kdd_sanity2\\activations\\acts_normal._dense_1 shape (200, 256)\n"
          ]
        },
        {
          "name": "stderr",
          "output_type": "stream",
          "text": [
            "INFO:tensorflow:Loaded ./tcav/tcav_examples/discrete/kdd_sanity2\\activations\\acts_normal._dense_1 shape (200, 256)\n"
          ]
        },
        {
          "name": "stdout",
          "output_type": "stream",
          "text": [
            "INFO:tensorflow:CAV already exists: ./tcav/tcav_examples/discrete/kdd_sanity2\\cav\\dst_host_same_src_port_rate_less_than_one-random500_7-dense_1-linear-0.01.pkl\n"
          ]
        },
        {
          "name": "stderr",
          "output_type": "stream",
          "text": [
            "INFO:tensorflow:CAV already exists: ./tcav/tcav_examples/discrete/kdd_sanity2\\cav\\dst_host_same_src_port_rate_less_than_one-random500_7-dense_1-linear-0.01.pkl\n"
          ]
        },
        {
          "name": "stdout",
          "output_type": "stream",
          "text": [
            "INFO:tensorflow:CAV accuracies: {'dst_host_same_src_port_rate_less_than_one': 1.0, 'random500_7': 1.0, 'overall': 1.0}\n"
          ]
        },
        {
          "name": "stderr",
          "output_type": "stream",
          "text": [
            "INFO:tensorflow:CAV accuracies: {'dst_host_same_src_port_rate_less_than_one': 1.0, 'random500_7': 1.0, 'overall': 1.0}\n"
          ]
        },
        {
          "name": "stdout",
          "output_type": "stream",
          "text": [
            "INFO:tensorflow:Running param 118 of 220\n"
          ]
        },
        {
          "name": "stderr",
          "output_type": "stream",
          "text": [
            "INFO:tensorflow:Running param 118 of 220\n"
          ]
        },
        {
          "name": "stdout",
          "output_type": "stream",
          "text": [
            "INFO:tensorflow:running normal. ['dst_host_same_src_port_rate_less_than_one', 'random500_8']\n"
          ]
        },
        {
          "name": "stderr",
          "output_type": "stream",
          "text": [
            "INFO:tensorflow:running normal. ['dst_host_same_src_port_rate_less_than_one', 'random500_8']\n"
          ]
        },
        {
          "name": "stdout",
          "output_type": "stream",
          "text": [
            "INFO:tensorflow:Loaded ./tcav/tcav_examples/discrete/kdd_sanity2\\activations\\acts_dst_host_same_src_port_rate_less_than_one_dense_1 shape (200, 256)\n"
          ]
        },
        {
          "name": "stderr",
          "output_type": "stream",
          "text": [
            "INFO:tensorflow:Loaded ./tcav/tcav_examples/discrete/kdd_sanity2\\activations\\acts_dst_host_same_src_port_rate_less_than_one_dense_1 shape (200, 256)\n"
          ]
        },
        {
          "name": "stdout",
          "output_type": "stream",
          "text": [
            "INFO:tensorflow:Loaded ./tcav/tcav_examples/discrete/kdd_sanity2\\activations\\acts_random500_8_dense_1 shape (10, 256)\n"
          ]
        },
        {
          "name": "stderr",
          "output_type": "stream",
          "text": [
            "INFO:tensorflow:Loaded ./tcav/tcav_examples/discrete/kdd_sanity2\\activations\\acts_random500_8_dense_1 shape (10, 256)\n"
          ]
        },
        {
          "name": "stdout",
          "output_type": "stream",
          "text": [
            "INFO:tensorflow:Loaded ./tcav/tcav_examples/discrete/kdd_sanity2\\activations\\acts_normal._dense_1 shape (200, 256)\n"
          ]
        },
        {
          "name": "stderr",
          "output_type": "stream",
          "text": [
            "INFO:tensorflow:Loaded ./tcav/tcav_examples/discrete/kdd_sanity2\\activations\\acts_normal._dense_1 shape (200, 256)\n"
          ]
        },
        {
          "name": "stdout",
          "output_type": "stream",
          "text": [
            "INFO:tensorflow:CAV already exists: ./tcav/tcav_examples/discrete/kdd_sanity2\\cav\\dst_host_same_src_port_rate_less_than_one-random500_8-dense_1-linear-0.01.pkl\n"
          ]
        },
        {
          "name": "stderr",
          "output_type": "stream",
          "text": [
            "INFO:tensorflow:CAV already exists: ./tcav/tcav_examples/discrete/kdd_sanity2\\cav\\dst_host_same_src_port_rate_less_than_one-random500_8-dense_1-linear-0.01.pkl\n"
          ]
        },
        {
          "name": "stdout",
          "output_type": "stream",
          "text": [
            "INFO:tensorflow:CAV accuracies: {'dst_host_same_src_port_rate_less_than_one': 1.0, 'random500_8': 1.0, 'overall': 1.0}\n"
          ]
        },
        {
          "name": "stderr",
          "output_type": "stream",
          "text": [
            "INFO:tensorflow:CAV accuracies: {'dst_host_same_src_port_rate_less_than_one': 1.0, 'random500_8': 1.0, 'overall': 1.0}\n"
          ]
        },
        {
          "name": "stdout",
          "output_type": "stream",
          "text": [
            "INFO:tensorflow:Running param 119 of 220\n"
          ]
        },
        {
          "name": "stderr",
          "output_type": "stream",
          "text": [
            "INFO:tensorflow:Running param 119 of 220\n"
          ]
        },
        {
          "name": "stdout",
          "output_type": "stream",
          "text": [
            "INFO:tensorflow:running normal. ['dst_host_same_src_port_rate_less_than_one', 'random500_9']\n"
          ]
        },
        {
          "name": "stderr",
          "output_type": "stream",
          "text": [
            "INFO:tensorflow:running normal. ['dst_host_same_src_port_rate_less_than_one', 'random500_9']\n"
          ]
        },
        {
          "name": "stdout",
          "output_type": "stream",
          "text": [
            "INFO:tensorflow:Loaded ./tcav/tcav_examples/discrete/kdd_sanity2\\activations\\acts_dst_host_same_src_port_rate_less_than_one_dense_1 shape (200, 256)\n"
          ]
        },
        {
          "name": "stderr",
          "output_type": "stream",
          "text": [
            "INFO:tensorflow:Loaded ./tcav/tcav_examples/discrete/kdd_sanity2\\activations\\acts_dst_host_same_src_port_rate_less_than_one_dense_1 shape (200, 256)\n"
          ]
        },
        {
          "name": "stdout",
          "output_type": "stream",
          "text": [
            "INFO:tensorflow:Loaded ./tcav/tcav_examples/discrete/kdd_sanity2\\activations\\acts_random500_9_dense_1 shape (10, 256)\n"
          ]
        },
        {
          "name": "stderr",
          "output_type": "stream",
          "text": [
            "INFO:tensorflow:Loaded ./tcav/tcav_examples/discrete/kdd_sanity2\\activations\\acts_random500_9_dense_1 shape (10, 256)\n"
          ]
        },
        {
          "name": "stdout",
          "output_type": "stream",
          "text": [
            "INFO:tensorflow:Loaded ./tcav/tcav_examples/discrete/kdd_sanity2\\activations\\acts_normal._dense_1 shape (200, 256)\n"
          ]
        },
        {
          "name": "stderr",
          "output_type": "stream",
          "text": [
            "INFO:tensorflow:Loaded ./tcav/tcav_examples/discrete/kdd_sanity2\\activations\\acts_normal._dense_1 shape (200, 256)\n"
          ]
        },
        {
          "name": "stdout",
          "output_type": "stream",
          "text": [
            "INFO:tensorflow:CAV already exists: ./tcav/tcav_examples/discrete/kdd_sanity2\\cav\\dst_host_same_src_port_rate_less_than_one-random500_9-dense_1-linear-0.01.pkl\n"
          ]
        },
        {
          "name": "stderr",
          "output_type": "stream",
          "text": [
            "INFO:tensorflow:CAV already exists: ./tcav/tcav_examples/discrete/kdd_sanity2\\cav\\dst_host_same_src_port_rate_less_than_one-random500_9-dense_1-linear-0.01.pkl\n"
          ]
        },
        {
          "name": "stdout",
          "output_type": "stream",
          "text": [
            "INFO:tensorflow:CAV accuracies: {'dst_host_same_src_port_rate_less_than_one': 1.0, 'random500_9': 1.0, 'overall': 1.0}\n"
          ]
        },
        {
          "name": "stderr",
          "output_type": "stream",
          "text": [
            "INFO:tensorflow:CAV accuracies: {'dst_host_same_src_port_rate_less_than_one': 1.0, 'random500_9': 1.0, 'overall': 1.0}\n"
          ]
        },
        {
          "name": "stdout",
          "output_type": "stream",
          "text": [
            "INFO:tensorflow:Running param 120 of 220\n"
          ]
        },
        {
          "name": "stderr",
          "output_type": "stream",
          "text": [
            "INFO:tensorflow:Running param 120 of 220\n"
          ]
        },
        {
          "name": "stdout",
          "output_type": "stream",
          "text": [
            "INFO:tensorflow:running normal. ['dst_host_same_src_port_rate_more_than_one', 'random500_0']\n"
          ]
        },
        {
          "name": "stderr",
          "output_type": "stream",
          "text": [
            "INFO:tensorflow:running normal. ['dst_host_same_src_port_rate_more_than_one', 'random500_0']\n"
          ]
        },
        {
          "name": "stdout",
          "output_type": "stream",
          "text": [
            "INFO:tensorflow:Loaded ./tcav/tcav_examples/discrete/kdd_sanity2\\activations\\acts_dst_host_same_src_port_rate_more_than_one_dense_1 shape (200, 256)\n"
          ]
        },
        {
          "name": "stderr",
          "output_type": "stream",
          "text": [
            "INFO:tensorflow:Loaded ./tcav/tcav_examples/discrete/kdd_sanity2\\activations\\acts_dst_host_same_src_port_rate_more_than_one_dense_1 shape (200, 256)\n"
          ]
        },
        {
          "name": "stdout",
          "output_type": "stream",
          "text": [
            "INFO:tensorflow:Loaded ./tcav/tcav_examples/discrete/kdd_sanity2\\activations\\acts_random500_0_dense_1 shape (10, 256)\n"
          ]
        },
        {
          "name": "stderr",
          "output_type": "stream",
          "text": [
            "INFO:tensorflow:Loaded ./tcav/tcav_examples/discrete/kdd_sanity2\\activations\\acts_random500_0_dense_1 shape (10, 256)\n"
          ]
        },
        {
          "name": "stdout",
          "output_type": "stream",
          "text": [
            "INFO:tensorflow:Loaded ./tcav/tcav_examples/discrete/kdd_sanity2\\activations\\acts_normal._dense_1 shape (200, 256)\n"
          ]
        },
        {
          "name": "stderr",
          "output_type": "stream",
          "text": [
            "INFO:tensorflow:Loaded ./tcav/tcav_examples/discrete/kdd_sanity2\\activations\\acts_normal._dense_1 shape (200, 256)\n"
          ]
        },
        {
          "name": "stdout",
          "output_type": "stream",
          "text": [
            "INFO:tensorflow:CAV already exists: ./tcav/tcav_examples/discrete/kdd_sanity2\\cav\\dst_host_same_src_port_rate_more_than_one-random500_0-dense_1-linear-0.01.pkl\n"
          ]
        },
        {
          "name": "stderr",
          "output_type": "stream",
          "text": [
            "INFO:tensorflow:CAV already exists: ./tcav/tcav_examples/discrete/kdd_sanity2\\cav\\dst_host_same_src_port_rate_more_than_one-random500_0-dense_1-linear-0.01.pkl\n"
          ]
        },
        {
          "name": "stdout",
          "output_type": "stream",
          "text": [
            "INFO:tensorflow:CAV accuracies: {'dst_host_same_src_port_rate_more_than_one': 1.0, 'random500_0': 0.75, 'overall': 0.8571428571428571}\n"
          ]
        },
        {
          "name": "stderr",
          "output_type": "stream",
          "text": [
            "INFO:tensorflow:CAV accuracies: {'dst_host_same_src_port_rate_more_than_one': 1.0, 'random500_0': 0.75, 'overall': 0.8571428571428571}\n"
          ]
        },
        {
          "name": "stdout",
          "output_type": "stream",
          "text": [
            "INFO:tensorflow:Running param 121 of 220\n"
          ]
        },
        {
          "name": "stderr",
          "output_type": "stream",
          "text": [
            "INFO:tensorflow:Running param 121 of 220\n"
          ]
        },
        {
          "name": "stdout",
          "output_type": "stream",
          "text": [
            "INFO:tensorflow:running normal. ['dst_host_same_src_port_rate_more_than_one', 'random500_1']\n"
          ]
        },
        {
          "name": "stderr",
          "output_type": "stream",
          "text": [
            "INFO:tensorflow:running normal. ['dst_host_same_src_port_rate_more_than_one', 'random500_1']\n"
          ]
        },
        {
          "name": "stdout",
          "output_type": "stream",
          "text": [
            "INFO:tensorflow:Loaded ./tcav/tcav_examples/discrete/kdd_sanity2\\activations\\acts_dst_host_same_src_port_rate_more_than_one_dense_1 shape (200, 256)\n"
          ]
        },
        {
          "name": "stderr",
          "output_type": "stream",
          "text": [
            "INFO:tensorflow:Loaded ./tcav/tcav_examples/discrete/kdd_sanity2\\activations\\acts_dst_host_same_src_port_rate_more_than_one_dense_1 shape (200, 256)\n"
          ]
        },
        {
          "name": "stdout",
          "output_type": "stream",
          "text": [
            "INFO:tensorflow:Loaded ./tcav/tcav_examples/discrete/kdd_sanity2\\activations\\acts_random500_1_dense_1 shape (10, 256)\n"
          ]
        },
        {
          "name": "stderr",
          "output_type": "stream",
          "text": [
            "INFO:tensorflow:Loaded ./tcav/tcav_examples/discrete/kdd_sanity2\\activations\\acts_random500_1_dense_1 shape (10, 256)\n"
          ]
        },
        {
          "name": "stdout",
          "output_type": "stream",
          "text": [
            "INFO:tensorflow:Loaded ./tcav/tcav_examples/discrete/kdd_sanity2\\activations\\acts_normal._dense_1 shape (200, 256)\n"
          ]
        },
        {
          "name": "stderr",
          "output_type": "stream",
          "text": [
            "INFO:tensorflow:Loaded ./tcav/tcav_examples/discrete/kdd_sanity2\\activations\\acts_normal._dense_1 shape (200, 256)\n"
          ]
        },
        {
          "name": "stdout",
          "output_type": "stream",
          "text": [
            "INFO:tensorflow:CAV already exists: ./tcav/tcav_examples/discrete/kdd_sanity2\\cav\\dst_host_same_src_port_rate_more_than_one-random500_1-dense_1-linear-0.01.pkl\n"
          ]
        },
        {
          "name": "stderr",
          "output_type": "stream",
          "text": [
            "INFO:tensorflow:CAV already exists: ./tcav/tcav_examples/discrete/kdd_sanity2\\cav\\dst_host_same_src_port_rate_more_than_one-random500_1-dense_1-linear-0.01.pkl\n"
          ]
        },
        {
          "name": "stdout",
          "output_type": "stream",
          "text": [
            "INFO:tensorflow:CAV accuracies: {'dst_host_same_src_port_rate_more_than_one': 1.0, 'random500_1': 0.75, 'overall': 0.8571428571428571}\n"
          ]
        },
        {
          "name": "stderr",
          "output_type": "stream",
          "text": [
            "INFO:tensorflow:CAV accuracies: {'dst_host_same_src_port_rate_more_than_one': 1.0, 'random500_1': 0.75, 'overall': 0.8571428571428571}\n"
          ]
        },
        {
          "name": "stdout",
          "output_type": "stream",
          "text": [
            "INFO:tensorflow:Running param 122 of 220\n"
          ]
        },
        {
          "name": "stderr",
          "output_type": "stream",
          "text": [
            "INFO:tensorflow:Running param 122 of 220\n"
          ]
        },
        {
          "name": "stdout",
          "output_type": "stream",
          "text": [
            "INFO:tensorflow:running normal. ['dst_host_same_src_port_rate_more_than_one', 'random500_2']\n"
          ]
        },
        {
          "name": "stderr",
          "output_type": "stream",
          "text": [
            "INFO:tensorflow:running normal. ['dst_host_same_src_port_rate_more_than_one', 'random500_2']\n"
          ]
        },
        {
          "name": "stdout",
          "output_type": "stream",
          "text": [
            "INFO:tensorflow:Loaded ./tcav/tcav_examples/discrete/kdd_sanity2\\activations\\acts_dst_host_same_src_port_rate_more_than_one_dense_1 shape (200, 256)\n"
          ]
        },
        {
          "name": "stderr",
          "output_type": "stream",
          "text": [
            "INFO:tensorflow:Loaded ./tcav/tcav_examples/discrete/kdd_sanity2\\activations\\acts_dst_host_same_src_port_rate_more_than_one_dense_1 shape (200, 256)\n"
          ]
        },
        {
          "name": "stdout",
          "output_type": "stream",
          "text": [
            "INFO:tensorflow:Loaded ./tcav/tcav_examples/discrete/kdd_sanity2\\activations\\acts_random500_2_dense_1 shape (10, 256)\n"
          ]
        },
        {
          "name": "stderr",
          "output_type": "stream",
          "text": [
            "INFO:tensorflow:Loaded ./tcav/tcav_examples/discrete/kdd_sanity2\\activations\\acts_random500_2_dense_1 shape (10, 256)\n"
          ]
        },
        {
          "name": "stdout",
          "output_type": "stream",
          "text": [
            "INFO:tensorflow:Loaded ./tcav/tcav_examples/discrete/kdd_sanity2\\activations\\acts_normal._dense_1 shape (200, 256)\n"
          ]
        },
        {
          "name": "stderr",
          "output_type": "stream",
          "text": [
            "INFO:tensorflow:Loaded ./tcav/tcav_examples/discrete/kdd_sanity2\\activations\\acts_normal._dense_1 shape (200, 256)\n"
          ]
        },
        {
          "name": "stdout",
          "output_type": "stream",
          "text": [
            "INFO:tensorflow:CAV already exists: ./tcav/tcav_examples/discrete/kdd_sanity2\\cav\\dst_host_same_src_port_rate_more_than_one-random500_2-dense_1-linear-0.01.pkl\n"
          ]
        },
        {
          "name": "stderr",
          "output_type": "stream",
          "text": [
            "INFO:tensorflow:CAV already exists: ./tcav/tcav_examples/discrete/kdd_sanity2\\cav\\dst_host_same_src_port_rate_more_than_one-random500_2-dense_1-linear-0.01.pkl\n"
          ]
        },
        {
          "name": "stdout",
          "output_type": "stream",
          "text": [
            "INFO:tensorflow:CAV accuracies: {'dst_host_same_src_port_rate_more_than_one': 1.0, 'random500_2': 1.0, 'overall': 1.0}\n"
          ]
        },
        {
          "name": "stderr",
          "output_type": "stream",
          "text": [
            "INFO:tensorflow:CAV accuracies: {'dst_host_same_src_port_rate_more_than_one': 1.0, 'random500_2': 1.0, 'overall': 1.0}\n"
          ]
        },
        {
          "name": "stdout",
          "output_type": "stream",
          "text": [
            "INFO:tensorflow:Running param 123 of 220\n"
          ]
        },
        {
          "name": "stderr",
          "output_type": "stream",
          "text": [
            "INFO:tensorflow:Running param 123 of 220\n"
          ]
        },
        {
          "name": "stdout",
          "output_type": "stream",
          "text": [
            "INFO:tensorflow:running normal. ['dst_host_same_src_port_rate_more_than_one', 'random500_3']\n"
          ]
        },
        {
          "name": "stderr",
          "output_type": "stream",
          "text": [
            "INFO:tensorflow:running normal. ['dst_host_same_src_port_rate_more_than_one', 'random500_3']\n"
          ]
        },
        {
          "name": "stdout",
          "output_type": "stream",
          "text": [
            "INFO:tensorflow:Loaded ./tcav/tcav_examples/discrete/kdd_sanity2\\activations\\acts_dst_host_same_src_port_rate_more_than_one_dense_1 shape (200, 256)\n"
          ]
        },
        {
          "name": "stderr",
          "output_type": "stream",
          "text": [
            "INFO:tensorflow:Loaded ./tcav/tcav_examples/discrete/kdd_sanity2\\activations\\acts_dst_host_same_src_port_rate_more_than_one_dense_1 shape (200, 256)\n"
          ]
        },
        {
          "name": "stdout",
          "output_type": "stream",
          "text": [
            "INFO:tensorflow:Loaded ./tcav/tcav_examples/discrete/kdd_sanity2\\activations\\acts_random500_3_dense_1 shape (10, 256)\n"
          ]
        },
        {
          "name": "stderr",
          "output_type": "stream",
          "text": [
            "INFO:tensorflow:Loaded ./tcav/tcav_examples/discrete/kdd_sanity2\\activations\\acts_random500_3_dense_1 shape (10, 256)\n"
          ]
        },
        {
          "name": "stdout",
          "output_type": "stream",
          "text": [
            "INFO:tensorflow:Loaded ./tcav/tcav_examples/discrete/kdd_sanity2\\activations\\acts_normal._dense_1 shape (200, 256)\n"
          ]
        },
        {
          "name": "stderr",
          "output_type": "stream",
          "text": [
            "INFO:tensorflow:Loaded ./tcav/tcav_examples/discrete/kdd_sanity2\\activations\\acts_normal._dense_1 shape (200, 256)\n"
          ]
        },
        {
          "name": "stdout",
          "output_type": "stream",
          "text": [
            "INFO:tensorflow:CAV already exists: ./tcav/tcav_examples/discrete/kdd_sanity2\\cav\\dst_host_same_src_port_rate_more_than_one-random500_3-dense_1-linear-0.01.pkl\n"
          ]
        },
        {
          "name": "stderr",
          "output_type": "stream",
          "text": [
            "INFO:tensorflow:CAV already exists: ./tcav/tcav_examples/discrete/kdd_sanity2\\cav\\dst_host_same_src_port_rate_more_than_one-random500_3-dense_1-linear-0.01.pkl\n"
          ]
        },
        {
          "name": "stdout",
          "output_type": "stream",
          "text": [
            "INFO:tensorflow:CAV accuracies: {'dst_host_same_src_port_rate_more_than_one': 1.0, 'random500_3': 1.0, 'overall': 1.0}\n"
          ]
        },
        {
          "name": "stderr",
          "output_type": "stream",
          "text": [
            "INFO:tensorflow:CAV accuracies: {'dst_host_same_src_port_rate_more_than_one': 1.0, 'random500_3': 1.0, 'overall': 1.0}\n"
          ]
        },
        {
          "name": "stdout",
          "output_type": "stream",
          "text": [
            "INFO:tensorflow:Running param 124 of 220\n"
          ]
        },
        {
          "name": "stderr",
          "output_type": "stream",
          "text": [
            "INFO:tensorflow:Running param 124 of 220\n"
          ]
        },
        {
          "name": "stdout",
          "output_type": "stream",
          "text": [
            "INFO:tensorflow:running normal. ['dst_host_same_src_port_rate_more_than_one', 'random500_4']\n"
          ]
        },
        {
          "name": "stderr",
          "output_type": "stream",
          "text": [
            "INFO:tensorflow:running normal. ['dst_host_same_src_port_rate_more_than_one', 'random500_4']\n"
          ]
        },
        {
          "name": "stdout",
          "output_type": "stream",
          "text": [
            "INFO:tensorflow:Loaded ./tcav/tcav_examples/discrete/kdd_sanity2\\activations\\acts_dst_host_same_src_port_rate_more_than_one_dense_1 shape (200, 256)\n"
          ]
        },
        {
          "name": "stderr",
          "output_type": "stream",
          "text": [
            "INFO:tensorflow:Loaded ./tcav/tcav_examples/discrete/kdd_sanity2\\activations\\acts_dst_host_same_src_port_rate_more_than_one_dense_1 shape (200, 256)\n"
          ]
        },
        {
          "name": "stdout",
          "output_type": "stream",
          "text": [
            "INFO:tensorflow:Loaded ./tcav/tcav_examples/discrete/kdd_sanity2\\activations\\acts_random500_4_dense_1 shape (10, 256)\n"
          ]
        },
        {
          "name": "stderr",
          "output_type": "stream",
          "text": [
            "INFO:tensorflow:Loaded ./tcav/tcav_examples/discrete/kdd_sanity2\\activations\\acts_random500_4_dense_1 shape (10, 256)\n"
          ]
        },
        {
          "name": "stdout",
          "output_type": "stream",
          "text": [
            "INFO:tensorflow:Loaded ./tcav/tcav_examples/discrete/kdd_sanity2\\activations\\acts_normal._dense_1 shape (200, 256)\n"
          ]
        },
        {
          "name": "stderr",
          "output_type": "stream",
          "text": [
            "INFO:tensorflow:Loaded ./tcav/tcav_examples/discrete/kdd_sanity2\\activations\\acts_normal._dense_1 shape (200, 256)\n"
          ]
        },
        {
          "name": "stdout",
          "output_type": "stream",
          "text": [
            "INFO:tensorflow:CAV already exists: ./tcav/tcav_examples/discrete/kdd_sanity2\\cav\\dst_host_same_src_port_rate_more_than_one-random500_4-dense_1-linear-0.01.pkl\n"
          ]
        },
        {
          "name": "stderr",
          "output_type": "stream",
          "text": [
            "INFO:tensorflow:CAV already exists: ./tcav/tcav_examples/discrete/kdd_sanity2\\cav\\dst_host_same_src_port_rate_more_than_one-random500_4-dense_1-linear-0.01.pkl\n"
          ]
        },
        {
          "name": "stdout",
          "output_type": "stream",
          "text": [
            "INFO:tensorflow:CAV accuracies: {'dst_host_same_src_port_rate_more_than_one': 1.0, 'random500_4': 0.6666666666666666, 'overall': 0.8571428571428571}\n"
          ]
        },
        {
          "name": "stderr",
          "output_type": "stream",
          "text": [
            "INFO:tensorflow:CAV accuracies: {'dst_host_same_src_port_rate_more_than_one': 1.0, 'random500_4': 0.6666666666666666, 'overall': 0.8571428571428571}\n"
          ]
        },
        {
          "name": "stdout",
          "output_type": "stream",
          "text": [
            "INFO:tensorflow:Running param 125 of 220\n"
          ]
        },
        {
          "name": "stderr",
          "output_type": "stream",
          "text": [
            "INFO:tensorflow:Running param 125 of 220\n"
          ]
        },
        {
          "name": "stdout",
          "output_type": "stream",
          "text": [
            "INFO:tensorflow:running normal. ['dst_host_same_src_port_rate_more_than_one', 'random500_5']\n"
          ]
        },
        {
          "name": "stderr",
          "output_type": "stream",
          "text": [
            "INFO:tensorflow:running normal. ['dst_host_same_src_port_rate_more_than_one', 'random500_5']\n"
          ]
        },
        {
          "name": "stdout",
          "output_type": "stream",
          "text": [
            "INFO:tensorflow:Loaded ./tcav/tcav_examples/discrete/kdd_sanity2\\activations\\acts_dst_host_same_src_port_rate_more_than_one_dense_1 shape (200, 256)\n"
          ]
        },
        {
          "name": "stderr",
          "output_type": "stream",
          "text": [
            "INFO:tensorflow:Loaded ./tcav/tcav_examples/discrete/kdd_sanity2\\activations\\acts_dst_host_same_src_port_rate_more_than_one_dense_1 shape (200, 256)\n"
          ]
        },
        {
          "name": "stdout",
          "output_type": "stream",
          "text": [
            "INFO:tensorflow:Loaded ./tcav/tcav_examples/discrete/kdd_sanity2\\activations\\acts_random500_5_dense_1 shape (10, 256)\n"
          ]
        },
        {
          "name": "stderr",
          "output_type": "stream",
          "text": [
            "INFO:tensorflow:Loaded ./tcav/tcav_examples/discrete/kdd_sanity2\\activations\\acts_random500_5_dense_1 shape (10, 256)\n"
          ]
        },
        {
          "name": "stdout",
          "output_type": "stream",
          "text": [
            "INFO:tensorflow:Loaded ./tcav/tcav_examples/discrete/kdd_sanity2\\activations\\acts_normal._dense_1 shape (200, 256)\n"
          ]
        },
        {
          "name": "stderr",
          "output_type": "stream",
          "text": [
            "INFO:tensorflow:Loaded ./tcav/tcav_examples/discrete/kdd_sanity2\\activations\\acts_normal._dense_1 shape (200, 256)\n"
          ]
        },
        {
          "name": "stdout",
          "output_type": "stream",
          "text": [
            "INFO:tensorflow:CAV already exists: ./tcav/tcav_examples/discrete/kdd_sanity2\\cav\\dst_host_same_src_port_rate_more_than_one-random500_5-dense_1-linear-0.01.pkl\n"
          ]
        },
        {
          "name": "stderr",
          "output_type": "stream",
          "text": [
            "INFO:tensorflow:CAV already exists: ./tcav/tcav_examples/discrete/kdd_sanity2\\cav\\dst_host_same_src_port_rate_more_than_one-random500_5-dense_1-linear-0.01.pkl\n"
          ]
        },
        {
          "name": "stdout",
          "output_type": "stream",
          "text": [
            "INFO:tensorflow:CAV accuracies: {'dst_host_same_src_port_rate_more_than_one': 1.0, 'random500_5': 0.5, 'overall': 0.7142857142857143}\n"
          ]
        },
        {
          "name": "stderr",
          "output_type": "stream",
          "text": [
            "INFO:tensorflow:CAV accuracies: {'dst_host_same_src_port_rate_more_than_one': 1.0, 'random500_5': 0.5, 'overall': 0.7142857142857143}\n"
          ]
        },
        {
          "name": "stdout",
          "output_type": "stream",
          "text": [
            "INFO:tensorflow:Running param 126 of 220\n"
          ]
        },
        {
          "name": "stderr",
          "output_type": "stream",
          "text": [
            "INFO:tensorflow:Running param 126 of 220\n"
          ]
        },
        {
          "name": "stdout",
          "output_type": "stream",
          "text": [
            "INFO:tensorflow:running normal. ['dst_host_same_src_port_rate_more_than_one', 'random500_6']\n"
          ]
        },
        {
          "name": "stderr",
          "output_type": "stream",
          "text": [
            "INFO:tensorflow:running normal. ['dst_host_same_src_port_rate_more_than_one', 'random500_6']\n"
          ]
        },
        {
          "name": "stdout",
          "output_type": "stream",
          "text": [
            "INFO:tensorflow:Loaded ./tcav/tcav_examples/discrete/kdd_sanity2\\activations\\acts_dst_host_same_src_port_rate_more_than_one_dense_1 shape (200, 256)\n"
          ]
        },
        {
          "name": "stderr",
          "output_type": "stream",
          "text": [
            "INFO:tensorflow:Loaded ./tcav/tcav_examples/discrete/kdd_sanity2\\activations\\acts_dst_host_same_src_port_rate_more_than_one_dense_1 shape (200, 256)\n"
          ]
        },
        {
          "name": "stdout",
          "output_type": "stream",
          "text": [
            "INFO:tensorflow:Loaded ./tcav/tcav_examples/discrete/kdd_sanity2\\activations\\acts_random500_6_dense_1 shape (10, 256)\n"
          ]
        },
        {
          "name": "stderr",
          "output_type": "stream",
          "text": [
            "INFO:tensorflow:Loaded ./tcav/tcav_examples/discrete/kdd_sanity2\\activations\\acts_random500_6_dense_1 shape (10, 256)\n"
          ]
        },
        {
          "name": "stdout",
          "output_type": "stream",
          "text": [
            "INFO:tensorflow:Loaded ./tcav/tcav_examples/discrete/kdd_sanity2\\activations\\acts_normal._dense_1 shape (200, 256)\n"
          ]
        },
        {
          "name": "stderr",
          "output_type": "stream",
          "text": [
            "INFO:tensorflow:Loaded ./tcav/tcav_examples/discrete/kdd_sanity2\\activations\\acts_normal._dense_1 shape (200, 256)\n"
          ]
        },
        {
          "name": "stdout",
          "output_type": "stream",
          "text": [
            "INFO:tensorflow:CAV already exists: ./tcav/tcav_examples/discrete/kdd_sanity2\\cav\\dst_host_same_src_port_rate_more_than_one-random500_6-dense_1-linear-0.01.pkl\n"
          ]
        },
        {
          "name": "stderr",
          "output_type": "stream",
          "text": [
            "INFO:tensorflow:CAV already exists: ./tcav/tcav_examples/discrete/kdd_sanity2\\cav\\dst_host_same_src_port_rate_more_than_one-random500_6-dense_1-linear-0.01.pkl\n"
          ]
        },
        {
          "name": "stdout",
          "output_type": "stream",
          "text": [
            "INFO:tensorflow:CAV accuracies: {'dst_host_same_src_port_rate_more_than_one': 1.0, 'random500_6': 0.3333333333333333, 'overall': 0.7142857142857143}\n"
          ]
        },
        {
          "name": "stderr",
          "output_type": "stream",
          "text": [
            "INFO:tensorflow:CAV accuracies: {'dst_host_same_src_port_rate_more_than_one': 1.0, 'random500_6': 0.3333333333333333, 'overall': 0.7142857142857143}\n"
          ]
        },
        {
          "name": "stdout",
          "output_type": "stream",
          "text": [
            "INFO:tensorflow:Running param 127 of 220\n"
          ]
        },
        {
          "name": "stderr",
          "output_type": "stream",
          "text": [
            "INFO:tensorflow:Running param 127 of 220\n"
          ]
        },
        {
          "name": "stdout",
          "output_type": "stream",
          "text": [
            "INFO:tensorflow:running normal. ['dst_host_same_src_port_rate_more_than_one', 'random500_7']\n"
          ]
        },
        {
          "name": "stderr",
          "output_type": "stream",
          "text": [
            "INFO:tensorflow:running normal. ['dst_host_same_src_port_rate_more_than_one', 'random500_7']\n"
          ]
        },
        {
          "name": "stdout",
          "output_type": "stream",
          "text": [
            "INFO:tensorflow:Loaded ./tcav/tcav_examples/discrete/kdd_sanity2\\activations\\acts_dst_host_same_src_port_rate_more_than_one_dense_1 shape (200, 256)\n"
          ]
        },
        {
          "name": "stderr",
          "output_type": "stream",
          "text": [
            "INFO:tensorflow:Loaded ./tcav/tcav_examples/discrete/kdd_sanity2\\activations\\acts_dst_host_same_src_port_rate_more_than_one_dense_1 shape (200, 256)\n"
          ]
        },
        {
          "name": "stdout",
          "output_type": "stream",
          "text": [
            "INFO:tensorflow:Loaded ./tcav/tcav_examples/discrete/kdd_sanity2\\activations\\acts_random500_7_dense_1 shape (10, 256)\n"
          ]
        },
        {
          "name": "stderr",
          "output_type": "stream",
          "text": [
            "INFO:tensorflow:Loaded ./tcav/tcav_examples/discrete/kdd_sanity2\\activations\\acts_random500_7_dense_1 shape (10, 256)\n"
          ]
        },
        {
          "name": "stdout",
          "output_type": "stream",
          "text": [
            "INFO:tensorflow:Loaded ./tcav/tcav_examples/discrete/kdd_sanity2\\activations\\acts_normal._dense_1 shape (200, 256)\n"
          ]
        },
        {
          "name": "stderr",
          "output_type": "stream",
          "text": [
            "INFO:tensorflow:Loaded ./tcav/tcav_examples/discrete/kdd_sanity2\\activations\\acts_normal._dense_1 shape (200, 256)\n"
          ]
        },
        {
          "name": "stdout",
          "output_type": "stream",
          "text": [
            "INFO:tensorflow:CAV already exists: ./tcav/tcav_examples/discrete/kdd_sanity2\\cav\\dst_host_same_src_port_rate_more_than_one-random500_7-dense_1-linear-0.01.pkl\n"
          ]
        },
        {
          "name": "stderr",
          "output_type": "stream",
          "text": [
            "INFO:tensorflow:CAV already exists: ./tcav/tcav_examples/discrete/kdd_sanity2\\cav\\dst_host_same_src_port_rate_more_than_one-random500_7-dense_1-linear-0.01.pkl\n"
          ]
        },
        {
          "name": "stdout",
          "output_type": "stream",
          "text": [
            "INFO:tensorflow:CAV accuracies: {'dst_host_same_src_port_rate_more_than_one': 1.0, 'random500_7': 0.75, 'overall': 0.8571428571428571}\n"
          ]
        },
        {
          "name": "stderr",
          "output_type": "stream",
          "text": [
            "INFO:tensorflow:CAV accuracies: {'dst_host_same_src_port_rate_more_than_one': 1.0, 'random500_7': 0.75, 'overall': 0.8571428571428571}\n"
          ]
        },
        {
          "name": "stdout",
          "output_type": "stream",
          "text": [
            "INFO:tensorflow:Running param 128 of 220\n"
          ]
        },
        {
          "name": "stderr",
          "output_type": "stream",
          "text": [
            "INFO:tensorflow:Running param 128 of 220\n"
          ]
        },
        {
          "name": "stdout",
          "output_type": "stream",
          "text": [
            "INFO:tensorflow:running normal. ['dst_host_same_src_port_rate_more_than_one', 'random500_8']\n"
          ]
        },
        {
          "name": "stderr",
          "output_type": "stream",
          "text": [
            "INFO:tensorflow:running normal. ['dst_host_same_src_port_rate_more_than_one', 'random500_8']\n"
          ]
        },
        {
          "name": "stdout",
          "output_type": "stream",
          "text": [
            "INFO:tensorflow:Loaded ./tcav/tcav_examples/discrete/kdd_sanity2\\activations\\acts_dst_host_same_src_port_rate_more_than_one_dense_1 shape (200, 256)\n"
          ]
        },
        {
          "name": "stderr",
          "output_type": "stream",
          "text": [
            "INFO:tensorflow:Loaded ./tcav/tcav_examples/discrete/kdd_sanity2\\activations\\acts_dst_host_same_src_port_rate_more_than_one_dense_1 shape (200, 256)\n"
          ]
        },
        {
          "name": "stdout",
          "output_type": "stream",
          "text": [
            "INFO:tensorflow:Loaded ./tcav/tcav_examples/discrete/kdd_sanity2\\activations\\acts_random500_8_dense_1 shape (10, 256)\n"
          ]
        },
        {
          "name": "stderr",
          "output_type": "stream",
          "text": [
            "INFO:tensorflow:Loaded ./tcav/tcav_examples/discrete/kdd_sanity2\\activations\\acts_random500_8_dense_1 shape (10, 256)\n"
          ]
        },
        {
          "name": "stdout",
          "output_type": "stream",
          "text": [
            "INFO:tensorflow:Loaded ./tcav/tcav_examples/discrete/kdd_sanity2\\activations\\acts_normal._dense_1 shape (200, 256)\n"
          ]
        },
        {
          "name": "stderr",
          "output_type": "stream",
          "text": [
            "INFO:tensorflow:Loaded ./tcav/tcav_examples/discrete/kdd_sanity2\\activations\\acts_normal._dense_1 shape (200, 256)\n"
          ]
        },
        {
          "name": "stdout",
          "output_type": "stream",
          "text": [
            "INFO:tensorflow:CAV already exists: ./tcav/tcav_examples/discrete/kdd_sanity2\\cav\\dst_host_same_src_port_rate_more_than_one-random500_8-dense_1-linear-0.01.pkl\n"
          ]
        },
        {
          "name": "stderr",
          "output_type": "stream",
          "text": [
            "INFO:tensorflow:CAV already exists: ./tcav/tcav_examples/discrete/kdd_sanity2\\cav\\dst_host_same_src_port_rate_more_than_one-random500_8-dense_1-linear-0.01.pkl\n"
          ]
        },
        {
          "name": "stdout",
          "output_type": "stream",
          "text": [
            "INFO:tensorflow:CAV accuracies: {'dst_host_same_src_port_rate_more_than_one': 1.0, 'random500_8': 1.0, 'overall': 1.0}\n"
          ]
        },
        {
          "name": "stderr",
          "output_type": "stream",
          "text": [
            "INFO:tensorflow:CAV accuracies: {'dst_host_same_src_port_rate_more_than_one': 1.0, 'random500_8': 1.0, 'overall': 1.0}\n"
          ]
        },
        {
          "name": "stdout",
          "output_type": "stream",
          "text": [
            "INFO:tensorflow:Running param 129 of 220\n"
          ]
        },
        {
          "name": "stderr",
          "output_type": "stream",
          "text": [
            "INFO:tensorflow:Running param 129 of 220\n"
          ]
        },
        {
          "name": "stdout",
          "output_type": "stream",
          "text": [
            "INFO:tensorflow:running normal. ['dst_host_same_src_port_rate_more_than_one', 'random500_9']\n"
          ]
        },
        {
          "name": "stderr",
          "output_type": "stream",
          "text": [
            "INFO:tensorflow:running normal. ['dst_host_same_src_port_rate_more_than_one', 'random500_9']\n"
          ]
        },
        {
          "name": "stdout",
          "output_type": "stream",
          "text": [
            "INFO:tensorflow:Loaded ./tcav/tcav_examples/discrete/kdd_sanity2\\activations\\acts_dst_host_same_src_port_rate_more_than_one_dense_1 shape (200, 256)\n"
          ]
        },
        {
          "name": "stderr",
          "output_type": "stream",
          "text": [
            "INFO:tensorflow:Loaded ./tcav/tcav_examples/discrete/kdd_sanity2\\activations\\acts_dst_host_same_src_port_rate_more_than_one_dense_1 shape (200, 256)\n"
          ]
        },
        {
          "name": "stdout",
          "output_type": "stream",
          "text": [
            "INFO:tensorflow:Loaded ./tcav/tcav_examples/discrete/kdd_sanity2\\activations\\acts_random500_9_dense_1 shape (10, 256)\n"
          ]
        },
        {
          "name": "stderr",
          "output_type": "stream",
          "text": [
            "INFO:tensorflow:Loaded ./tcav/tcav_examples/discrete/kdd_sanity2\\activations\\acts_random500_9_dense_1 shape (10, 256)\n"
          ]
        },
        {
          "name": "stdout",
          "output_type": "stream",
          "text": [
            "INFO:tensorflow:Loaded ./tcav/tcav_examples/discrete/kdd_sanity2\\activations\\acts_normal._dense_1 shape (200, 256)\n"
          ]
        },
        {
          "name": "stderr",
          "output_type": "stream",
          "text": [
            "INFO:tensorflow:Loaded ./tcav/tcav_examples/discrete/kdd_sanity2\\activations\\acts_normal._dense_1 shape (200, 256)\n"
          ]
        },
        {
          "name": "stdout",
          "output_type": "stream",
          "text": [
            "INFO:tensorflow:CAV already exists: ./tcav/tcav_examples/discrete/kdd_sanity2\\cav\\dst_host_same_src_port_rate_more_than_one-random500_9-dense_1-linear-0.01.pkl\n"
          ]
        },
        {
          "name": "stderr",
          "output_type": "stream",
          "text": [
            "INFO:tensorflow:CAV already exists: ./tcav/tcav_examples/discrete/kdd_sanity2\\cav\\dst_host_same_src_port_rate_more_than_one-random500_9-dense_1-linear-0.01.pkl\n"
          ]
        },
        {
          "name": "stdout",
          "output_type": "stream",
          "text": [
            "INFO:tensorflow:CAV accuracies: {'dst_host_same_src_port_rate_more_than_one': 1.0, 'random500_9': 1.0, 'overall': 1.0}\n"
          ]
        },
        {
          "name": "stderr",
          "output_type": "stream",
          "text": [
            "INFO:tensorflow:CAV accuracies: {'dst_host_same_src_port_rate_more_than_one': 1.0, 'random500_9': 1.0, 'overall': 1.0}\n"
          ]
        },
        {
          "name": "stdout",
          "output_type": "stream",
          "text": [
            "INFO:tensorflow:Running param 130 of 220\n"
          ]
        },
        {
          "name": "stderr",
          "output_type": "stream",
          "text": [
            "INFO:tensorflow:Running param 130 of 220\n"
          ]
        },
        {
          "name": "stdout",
          "output_type": "stream",
          "text": [
            "INFO:tensorflow:running normal. ['random500_0', 'random500_1']\n"
          ]
        },
        {
          "name": "stderr",
          "output_type": "stream",
          "text": [
            "INFO:tensorflow:running normal. ['random500_0', 'random500_1']\n"
          ]
        },
        {
          "name": "stdout",
          "output_type": "stream",
          "text": [
            "INFO:tensorflow:Loaded ./tcav/tcav_examples/discrete/kdd_sanity2\\activations\\acts_random500_0_dense_1 shape (10, 256)\n"
          ]
        },
        {
          "name": "stderr",
          "output_type": "stream",
          "text": [
            "INFO:tensorflow:Loaded ./tcav/tcav_examples/discrete/kdd_sanity2\\activations\\acts_random500_0_dense_1 shape (10, 256)\n"
          ]
        },
        {
          "name": "stdout",
          "output_type": "stream",
          "text": [
            "INFO:tensorflow:Loaded ./tcav/tcav_examples/discrete/kdd_sanity2\\activations\\acts_random500_1_dense_1 shape (10, 256)\n"
          ]
        },
        {
          "name": "stderr",
          "output_type": "stream",
          "text": [
            "INFO:tensorflow:Loaded ./tcav/tcav_examples/discrete/kdd_sanity2\\activations\\acts_random500_1_dense_1 shape (10, 256)\n"
          ]
        },
        {
          "name": "stdout",
          "output_type": "stream",
          "text": [
            "INFO:tensorflow:Loaded ./tcav/tcav_examples/discrete/kdd_sanity2\\activations\\acts_normal._dense_1 shape (200, 256)\n"
          ]
        },
        {
          "name": "stderr",
          "output_type": "stream",
          "text": [
            "INFO:tensorflow:Loaded ./tcav/tcav_examples/discrete/kdd_sanity2\\activations\\acts_normal._dense_1 shape (200, 256)\n"
          ]
        },
        {
          "name": "stdout",
          "output_type": "stream",
          "text": [
            "INFO:tensorflow:CAV already exists: ./tcav/tcav_examples/discrete/kdd_sanity2\\cav\\random500_0-random500_1-dense_1-linear-0.01.pkl\n"
          ]
        },
        {
          "name": "stderr",
          "output_type": "stream",
          "text": [
            "INFO:tensorflow:CAV already exists: ./tcav/tcav_examples/discrete/kdd_sanity2\\cav\\random500_0-random500_1-dense_1-linear-0.01.pkl\n"
          ]
        },
        {
          "name": "stdout",
          "output_type": "stream",
          "text": [
            "INFO:tensorflow:CAV accuracies: {'random500_0': 1.0, 'random500_1': 0.25, 'overall': 0.5714285714285714}\n"
          ]
        },
        {
          "name": "stderr",
          "output_type": "stream",
          "text": [
            "INFO:tensorflow:CAV accuracies: {'random500_0': 1.0, 'random500_1': 0.25, 'overall': 0.5714285714285714}\n"
          ]
        },
        {
          "name": "stdout",
          "output_type": "stream",
          "text": [
            "INFO:tensorflow:Running param 131 of 220\n"
          ]
        },
        {
          "name": "stderr",
          "output_type": "stream",
          "text": [
            "INFO:tensorflow:Running param 131 of 220\n"
          ]
        },
        {
          "name": "stdout",
          "output_type": "stream",
          "text": [
            "INFO:tensorflow:running normal. ['random500_0', 'random500_2']\n"
          ]
        },
        {
          "name": "stderr",
          "output_type": "stream",
          "text": [
            "INFO:tensorflow:running normal. ['random500_0', 'random500_2']\n"
          ]
        },
        {
          "name": "stdout",
          "output_type": "stream",
          "text": [
            "INFO:tensorflow:Loaded ./tcav/tcav_examples/discrete/kdd_sanity2\\activations\\acts_random500_0_dense_1 shape (10, 256)\n"
          ]
        },
        {
          "name": "stderr",
          "output_type": "stream",
          "text": [
            "INFO:tensorflow:Loaded ./tcav/tcav_examples/discrete/kdd_sanity2\\activations\\acts_random500_0_dense_1 shape (10, 256)\n"
          ]
        },
        {
          "name": "stdout",
          "output_type": "stream",
          "text": [
            "INFO:tensorflow:Loaded ./tcav/tcav_examples/discrete/kdd_sanity2\\activations\\acts_random500_2_dense_1 shape (10, 256)\n"
          ]
        },
        {
          "name": "stderr",
          "output_type": "stream",
          "text": [
            "INFO:tensorflow:Loaded ./tcav/tcav_examples/discrete/kdd_sanity2\\activations\\acts_random500_2_dense_1 shape (10, 256)\n"
          ]
        },
        {
          "name": "stdout",
          "output_type": "stream",
          "text": [
            "INFO:tensorflow:Loaded ./tcav/tcav_examples/discrete/kdd_sanity2\\activations\\acts_normal._dense_1 shape (200, 256)\n"
          ]
        },
        {
          "name": "stderr",
          "output_type": "stream",
          "text": [
            "INFO:tensorflow:Loaded ./tcav/tcav_examples/discrete/kdd_sanity2\\activations\\acts_normal._dense_1 shape (200, 256)\n"
          ]
        },
        {
          "name": "stdout",
          "output_type": "stream",
          "text": [
            "INFO:tensorflow:CAV already exists: ./tcav/tcav_examples/discrete/kdd_sanity2\\cav\\random500_0-random500_2-dense_1-linear-0.01.pkl\n"
          ]
        },
        {
          "name": "stderr",
          "output_type": "stream",
          "text": [
            "INFO:tensorflow:CAV already exists: ./tcav/tcav_examples/discrete/kdd_sanity2\\cav\\random500_0-random500_2-dense_1-linear-0.01.pkl\n"
          ]
        },
        {
          "name": "stdout",
          "output_type": "stream",
          "text": [
            "INFO:tensorflow:CAV accuracies: {'random500_0': 0.6666666666666666, 'random500_2': 0.75, 'overall': 0.7142857142857143}\n"
          ]
        },
        {
          "name": "stderr",
          "output_type": "stream",
          "text": [
            "INFO:tensorflow:CAV accuracies: {'random500_0': 0.6666666666666666, 'random500_2': 0.75, 'overall': 0.7142857142857143}\n"
          ]
        },
        {
          "name": "stdout",
          "output_type": "stream",
          "text": [
            "INFO:tensorflow:Running param 132 of 220\n"
          ]
        },
        {
          "name": "stderr",
          "output_type": "stream",
          "text": [
            "INFO:tensorflow:Running param 132 of 220\n"
          ]
        },
        {
          "name": "stdout",
          "output_type": "stream",
          "text": [
            "INFO:tensorflow:running normal. ['random500_0', 'random500_3']\n"
          ]
        },
        {
          "name": "stderr",
          "output_type": "stream",
          "text": [
            "INFO:tensorflow:running normal. ['random500_0', 'random500_3']\n"
          ]
        },
        {
          "name": "stdout",
          "output_type": "stream",
          "text": [
            "INFO:tensorflow:Loaded ./tcav/tcav_examples/discrete/kdd_sanity2\\activations\\acts_random500_0_dense_1 shape (10, 256)\n"
          ]
        },
        {
          "name": "stderr",
          "output_type": "stream",
          "text": [
            "INFO:tensorflow:Loaded ./tcav/tcav_examples/discrete/kdd_sanity2\\activations\\acts_random500_0_dense_1 shape (10, 256)\n"
          ]
        },
        {
          "name": "stdout",
          "output_type": "stream",
          "text": [
            "INFO:tensorflow:Loaded ./tcav/tcav_examples/discrete/kdd_sanity2\\activations\\acts_random500_3_dense_1 shape (10, 256)\n"
          ]
        },
        {
          "name": "stderr",
          "output_type": "stream",
          "text": [
            "INFO:tensorflow:Loaded ./tcav/tcav_examples/discrete/kdd_sanity2\\activations\\acts_random500_3_dense_1 shape (10, 256)\n"
          ]
        },
        {
          "name": "stdout",
          "output_type": "stream",
          "text": [
            "INFO:tensorflow:Loaded ./tcav/tcav_examples/discrete/kdd_sanity2\\activations\\acts_normal._dense_1 shape (200, 256)\n"
          ]
        },
        {
          "name": "stderr",
          "output_type": "stream",
          "text": [
            "INFO:tensorflow:Loaded ./tcav/tcav_examples/discrete/kdd_sanity2\\activations\\acts_normal._dense_1 shape (200, 256)\n"
          ]
        },
        {
          "name": "stdout",
          "output_type": "stream",
          "text": [
            "INFO:tensorflow:CAV already exists: ./tcav/tcav_examples/discrete/kdd_sanity2\\cav\\random500_0-random500_3-dense_1-linear-0.01.pkl\n"
          ]
        },
        {
          "name": "stderr",
          "output_type": "stream",
          "text": [
            "INFO:tensorflow:CAV already exists: ./tcav/tcav_examples/discrete/kdd_sanity2\\cav\\random500_0-random500_3-dense_1-linear-0.01.pkl\n"
          ]
        },
        {
          "name": "stdout",
          "output_type": "stream",
          "text": [
            "INFO:tensorflow:CAV accuracies: {'random500_0': 0.0, 'random500_3': 1.0, 'overall': 0.42857142857142855}\n"
          ]
        },
        {
          "name": "stderr",
          "output_type": "stream",
          "text": [
            "INFO:tensorflow:CAV accuracies: {'random500_0': 0.0, 'random500_3': 1.0, 'overall': 0.42857142857142855}\n"
          ]
        },
        {
          "name": "stdout",
          "output_type": "stream",
          "text": [
            "INFO:tensorflow:Running param 133 of 220\n"
          ]
        },
        {
          "name": "stderr",
          "output_type": "stream",
          "text": [
            "INFO:tensorflow:Running param 133 of 220\n"
          ]
        },
        {
          "name": "stdout",
          "output_type": "stream",
          "text": [
            "INFO:tensorflow:running normal. ['random500_0', 'random500_4']\n"
          ]
        },
        {
          "name": "stderr",
          "output_type": "stream",
          "text": [
            "INFO:tensorflow:running normal. ['random500_0', 'random500_4']\n"
          ]
        },
        {
          "name": "stdout",
          "output_type": "stream",
          "text": [
            "INFO:tensorflow:Loaded ./tcav/tcav_examples/discrete/kdd_sanity2\\activations\\acts_random500_0_dense_1 shape (10, 256)\n"
          ]
        },
        {
          "name": "stderr",
          "output_type": "stream",
          "text": [
            "INFO:tensorflow:Loaded ./tcav/tcav_examples/discrete/kdd_sanity2\\activations\\acts_random500_0_dense_1 shape (10, 256)\n"
          ]
        },
        {
          "name": "stdout",
          "output_type": "stream",
          "text": [
            "INFO:tensorflow:Loaded ./tcav/tcav_examples/discrete/kdd_sanity2\\activations\\acts_random500_4_dense_1 shape (10, 256)\n"
          ]
        },
        {
          "name": "stderr",
          "output_type": "stream",
          "text": [
            "INFO:tensorflow:Loaded ./tcav/tcav_examples/discrete/kdd_sanity2\\activations\\acts_random500_4_dense_1 shape (10, 256)\n"
          ]
        },
        {
          "name": "stdout",
          "output_type": "stream",
          "text": [
            "INFO:tensorflow:Loaded ./tcav/tcav_examples/discrete/kdd_sanity2\\activations\\acts_normal._dense_1 shape (200, 256)\n"
          ]
        },
        {
          "name": "stderr",
          "output_type": "stream",
          "text": [
            "INFO:tensorflow:Loaded ./tcav/tcav_examples/discrete/kdd_sanity2\\activations\\acts_normal._dense_1 shape (200, 256)\n"
          ]
        },
        {
          "name": "stdout",
          "output_type": "stream",
          "text": [
            "INFO:tensorflow:CAV already exists: ./tcav/tcav_examples/discrete/kdd_sanity2\\cav\\random500_0-random500_4-dense_1-linear-0.01.pkl\n"
          ]
        },
        {
          "name": "stderr",
          "output_type": "stream",
          "text": [
            "INFO:tensorflow:CAV already exists: ./tcav/tcav_examples/discrete/kdd_sanity2\\cav\\random500_0-random500_4-dense_1-linear-0.01.pkl\n"
          ]
        },
        {
          "name": "stdout",
          "output_type": "stream",
          "text": [
            "INFO:tensorflow:CAV accuracies: {'random500_0': 0.0, 'random500_4': 1.0, 'overall': 0.42857142857142855}\n"
          ]
        },
        {
          "name": "stderr",
          "output_type": "stream",
          "text": [
            "INFO:tensorflow:CAV accuracies: {'random500_0': 0.0, 'random500_4': 1.0, 'overall': 0.42857142857142855}\n"
          ]
        },
        {
          "name": "stdout",
          "output_type": "stream",
          "text": [
            "INFO:tensorflow:Running param 134 of 220\n"
          ]
        },
        {
          "name": "stderr",
          "output_type": "stream",
          "text": [
            "INFO:tensorflow:Running param 134 of 220\n"
          ]
        },
        {
          "name": "stdout",
          "output_type": "stream",
          "text": [
            "INFO:tensorflow:running normal. ['random500_0', 'random500_5']\n"
          ]
        },
        {
          "name": "stderr",
          "output_type": "stream",
          "text": [
            "INFO:tensorflow:running normal. ['random500_0', 'random500_5']\n"
          ]
        },
        {
          "name": "stdout",
          "output_type": "stream",
          "text": [
            "INFO:tensorflow:Loaded ./tcav/tcav_examples/discrete/kdd_sanity2\\activations\\acts_random500_0_dense_1 shape (10, 256)\n"
          ]
        },
        {
          "name": "stderr",
          "output_type": "stream",
          "text": [
            "INFO:tensorflow:Loaded ./tcav/tcav_examples/discrete/kdd_sanity2\\activations\\acts_random500_0_dense_1 shape (10, 256)\n"
          ]
        },
        {
          "name": "stdout",
          "output_type": "stream",
          "text": [
            "INFO:tensorflow:Loaded ./tcav/tcav_examples/discrete/kdd_sanity2\\activations\\acts_random500_5_dense_1 shape (10, 256)\n"
          ]
        },
        {
          "name": "stderr",
          "output_type": "stream",
          "text": [
            "INFO:tensorflow:Loaded ./tcav/tcav_examples/discrete/kdd_sanity2\\activations\\acts_random500_5_dense_1 shape (10, 256)\n"
          ]
        },
        {
          "name": "stdout",
          "output_type": "stream",
          "text": [
            "INFO:tensorflow:Loaded ./tcav/tcav_examples/discrete/kdd_sanity2\\activations\\acts_normal._dense_1 shape (200, 256)\n"
          ]
        },
        {
          "name": "stderr",
          "output_type": "stream",
          "text": [
            "INFO:tensorflow:Loaded ./tcav/tcav_examples/discrete/kdd_sanity2\\activations\\acts_normal._dense_1 shape (200, 256)\n"
          ]
        },
        {
          "name": "stdout",
          "output_type": "stream",
          "text": [
            "INFO:tensorflow:CAV already exists: ./tcav/tcav_examples/discrete/kdd_sanity2\\cav\\random500_0-random500_5-dense_1-linear-0.01.pkl\n"
          ]
        },
        {
          "name": "stderr",
          "output_type": "stream",
          "text": [
            "INFO:tensorflow:CAV already exists: ./tcav/tcav_examples/discrete/kdd_sanity2\\cav\\random500_0-random500_5-dense_1-linear-0.01.pkl\n"
          ]
        },
        {
          "name": "stdout",
          "output_type": "stream",
          "text": [
            "INFO:tensorflow:CAV accuracies: {'random500_0': 1.0, 'random500_5': 0.5, 'overall': 0.7142857142857143}\n"
          ]
        },
        {
          "name": "stderr",
          "output_type": "stream",
          "text": [
            "INFO:tensorflow:CAV accuracies: {'random500_0': 1.0, 'random500_5': 0.5, 'overall': 0.7142857142857143}\n"
          ]
        },
        {
          "name": "stdout",
          "output_type": "stream",
          "text": [
            "INFO:tensorflow:Running param 135 of 220\n"
          ]
        },
        {
          "name": "stderr",
          "output_type": "stream",
          "text": [
            "INFO:tensorflow:Running param 135 of 220\n"
          ]
        },
        {
          "name": "stdout",
          "output_type": "stream",
          "text": [
            "INFO:tensorflow:running normal. ['random500_0', 'random500_6']\n"
          ]
        },
        {
          "name": "stderr",
          "output_type": "stream",
          "text": [
            "INFO:tensorflow:running normal. ['random500_0', 'random500_6']\n"
          ]
        },
        {
          "name": "stdout",
          "output_type": "stream",
          "text": [
            "INFO:tensorflow:Loaded ./tcav/tcav_examples/discrete/kdd_sanity2\\activations\\acts_random500_0_dense_1 shape (10, 256)\n"
          ]
        },
        {
          "name": "stderr",
          "output_type": "stream",
          "text": [
            "INFO:tensorflow:Loaded ./tcav/tcav_examples/discrete/kdd_sanity2\\activations\\acts_random500_0_dense_1 shape (10, 256)\n"
          ]
        },
        {
          "name": "stdout",
          "output_type": "stream",
          "text": [
            "INFO:tensorflow:Loaded ./tcav/tcav_examples/discrete/kdd_sanity2\\activations\\acts_random500_6_dense_1 shape (10, 256)\n"
          ]
        },
        {
          "name": "stderr",
          "output_type": "stream",
          "text": [
            "INFO:tensorflow:Loaded ./tcav/tcav_examples/discrete/kdd_sanity2\\activations\\acts_random500_6_dense_1 shape (10, 256)\n"
          ]
        },
        {
          "name": "stdout",
          "output_type": "stream",
          "text": [
            "INFO:tensorflow:Loaded ./tcav/tcav_examples/discrete/kdd_sanity2\\activations\\acts_normal._dense_1 shape (200, 256)\n"
          ]
        },
        {
          "name": "stderr",
          "output_type": "stream",
          "text": [
            "INFO:tensorflow:Loaded ./tcav/tcav_examples/discrete/kdd_sanity2\\activations\\acts_normal._dense_1 shape (200, 256)\n"
          ]
        },
        {
          "name": "stdout",
          "output_type": "stream",
          "text": [
            "INFO:tensorflow:CAV already exists: ./tcav/tcav_examples/discrete/kdd_sanity2\\cav\\random500_0-random500_6-dense_1-linear-0.01.pkl\n"
          ]
        },
        {
          "name": "stderr",
          "output_type": "stream",
          "text": [
            "INFO:tensorflow:CAV already exists: ./tcav/tcav_examples/discrete/kdd_sanity2\\cav\\random500_0-random500_6-dense_1-linear-0.01.pkl\n"
          ]
        },
        {
          "name": "stdout",
          "output_type": "stream",
          "text": [
            "INFO:tensorflow:CAV accuracies: {'random500_0': 1.0, 'random500_6': 0.5, 'overall': 0.7142857142857143}\n"
          ]
        },
        {
          "name": "stderr",
          "output_type": "stream",
          "text": [
            "INFO:tensorflow:CAV accuracies: {'random500_0': 1.0, 'random500_6': 0.5, 'overall': 0.7142857142857143}\n"
          ]
        },
        {
          "name": "stdout",
          "output_type": "stream",
          "text": [
            "INFO:tensorflow:Running param 136 of 220\n"
          ]
        },
        {
          "name": "stderr",
          "output_type": "stream",
          "text": [
            "INFO:tensorflow:Running param 136 of 220\n"
          ]
        },
        {
          "name": "stdout",
          "output_type": "stream",
          "text": [
            "INFO:tensorflow:running normal. ['random500_0', 'random500_7']\n"
          ]
        },
        {
          "name": "stderr",
          "output_type": "stream",
          "text": [
            "INFO:tensorflow:running normal. ['random500_0', 'random500_7']\n"
          ]
        },
        {
          "name": "stdout",
          "output_type": "stream",
          "text": [
            "INFO:tensorflow:Loaded ./tcav/tcav_examples/discrete/kdd_sanity2\\activations\\acts_random500_0_dense_1 shape (10, 256)\n"
          ]
        },
        {
          "name": "stderr",
          "output_type": "stream",
          "text": [
            "INFO:tensorflow:Loaded ./tcav/tcav_examples/discrete/kdd_sanity2\\activations\\acts_random500_0_dense_1 shape (10, 256)\n"
          ]
        },
        {
          "name": "stdout",
          "output_type": "stream",
          "text": [
            "INFO:tensorflow:Loaded ./tcav/tcav_examples/discrete/kdd_sanity2\\activations\\acts_random500_7_dense_1 shape (10, 256)\n"
          ]
        },
        {
          "name": "stderr",
          "output_type": "stream",
          "text": [
            "INFO:tensorflow:Loaded ./tcav/tcav_examples/discrete/kdd_sanity2\\activations\\acts_random500_7_dense_1 shape (10, 256)\n"
          ]
        },
        {
          "name": "stdout",
          "output_type": "stream",
          "text": [
            "INFO:tensorflow:Loaded ./tcav/tcav_examples/discrete/kdd_sanity2\\activations\\acts_normal._dense_1 shape (200, 256)\n"
          ]
        },
        {
          "name": "stderr",
          "output_type": "stream",
          "text": [
            "INFO:tensorflow:Loaded ./tcav/tcav_examples/discrete/kdd_sanity2\\activations\\acts_normal._dense_1 shape (200, 256)\n"
          ]
        },
        {
          "name": "stdout",
          "output_type": "stream",
          "text": [
            "INFO:tensorflow:CAV already exists: ./tcav/tcav_examples/discrete/kdd_sanity2\\cav\\random500_0-random500_7-dense_1-linear-0.01.pkl\n"
          ]
        },
        {
          "name": "stderr",
          "output_type": "stream",
          "text": [
            "INFO:tensorflow:CAV already exists: ./tcav/tcav_examples/discrete/kdd_sanity2\\cav\\random500_0-random500_7-dense_1-linear-0.01.pkl\n"
          ]
        },
        {
          "name": "stdout",
          "output_type": "stream",
          "text": [
            "INFO:tensorflow:CAV accuracies: {'random500_0': 1.0, 'random500_7': 0.6666666666666666, 'overall': 0.8571428571428571}\n"
          ]
        },
        {
          "name": "stderr",
          "output_type": "stream",
          "text": [
            "INFO:tensorflow:CAV accuracies: {'random500_0': 1.0, 'random500_7': 0.6666666666666666, 'overall': 0.8571428571428571}\n"
          ]
        },
        {
          "name": "stdout",
          "output_type": "stream",
          "text": [
            "INFO:tensorflow:Running param 137 of 220\n"
          ]
        },
        {
          "name": "stderr",
          "output_type": "stream",
          "text": [
            "INFO:tensorflow:Running param 137 of 220\n"
          ]
        },
        {
          "name": "stdout",
          "output_type": "stream",
          "text": [
            "INFO:tensorflow:running normal. ['random500_0', 'random500_8']\n"
          ]
        },
        {
          "name": "stderr",
          "output_type": "stream",
          "text": [
            "INFO:tensorflow:running normal. ['random500_0', 'random500_8']\n"
          ]
        },
        {
          "name": "stdout",
          "output_type": "stream",
          "text": [
            "INFO:tensorflow:Loaded ./tcav/tcav_examples/discrete/kdd_sanity2\\activations\\acts_random500_0_dense_1 shape (10, 256)\n"
          ]
        },
        {
          "name": "stderr",
          "output_type": "stream",
          "text": [
            "INFO:tensorflow:Loaded ./tcav/tcav_examples/discrete/kdd_sanity2\\activations\\acts_random500_0_dense_1 shape (10, 256)\n"
          ]
        },
        {
          "name": "stdout",
          "output_type": "stream",
          "text": [
            "INFO:tensorflow:Loaded ./tcav/tcav_examples/discrete/kdd_sanity2\\activations\\acts_random500_8_dense_1 shape (10, 256)\n"
          ]
        },
        {
          "name": "stderr",
          "output_type": "stream",
          "text": [
            "INFO:tensorflow:Loaded ./tcav/tcav_examples/discrete/kdd_sanity2\\activations\\acts_random500_8_dense_1 shape (10, 256)\n"
          ]
        },
        {
          "name": "stdout",
          "output_type": "stream",
          "text": [
            "INFO:tensorflow:Loaded ./tcav/tcav_examples/discrete/kdd_sanity2\\activations\\acts_normal._dense_1 shape (200, 256)\n"
          ]
        },
        {
          "name": "stderr",
          "output_type": "stream",
          "text": [
            "INFO:tensorflow:Loaded ./tcav/tcav_examples/discrete/kdd_sanity2\\activations\\acts_normal._dense_1 shape (200, 256)\n"
          ]
        },
        {
          "name": "stdout",
          "output_type": "stream",
          "text": [
            "INFO:tensorflow:CAV already exists: ./tcav/tcav_examples/discrete/kdd_sanity2\\cav\\random500_0-random500_8-dense_1-linear-0.01.pkl\n"
          ]
        },
        {
          "name": "stderr",
          "output_type": "stream",
          "text": [
            "INFO:tensorflow:CAV already exists: ./tcav/tcav_examples/discrete/kdd_sanity2\\cav\\random500_0-random500_8-dense_1-linear-0.01.pkl\n"
          ]
        },
        {
          "name": "stdout",
          "output_type": "stream",
          "text": [
            "INFO:tensorflow:CAV accuracies: {'random500_0': 0.0, 'random500_8': 0.5, 'overall': 0.2857142857142857}\n"
          ]
        },
        {
          "name": "stderr",
          "output_type": "stream",
          "text": [
            "INFO:tensorflow:CAV accuracies: {'random500_0': 0.0, 'random500_8': 0.5, 'overall': 0.2857142857142857}\n"
          ]
        },
        {
          "name": "stdout",
          "output_type": "stream",
          "text": [
            "INFO:tensorflow:Running param 138 of 220\n"
          ]
        },
        {
          "name": "stderr",
          "output_type": "stream",
          "text": [
            "INFO:tensorflow:Running param 138 of 220\n"
          ]
        },
        {
          "name": "stdout",
          "output_type": "stream",
          "text": [
            "INFO:tensorflow:running normal. ['random500_0', 'random500_9']\n"
          ]
        },
        {
          "name": "stderr",
          "output_type": "stream",
          "text": [
            "INFO:tensorflow:running normal. ['random500_0', 'random500_9']\n"
          ]
        },
        {
          "name": "stdout",
          "output_type": "stream",
          "text": [
            "INFO:tensorflow:Loaded ./tcav/tcav_examples/discrete/kdd_sanity2\\activations\\acts_random500_0_dense_1 shape (10, 256)\n"
          ]
        },
        {
          "name": "stderr",
          "output_type": "stream",
          "text": [
            "INFO:tensorflow:Loaded ./tcav/tcav_examples/discrete/kdd_sanity2\\activations\\acts_random500_0_dense_1 shape (10, 256)\n"
          ]
        },
        {
          "name": "stdout",
          "output_type": "stream",
          "text": [
            "INFO:tensorflow:Loaded ./tcav/tcav_examples/discrete/kdd_sanity2\\activations\\acts_random500_9_dense_1 shape (10, 256)\n"
          ]
        },
        {
          "name": "stderr",
          "output_type": "stream",
          "text": [
            "INFO:tensorflow:Loaded ./tcav/tcav_examples/discrete/kdd_sanity2\\activations\\acts_random500_9_dense_1 shape (10, 256)\n"
          ]
        },
        {
          "name": "stdout",
          "output_type": "stream",
          "text": [
            "INFO:tensorflow:Loaded ./tcav/tcav_examples/discrete/kdd_sanity2\\activations\\acts_normal._dense_1 shape (200, 256)\n"
          ]
        },
        {
          "name": "stderr",
          "output_type": "stream",
          "text": [
            "INFO:tensorflow:Loaded ./tcav/tcav_examples/discrete/kdd_sanity2\\activations\\acts_normal._dense_1 shape (200, 256)\n"
          ]
        },
        {
          "name": "stdout",
          "output_type": "stream",
          "text": [
            "INFO:tensorflow:CAV already exists: ./tcav/tcav_examples/discrete/kdd_sanity2\\cav\\random500_0-random500_9-dense_1-linear-0.01.pkl\n"
          ]
        },
        {
          "name": "stderr",
          "output_type": "stream",
          "text": [
            "INFO:tensorflow:CAV already exists: ./tcav/tcav_examples/discrete/kdd_sanity2\\cav\\random500_0-random500_9-dense_1-linear-0.01.pkl\n"
          ]
        },
        {
          "name": "stdout",
          "output_type": "stream",
          "text": [
            "INFO:tensorflow:CAV accuracies: {'random500_0': 0.75, 'random500_9': 0.6666666666666666, 'overall': 0.7142857142857143}\n"
          ]
        },
        {
          "name": "stderr",
          "output_type": "stream",
          "text": [
            "INFO:tensorflow:CAV accuracies: {'random500_0': 0.75, 'random500_9': 0.6666666666666666, 'overall': 0.7142857142857143}\n"
          ]
        },
        {
          "name": "stdout",
          "output_type": "stream",
          "text": [
            "INFO:tensorflow:Running param 139 of 220\n"
          ]
        },
        {
          "name": "stderr",
          "output_type": "stream",
          "text": [
            "INFO:tensorflow:Running param 139 of 220\n"
          ]
        },
        {
          "name": "stdout",
          "output_type": "stream",
          "text": [
            "INFO:tensorflow:running normal. ['random500_1', 'random500_0']\n"
          ]
        },
        {
          "name": "stderr",
          "output_type": "stream",
          "text": [
            "INFO:tensorflow:running normal. ['random500_1', 'random500_0']\n"
          ]
        },
        {
          "name": "stdout",
          "output_type": "stream",
          "text": [
            "INFO:tensorflow:Loaded ./tcav/tcav_examples/discrete/kdd_sanity2\\activations\\acts_random500_1_dense_1 shape (10, 256)\n"
          ]
        },
        {
          "name": "stderr",
          "output_type": "stream",
          "text": [
            "INFO:tensorflow:Loaded ./tcav/tcav_examples/discrete/kdd_sanity2\\activations\\acts_random500_1_dense_1 shape (10, 256)\n"
          ]
        },
        {
          "name": "stdout",
          "output_type": "stream",
          "text": [
            "INFO:tensorflow:Loaded ./tcav/tcav_examples/discrete/kdd_sanity2\\activations\\acts_random500_0_dense_1 shape (10, 256)\n"
          ]
        },
        {
          "name": "stderr",
          "output_type": "stream",
          "text": [
            "INFO:tensorflow:Loaded ./tcav/tcav_examples/discrete/kdd_sanity2\\activations\\acts_random500_0_dense_1 shape (10, 256)\n"
          ]
        },
        {
          "name": "stdout",
          "output_type": "stream",
          "text": [
            "INFO:tensorflow:Loaded ./tcav/tcav_examples/discrete/kdd_sanity2\\activations\\acts_normal._dense_1 shape (200, 256)\n"
          ]
        },
        {
          "name": "stderr",
          "output_type": "stream",
          "text": [
            "INFO:tensorflow:Loaded ./tcav/tcav_examples/discrete/kdd_sanity2\\activations\\acts_normal._dense_1 shape (200, 256)\n"
          ]
        },
        {
          "name": "stdout",
          "output_type": "stream",
          "text": [
            "INFO:tensorflow:CAV already exists: ./tcav/tcav_examples/discrete/kdd_sanity2\\cav\\random500_1-random500_0-dense_1-linear-0.01.pkl\n"
          ]
        },
        {
          "name": "stderr",
          "output_type": "stream",
          "text": [
            "INFO:tensorflow:CAV already exists: ./tcav/tcav_examples/discrete/kdd_sanity2\\cav\\random500_1-random500_0-dense_1-linear-0.01.pkl\n"
          ]
        },
        {
          "name": "stdout",
          "output_type": "stream",
          "text": [
            "INFO:tensorflow:CAV accuracies: {'random500_1': 0.0, 'random500_0': 1.0, 'overall': 0.42857142857142855}\n"
          ]
        },
        {
          "name": "stderr",
          "output_type": "stream",
          "text": [
            "INFO:tensorflow:CAV accuracies: {'random500_1': 0.0, 'random500_0': 1.0, 'overall': 0.42857142857142855}\n"
          ]
        },
        {
          "name": "stdout",
          "output_type": "stream",
          "text": [
            "INFO:tensorflow:Running param 140 of 220\n"
          ]
        },
        {
          "name": "stderr",
          "output_type": "stream",
          "text": [
            "INFO:tensorflow:Running param 140 of 220\n"
          ]
        },
        {
          "name": "stdout",
          "output_type": "stream",
          "text": [
            "INFO:tensorflow:running normal. ['random500_1', 'random500_2']\n"
          ]
        },
        {
          "name": "stderr",
          "output_type": "stream",
          "text": [
            "INFO:tensorflow:running normal. ['random500_1', 'random500_2']\n"
          ]
        },
        {
          "name": "stdout",
          "output_type": "stream",
          "text": [
            "INFO:tensorflow:Loaded ./tcav/tcav_examples/discrete/kdd_sanity2\\activations\\acts_random500_1_dense_1 shape (10, 256)\n"
          ]
        },
        {
          "name": "stderr",
          "output_type": "stream",
          "text": [
            "INFO:tensorflow:Loaded ./tcav/tcav_examples/discrete/kdd_sanity2\\activations\\acts_random500_1_dense_1 shape (10, 256)\n"
          ]
        },
        {
          "name": "stdout",
          "output_type": "stream",
          "text": [
            "INFO:tensorflow:Loaded ./tcav/tcav_examples/discrete/kdd_sanity2\\activations\\acts_random500_2_dense_1 shape (10, 256)\n"
          ]
        },
        {
          "name": "stderr",
          "output_type": "stream",
          "text": [
            "INFO:tensorflow:Loaded ./tcav/tcav_examples/discrete/kdd_sanity2\\activations\\acts_random500_2_dense_1 shape (10, 256)\n"
          ]
        },
        {
          "name": "stdout",
          "output_type": "stream",
          "text": [
            "INFO:tensorflow:Loaded ./tcav/tcav_examples/discrete/kdd_sanity2\\activations\\acts_normal._dense_1 shape (200, 256)\n"
          ]
        },
        {
          "name": "stderr",
          "output_type": "stream",
          "text": [
            "INFO:tensorflow:Loaded ./tcav/tcav_examples/discrete/kdd_sanity2\\activations\\acts_normal._dense_1 shape (200, 256)\n"
          ]
        },
        {
          "name": "stdout",
          "output_type": "stream",
          "text": [
            "INFO:tensorflow:CAV already exists: ./tcav/tcav_examples/discrete/kdd_sanity2\\cav\\random500_1-random500_2-dense_1-linear-0.01.pkl\n"
          ]
        },
        {
          "name": "stderr",
          "output_type": "stream",
          "text": [
            "INFO:tensorflow:CAV already exists: ./tcav/tcav_examples/discrete/kdd_sanity2\\cav\\random500_1-random500_2-dense_1-linear-0.01.pkl\n"
          ]
        },
        {
          "name": "stdout",
          "output_type": "stream",
          "text": [
            "INFO:tensorflow:CAV accuracies: {'random500_1': 0.0, 'random500_2': 1.0, 'overall': 0.42857142857142855}\n"
          ]
        },
        {
          "name": "stderr",
          "output_type": "stream",
          "text": [
            "INFO:tensorflow:CAV accuracies: {'random500_1': 0.0, 'random500_2': 1.0, 'overall': 0.42857142857142855}\n"
          ]
        },
        {
          "name": "stdout",
          "output_type": "stream",
          "text": [
            "INFO:tensorflow:Running param 141 of 220\n"
          ]
        },
        {
          "name": "stderr",
          "output_type": "stream",
          "text": [
            "INFO:tensorflow:Running param 141 of 220\n"
          ]
        },
        {
          "name": "stdout",
          "output_type": "stream",
          "text": [
            "INFO:tensorflow:running normal. ['random500_1', 'random500_3']\n"
          ]
        },
        {
          "name": "stderr",
          "output_type": "stream",
          "text": [
            "INFO:tensorflow:running normal. ['random500_1', 'random500_3']\n"
          ]
        },
        {
          "name": "stdout",
          "output_type": "stream",
          "text": [
            "INFO:tensorflow:Loaded ./tcav/tcav_examples/discrete/kdd_sanity2\\activations\\acts_random500_1_dense_1 shape (10, 256)\n"
          ]
        },
        {
          "name": "stderr",
          "output_type": "stream",
          "text": [
            "INFO:tensorflow:Loaded ./tcav/tcav_examples/discrete/kdd_sanity2\\activations\\acts_random500_1_dense_1 shape (10, 256)\n"
          ]
        },
        {
          "name": "stdout",
          "output_type": "stream",
          "text": [
            "INFO:tensorflow:Loaded ./tcav/tcav_examples/discrete/kdd_sanity2\\activations\\acts_random500_3_dense_1 shape (10, 256)\n"
          ]
        },
        {
          "name": "stderr",
          "output_type": "stream",
          "text": [
            "INFO:tensorflow:Loaded ./tcav/tcav_examples/discrete/kdd_sanity2\\activations\\acts_random500_3_dense_1 shape (10, 256)\n"
          ]
        },
        {
          "name": "stdout",
          "output_type": "stream",
          "text": [
            "INFO:tensorflow:Loaded ./tcav/tcav_examples/discrete/kdd_sanity2\\activations\\acts_normal._dense_1 shape (200, 256)\n"
          ]
        },
        {
          "name": "stderr",
          "output_type": "stream",
          "text": [
            "INFO:tensorflow:Loaded ./tcav/tcav_examples/discrete/kdd_sanity2\\activations\\acts_normal._dense_1 shape (200, 256)\n"
          ]
        },
        {
          "name": "stdout",
          "output_type": "stream",
          "text": [
            "INFO:tensorflow:CAV already exists: ./tcav/tcav_examples/discrete/kdd_sanity2\\cav\\random500_1-random500_3-dense_1-linear-0.01.pkl\n"
          ]
        },
        {
          "name": "stderr",
          "output_type": "stream",
          "text": [
            "INFO:tensorflow:CAV already exists: ./tcav/tcav_examples/discrete/kdd_sanity2\\cav\\random500_1-random500_3-dense_1-linear-0.01.pkl\n"
          ]
        },
        {
          "name": "stdout",
          "output_type": "stream",
          "text": [
            "INFO:tensorflow:CAV accuracies: {'random500_1': 0.0, 'random500_3': 1.0, 'overall': 0.42857142857142855}\n"
          ]
        },
        {
          "name": "stderr",
          "output_type": "stream",
          "text": [
            "INFO:tensorflow:CAV accuracies: {'random500_1': 0.0, 'random500_3': 1.0, 'overall': 0.42857142857142855}\n"
          ]
        },
        {
          "name": "stdout",
          "output_type": "stream",
          "text": [
            "INFO:tensorflow:Running param 142 of 220\n"
          ]
        },
        {
          "name": "stderr",
          "output_type": "stream",
          "text": [
            "INFO:tensorflow:Running param 142 of 220\n"
          ]
        },
        {
          "name": "stdout",
          "output_type": "stream",
          "text": [
            "INFO:tensorflow:running normal. ['random500_1', 'random500_4']\n"
          ]
        },
        {
          "name": "stderr",
          "output_type": "stream",
          "text": [
            "INFO:tensorflow:running normal. ['random500_1', 'random500_4']\n"
          ]
        },
        {
          "name": "stdout",
          "output_type": "stream",
          "text": [
            "INFO:tensorflow:Loaded ./tcav/tcav_examples/discrete/kdd_sanity2\\activations\\acts_random500_1_dense_1 shape (10, 256)\n"
          ]
        },
        {
          "name": "stderr",
          "output_type": "stream",
          "text": [
            "INFO:tensorflow:Loaded ./tcav/tcav_examples/discrete/kdd_sanity2\\activations\\acts_random500_1_dense_1 shape (10, 256)\n"
          ]
        },
        {
          "name": "stdout",
          "output_type": "stream",
          "text": [
            "INFO:tensorflow:Loaded ./tcav/tcav_examples/discrete/kdd_sanity2\\activations\\acts_random500_4_dense_1 shape (10, 256)\n"
          ]
        },
        {
          "name": "stderr",
          "output_type": "stream",
          "text": [
            "INFO:tensorflow:Loaded ./tcav/tcav_examples/discrete/kdd_sanity2\\activations\\acts_random500_4_dense_1 shape (10, 256)\n"
          ]
        },
        {
          "name": "stdout",
          "output_type": "stream",
          "text": [
            "INFO:tensorflow:Loaded ./tcav/tcav_examples/discrete/kdd_sanity2\\activations\\acts_normal._dense_1 shape (200, 256)\n"
          ]
        },
        {
          "name": "stderr",
          "output_type": "stream",
          "text": [
            "INFO:tensorflow:Loaded ./tcav/tcav_examples/discrete/kdd_sanity2\\activations\\acts_normal._dense_1 shape (200, 256)\n"
          ]
        },
        {
          "name": "stdout",
          "output_type": "stream",
          "text": [
            "INFO:tensorflow:CAV already exists: ./tcav/tcav_examples/discrete/kdd_sanity2\\cav\\random500_1-random500_4-dense_1-linear-0.01.pkl\n"
          ]
        },
        {
          "name": "stderr",
          "output_type": "stream",
          "text": [
            "INFO:tensorflow:CAV already exists: ./tcav/tcav_examples/discrete/kdd_sanity2\\cav\\random500_1-random500_4-dense_1-linear-0.01.pkl\n"
          ]
        },
        {
          "name": "stdout",
          "output_type": "stream",
          "text": [
            "INFO:tensorflow:CAV accuracies: {'random500_1': 1.0, 'random500_4': 0.25, 'overall': 0.5714285714285714}\n"
          ]
        },
        {
          "name": "stderr",
          "output_type": "stream",
          "text": [
            "INFO:tensorflow:CAV accuracies: {'random500_1': 1.0, 'random500_4': 0.25, 'overall': 0.5714285714285714}\n"
          ]
        },
        {
          "name": "stdout",
          "output_type": "stream",
          "text": [
            "INFO:tensorflow:Running param 143 of 220\n"
          ]
        },
        {
          "name": "stderr",
          "output_type": "stream",
          "text": [
            "INFO:tensorflow:Running param 143 of 220\n"
          ]
        },
        {
          "name": "stdout",
          "output_type": "stream",
          "text": [
            "INFO:tensorflow:running normal. ['random500_1', 'random500_5']\n"
          ]
        },
        {
          "name": "stderr",
          "output_type": "stream",
          "text": [
            "INFO:tensorflow:running normal. ['random500_1', 'random500_5']\n"
          ]
        },
        {
          "name": "stdout",
          "output_type": "stream",
          "text": [
            "INFO:tensorflow:Loaded ./tcav/tcav_examples/discrete/kdd_sanity2\\activations\\acts_random500_1_dense_1 shape (10, 256)\n"
          ]
        },
        {
          "name": "stderr",
          "output_type": "stream",
          "text": [
            "INFO:tensorflow:Loaded ./tcav/tcav_examples/discrete/kdd_sanity2\\activations\\acts_random500_1_dense_1 shape (10, 256)\n"
          ]
        },
        {
          "name": "stdout",
          "output_type": "stream",
          "text": [
            "INFO:tensorflow:Loaded ./tcav/tcav_examples/discrete/kdd_sanity2\\activations\\acts_random500_5_dense_1 shape (10, 256)\n"
          ]
        },
        {
          "name": "stderr",
          "output_type": "stream",
          "text": [
            "INFO:tensorflow:Loaded ./tcav/tcav_examples/discrete/kdd_sanity2\\activations\\acts_random500_5_dense_1 shape (10, 256)\n"
          ]
        },
        {
          "name": "stdout",
          "output_type": "stream",
          "text": [
            "INFO:tensorflow:Loaded ./tcav/tcav_examples/discrete/kdd_sanity2\\activations\\acts_normal._dense_1 shape (200, 256)\n"
          ]
        },
        {
          "name": "stderr",
          "output_type": "stream",
          "text": [
            "INFO:tensorflow:Loaded ./tcav/tcav_examples/discrete/kdd_sanity2\\activations\\acts_normal._dense_1 shape (200, 256)\n"
          ]
        },
        {
          "name": "stdout",
          "output_type": "stream",
          "text": [
            "INFO:tensorflow:CAV already exists: ./tcav/tcav_examples/discrete/kdd_sanity2\\cav\\random500_1-random500_5-dense_1-linear-0.01.pkl\n"
          ]
        },
        {
          "name": "stderr",
          "output_type": "stream",
          "text": [
            "INFO:tensorflow:CAV already exists: ./tcav/tcav_examples/discrete/kdd_sanity2\\cav\\random500_1-random500_5-dense_1-linear-0.01.pkl\n"
          ]
        },
        {
          "name": "stdout",
          "output_type": "stream",
          "text": [
            "INFO:tensorflow:CAV accuracies: {'random500_1': 0.75, 'random500_5': 0.3333333333333333, 'overall': 0.5714285714285714}\n"
          ]
        },
        {
          "name": "stderr",
          "output_type": "stream",
          "text": [
            "INFO:tensorflow:CAV accuracies: {'random500_1': 0.75, 'random500_5': 0.3333333333333333, 'overall': 0.5714285714285714}\n"
          ]
        },
        {
          "name": "stdout",
          "output_type": "stream",
          "text": [
            "INFO:tensorflow:Running param 144 of 220\n"
          ]
        },
        {
          "name": "stderr",
          "output_type": "stream",
          "text": [
            "INFO:tensorflow:Running param 144 of 220\n"
          ]
        },
        {
          "name": "stdout",
          "output_type": "stream",
          "text": [
            "INFO:tensorflow:running normal. ['random500_1', 'random500_6']\n"
          ]
        },
        {
          "name": "stderr",
          "output_type": "stream",
          "text": [
            "INFO:tensorflow:running normal. ['random500_1', 'random500_6']\n"
          ]
        },
        {
          "name": "stdout",
          "output_type": "stream",
          "text": [
            "INFO:tensorflow:Loaded ./tcav/tcav_examples/discrete/kdd_sanity2\\activations\\acts_random500_1_dense_1 shape (10, 256)\n"
          ]
        },
        {
          "name": "stderr",
          "output_type": "stream",
          "text": [
            "INFO:tensorflow:Loaded ./tcav/tcav_examples/discrete/kdd_sanity2\\activations\\acts_random500_1_dense_1 shape (10, 256)\n"
          ]
        },
        {
          "name": "stdout",
          "output_type": "stream",
          "text": [
            "INFO:tensorflow:Loaded ./tcav/tcav_examples/discrete/kdd_sanity2\\activations\\acts_random500_6_dense_1 shape (10, 256)\n"
          ]
        },
        {
          "name": "stderr",
          "output_type": "stream",
          "text": [
            "INFO:tensorflow:Loaded ./tcav/tcav_examples/discrete/kdd_sanity2\\activations\\acts_random500_6_dense_1 shape (10, 256)\n"
          ]
        },
        {
          "name": "stdout",
          "output_type": "stream",
          "text": [
            "INFO:tensorflow:Loaded ./tcav/tcav_examples/discrete/kdd_sanity2\\activations\\acts_normal._dense_1 shape (200, 256)\n"
          ]
        },
        {
          "name": "stderr",
          "output_type": "stream",
          "text": [
            "INFO:tensorflow:Loaded ./tcav/tcav_examples/discrete/kdd_sanity2\\activations\\acts_normal._dense_1 shape (200, 256)\n"
          ]
        },
        {
          "name": "stdout",
          "output_type": "stream",
          "text": [
            "INFO:tensorflow:CAV already exists: ./tcav/tcav_examples/discrete/kdd_sanity2\\cav\\random500_1-random500_6-dense_1-linear-0.01.pkl\n"
          ]
        },
        {
          "name": "stderr",
          "output_type": "stream",
          "text": [
            "INFO:tensorflow:CAV already exists: ./tcav/tcav_examples/discrete/kdd_sanity2\\cav\\random500_1-random500_6-dense_1-linear-0.01.pkl\n"
          ]
        },
        {
          "name": "stdout",
          "output_type": "stream",
          "text": [
            "INFO:tensorflow:CAV accuracies: {'random500_1': 0.25, 'random500_6': 0.6666666666666666, 'overall': 0.42857142857142855}\n"
          ]
        },
        {
          "name": "stderr",
          "output_type": "stream",
          "text": [
            "INFO:tensorflow:CAV accuracies: {'random500_1': 0.25, 'random500_6': 0.6666666666666666, 'overall': 0.42857142857142855}\n"
          ]
        },
        {
          "name": "stdout",
          "output_type": "stream",
          "text": [
            "INFO:tensorflow:Running param 145 of 220\n"
          ]
        },
        {
          "name": "stderr",
          "output_type": "stream",
          "text": [
            "INFO:tensorflow:Running param 145 of 220\n"
          ]
        },
        {
          "name": "stdout",
          "output_type": "stream",
          "text": [
            "INFO:tensorflow:running normal. ['random500_1', 'random500_7']\n"
          ]
        },
        {
          "name": "stderr",
          "output_type": "stream",
          "text": [
            "INFO:tensorflow:running normal. ['random500_1', 'random500_7']\n"
          ]
        },
        {
          "name": "stdout",
          "output_type": "stream",
          "text": [
            "INFO:tensorflow:Loaded ./tcav/tcav_examples/discrete/kdd_sanity2\\activations\\acts_random500_1_dense_1 shape (10, 256)\n"
          ]
        },
        {
          "name": "stderr",
          "output_type": "stream",
          "text": [
            "INFO:tensorflow:Loaded ./tcav/tcav_examples/discrete/kdd_sanity2\\activations\\acts_random500_1_dense_1 shape (10, 256)\n"
          ]
        },
        {
          "name": "stdout",
          "output_type": "stream",
          "text": [
            "INFO:tensorflow:Loaded ./tcav/tcav_examples/discrete/kdd_sanity2\\activations\\acts_random500_7_dense_1 shape (10, 256)\n"
          ]
        },
        {
          "name": "stderr",
          "output_type": "stream",
          "text": [
            "INFO:tensorflow:Loaded ./tcav/tcav_examples/discrete/kdd_sanity2\\activations\\acts_random500_7_dense_1 shape (10, 256)\n"
          ]
        },
        {
          "name": "stdout",
          "output_type": "stream",
          "text": [
            "INFO:tensorflow:Loaded ./tcav/tcav_examples/discrete/kdd_sanity2\\activations\\acts_normal._dense_1 shape (200, 256)\n"
          ]
        },
        {
          "name": "stderr",
          "output_type": "stream",
          "text": [
            "INFO:tensorflow:Loaded ./tcav/tcav_examples/discrete/kdd_sanity2\\activations\\acts_normal._dense_1 shape (200, 256)\n"
          ]
        },
        {
          "name": "stdout",
          "output_type": "stream",
          "text": [
            "INFO:tensorflow:CAV already exists: ./tcav/tcav_examples/discrete/kdd_sanity2\\cav\\random500_1-random500_7-dense_1-linear-0.01.pkl\n"
          ]
        },
        {
          "name": "stderr",
          "output_type": "stream",
          "text": [
            "INFO:tensorflow:CAV already exists: ./tcav/tcav_examples/discrete/kdd_sanity2\\cav\\random500_1-random500_7-dense_1-linear-0.01.pkl\n"
          ]
        },
        {
          "name": "stdout",
          "output_type": "stream",
          "text": [
            "INFO:tensorflow:CAV accuracies: {'random500_1': 0.3333333333333333, 'random500_7': 0.25, 'overall': 0.2857142857142857}\n"
          ]
        },
        {
          "name": "stderr",
          "output_type": "stream",
          "text": [
            "INFO:tensorflow:CAV accuracies: {'random500_1': 0.3333333333333333, 'random500_7': 0.25, 'overall': 0.2857142857142857}\n"
          ]
        },
        {
          "name": "stdout",
          "output_type": "stream",
          "text": [
            "INFO:tensorflow:Running param 146 of 220\n"
          ]
        },
        {
          "name": "stderr",
          "output_type": "stream",
          "text": [
            "INFO:tensorflow:Running param 146 of 220\n"
          ]
        },
        {
          "name": "stdout",
          "output_type": "stream",
          "text": [
            "INFO:tensorflow:running normal. ['random500_1', 'random500_8']\n"
          ]
        },
        {
          "name": "stderr",
          "output_type": "stream",
          "text": [
            "INFO:tensorflow:running normal. ['random500_1', 'random500_8']\n"
          ]
        },
        {
          "name": "stdout",
          "output_type": "stream",
          "text": [
            "INFO:tensorflow:Loaded ./tcav/tcav_examples/discrete/kdd_sanity2\\activations\\acts_random500_1_dense_1 shape (10, 256)\n"
          ]
        },
        {
          "name": "stderr",
          "output_type": "stream",
          "text": [
            "INFO:tensorflow:Loaded ./tcav/tcav_examples/discrete/kdd_sanity2\\activations\\acts_random500_1_dense_1 shape (10, 256)\n"
          ]
        },
        {
          "name": "stdout",
          "output_type": "stream",
          "text": [
            "INFO:tensorflow:Loaded ./tcav/tcav_examples/discrete/kdd_sanity2\\activations\\acts_random500_8_dense_1 shape (10, 256)\n"
          ]
        },
        {
          "name": "stderr",
          "output_type": "stream",
          "text": [
            "INFO:tensorflow:Loaded ./tcav/tcav_examples/discrete/kdd_sanity2\\activations\\acts_random500_8_dense_1 shape (10, 256)\n"
          ]
        },
        {
          "name": "stdout",
          "output_type": "stream",
          "text": [
            "INFO:tensorflow:Loaded ./tcav/tcav_examples/discrete/kdd_sanity2\\activations\\acts_normal._dense_1 shape (200, 256)\n"
          ]
        },
        {
          "name": "stderr",
          "output_type": "stream",
          "text": [
            "INFO:tensorflow:Loaded ./tcav/tcav_examples/discrete/kdd_sanity2\\activations\\acts_normal._dense_1 shape (200, 256)\n"
          ]
        },
        {
          "name": "stdout",
          "output_type": "stream",
          "text": [
            "INFO:tensorflow:CAV already exists: ./tcav/tcav_examples/discrete/kdd_sanity2\\cav\\random500_1-random500_8-dense_1-linear-0.01.pkl\n"
          ]
        },
        {
          "name": "stderr",
          "output_type": "stream",
          "text": [
            "INFO:tensorflow:CAV already exists: ./tcav/tcav_examples/discrete/kdd_sanity2\\cav\\random500_1-random500_8-dense_1-linear-0.01.pkl\n"
          ]
        },
        {
          "name": "stdout",
          "output_type": "stream",
          "text": [
            "INFO:tensorflow:CAV accuracies: {'random500_1': 0.6666666666666666, 'random500_8': 0.5, 'overall': 0.5714285714285714}\n"
          ]
        },
        {
          "name": "stderr",
          "output_type": "stream",
          "text": [
            "INFO:tensorflow:CAV accuracies: {'random500_1': 0.6666666666666666, 'random500_8': 0.5, 'overall': 0.5714285714285714}\n"
          ]
        },
        {
          "name": "stdout",
          "output_type": "stream",
          "text": [
            "INFO:tensorflow:Running param 147 of 220\n"
          ]
        },
        {
          "name": "stderr",
          "output_type": "stream",
          "text": [
            "INFO:tensorflow:Running param 147 of 220\n"
          ]
        },
        {
          "name": "stdout",
          "output_type": "stream",
          "text": [
            "INFO:tensorflow:running normal. ['random500_1', 'random500_9']\n"
          ]
        },
        {
          "name": "stderr",
          "output_type": "stream",
          "text": [
            "INFO:tensorflow:running normal. ['random500_1', 'random500_9']\n"
          ]
        },
        {
          "name": "stdout",
          "output_type": "stream",
          "text": [
            "INFO:tensorflow:Loaded ./tcav/tcav_examples/discrete/kdd_sanity2\\activations\\acts_random500_1_dense_1 shape (10, 256)\n"
          ]
        },
        {
          "name": "stderr",
          "output_type": "stream",
          "text": [
            "INFO:tensorflow:Loaded ./tcav/tcav_examples/discrete/kdd_sanity2\\activations\\acts_random500_1_dense_1 shape (10, 256)\n"
          ]
        },
        {
          "name": "stdout",
          "output_type": "stream",
          "text": [
            "INFO:tensorflow:Loaded ./tcav/tcav_examples/discrete/kdd_sanity2\\activations\\acts_random500_9_dense_1 shape (10, 256)\n"
          ]
        },
        {
          "name": "stderr",
          "output_type": "stream",
          "text": [
            "INFO:tensorflow:Loaded ./tcav/tcav_examples/discrete/kdd_sanity2\\activations\\acts_random500_9_dense_1 shape (10, 256)\n"
          ]
        },
        {
          "name": "stdout",
          "output_type": "stream",
          "text": [
            "INFO:tensorflow:Loaded ./tcav/tcav_examples/discrete/kdd_sanity2\\activations\\acts_normal._dense_1 shape (200, 256)\n"
          ]
        },
        {
          "name": "stderr",
          "output_type": "stream",
          "text": [
            "INFO:tensorflow:Loaded ./tcav/tcav_examples/discrete/kdd_sanity2\\activations\\acts_normal._dense_1 shape (200, 256)\n"
          ]
        },
        {
          "name": "stdout",
          "output_type": "stream",
          "text": [
            "INFO:tensorflow:CAV already exists: ./tcav/tcav_examples/discrete/kdd_sanity2\\cav\\random500_1-random500_9-dense_1-linear-0.01.pkl\n"
          ]
        },
        {
          "name": "stderr",
          "output_type": "stream",
          "text": [
            "INFO:tensorflow:CAV already exists: ./tcav/tcav_examples/discrete/kdd_sanity2\\cav\\random500_1-random500_9-dense_1-linear-0.01.pkl\n"
          ]
        },
        {
          "name": "stdout",
          "output_type": "stream",
          "text": [
            "INFO:tensorflow:CAV accuracies: {'random500_1': 0.0, 'random500_9': 1.0, 'overall': 0.42857142857142855}\n"
          ]
        },
        {
          "name": "stderr",
          "output_type": "stream",
          "text": [
            "INFO:tensorflow:CAV accuracies: {'random500_1': 0.0, 'random500_9': 1.0, 'overall': 0.42857142857142855}\n"
          ]
        },
        {
          "name": "stdout",
          "output_type": "stream",
          "text": [
            "INFO:tensorflow:Running param 148 of 220\n"
          ]
        },
        {
          "name": "stderr",
          "output_type": "stream",
          "text": [
            "INFO:tensorflow:Running param 148 of 220\n"
          ]
        },
        {
          "name": "stdout",
          "output_type": "stream",
          "text": [
            "INFO:tensorflow:running normal. ['random500_2', 'random500_0']\n"
          ]
        },
        {
          "name": "stderr",
          "output_type": "stream",
          "text": [
            "INFO:tensorflow:running normal. ['random500_2', 'random500_0']\n"
          ]
        },
        {
          "name": "stdout",
          "output_type": "stream",
          "text": [
            "INFO:tensorflow:Loaded ./tcav/tcav_examples/discrete/kdd_sanity2\\activations\\acts_random500_2_dense_1 shape (10, 256)\n"
          ]
        },
        {
          "name": "stderr",
          "output_type": "stream",
          "text": [
            "INFO:tensorflow:Loaded ./tcav/tcav_examples/discrete/kdd_sanity2\\activations\\acts_random500_2_dense_1 shape (10, 256)\n"
          ]
        },
        {
          "name": "stdout",
          "output_type": "stream",
          "text": [
            "INFO:tensorflow:Loaded ./tcav/tcav_examples/discrete/kdd_sanity2\\activations\\acts_random500_0_dense_1 shape (10, 256)\n"
          ]
        },
        {
          "name": "stderr",
          "output_type": "stream",
          "text": [
            "INFO:tensorflow:Loaded ./tcav/tcav_examples/discrete/kdd_sanity2\\activations\\acts_random500_0_dense_1 shape (10, 256)\n"
          ]
        },
        {
          "name": "stdout",
          "output_type": "stream",
          "text": [
            "INFO:tensorflow:Loaded ./tcav/tcav_examples/discrete/kdd_sanity2\\activations\\acts_normal._dense_1 shape (200, 256)\n"
          ]
        },
        {
          "name": "stderr",
          "output_type": "stream",
          "text": [
            "INFO:tensorflow:Loaded ./tcav/tcav_examples/discrete/kdd_sanity2\\activations\\acts_normal._dense_1 shape (200, 256)\n"
          ]
        },
        {
          "name": "stdout",
          "output_type": "stream",
          "text": [
            "INFO:tensorflow:CAV already exists: ./tcav/tcav_examples/discrete/kdd_sanity2\\cav\\random500_2-random500_0-dense_1-linear-0.01.pkl\n"
          ]
        },
        {
          "name": "stderr",
          "output_type": "stream",
          "text": [
            "INFO:tensorflow:CAV already exists: ./tcav/tcav_examples/discrete/kdd_sanity2\\cav\\random500_2-random500_0-dense_1-linear-0.01.pkl\n"
          ]
        },
        {
          "name": "stdout",
          "output_type": "stream",
          "text": [
            "INFO:tensorflow:CAV accuracies: {'random500_2': 0.3333333333333333, 'random500_0': 1.0, 'overall': 0.7142857142857143}\n"
          ]
        },
        {
          "name": "stderr",
          "output_type": "stream",
          "text": [
            "INFO:tensorflow:CAV accuracies: {'random500_2': 0.3333333333333333, 'random500_0': 1.0, 'overall': 0.7142857142857143}\n"
          ]
        },
        {
          "name": "stdout",
          "output_type": "stream",
          "text": [
            "INFO:tensorflow:Running param 149 of 220\n"
          ]
        },
        {
          "name": "stderr",
          "output_type": "stream",
          "text": [
            "INFO:tensorflow:Running param 149 of 220\n"
          ]
        },
        {
          "name": "stdout",
          "output_type": "stream",
          "text": [
            "INFO:tensorflow:running normal. ['random500_2', 'random500_1']\n"
          ]
        },
        {
          "name": "stderr",
          "output_type": "stream",
          "text": [
            "INFO:tensorflow:running normal. ['random500_2', 'random500_1']\n"
          ]
        },
        {
          "name": "stdout",
          "output_type": "stream",
          "text": [
            "INFO:tensorflow:Loaded ./tcav/tcav_examples/discrete/kdd_sanity2\\activations\\acts_random500_2_dense_1 shape (10, 256)\n"
          ]
        },
        {
          "name": "stderr",
          "output_type": "stream",
          "text": [
            "INFO:tensorflow:Loaded ./tcav/tcav_examples/discrete/kdd_sanity2\\activations\\acts_random500_2_dense_1 shape (10, 256)\n"
          ]
        },
        {
          "name": "stdout",
          "output_type": "stream",
          "text": [
            "INFO:tensorflow:Loaded ./tcav/tcav_examples/discrete/kdd_sanity2\\activations\\acts_random500_1_dense_1 shape (10, 256)\n"
          ]
        },
        {
          "name": "stderr",
          "output_type": "stream",
          "text": [
            "INFO:tensorflow:Loaded ./tcav/tcav_examples/discrete/kdd_sanity2\\activations\\acts_random500_1_dense_1 shape (10, 256)\n"
          ]
        },
        {
          "name": "stdout",
          "output_type": "stream",
          "text": [
            "INFO:tensorflow:Loaded ./tcav/tcav_examples/discrete/kdd_sanity2\\activations\\acts_normal._dense_1 shape (200, 256)\n"
          ]
        },
        {
          "name": "stderr",
          "output_type": "stream",
          "text": [
            "INFO:tensorflow:Loaded ./tcav/tcav_examples/discrete/kdd_sanity2\\activations\\acts_normal._dense_1 shape (200, 256)\n"
          ]
        },
        {
          "name": "stdout",
          "output_type": "stream",
          "text": [
            "INFO:tensorflow:CAV already exists: ./tcav/tcav_examples/discrete/kdd_sanity2\\cav\\random500_2-random500_1-dense_1-linear-0.01.pkl\n"
          ]
        },
        {
          "name": "stderr",
          "output_type": "stream",
          "text": [
            "INFO:tensorflow:CAV already exists: ./tcav/tcav_examples/discrete/kdd_sanity2\\cav\\random500_2-random500_1-dense_1-linear-0.01.pkl\n"
          ]
        },
        {
          "name": "stdout",
          "output_type": "stream",
          "text": [
            "INFO:tensorflow:CAV accuracies: {'random500_2': 0.0, 'random500_1': 0.25, 'overall': 0.14285714285714285}\n"
          ]
        },
        {
          "name": "stderr",
          "output_type": "stream",
          "text": [
            "INFO:tensorflow:CAV accuracies: {'random500_2': 0.0, 'random500_1': 0.25, 'overall': 0.14285714285714285}\n"
          ]
        },
        {
          "name": "stdout",
          "output_type": "stream",
          "text": [
            "INFO:tensorflow:Running param 150 of 220\n"
          ]
        },
        {
          "name": "stderr",
          "output_type": "stream",
          "text": [
            "INFO:tensorflow:Running param 150 of 220\n"
          ]
        },
        {
          "name": "stdout",
          "output_type": "stream",
          "text": [
            "INFO:tensorflow:running normal. ['random500_2', 'random500_3']\n"
          ]
        },
        {
          "name": "stderr",
          "output_type": "stream",
          "text": [
            "INFO:tensorflow:running normal. ['random500_2', 'random500_3']\n"
          ]
        },
        {
          "name": "stdout",
          "output_type": "stream",
          "text": [
            "INFO:tensorflow:Loaded ./tcav/tcav_examples/discrete/kdd_sanity2\\activations\\acts_random500_2_dense_1 shape (10, 256)\n"
          ]
        },
        {
          "name": "stderr",
          "output_type": "stream",
          "text": [
            "INFO:tensorflow:Loaded ./tcav/tcav_examples/discrete/kdd_sanity2\\activations\\acts_random500_2_dense_1 shape (10, 256)\n"
          ]
        },
        {
          "name": "stdout",
          "output_type": "stream",
          "text": [
            "INFO:tensorflow:Loaded ./tcav/tcav_examples/discrete/kdd_sanity2\\activations\\acts_random500_3_dense_1 shape (10, 256)\n"
          ]
        },
        {
          "name": "stderr",
          "output_type": "stream",
          "text": [
            "INFO:tensorflow:Loaded ./tcav/tcav_examples/discrete/kdd_sanity2\\activations\\acts_random500_3_dense_1 shape (10, 256)\n"
          ]
        },
        {
          "name": "stdout",
          "output_type": "stream",
          "text": [
            "INFO:tensorflow:Loaded ./tcav/tcav_examples/discrete/kdd_sanity2\\activations\\acts_normal._dense_1 shape (200, 256)\n"
          ]
        },
        {
          "name": "stderr",
          "output_type": "stream",
          "text": [
            "INFO:tensorflow:Loaded ./tcav/tcav_examples/discrete/kdd_sanity2\\activations\\acts_normal._dense_1 shape (200, 256)\n"
          ]
        },
        {
          "name": "stdout",
          "output_type": "stream",
          "text": [
            "INFO:tensorflow:CAV already exists: ./tcav/tcav_examples/discrete/kdd_sanity2\\cav\\random500_2-random500_3-dense_1-linear-0.01.pkl\n"
          ]
        },
        {
          "name": "stderr",
          "output_type": "stream",
          "text": [
            "INFO:tensorflow:CAV already exists: ./tcav/tcav_examples/discrete/kdd_sanity2\\cav\\random500_2-random500_3-dense_1-linear-0.01.pkl\n"
          ]
        },
        {
          "name": "stdout",
          "output_type": "stream",
          "text": [
            "INFO:tensorflow:CAV accuracies: {'random500_2': 0.6666666666666666, 'random500_3': 0.0, 'overall': 0.2857142857142857}\n"
          ]
        },
        {
          "name": "stderr",
          "output_type": "stream",
          "text": [
            "INFO:tensorflow:CAV accuracies: {'random500_2': 0.6666666666666666, 'random500_3': 0.0, 'overall': 0.2857142857142857}\n"
          ]
        },
        {
          "name": "stdout",
          "output_type": "stream",
          "text": [
            "INFO:tensorflow:Running param 151 of 220\n"
          ]
        },
        {
          "name": "stderr",
          "output_type": "stream",
          "text": [
            "INFO:tensorflow:Running param 151 of 220\n"
          ]
        },
        {
          "name": "stdout",
          "output_type": "stream",
          "text": [
            "INFO:tensorflow:running normal. ['random500_2', 'random500_4']\n"
          ]
        },
        {
          "name": "stderr",
          "output_type": "stream",
          "text": [
            "INFO:tensorflow:running normal. ['random500_2', 'random500_4']\n"
          ]
        },
        {
          "name": "stdout",
          "output_type": "stream",
          "text": [
            "INFO:tensorflow:Loaded ./tcav/tcav_examples/discrete/kdd_sanity2\\activations\\acts_random500_2_dense_1 shape (10, 256)\n"
          ]
        },
        {
          "name": "stderr",
          "output_type": "stream",
          "text": [
            "INFO:tensorflow:Loaded ./tcav/tcav_examples/discrete/kdd_sanity2\\activations\\acts_random500_2_dense_1 shape (10, 256)\n"
          ]
        },
        {
          "name": "stdout",
          "output_type": "stream",
          "text": [
            "INFO:tensorflow:Loaded ./tcav/tcav_examples/discrete/kdd_sanity2\\activations\\acts_random500_4_dense_1 shape (10, 256)\n"
          ]
        },
        {
          "name": "stderr",
          "output_type": "stream",
          "text": [
            "INFO:tensorflow:Loaded ./tcav/tcav_examples/discrete/kdd_sanity2\\activations\\acts_random500_4_dense_1 shape (10, 256)\n"
          ]
        },
        {
          "name": "stdout",
          "output_type": "stream",
          "text": [
            "INFO:tensorflow:Loaded ./tcav/tcav_examples/discrete/kdd_sanity2\\activations\\acts_normal._dense_1 shape (200, 256)\n"
          ]
        },
        {
          "name": "stderr",
          "output_type": "stream",
          "text": [
            "INFO:tensorflow:Loaded ./tcav/tcav_examples/discrete/kdd_sanity2\\activations\\acts_normal._dense_1 shape (200, 256)\n"
          ]
        },
        {
          "name": "stdout",
          "output_type": "stream",
          "text": [
            "INFO:tensorflow:CAV already exists: ./tcav/tcav_examples/discrete/kdd_sanity2\\cav\\random500_2-random500_4-dense_1-linear-0.01.pkl\n"
          ]
        },
        {
          "name": "stderr",
          "output_type": "stream",
          "text": [
            "INFO:tensorflow:CAV already exists: ./tcav/tcav_examples/discrete/kdd_sanity2\\cav\\random500_2-random500_4-dense_1-linear-0.01.pkl\n"
          ]
        },
        {
          "name": "stdout",
          "output_type": "stream",
          "text": [
            "INFO:tensorflow:CAV accuracies: {'random500_2': 0.0, 'random500_4': 0.6666666666666666, 'overall': 0.2857142857142857}\n"
          ]
        },
        {
          "name": "stderr",
          "output_type": "stream",
          "text": [
            "INFO:tensorflow:CAV accuracies: {'random500_2': 0.0, 'random500_4': 0.6666666666666666, 'overall': 0.2857142857142857}\n"
          ]
        },
        {
          "name": "stdout",
          "output_type": "stream",
          "text": [
            "INFO:tensorflow:Running param 152 of 220\n"
          ]
        },
        {
          "name": "stderr",
          "output_type": "stream",
          "text": [
            "INFO:tensorflow:Running param 152 of 220\n"
          ]
        },
        {
          "name": "stdout",
          "output_type": "stream",
          "text": [
            "INFO:tensorflow:running normal. ['random500_2', 'random500_5']\n"
          ]
        },
        {
          "name": "stderr",
          "output_type": "stream",
          "text": [
            "INFO:tensorflow:running normal. ['random500_2', 'random500_5']\n"
          ]
        },
        {
          "name": "stdout",
          "output_type": "stream",
          "text": [
            "INFO:tensorflow:Loaded ./tcav/tcav_examples/discrete/kdd_sanity2\\activations\\acts_random500_2_dense_1 shape (10, 256)\n"
          ]
        },
        {
          "name": "stderr",
          "output_type": "stream",
          "text": [
            "INFO:tensorflow:Loaded ./tcav/tcav_examples/discrete/kdd_sanity2\\activations\\acts_random500_2_dense_1 shape (10, 256)\n"
          ]
        },
        {
          "name": "stdout",
          "output_type": "stream",
          "text": [
            "INFO:tensorflow:Loaded ./tcav/tcav_examples/discrete/kdd_sanity2\\activations\\acts_random500_5_dense_1 shape (10, 256)\n"
          ]
        },
        {
          "name": "stderr",
          "output_type": "stream",
          "text": [
            "INFO:tensorflow:Loaded ./tcav/tcav_examples/discrete/kdd_sanity2\\activations\\acts_random500_5_dense_1 shape (10, 256)\n"
          ]
        },
        {
          "name": "stdout",
          "output_type": "stream",
          "text": [
            "INFO:tensorflow:Loaded ./tcav/tcav_examples/discrete/kdd_sanity2\\activations\\acts_normal._dense_1 shape (200, 256)\n"
          ]
        },
        {
          "name": "stderr",
          "output_type": "stream",
          "text": [
            "INFO:tensorflow:Loaded ./tcav/tcav_examples/discrete/kdd_sanity2\\activations\\acts_normal._dense_1 shape (200, 256)\n"
          ]
        },
        {
          "name": "stdout",
          "output_type": "stream",
          "text": [
            "INFO:tensorflow:CAV already exists: ./tcav/tcav_examples/discrete/kdd_sanity2\\cav\\random500_2-random500_5-dense_1-linear-0.01.pkl\n"
          ]
        },
        {
          "name": "stderr",
          "output_type": "stream",
          "text": [
            "INFO:tensorflow:CAV already exists: ./tcav/tcav_examples/discrete/kdd_sanity2\\cav\\random500_2-random500_5-dense_1-linear-0.01.pkl\n"
          ]
        },
        {
          "name": "stdout",
          "output_type": "stream",
          "text": [
            "INFO:tensorflow:CAV accuracies: {'random500_2': 1.0, 'random500_5': 0.25, 'overall': 0.5714285714285714}\n"
          ]
        },
        {
          "name": "stderr",
          "output_type": "stream",
          "text": [
            "INFO:tensorflow:CAV accuracies: {'random500_2': 1.0, 'random500_5': 0.25, 'overall': 0.5714285714285714}\n"
          ]
        },
        {
          "name": "stdout",
          "output_type": "stream",
          "text": [
            "INFO:tensorflow:Running param 153 of 220\n"
          ]
        },
        {
          "name": "stderr",
          "output_type": "stream",
          "text": [
            "INFO:tensorflow:Running param 153 of 220\n"
          ]
        },
        {
          "name": "stdout",
          "output_type": "stream",
          "text": [
            "INFO:tensorflow:running normal. ['random500_2', 'random500_6']\n"
          ]
        },
        {
          "name": "stderr",
          "output_type": "stream",
          "text": [
            "INFO:tensorflow:running normal. ['random500_2', 'random500_6']\n"
          ]
        },
        {
          "name": "stdout",
          "output_type": "stream",
          "text": [
            "INFO:tensorflow:Loaded ./tcav/tcav_examples/discrete/kdd_sanity2\\activations\\acts_random500_2_dense_1 shape (10, 256)\n"
          ]
        },
        {
          "name": "stderr",
          "output_type": "stream",
          "text": [
            "INFO:tensorflow:Loaded ./tcav/tcav_examples/discrete/kdd_sanity2\\activations\\acts_random500_2_dense_1 shape (10, 256)\n"
          ]
        },
        {
          "name": "stdout",
          "output_type": "stream",
          "text": [
            "INFO:tensorflow:Loaded ./tcav/tcav_examples/discrete/kdd_sanity2\\activations\\acts_random500_6_dense_1 shape (10, 256)\n"
          ]
        },
        {
          "name": "stderr",
          "output_type": "stream",
          "text": [
            "INFO:tensorflow:Loaded ./tcav/tcav_examples/discrete/kdd_sanity2\\activations\\acts_random500_6_dense_1 shape (10, 256)\n"
          ]
        },
        {
          "name": "stdout",
          "output_type": "stream",
          "text": [
            "INFO:tensorflow:Loaded ./tcav/tcav_examples/discrete/kdd_sanity2\\activations\\acts_normal._dense_1 shape (200, 256)\n"
          ]
        },
        {
          "name": "stderr",
          "output_type": "stream",
          "text": [
            "INFO:tensorflow:Loaded ./tcav/tcav_examples/discrete/kdd_sanity2\\activations\\acts_normal._dense_1 shape (200, 256)\n"
          ]
        },
        {
          "name": "stdout",
          "output_type": "stream",
          "text": [
            "INFO:tensorflow:CAV already exists: ./tcav/tcav_examples/discrete/kdd_sanity2\\cav\\random500_2-random500_6-dense_1-linear-0.01.pkl\n"
          ]
        },
        {
          "name": "stderr",
          "output_type": "stream",
          "text": [
            "INFO:tensorflow:CAV already exists: ./tcav/tcav_examples/discrete/kdd_sanity2\\cav\\random500_2-random500_6-dense_1-linear-0.01.pkl\n"
          ]
        },
        {
          "name": "stdout",
          "output_type": "stream",
          "text": [
            "INFO:tensorflow:CAV accuracies: {'random500_2': 0.25, 'random500_6': 0.6666666666666666, 'overall': 0.42857142857142855}\n"
          ]
        },
        {
          "name": "stderr",
          "output_type": "stream",
          "text": [
            "INFO:tensorflow:CAV accuracies: {'random500_2': 0.25, 'random500_6': 0.6666666666666666, 'overall': 0.42857142857142855}\n"
          ]
        },
        {
          "name": "stdout",
          "output_type": "stream",
          "text": [
            "INFO:tensorflow:Running param 154 of 220\n"
          ]
        },
        {
          "name": "stderr",
          "output_type": "stream",
          "text": [
            "INFO:tensorflow:Running param 154 of 220\n"
          ]
        },
        {
          "name": "stdout",
          "output_type": "stream",
          "text": [
            "INFO:tensorflow:running normal. ['random500_2', 'random500_7']\n"
          ]
        },
        {
          "name": "stderr",
          "output_type": "stream",
          "text": [
            "INFO:tensorflow:running normal. ['random500_2', 'random500_7']\n"
          ]
        },
        {
          "name": "stdout",
          "output_type": "stream",
          "text": [
            "INFO:tensorflow:Loaded ./tcav/tcav_examples/discrete/kdd_sanity2\\activations\\acts_random500_2_dense_1 shape (10, 256)\n"
          ]
        },
        {
          "name": "stderr",
          "output_type": "stream",
          "text": [
            "INFO:tensorflow:Loaded ./tcav/tcav_examples/discrete/kdd_sanity2\\activations\\acts_random500_2_dense_1 shape (10, 256)\n"
          ]
        },
        {
          "name": "stdout",
          "output_type": "stream",
          "text": [
            "INFO:tensorflow:Loaded ./tcav/tcav_examples/discrete/kdd_sanity2\\activations\\acts_random500_7_dense_1 shape (10, 256)\n"
          ]
        },
        {
          "name": "stderr",
          "output_type": "stream",
          "text": [
            "INFO:tensorflow:Loaded ./tcav/tcav_examples/discrete/kdd_sanity2\\activations\\acts_random500_7_dense_1 shape (10, 256)\n"
          ]
        },
        {
          "name": "stdout",
          "output_type": "stream",
          "text": [
            "INFO:tensorflow:Loaded ./tcav/tcav_examples/discrete/kdd_sanity2\\activations\\acts_normal._dense_1 shape (200, 256)\n"
          ]
        },
        {
          "name": "stderr",
          "output_type": "stream",
          "text": [
            "INFO:tensorflow:Loaded ./tcav/tcav_examples/discrete/kdd_sanity2\\activations\\acts_normal._dense_1 shape (200, 256)\n"
          ]
        },
        {
          "name": "stdout",
          "output_type": "stream",
          "text": [
            "INFO:tensorflow:CAV already exists: ./tcav/tcav_examples/discrete/kdd_sanity2\\cav\\random500_2-random500_7-dense_1-linear-0.01.pkl\n"
          ]
        },
        {
          "name": "stderr",
          "output_type": "stream",
          "text": [
            "INFO:tensorflow:CAV already exists: ./tcav/tcav_examples/discrete/kdd_sanity2\\cav\\random500_2-random500_7-dense_1-linear-0.01.pkl\n"
          ]
        },
        {
          "name": "stdout",
          "output_type": "stream",
          "text": [
            "INFO:tensorflow:CAV accuracies: {'random500_2': 0.75, 'random500_7': 0.6666666666666666, 'overall': 0.7142857142857143}\n"
          ]
        },
        {
          "name": "stderr",
          "output_type": "stream",
          "text": [
            "INFO:tensorflow:CAV accuracies: {'random500_2': 0.75, 'random500_7': 0.6666666666666666, 'overall': 0.7142857142857143}\n"
          ]
        },
        {
          "name": "stdout",
          "output_type": "stream",
          "text": [
            "INFO:tensorflow:Running param 155 of 220\n"
          ]
        },
        {
          "name": "stderr",
          "output_type": "stream",
          "text": [
            "INFO:tensorflow:Running param 155 of 220\n"
          ]
        },
        {
          "name": "stdout",
          "output_type": "stream",
          "text": [
            "INFO:tensorflow:running normal. ['random500_2', 'random500_8']\n"
          ]
        },
        {
          "name": "stderr",
          "output_type": "stream",
          "text": [
            "INFO:tensorflow:running normal. ['random500_2', 'random500_8']\n"
          ]
        },
        {
          "name": "stdout",
          "output_type": "stream",
          "text": [
            "INFO:tensorflow:Loaded ./tcav/tcav_examples/discrete/kdd_sanity2\\activations\\acts_random500_2_dense_1 shape (10, 256)\n"
          ]
        },
        {
          "name": "stderr",
          "output_type": "stream",
          "text": [
            "INFO:tensorflow:Loaded ./tcav/tcav_examples/discrete/kdd_sanity2\\activations\\acts_random500_2_dense_1 shape (10, 256)\n"
          ]
        },
        {
          "name": "stdout",
          "output_type": "stream",
          "text": [
            "INFO:tensorflow:Loaded ./tcav/tcav_examples/discrete/kdd_sanity2\\activations\\acts_random500_8_dense_1 shape (10, 256)\n"
          ]
        },
        {
          "name": "stderr",
          "output_type": "stream",
          "text": [
            "INFO:tensorflow:Loaded ./tcav/tcav_examples/discrete/kdd_sanity2\\activations\\acts_random500_8_dense_1 shape (10, 256)\n"
          ]
        },
        {
          "name": "stdout",
          "output_type": "stream",
          "text": [
            "INFO:tensorflow:Loaded ./tcav/tcav_examples/discrete/kdd_sanity2\\activations\\acts_normal._dense_1 shape (200, 256)\n"
          ]
        },
        {
          "name": "stderr",
          "output_type": "stream",
          "text": [
            "INFO:tensorflow:Loaded ./tcav/tcav_examples/discrete/kdd_sanity2\\activations\\acts_normal._dense_1 shape (200, 256)\n"
          ]
        },
        {
          "name": "stdout",
          "output_type": "stream",
          "text": [
            "INFO:tensorflow:CAV already exists: ./tcav/tcav_examples/discrete/kdd_sanity2\\cav\\random500_2-random500_8-dense_1-linear-0.01.pkl\n"
          ]
        },
        {
          "name": "stderr",
          "output_type": "stream",
          "text": [
            "INFO:tensorflow:CAV already exists: ./tcav/tcav_examples/discrete/kdd_sanity2\\cav\\random500_2-random500_8-dense_1-linear-0.01.pkl\n"
          ]
        },
        {
          "name": "stdout",
          "output_type": "stream",
          "text": [
            "INFO:tensorflow:CAV accuracies: {'random500_2': 0.25, 'random500_8': 0.3333333333333333, 'overall': 0.2857142857142857}\n"
          ]
        },
        {
          "name": "stderr",
          "output_type": "stream",
          "text": [
            "INFO:tensorflow:CAV accuracies: {'random500_2': 0.25, 'random500_8': 0.3333333333333333, 'overall': 0.2857142857142857}\n"
          ]
        },
        {
          "name": "stdout",
          "output_type": "stream",
          "text": [
            "INFO:tensorflow:Running param 156 of 220\n"
          ]
        },
        {
          "name": "stderr",
          "output_type": "stream",
          "text": [
            "INFO:tensorflow:Running param 156 of 220\n"
          ]
        },
        {
          "name": "stdout",
          "output_type": "stream",
          "text": [
            "INFO:tensorflow:running normal. ['random500_2', 'random500_9']\n"
          ]
        },
        {
          "name": "stderr",
          "output_type": "stream",
          "text": [
            "INFO:tensorflow:running normal. ['random500_2', 'random500_9']\n"
          ]
        },
        {
          "name": "stdout",
          "output_type": "stream",
          "text": [
            "INFO:tensorflow:Loaded ./tcav/tcav_examples/discrete/kdd_sanity2\\activations\\acts_random500_2_dense_1 shape (10, 256)\n"
          ]
        },
        {
          "name": "stderr",
          "output_type": "stream",
          "text": [
            "INFO:tensorflow:Loaded ./tcav/tcav_examples/discrete/kdd_sanity2\\activations\\acts_random500_2_dense_1 shape (10, 256)\n"
          ]
        },
        {
          "name": "stdout",
          "output_type": "stream",
          "text": [
            "INFO:tensorflow:Loaded ./tcav/tcav_examples/discrete/kdd_sanity2\\activations\\acts_random500_9_dense_1 shape (10, 256)\n"
          ]
        },
        {
          "name": "stderr",
          "output_type": "stream",
          "text": [
            "INFO:tensorflow:Loaded ./tcav/tcav_examples/discrete/kdd_sanity2\\activations\\acts_random500_9_dense_1 shape (10, 256)\n"
          ]
        },
        {
          "name": "stdout",
          "output_type": "stream",
          "text": [
            "INFO:tensorflow:Loaded ./tcav/tcav_examples/discrete/kdd_sanity2\\activations\\acts_normal._dense_1 shape (200, 256)\n"
          ]
        },
        {
          "name": "stderr",
          "output_type": "stream",
          "text": [
            "INFO:tensorflow:Loaded ./tcav/tcav_examples/discrete/kdd_sanity2\\activations\\acts_normal._dense_1 shape (200, 256)\n"
          ]
        },
        {
          "name": "stdout",
          "output_type": "stream",
          "text": [
            "INFO:tensorflow:CAV already exists: ./tcav/tcav_examples/discrete/kdd_sanity2\\cav\\random500_2-random500_9-dense_1-linear-0.01.pkl\n"
          ]
        },
        {
          "name": "stderr",
          "output_type": "stream",
          "text": [
            "INFO:tensorflow:CAV already exists: ./tcav/tcav_examples/discrete/kdd_sanity2\\cav\\random500_2-random500_9-dense_1-linear-0.01.pkl\n"
          ]
        },
        {
          "name": "stdout",
          "output_type": "stream",
          "text": [
            "INFO:tensorflow:CAV accuracies: {'random500_2': 1.0, 'random500_9': 0.0, 'overall': 0.42857142857142855}\n"
          ]
        },
        {
          "name": "stderr",
          "output_type": "stream",
          "text": [
            "INFO:tensorflow:CAV accuracies: {'random500_2': 1.0, 'random500_9': 0.0, 'overall': 0.42857142857142855}\n"
          ]
        },
        {
          "name": "stdout",
          "output_type": "stream",
          "text": [
            "INFO:tensorflow:Running param 157 of 220\n"
          ]
        },
        {
          "name": "stderr",
          "output_type": "stream",
          "text": [
            "INFO:tensorflow:Running param 157 of 220\n"
          ]
        },
        {
          "name": "stdout",
          "output_type": "stream",
          "text": [
            "INFO:tensorflow:running normal. ['random500_3', 'random500_0']\n"
          ]
        },
        {
          "name": "stderr",
          "output_type": "stream",
          "text": [
            "INFO:tensorflow:running normal. ['random500_3', 'random500_0']\n"
          ]
        },
        {
          "name": "stdout",
          "output_type": "stream",
          "text": [
            "INFO:tensorflow:Loaded ./tcav/tcav_examples/discrete/kdd_sanity2\\activations\\acts_random500_3_dense_1 shape (10, 256)\n"
          ]
        },
        {
          "name": "stderr",
          "output_type": "stream",
          "text": [
            "INFO:tensorflow:Loaded ./tcav/tcav_examples/discrete/kdd_sanity2\\activations\\acts_random500_3_dense_1 shape (10, 256)\n"
          ]
        },
        {
          "name": "stdout",
          "output_type": "stream",
          "text": [
            "INFO:tensorflow:Loaded ./tcav/tcav_examples/discrete/kdd_sanity2\\activations\\acts_random500_0_dense_1 shape (10, 256)\n"
          ]
        },
        {
          "name": "stderr",
          "output_type": "stream",
          "text": [
            "INFO:tensorflow:Loaded ./tcav/tcav_examples/discrete/kdd_sanity2\\activations\\acts_random500_0_dense_1 shape (10, 256)\n"
          ]
        },
        {
          "name": "stdout",
          "output_type": "stream",
          "text": [
            "INFO:tensorflow:Loaded ./tcav/tcav_examples/discrete/kdd_sanity2\\activations\\acts_normal._dense_1 shape (200, 256)\n"
          ]
        },
        {
          "name": "stderr",
          "output_type": "stream",
          "text": [
            "INFO:tensorflow:Loaded ./tcav/tcav_examples/discrete/kdd_sanity2\\activations\\acts_normal._dense_1 shape (200, 256)\n"
          ]
        },
        {
          "name": "stdout",
          "output_type": "stream",
          "text": [
            "INFO:tensorflow:CAV already exists: ./tcav/tcav_examples/discrete/kdd_sanity2\\cav\\random500_3-random500_0-dense_1-linear-0.01.pkl\n"
          ]
        },
        {
          "name": "stderr",
          "output_type": "stream",
          "text": [
            "INFO:tensorflow:CAV already exists: ./tcav/tcav_examples/discrete/kdd_sanity2\\cav\\random500_3-random500_0-dense_1-linear-0.01.pkl\n"
          ]
        },
        {
          "name": "stdout",
          "output_type": "stream",
          "text": [
            "INFO:tensorflow:CAV accuracies: {'random500_3': 0.0, 'random500_0': 1.0, 'overall': 0.42857142857142855}\n"
          ]
        },
        {
          "name": "stderr",
          "output_type": "stream",
          "text": [
            "INFO:tensorflow:CAV accuracies: {'random500_3': 0.0, 'random500_0': 1.0, 'overall': 0.42857142857142855}\n"
          ]
        },
        {
          "name": "stdout",
          "output_type": "stream",
          "text": [
            "INFO:tensorflow:Running param 158 of 220\n"
          ]
        },
        {
          "name": "stderr",
          "output_type": "stream",
          "text": [
            "INFO:tensorflow:Running param 158 of 220\n"
          ]
        },
        {
          "name": "stdout",
          "output_type": "stream",
          "text": [
            "INFO:tensorflow:running normal. ['random500_3', 'random500_1']\n"
          ]
        },
        {
          "name": "stderr",
          "output_type": "stream",
          "text": [
            "INFO:tensorflow:running normal. ['random500_3', 'random500_1']\n"
          ]
        },
        {
          "name": "stdout",
          "output_type": "stream",
          "text": [
            "INFO:tensorflow:Loaded ./tcav/tcav_examples/discrete/kdd_sanity2\\activations\\acts_random500_3_dense_1 shape (10, 256)\n"
          ]
        },
        {
          "name": "stderr",
          "output_type": "stream",
          "text": [
            "INFO:tensorflow:Loaded ./tcav/tcav_examples/discrete/kdd_sanity2\\activations\\acts_random500_3_dense_1 shape (10, 256)\n"
          ]
        },
        {
          "name": "stdout",
          "output_type": "stream",
          "text": [
            "INFO:tensorflow:Loaded ./tcav/tcav_examples/discrete/kdd_sanity2\\activations\\acts_random500_1_dense_1 shape (10, 256)\n"
          ]
        },
        {
          "name": "stderr",
          "output_type": "stream",
          "text": [
            "INFO:tensorflow:Loaded ./tcav/tcav_examples/discrete/kdd_sanity2\\activations\\acts_random500_1_dense_1 shape (10, 256)\n"
          ]
        },
        {
          "name": "stdout",
          "output_type": "stream",
          "text": [
            "INFO:tensorflow:Loaded ./tcav/tcav_examples/discrete/kdd_sanity2\\activations\\acts_normal._dense_1 shape (200, 256)\n"
          ]
        },
        {
          "name": "stderr",
          "output_type": "stream",
          "text": [
            "INFO:tensorflow:Loaded ./tcav/tcav_examples/discrete/kdd_sanity2\\activations\\acts_normal._dense_1 shape (200, 256)\n"
          ]
        },
        {
          "name": "stdout",
          "output_type": "stream",
          "text": [
            "INFO:tensorflow:CAV already exists: ./tcav/tcav_examples/discrete/kdd_sanity2\\cav\\random500_3-random500_1-dense_1-linear-0.01.pkl\n"
          ]
        },
        {
          "name": "stderr",
          "output_type": "stream",
          "text": [
            "INFO:tensorflow:CAV already exists: ./tcav/tcav_examples/discrete/kdd_sanity2\\cav\\random500_3-random500_1-dense_1-linear-0.01.pkl\n"
          ]
        },
        {
          "name": "stdout",
          "output_type": "stream",
          "text": [
            "INFO:tensorflow:CAV accuracies: {'random500_3': 1.0, 'random500_1': 0.3333333333333333, 'overall': 0.7142857142857143}\n"
          ]
        },
        {
          "name": "stderr",
          "output_type": "stream",
          "text": [
            "INFO:tensorflow:CAV accuracies: {'random500_3': 1.0, 'random500_1': 0.3333333333333333, 'overall': 0.7142857142857143}\n"
          ]
        },
        {
          "name": "stdout",
          "output_type": "stream",
          "text": [
            "INFO:tensorflow:Running param 159 of 220\n"
          ]
        },
        {
          "name": "stderr",
          "output_type": "stream",
          "text": [
            "INFO:tensorflow:Running param 159 of 220\n"
          ]
        },
        {
          "name": "stdout",
          "output_type": "stream",
          "text": [
            "INFO:tensorflow:running normal. ['random500_3', 'random500_2']\n"
          ]
        },
        {
          "name": "stderr",
          "output_type": "stream",
          "text": [
            "INFO:tensorflow:running normal. ['random500_3', 'random500_2']\n"
          ]
        },
        {
          "name": "stdout",
          "output_type": "stream",
          "text": [
            "INFO:tensorflow:Loaded ./tcav/tcav_examples/discrete/kdd_sanity2\\activations\\acts_random500_3_dense_1 shape (10, 256)\n"
          ]
        },
        {
          "name": "stderr",
          "output_type": "stream",
          "text": [
            "INFO:tensorflow:Loaded ./tcav/tcav_examples/discrete/kdd_sanity2\\activations\\acts_random500_3_dense_1 shape (10, 256)\n"
          ]
        },
        {
          "name": "stdout",
          "output_type": "stream",
          "text": [
            "INFO:tensorflow:Loaded ./tcav/tcav_examples/discrete/kdd_sanity2\\activations\\acts_random500_2_dense_1 shape (10, 256)\n"
          ]
        },
        {
          "name": "stderr",
          "output_type": "stream",
          "text": [
            "INFO:tensorflow:Loaded ./tcav/tcav_examples/discrete/kdd_sanity2\\activations\\acts_random500_2_dense_1 shape (10, 256)\n"
          ]
        },
        {
          "name": "stdout",
          "output_type": "stream",
          "text": [
            "INFO:tensorflow:Loaded ./tcav/tcav_examples/discrete/kdd_sanity2\\activations\\acts_normal._dense_1 shape (200, 256)\n"
          ]
        },
        {
          "name": "stderr",
          "output_type": "stream",
          "text": [
            "INFO:tensorflow:Loaded ./tcav/tcav_examples/discrete/kdd_sanity2\\activations\\acts_normal._dense_1 shape (200, 256)\n"
          ]
        },
        {
          "name": "stdout",
          "output_type": "stream",
          "text": [
            "INFO:tensorflow:CAV already exists: ./tcav/tcav_examples/discrete/kdd_sanity2\\cav\\random500_3-random500_2-dense_1-linear-0.01.pkl\n"
          ]
        },
        {
          "name": "stderr",
          "output_type": "stream",
          "text": [
            "INFO:tensorflow:CAV already exists: ./tcav/tcav_examples/discrete/kdd_sanity2\\cav\\random500_3-random500_2-dense_1-linear-0.01.pkl\n"
          ]
        },
        {
          "name": "stdout",
          "output_type": "stream",
          "text": [
            "INFO:tensorflow:CAV accuracies: {'random500_3': 0.6666666666666666, 'random500_2': 0.5, 'overall': 0.5714285714285714}\n"
          ]
        },
        {
          "name": "stderr",
          "output_type": "stream",
          "text": [
            "INFO:tensorflow:CAV accuracies: {'random500_3': 0.6666666666666666, 'random500_2': 0.5, 'overall': 0.5714285714285714}\n"
          ]
        },
        {
          "name": "stdout",
          "output_type": "stream",
          "text": [
            "INFO:tensorflow:Running param 160 of 220\n"
          ]
        },
        {
          "name": "stderr",
          "output_type": "stream",
          "text": [
            "INFO:tensorflow:Running param 160 of 220\n"
          ]
        },
        {
          "name": "stdout",
          "output_type": "stream",
          "text": [
            "INFO:tensorflow:running normal. ['random500_3', 'random500_4']\n"
          ]
        },
        {
          "name": "stderr",
          "output_type": "stream",
          "text": [
            "INFO:tensorflow:running normal. ['random500_3', 'random500_4']\n"
          ]
        },
        {
          "name": "stdout",
          "output_type": "stream",
          "text": [
            "INFO:tensorflow:Loaded ./tcav/tcav_examples/discrete/kdd_sanity2\\activations\\acts_random500_3_dense_1 shape (10, 256)\n"
          ]
        },
        {
          "name": "stderr",
          "output_type": "stream",
          "text": [
            "INFO:tensorflow:Loaded ./tcav/tcav_examples/discrete/kdd_sanity2\\activations\\acts_random500_3_dense_1 shape (10, 256)\n"
          ]
        },
        {
          "name": "stdout",
          "output_type": "stream",
          "text": [
            "INFO:tensorflow:Loaded ./tcav/tcav_examples/discrete/kdd_sanity2\\activations\\acts_random500_4_dense_1 shape (10, 256)\n"
          ]
        },
        {
          "name": "stderr",
          "output_type": "stream",
          "text": [
            "INFO:tensorflow:Loaded ./tcav/tcav_examples/discrete/kdd_sanity2\\activations\\acts_random500_4_dense_1 shape (10, 256)\n"
          ]
        },
        {
          "name": "stdout",
          "output_type": "stream",
          "text": [
            "INFO:tensorflow:Loaded ./tcav/tcav_examples/discrete/kdd_sanity2\\activations\\acts_normal._dense_1 shape (200, 256)\n"
          ]
        },
        {
          "name": "stderr",
          "output_type": "stream",
          "text": [
            "INFO:tensorflow:Loaded ./tcav/tcav_examples/discrete/kdd_sanity2\\activations\\acts_normal._dense_1 shape (200, 256)\n"
          ]
        },
        {
          "name": "stdout",
          "output_type": "stream",
          "text": [
            "INFO:tensorflow:CAV already exists: ./tcav/tcav_examples/discrete/kdd_sanity2\\cav\\random500_3-random500_4-dense_1-linear-0.01.pkl\n"
          ]
        },
        {
          "name": "stderr",
          "output_type": "stream",
          "text": [
            "INFO:tensorflow:CAV already exists: ./tcav/tcav_examples/discrete/kdd_sanity2\\cav\\random500_3-random500_4-dense_1-linear-0.01.pkl\n"
          ]
        },
        {
          "name": "stdout",
          "output_type": "stream",
          "text": [
            "INFO:tensorflow:CAV accuracies: {'random500_3': 0.0, 'random500_4': 0.75, 'overall': 0.42857142857142855}\n"
          ]
        },
        {
          "name": "stderr",
          "output_type": "stream",
          "text": [
            "INFO:tensorflow:CAV accuracies: {'random500_3': 0.0, 'random500_4': 0.75, 'overall': 0.42857142857142855}\n"
          ]
        },
        {
          "name": "stdout",
          "output_type": "stream",
          "text": [
            "INFO:tensorflow:Running param 161 of 220\n"
          ]
        },
        {
          "name": "stderr",
          "output_type": "stream",
          "text": [
            "INFO:tensorflow:Running param 161 of 220\n"
          ]
        },
        {
          "name": "stdout",
          "output_type": "stream",
          "text": [
            "INFO:tensorflow:running normal. ['random500_3', 'random500_5']\n"
          ]
        },
        {
          "name": "stderr",
          "output_type": "stream",
          "text": [
            "INFO:tensorflow:running normal. ['random500_3', 'random500_5']\n"
          ]
        },
        {
          "name": "stdout",
          "output_type": "stream",
          "text": [
            "INFO:tensorflow:Loaded ./tcav/tcav_examples/discrete/kdd_sanity2\\activations\\acts_random500_3_dense_1 shape (10, 256)\n"
          ]
        },
        {
          "name": "stderr",
          "output_type": "stream",
          "text": [
            "INFO:tensorflow:Loaded ./tcav/tcav_examples/discrete/kdd_sanity2\\activations\\acts_random500_3_dense_1 shape (10, 256)\n"
          ]
        },
        {
          "name": "stdout",
          "output_type": "stream",
          "text": [
            "INFO:tensorflow:Loaded ./tcav/tcav_examples/discrete/kdd_sanity2\\activations\\acts_random500_5_dense_1 shape (10, 256)\n"
          ]
        },
        {
          "name": "stderr",
          "output_type": "stream",
          "text": [
            "INFO:tensorflow:Loaded ./tcav/tcav_examples/discrete/kdd_sanity2\\activations\\acts_random500_5_dense_1 shape (10, 256)\n"
          ]
        },
        {
          "name": "stdout",
          "output_type": "stream",
          "text": [
            "INFO:tensorflow:Loaded ./tcav/tcav_examples/discrete/kdd_sanity2\\activations\\acts_normal._dense_1 shape (200, 256)\n"
          ]
        },
        {
          "name": "stderr",
          "output_type": "stream",
          "text": [
            "INFO:tensorflow:Loaded ./tcav/tcav_examples/discrete/kdd_sanity2\\activations\\acts_normal._dense_1 shape (200, 256)\n"
          ]
        },
        {
          "name": "stdout",
          "output_type": "stream",
          "text": [
            "INFO:tensorflow:CAV already exists: ./tcav/tcav_examples/discrete/kdd_sanity2\\cav\\random500_3-random500_5-dense_1-linear-0.01.pkl\n"
          ]
        },
        {
          "name": "stderr",
          "output_type": "stream",
          "text": [
            "INFO:tensorflow:CAV already exists: ./tcav/tcav_examples/discrete/kdd_sanity2\\cav\\random500_3-random500_5-dense_1-linear-0.01.pkl\n"
          ]
        },
        {
          "name": "stdout",
          "output_type": "stream",
          "text": [
            "INFO:tensorflow:CAV accuracies: {'random500_3': 0.0, 'random500_5': 0.0, 'overall': 0.0}\n"
          ]
        },
        {
          "name": "stderr",
          "output_type": "stream",
          "text": [
            "INFO:tensorflow:CAV accuracies: {'random500_3': 0.0, 'random500_5': 0.0, 'overall': 0.0}\n"
          ]
        },
        {
          "name": "stdout",
          "output_type": "stream",
          "text": [
            "INFO:tensorflow:Running param 162 of 220\n"
          ]
        },
        {
          "name": "stderr",
          "output_type": "stream",
          "text": [
            "INFO:tensorflow:Running param 162 of 220\n"
          ]
        },
        {
          "name": "stdout",
          "output_type": "stream",
          "text": [
            "INFO:tensorflow:running normal. ['random500_3', 'random500_6']\n"
          ]
        },
        {
          "name": "stderr",
          "output_type": "stream",
          "text": [
            "INFO:tensorflow:running normal. ['random500_3', 'random500_6']\n"
          ]
        },
        {
          "name": "stdout",
          "output_type": "stream",
          "text": [
            "INFO:tensorflow:Loaded ./tcav/tcav_examples/discrete/kdd_sanity2\\activations\\acts_random500_3_dense_1 shape (10, 256)\n"
          ]
        },
        {
          "name": "stderr",
          "output_type": "stream",
          "text": [
            "INFO:tensorflow:Loaded ./tcav/tcav_examples/discrete/kdd_sanity2\\activations\\acts_random500_3_dense_1 shape (10, 256)\n"
          ]
        },
        {
          "name": "stdout",
          "output_type": "stream",
          "text": [
            "INFO:tensorflow:Loaded ./tcav/tcav_examples/discrete/kdd_sanity2\\activations\\acts_random500_6_dense_1 shape (10, 256)\n"
          ]
        },
        {
          "name": "stderr",
          "output_type": "stream",
          "text": [
            "INFO:tensorflow:Loaded ./tcav/tcav_examples/discrete/kdd_sanity2\\activations\\acts_random500_6_dense_1 shape (10, 256)\n"
          ]
        },
        {
          "name": "stdout",
          "output_type": "stream",
          "text": [
            "INFO:tensorflow:Loaded ./tcav/tcav_examples/discrete/kdd_sanity2\\activations\\acts_normal._dense_1 shape (200, 256)\n"
          ]
        },
        {
          "name": "stderr",
          "output_type": "stream",
          "text": [
            "INFO:tensorflow:Loaded ./tcav/tcav_examples/discrete/kdd_sanity2\\activations\\acts_normal._dense_1 shape (200, 256)\n"
          ]
        },
        {
          "name": "stdout",
          "output_type": "stream",
          "text": [
            "INFO:tensorflow:CAV already exists: ./tcav/tcav_examples/discrete/kdd_sanity2\\cav\\random500_3-random500_6-dense_1-linear-0.01.pkl\n"
          ]
        },
        {
          "name": "stderr",
          "output_type": "stream",
          "text": [
            "INFO:tensorflow:CAV already exists: ./tcav/tcav_examples/discrete/kdd_sanity2\\cav\\random500_3-random500_6-dense_1-linear-0.01.pkl\n"
          ]
        },
        {
          "name": "stdout",
          "output_type": "stream",
          "text": [
            "INFO:tensorflow:CAV accuracies: {'random500_3': 1.0, 'random500_6': 0.0, 'overall': 0.42857142857142855}\n"
          ]
        },
        {
          "name": "stderr",
          "output_type": "stream",
          "text": [
            "INFO:tensorflow:CAV accuracies: {'random500_3': 1.0, 'random500_6': 0.0, 'overall': 0.42857142857142855}\n"
          ]
        },
        {
          "name": "stdout",
          "output_type": "stream",
          "text": [
            "INFO:tensorflow:Running param 163 of 220\n"
          ]
        },
        {
          "name": "stderr",
          "output_type": "stream",
          "text": [
            "INFO:tensorflow:Running param 163 of 220\n"
          ]
        },
        {
          "name": "stdout",
          "output_type": "stream",
          "text": [
            "INFO:tensorflow:running normal. ['random500_3', 'random500_7']\n"
          ]
        },
        {
          "name": "stderr",
          "output_type": "stream",
          "text": [
            "INFO:tensorflow:running normal. ['random500_3', 'random500_7']\n"
          ]
        },
        {
          "name": "stdout",
          "output_type": "stream",
          "text": [
            "INFO:tensorflow:Loaded ./tcav/tcav_examples/discrete/kdd_sanity2\\activations\\acts_random500_3_dense_1 shape (10, 256)\n"
          ]
        },
        {
          "name": "stderr",
          "output_type": "stream",
          "text": [
            "INFO:tensorflow:Loaded ./tcav/tcav_examples/discrete/kdd_sanity2\\activations\\acts_random500_3_dense_1 shape (10, 256)\n"
          ]
        },
        {
          "name": "stdout",
          "output_type": "stream",
          "text": [
            "INFO:tensorflow:Loaded ./tcav/tcav_examples/discrete/kdd_sanity2\\activations\\acts_random500_7_dense_1 shape (10, 256)\n"
          ]
        },
        {
          "name": "stderr",
          "output_type": "stream",
          "text": [
            "INFO:tensorflow:Loaded ./tcav/tcav_examples/discrete/kdd_sanity2\\activations\\acts_random500_7_dense_1 shape (10, 256)\n"
          ]
        },
        {
          "name": "stdout",
          "output_type": "stream",
          "text": [
            "INFO:tensorflow:Loaded ./tcav/tcav_examples/discrete/kdd_sanity2\\activations\\acts_normal._dense_1 shape (200, 256)\n"
          ]
        },
        {
          "name": "stderr",
          "output_type": "stream",
          "text": [
            "INFO:tensorflow:Loaded ./tcav/tcav_examples/discrete/kdd_sanity2\\activations\\acts_normal._dense_1 shape (200, 256)\n"
          ]
        },
        {
          "name": "stdout",
          "output_type": "stream",
          "text": [
            "INFO:tensorflow:CAV already exists: ./tcav/tcav_examples/discrete/kdd_sanity2\\cav\\random500_3-random500_7-dense_1-linear-0.01.pkl\n"
          ]
        },
        {
          "name": "stderr",
          "output_type": "stream",
          "text": [
            "INFO:tensorflow:CAV already exists: ./tcav/tcav_examples/discrete/kdd_sanity2\\cav\\random500_3-random500_7-dense_1-linear-0.01.pkl\n"
          ]
        },
        {
          "name": "stdout",
          "output_type": "stream",
          "text": [
            "INFO:tensorflow:CAV accuracies: {'random500_3': 0.6666666666666666, 'random500_7': 1.0, 'overall': 0.8571428571428571}\n"
          ]
        },
        {
          "name": "stderr",
          "output_type": "stream",
          "text": [
            "INFO:tensorflow:CAV accuracies: {'random500_3': 0.6666666666666666, 'random500_7': 1.0, 'overall': 0.8571428571428571}\n"
          ]
        },
        {
          "name": "stdout",
          "output_type": "stream",
          "text": [
            "INFO:tensorflow:Running param 164 of 220\n"
          ]
        },
        {
          "name": "stderr",
          "output_type": "stream",
          "text": [
            "INFO:tensorflow:Running param 164 of 220\n"
          ]
        },
        {
          "name": "stdout",
          "output_type": "stream",
          "text": [
            "INFO:tensorflow:running normal. ['random500_3', 'random500_8']\n"
          ]
        },
        {
          "name": "stderr",
          "output_type": "stream",
          "text": [
            "INFO:tensorflow:running normal. ['random500_3', 'random500_8']\n"
          ]
        },
        {
          "name": "stdout",
          "output_type": "stream",
          "text": [
            "INFO:tensorflow:Loaded ./tcav/tcav_examples/discrete/kdd_sanity2\\activations\\acts_random500_3_dense_1 shape (10, 256)\n"
          ]
        },
        {
          "name": "stderr",
          "output_type": "stream",
          "text": [
            "INFO:tensorflow:Loaded ./tcav/tcav_examples/discrete/kdd_sanity2\\activations\\acts_random500_3_dense_1 shape (10, 256)\n"
          ]
        },
        {
          "name": "stdout",
          "output_type": "stream",
          "text": [
            "INFO:tensorflow:Loaded ./tcav/tcav_examples/discrete/kdd_sanity2\\activations\\acts_random500_8_dense_1 shape (10, 256)\n"
          ]
        },
        {
          "name": "stderr",
          "output_type": "stream",
          "text": [
            "INFO:tensorflow:Loaded ./tcav/tcav_examples/discrete/kdd_sanity2\\activations\\acts_random500_8_dense_1 shape (10, 256)\n"
          ]
        },
        {
          "name": "stdout",
          "output_type": "stream",
          "text": [
            "INFO:tensorflow:Loaded ./tcav/tcav_examples/discrete/kdd_sanity2\\activations\\acts_normal._dense_1 shape (200, 256)\n"
          ]
        },
        {
          "name": "stderr",
          "output_type": "stream",
          "text": [
            "INFO:tensorflow:Loaded ./tcav/tcav_examples/discrete/kdd_sanity2\\activations\\acts_normal._dense_1 shape (200, 256)\n"
          ]
        },
        {
          "name": "stdout",
          "output_type": "stream",
          "text": [
            "INFO:tensorflow:CAV already exists: ./tcav/tcav_examples/discrete/kdd_sanity2\\cav\\random500_3-random500_8-dense_1-linear-0.01.pkl\n"
          ]
        },
        {
          "name": "stderr",
          "output_type": "stream",
          "text": [
            "INFO:tensorflow:CAV already exists: ./tcav/tcav_examples/discrete/kdd_sanity2\\cav\\random500_3-random500_8-dense_1-linear-0.01.pkl\n"
          ]
        },
        {
          "name": "stdout",
          "output_type": "stream",
          "text": [
            "INFO:tensorflow:CAV accuracies: {'random500_3': 0.5, 'random500_8': 1.0, 'overall': 0.7142857142857143}\n"
          ]
        },
        {
          "name": "stderr",
          "output_type": "stream",
          "text": [
            "INFO:tensorflow:CAV accuracies: {'random500_3': 0.5, 'random500_8': 1.0, 'overall': 0.7142857142857143}\n"
          ]
        },
        {
          "name": "stdout",
          "output_type": "stream",
          "text": [
            "INFO:tensorflow:Running param 165 of 220\n"
          ]
        },
        {
          "name": "stderr",
          "output_type": "stream",
          "text": [
            "INFO:tensorflow:Running param 165 of 220\n"
          ]
        },
        {
          "name": "stdout",
          "output_type": "stream",
          "text": [
            "INFO:tensorflow:running normal. ['random500_3', 'random500_9']\n"
          ]
        },
        {
          "name": "stderr",
          "output_type": "stream",
          "text": [
            "INFO:tensorflow:running normal. ['random500_3', 'random500_9']\n"
          ]
        },
        {
          "name": "stdout",
          "output_type": "stream",
          "text": [
            "INFO:tensorflow:Loaded ./tcav/tcav_examples/discrete/kdd_sanity2\\activations\\acts_random500_3_dense_1 shape (10, 256)\n"
          ]
        },
        {
          "name": "stderr",
          "output_type": "stream",
          "text": [
            "INFO:tensorflow:Loaded ./tcav/tcav_examples/discrete/kdd_sanity2\\activations\\acts_random500_3_dense_1 shape (10, 256)\n"
          ]
        },
        {
          "name": "stdout",
          "output_type": "stream",
          "text": [
            "INFO:tensorflow:Loaded ./tcav/tcav_examples/discrete/kdd_sanity2\\activations\\acts_random500_9_dense_1 shape (10, 256)\n"
          ]
        },
        {
          "name": "stderr",
          "output_type": "stream",
          "text": [
            "INFO:tensorflow:Loaded ./tcav/tcav_examples/discrete/kdd_sanity2\\activations\\acts_random500_9_dense_1 shape (10, 256)\n"
          ]
        },
        {
          "name": "stdout",
          "output_type": "stream",
          "text": [
            "INFO:tensorflow:Loaded ./tcav/tcav_examples/discrete/kdd_sanity2\\activations\\acts_normal._dense_1 shape (200, 256)\n"
          ]
        },
        {
          "name": "stderr",
          "output_type": "stream",
          "text": [
            "INFO:tensorflow:Loaded ./tcav/tcav_examples/discrete/kdd_sanity2\\activations\\acts_normal._dense_1 shape (200, 256)\n"
          ]
        },
        {
          "name": "stdout",
          "output_type": "stream",
          "text": [
            "INFO:tensorflow:CAV already exists: ./tcav/tcav_examples/discrete/kdd_sanity2\\cav\\random500_3-random500_9-dense_1-linear-0.01.pkl\n"
          ]
        },
        {
          "name": "stderr",
          "output_type": "stream",
          "text": [
            "INFO:tensorflow:CAV already exists: ./tcav/tcav_examples/discrete/kdd_sanity2\\cav\\random500_3-random500_9-dense_1-linear-0.01.pkl\n"
          ]
        },
        {
          "name": "stdout",
          "output_type": "stream",
          "text": [
            "INFO:tensorflow:CAV accuracies: {'random500_3': 0.0, 'random500_9': 1.0, 'overall': 0.42857142857142855}\n"
          ]
        },
        {
          "name": "stderr",
          "output_type": "stream",
          "text": [
            "INFO:tensorflow:CAV accuracies: {'random500_3': 0.0, 'random500_9': 1.0, 'overall': 0.42857142857142855}\n"
          ]
        },
        {
          "name": "stdout",
          "output_type": "stream",
          "text": [
            "INFO:tensorflow:Running param 166 of 220\n"
          ]
        },
        {
          "name": "stderr",
          "output_type": "stream",
          "text": [
            "INFO:tensorflow:Running param 166 of 220\n"
          ]
        },
        {
          "name": "stdout",
          "output_type": "stream",
          "text": [
            "INFO:tensorflow:running normal. ['random500_4', 'random500_0']\n"
          ]
        },
        {
          "name": "stderr",
          "output_type": "stream",
          "text": [
            "INFO:tensorflow:running normal. ['random500_4', 'random500_0']\n"
          ]
        },
        {
          "name": "stdout",
          "output_type": "stream",
          "text": [
            "INFO:tensorflow:Loaded ./tcav/tcav_examples/discrete/kdd_sanity2\\activations\\acts_random500_4_dense_1 shape (10, 256)\n"
          ]
        },
        {
          "name": "stderr",
          "output_type": "stream",
          "text": [
            "INFO:tensorflow:Loaded ./tcav/tcav_examples/discrete/kdd_sanity2\\activations\\acts_random500_4_dense_1 shape (10, 256)\n"
          ]
        },
        {
          "name": "stdout",
          "output_type": "stream",
          "text": [
            "INFO:tensorflow:Loaded ./tcav/tcav_examples/discrete/kdd_sanity2\\activations\\acts_random500_0_dense_1 shape (10, 256)\n"
          ]
        },
        {
          "name": "stderr",
          "output_type": "stream",
          "text": [
            "INFO:tensorflow:Loaded ./tcav/tcav_examples/discrete/kdd_sanity2\\activations\\acts_random500_0_dense_1 shape (10, 256)\n"
          ]
        },
        {
          "name": "stdout",
          "output_type": "stream",
          "text": [
            "INFO:tensorflow:Loaded ./tcav/tcav_examples/discrete/kdd_sanity2\\activations\\acts_normal._dense_1 shape (200, 256)\n"
          ]
        },
        {
          "name": "stderr",
          "output_type": "stream",
          "text": [
            "INFO:tensorflow:Loaded ./tcav/tcav_examples/discrete/kdd_sanity2\\activations\\acts_normal._dense_1 shape (200, 256)\n"
          ]
        },
        {
          "name": "stdout",
          "output_type": "stream",
          "text": [
            "INFO:tensorflow:CAV already exists: ./tcav/tcav_examples/discrete/kdd_sanity2\\cav\\random500_4-random500_0-dense_1-linear-0.01.pkl\n"
          ]
        },
        {
          "name": "stderr",
          "output_type": "stream",
          "text": [
            "INFO:tensorflow:CAV already exists: ./tcav/tcav_examples/discrete/kdd_sanity2\\cav\\random500_4-random500_0-dense_1-linear-0.01.pkl\n"
          ]
        },
        {
          "name": "stdout",
          "output_type": "stream",
          "text": [
            "INFO:tensorflow:CAV accuracies: {'random500_4': 0.75, 'random500_0': 0.6666666666666666, 'overall': 0.7142857142857143}\n"
          ]
        },
        {
          "name": "stderr",
          "output_type": "stream",
          "text": [
            "INFO:tensorflow:CAV accuracies: {'random500_4': 0.75, 'random500_0': 0.6666666666666666, 'overall': 0.7142857142857143}\n"
          ]
        },
        {
          "name": "stdout",
          "output_type": "stream",
          "text": [
            "INFO:tensorflow:Running param 167 of 220\n"
          ]
        },
        {
          "name": "stderr",
          "output_type": "stream",
          "text": [
            "INFO:tensorflow:Running param 167 of 220\n"
          ]
        },
        {
          "name": "stdout",
          "output_type": "stream",
          "text": [
            "INFO:tensorflow:running normal. ['random500_4', 'random500_1']\n"
          ]
        },
        {
          "name": "stderr",
          "output_type": "stream",
          "text": [
            "INFO:tensorflow:running normal. ['random500_4', 'random500_1']\n"
          ]
        },
        {
          "name": "stdout",
          "output_type": "stream",
          "text": [
            "INFO:tensorflow:Loaded ./tcav/tcav_examples/discrete/kdd_sanity2\\activations\\acts_random500_4_dense_1 shape (10, 256)\n"
          ]
        },
        {
          "name": "stderr",
          "output_type": "stream",
          "text": [
            "INFO:tensorflow:Loaded ./tcav/tcav_examples/discrete/kdd_sanity2\\activations\\acts_random500_4_dense_1 shape (10, 256)\n"
          ]
        },
        {
          "name": "stdout",
          "output_type": "stream",
          "text": [
            "INFO:tensorflow:Loaded ./tcav/tcav_examples/discrete/kdd_sanity2\\activations\\acts_random500_1_dense_1 shape (10, 256)\n"
          ]
        },
        {
          "name": "stderr",
          "output_type": "stream",
          "text": [
            "INFO:tensorflow:Loaded ./tcav/tcav_examples/discrete/kdd_sanity2\\activations\\acts_random500_1_dense_1 shape (10, 256)\n"
          ]
        },
        {
          "name": "stdout",
          "output_type": "stream",
          "text": [
            "INFO:tensorflow:Loaded ./tcav/tcav_examples/discrete/kdd_sanity2\\activations\\acts_normal._dense_1 shape (200, 256)\n"
          ]
        },
        {
          "name": "stderr",
          "output_type": "stream",
          "text": [
            "INFO:tensorflow:Loaded ./tcav/tcav_examples/discrete/kdd_sanity2\\activations\\acts_normal._dense_1 shape (200, 256)\n"
          ]
        },
        {
          "name": "stdout",
          "output_type": "stream",
          "text": [
            "INFO:tensorflow:CAV already exists: ./tcav/tcav_examples/discrete/kdd_sanity2\\cav\\random500_4-random500_1-dense_1-linear-0.01.pkl\n"
          ]
        },
        {
          "name": "stderr",
          "output_type": "stream",
          "text": [
            "INFO:tensorflow:CAV already exists: ./tcav/tcav_examples/discrete/kdd_sanity2\\cav\\random500_4-random500_1-dense_1-linear-0.01.pkl\n"
          ]
        },
        {
          "name": "stdout",
          "output_type": "stream",
          "text": [
            "INFO:tensorflow:CAV accuracies: {'random500_4': 0.6666666666666666, 'random500_1': 1.0, 'overall': 0.8571428571428571}\n"
          ]
        },
        {
          "name": "stderr",
          "output_type": "stream",
          "text": [
            "INFO:tensorflow:CAV accuracies: {'random500_4': 0.6666666666666666, 'random500_1': 1.0, 'overall': 0.8571428571428571}\n"
          ]
        },
        {
          "name": "stdout",
          "output_type": "stream",
          "text": [
            "INFO:tensorflow:Running param 168 of 220\n"
          ]
        },
        {
          "name": "stderr",
          "output_type": "stream",
          "text": [
            "INFO:tensorflow:Running param 168 of 220\n"
          ]
        },
        {
          "name": "stdout",
          "output_type": "stream",
          "text": [
            "INFO:tensorflow:running normal. ['random500_4', 'random500_2']\n"
          ]
        },
        {
          "name": "stderr",
          "output_type": "stream",
          "text": [
            "INFO:tensorflow:running normal. ['random500_4', 'random500_2']\n"
          ]
        },
        {
          "name": "stdout",
          "output_type": "stream",
          "text": [
            "INFO:tensorflow:Loaded ./tcav/tcav_examples/discrete/kdd_sanity2\\activations\\acts_random500_4_dense_1 shape (10, 256)\n"
          ]
        },
        {
          "name": "stderr",
          "output_type": "stream",
          "text": [
            "INFO:tensorflow:Loaded ./tcav/tcav_examples/discrete/kdd_sanity2\\activations\\acts_random500_4_dense_1 shape (10, 256)\n"
          ]
        },
        {
          "name": "stdout",
          "output_type": "stream",
          "text": [
            "INFO:tensorflow:Loaded ./tcav/tcav_examples/discrete/kdd_sanity2\\activations\\acts_random500_2_dense_1 shape (10, 256)\n"
          ]
        },
        {
          "name": "stderr",
          "output_type": "stream",
          "text": [
            "INFO:tensorflow:Loaded ./tcav/tcav_examples/discrete/kdd_sanity2\\activations\\acts_random500_2_dense_1 shape (10, 256)\n"
          ]
        },
        {
          "name": "stdout",
          "output_type": "stream",
          "text": [
            "INFO:tensorflow:Loaded ./tcav/tcav_examples/discrete/kdd_sanity2\\activations\\acts_normal._dense_1 shape (200, 256)\n"
          ]
        },
        {
          "name": "stderr",
          "output_type": "stream",
          "text": [
            "INFO:tensorflow:Loaded ./tcav/tcav_examples/discrete/kdd_sanity2\\activations\\acts_normal._dense_1 shape (200, 256)\n"
          ]
        },
        {
          "name": "stdout",
          "output_type": "stream",
          "text": [
            "INFO:tensorflow:CAV already exists: ./tcav/tcav_examples/discrete/kdd_sanity2\\cav\\random500_4-random500_2-dense_1-linear-0.01.pkl\n"
          ]
        },
        {
          "name": "stderr",
          "output_type": "stream",
          "text": [
            "INFO:tensorflow:CAV already exists: ./tcav/tcav_examples/discrete/kdd_sanity2\\cav\\random500_4-random500_2-dense_1-linear-0.01.pkl\n"
          ]
        },
        {
          "name": "stdout",
          "output_type": "stream",
          "text": [
            "INFO:tensorflow:CAV accuracies: {'random500_4': 1.0, 'random500_2': 0.25, 'overall': 0.5714285714285714}\n"
          ]
        },
        {
          "name": "stderr",
          "output_type": "stream",
          "text": [
            "INFO:tensorflow:CAV accuracies: {'random500_4': 1.0, 'random500_2': 0.25, 'overall': 0.5714285714285714}\n"
          ]
        },
        {
          "name": "stdout",
          "output_type": "stream",
          "text": [
            "INFO:tensorflow:Running param 169 of 220\n"
          ]
        },
        {
          "name": "stderr",
          "output_type": "stream",
          "text": [
            "INFO:tensorflow:Running param 169 of 220\n"
          ]
        },
        {
          "name": "stdout",
          "output_type": "stream",
          "text": [
            "INFO:tensorflow:running normal. ['random500_4', 'random500_3']\n"
          ]
        },
        {
          "name": "stderr",
          "output_type": "stream",
          "text": [
            "INFO:tensorflow:running normal. ['random500_4', 'random500_3']\n"
          ]
        },
        {
          "name": "stdout",
          "output_type": "stream",
          "text": [
            "INFO:tensorflow:Loaded ./tcav/tcav_examples/discrete/kdd_sanity2\\activations\\acts_random500_4_dense_1 shape (10, 256)\n"
          ]
        },
        {
          "name": "stderr",
          "output_type": "stream",
          "text": [
            "INFO:tensorflow:Loaded ./tcav/tcav_examples/discrete/kdd_sanity2\\activations\\acts_random500_4_dense_1 shape (10, 256)\n"
          ]
        },
        {
          "name": "stdout",
          "output_type": "stream",
          "text": [
            "INFO:tensorflow:Loaded ./tcav/tcav_examples/discrete/kdd_sanity2\\activations\\acts_random500_3_dense_1 shape (10, 256)\n"
          ]
        },
        {
          "name": "stderr",
          "output_type": "stream",
          "text": [
            "INFO:tensorflow:Loaded ./tcav/tcav_examples/discrete/kdd_sanity2\\activations\\acts_random500_3_dense_1 shape (10, 256)\n"
          ]
        },
        {
          "name": "stdout",
          "output_type": "stream",
          "text": [
            "INFO:tensorflow:Loaded ./tcav/tcav_examples/discrete/kdd_sanity2\\activations\\acts_normal._dense_1 shape (200, 256)\n"
          ]
        },
        {
          "name": "stderr",
          "output_type": "stream",
          "text": [
            "INFO:tensorflow:Loaded ./tcav/tcav_examples/discrete/kdd_sanity2\\activations\\acts_normal._dense_1 shape (200, 256)\n"
          ]
        },
        {
          "name": "stdout",
          "output_type": "stream",
          "text": [
            "INFO:tensorflow:CAV already exists: ./tcav/tcav_examples/discrete/kdd_sanity2\\cav\\random500_4-random500_3-dense_1-linear-0.01.pkl\n"
          ]
        },
        {
          "name": "stderr",
          "output_type": "stream",
          "text": [
            "INFO:tensorflow:CAV already exists: ./tcav/tcav_examples/discrete/kdd_sanity2\\cav\\random500_4-random500_3-dense_1-linear-0.01.pkl\n"
          ]
        },
        {
          "name": "stdout",
          "output_type": "stream",
          "text": [
            "INFO:tensorflow:CAV accuracies: {'random500_4': 0.5, 'random500_3': 0.0, 'overall': 0.2857142857142857}\n"
          ]
        },
        {
          "name": "stderr",
          "output_type": "stream",
          "text": [
            "INFO:tensorflow:CAV accuracies: {'random500_4': 0.5, 'random500_3': 0.0, 'overall': 0.2857142857142857}\n"
          ]
        },
        {
          "name": "stdout",
          "output_type": "stream",
          "text": [
            "INFO:tensorflow:Running param 170 of 220\n"
          ]
        },
        {
          "name": "stderr",
          "output_type": "stream",
          "text": [
            "INFO:tensorflow:Running param 170 of 220\n"
          ]
        },
        {
          "name": "stdout",
          "output_type": "stream",
          "text": [
            "INFO:tensorflow:running normal. ['random500_4', 'random500_5']\n"
          ]
        },
        {
          "name": "stderr",
          "output_type": "stream",
          "text": [
            "INFO:tensorflow:running normal. ['random500_4', 'random500_5']\n"
          ]
        },
        {
          "name": "stdout",
          "output_type": "stream",
          "text": [
            "INFO:tensorflow:Loaded ./tcav/tcav_examples/discrete/kdd_sanity2\\activations\\acts_random500_4_dense_1 shape (10, 256)\n"
          ]
        },
        {
          "name": "stderr",
          "output_type": "stream",
          "text": [
            "INFO:tensorflow:Loaded ./tcav/tcav_examples/discrete/kdd_sanity2\\activations\\acts_random500_4_dense_1 shape (10, 256)\n"
          ]
        },
        {
          "name": "stdout",
          "output_type": "stream",
          "text": [
            "INFO:tensorflow:Loaded ./tcav/tcav_examples/discrete/kdd_sanity2\\activations\\acts_random500_5_dense_1 shape (10, 256)\n"
          ]
        },
        {
          "name": "stderr",
          "output_type": "stream",
          "text": [
            "INFO:tensorflow:Loaded ./tcav/tcav_examples/discrete/kdd_sanity2\\activations\\acts_random500_5_dense_1 shape (10, 256)\n"
          ]
        },
        {
          "name": "stdout",
          "output_type": "stream",
          "text": [
            "INFO:tensorflow:Loaded ./tcav/tcav_examples/discrete/kdd_sanity2\\activations\\acts_normal._dense_1 shape (200, 256)\n"
          ]
        },
        {
          "name": "stderr",
          "output_type": "stream",
          "text": [
            "INFO:tensorflow:Loaded ./tcav/tcav_examples/discrete/kdd_sanity2\\activations\\acts_normal._dense_1 shape (200, 256)\n"
          ]
        },
        {
          "name": "stdout",
          "output_type": "stream",
          "text": [
            "INFO:tensorflow:CAV already exists: ./tcav/tcav_examples/discrete/kdd_sanity2\\cav\\random500_4-random500_5-dense_1-linear-0.01.pkl\n"
          ]
        },
        {
          "name": "stderr",
          "output_type": "stream",
          "text": [
            "INFO:tensorflow:CAV already exists: ./tcav/tcav_examples/discrete/kdd_sanity2\\cav\\random500_4-random500_5-dense_1-linear-0.01.pkl\n"
          ]
        },
        {
          "name": "stdout",
          "output_type": "stream",
          "text": [
            "INFO:tensorflow:CAV accuracies: {'random500_4': 0.6666666666666666, 'random500_5': 0.0, 'overall': 0.2857142857142857}\n"
          ]
        },
        {
          "name": "stderr",
          "output_type": "stream",
          "text": [
            "INFO:tensorflow:CAV accuracies: {'random500_4': 0.6666666666666666, 'random500_5': 0.0, 'overall': 0.2857142857142857}\n"
          ]
        },
        {
          "name": "stdout",
          "output_type": "stream",
          "text": [
            "INFO:tensorflow:Running param 171 of 220\n"
          ]
        },
        {
          "name": "stderr",
          "output_type": "stream",
          "text": [
            "INFO:tensorflow:Running param 171 of 220\n"
          ]
        },
        {
          "name": "stdout",
          "output_type": "stream",
          "text": [
            "INFO:tensorflow:running normal. ['random500_4', 'random500_6']\n"
          ]
        },
        {
          "name": "stderr",
          "output_type": "stream",
          "text": [
            "INFO:tensorflow:running normal. ['random500_4', 'random500_6']\n"
          ]
        },
        {
          "name": "stdout",
          "output_type": "stream",
          "text": [
            "INFO:tensorflow:Loaded ./tcav/tcav_examples/discrete/kdd_sanity2\\activations\\acts_random500_4_dense_1 shape (10, 256)\n"
          ]
        },
        {
          "name": "stderr",
          "output_type": "stream",
          "text": [
            "INFO:tensorflow:Loaded ./tcav/tcav_examples/discrete/kdd_sanity2\\activations\\acts_random500_4_dense_1 shape (10, 256)\n"
          ]
        },
        {
          "name": "stdout",
          "output_type": "stream",
          "text": [
            "INFO:tensorflow:Loaded ./tcav/tcav_examples/discrete/kdd_sanity2\\activations\\acts_random500_6_dense_1 shape (10, 256)\n"
          ]
        },
        {
          "name": "stderr",
          "output_type": "stream",
          "text": [
            "INFO:tensorflow:Loaded ./tcav/tcav_examples/discrete/kdd_sanity2\\activations\\acts_random500_6_dense_1 shape (10, 256)\n"
          ]
        },
        {
          "name": "stdout",
          "output_type": "stream",
          "text": [
            "INFO:tensorflow:Loaded ./tcav/tcav_examples/discrete/kdd_sanity2\\activations\\acts_normal._dense_1 shape (200, 256)\n"
          ]
        },
        {
          "name": "stderr",
          "output_type": "stream",
          "text": [
            "INFO:tensorflow:Loaded ./tcav/tcav_examples/discrete/kdd_sanity2\\activations\\acts_normal._dense_1 shape (200, 256)\n"
          ]
        },
        {
          "name": "stdout",
          "output_type": "stream",
          "text": [
            "INFO:tensorflow:CAV already exists: ./tcav/tcav_examples/discrete/kdd_sanity2\\cav\\random500_4-random500_6-dense_1-linear-0.01.pkl\n"
          ]
        },
        {
          "name": "stderr",
          "output_type": "stream",
          "text": [
            "INFO:tensorflow:CAV already exists: ./tcav/tcav_examples/discrete/kdd_sanity2\\cav\\random500_4-random500_6-dense_1-linear-0.01.pkl\n"
          ]
        },
        {
          "name": "stdout",
          "output_type": "stream",
          "text": [
            "INFO:tensorflow:CAV accuracies: {'random500_4': 0.6666666666666666, 'random500_6': 0.5, 'overall': 0.5714285714285714}\n"
          ]
        },
        {
          "name": "stderr",
          "output_type": "stream",
          "text": [
            "INFO:tensorflow:CAV accuracies: {'random500_4': 0.6666666666666666, 'random500_6': 0.5, 'overall': 0.5714285714285714}\n"
          ]
        },
        {
          "name": "stdout",
          "output_type": "stream",
          "text": [
            "INFO:tensorflow:Running param 172 of 220\n"
          ]
        },
        {
          "name": "stderr",
          "output_type": "stream",
          "text": [
            "INFO:tensorflow:Running param 172 of 220\n"
          ]
        },
        {
          "name": "stdout",
          "output_type": "stream",
          "text": [
            "INFO:tensorflow:running normal. ['random500_4', 'random500_7']\n"
          ]
        },
        {
          "name": "stderr",
          "output_type": "stream",
          "text": [
            "INFO:tensorflow:running normal. ['random500_4', 'random500_7']\n"
          ]
        },
        {
          "name": "stdout",
          "output_type": "stream",
          "text": [
            "INFO:tensorflow:Loaded ./tcav/tcav_examples/discrete/kdd_sanity2\\activations\\acts_random500_4_dense_1 shape (10, 256)\n"
          ]
        },
        {
          "name": "stderr",
          "output_type": "stream",
          "text": [
            "INFO:tensorflow:Loaded ./tcav/tcav_examples/discrete/kdd_sanity2\\activations\\acts_random500_4_dense_1 shape (10, 256)\n"
          ]
        },
        {
          "name": "stdout",
          "output_type": "stream",
          "text": [
            "INFO:tensorflow:Loaded ./tcav/tcav_examples/discrete/kdd_sanity2\\activations\\acts_random500_7_dense_1 shape (10, 256)\n"
          ]
        },
        {
          "name": "stderr",
          "output_type": "stream",
          "text": [
            "INFO:tensorflow:Loaded ./tcav/tcav_examples/discrete/kdd_sanity2\\activations\\acts_random500_7_dense_1 shape (10, 256)\n"
          ]
        },
        {
          "name": "stdout",
          "output_type": "stream",
          "text": [
            "INFO:tensorflow:Loaded ./tcav/tcav_examples/discrete/kdd_sanity2\\activations\\acts_normal._dense_1 shape (200, 256)\n"
          ]
        },
        {
          "name": "stderr",
          "output_type": "stream",
          "text": [
            "INFO:tensorflow:Loaded ./tcav/tcav_examples/discrete/kdd_sanity2\\activations\\acts_normal._dense_1 shape (200, 256)\n"
          ]
        },
        {
          "name": "stdout",
          "output_type": "stream",
          "text": [
            "INFO:tensorflow:CAV already exists: ./tcav/tcav_examples/discrete/kdd_sanity2\\cav\\random500_4-random500_7-dense_1-linear-0.01.pkl\n"
          ]
        },
        {
          "name": "stderr",
          "output_type": "stream",
          "text": [
            "INFO:tensorflow:CAV already exists: ./tcav/tcav_examples/discrete/kdd_sanity2\\cav\\random500_4-random500_7-dense_1-linear-0.01.pkl\n"
          ]
        },
        {
          "name": "stdout",
          "output_type": "stream",
          "text": [
            "INFO:tensorflow:CAV accuracies: {'random500_4': 0.6666666666666666, 'random500_7': 0.75, 'overall': 0.7142857142857143}\n"
          ]
        },
        {
          "name": "stderr",
          "output_type": "stream",
          "text": [
            "INFO:tensorflow:CAV accuracies: {'random500_4': 0.6666666666666666, 'random500_7': 0.75, 'overall': 0.7142857142857143}\n"
          ]
        },
        {
          "name": "stdout",
          "output_type": "stream",
          "text": [
            "INFO:tensorflow:Running param 173 of 220\n"
          ]
        },
        {
          "name": "stderr",
          "output_type": "stream",
          "text": [
            "INFO:tensorflow:Running param 173 of 220\n"
          ]
        },
        {
          "name": "stdout",
          "output_type": "stream",
          "text": [
            "INFO:tensorflow:running normal. ['random500_4', 'random500_8']\n"
          ]
        },
        {
          "name": "stderr",
          "output_type": "stream",
          "text": [
            "INFO:tensorflow:running normal. ['random500_4', 'random500_8']\n"
          ]
        },
        {
          "name": "stdout",
          "output_type": "stream",
          "text": [
            "INFO:tensorflow:Loaded ./tcav/tcav_examples/discrete/kdd_sanity2\\activations\\acts_random500_4_dense_1 shape (10, 256)\n"
          ]
        },
        {
          "name": "stderr",
          "output_type": "stream",
          "text": [
            "INFO:tensorflow:Loaded ./tcav/tcav_examples/discrete/kdd_sanity2\\activations\\acts_random500_4_dense_1 shape (10, 256)\n"
          ]
        },
        {
          "name": "stdout",
          "output_type": "stream",
          "text": [
            "INFO:tensorflow:Loaded ./tcav/tcav_examples/discrete/kdd_sanity2\\activations\\acts_random500_8_dense_1 shape (10, 256)\n"
          ]
        },
        {
          "name": "stderr",
          "output_type": "stream",
          "text": [
            "INFO:tensorflow:Loaded ./tcav/tcav_examples/discrete/kdd_sanity2\\activations\\acts_random500_8_dense_1 shape (10, 256)\n"
          ]
        },
        {
          "name": "stdout",
          "output_type": "stream",
          "text": [
            "INFO:tensorflow:Loaded ./tcav/tcav_examples/discrete/kdd_sanity2\\activations\\acts_normal._dense_1 shape (200, 256)\n"
          ]
        },
        {
          "name": "stderr",
          "output_type": "stream",
          "text": [
            "INFO:tensorflow:Loaded ./tcav/tcav_examples/discrete/kdd_sanity2\\activations\\acts_normal._dense_1 shape (200, 256)\n"
          ]
        },
        {
          "name": "stdout",
          "output_type": "stream",
          "text": [
            "INFO:tensorflow:CAV already exists: ./tcav/tcav_examples/discrete/kdd_sanity2\\cav\\random500_4-random500_8-dense_1-linear-0.01.pkl\n"
          ]
        },
        {
          "name": "stderr",
          "output_type": "stream",
          "text": [
            "INFO:tensorflow:CAV already exists: ./tcav/tcav_examples/discrete/kdd_sanity2\\cav\\random500_4-random500_8-dense_1-linear-0.01.pkl\n"
          ]
        },
        {
          "name": "stdout",
          "output_type": "stream",
          "text": [
            "INFO:tensorflow:CAV accuracies: {'random500_4': 0.5, 'random500_8': 0.6666666666666666, 'overall': 0.5714285714285714}\n"
          ]
        },
        {
          "name": "stderr",
          "output_type": "stream",
          "text": [
            "INFO:tensorflow:CAV accuracies: {'random500_4': 0.5, 'random500_8': 0.6666666666666666, 'overall': 0.5714285714285714}\n"
          ]
        },
        {
          "name": "stdout",
          "output_type": "stream",
          "text": [
            "INFO:tensorflow:Running param 174 of 220\n"
          ]
        },
        {
          "name": "stderr",
          "output_type": "stream",
          "text": [
            "INFO:tensorflow:Running param 174 of 220\n"
          ]
        },
        {
          "name": "stdout",
          "output_type": "stream",
          "text": [
            "INFO:tensorflow:running normal. ['random500_4', 'random500_9']\n"
          ]
        },
        {
          "name": "stderr",
          "output_type": "stream",
          "text": [
            "INFO:tensorflow:running normal. ['random500_4', 'random500_9']\n"
          ]
        },
        {
          "name": "stdout",
          "output_type": "stream",
          "text": [
            "INFO:tensorflow:Loaded ./tcav/tcav_examples/discrete/kdd_sanity2\\activations\\acts_random500_4_dense_1 shape (10, 256)\n"
          ]
        },
        {
          "name": "stderr",
          "output_type": "stream",
          "text": [
            "INFO:tensorflow:Loaded ./tcav/tcav_examples/discrete/kdd_sanity2\\activations\\acts_random500_4_dense_1 shape (10, 256)\n"
          ]
        },
        {
          "name": "stdout",
          "output_type": "stream",
          "text": [
            "INFO:tensorflow:Loaded ./tcav/tcav_examples/discrete/kdd_sanity2\\activations\\acts_random500_9_dense_1 shape (10, 256)\n"
          ]
        },
        {
          "name": "stderr",
          "output_type": "stream",
          "text": [
            "INFO:tensorflow:Loaded ./tcav/tcav_examples/discrete/kdd_sanity2\\activations\\acts_random500_9_dense_1 shape (10, 256)\n"
          ]
        },
        {
          "name": "stdout",
          "output_type": "stream",
          "text": [
            "INFO:tensorflow:Loaded ./tcav/tcav_examples/discrete/kdd_sanity2\\activations\\acts_normal._dense_1 shape (200, 256)\n"
          ]
        },
        {
          "name": "stderr",
          "output_type": "stream",
          "text": [
            "INFO:tensorflow:Loaded ./tcav/tcav_examples/discrete/kdd_sanity2\\activations\\acts_normal._dense_1 shape (200, 256)\n"
          ]
        },
        {
          "name": "stdout",
          "output_type": "stream",
          "text": [
            "INFO:tensorflow:CAV already exists: ./tcav/tcav_examples/discrete/kdd_sanity2\\cav\\random500_4-random500_9-dense_1-linear-0.01.pkl\n"
          ]
        },
        {
          "name": "stderr",
          "output_type": "stream",
          "text": [
            "INFO:tensorflow:CAV already exists: ./tcav/tcav_examples/discrete/kdd_sanity2\\cav\\random500_4-random500_9-dense_1-linear-0.01.pkl\n"
          ]
        },
        {
          "name": "stdout",
          "output_type": "stream",
          "text": [
            "INFO:tensorflow:CAV accuracies: {'random500_4': 1.0, 'random500_9': 0.75, 'overall': 0.8571428571428571}\n"
          ]
        },
        {
          "name": "stderr",
          "output_type": "stream",
          "text": [
            "INFO:tensorflow:CAV accuracies: {'random500_4': 1.0, 'random500_9': 0.75, 'overall': 0.8571428571428571}\n"
          ]
        },
        {
          "name": "stdout",
          "output_type": "stream",
          "text": [
            "INFO:tensorflow:Running param 175 of 220\n"
          ]
        },
        {
          "name": "stderr",
          "output_type": "stream",
          "text": [
            "INFO:tensorflow:Running param 175 of 220\n"
          ]
        },
        {
          "name": "stdout",
          "output_type": "stream",
          "text": [
            "INFO:tensorflow:running normal. ['random500_5', 'random500_0']\n"
          ]
        },
        {
          "name": "stderr",
          "output_type": "stream",
          "text": [
            "INFO:tensorflow:running normal. ['random500_5', 'random500_0']\n"
          ]
        },
        {
          "name": "stdout",
          "output_type": "stream",
          "text": [
            "INFO:tensorflow:Loaded ./tcav/tcav_examples/discrete/kdd_sanity2\\activations\\acts_random500_5_dense_1 shape (10, 256)\n"
          ]
        },
        {
          "name": "stderr",
          "output_type": "stream",
          "text": [
            "INFO:tensorflow:Loaded ./tcav/tcav_examples/discrete/kdd_sanity2\\activations\\acts_random500_5_dense_1 shape (10, 256)\n"
          ]
        },
        {
          "name": "stdout",
          "output_type": "stream",
          "text": [
            "INFO:tensorflow:Loaded ./tcav/tcav_examples/discrete/kdd_sanity2\\activations\\acts_random500_0_dense_1 shape (10, 256)\n"
          ]
        },
        {
          "name": "stderr",
          "output_type": "stream",
          "text": [
            "INFO:tensorflow:Loaded ./tcav/tcav_examples/discrete/kdd_sanity2\\activations\\acts_random500_0_dense_1 shape (10, 256)\n"
          ]
        },
        {
          "name": "stdout",
          "output_type": "stream",
          "text": [
            "INFO:tensorflow:Loaded ./tcav/tcav_examples/discrete/kdd_sanity2\\activations\\acts_normal._dense_1 shape (200, 256)\n"
          ]
        },
        {
          "name": "stderr",
          "output_type": "stream",
          "text": [
            "INFO:tensorflow:Loaded ./tcav/tcav_examples/discrete/kdd_sanity2\\activations\\acts_normal._dense_1 shape (200, 256)\n"
          ]
        },
        {
          "name": "stdout",
          "output_type": "stream",
          "text": [
            "INFO:tensorflow:CAV already exists: ./tcav/tcav_examples/discrete/kdd_sanity2\\cav\\random500_5-random500_0-dense_1-linear-0.01.pkl\n"
          ]
        },
        {
          "name": "stderr",
          "output_type": "stream",
          "text": [
            "INFO:tensorflow:CAV already exists: ./tcav/tcav_examples/discrete/kdd_sanity2\\cav\\random500_5-random500_0-dense_1-linear-0.01.pkl\n"
          ]
        },
        {
          "name": "stdout",
          "output_type": "stream",
          "text": [
            "INFO:tensorflow:CAV accuracies: {'random500_5': 1.0, 'random500_0': 1.0, 'overall': 1.0}\n"
          ]
        },
        {
          "name": "stderr",
          "output_type": "stream",
          "text": [
            "INFO:tensorflow:CAV accuracies: {'random500_5': 1.0, 'random500_0': 1.0, 'overall': 1.0}\n"
          ]
        },
        {
          "name": "stdout",
          "output_type": "stream",
          "text": [
            "INFO:tensorflow:Running param 176 of 220\n"
          ]
        },
        {
          "name": "stderr",
          "output_type": "stream",
          "text": [
            "INFO:tensorflow:Running param 176 of 220\n"
          ]
        },
        {
          "name": "stdout",
          "output_type": "stream",
          "text": [
            "INFO:tensorflow:running normal. ['random500_5', 'random500_1']\n"
          ]
        },
        {
          "name": "stderr",
          "output_type": "stream",
          "text": [
            "INFO:tensorflow:running normal. ['random500_5', 'random500_1']\n"
          ]
        },
        {
          "name": "stdout",
          "output_type": "stream",
          "text": [
            "INFO:tensorflow:Loaded ./tcav/tcav_examples/discrete/kdd_sanity2\\activations\\acts_random500_5_dense_1 shape (10, 256)\n"
          ]
        },
        {
          "name": "stderr",
          "output_type": "stream",
          "text": [
            "INFO:tensorflow:Loaded ./tcav/tcav_examples/discrete/kdd_sanity2\\activations\\acts_random500_5_dense_1 shape (10, 256)\n"
          ]
        },
        {
          "name": "stdout",
          "output_type": "stream",
          "text": [
            "INFO:tensorflow:Loaded ./tcav/tcav_examples/discrete/kdd_sanity2\\activations\\acts_random500_1_dense_1 shape (10, 256)\n"
          ]
        },
        {
          "name": "stderr",
          "output_type": "stream",
          "text": [
            "INFO:tensorflow:Loaded ./tcav/tcav_examples/discrete/kdd_sanity2\\activations\\acts_random500_1_dense_1 shape (10, 256)\n"
          ]
        },
        {
          "name": "stdout",
          "output_type": "stream",
          "text": [
            "INFO:tensorflow:Loaded ./tcav/tcav_examples/discrete/kdd_sanity2\\activations\\acts_normal._dense_1 shape (200, 256)\n"
          ]
        },
        {
          "name": "stderr",
          "output_type": "stream",
          "text": [
            "INFO:tensorflow:Loaded ./tcav/tcav_examples/discrete/kdd_sanity2\\activations\\acts_normal._dense_1 shape (200, 256)\n"
          ]
        },
        {
          "name": "stdout",
          "output_type": "stream",
          "text": [
            "INFO:tensorflow:CAV already exists: ./tcav/tcav_examples/discrete/kdd_sanity2\\cav\\random500_5-random500_1-dense_1-linear-0.01.pkl\n"
          ]
        },
        {
          "name": "stderr",
          "output_type": "stream",
          "text": [
            "INFO:tensorflow:CAV already exists: ./tcav/tcav_examples/discrete/kdd_sanity2\\cav\\random500_5-random500_1-dense_1-linear-0.01.pkl\n"
          ]
        },
        {
          "name": "stdout",
          "output_type": "stream",
          "text": [
            "INFO:tensorflow:CAV accuracies: {'random500_5': 0.5, 'random500_1': 1.0, 'overall': 0.7142857142857143}\n"
          ]
        },
        {
          "name": "stderr",
          "output_type": "stream",
          "text": [
            "INFO:tensorflow:CAV accuracies: {'random500_5': 0.5, 'random500_1': 1.0, 'overall': 0.7142857142857143}\n"
          ]
        },
        {
          "name": "stdout",
          "output_type": "stream",
          "text": [
            "INFO:tensorflow:Running param 177 of 220\n"
          ]
        },
        {
          "name": "stderr",
          "output_type": "stream",
          "text": [
            "INFO:tensorflow:Running param 177 of 220\n"
          ]
        },
        {
          "name": "stdout",
          "output_type": "stream",
          "text": [
            "INFO:tensorflow:running normal. ['random500_5', 'random500_2']\n"
          ]
        },
        {
          "name": "stderr",
          "output_type": "stream",
          "text": [
            "INFO:tensorflow:running normal. ['random500_5', 'random500_2']\n"
          ]
        },
        {
          "name": "stdout",
          "output_type": "stream",
          "text": [
            "INFO:tensorflow:Loaded ./tcav/tcav_examples/discrete/kdd_sanity2\\activations\\acts_random500_5_dense_1 shape (10, 256)\n"
          ]
        },
        {
          "name": "stderr",
          "output_type": "stream",
          "text": [
            "INFO:tensorflow:Loaded ./tcav/tcav_examples/discrete/kdd_sanity2\\activations\\acts_random500_5_dense_1 shape (10, 256)\n"
          ]
        },
        {
          "name": "stdout",
          "output_type": "stream",
          "text": [
            "INFO:tensorflow:Loaded ./tcav/tcav_examples/discrete/kdd_sanity2\\activations\\acts_random500_2_dense_1 shape (10, 256)\n"
          ]
        },
        {
          "name": "stderr",
          "output_type": "stream",
          "text": [
            "INFO:tensorflow:Loaded ./tcav/tcav_examples/discrete/kdd_sanity2\\activations\\acts_random500_2_dense_1 shape (10, 256)\n"
          ]
        },
        {
          "name": "stdout",
          "output_type": "stream",
          "text": [
            "INFO:tensorflow:Loaded ./tcav/tcav_examples/discrete/kdd_sanity2\\activations\\acts_normal._dense_1 shape (200, 256)\n"
          ]
        },
        {
          "name": "stderr",
          "output_type": "stream",
          "text": [
            "INFO:tensorflow:Loaded ./tcav/tcav_examples/discrete/kdd_sanity2\\activations\\acts_normal._dense_1 shape (200, 256)\n"
          ]
        },
        {
          "name": "stdout",
          "output_type": "stream",
          "text": [
            "INFO:tensorflow:CAV already exists: ./tcav/tcav_examples/discrete/kdd_sanity2\\cav\\random500_5-random500_2-dense_1-linear-0.01.pkl\n"
          ]
        },
        {
          "name": "stderr",
          "output_type": "stream",
          "text": [
            "INFO:tensorflow:CAV already exists: ./tcav/tcav_examples/discrete/kdd_sanity2\\cav\\random500_5-random500_2-dense_1-linear-0.01.pkl\n"
          ]
        },
        {
          "name": "stdout",
          "output_type": "stream",
          "text": [
            "INFO:tensorflow:CAV accuracies: {'random500_5': 0.6666666666666666, 'random500_2': 1.0, 'overall': 0.8571428571428571}\n"
          ]
        },
        {
          "name": "stderr",
          "output_type": "stream",
          "text": [
            "INFO:tensorflow:CAV accuracies: {'random500_5': 0.6666666666666666, 'random500_2': 1.0, 'overall': 0.8571428571428571}\n"
          ]
        },
        {
          "name": "stdout",
          "output_type": "stream",
          "text": [
            "INFO:tensorflow:Running param 178 of 220\n"
          ]
        },
        {
          "name": "stderr",
          "output_type": "stream",
          "text": [
            "INFO:tensorflow:Running param 178 of 220\n"
          ]
        },
        {
          "name": "stdout",
          "output_type": "stream",
          "text": [
            "INFO:tensorflow:running normal. ['random500_5', 'random500_3']\n"
          ]
        },
        {
          "name": "stderr",
          "output_type": "stream",
          "text": [
            "INFO:tensorflow:running normal. ['random500_5', 'random500_3']\n"
          ]
        },
        {
          "name": "stdout",
          "output_type": "stream",
          "text": [
            "INFO:tensorflow:Loaded ./tcav/tcav_examples/discrete/kdd_sanity2\\activations\\acts_random500_5_dense_1 shape (10, 256)\n"
          ]
        },
        {
          "name": "stderr",
          "output_type": "stream",
          "text": [
            "INFO:tensorflow:Loaded ./tcav/tcav_examples/discrete/kdd_sanity2\\activations\\acts_random500_5_dense_1 shape (10, 256)\n"
          ]
        },
        {
          "name": "stdout",
          "output_type": "stream",
          "text": [
            "INFO:tensorflow:Loaded ./tcav/tcav_examples/discrete/kdd_sanity2\\activations\\acts_random500_3_dense_1 shape (10, 256)\n"
          ]
        },
        {
          "name": "stderr",
          "output_type": "stream",
          "text": [
            "INFO:tensorflow:Loaded ./tcav/tcav_examples/discrete/kdd_sanity2\\activations\\acts_random500_3_dense_1 shape (10, 256)\n"
          ]
        },
        {
          "name": "stdout",
          "output_type": "stream",
          "text": [
            "INFO:tensorflow:Loaded ./tcav/tcav_examples/discrete/kdd_sanity2\\activations\\acts_normal._dense_1 shape (200, 256)\n"
          ]
        },
        {
          "name": "stderr",
          "output_type": "stream",
          "text": [
            "INFO:tensorflow:Loaded ./tcav/tcav_examples/discrete/kdd_sanity2\\activations\\acts_normal._dense_1 shape (200, 256)\n"
          ]
        },
        {
          "name": "stdout",
          "output_type": "stream",
          "text": [
            "INFO:tensorflow:CAV already exists: ./tcav/tcav_examples/discrete/kdd_sanity2\\cav\\random500_5-random500_3-dense_1-linear-0.01.pkl\n"
          ]
        },
        {
          "name": "stderr",
          "output_type": "stream",
          "text": [
            "INFO:tensorflow:CAV already exists: ./tcav/tcav_examples/discrete/kdd_sanity2\\cav\\random500_5-random500_3-dense_1-linear-0.01.pkl\n"
          ]
        },
        {
          "name": "stdout",
          "output_type": "stream",
          "text": [
            "INFO:tensorflow:CAV accuracies: {'random500_5': 0.5, 'random500_3': 0.6666666666666666, 'overall': 0.5714285714285714}\n"
          ]
        },
        {
          "name": "stderr",
          "output_type": "stream",
          "text": [
            "INFO:tensorflow:CAV accuracies: {'random500_5': 0.5, 'random500_3': 0.6666666666666666, 'overall': 0.5714285714285714}\n"
          ]
        },
        {
          "name": "stdout",
          "output_type": "stream",
          "text": [
            "INFO:tensorflow:Running param 179 of 220\n"
          ]
        },
        {
          "name": "stderr",
          "output_type": "stream",
          "text": [
            "INFO:tensorflow:Running param 179 of 220\n"
          ]
        },
        {
          "name": "stdout",
          "output_type": "stream",
          "text": [
            "INFO:tensorflow:running normal. ['random500_5', 'random500_4']\n"
          ]
        },
        {
          "name": "stderr",
          "output_type": "stream",
          "text": [
            "INFO:tensorflow:running normal. ['random500_5', 'random500_4']\n"
          ]
        },
        {
          "name": "stdout",
          "output_type": "stream",
          "text": [
            "INFO:tensorflow:Loaded ./tcav/tcav_examples/discrete/kdd_sanity2\\activations\\acts_random500_5_dense_1 shape (10, 256)\n"
          ]
        },
        {
          "name": "stderr",
          "output_type": "stream",
          "text": [
            "INFO:tensorflow:Loaded ./tcav/tcav_examples/discrete/kdd_sanity2\\activations\\acts_random500_5_dense_1 shape (10, 256)\n"
          ]
        },
        {
          "name": "stdout",
          "output_type": "stream",
          "text": [
            "INFO:tensorflow:Loaded ./tcav/tcav_examples/discrete/kdd_sanity2\\activations\\acts_random500_4_dense_1 shape (10, 256)\n"
          ]
        },
        {
          "name": "stderr",
          "output_type": "stream",
          "text": [
            "INFO:tensorflow:Loaded ./tcav/tcav_examples/discrete/kdd_sanity2\\activations\\acts_random500_4_dense_1 shape (10, 256)\n"
          ]
        },
        {
          "name": "stdout",
          "output_type": "stream",
          "text": [
            "INFO:tensorflow:Loaded ./tcav/tcav_examples/discrete/kdd_sanity2\\activations\\acts_normal._dense_1 shape (200, 256)\n"
          ]
        },
        {
          "name": "stderr",
          "output_type": "stream",
          "text": [
            "INFO:tensorflow:Loaded ./tcav/tcav_examples/discrete/kdd_sanity2\\activations\\acts_normal._dense_1 shape (200, 256)\n"
          ]
        },
        {
          "name": "stdout",
          "output_type": "stream",
          "text": [
            "INFO:tensorflow:CAV already exists: ./tcav/tcav_examples/discrete/kdd_sanity2\\cav\\random500_5-random500_4-dense_1-linear-0.01.pkl\n"
          ]
        },
        {
          "name": "stderr",
          "output_type": "stream",
          "text": [
            "INFO:tensorflow:CAV already exists: ./tcav/tcav_examples/discrete/kdd_sanity2\\cav\\random500_5-random500_4-dense_1-linear-0.01.pkl\n"
          ]
        },
        {
          "name": "stdout",
          "output_type": "stream",
          "text": [
            "INFO:tensorflow:CAV accuracies: {'random500_5': 0.25, 'random500_4': 0.3333333333333333, 'overall': 0.2857142857142857}\n"
          ]
        },
        {
          "name": "stderr",
          "output_type": "stream",
          "text": [
            "INFO:tensorflow:CAV accuracies: {'random500_5': 0.25, 'random500_4': 0.3333333333333333, 'overall': 0.2857142857142857}\n"
          ]
        },
        {
          "name": "stdout",
          "output_type": "stream",
          "text": [
            "INFO:tensorflow:Running param 180 of 220\n"
          ]
        },
        {
          "name": "stderr",
          "output_type": "stream",
          "text": [
            "INFO:tensorflow:Running param 180 of 220\n"
          ]
        },
        {
          "name": "stdout",
          "output_type": "stream",
          "text": [
            "INFO:tensorflow:running normal. ['random500_5', 'random500_6']\n"
          ]
        },
        {
          "name": "stderr",
          "output_type": "stream",
          "text": [
            "INFO:tensorflow:running normal. ['random500_5', 'random500_6']\n"
          ]
        },
        {
          "name": "stdout",
          "output_type": "stream",
          "text": [
            "INFO:tensorflow:Loaded ./tcav/tcav_examples/discrete/kdd_sanity2\\activations\\acts_random500_5_dense_1 shape (10, 256)\n"
          ]
        },
        {
          "name": "stderr",
          "output_type": "stream",
          "text": [
            "INFO:tensorflow:Loaded ./tcav/tcav_examples/discrete/kdd_sanity2\\activations\\acts_random500_5_dense_1 shape (10, 256)\n"
          ]
        },
        {
          "name": "stdout",
          "output_type": "stream",
          "text": [
            "INFO:tensorflow:Loaded ./tcav/tcav_examples/discrete/kdd_sanity2\\activations\\acts_random500_6_dense_1 shape (10, 256)\n"
          ]
        },
        {
          "name": "stderr",
          "output_type": "stream",
          "text": [
            "INFO:tensorflow:Loaded ./tcav/tcav_examples/discrete/kdd_sanity2\\activations\\acts_random500_6_dense_1 shape (10, 256)\n"
          ]
        },
        {
          "name": "stdout",
          "output_type": "stream",
          "text": [
            "INFO:tensorflow:Loaded ./tcav/tcav_examples/discrete/kdd_sanity2\\activations\\acts_normal._dense_1 shape (200, 256)\n"
          ]
        },
        {
          "name": "stderr",
          "output_type": "stream",
          "text": [
            "INFO:tensorflow:Loaded ./tcav/tcav_examples/discrete/kdd_sanity2\\activations\\acts_normal._dense_1 shape (200, 256)\n"
          ]
        },
        {
          "name": "stdout",
          "output_type": "stream",
          "text": [
            "INFO:tensorflow:CAV already exists: ./tcav/tcav_examples/discrete/kdd_sanity2\\cav\\random500_5-random500_6-dense_1-linear-0.01.pkl\n"
          ]
        },
        {
          "name": "stderr",
          "output_type": "stream",
          "text": [
            "INFO:tensorflow:CAV already exists: ./tcav/tcav_examples/discrete/kdd_sanity2\\cav\\random500_5-random500_6-dense_1-linear-0.01.pkl\n"
          ]
        },
        {
          "name": "stdout",
          "output_type": "stream",
          "text": [
            "INFO:tensorflow:CAV accuracies: {'random500_5': 1.0, 'random500_6': 0.0, 'overall': 0.5714285714285714}\n"
          ]
        },
        {
          "name": "stderr",
          "output_type": "stream",
          "text": [
            "INFO:tensorflow:CAV accuracies: {'random500_5': 1.0, 'random500_6': 0.0, 'overall': 0.5714285714285714}\n"
          ]
        },
        {
          "name": "stdout",
          "output_type": "stream",
          "text": [
            "INFO:tensorflow:Running param 181 of 220\n"
          ]
        },
        {
          "name": "stderr",
          "output_type": "stream",
          "text": [
            "INFO:tensorflow:Running param 181 of 220\n"
          ]
        },
        {
          "name": "stdout",
          "output_type": "stream",
          "text": [
            "INFO:tensorflow:running normal. ['random500_5', 'random500_7']\n"
          ]
        },
        {
          "name": "stderr",
          "output_type": "stream",
          "text": [
            "INFO:tensorflow:running normal. ['random500_5', 'random500_7']\n"
          ]
        },
        {
          "name": "stdout",
          "output_type": "stream",
          "text": [
            "INFO:tensorflow:Loaded ./tcav/tcav_examples/discrete/kdd_sanity2\\activations\\acts_random500_5_dense_1 shape (10, 256)\n"
          ]
        },
        {
          "name": "stderr",
          "output_type": "stream",
          "text": [
            "INFO:tensorflow:Loaded ./tcav/tcav_examples/discrete/kdd_sanity2\\activations\\acts_random500_5_dense_1 shape (10, 256)\n"
          ]
        },
        {
          "name": "stdout",
          "output_type": "stream",
          "text": [
            "INFO:tensorflow:Loaded ./tcav/tcav_examples/discrete/kdd_sanity2\\activations\\acts_random500_7_dense_1 shape (10, 256)\n"
          ]
        },
        {
          "name": "stderr",
          "output_type": "stream",
          "text": [
            "INFO:tensorflow:Loaded ./tcav/tcav_examples/discrete/kdd_sanity2\\activations\\acts_random500_7_dense_1 shape (10, 256)\n"
          ]
        },
        {
          "name": "stdout",
          "output_type": "stream",
          "text": [
            "INFO:tensorflow:Loaded ./tcav/tcav_examples/discrete/kdd_sanity2\\activations\\acts_normal._dense_1 shape (200, 256)\n"
          ]
        },
        {
          "name": "stderr",
          "output_type": "stream",
          "text": [
            "INFO:tensorflow:Loaded ./tcav/tcav_examples/discrete/kdd_sanity2\\activations\\acts_normal._dense_1 shape (200, 256)\n"
          ]
        },
        {
          "name": "stdout",
          "output_type": "stream",
          "text": [
            "INFO:tensorflow:CAV already exists: ./tcav/tcav_examples/discrete/kdd_sanity2\\cav\\random500_5-random500_7-dense_1-linear-0.01.pkl\n"
          ]
        },
        {
          "name": "stderr",
          "output_type": "stream",
          "text": [
            "INFO:tensorflow:CAV already exists: ./tcav/tcav_examples/discrete/kdd_sanity2\\cav\\random500_5-random500_7-dense_1-linear-0.01.pkl\n"
          ]
        },
        {
          "name": "stdout",
          "output_type": "stream",
          "text": [
            "INFO:tensorflow:CAV accuracies: {'random500_5': 0.5, 'random500_7': 0.3333333333333333, 'overall': 0.42857142857142855}\n"
          ]
        },
        {
          "name": "stderr",
          "output_type": "stream",
          "text": [
            "INFO:tensorflow:CAV accuracies: {'random500_5': 0.5, 'random500_7': 0.3333333333333333, 'overall': 0.42857142857142855}\n"
          ]
        },
        {
          "name": "stdout",
          "output_type": "stream",
          "text": [
            "INFO:tensorflow:Running param 182 of 220\n"
          ]
        },
        {
          "name": "stderr",
          "output_type": "stream",
          "text": [
            "INFO:tensorflow:Running param 182 of 220\n"
          ]
        },
        {
          "name": "stdout",
          "output_type": "stream",
          "text": [
            "INFO:tensorflow:running normal. ['random500_5', 'random500_8']\n"
          ]
        },
        {
          "name": "stderr",
          "output_type": "stream",
          "text": [
            "INFO:tensorflow:running normal. ['random500_5', 'random500_8']\n"
          ]
        },
        {
          "name": "stdout",
          "output_type": "stream",
          "text": [
            "INFO:tensorflow:Loaded ./tcav/tcav_examples/discrete/kdd_sanity2\\activations\\acts_random500_5_dense_1 shape (10, 256)\n"
          ]
        },
        {
          "name": "stderr",
          "output_type": "stream",
          "text": [
            "INFO:tensorflow:Loaded ./tcav/tcav_examples/discrete/kdd_sanity2\\activations\\acts_random500_5_dense_1 shape (10, 256)\n"
          ]
        },
        {
          "name": "stdout",
          "output_type": "stream",
          "text": [
            "INFO:tensorflow:Loaded ./tcav/tcav_examples/discrete/kdd_sanity2\\activations\\acts_random500_8_dense_1 shape (10, 256)\n"
          ]
        },
        {
          "name": "stderr",
          "output_type": "stream",
          "text": [
            "INFO:tensorflow:Loaded ./tcav/tcav_examples/discrete/kdd_sanity2\\activations\\acts_random500_8_dense_1 shape (10, 256)\n"
          ]
        },
        {
          "name": "stdout",
          "output_type": "stream",
          "text": [
            "INFO:tensorflow:Loaded ./tcav/tcav_examples/discrete/kdd_sanity2\\activations\\acts_normal._dense_1 shape (200, 256)\n"
          ]
        },
        {
          "name": "stderr",
          "output_type": "stream",
          "text": [
            "INFO:tensorflow:Loaded ./tcav/tcav_examples/discrete/kdd_sanity2\\activations\\acts_normal._dense_1 shape (200, 256)\n"
          ]
        },
        {
          "name": "stdout",
          "output_type": "stream",
          "text": [
            "INFO:tensorflow:CAV already exists: ./tcav/tcav_examples/discrete/kdd_sanity2\\cav\\random500_5-random500_8-dense_1-linear-0.01.pkl\n"
          ]
        },
        {
          "name": "stderr",
          "output_type": "stream",
          "text": [
            "INFO:tensorflow:CAV already exists: ./tcav/tcav_examples/discrete/kdd_sanity2\\cav\\random500_5-random500_8-dense_1-linear-0.01.pkl\n"
          ]
        },
        {
          "name": "stdout",
          "output_type": "stream",
          "text": [
            "INFO:tensorflow:CAV accuracies: {'random500_5': 0.25, 'random500_8': 0.3333333333333333, 'overall': 0.2857142857142857}\n"
          ]
        },
        {
          "name": "stderr",
          "output_type": "stream",
          "text": [
            "INFO:tensorflow:CAV accuracies: {'random500_5': 0.25, 'random500_8': 0.3333333333333333, 'overall': 0.2857142857142857}\n"
          ]
        },
        {
          "name": "stdout",
          "output_type": "stream",
          "text": [
            "INFO:tensorflow:Running param 183 of 220\n"
          ]
        },
        {
          "name": "stderr",
          "output_type": "stream",
          "text": [
            "INFO:tensorflow:Running param 183 of 220\n"
          ]
        },
        {
          "name": "stdout",
          "output_type": "stream",
          "text": [
            "INFO:tensorflow:running normal. ['random500_5', 'random500_9']\n"
          ]
        },
        {
          "name": "stderr",
          "output_type": "stream",
          "text": [
            "INFO:tensorflow:running normal. ['random500_5', 'random500_9']\n"
          ]
        },
        {
          "name": "stdout",
          "output_type": "stream",
          "text": [
            "INFO:tensorflow:Loaded ./tcav/tcav_examples/discrete/kdd_sanity2\\activations\\acts_random500_5_dense_1 shape (10, 256)\n"
          ]
        },
        {
          "name": "stderr",
          "output_type": "stream",
          "text": [
            "INFO:tensorflow:Loaded ./tcav/tcav_examples/discrete/kdd_sanity2\\activations\\acts_random500_5_dense_1 shape (10, 256)\n"
          ]
        },
        {
          "name": "stdout",
          "output_type": "stream",
          "text": [
            "INFO:tensorflow:Loaded ./tcav/tcav_examples/discrete/kdd_sanity2\\activations\\acts_random500_9_dense_1 shape (10, 256)\n"
          ]
        },
        {
          "name": "stderr",
          "output_type": "stream",
          "text": [
            "INFO:tensorflow:Loaded ./tcav/tcav_examples/discrete/kdd_sanity2\\activations\\acts_random500_9_dense_1 shape (10, 256)\n"
          ]
        },
        {
          "name": "stdout",
          "output_type": "stream",
          "text": [
            "INFO:tensorflow:Loaded ./tcav/tcav_examples/discrete/kdd_sanity2\\activations\\acts_normal._dense_1 shape (200, 256)\n"
          ]
        },
        {
          "name": "stderr",
          "output_type": "stream",
          "text": [
            "INFO:tensorflow:Loaded ./tcav/tcav_examples/discrete/kdd_sanity2\\activations\\acts_normal._dense_1 shape (200, 256)\n"
          ]
        },
        {
          "name": "stdout",
          "output_type": "stream",
          "text": [
            "INFO:tensorflow:CAV already exists: ./tcav/tcav_examples/discrete/kdd_sanity2\\cav\\random500_5-random500_9-dense_1-linear-0.01.pkl\n"
          ]
        },
        {
          "name": "stderr",
          "output_type": "stream",
          "text": [
            "INFO:tensorflow:CAV already exists: ./tcav/tcav_examples/discrete/kdd_sanity2\\cav\\random500_5-random500_9-dense_1-linear-0.01.pkl\n"
          ]
        },
        {
          "name": "stdout",
          "output_type": "stream",
          "text": [
            "INFO:tensorflow:CAV accuracies: {'random500_5': 0.5, 'random500_9': 0.0, 'overall': 0.2857142857142857}\n"
          ]
        },
        {
          "name": "stderr",
          "output_type": "stream",
          "text": [
            "INFO:tensorflow:CAV accuracies: {'random500_5': 0.5, 'random500_9': 0.0, 'overall': 0.2857142857142857}\n"
          ]
        },
        {
          "name": "stdout",
          "output_type": "stream",
          "text": [
            "INFO:tensorflow:Running param 184 of 220\n"
          ]
        },
        {
          "name": "stderr",
          "output_type": "stream",
          "text": [
            "INFO:tensorflow:Running param 184 of 220\n"
          ]
        },
        {
          "name": "stdout",
          "output_type": "stream",
          "text": [
            "INFO:tensorflow:running normal. ['random500_6', 'random500_0']\n"
          ]
        },
        {
          "name": "stderr",
          "output_type": "stream",
          "text": [
            "INFO:tensorflow:running normal. ['random500_6', 'random500_0']\n"
          ]
        },
        {
          "name": "stdout",
          "output_type": "stream",
          "text": [
            "INFO:tensorflow:Loaded ./tcav/tcav_examples/discrete/kdd_sanity2\\activations\\acts_random500_6_dense_1 shape (10, 256)\n"
          ]
        },
        {
          "name": "stderr",
          "output_type": "stream",
          "text": [
            "INFO:tensorflow:Loaded ./tcav/tcav_examples/discrete/kdd_sanity2\\activations\\acts_random500_6_dense_1 shape (10, 256)\n"
          ]
        },
        {
          "name": "stdout",
          "output_type": "stream",
          "text": [
            "INFO:tensorflow:Loaded ./tcav/tcav_examples/discrete/kdd_sanity2\\activations\\acts_random500_0_dense_1 shape (10, 256)\n"
          ]
        },
        {
          "name": "stderr",
          "output_type": "stream",
          "text": [
            "INFO:tensorflow:Loaded ./tcav/tcav_examples/discrete/kdd_sanity2\\activations\\acts_random500_0_dense_1 shape (10, 256)\n"
          ]
        },
        {
          "name": "stdout",
          "output_type": "stream",
          "text": [
            "INFO:tensorflow:Loaded ./tcav/tcav_examples/discrete/kdd_sanity2\\activations\\acts_normal._dense_1 shape (200, 256)\n"
          ]
        },
        {
          "name": "stderr",
          "output_type": "stream",
          "text": [
            "INFO:tensorflow:Loaded ./tcav/tcav_examples/discrete/kdd_sanity2\\activations\\acts_normal._dense_1 shape (200, 256)\n"
          ]
        },
        {
          "name": "stdout",
          "output_type": "stream",
          "text": [
            "INFO:tensorflow:CAV already exists: ./tcav/tcav_examples/discrete/kdd_sanity2\\cav\\random500_6-random500_0-dense_1-linear-0.01.pkl\n"
          ]
        },
        {
          "name": "stderr",
          "output_type": "stream",
          "text": [
            "INFO:tensorflow:CAV already exists: ./tcav/tcav_examples/discrete/kdd_sanity2\\cav\\random500_6-random500_0-dense_1-linear-0.01.pkl\n"
          ]
        },
        {
          "name": "stdout",
          "output_type": "stream",
          "text": [
            "INFO:tensorflow:CAV accuracies: {'random500_6': 0.5, 'random500_0': 1.0, 'overall': 0.7142857142857143}\n"
          ]
        },
        {
          "name": "stderr",
          "output_type": "stream",
          "text": [
            "INFO:tensorflow:CAV accuracies: {'random500_6': 0.5, 'random500_0': 1.0, 'overall': 0.7142857142857143}\n"
          ]
        },
        {
          "name": "stdout",
          "output_type": "stream",
          "text": [
            "INFO:tensorflow:Running param 185 of 220\n"
          ]
        },
        {
          "name": "stderr",
          "output_type": "stream",
          "text": [
            "INFO:tensorflow:Running param 185 of 220\n"
          ]
        },
        {
          "name": "stdout",
          "output_type": "stream",
          "text": [
            "INFO:tensorflow:running normal. ['random500_6', 'random500_1']\n"
          ]
        },
        {
          "name": "stderr",
          "output_type": "stream",
          "text": [
            "INFO:tensorflow:running normal. ['random500_6', 'random500_1']\n"
          ]
        },
        {
          "name": "stdout",
          "output_type": "stream",
          "text": [
            "INFO:tensorflow:Loaded ./tcav/tcav_examples/discrete/kdd_sanity2\\activations\\acts_random500_6_dense_1 shape (10, 256)\n"
          ]
        },
        {
          "name": "stderr",
          "output_type": "stream",
          "text": [
            "INFO:tensorflow:Loaded ./tcav/tcav_examples/discrete/kdd_sanity2\\activations\\acts_random500_6_dense_1 shape (10, 256)\n"
          ]
        },
        {
          "name": "stdout",
          "output_type": "stream",
          "text": [
            "INFO:tensorflow:Loaded ./tcav/tcav_examples/discrete/kdd_sanity2\\activations\\acts_random500_1_dense_1 shape (10, 256)\n"
          ]
        },
        {
          "name": "stderr",
          "output_type": "stream",
          "text": [
            "INFO:tensorflow:Loaded ./tcav/tcav_examples/discrete/kdd_sanity2\\activations\\acts_random500_1_dense_1 shape (10, 256)\n"
          ]
        },
        {
          "name": "stdout",
          "output_type": "stream",
          "text": [
            "INFO:tensorflow:Loaded ./tcav/tcav_examples/discrete/kdd_sanity2\\activations\\acts_normal._dense_1 shape (200, 256)\n"
          ]
        },
        {
          "name": "stderr",
          "output_type": "stream",
          "text": [
            "INFO:tensorflow:Loaded ./tcav/tcav_examples/discrete/kdd_sanity2\\activations\\acts_normal._dense_1 shape (200, 256)\n"
          ]
        },
        {
          "name": "stdout",
          "output_type": "stream",
          "text": [
            "INFO:tensorflow:CAV already exists: ./tcav/tcav_examples/discrete/kdd_sanity2\\cav\\random500_6-random500_1-dense_1-linear-0.01.pkl\n"
          ]
        },
        {
          "name": "stderr",
          "output_type": "stream",
          "text": [
            "INFO:tensorflow:CAV already exists: ./tcav/tcav_examples/discrete/kdd_sanity2\\cav\\random500_6-random500_1-dense_1-linear-0.01.pkl\n"
          ]
        },
        {
          "name": "stdout",
          "output_type": "stream",
          "text": [
            "INFO:tensorflow:CAV accuracies: {'random500_6': 0.3333333333333333, 'random500_1': 1.0, 'overall': 0.7142857142857143}\n"
          ]
        },
        {
          "name": "stderr",
          "output_type": "stream",
          "text": [
            "INFO:tensorflow:CAV accuracies: {'random500_6': 0.3333333333333333, 'random500_1': 1.0, 'overall': 0.7142857142857143}\n"
          ]
        },
        {
          "name": "stdout",
          "output_type": "stream",
          "text": [
            "INFO:tensorflow:Running param 186 of 220\n"
          ]
        },
        {
          "name": "stderr",
          "output_type": "stream",
          "text": [
            "INFO:tensorflow:Running param 186 of 220\n"
          ]
        },
        {
          "name": "stdout",
          "output_type": "stream",
          "text": [
            "INFO:tensorflow:running normal. ['random500_6', 'random500_2']\n"
          ]
        },
        {
          "name": "stderr",
          "output_type": "stream",
          "text": [
            "INFO:tensorflow:running normal. ['random500_6', 'random500_2']\n"
          ]
        },
        {
          "name": "stdout",
          "output_type": "stream",
          "text": [
            "INFO:tensorflow:Loaded ./tcav/tcav_examples/discrete/kdd_sanity2\\activations\\acts_random500_6_dense_1 shape (10, 256)\n"
          ]
        },
        {
          "name": "stderr",
          "output_type": "stream",
          "text": [
            "INFO:tensorflow:Loaded ./tcav/tcav_examples/discrete/kdd_sanity2\\activations\\acts_random500_6_dense_1 shape (10, 256)\n"
          ]
        },
        {
          "name": "stdout",
          "output_type": "stream",
          "text": [
            "INFO:tensorflow:Loaded ./tcav/tcav_examples/discrete/kdd_sanity2\\activations\\acts_random500_2_dense_1 shape (10, 256)\n"
          ]
        },
        {
          "name": "stderr",
          "output_type": "stream",
          "text": [
            "INFO:tensorflow:Loaded ./tcav/tcav_examples/discrete/kdd_sanity2\\activations\\acts_random500_2_dense_1 shape (10, 256)\n"
          ]
        },
        {
          "name": "stdout",
          "output_type": "stream",
          "text": [
            "INFO:tensorflow:Loaded ./tcav/tcav_examples/discrete/kdd_sanity2\\activations\\acts_normal._dense_1 shape (200, 256)\n"
          ]
        },
        {
          "name": "stderr",
          "output_type": "stream",
          "text": [
            "INFO:tensorflow:Loaded ./tcav/tcav_examples/discrete/kdd_sanity2\\activations\\acts_normal._dense_1 shape (200, 256)\n"
          ]
        },
        {
          "name": "stdout",
          "output_type": "stream",
          "text": [
            "INFO:tensorflow:CAV already exists: ./tcav/tcav_examples/discrete/kdd_sanity2\\cav\\random500_6-random500_2-dense_1-linear-0.01.pkl\n"
          ]
        },
        {
          "name": "stderr",
          "output_type": "stream",
          "text": [
            "INFO:tensorflow:CAV already exists: ./tcav/tcav_examples/discrete/kdd_sanity2\\cav\\random500_6-random500_2-dense_1-linear-0.01.pkl\n"
          ]
        },
        {
          "name": "stdout",
          "output_type": "stream",
          "text": [
            "INFO:tensorflow:CAV accuracies: {'random500_6': 0.0, 'random500_2': 0.6666666666666666, 'overall': 0.2857142857142857}\n"
          ]
        },
        {
          "name": "stderr",
          "output_type": "stream",
          "text": [
            "INFO:tensorflow:CAV accuracies: {'random500_6': 0.0, 'random500_2': 0.6666666666666666, 'overall': 0.2857142857142857}\n"
          ]
        },
        {
          "name": "stdout",
          "output_type": "stream",
          "text": [
            "INFO:tensorflow:Running param 187 of 220\n"
          ]
        },
        {
          "name": "stderr",
          "output_type": "stream",
          "text": [
            "INFO:tensorflow:Running param 187 of 220\n"
          ]
        },
        {
          "name": "stdout",
          "output_type": "stream",
          "text": [
            "INFO:tensorflow:running normal. ['random500_6', 'random500_3']\n"
          ]
        },
        {
          "name": "stderr",
          "output_type": "stream",
          "text": [
            "INFO:tensorflow:running normal. ['random500_6', 'random500_3']\n"
          ]
        },
        {
          "name": "stdout",
          "output_type": "stream",
          "text": [
            "INFO:tensorflow:Loaded ./tcav/tcav_examples/discrete/kdd_sanity2\\activations\\acts_random500_6_dense_1 shape (10, 256)\n"
          ]
        },
        {
          "name": "stderr",
          "output_type": "stream",
          "text": [
            "INFO:tensorflow:Loaded ./tcav/tcav_examples/discrete/kdd_sanity2\\activations\\acts_random500_6_dense_1 shape (10, 256)\n"
          ]
        },
        {
          "name": "stdout",
          "output_type": "stream",
          "text": [
            "INFO:tensorflow:Loaded ./tcav/tcav_examples/discrete/kdd_sanity2\\activations\\acts_random500_3_dense_1 shape (10, 256)\n"
          ]
        },
        {
          "name": "stderr",
          "output_type": "stream",
          "text": [
            "INFO:tensorflow:Loaded ./tcav/tcav_examples/discrete/kdd_sanity2\\activations\\acts_random500_3_dense_1 shape (10, 256)\n"
          ]
        },
        {
          "name": "stdout",
          "output_type": "stream",
          "text": [
            "INFO:tensorflow:Loaded ./tcav/tcav_examples/discrete/kdd_sanity2\\activations\\acts_normal._dense_1 shape (200, 256)\n"
          ]
        },
        {
          "name": "stderr",
          "output_type": "stream",
          "text": [
            "INFO:tensorflow:Loaded ./tcav/tcav_examples/discrete/kdd_sanity2\\activations\\acts_normal._dense_1 shape (200, 256)\n"
          ]
        },
        {
          "name": "stdout",
          "output_type": "stream",
          "text": [
            "INFO:tensorflow:CAV already exists: ./tcav/tcav_examples/discrete/kdd_sanity2\\cav\\random500_6-random500_3-dense_1-linear-0.01.pkl\n"
          ]
        },
        {
          "name": "stderr",
          "output_type": "stream",
          "text": [
            "INFO:tensorflow:CAV already exists: ./tcav/tcav_examples/discrete/kdd_sanity2\\cav\\random500_6-random500_3-dense_1-linear-0.01.pkl\n"
          ]
        },
        {
          "name": "stdout",
          "output_type": "stream",
          "text": [
            "INFO:tensorflow:CAV accuracies: {'random500_6': 0.75, 'random500_3': 1.0, 'overall': 0.8571428571428571}\n"
          ]
        },
        {
          "name": "stderr",
          "output_type": "stream",
          "text": [
            "INFO:tensorflow:CAV accuracies: {'random500_6': 0.75, 'random500_3': 1.0, 'overall': 0.8571428571428571}\n"
          ]
        },
        {
          "name": "stdout",
          "output_type": "stream",
          "text": [
            "INFO:tensorflow:Running param 188 of 220\n"
          ]
        },
        {
          "name": "stderr",
          "output_type": "stream",
          "text": [
            "INFO:tensorflow:Running param 188 of 220\n"
          ]
        },
        {
          "name": "stdout",
          "output_type": "stream",
          "text": [
            "INFO:tensorflow:running normal. ['random500_6', 'random500_4']\n"
          ]
        },
        {
          "name": "stderr",
          "output_type": "stream",
          "text": [
            "INFO:tensorflow:running normal. ['random500_6', 'random500_4']\n"
          ]
        },
        {
          "name": "stdout",
          "output_type": "stream",
          "text": [
            "INFO:tensorflow:Loaded ./tcav/tcav_examples/discrete/kdd_sanity2\\activations\\acts_random500_6_dense_1 shape (10, 256)\n"
          ]
        },
        {
          "name": "stderr",
          "output_type": "stream",
          "text": [
            "INFO:tensorflow:Loaded ./tcav/tcav_examples/discrete/kdd_sanity2\\activations\\acts_random500_6_dense_1 shape (10, 256)\n"
          ]
        },
        {
          "name": "stdout",
          "output_type": "stream",
          "text": [
            "INFO:tensorflow:Loaded ./tcav/tcav_examples/discrete/kdd_sanity2\\activations\\acts_random500_4_dense_1 shape (10, 256)\n"
          ]
        },
        {
          "name": "stderr",
          "output_type": "stream",
          "text": [
            "INFO:tensorflow:Loaded ./tcav/tcav_examples/discrete/kdd_sanity2\\activations\\acts_random500_4_dense_1 shape (10, 256)\n"
          ]
        },
        {
          "name": "stdout",
          "output_type": "stream",
          "text": [
            "INFO:tensorflow:Loaded ./tcav/tcav_examples/discrete/kdd_sanity2\\activations\\acts_normal._dense_1 shape (200, 256)\n"
          ]
        },
        {
          "name": "stderr",
          "output_type": "stream",
          "text": [
            "INFO:tensorflow:Loaded ./tcav/tcav_examples/discrete/kdd_sanity2\\activations\\acts_normal._dense_1 shape (200, 256)\n"
          ]
        },
        {
          "name": "stdout",
          "output_type": "stream",
          "text": [
            "INFO:tensorflow:CAV already exists: ./tcav/tcav_examples/discrete/kdd_sanity2\\cav\\random500_6-random500_4-dense_1-linear-0.01.pkl\n"
          ]
        },
        {
          "name": "stderr",
          "output_type": "stream",
          "text": [
            "INFO:tensorflow:CAV already exists: ./tcav/tcav_examples/discrete/kdd_sanity2\\cav\\random500_6-random500_4-dense_1-linear-0.01.pkl\n"
          ]
        },
        {
          "name": "stdout",
          "output_type": "stream",
          "text": [
            "INFO:tensorflow:CAV accuracies: {'random500_6': 0.25, 'random500_4': 0.3333333333333333, 'overall': 0.2857142857142857}\n"
          ]
        },
        {
          "name": "stderr",
          "output_type": "stream",
          "text": [
            "INFO:tensorflow:CAV accuracies: {'random500_6': 0.25, 'random500_4': 0.3333333333333333, 'overall': 0.2857142857142857}\n"
          ]
        },
        {
          "name": "stdout",
          "output_type": "stream",
          "text": [
            "INFO:tensorflow:Running param 189 of 220\n"
          ]
        },
        {
          "name": "stderr",
          "output_type": "stream",
          "text": [
            "INFO:tensorflow:Running param 189 of 220\n"
          ]
        },
        {
          "name": "stdout",
          "output_type": "stream",
          "text": [
            "INFO:tensorflow:running normal. ['random500_6', 'random500_5']\n"
          ]
        },
        {
          "name": "stderr",
          "output_type": "stream",
          "text": [
            "INFO:tensorflow:running normal. ['random500_6', 'random500_5']\n"
          ]
        },
        {
          "name": "stdout",
          "output_type": "stream",
          "text": [
            "INFO:tensorflow:Loaded ./tcav/tcav_examples/discrete/kdd_sanity2\\activations\\acts_random500_6_dense_1 shape (10, 256)\n"
          ]
        },
        {
          "name": "stderr",
          "output_type": "stream",
          "text": [
            "INFO:tensorflow:Loaded ./tcav/tcav_examples/discrete/kdd_sanity2\\activations\\acts_random500_6_dense_1 shape (10, 256)\n"
          ]
        },
        {
          "name": "stdout",
          "output_type": "stream",
          "text": [
            "INFO:tensorflow:Loaded ./tcav/tcav_examples/discrete/kdd_sanity2\\activations\\acts_random500_5_dense_1 shape (10, 256)\n"
          ]
        },
        {
          "name": "stderr",
          "output_type": "stream",
          "text": [
            "INFO:tensorflow:Loaded ./tcav/tcav_examples/discrete/kdd_sanity2\\activations\\acts_random500_5_dense_1 shape (10, 256)\n"
          ]
        },
        {
          "name": "stdout",
          "output_type": "stream",
          "text": [
            "INFO:tensorflow:Loaded ./tcav/tcav_examples/discrete/kdd_sanity2\\activations\\acts_normal._dense_1 shape (200, 256)\n"
          ]
        },
        {
          "name": "stderr",
          "output_type": "stream",
          "text": [
            "INFO:tensorflow:Loaded ./tcav/tcav_examples/discrete/kdd_sanity2\\activations\\acts_normal._dense_1 shape (200, 256)\n"
          ]
        },
        {
          "name": "stdout",
          "output_type": "stream",
          "text": [
            "INFO:tensorflow:CAV already exists: ./tcav/tcav_examples/discrete/kdd_sanity2\\cav\\random500_6-random500_5-dense_1-linear-0.01.pkl\n"
          ]
        },
        {
          "name": "stderr",
          "output_type": "stream",
          "text": [
            "INFO:tensorflow:CAV already exists: ./tcav/tcav_examples/discrete/kdd_sanity2\\cav\\random500_6-random500_5-dense_1-linear-0.01.pkl\n"
          ]
        },
        {
          "name": "stdout",
          "output_type": "stream",
          "text": [
            "INFO:tensorflow:CAV accuracies: {'random500_6': 0.25, 'random500_5': 0.6666666666666666, 'overall': 0.42857142857142855}\n"
          ]
        },
        {
          "name": "stderr",
          "output_type": "stream",
          "text": [
            "INFO:tensorflow:CAV accuracies: {'random500_6': 0.25, 'random500_5': 0.6666666666666666, 'overall': 0.42857142857142855}\n"
          ]
        },
        {
          "name": "stdout",
          "output_type": "stream",
          "text": [
            "INFO:tensorflow:Running param 190 of 220\n"
          ]
        },
        {
          "name": "stderr",
          "output_type": "stream",
          "text": [
            "INFO:tensorflow:Running param 190 of 220\n"
          ]
        },
        {
          "name": "stdout",
          "output_type": "stream",
          "text": [
            "INFO:tensorflow:running normal. ['random500_6', 'random500_7']\n"
          ]
        },
        {
          "name": "stderr",
          "output_type": "stream",
          "text": [
            "INFO:tensorflow:running normal. ['random500_6', 'random500_7']\n"
          ]
        },
        {
          "name": "stdout",
          "output_type": "stream",
          "text": [
            "INFO:tensorflow:Loaded ./tcav/tcav_examples/discrete/kdd_sanity2\\activations\\acts_random500_6_dense_1 shape (10, 256)\n"
          ]
        },
        {
          "name": "stderr",
          "output_type": "stream",
          "text": [
            "INFO:tensorflow:Loaded ./tcav/tcav_examples/discrete/kdd_sanity2\\activations\\acts_random500_6_dense_1 shape (10, 256)\n"
          ]
        },
        {
          "name": "stdout",
          "output_type": "stream",
          "text": [
            "INFO:tensorflow:Loaded ./tcav/tcav_examples/discrete/kdd_sanity2\\activations\\acts_random500_7_dense_1 shape (10, 256)\n"
          ]
        },
        {
          "name": "stderr",
          "output_type": "stream",
          "text": [
            "INFO:tensorflow:Loaded ./tcav/tcav_examples/discrete/kdd_sanity2\\activations\\acts_random500_7_dense_1 shape (10, 256)\n"
          ]
        },
        {
          "name": "stdout",
          "output_type": "stream",
          "text": [
            "INFO:tensorflow:Loaded ./tcav/tcav_examples/discrete/kdd_sanity2\\activations\\acts_normal._dense_1 shape (200, 256)\n"
          ]
        },
        {
          "name": "stderr",
          "output_type": "stream",
          "text": [
            "INFO:tensorflow:Loaded ./tcav/tcav_examples/discrete/kdd_sanity2\\activations\\acts_normal._dense_1 shape (200, 256)\n"
          ]
        },
        {
          "name": "stdout",
          "output_type": "stream",
          "text": [
            "INFO:tensorflow:CAV already exists: ./tcav/tcav_examples/discrete/kdd_sanity2\\cav\\random500_6-random500_7-dense_1-linear-0.01.pkl\n"
          ]
        },
        {
          "name": "stderr",
          "output_type": "stream",
          "text": [
            "INFO:tensorflow:CAV already exists: ./tcav/tcav_examples/discrete/kdd_sanity2\\cav\\random500_6-random500_7-dense_1-linear-0.01.pkl\n"
          ]
        },
        {
          "name": "stdout",
          "output_type": "stream",
          "text": [
            "INFO:tensorflow:CAV accuracies: {'random500_6': 0.5, 'random500_7': 0.3333333333333333, 'overall': 0.42857142857142855}\n"
          ]
        },
        {
          "name": "stderr",
          "output_type": "stream",
          "text": [
            "INFO:tensorflow:CAV accuracies: {'random500_6': 0.5, 'random500_7': 0.3333333333333333, 'overall': 0.42857142857142855}\n"
          ]
        },
        {
          "name": "stdout",
          "output_type": "stream",
          "text": [
            "INFO:tensorflow:Running param 191 of 220\n"
          ]
        },
        {
          "name": "stderr",
          "output_type": "stream",
          "text": [
            "INFO:tensorflow:Running param 191 of 220\n"
          ]
        },
        {
          "name": "stdout",
          "output_type": "stream",
          "text": [
            "INFO:tensorflow:running normal. ['random500_6', 'random500_8']\n"
          ]
        },
        {
          "name": "stderr",
          "output_type": "stream",
          "text": [
            "INFO:tensorflow:running normal. ['random500_6', 'random500_8']\n"
          ]
        },
        {
          "name": "stdout",
          "output_type": "stream",
          "text": [
            "INFO:tensorflow:Loaded ./tcav/tcav_examples/discrete/kdd_sanity2\\activations\\acts_random500_6_dense_1 shape (10, 256)\n"
          ]
        },
        {
          "name": "stderr",
          "output_type": "stream",
          "text": [
            "INFO:tensorflow:Loaded ./tcav/tcav_examples/discrete/kdd_sanity2\\activations\\acts_random500_6_dense_1 shape (10, 256)\n"
          ]
        },
        {
          "name": "stdout",
          "output_type": "stream",
          "text": [
            "INFO:tensorflow:Loaded ./tcav/tcav_examples/discrete/kdd_sanity2\\activations\\acts_random500_8_dense_1 shape (10, 256)\n"
          ]
        },
        {
          "name": "stderr",
          "output_type": "stream",
          "text": [
            "INFO:tensorflow:Loaded ./tcav/tcav_examples/discrete/kdd_sanity2\\activations\\acts_random500_8_dense_1 shape (10, 256)\n"
          ]
        },
        {
          "name": "stdout",
          "output_type": "stream",
          "text": [
            "INFO:tensorflow:Loaded ./tcav/tcav_examples/discrete/kdd_sanity2\\activations\\acts_normal._dense_1 shape (200, 256)\n"
          ]
        },
        {
          "name": "stderr",
          "output_type": "stream",
          "text": [
            "INFO:tensorflow:Loaded ./tcav/tcav_examples/discrete/kdd_sanity2\\activations\\acts_normal._dense_1 shape (200, 256)\n"
          ]
        },
        {
          "name": "stdout",
          "output_type": "stream",
          "text": [
            "INFO:tensorflow:CAV already exists: ./tcav/tcav_examples/discrete/kdd_sanity2\\cav\\random500_6-random500_8-dense_1-linear-0.01.pkl\n"
          ]
        },
        {
          "name": "stderr",
          "output_type": "stream",
          "text": [
            "INFO:tensorflow:CAV already exists: ./tcav/tcav_examples/discrete/kdd_sanity2\\cav\\random500_6-random500_8-dense_1-linear-0.01.pkl\n"
          ]
        },
        {
          "name": "stdout",
          "output_type": "stream",
          "text": [
            "INFO:tensorflow:CAV accuracies: {'random500_6': 0.5, 'random500_8': 1.0, 'overall': 0.7142857142857143}\n"
          ]
        },
        {
          "name": "stderr",
          "output_type": "stream",
          "text": [
            "INFO:tensorflow:CAV accuracies: {'random500_6': 0.5, 'random500_8': 1.0, 'overall': 0.7142857142857143}\n"
          ]
        },
        {
          "name": "stdout",
          "output_type": "stream",
          "text": [
            "INFO:tensorflow:Running param 192 of 220\n"
          ]
        },
        {
          "name": "stderr",
          "output_type": "stream",
          "text": [
            "INFO:tensorflow:Running param 192 of 220\n"
          ]
        },
        {
          "name": "stdout",
          "output_type": "stream",
          "text": [
            "INFO:tensorflow:running normal. ['random500_6', 'random500_9']\n"
          ]
        },
        {
          "name": "stderr",
          "output_type": "stream",
          "text": [
            "INFO:tensorflow:running normal. ['random500_6', 'random500_9']\n"
          ]
        },
        {
          "name": "stdout",
          "output_type": "stream",
          "text": [
            "INFO:tensorflow:Loaded ./tcav/tcav_examples/discrete/kdd_sanity2\\activations\\acts_random500_6_dense_1 shape (10, 256)\n"
          ]
        },
        {
          "name": "stderr",
          "output_type": "stream",
          "text": [
            "INFO:tensorflow:Loaded ./tcav/tcav_examples/discrete/kdd_sanity2\\activations\\acts_random500_6_dense_1 shape (10, 256)\n"
          ]
        },
        {
          "name": "stdout",
          "output_type": "stream",
          "text": [
            "INFO:tensorflow:Loaded ./tcav/tcav_examples/discrete/kdd_sanity2\\activations\\acts_random500_9_dense_1 shape (10, 256)\n"
          ]
        },
        {
          "name": "stderr",
          "output_type": "stream",
          "text": [
            "INFO:tensorflow:Loaded ./tcav/tcav_examples/discrete/kdd_sanity2\\activations\\acts_random500_9_dense_1 shape (10, 256)\n"
          ]
        },
        {
          "name": "stdout",
          "output_type": "stream",
          "text": [
            "INFO:tensorflow:Loaded ./tcav/tcav_examples/discrete/kdd_sanity2\\activations\\acts_normal._dense_1 shape (200, 256)\n"
          ]
        },
        {
          "name": "stderr",
          "output_type": "stream",
          "text": [
            "INFO:tensorflow:Loaded ./tcav/tcav_examples/discrete/kdd_sanity2\\activations\\acts_normal._dense_1 shape (200, 256)\n"
          ]
        },
        {
          "name": "stdout",
          "output_type": "stream",
          "text": [
            "INFO:tensorflow:CAV already exists: ./tcav/tcav_examples/discrete/kdd_sanity2\\cav\\random500_6-random500_9-dense_1-linear-0.01.pkl\n"
          ]
        },
        {
          "name": "stderr",
          "output_type": "stream",
          "text": [
            "INFO:tensorflow:CAV already exists: ./tcav/tcav_examples/discrete/kdd_sanity2\\cav\\random500_6-random500_9-dense_1-linear-0.01.pkl\n"
          ]
        },
        {
          "name": "stdout",
          "output_type": "stream",
          "text": [
            "INFO:tensorflow:CAV accuracies: {'random500_6': 0.5, 'random500_9': 1.0, 'overall': 0.7142857142857143}\n"
          ]
        },
        {
          "name": "stderr",
          "output_type": "stream",
          "text": [
            "INFO:tensorflow:CAV accuracies: {'random500_6': 0.5, 'random500_9': 1.0, 'overall': 0.7142857142857143}\n"
          ]
        },
        {
          "name": "stdout",
          "output_type": "stream",
          "text": [
            "INFO:tensorflow:Running param 193 of 220\n"
          ]
        },
        {
          "name": "stderr",
          "output_type": "stream",
          "text": [
            "INFO:tensorflow:Running param 193 of 220\n"
          ]
        },
        {
          "name": "stdout",
          "output_type": "stream",
          "text": [
            "INFO:tensorflow:running normal. ['random500_7', 'random500_0']\n"
          ]
        },
        {
          "name": "stderr",
          "output_type": "stream",
          "text": [
            "INFO:tensorflow:running normal. ['random500_7', 'random500_0']\n"
          ]
        },
        {
          "name": "stdout",
          "output_type": "stream",
          "text": [
            "INFO:tensorflow:Loaded ./tcav/tcav_examples/discrete/kdd_sanity2\\activations\\acts_random500_7_dense_1 shape (10, 256)\n"
          ]
        },
        {
          "name": "stderr",
          "output_type": "stream",
          "text": [
            "INFO:tensorflow:Loaded ./tcav/tcav_examples/discrete/kdd_sanity2\\activations\\acts_random500_7_dense_1 shape (10, 256)\n"
          ]
        },
        {
          "name": "stdout",
          "output_type": "stream",
          "text": [
            "INFO:tensorflow:Loaded ./tcav/tcav_examples/discrete/kdd_sanity2\\activations\\acts_random500_0_dense_1 shape (10, 256)\n"
          ]
        },
        {
          "name": "stderr",
          "output_type": "stream",
          "text": [
            "INFO:tensorflow:Loaded ./tcav/tcav_examples/discrete/kdd_sanity2\\activations\\acts_random500_0_dense_1 shape (10, 256)\n"
          ]
        },
        {
          "name": "stdout",
          "output_type": "stream",
          "text": [
            "INFO:tensorflow:Loaded ./tcav/tcav_examples/discrete/kdd_sanity2\\activations\\acts_normal._dense_1 shape (200, 256)\n"
          ]
        },
        {
          "name": "stderr",
          "output_type": "stream",
          "text": [
            "INFO:tensorflow:Loaded ./tcav/tcav_examples/discrete/kdd_sanity2\\activations\\acts_normal._dense_1 shape (200, 256)\n"
          ]
        },
        {
          "name": "stdout",
          "output_type": "stream",
          "text": [
            "INFO:tensorflow:CAV already exists: ./tcav/tcav_examples/discrete/kdd_sanity2\\cav\\random500_7-random500_0-dense_1-linear-0.01.pkl\n"
          ]
        },
        {
          "name": "stderr",
          "output_type": "stream",
          "text": [
            "INFO:tensorflow:CAV already exists: ./tcav/tcav_examples/discrete/kdd_sanity2\\cav\\random500_7-random500_0-dense_1-linear-0.01.pkl\n"
          ]
        },
        {
          "name": "stdout",
          "output_type": "stream",
          "text": [
            "INFO:tensorflow:CAV accuracies: {'random500_7': 1.0, 'random500_0': 0.6666666666666666, 'overall': 0.8571428571428571}\n"
          ]
        },
        {
          "name": "stderr",
          "output_type": "stream",
          "text": [
            "INFO:tensorflow:CAV accuracies: {'random500_7': 1.0, 'random500_0': 0.6666666666666666, 'overall': 0.8571428571428571}\n"
          ]
        },
        {
          "name": "stdout",
          "output_type": "stream",
          "text": [
            "INFO:tensorflow:Running param 194 of 220\n"
          ]
        },
        {
          "name": "stderr",
          "output_type": "stream",
          "text": [
            "INFO:tensorflow:Running param 194 of 220\n"
          ]
        },
        {
          "name": "stdout",
          "output_type": "stream",
          "text": [
            "INFO:tensorflow:running normal. ['random500_7', 'random500_1']\n"
          ]
        },
        {
          "name": "stderr",
          "output_type": "stream",
          "text": [
            "INFO:tensorflow:running normal. ['random500_7', 'random500_1']\n"
          ]
        },
        {
          "name": "stdout",
          "output_type": "stream",
          "text": [
            "INFO:tensorflow:Loaded ./tcav/tcav_examples/discrete/kdd_sanity2\\activations\\acts_random500_7_dense_1 shape (10, 256)\n"
          ]
        },
        {
          "name": "stderr",
          "output_type": "stream",
          "text": [
            "INFO:tensorflow:Loaded ./tcav/tcav_examples/discrete/kdd_sanity2\\activations\\acts_random500_7_dense_1 shape (10, 256)\n"
          ]
        },
        {
          "name": "stdout",
          "output_type": "stream",
          "text": [
            "INFO:tensorflow:Loaded ./tcav/tcav_examples/discrete/kdd_sanity2\\activations\\acts_random500_1_dense_1 shape (10, 256)\n"
          ]
        },
        {
          "name": "stderr",
          "output_type": "stream",
          "text": [
            "INFO:tensorflow:Loaded ./tcav/tcav_examples/discrete/kdd_sanity2\\activations\\acts_random500_1_dense_1 shape (10, 256)\n"
          ]
        },
        {
          "name": "stdout",
          "output_type": "stream",
          "text": [
            "INFO:tensorflow:Loaded ./tcav/tcav_examples/discrete/kdd_sanity2\\activations\\acts_normal._dense_1 shape (200, 256)\n"
          ]
        },
        {
          "name": "stderr",
          "output_type": "stream",
          "text": [
            "INFO:tensorflow:Loaded ./tcav/tcav_examples/discrete/kdd_sanity2\\activations\\acts_normal._dense_1 shape (200, 256)\n"
          ]
        },
        {
          "name": "stdout",
          "output_type": "stream",
          "text": [
            "INFO:tensorflow:CAV already exists: ./tcav/tcav_examples/discrete/kdd_sanity2\\cav\\random500_7-random500_1-dense_1-linear-0.01.pkl\n"
          ]
        },
        {
          "name": "stderr",
          "output_type": "stream",
          "text": [
            "INFO:tensorflow:CAV already exists: ./tcav/tcav_examples/discrete/kdd_sanity2\\cav\\random500_7-random500_1-dense_1-linear-0.01.pkl\n"
          ]
        },
        {
          "name": "stdout",
          "output_type": "stream",
          "text": [
            "INFO:tensorflow:CAV accuracies: {'random500_7': 1.0, 'random500_1': 0.3333333333333333, 'overall': 0.7142857142857143}\n"
          ]
        },
        {
          "name": "stderr",
          "output_type": "stream",
          "text": [
            "INFO:tensorflow:CAV accuracies: {'random500_7': 1.0, 'random500_1': 0.3333333333333333, 'overall': 0.7142857142857143}\n"
          ]
        },
        {
          "name": "stdout",
          "output_type": "stream",
          "text": [
            "INFO:tensorflow:Running param 195 of 220\n"
          ]
        },
        {
          "name": "stderr",
          "output_type": "stream",
          "text": [
            "INFO:tensorflow:Running param 195 of 220\n"
          ]
        },
        {
          "name": "stdout",
          "output_type": "stream",
          "text": [
            "INFO:tensorflow:running normal. ['random500_7', 'random500_2']\n"
          ]
        },
        {
          "name": "stderr",
          "output_type": "stream",
          "text": [
            "INFO:tensorflow:running normal. ['random500_7', 'random500_2']\n"
          ]
        },
        {
          "name": "stdout",
          "output_type": "stream",
          "text": [
            "INFO:tensorflow:Loaded ./tcav/tcav_examples/discrete/kdd_sanity2\\activations\\acts_random500_7_dense_1 shape (10, 256)\n"
          ]
        },
        {
          "name": "stderr",
          "output_type": "stream",
          "text": [
            "INFO:tensorflow:Loaded ./tcav/tcav_examples/discrete/kdd_sanity2\\activations\\acts_random500_7_dense_1 shape (10, 256)\n"
          ]
        },
        {
          "name": "stdout",
          "output_type": "stream",
          "text": [
            "INFO:tensorflow:Loaded ./tcav/tcav_examples/discrete/kdd_sanity2\\activations\\acts_random500_2_dense_1 shape (10, 256)\n"
          ]
        },
        {
          "name": "stderr",
          "output_type": "stream",
          "text": [
            "INFO:tensorflow:Loaded ./tcav/tcav_examples/discrete/kdd_sanity2\\activations\\acts_random500_2_dense_1 shape (10, 256)\n"
          ]
        },
        {
          "name": "stdout",
          "output_type": "stream",
          "text": [
            "INFO:tensorflow:Loaded ./tcav/tcav_examples/discrete/kdd_sanity2\\activations\\acts_normal._dense_1 shape (200, 256)\n"
          ]
        },
        {
          "name": "stderr",
          "output_type": "stream",
          "text": [
            "INFO:tensorflow:Loaded ./tcav/tcav_examples/discrete/kdd_sanity2\\activations\\acts_normal._dense_1 shape (200, 256)\n"
          ]
        },
        {
          "name": "stdout",
          "output_type": "stream",
          "text": [
            "INFO:tensorflow:CAV already exists: ./tcav/tcav_examples/discrete/kdd_sanity2\\cav\\random500_7-random500_2-dense_1-linear-0.01.pkl\n"
          ]
        },
        {
          "name": "stderr",
          "output_type": "stream",
          "text": [
            "INFO:tensorflow:CAV already exists: ./tcav/tcav_examples/discrete/kdd_sanity2\\cav\\random500_7-random500_2-dense_1-linear-0.01.pkl\n"
          ]
        },
        {
          "name": "stdout",
          "output_type": "stream",
          "text": [
            "INFO:tensorflow:CAV accuracies: {'random500_7': 1.0, 'random500_2': 0.0, 'overall': 0.42857142857142855}\n"
          ]
        },
        {
          "name": "stderr",
          "output_type": "stream",
          "text": [
            "INFO:tensorflow:CAV accuracies: {'random500_7': 1.0, 'random500_2': 0.0, 'overall': 0.42857142857142855}\n"
          ]
        },
        {
          "name": "stdout",
          "output_type": "stream",
          "text": [
            "INFO:tensorflow:Running param 196 of 220\n"
          ]
        },
        {
          "name": "stderr",
          "output_type": "stream",
          "text": [
            "INFO:tensorflow:Running param 196 of 220\n"
          ]
        },
        {
          "name": "stdout",
          "output_type": "stream",
          "text": [
            "INFO:tensorflow:running normal. ['random500_7', 'random500_3']\n"
          ]
        },
        {
          "name": "stderr",
          "output_type": "stream",
          "text": [
            "INFO:tensorflow:running normal. ['random500_7', 'random500_3']\n"
          ]
        },
        {
          "name": "stdout",
          "output_type": "stream",
          "text": [
            "INFO:tensorflow:Loaded ./tcav/tcav_examples/discrete/kdd_sanity2\\activations\\acts_random500_7_dense_1 shape (10, 256)\n"
          ]
        },
        {
          "name": "stderr",
          "output_type": "stream",
          "text": [
            "INFO:tensorflow:Loaded ./tcav/tcav_examples/discrete/kdd_sanity2\\activations\\acts_random500_7_dense_1 shape (10, 256)\n"
          ]
        },
        {
          "name": "stdout",
          "output_type": "stream",
          "text": [
            "INFO:tensorflow:Loaded ./tcav/tcav_examples/discrete/kdd_sanity2\\activations\\acts_random500_3_dense_1 shape (10, 256)\n"
          ]
        },
        {
          "name": "stderr",
          "output_type": "stream",
          "text": [
            "INFO:tensorflow:Loaded ./tcav/tcav_examples/discrete/kdd_sanity2\\activations\\acts_random500_3_dense_1 shape (10, 256)\n"
          ]
        },
        {
          "name": "stdout",
          "output_type": "stream",
          "text": [
            "INFO:tensorflow:Loaded ./tcav/tcav_examples/discrete/kdd_sanity2\\activations\\acts_normal._dense_1 shape (200, 256)\n"
          ]
        },
        {
          "name": "stderr",
          "output_type": "stream",
          "text": [
            "INFO:tensorflow:Loaded ./tcav/tcav_examples/discrete/kdd_sanity2\\activations\\acts_normal._dense_1 shape (200, 256)\n"
          ]
        },
        {
          "name": "stdout",
          "output_type": "stream",
          "text": [
            "INFO:tensorflow:CAV already exists: ./tcav/tcav_examples/discrete/kdd_sanity2\\cav\\random500_7-random500_3-dense_1-linear-0.01.pkl\n"
          ]
        },
        {
          "name": "stderr",
          "output_type": "stream",
          "text": [
            "INFO:tensorflow:CAV already exists: ./tcav/tcav_examples/discrete/kdd_sanity2\\cav\\random500_7-random500_3-dense_1-linear-0.01.pkl\n"
          ]
        },
        {
          "name": "stdout",
          "output_type": "stream",
          "text": [
            "INFO:tensorflow:CAV accuracies: {'random500_7': 1.0, 'random500_3': 0.5, 'overall': 0.7142857142857143}\n"
          ]
        },
        {
          "name": "stderr",
          "output_type": "stream",
          "text": [
            "INFO:tensorflow:CAV accuracies: {'random500_7': 1.0, 'random500_3': 0.5, 'overall': 0.7142857142857143}\n"
          ]
        },
        {
          "name": "stdout",
          "output_type": "stream",
          "text": [
            "INFO:tensorflow:Running param 197 of 220\n"
          ]
        },
        {
          "name": "stderr",
          "output_type": "stream",
          "text": [
            "INFO:tensorflow:Running param 197 of 220\n"
          ]
        },
        {
          "name": "stdout",
          "output_type": "stream",
          "text": [
            "INFO:tensorflow:running normal. ['random500_7', 'random500_4']\n"
          ]
        },
        {
          "name": "stderr",
          "output_type": "stream",
          "text": [
            "INFO:tensorflow:running normal. ['random500_7', 'random500_4']\n"
          ]
        },
        {
          "name": "stdout",
          "output_type": "stream",
          "text": [
            "INFO:tensorflow:Loaded ./tcav/tcav_examples/discrete/kdd_sanity2\\activations\\acts_random500_7_dense_1 shape (10, 256)\n"
          ]
        },
        {
          "name": "stderr",
          "output_type": "stream",
          "text": [
            "INFO:tensorflow:Loaded ./tcav/tcav_examples/discrete/kdd_sanity2\\activations\\acts_random500_7_dense_1 shape (10, 256)\n"
          ]
        },
        {
          "name": "stdout",
          "output_type": "stream",
          "text": [
            "INFO:tensorflow:Loaded ./tcav/tcav_examples/discrete/kdd_sanity2\\activations\\acts_random500_4_dense_1 shape (10, 256)\n"
          ]
        },
        {
          "name": "stderr",
          "output_type": "stream",
          "text": [
            "INFO:tensorflow:Loaded ./tcav/tcav_examples/discrete/kdd_sanity2\\activations\\acts_random500_4_dense_1 shape (10, 256)\n"
          ]
        },
        {
          "name": "stdout",
          "output_type": "stream",
          "text": [
            "INFO:tensorflow:Loaded ./tcav/tcav_examples/discrete/kdd_sanity2\\activations\\acts_normal._dense_1 shape (200, 256)\n"
          ]
        },
        {
          "name": "stderr",
          "output_type": "stream",
          "text": [
            "INFO:tensorflow:Loaded ./tcav/tcav_examples/discrete/kdd_sanity2\\activations\\acts_normal._dense_1 shape (200, 256)\n"
          ]
        },
        {
          "name": "stdout",
          "output_type": "stream",
          "text": [
            "INFO:tensorflow:CAV already exists: ./tcav/tcav_examples/discrete/kdd_sanity2\\cav\\random500_7-random500_4-dense_1-linear-0.01.pkl\n"
          ]
        },
        {
          "name": "stderr",
          "output_type": "stream",
          "text": [
            "INFO:tensorflow:CAV already exists: ./tcav/tcav_examples/discrete/kdd_sanity2\\cav\\random500_7-random500_4-dense_1-linear-0.01.pkl\n"
          ]
        },
        {
          "name": "stdout",
          "output_type": "stream",
          "text": [
            "INFO:tensorflow:CAV accuracies: {'random500_7': 0.5, 'random500_4': 0.6666666666666666, 'overall': 0.5714285714285714}\n"
          ]
        },
        {
          "name": "stderr",
          "output_type": "stream",
          "text": [
            "INFO:tensorflow:CAV accuracies: {'random500_7': 0.5, 'random500_4': 0.6666666666666666, 'overall': 0.5714285714285714}\n"
          ]
        },
        {
          "name": "stdout",
          "output_type": "stream",
          "text": [
            "INFO:tensorflow:Running param 198 of 220\n"
          ]
        },
        {
          "name": "stderr",
          "output_type": "stream",
          "text": [
            "INFO:tensorflow:Running param 198 of 220\n"
          ]
        },
        {
          "name": "stdout",
          "output_type": "stream",
          "text": [
            "INFO:tensorflow:running normal. ['random500_7', 'random500_5']\n"
          ]
        },
        {
          "name": "stderr",
          "output_type": "stream",
          "text": [
            "INFO:tensorflow:running normal. ['random500_7', 'random500_5']\n"
          ]
        },
        {
          "name": "stdout",
          "output_type": "stream",
          "text": [
            "INFO:tensorflow:Loaded ./tcav/tcav_examples/discrete/kdd_sanity2\\activations\\acts_random500_7_dense_1 shape (10, 256)\n"
          ]
        },
        {
          "name": "stderr",
          "output_type": "stream",
          "text": [
            "INFO:tensorflow:Loaded ./tcav/tcav_examples/discrete/kdd_sanity2\\activations\\acts_random500_7_dense_1 shape (10, 256)\n"
          ]
        },
        {
          "name": "stdout",
          "output_type": "stream",
          "text": [
            "INFO:tensorflow:Loaded ./tcav/tcav_examples/discrete/kdd_sanity2\\activations\\acts_random500_5_dense_1 shape (10, 256)\n"
          ]
        },
        {
          "name": "stderr",
          "output_type": "stream",
          "text": [
            "INFO:tensorflow:Loaded ./tcav/tcav_examples/discrete/kdd_sanity2\\activations\\acts_random500_5_dense_1 shape (10, 256)\n"
          ]
        },
        {
          "name": "stdout",
          "output_type": "stream",
          "text": [
            "INFO:tensorflow:Loaded ./tcav/tcav_examples/discrete/kdd_sanity2\\activations\\acts_normal._dense_1 shape (200, 256)\n"
          ]
        },
        {
          "name": "stderr",
          "output_type": "stream",
          "text": [
            "INFO:tensorflow:Loaded ./tcav/tcav_examples/discrete/kdd_sanity2\\activations\\acts_normal._dense_1 shape (200, 256)\n"
          ]
        },
        {
          "name": "stdout",
          "output_type": "stream",
          "text": [
            "INFO:tensorflow:CAV already exists: ./tcav/tcav_examples/discrete/kdd_sanity2\\cav\\random500_7-random500_5-dense_1-linear-0.01.pkl\n"
          ]
        },
        {
          "name": "stderr",
          "output_type": "stream",
          "text": [
            "INFO:tensorflow:CAV already exists: ./tcav/tcav_examples/discrete/kdd_sanity2\\cav\\random500_7-random500_5-dense_1-linear-0.01.pkl\n"
          ]
        },
        {
          "name": "stdout",
          "output_type": "stream",
          "text": [
            "INFO:tensorflow:CAV accuracies: {'random500_7': 0.6666666666666666, 'random500_5': 0.25, 'overall': 0.42857142857142855}\n"
          ]
        },
        {
          "name": "stderr",
          "output_type": "stream",
          "text": [
            "INFO:tensorflow:CAV accuracies: {'random500_7': 0.6666666666666666, 'random500_5': 0.25, 'overall': 0.42857142857142855}\n"
          ]
        },
        {
          "name": "stdout",
          "output_type": "stream",
          "text": [
            "INFO:tensorflow:Running param 199 of 220\n"
          ]
        },
        {
          "name": "stderr",
          "output_type": "stream",
          "text": [
            "INFO:tensorflow:Running param 199 of 220\n"
          ]
        },
        {
          "name": "stdout",
          "output_type": "stream",
          "text": [
            "INFO:tensorflow:running normal. ['random500_7', 'random500_6']\n"
          ]
        },
        {
          "name": "stderr",
          "output_type": "stream",
          "text": [
            "INFO:tensorflow:running normal. ['random500_7', 'random500_6']\n"
          ]
        },
        {
          "name": "stdout",
          "output_type": "stream",
          "text": [
            "INFO:tensorflow:Loaded ./tcav/tcav_examples/discrete/kdd_sanity2\\activations\\acts_random500_7_dense_1 shape (10, 256)\n"
          ]
        },
        {
          "name": "stderr",
          "output_type": "stream",
          "text": [
            "INFO:tensorflow:Loaded ./tcav/tcav_examples/discrete/kdd_sanity2\\activations\\acts_random500_7_dense_1 shape (10, 256)\n"
          ]
        },
        {
          "name": "stdout",
          "output_type": "stream",
          "text": [
            "INFO:tensorflow:Loaded ./tcav/tcav_examples/discrete/kdd_sanity2\\activations\\acts_random500_6_dense_1 shape (10, 256)\n"
          ]
        },
        {
          "name": "stderr",
          "output_type": "stream",
          "text": [
            "INFO:tensorflow:Loaded ./tcav/tcav_examples/discrete/kdd_sanity2\\activations\\acts_random500_6_dense_1 shape (10, 256)\n"
          ]
        },
        {
          "name": "stdout",
          "output_type": "stream",
          "text": [
            "INFO:tensorflow:Loaded ./tcav/tcav_examples/discrete/kdd_sanity2\\activations\\acts_normal._dense_1 shape (200, 256)\n"
          ]
        },
        {
          "name": "stderr",
          "output_type": "stream",
          "text": [
            "INFO:tensorflow:Loaded ./tcav/tcav_examples/discrete/kdd_sanity2\\activations\\acts_normal._dense_1 shape (200, 256)\n"
          ]
        },
        {
          "name": "stdout",
          "output_type": "stream",
          "text": [
            "INFO:tensorflow:CAV already exists: ./tcav/tcav_examples/discrete/kdd_sanity2\\cav\\random500_7-random500_6-dense_1-linear-0.01.pkl\n"
          ]
        },
        {
          "name": "stderr",
          "output_type": "stream",
          "text": [
            "INFO:tensorflow:CAV already exists: ./tcav/tcav_examples/discrete/kdd_sanity2\\cav\\random500_7-random500_6-dense_1-linear-0.01.pkl\n"
          ]
        },
        {
          "name": "stdout",
          "output_type": "stream",
          "text": [
            "INFO:tensorflow:CAV accuracies: {'random500_7': 0.6666666666666666, 'random500_6': 0.5, 'overall': 0.5714285714285714}\n"
          ]
        },
        {
          "name": "stderr",
          "output_type": "stream",
          "text": [
            "INFO:tensorflow:CAV accuracies: {'random500_7': 0.6666666666666666, 'random500_6': 0.5, 'overall': 0.5714285714285714}\n"
          ]
        },
        {
          "name": "stdout",
          "output_type": "stream",
          "text": [
            "INFO:tensorflow:Running param 200 of 220\n"
          ]
        },
        {
          "name": "stderr",
          "output_type": "stream",
          "text": [
            "INFO:tensorflow:Running param 200 of 220\n"
          ]
        },
        {
          "name": "stdout",
          "output_type": "stream",
          "text": [
            "INFO:tensorflow:running normal. ['random500_7', 'random500_8']\n"
          ]
        },
        {
          "name": "stderr",
          "output_type": "stream",
          "text": [
            "INFO:tensorflow:running normal. ['random500_7', 'random500_8']\n"
          ]
        },
        {
          "name": "stdout",
          "output_type": "stream",
          "text": [
            "INFO:tensorflow:Loaded ./tcav/tcav_examples/discrete/kdd_sanity2\\activations\\acts_random500_7_dense_1 shape (10, 256)\n"
          ]
        },
        {
          "name": "stderr",
          "output_type": "stream",
          "text": [
            "INFO:tensorflow:Loaded ./tcav/tcav_examples/discrete/kdd_sanity2\\activations\\acts_random500_7_dense_1 shape (10, 256)\n"
          ]
        },
        {
          "name": "stdout",
          "output_type": "stream",
          "text": [
            "INFO:tensorflow:Loaded ./tcav/tcav_examples/discrete/kdd_sanity2\\activations\\acts_random500_8_dense_1 shape (10, 256)\n"
          ]
        },
        {
          "name": "stderr",
          "output_type": "stream",
          "text": [
            "INFO:tensorflow:Loaded ./tcav/tcav_examples/discrete/kdd_sanity2\\activations\\acts_random500_8_dense_1 shape (10, 256)\n"
          ]
        },
        {
          "name": "stdout",
          "output_type": "stream",
          "text": [
            "INFO:tensorflow:Loaded ./tcav/tcav_examples/discrete/kdd_sanity2\\activations\\acts_normal._dense_1 shape (200, 256)\n"
          ]
        },
        {
          "name": "stderr",
          "output_type": "stream",
          "text": [
            "INFO:tensorflow:Loaded ./tcav/tcav_examples/discrete/kdd_sanity2\\activations\\acts_normal._dense_1 shape (200, 256)\n"
          ]
        },
        {
          "name": "stdout",
          "output_type": "stream",
          "text": [
            "INFO:tensorflow:CAV already exists: ./tcav/tcav_examples/discrete/kdd_sanity2\\cav\\random500_7-random500_8-dense_1-linear-0.01.pkl\n"
          ]
        },
        {
          "name": "stderr",
          "output_type": "stream",
          "text": [
            "INFO:tensorflow:CAV already exists: ./tcav/tcav_examples/discrete/kdd_sanity2\\cav\\random500_7-random500_8-dense_1-linear-0.01.pkl\n"
          ]
        },
        {
          "name": "stdout",
          "output_type": "stream",
          "text": [
            "INFO:tensorflow:CAV accuracies: {'random500_7': 0.75, 'random500_8': 0.6666666666666666, 'overall': 0.7142857142857143}\n"
          ]
        },
        {
          "name": "stderr",
          "output_type": "stream",
          "text": [
            "INFO:tensorflow:CAV accuracies: {'random500_7': 0.75, 'random500_8': 0.6666666666666666, 'overall': 0.7142857142857143}\n"
          ]
        },
        {
          "name": "stdout",
          "output_type": "stream",
          "text": [
            "INFO:tensorflow:Running param 201 of 220\n"
          ]
        },
        {
          "name": "stderr",
          "output_type": "stream",
          "text": [
            "INFO:tensorflow:Running param 201 of 220\n"
          ]
        },
        {
          "name": "stdout",
          "output_type": "stream",
          "text": [
            "INFO:tensorflow:running normal. ['random500_7', 'random500_9']\n"
          ]
        },
        {
          "name": "stderr",
          "output_type": "stream",
          "text": [
            "INFO:tensorflow:running normal. ['random500_7', 'random500_9']\n"
          ]
        },
        {
          "name": "stdout",
          "output_type": "stream",
          "text": [
            "INFO:tensorflow:Loaded ./tcav/tcav_examples/discrete/kdd_sanity2\\activations\\acts_random500_7_dense_1 shape (10, 256)\n"
          ]
        },
        {
          "name": "stderr",
          "output_type": "stream",
          "text": [
            "INFO:tensorflow:Loaded ./tcav/tcav_examples/discrete/kdd_sanity2\\activations\\acts_random500_7_dense_1 shape (10, 256)\n"
          ]
        },
        {
          "name": "stdout",
          "output_type": "stream",
          "text": [
            "INFO:tensorflow:Loaded ./tcav/tcav_examples/discrete/kdd_sanity2\\activations\\acts_random500_9_dense_1 shape (10, 256)\n"
          ]
        },
        {
          "name": "stderr",
          "output_type": "stream",
          "text": [
            "INFO:tensorflow:Loaded ./tcav/tcav_examples/discrete/kdd_sanity2\\activations\\acts_random500_9_dense_1 shape (10, 256)\n"
          ]
        },
        {
          "name": "stdout",
          "output_type": "stream",
          "text": [
            "INFO:tensorflow:Loaded ./tcav/tcav_examples/discrete/kdd_sanity2\\activations\\acts_normal._dense_1 shape (200, 256)\n"
          ]
        },
        {
          "name": "stderr",
          "output_type": "stream",
          "text": [
            "INFO:tensorflow:Loaded ./tcav/tcav_examples/discrete/kdd_sanity2\\activations\\acts_normal._dense_1 shape (200, 256)\n"
          ]
        },
        {
          "name": "stdout",
          "output_type": "stream",
          "text": [
            "INFO:tensorflow:CAV already exists: ./tcav/tcav_examples/discrete/kdd_sanity2\\cav\\random500_7-random500_9-dense_1-linear-0.01.pkl\n"
          ]
        },
        {
          "name": "stderr",
          "output_type": "stream",
          "text": [
            "INFO:tensorflow:CAV already exists: ./tcav/tcav_examples/discrete/kdd_sanity2\\cav\\random500_7-random500_9-dense_1-linear-0.01.pkl\n"
          ]
        },
        {
          "name": "stdout",
          "output_type": "stream",
          "text": [
            "INFO:tensorflow:CAV accuracies: {'random500_7': 0.5, 'random500_9': 1.0, 'overall': 0.7142857142857143}\n"
          ]
        },
        {
          "name": "stderr",
          "output_type": "stream",
          "text": [
            "INFO:tensorflow:CAV accuracies: {'random500_7': 0.5, 'random500_9': 1.0, 'overall': 0.7142857142857143}\n"
          ]
        },
        {
          "name": "stdout",
          "output_type": "stream",
          "text": [
            "INFO:tensorflow:Running param 202 of 220\n"
          ]
        },
        {
          "name": "stderr",
          "output_type": "stream",
          "text": [
            "INFO:tensorflow:Running param 202 of 220\n"
          ]
        },
        {
          "name": "stdout",
          "output_type": "stream",
          "text": [
            "INFO:tensorflow:running normal. ['random500_8', 'random500_0']\n"
          ]
        },
        {
          "name": "stderr",
          "output_type": "stream",
          "text": [
            "INFO:tensorflow:running normal. ['random500_8', 'random500_0']\n"
          ]
        },
        {
          "name": "stdout",
          "output_type": "stream",
          "text": [
            "INFO:tensorflow:Loaded ./tcav/tcav_examples/discrete/kdd_sanity2\\activations\\acts_random500_8_dense_1 shape (10, 256)\n"
          ]
        },
        {
          "name": "stderr",
          "output_type": "stream",
          "text": [
            "INFO:tensorflow:Loaded ./tcav/tcav_examples/discrete/kdd_sanity2\\activations\\acts_random500_8_dense_1 shape (10, 256)\n"
          ]
        },
        {
          "name": "stdout",
          "output_type": "stream",
          "text": [
            "INFO:tensorflow:Loaded ./tcav/tcav_examples/discrete/kdd_sanity2\\activations\\acts_random500_0_dense_1 shape (10, 256)\n"
          ]
        },
        {
          "name": "stderr",
          "output_type": "stream",
          "text": [
            "INFO:tensorflow:Loaded ./tcav/tcav_examples/discrete/kdd_sanity2\\activations\\acts_random500_0_dense_1 shape (10, 256)\n"
          ]
        },
        {
          "name": "stdout",
          "output_type": "stream",
          "text": [
            "INFO:tensorflow:Loaded ./tcav/tcav_examples/discrete/kdd_sanity2\\activations\\acts_normal._dense_1 shape (200, 256)\n"
          ]
        },
        {
          "name": "stderr",
          "output_type": "stream",
          "text": [
            "INFO:tensorflow:Loaded ./tcav/tcav_examples/discrete/kdd_sanity2\\activations\\acts_normal._dense_1 shape (200, 256)\n"
          ]
        },
        {
          "name": "stdout",
          "output_type": "stream",
          "text": [
            "INFO:tensorflow:CAV already exists: ./tcav/tcav_examples/discrete/kdd_sanity2\\cav\\random500_8-random500_0-dense_1-linear-0.01.pkl\n"
          ]
        },
        {
          "name": "stderr",
          "output_type": "stream",
          "text": [
            "INFO:tensorflow:CAV already exists: ./tcav/tcav_examples/discrete/kdd_sanity2\\cav\\random500_8-random500_0-dense_1-linear-0.01.pkl\n"
          ]
        },
        {
          "name": "stdout",
          "output_type": "stream",
          "text": [
            "INFO:tensorflow:CAV accuracies: {'random500_8': 1.0, 'random500_0': 0.0, 'overall': 0.42857142857142855}\n"
          ]
        },
        {
          "name": "stderr",
          "output_type": "stream",
          "text": [
            "INFO:tensorflow:CAV accuracies: {'random500_8': 1.0, 'random500_0': 0.0, 'overall': 0.42857142857142855}\n"
          ]
        },
        {
          "name": "stdout",
          "output_type": "stream",
          "text": [
            "INFO:tensorflow:Running param 203 of 220\n"
          ]
        },
        {
          "name": "stderr",
          "output_type": "stream",
          "text": [
            "INFO:tensorflow:Running param 203 of 220\n"
          ]
        },
        {
          "name": "stdout",
          "output_type": "stream",
          "text": [
            "INFO:tensorflow:running normal. ['random500_8', 'random500_1']\n"
          ]
        },
        {
          "name": "stderr",
          "output_type": "stream",
          "text": [
            "INFO:tensorflow:running normal. ['random500_8', 'random500_1']\n"
          ]
        },
        {
          "name": "stdout",
          "output_type": "stream",
          "text": [
            "INFO:tensorflow:Loaded ./tcav/tcav_examples/discrete/kdd_sanity2\\activations\\acts_random500_8_dense_1 shape (10, 256)\n"
          ]
        },
        {
          "name": "stderr",
          "output_type": "stream",
          "text": [
            "INFO:tensorflow:Loaded ./tcav/tcav_examples/discrete/kdd_sanity2\\activations\\acts_random500_8_dense_1 shape (10, 256)\n"
          ]
        },
        {
          "name": "stdout",
          "output_type": "stream",
          "text": [
            "INFO:tensorflow:Loaded ./tcav/tcav_examples/discrete/kdd_sanity2\\activations\\acts_random500_1_dense_1 shape (10, 256)\n"
          ]
        },
        {
          "name": "stderr",
          "output_type": "stream",
          "text": [
            "INFO:tensorflow:Loaded ./tcav/tcav_examples/discrete/kdd_sanity2\\activations\\acts_random500_1_dense_1 shape (10, 256)\n"
          ]
        },
        {
          "name": "stdout",
          "output_type": "stream",
          "text": [
            "INFO:tensorflow:Loaded ./tcav/tcav_examples/discrete/kdd_sanity2\\activations\\acts_normal._dense_1 shape (200, 256)\n"
          ]
        },
        {
          "name": "stderr",
          "output_type": "stream",
          "text": [
            "INFO:tensorflow:Loaded ./tcav/tcav_examples/discrete/kdd_sanity2\\activations\\acts_normal._dense_1 shape (200, 256)\n"
          ]
        },
        {
          "name": "stdout",
          "output_type": "stream",
          "text": [
            "INFO:tensorflow:CAV already exists: ./tcav/tcav_examples/discrete/kdd_sanity2\\cav\\random500_8-random500_1-dense_1-linear-0.01.pkl\n"
          ]
        },
        {
          "name": "stderr",
          "output_type": "stream",
          "text": [
            "INFO:tensorflow:CAV already exists: ./tcav/tcav_examples/discrete/kdd_sanity2\\cav\\random500_8-random500_1-dense_1-linear-0.01.pkl\n"
          ]
        },
        {
          "name": "stdout",
          "output_type": "stream",
          "text": [
            "INFO:tensorflow:CAV accuracies: {'random500_8': 0.0, 'random500_1': 0.75, 'overall': 0.42857142857142855}\n"
          ]
        },
        {
          "name": "stderr",
          "output_type": "stream",
          "text": [
            "INFO:tensorflow:CAV accuracies: {'random500_8': 0.0, 'random500_1': 0.75, 'overall': 0.42857142857142855}\n"
          ]
        },
        {
          "name": "stdout",
          "output_type": "stream",
          "text": [
            "INFO:tensorflow:Running param 204 of 220\n"
          ]
        },
        {
          "name": "stderr",
          "output_type": "stream",
          "text": [
            "INFO:tensorflow:Running param 204 of 220\n"
          ]
        },
        {
          "name": "stdout",
          "output_type": "stream",
          "text": [
            "INFO:tensorflow:running normal. ['random500_8', 'random500_2']\n"
          ]
        },
        {
          "name": "stderr",
          "output_type": "stream",
          "text": [
            "INFO:tensorflow:running normal. ['random500_8', 'random500_2']\n"
          ]
        },
        {
          "name": "stdout",
          "output_type": "stream",
          "text": [
            "INFO:tensorflow:Loaded ./tcav/tcav_examples/discrete/kdd_sanity2\\activations\\acts_random500_8_dense_1 shape (10, 256)\n"
          ]
        },
        {
          "name": "stderr",
          "output_type": "stream",
          "text": [
            "INFO:tensorflow:Loaded ./tcav/tcav_examples/discrete/kdd_sanity2\\activations\\acts_random500_8_dense_1 shape (10, 256)\n"
          ]
        },
        {
          "name": "stdout",
          "output_type": "stream",
          "text": [
            "INFO:tensorflow:Loaded ./tcav/tcav_examples/discrete/kdd_sanity2\\activations\\acts_random500_2_dense_1 shape (10, 256)\n"
          ]
        },
        {
          "name": "stderr",
          "output_type": "stream",
          "text": [
            "INFO:tensorflow:Loaded ./tcav/tcav_examples/discrete/kdd_sanity2\\activations\\acts_random500_2_dense_1 shape (10, 256)\n"
          ]
        },
        {
          "name": "stdout",
          "output_type": "stream",
          "text": [
            "INFO:tensorflow:Loaded ./tcav/tcav_examples/discrete/kdd_sanity2\\activations\\acts_normal._dense_1 shape (200, 256)\n"
          ]
        },
        {
          "name": "stderr",
          "output_type": "stream",
          "text": [
            "INFO:tensorflow:Loaded ./tcav/tcav_examples/discrete/kdd_sanity2\\activations\\acts_normal._dense_1 shape (200, 256)\n"
          ]
        },
        {
          "name": "stdout",
          "output_type": "stream",
          "text": [
            "INFO:tensorflow:CAV already exists: ./tcav/tcav_examples/discrete/kdd_sanity2\\cav\\random500_8-random500_2-dense_1-linear-0.01.pkl\n"
          ]
        },
        {
          "name": "stderr",
          "output_type": "stream",
          "text": [
            "INFO:tensorflow:CAV already exists: ./tcav/tcav_examples/discrete/kdd_sanity2\\cav\\random500_8-random500_2-dense_1-linear-0.01.pkl\n"
          ]
        },
        {
          "name": "stdout",
          "output_type": "stream",
          "text": [
            "INFO:tensorflow:CAV accuracies: {'random500_8': 0.0, 'random500_2': 1.0, 'overall': 0.42857142857142855}\n"
          ]
        },
        {
          "name": "stderr",
          "output_type": "stream",
          "text": [
            "INFO:tensorflow:CAV accuracies: {'random500_8': 0.0, 'random500_2': 1.0, 'overall': 0.42857142857142855}\n"
          ]
        },
        {
          "name": "stdout",
          "output_type": "stream",
          "text": [
            "INFO:tensorflow:Running param 205 of 220\n"
          ]
        },
        {
          "name": "stderr",
          "output_type": "stream",
          "text": [
            "INFO:tensorflow:Running param 205 of 220\n"
          ]
        },
        {
          "name": "stdout",
          "output_type": "stream",
          "text": [
            "INFO:tensorflow:running normal. ['random500_8', 'random500_3']\n"
          ]
        },
        {
          "name": "stderr",
          "output_type": "stream",
          "text": [
            "INFO:tensorflow:running normal. ['random500_8', 'random500_3']\n"
          ]
        },
        {
          "name": "stdout",
          "output_type": "stream",
          "text": [
            "INFO:tensorflow:Loaded ./tcav/tcav_examples/discrete/kdd_sanity2\\activations\\acts_random500_8_dense_1 shape (10, 256)\n"
          ]
        },
        {
          "name": "stderr",
          "output_type": "stream",
          "text": [
            "INFO:tensorflow:Loaded ./tcav/tcav_examples/discrete/kdd_sanity2\\activations\\acts_random500_8_dense_1 shape (10, 256)\n"
          ]
        },
        {
          "name": "stdout",
          "output_type": "stream",
          "text": [
            "INFO:tensorflow:Loaded ./tcav/tcav_examples/discrete/kdd_sanity2\\activations\\acts_random500_3_dense_1 shape (10, 256)\n"
          ]
        },
        {
          "name": "stderr",
          "output_type": "stream",
          "text": [
            "INFO:tensorflow:Loaded ./tcav/tcav_examples/discrete/kdd_sanity2\\activations\\acts_random500_3_dense_1 shape (10, 256)\n"
          ]
        },
        {
          "name": "stdout",
          "output_type": "stream",
          "text": [
            "INFO:tensorflow:Loaded ./tcav/tcav_examples/discrete/kdd_sanity2\\activations\\acts_normal._dense_1 shape (200, 256)\n"
          ]
        },
        {
          "name": "stderr",
          "output_type": "stream",
          "text": [
            "INFO:tensorflow:Loaded ./tcav/tcav_examples/discrete/kdd_sanity2\\activations\\acts_normal._dense_1 shape (200, 256)\n"
          ]
        },
        {
          "name": "stdout",
          "output_type": "stream",
          "text": [
            "INFO:tensorflow:CAV already exists: ./tcav/tcav_examples/discrete/kdd_sanity2\\cav\\random500_8-random500_3-dense_1-linear-0.01.pkl\n"
          ]
        },
        {
          "name": "stderr",
          "output_type": "stream",
          "text": [
            "INFO:tensorflow:CAV already exists: ./tcav/tcav_examples/discrete/kdd_sanity2\\cav\\random500_8-random500_3-dense_1-linear-0.01.pkl\n"
          ]
        },
        {
          "name": "stdout",
          "output_type": "stream",
          "text": [
            "INFO:tensorflow:CAV accuracies: {'random500_8': 0.6666666666666666, 'random500_3': 0.0, 'overall': 0.2857142857142857}\n"
          ]
        },
        {
          "name": "stderr",
          "output_type": "stream",
          "text": [
            "INFO:tensorflow:CAV accuracies: {'random500_8': 0.6666666666666666, 'random500_3': 0.0, 'overall': 0.2857142857142857}\n"
          ]
        },
        {
          "name": "stdout",
          "output_type": "stream",
          "text": [
            "INFO:tensorflow:Running param 206 of 220\n"
          ]
        },
        {
          "name": "stderr",
          "output_type": "stream",
          "text": [
            "INFO:tensorflow:Running param 206 of 220\n"
          ]
        },
        {
          "name": "stdout",
          "output_type": "stream",
          "text": [
            "INFO:tensorflow:running normal. ['random500_8', 'random500_4']\n"
          ]
        },
        {
          "name": "stderr",
          "output_type": "stream",
          "text": [
            "INFO:tensorflow:running normal. ['random500_8', 'random500_4']\n"
          ]
        },
        {
          "name": "stdout",
          "output_type": "stream",
          "text": [
            "INFO:tensorflow:Loaded ./tcav/tcav_examples/discrete/kdd_sanity2\\activations\\acts_random500_8_dense_1 shape (10, 256)\n"
          ]
        },
        {
          "name": "stderr",
          "output_type": "stream",
          "text": [
            "INFO:tensorflow:Loaded ./tcav/tcav_examples/discrete/kdd_sanity2\\activations\\acts_random500_8_dense_1 shape (10, 256)\n"
          ]
        },
        {
          "name": "stdout",
          "output_type": "stream",
          "text": [
            "INFO:tensorflow:Loaded ./tcav/tcav_examples/discrete/kdd_sanity2\\activations\\acts_random500_4_dense_1 shape (10, 256)\n"
          ]
        },
        {
          "name": "stderr",
          "output_type": "stream",
          "text": [
            "INFO:tensorflow:Loaded ./tcav/tcav_examples/discrete/kdd_sanity2\\activations\\acts_random500_4_dense_1 shape (10, 256)\n"
          ]
        },
        {
          "name": "stdout",
          "output_type": "stream",
          "text": [
            "INFO:tensorflow:Loaded ./tcav/tcav_examples/discrete/kdd_sanity2\\activations\\acts_normal._dense_1 shape (200, 256)\n"
          ]
        },
        {
          "name": "stderr",
          "output_type": "stream",
          "text": [
            "INFO:tensorflow:Loaded ./tcav/tcav_examples/discrete/kdd_sanity2\\activations\\acts_normal._dense_1 shape (200, 256)\n"
          ]
        },
        {
          "name": "stdout",
          "output_type": "stream",
          "text": [
            "INFO:tensorflow:CAV already exists: ./tcav/tcav_examples/discrete/kdd_sanity2\\cav\\random500_8-random500_4-dense_1-linear-0.01.pkl\n"
          ]
        },
        {
          "name": "stderr",
          "output_type": "stream",
          "text": [
            "INFO:tensorflow:CAV already exists: ./tcav/tcav_examples/discrete/kdd_sanity2\\cav\\random500_8-random500_4-dense_1-linear-0.01.pkl\n"
          ]
        },
        {
          "name": "stdout",
          "output_type": "stream",
          "text": [
            "INFO:tensorflow:CAV accuracies: {'random500_8': 0.5, 'random500_4': 0.3333333333333333, 'overall': 0.42857142857142855}\n"
          ]
        },
        {
          "name": "stderr",
          "output_type": "stream",
          "text": [
            "INFO:tensorflow:CAV accuracies: {'random500_8': 0.5, 'random500_4': 0.3333333333333333, 'overall': 0.42857142857142855}\n"
          ]
        },
        {
          "name": "stdout",
          "output_type": "stream",
          "text": [
            "INFO:tensorflow:Running param 207 of 220\n"
          ]
        },
        {
          "name": "stderr",
          "output_type": "stream",
          "text": [
            "INFO:tensorflow:Running param 207 of 220\n"
          ]
        },
        {
          "name": "stdout",
          "output_type": "stream",
          "text": [
            "INFO:tensorflow:running normal. ['random500_8', 'random500_5']\n"
          ]
        },
        {
          "name": "stderr",
          "output_type": "stream",
          "text": [
            "INFO:tensorflow:running normal. ['random500_8', 'random500_5']\n"
          ]
        },
        {
          "name": "stdout",
          "output_type": "stream",
          "text": [
            "INFO:tensorflow:Loaded ./tcav/tcav_examples/discrete/kdd_sanity2\\activations\\acts_random500_8_dense_1 shape (10, 256)\n"
          ]
        },
        {
          "name": "stderr",
          "output_type": "stream",
          "text": [
            "INFO:tensorflow:Loaded ./tcav/tcav_examples/discrete/kdd_sanity2\\activations\\acts_random500_8_dense_1 shape (10, 256)\n"
          ]
        },
        {
          "name": "stdout",
          "output_type": "stream",
          "text": [
            "INFO:tensorflow:Loaded ./tcav/tcav_examples/discrete/kdd_sanity2\\activations\\acts_random500_5_dense_1 shape (10, 256)\n"
          ]
        },
        {
          "name": "stderr",
          "output_type": "stream",
          "text": [
            "INFO:tensorflow:Loaded ./tcav/tcav_examples/discrete/kdd_sanity2\\activations\\acts_random500_5_dense_1 shape (10, 256)\n"
          ]
        },
        {
          "name": "stdout",
          "output_type": "stream",
          "text": [
            "INFO:tensorflow:Loaded ./tcav/tcav_examples/discrete/kdd_sanity2\\activations\\acts_normal._dense_1 shape (200, 256)\n"
          ]
        },
        {
          "name": "stderr",
          "output_type": "stream",
          "text": [
            "INFO:tensorflow:Loaded ./tcav/tcav_examples/discrete/kdd_sanity2\\activations\\acts_normal._dense_1 shape (200, 256)\n"
          ]
        },
        {
          "name": "stdout",
          "output_type": "stream",
          "text": [
            "INFO:tensorflow:CAV already exists: ./tcav/tcav_examples/discrete/kdd_sanity2\\cav\\random500_8-random500_5-dense_1-linear-0.01.pkl\n"
          ]
        },
        {
          "name": "stderr",
          "output_type": "stream",
          "text": [
            "INFO:tensorflow:CAV already exists: ./tcav/tcav_examples/discrete/kdd_sanity2\\cav\\random500_8-random500_5-dense_1-linear-0.01.pkl\n"
          ]
        },
        {
          "name": "stdout",
          "output_type": "stream",
          "text": [
            "INFO:tensorflow:CAV accuracies: {'random500_8': 0.25, 'random500_5': 0.3333333333333333, 'overall': 0.2857142857142857}\n"
          ]
        },
        {
          "name": "stderr",
          "output_type": "stream",
          "text": [
            "INFO:tensorflow:CAV accuracies: {'random500_8': 0.25, 'random500_5': 0.3333333333333333, 'overall': 0.2857142857142857}\n"
          ]
        },
        {
          "name": "stdout",
          "output_type": "stream",
          "text": [
            "INFO:tensorflow:Running param 208 of 220\n"
          ]
        },
        {
          "name": "stderr",
          "output_type": "stream",
          "text": [
            "INFO:tensorflow:Running param 208 of 220\n"
          ]
        },
        {
          "name": "stdout",
          "output_type": "stream",
          "text": [
            "INFO:tensorflow:running normal. ['random500_8', 'random500_6']\n"
          ]
        },
        {
          "name": "stderr",
          "output_type": "stream",
          "text": [
            "INFO:tensorflow:running normal. ['random500_8', 'random500_6']\n"
          ]
        },
        {
          "name": "stdout",
          "output_type": "stream",
          "text": [
            "INFO:tensorflow:Loaded ./tcav/tcav_examples/discrete/kdd_sanity2\\activations\\acts_random500_8_dense_1 shape (10, 256)\n"
          ]
        },
        {
          "name": "stderr",
          "output_type": "stream",
          "text": [
            "INFO:tensorflow:Loaded ./tcav/tcav_examples/discrete/kdd_sanity2\\activations\\acts_random500_8_dense_1 shape (10, 256)\n"
          ]
        },
        {
          "name": "stdout",
          "output_type": "stream",
          "text": [
            "INFO:tensorflow:Loaded ./tcav/tcav_examples/discrete/kdd_sanity2\\activations\\acts_random500_6_dense_1 shape (10, 256)\n"
          ]
        },
        {
          "name": "stderr",
          "output_type": "stream",
          "text": [
            "INFO:tensorflow:Loaded ./tcav/tcav_examples/discrete/kdd_sanity2\\activations\\acts_random500_6_dense_1 shape (10, 256)\n"
          ]
        },
        {
          "name": "stdout",
          "output_type": "stream",
          "text": [
            "INFO:tensorflow:Loaded ./tcav/tcav_examples/discrete/kdd_sanity2\\activations\\acts_normal._dense_1 shape (200, 256)\n"
          ]
        },
        {
          "name": "stderr",
          "output_type": "stream",
          "text": [
            "INFO:tensorflow:Loaded ./tcav/tcav_examples/discrete/kdd_sanity2\\activations\\acts_normal._dense_1 shape (200, 256)\n"
          ]
        },
        {
          "name": "stdout",
          "output_type": "stream",
          "text": [
            "INFO:tensorflow:CAV already exists: ./tcav/tcav_examples/discrete/kdd_sanity2\\cav\\random500_8-random500_6-dense_1-linear-0.01.pkl\n"
          ]
        },
        {
          "name": "stderr",
          "output_type": "stream",
          "text": [
            "INFO:tensorflow:CAV already exists: ./tcav/tcav_examples/discrete/kdd_sanity2\\cav\\random500_8-random500_6-dense_1-linear-0.01.pkl\n"
          ]
        },
        {
          "name": "stdout",
          "output_type": "stream",
          "text": [
            "INFO:tensorflow:CAV accuracies: {'random500_8': 0.0, 'random500_6': 1.0, 'overall': 0.42857142857142855}\n"
          ]
        },
        {
          "name": "stderr",
          "output_type": "stream",
          "text": [
            "INFO:tensorflow:CAV accuracies: {'random500_8': 0.0, 'random500_6': 1.0, 'overall': 0.42857142857142855}\n"
          ]
        },
        {
          "name": "stdout",
          "output_type": "stream",
          "text": [
            "INFO:tensorflow:Running param 209 of 220\n"
          ]
        },
        {
          "name": "stderr",
          "output_type": "stream",
          "text": [
            "INFO:tensorflow:Running param 209 of 220\n"
          ]
        },
        {
          "name": "stdout",
          "output_type": "stream",
          "text": [
            "INFO:tensorflow:running normal. ['random500_8', 'random500_7']\n"
          ]
        },
        {
          "name": "stderr",
          "output_type": "stream",
          "text": [
            "INFO:tensorflow:running normal. ['random500_8', 'random500_7']\n"
          ]
        },
        {
          "name": "stdout",
          "output_type": "stream",
          "text": [
            "INFO:tensorflow:Loaded ./tcav/tcav_examples/discrete/kdd_sanity2\\activations\\acts_random500_8_dense_1 shape (10, 256)\n"
          ]
        },
        {
          "name": "stderr",
          "output_type": "stream",
          "text": [
            "INFO:tensorflow:Loaded ./tcav/tcav_examples/discrete/kdd_sanity2\\activations\\acts_random500_8_dense_1 shape (10, 256)\n"
          ]
        },
        {
          "name": "stdout",
          "output_type": "stream",
          "text": [
            "INFO:tensorflow:Loaded ./tcav/tcav_examples/discrete/kdd_sanity2\\activations\\acts_random500_7_dense_1 shape (10, 256)\n"
          ]
        },
        {
          "name": "stderr",
          "output_type": "stream",
          "text": [
            "INFO:tensorflow:Loaded ./tcav/tcav_examples/discrete/kdd_sanity2\\activations\\acts_random500_7_dense_1 shape (10, 256)\n"
          ]
        },
        {
          "name": "stdout",
          "output_type": "stream",
          "text": [
            "INFO:tensorflow:Loaded ./tcav/tcav_examples/discrete/kdd_sanity2\\activations\\acts_normal._dense_1 shape (200, 256)\n"
          ]
        },
        {
          "name": "stderr",
          "output_type": "stream",
          "text": [
            "INFO:tensorflow:Loaded ./tcav/tcav_examples/discrete/kdd_sanity2\\activations\\acts_normal._dense_1 shape (200, 256)\n"
          ]
        },
        {
          "name": "stdout",
          "output_type": "stream",
          "text": [
            "INFO:tensorflow:CAV already exists: ./tcav/tcav_examples/discrete/kdd_sanity2\\cav\\random500_8-random500_7-dense_1-linear-0.01.pkl\n"
          ]
        },
        {
          "name": "stderr",
          "output_type": "stream",
          "text": [
            "INFO:tensorflow:CAV already exists: ./tcav/tcav_examples/discrete/kdd_sanity2\\cav\\random500_8-random500_7-dense_1-linear-0.01.pkl\n"
          ]
        },
        {
          "name": "stdout",
          "output_type": "stream",
          "text": [
            "INFO:tensorflow:CAV accuracies: {'random500_8': 1.0, 'random500_7': 0.0, 'overall': 0.5714285714285714}\n"
          ]
        },
        {
          "name": "stderr",
          "output_type": "stream",
          "text": [
            "INFO:tensorflow:CAV accuracies: {'random500_8': 1.0, 'random500_7': 0.0, 'overall': 0.5714285714285714}\n"
          ]
        },
        {
          "name": "stdout",
          "output_type": "stream",
          "text": [
            "INFO:tensorflow:Running param 210 of 220\n"
          ]
        },
        {
          "name": "stderr",
          "output_type": "stream",
          "text": [
            "INFO:tensorflow:Running param 210 of 220\n"
          ]
        },
        {
          "name": "stdout",
          "output_type": "stream",
          "text": [
            "INFO:tensorflow:running normal. ['random500_8', 'random500_9']\n"
          ]
        },
        {
          "name": "stderr",
          "output_type": "stream",
          "text": [
            "INFO:tensorflow:running normal. ['random500_8', 'random500_9']\n"
          ]
        },
        {
          "name": "stdout",
          "output_type": "stream",
          "text": [
            "INFO:tensorflow:Loaded ./tcav/tcav_examples/discrete/kdd_sanity2\\activations\\acts_random500_8_dense_1 shape (10, 256)\n"
          ]
        },
        {
          "name": "stderr",
          "output_type": "stream",
          "text": [
            "INFO:tensorflow:Loaded ./tcav/tcav_examples/discrete/kdd_sanity2\\activations\\acts_random500_8_dense_1 shape (10, 256)\n"
          ]
        },
        {
          "name": "stdout",
          "output_type": "stream",
          "text": [
            "INFO:tensorflow:Loaded ./tcav/tcav_examples/discrete/kdd_sanity2\\activations\\acts_random500_9_dense_1 shape (10, 256)\n"
          ]
        },
        {
          "name": "stderr",
          "output_type": "stream",
          "text": [
            "INFO:tensorflow:Loaded ./tcav/tcav_examples/discrete/kdd_sanity2\\activations\\acts_random500_9_dense_1 shape (10, 256)\n"
          ]
        },
        {
          "name": "stdout",
          "output_type": "stream",
          "text": [
            "INFO:tensorflow:Loaded ./tcav/tcav_examples/discrete/kdd_sanity2\\activations\\acts_normal._dense_1 shape (200, 256)\n"
          ]
        },
        {
          "name": "stderr",
          "output_type": "stream",
          "text": [
            "INFO:tensorflow:Loaded ./tcav/tcav_examples/discrete/kdd_sanity2\\activations\\acts_normal._dense_1 shape (200, 256)\n"
          ]
        },
        {
          "name": "stdout",
          "output_type": "stream",
          "text": [
            "INFO:tensorflow:CAV already exists: ./tcav/tcav_examples/discrete/kdd_sanity2\\cav\\random500_8-random500_9-dense_1-linear-0.01.pkl\n"
          ]
        },
        {
          "name": "stderr",
          "output_type": "stream",
          "text": [
            "INFO:tensorflow:CAV already exists: ./tcav/tcav_examples/discrete/kdd_sanity2\\cav\\random500_8-random500_9-dense_1-linear-0.01.pkl\n"
          ]
        },
        {
          "name": "stdout",
          "output_type": "stream",
          "text": [
            "INFO:tensorflow:CAV accuracies: {'random500_8': 0.0, 'random500_9': 0.75, 'overall': 0.42857142857142855}\n"
          ]
        },
        {
          "name": "stderr",
          "output_type": "stream",
          "text": [
            "INFO:tensorflow:CAV accuracies: {'random500_8': 0.0, 'random500_9': 0.75, 'overall': 0.42857142857142855}\n"
          ]
        },
        {
          "name": "stdout",
          "output_type": "stream",
          "text": [
            "INFO:tensorflow:Running param 211 of 220\n"
          ]
        },
        {
          "name": "stderr",
          "output_type": "stream",
          "text": [
            "INFO:tensorflow:Running param 211 of 220\n"
          ]
        },
        {
          "name": "stdout",
          "output_type": "stream",
          "text": [
            "INFO:tensorflow:running normal. ['random500_9', 'random500_0']\n"
          ]
        },
        {
          "name": "stderr",
          "output_type": "stream",
          "text": [
            "INFO:tensorflow:running normal. ['random500_9', 'random500_0']\n"
          ]
        },
        {
          "name": "stdout",
          "output_type": "stream",
          "text": [
            "INFO:tensorflow:Loaded ./tcav/tcav_examples/discrete/kdd_sanity2\\activations\\acts_random500_9_dense_1 shape (10, 256)\n"
          ]
        },
        {
          "name": "stderr",
          "output_type": "stream",
          "text": [
            "INFO:tensorflow:Loaded ./tcav/tcav_examples/discrete/kdd_sanity2\\activations\\acts_random500_9_dense_1 shape (10, 256)\n"
          ]
        },
        {
          "name": "stdout",
          "output_type": "stream",
          "text": [
            "INFO:tensorflow:Loaded ./tcav/tcav_examples/discrete/kdd_sanity2\\activations\\acts_random500_0_dense_1 shape (10, 256)\n"
          ]
        },
        {
          "name": "stderr",
          "output_type": "stream",
          "text": [
            "INFO:tensorflow:Loaded ./tcav/tcav_examples/discrete/kdd_sanity2\\activations\\acts_random500_0_dense_1 shape (10, 256)\n"
          ]
        },
        {
          "name": "stdout",
          "output_type": "stream",
          "text": [
            "INFO:tensorflow:Loaded ./tcav/tcav_examples/discrete/kdd_sanity2\\activations\\acts_normal._dense_1 shape (200, 256)\n"
          ]
        },
        {
          "name": "stderr",
          "output_type": "stream",
          "text": [
            "INFO:tensorflow:Loaded ./tcav/tcav_examples/discrete/kdd_sanity2\\activations\\acts_normal._dense_1 shape (200, 256)\n"
          ]
        },
        {
          "name": "stdout",
          "output_type": "stream",
          "text": [
            "INFO:tensorflow:CAV already exists: ./tcav/tcav_examples/discrete/kdd_sanity2\\cav\\random500_9-random500_0-dense_1-linear-0.01.pkl\n"
          ]
        },
        {
          "name": "stderr",
          "output_type": "stream",
          "text": [
            "INFO:tensorflow:CAV already exists: ./tcav/tcav_examples/discrete/kdd_sanity2\\cav\\random500_9-random500_0-dense_1-linear-0.01.pkl\n"
          ]
        },
        {
          "name": "stdout",
          "output_type": "stream",
          "text": [
            "INFO:tensorflow:CAV accuracies: {'random500_9': 1.0, 'random500_0': 0.75, 'overall': 0.8571428571428571}\n"
          ]
        },
        {
          "name": "stderr",
          "output_type": "stream",
          "text": [
            "INFO:tensorflow:CAV accuracies: {'random500_9': 1.0, 'random500_0': 0.75, 'overall': 0.8571428571428571}\n"
          ]
        },
        {
          "name": "stdout",
          "output_type": "stream",
          "text": [
            "INFO:tensorflow:Running param 212 of 220\n"
          ]
        },
        {
          "name": "stderr",
          "output_type": "stream",
          "text": [
            "INFO:tensorflow:Running param 212 of 220\n"
          ]
        },
        {
          "name": "stdout",
          "output_type": "stream",
          "text": [
            "INFO:tensorflow:running normal. ['random500_9', 'random500_1']\n"
          ]
        },
        {
          "name": "stderr",
          "output_type": "stream",
          "text": [
            "INFO:tensorflow:running normal. ['random500_9', 'random500_1']\n"
          ]
        },
        {
          "name": "stdout",
          "output_type": "stream",
          "text": [
            "INFO:tensorflow:Loaded ./tcav/tcav_examples/discrete/kdd_sanity2\\activations\\acts_random500_9_dense_1 shape (10, 256)\n"
          ]
        },
        {
          "name": "stderr",
          "output_type": "stream",
          "text": [
            "INFO:tensorflow:Loaded ./tcav/tcav_examples/discrete/kdd_sanity2\\activations\\acts_random500_9_dense_1 shape (10, 256)\n"
          ]
        },
        {
          "name": "stdout",
          "output_type": "stream",
          "text": [
            "INFO:tensorflow:Loaded ./tcav/tcav_examples/discrete/kdd_sanity2\\activations\\acts_random500_1_dense_1 shape (10, 256)\n"
          ]
        },
        {
          "name": "stderr",
          "output_type": "stream",
          "text": [
            "INFO:tensorflow:Loaded ./tcav/tcav_examples/discrete/kdd_sanity2\\activations\\acts_random500_1_dense_1 shape (10, 256)\n"
          ]
        },
        {
          "name": "stdout",
          "output_type": "stream",
          "text": [
            "INFO:tensorflow:Loaded ./tcav/tcav_examples/discrete/kdd_sanity2\\activations\\acts_normal._dense_1 shape (200, 256)\n"
          ]
        },
        {
          "name": "stderr",
          "output_type": "stream",
          "text": [
            "INFO:tensorflow:Loaded ./tcav/tcav_examples/discrete/kdd_sanity2\\activations\\acts_normal._dense_1 shape (200, 256)\n"
          ]
        },
        {
          "name": "stdout",
          "output_type": "stream",
          "text": [
            "INFO:tensorflow:CAV already exists: ./tcav/tcav_examples/discrete/kdd_sanity2\\cav\\random500_9-random500_1-dense_1-linear-0.01.pkl\n"
          ]
        },
        {
          "name": "stderr",
          "output_type": "stream",
          "text": [
            "INFO:tensorflow:CAV already exists: ./tcav/tcav_examples/discrete/kdd_sanity2\\cav\\random500_9-random500_1-dense_1-linear-0.01.pkl\n"
          ]
        },
        {
          "name": "stdout",
          "output_type": "stream",
          "text": [
            "INFO:tensorflow:CAV accuracies: {'random500_9': 0.5, 'random500_1': 0.3333333333333333, 'overall': 0.42857142857142855}\n"
          ]
        },
        {
          "name": "stderr",
          "output_type": "stream",
          "text": [
            "INFO:tensorflow:CAV accuracies: {'random500_9': 0.5, 'random500_1': 0.3333333333333333, 'overall': 0.42857142857142855}\n"
          ]
        },
        {
          "name": "stdout",
          "output_type": "stream",
          "text": [
            "INFO:tensorflow:Running param 213 of 220\n"
          ]
        },
        {
          "name": "stderr",
          "output_type": "stream",
          "text": [
            "INFO:tensorflow:Running param 213 of 220\n"
          ]
        },
        {
          "name": "stdout",
          "output_type": "stream",
          "text": [
            "INFO:tensorflow:running normal. ['random500_9', 'random500_2']\n"
          ]
        },
        {
          "name": "stderr",
          "output_type": "stream",
          "text": [
            "INFO:tensorflow:running normal. ['random500_9', 'random500_2']\n"
          ]
        },
        {
          "name": "stdout",
          "output_type": "stream",
          "text": [
            "INFO:tensorflow:Loaded ./tcav/tcav_examples/discrete/kdd_sanity2\\activations\\acts_random500_9_dense_1 shape (10, 256)\n"
          ]
        },
        {
          "name": "stderr",
          "output_type": "stream",
          "text": [
            "INFO:tensorflow:Loaded ./tcav/tcav_examples/discrete/kdd_sanity2\\activations\\acts_random500_9_dense_1 shape (10, 256)\n"
          ]
        },
        {
          "name": "stdout",
          "output_type": "stream",
          "text": [
            "INFO:tensorflow:Loaded ./tcav/tcav_examples/discrete/kdd_sanity2\\activations\\acts_random500_2_dense_1 shape (10, 256)\n"
          ]
        },
        {
          "name": "stderr",
          "output_type": "stream",
          "text": [
            "INFO:tensorflow:Loaded ./tcav/tcav_examples/discrete/kdd_sanity2\\activations\\acts_random500_2_dense_1 shape (10, 256)\n"
          ]
        },
        {
          "name": "stdout",
          "output_type": "stream",
          "text": [
            "INFO:tensorflow:Loaded ./tcav/tcav_examples/discrete/kdd_sanity2\\activations\\acts_normal._dense_1 shape (200, 256)\n"
          ]
        },
        {
          "name": "stderr",
          "output_type": "stream",
          "text": [
            "INFO:tensorflow:Loaded ./tcav/tcav_examples/discrete/kdd_sanity2\\activations\\acts_normal._dense_1 shape (200, 256)\n"
          ]
        },
        {
          "name": "stdout",
          "output_type": "stream",
          "text": [
            "INFO:tensorflow:CAV already exists: ./tcav/tcav_examples/discrete/kdd_sanity2\\cav\\random500_9-random500_2-dense_1-linear-0.01.pkl\n"
          ]
        },
        {
          "name": "stderr",
          "output_type": "stream",
          "text": [
            "INFO:tensorflow:CAV already exists: ./tcav/tcav_examples/discrete/kdd_sanity2\\cav\\random500_9-random500_2-dense_1-linear-0.01.pkl\n"
          ]
        },
        {
          "name": "stdout",
          "output_type": "stream",
          "text": [
            "INFO:tensorflow:CAV accuracies: {'random500_9': 0.5, 'random500_2': 1.0, 'overall': 0.7142857142857143}\n"
          ]
        },
        {
          "name": "stderr",
          "output_type": "stream",
          "text": [
            "INFO:tensorflow:CAV accuracies: {'random500_9': 0.5, 'random500_2': 1.0, 'overall': 0.7142857142857143}\n"
          ]
        },
        {
          "name": "stdout",
          "output_type": "stream",
          "text": [
            "INFO:tensorflow:Running param 214 of 220\n"
          ]
        },
        {
          "name": "stderr",
          "output_type": "stream",
          "text": [
            "INFO:tensorflow:Running param 214 of 220\n"
          ]
        },
        {
          "name": "stdout",
          "output_type": "stream",
          "text": [
            "INFO:tensorflow:running normal. ['random500_9', 'random500_3']\n"
          ]
        },
        {
          "name": "stderr",
          "output_type": "stream",
          "text": [
            "INFO:tensorflow:running normal. ['random500_9', 'random500_3']\n"
          ]
        },
        {
          "name": "stdout",
          "output_type": "stream",
          "text": [
            "INFO:tensorflow:Loaded ./tcav/tcav_examples/discrete/kdd_sanity2\\activations\\acts_random500_9_dense_1 shape (10, 256)\n"
          ]
        },
        {
          "name": "stderr",
          "output_type": "stream",
          "text": [
            "INFO:tensorflow:Loaded ./tcav/tcav_examples/discrete/kdd_sanity2\\activations\\acts_random500_9_dense_1 shape (10, 256)\n"
          ]
        },
        {
          "name": "stdout",
          "output_type": "stream",
          "text": [
            "INFO:tensorflow:Loaded ./tcav/tcav_examples/discrete/kdd_sanity2\\activations\\acts_random500_3_dense_1 shape (10, 256)\n"
          ]
        },
        {
          "name": "stderr",
          "output_type": "stream",
          "text": [
            "INFO:tensorflow:Loaded ./tcav/tcav_examples/discrete/kdd_sanity2\\activations\\acts_random500_3_dense_1 shape (10, 256)\n"
          ]
        },
        {
          "name": "stdout",
          "output_type": "stream",
          "text": [
            "INFO:tensorflow:Loaded ./tcav/tcav_examples/discrete/kdd_sanity2\\activations\\acts_normal._dense_1 shape (200, 256)\n"
          ]
        },
        {
          "name": "stderr",
          "output_type": "stream",
          "text": [
            "INFO:tensorflow:Loaded ./tcav/tcav_examples/discrete/kdd_sanity2\\activations\\acts_normal._dense_1 shape (200, 256)\n"
          ]
        },
        {
          "name": "stdout",
          "output_type": "stream",
          "text": [
            "INFO:tensorflow:CAV already exists: ./tcav/tcav_examples/discrete/kdd_sanity2\\cav\\random500_9-random500_3-dense_1-linear-0.01.pkl\n"
          ]
        },
        {
          "name": "stderr",
          "output_type": "stream",
          "text": [
            "INFO:tensorflow:CAV already exists: ./tcav/tcav_examples/discrete/kdd_sanity2\\cav\\random500_9-random500_3-dense_1-linear-0.01.pkl\n"
          ]
        },
        {
          "name": "stdout",
          "output_type": "stream",
          "text": [
            "INFO:tensorflow:CAV accuracies: {'random500_9': 0.75, 'random500_3': 0.6666666666666666, 'overall': 0.7142857142857143}\n"
          ]
        },
        {
          "name": "stderr",
          "output_type": "stream",
          "text": [
            "INFO:tensorflow:CAV accuracies: {'random500_9': 0.75, 'random500_3': 0.6666666666666666, 'overall': 0.7142857142857143}\n"
          ]
        },
        {
          "name": "stdout",
          "output_type": "stream",
          "text": [
            "INFO:tensorflow:Running param 215 of 220\n"
          ]
        },
        {
          "name": "stderr",
          "output_type": "stream",
          "text": [
            "INFO:tensorflow:Running param 215 of 220\n"
          ]
        },
        {
          "name": "stdout",
          "output_type": "stream",
          "text": [
            "INFO:tensorflow:running normal. ['random500_9', 'random500_4']\n"
          ]
        },
        {
          "name": "stderr",
          "output_type": "stream",
          "text": [
            "INFO:tensorflow:running normal. ['random500_9', 'random500_4']\n"
          ]
        },
        {
          "name": "stdout",
          "output_type": "stream",
          "text": [
            "INFO:tensorflow:Loaded ./tcav/tcav_examples/discrete/kdd_sanity2\\activations\\acts_random500_9_dense_1 shape (10, 256)\n"
          ]
        },
        {
          "name": "stderr",
          "output_type": "stream",
          "text": [
            "INFO:tensorflow:Loaded ./tcav/tcav_examples/discrete/kdd_sanity2\\activations\\acts_random500_9_dense_1 shape (10, 256)\n"
          ]
        },
        {
          "name": "stdout",
          "output_type": "stream",
          "text": [
            "INFO:tensorflow:Loaded ./tcav/tcav_examples/discrete/kdd_sanity2\\activations\\acts_random500_4_dense_1 shape (10, 256)\n"
          ]
        },
        {
          "name": "stderr",
          "output_type": "stream",
          "text": [
            "INFO:tensorflow:Loaded ./tcav/tcav_examples/discrete/kdd_sanity2\\activations\\acts_random500_4_dense_1 shape (10, 256)\n"
          ]
        },
        {
          "name": "stdout",
          "output_type": "stream",
          "text": [
            "INFO:tensorflow:Loaded ./tcav/tcav_examples/discrete/kdd_sanity2\\activations\\acts_normal._dense_1 shape (200, 256)\n"
          ]
        },
        {
          "name": "stderr",
          "output_type": "stream",
          "text": [
            "INFO:tensorflow:Loaded ./tcav/tcav_examples/discrete/kdd_sanity2\\activations\\acts_normal._dense_1 shape (200, 256)\n"
          ]
        },
        {
          "name": "stdout",
          "output_type": "stream",
          "text": [
            "INFO:tensorflow:CAV already exists: ./tcav/tcav_examples/discrete/kdd_sanity2\\cav\\random500_9-random500_4-dense_1-linear-0.01.pkl\n"
          ]
        },
        {
          "name": "stderr",
          "output_type": "stream",
          "text": [
            "INFO:tensorflow:CAV already exists: ./tcav/tcav_examples/discrete/kdd_sanity2\\cav\\random500_9-random500_4-dense_1-linear-0.01.pkl\n"
          ]
        },
        {
          "name": "stdout",
          "output_type": "stream",
          "text": [
            "INFO:tensorflow:CAV accuracies: {'random500_9': 1.0, 'random500_4': 0.75, 'overall': 0.8571428571428571}\n"
          ]
        },
        {
          "name": "stderr",
          "output_type": "stream",
          "text": [
            "INFO:tensorflow:CAV accuracies: {'random500_9': 1.0, 'random500_4': 0.75, 'overall': 0.8571428571428571}\n"
          ]
        },
        {
          "name": "stdout",
          "output_type": "stream",
          "text": [
            "INFO:tensorflow:Running param 216 of 220\n"
          ]
        },
        {
          "name": "stderr",
          "output_type": "stream",
          "text": [
            "INFO:tensorflow:Running param 216 of 220\n"
          ]
        },
        {
          "name": "stdout",
          "output_type": "stream",
          "text": [
            "INFO:tensorflow:running normal. ['random500_9', 'random500_5']\n"
          ]
        },
        {
          "name": "stderr",
          "output_type": "stream",
          "text": [
            "INFO:tensorflow:running normal. ['random500_9', 'random500_5']\n"
          ]
        },
        {
          "name": "stdout",
          "output_type": "stream",
          "text": [
            "INFO:tensorflow:Loaded ./tcav/tcav_examples/discrete/kdd_sanity2\\activations\\acts_random500_9_dense_1 shape (10, 256)\n"
          ]
        },
        {
          "name": "stderr",
          "output_type": "stream",
          "text": [
            "INFO:tensorflow:Loaded ./tcav/tcav_examples/discrete/kdd_sanity2\\activations\\acts_random500_9_dense_1 shape (10, 256)\n"
          ]
        },
        {
          "name": "stdout",
          "output_type": "stream",
          "text": [
            "INFO:tensorflow:Loaded ./tcav/tcav_examples/discrete/kdd_sanity2\\activations\\acts_random500_5_dense_1 shape (10, 256)\n"
          ]
        },
        {
          "name": "stderr",
          "output_type": "stream",
          "text": [
            "INFO:tensorflow:Loaded ./tcav/tcav_examples/discrete/kdd_sanity2\\activations\\acts_random500_5_dense_1 shape (10, 256)\n"
          ]
        },
        {
          "name": "stdout",
          "output_type": "stream",
          "text": [
            "INFO:tensorflow:Loaded ./tcav/tcav_examples/discrete/kdd_sanity2\\activations\\acts_normal._dense_1 shape (200, 256)\n"
          ]
        },
        {
          "name": "stderr",
          "output_type": "stream",
          "text": [
            "INFO:tensorflow:Loaded ./tcav/tcav_examples/discrete/kdd_sanity2\\activations\\acts_normal._dense_1 shape (200, 256)\n"
          ]
        },
        {
          "name": "stdout",
          "output_type": "stream",
          "text": [
            "INFO:tensorflow:CAV already exists: ./tcav/tcav_examples/discrete/kdd_sanity2\\cav\\random500_9-random500_5-dense_1-linear-0.01.pkl\n"
          ]
        },
        {
          "name": "stderr",
          "output_type": "stream",
          "text": [
            "INFO:tensorflow:CAV already exists: ./tcav/tcav_examples/discrete/kdd_sanity2\\cav\\random500_9-random500_5-dense_1-linear-0.01.pkl\n"
          ]
        },
        {
          "name": "stdout",
          "output_type": "stream",
          "text": [
            "INFO:tensorflow:CAV accuracies: {'random500_9': 0.6666666666666666, 'random500_5': 0.75, 'overall': 0.7142857142857143}\n"
          ]
        },
        {
          "name": "stderr",
          "output_type": "stream",
          "text": [
            "INFO:tensorflow:CAV accuracies: {'random500_9': 0.6666666666666666, 'random500_5': 0.75, 'overall': 0.7142857142857143}\n"
          ]
        },
        {
          "name": "stdout",
          "output_type": "stream",
          "text": [
            "INFO:tensorflow:Running param 217 of 220\n"
          ]
        },
        {
          "name": "stderr",
          "output_type": "stream",
          "text": [
            "INFO:tensorflow:Running param 217 of 220\n"
          ]
        },
        {
          "name": "stdout",
          "output_type": "stream",
          "text": [
            "INFO:tensorflow:running normal. ['random500_9', 'random500_6']\n"
          ]
        },
        {
          "name": "stderr",
          "output_type": "stream",
          "text": [
            "INFO:tensorflow:running normal. ['random500_9', 'random500_6']\n"
          ]
        },
        {
          "name": "stdout",
          "output_type": "stream",
          "text": [
            "INFO:tensorflow:Loaded ./tcav/tcav_examples/discrete/kdd_sanity2\\activations\\acts_random500_9_dense_1 shape (10, 256)\n"
          ]
        },
        {
          "name": "stderr",
          "output_type": "stream",
          "text": [
            "INFO:tensorflow:Loaded ./tcav/tcav_examples/discrete/kdd_sanity2\\activations\\acts_random500_9_dense_1 shape (10, 256)\n"
          ]
        },
        {
          "name": "stdout",
          "output_type": "stream",
          "text": [
            "INFO:tensorflow:Loaded ./tcav/tcav_examples/discrete/kdd_sanity2\\activations\\acts_random500_6_dense_1 shape (10, 256)\n"
          ]
        },
        {
          "name": "stderr",
          "output_type": "stream",
          "text": [
            "INFO:tensorflow:Loaded ./tcav/tcav_examples/discrete/kdd_sanity2\\activations\\acts_random500_6_dense_1 shape (10, 256)\n"
          ]
        },
        {
          "name": "stdout",
          "output_type": "stream",
          "text": [
            "INFO:tensorflow:Loaded ./tcav/tcav_examples/discrete/kdd_sanity2\\activations\\acts_normal._dense_1 shape (200, 256)\n"
          ]
        },
        {
          "name": "stderr",
          "output_type": "stream",
          "text": [
            "INFO:tensorflow:Loaded ./tcav/tcav_examples/discrete/kdd_sanity2\\activations\\acts_normal._dense_1 shape (200, 256)\n"
          ]
        },
        {
          "name": "stdout",
          "output_type": "stream",
          "text": [
            "INFO:tensorflow:CAV already exists: ./tcav/tcav_examples/discrete/kdd_sanity2\\cav\\random500_9-random500_6-dense_1-linear-0.01.pkl\n"
          ]
        },
        {
          "name": "stderr",
          "output_type": "stream",
          "text": [
            "INFO:tensorflow:CAV already exists: ./tcav/tcav_examples/discrete/kdd_sanity2\\cav\\random500_9-random500_6-dense_1-linear-0.01.pkl\n"
          ]
        },
        {
          "name": "stdout",
          "output_type": "stream",
          "text": [
            "INFO:tensorflow:CAV accuracies: {'random500_9': 1.0, 'random500_6': 0.5, 'overall': 0.7142857142857143}\n"
          ]
        },
        {
          "name": "stderr",
          "output_type": "stream",
          "text": [
            "INFO:tensorflow:CAV accuracies: {'random500_9': 1.0, 'random500_6': 0.5, 'overall': 0.7142857142857143}\n"
          ]
        },
        {
          "name": "stdout",
          "output_type": "stream",
          "text": [
            "INFO:tensorflow:Running param 218 of 220\n"
          ]
        },
        {
          "name": "stderr",
          "output_type": "stream",
          "text": [
            "INFO:tensorflow:Running param 218 of 220\n"
          ]
        },
        {
          "name": "stdout",
          "output_type": "stream",
          "text": [
            "INFO:tensorflow:running normal. ['random500_9', 'random500_7']\n"
          ]
        },
        {
          "name": "stderr",
          "output_type": "stream",
          "text": [
            "INFO:tensorflow:running normal. ['random500_9', 'random500_7']\n"
          ]
        },
        {
          "name": "stdout",
          "output_type": "stream",
          "text": [
            "INFO:tensorflow:Loaded ./tcav/tcav_examples/discrete/kdd_sanity2\\activations\\acts_random500_9_dense_1 shape (10, 256)\n"
          ]
        },
        {
          "name": "stderr",
          "output_type": "stream",
          "text": [
            "INFO:tensorflow:Loaded ./tcav/tcav_examples/discrete/kdd_sanity2\\activations\\acts_random500_9_dense_1 shape (10, 256)\n"
          ]
        },
        {
          "name": "stdout",
          "output_type": "stream",
          "text": [
            "INFO:tensorflow:Loaded ./tcav/tcav_examples/discrete/kdd_sanity2\\activations\\acts_random500_7_dense_1 shape (10, 256)\n"
          ]
        },
        {
          "name": "stderr",
          "output_type": "stream",
          "text": [
            "INFO:tensorflow:Loaded ./tcav/tcav_examples/discrete/kdd_sanity2\\activations\\acts_random500_7_dense_1 shape (10, 256)\n"
          ]
        },
        {
          "name": "stdout",
          "output_type": "stream",
          "text": [
            "INFO:tensorflow:Loaded ./tcav/tcav_examples/discrete/kdd_sanity2\\activations\\acts_normal._dense_1 shape (200, 256)\n"
          ]
        },
        {
          "name": "stderr",
          "output_type": "stream",
          "text": [
            "INFO:tensorflow:Loaded ./tcav/tcav_examples/discrete/kdd_sanity2\\activations\\acts_normal._dense_1 shape (200, 256)\n"
          ]
        },
        {
          "name": "stdout",
          "output_type": "stream",
          "text": [
            "INFO:tensorflow:CAV already exists: ./tcav/tcav_examples/discrete/kdd_sanity2\\cav\\random500_9-random500_7-dense_1-linear-0.01.pkl\n"
          ]
        },
        {
          "name": "stderr",
          "output_type": "stream",
          "text": [
            "INFO:tensorflow:CAV already exists: ./tcav/tcav_examples/discrete/kdd_sanity2\\cav\\random500_9-random500_7-dense_1-linear-0.01.pkl\n"
          ]
        },
        {
          "name": "stdout",
          "output_type": "stream",
          "text": [
            "INFO:tensorflow:CAV accuracies: {'random500_9': 0.25, 'random500_7': 1.0, 'overall': 0.5714285714285714}\n"
          ]
        },
        {
          "name": "stderr",
          "output_type": "stream",
          "text": [
            "INFO:tensorflow:CAV accuracies: {'random500_9': 0.25, 'random500_7': 1.0, 'overall': 0.5714285714285714}\n"
          ]
        },
        {
          "name": "stdout",
          "output_type": "stream",
          "text": [
            "INFO:tensorflow:Running param 219 of 220\n"
          ]
        },
        {
          "name": "stderr",
          "output_type": "stream",
          "text": [
            "INFO:tensorflow:Running param 219 of 220\n"
          ]
        },
        {
          "name": "stdout",
          "output_type": "stream",
          "text": [
            "INFO:tensorflow:running normal. ['random500_9', 'random500_8']\n"
          ]
        },
        {
          "name": "stderr",
          "output_type": "stream",
          "text": [
            "INFO:tensorflow:running normal. ['random500_9', 'random500_8']\n"
          ]
        },
        {
          "name": "stdout",
          "output_type": "stream",
          "text": [
            "INFO:tensorflow:Loaded ./tcav/tcav_examples/discrete/kdd_sanity2\\activations\\acts_random500_9_dense_1 shape (10, 256)\n"
          ]
        },
        {
          "name": "stderr",
          "output_type": "stream",
          "text": [
            "INFO:tensorflow:Loaded ./tcav/tcav_examples/discrete/kdd_sanity2\\activations\\acts_random500_9_dense_1 shape (10, 256)\n"
          ]
        },
        {
          "name": "stdout",
          "output_type": "stream",
          "text": [
            "INFO:tensorflow:Loaded ./tcav/tcav_examples/discrete/kdd_sanity2\\activations\\acts_random500_8_dense_1 shape (10, 256)\n"
          ]
        },
        {
          "name": "stderr",
          "output_type": "stream",
          "text": [
            "INFO:tensorflow:Loaded ./tcav/tcav_examples/discrete/kdd_sanity2\\activations\\acts_random500_8_dense_1 shape (10, 256)\n"
          ]
        },
        {
          "name": "stdout",
          "output_type": "stream",
          "text": [
            "INFO:tensorflow:Loaded ./tcav/tcav_examples/discrete/kdd_sanity2\\activations\\acts_normal._dense_1 shape (200, 256)\n"
          ]
        },
        {
          "name": "stderr",
          "output_type": "stream",
          "text": [
            "INFO:tensorflow:Loaded ./tcav/tcav_examples/discrete/kdd_sanity2\\activations\\acts_normal._dense_1 shape (200, 256)\n"
          ]
        },
        {
          "name": "stdout",
          "output_type": "stream",
          "text": [
            "INFO:tensorflow:CAV already exists: ./tcav/tcav_examples/discrete/kdd_sanity2\\cav\\random500_9-random500_8-dense_1-linear-0.01.pkl\n"
          ]
        },
        {
          "name": "stderr",
          "output_type": "stream",
          "text": [
            "INFO:tensorflow:CAV already exists: ./tcav/tcav_examples/discrete/kdd_sanity2\\cav\\random500_9-random500_8-dense_1-linear-0.01.pkl\n"
          ]
        },
        {
          "name": "stdout",
          "output_type": "stream",
          "text": [
            "INFO:tensorflow:CAV accuracies: {'random500_9': 0.0, 'random500_8': 1.0, 'overall': 0.5714285714285714}\n"
          ]
        },
        {
          "name": "stderr",
          "output_type": "stream",
          "text": [
            "INFO:tensorflow:CAV accuracies: {'random500_9': 0.0, 'random500_8': 1.0, 'overall': 0.5714285714285714}\n"
          ]
        },
        {
          "name": "stdout",
          "output_type": "stream",
          "text": [
            "INFO:tensorflow:Done running 220 params. Took 231.57821893692017 seconds...\n"
          ]
        },
        {
          "name": "stderr",
          "output_type": "stream",
          "text": [
            "INFO:tensorflow:Done running 220 params. Took 231.57821893692017 seconds...\n"
          ]
        }
      ],
      "source": [
        "from tcav.utils import create_session\n",
        "import tcav.utils_plot as utils_plot # utils_plot requires matplotlib\n",
        "from tcav.tcav import TCAV\n",
        "import absl\n",
        "absl.logging.set_verbosity(0)\n",
        "\n",
        "target = \"normal.\"\n",
        "bottlenecks = [\"dense\", \"dense_1\" ]\n",
        "concepts = [\"dst_host_same_src_port_rate_less_than_one\", \"dst_host_same_src_port_rate_more_than_one\"]\n",
        "alphas = [0.01]\n",
        "\n",
        "\n",
        "\n",
        "my_tcav = TCAV(create_session,\n",
        "                   target,\n",
        "                   concepts,\n",
        "                   bottlenecks,\n",
        "                   act_gen,\n",
        "                   alphas,\n",
        "                   cav_dir=cav_dir,\n",
        "                   num_random_exp=10)\n",
        "\n",
        "\n",
        "results = my_tcav.run()\n"
      ]
    },
    {
      "cell_type": "code",
      "execution_count": 7,
      "metadata": {
        "id": "D0PHkt5DYZJ3",
        "outputId": "e1740ca8-0300-4e00-a99f-19897468e68f"
      },
      "outputs": [
        {
          "name": "stdout",
          "output_type": "stream",
          "text": [
            "Class = normal.\n",
            "  Concept = dst_host_same_src_port_rate_less_than_one\n",
            "    Bottleneck = dense. TCAV Score = 0.01 (+- 0.01), random was 0.46 (+- 0.46). p-val = 0.003 (significant)\n",
            "    Bottleneck = dense_1. TCAV Score = 0.60 (+- 0.49), random was 0.47 (+- 0.50). p-val = 0.428 (not significant)\n",
            "  Concept = dst_host_same_src_port_rate_more_than_one\n",
            "    Bottleneck = dense. TCAV Score = 0.21 (+- 0.37), random was 0.46 (+- 0.46). p-val = 0.104 (not significant)\n",
            "    Bottleneck = dense_1. TCAV Score = 0.90 (+- 0.30), random was 0.47 (+- 0.50). p-val = 0.009 (significant)\n",
            "{'dense': {'bn_vals': [0.009, 0.01], 'bn_stds': [0.011999999999999999, 0], 'significant': [True, False]}, 'dense_1': {'bn_vals': [0.01, 0.9], 'bn_stds': [0, 0.30000000000000004], 'significant': [False, True]}}\n"
          ]
        },
        {
          "data": {
            "image/png": "[encoded data removed]",
            "text/plain": [
              "<Figure size 640x480 with 1 Axes>"
            ]
          },
          "metadata": {},
          "output_type": "display_data"
        }
      ],
      "source": [
        "utils_plot.plot_results(results, num_random_exp=10)"
      ]
    }
  ],
  "metadata": {
    "colab": {
      "name": "kdd99_discrete_example.ipynb",
      "provenance": []
    },
    "kernelspec": {
      "display_name": "Python 3.9.12 ('tcav_env')",
      "language": "python",
      "name": "python3"
    },
    "language_info": {
      "codemirror_mode": {
        "name": "ipython",
        "version": 3
      },
      "file_extension": ".py",
      "mimetype": "text/x-python",
      "name": "python",
      "nbconvert_exporter": "python",
      "pygments_lexer": "ipython3",
      "version": "3.9.13"
    },
    "pycharm": {
      "stem_cell": {
        "cell_type": "raw",
        "metadata": {
          "collapsed": false
        },
        "source": []
      }
    },
    "vscode": {
      "interpreter": {
        "hash": "6cecfd7a52161594c6f4d6b06c0245b5ecd2f50cf3e123a3cb7d8e14eacf2956"
      }
    }
  },
  "nbformat": 4,
  "nbformat_minor": 0
}
