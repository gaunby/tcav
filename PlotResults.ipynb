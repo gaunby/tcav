{
 "cells": [
  {
   "cell_type": "code",
   "execution_count": null,
   "metadata": {},
   "outputs": [],
   "source": [
    "import pickle\n",
    "import tcav.utils_plot as utils_plot \n",
    "import os\n",
    "\n",
    "print(os.getcwd())"
   ]
  },
  {
   "cell_type": "code",
   "execution_count": null,
   "metadata": {},
   "outputs": [],
   "source": [
    "name = 'results_pickle/results_zebra_50010.pkl'\n",
    "# 'results_pickle/results_zebra_50010.pkl' \n",
    "# 'results_pickle/results_zebra_505.pkl'\n",
    "# 'results_pickle/result_random500_100_to_102.pkl'\n",
    "\n",
    "with open(name, 'rb') as f:\n",
    "    data = pickle.load(f)"
   ]
  },
  {
   "cell_type": "code",
   "execution_count": null,
   "metadata": {},
   "outputs": [],
   "source": [
    "t_test_mean = 0.5 # None # if value given this will be a 1 sample t-test\n",
    "bonferroni_nr = 27\n",
    "alternative = 'two-sided' # 'less' # 'greater' \n",
    "utils_plot.plot_results(data, num_random_exp=10, plot_hist = False,min_p_val=0.05, bonferroni_nr = bonferroni_nr,\n",
    "alternative = alternative, t_test_mean = t_test_mean )"
   ]
  }
 ],
 "metadata": {
  "kernelspec": {
   "display_name": "Python 3.6.8 64-bit",
   "language": "python",
   "name": "python3"
  },
  "language_info": {
   "name": "python",
   "version": "3.6.8"
  },
  "orig_nbformat": 4,
  "vscode": {
   "interpreter": {
    "hash": "31f2aee4e71d21fbe5cf8b01ff0e069b9275f58929596ceb00d14d90e3e16cd6"
   }
  }
 },
 "nbformat": 4,
 "nbformat_minor": 2
}
