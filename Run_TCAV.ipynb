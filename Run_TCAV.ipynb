{
  "cells": [
    {
      "cell_type": "markdown",
      "metadata": {
        "id": "v88fM4ciYYde"
      },
      "source": [
        "# Running TCAV"
      ]
    },
    {
      "cell_type": "markdown",
      "metadata": {
        "id": "5-RlU8wNYYdj"
      },
      "source": [
        "This notebook walks you through an example application of the TCAV library step-by-step to understand which human interpretable concepts (e.g. stripes, dots, zigzags) are important to the image classifier GoogleNet's (a.k.a. Inception v1) prediction of Zebras."
      ]
    },
    {
      "cell_type": "markdown",
      "metadata": {
        "id": "J1zIj8-aYYdj"
      },
      "source": [
        "## Install required packages\n",
        "\n",
        "To run through this notebook in the interim, you are encouraged to utilize a `virtualenv` or `conda` environment for installing and working with the required packages to avoid any dependency and compatability issues with different versions of packages."
      ]
    },
    {
      "cell_type": "code",
      "execution_count": 1,
      "metadata": {
        "id": "sIHww5CuYYdk",
        "tags": []
      },
      "outputs": [
        {
          "name": "stdout",
          "output_type": "stream",
          "text": [
            "\u001b[33mDEPRECATION: Configuring installation scheme with distutils config files is deprecated and will no longer work in the near future. If you are using a Homebrew or Linuxbrew Python, please see discussion at https://github.com/Homebrew/homebrew-core/issues/76621\u001b[0m\n",
            "Collecting tensorflow\n",
            "  Downloading tensorflow-2.9.1-cp39-cp39-macosx_10_14_x86_64.whl (228.5 MB)\n",
            "     |████████████████████████████████| 228.5 MB 68 kB/s              \n",
            "\u001b[?25hCollecting h5py>=2.9.0\n",
            "  Downloading h5py-3.7.0-cp39-cp39-macosx_10_9_x86_64.whl (3.2 MB)\n",
            "     |████████████████████████████████| 3.2 MB 27.1 MB/s            \n",
            "\u001b[?25hCollecting termcolor>=1.1.0\n",
            "  Using cached termcolor-1.1.0.tar.gz (3.9 kB)\n",
            "  Preparing metadata (setup.py) ... \u001b[?25ldone\n",
            "\u001b[?25hRequirement already satisfied: typing-extensions>=3.6.6 in /usr/local/lib/python3.9/site-packages (from tensorflow) (4.0.1)\n",
            "Collecting libclang>=13.0.0\n",
            "  Using cached libclang-14.0.6-py2.py3-none-macosx_10_9_x86_64.whl (13.2 MB)\n",
            "Collecting tensorboard<2.10,>=2.9\n",
            "  Using cached tensorboard-2.9.1-py3-none-any.whl (5.8 MB)\n",
            "Collecting absl-py>=1.0.0\n",
            "  Using cached absl_py-1.2.0-py3-none-any.whl (123 kB)\n",
            "Collecting tensorflow-estimator<2.10.0,>=2.9.0rc0\n",
            "  Using cached tensorflow_estimator-2.9.0-py2.py3-none-any.whl (438 kB)\n",
            "Collecting opt-einsum>=2.3.2\n",
            "  Using cached opt_einsum-3.3.0-py3-none-any.whl (65 kB)\n",
            "Collecting keras-preprocessing>=1.1.1\n",
            "  Using cached Keras_Preprocessing-1.1.2-py2.py3-none-any.whl (42 kB)\n",
            "Collecting flatbuffers<2,>=1.12\n",
            "  Using cached flatbuffers-1.12-py2.py3-none-any.whl (15 kB)\n",
            "Requirement already satisfied: numpy>=1.20 in /usr/local/lib/python3.9/site-packages (from tensorflow) (1.22.0)\n",
            "Collecting gast<=0.4.0,>=0.2.1\n",
            "  Using cached gast-0.4.0-py3-none-any.whl (9.8 kB)\n",
            "Collecting protobuf<3.20,>=3.9.2\n",
            "  Downloading protobuf-3.19.4-cp39-cp39-macosx_10_9_x86_64.whl (961 kB)\n",
            "     |████████████████████████████████| 961 kB 3.4 MB/s            \n",
            "\u001b[?25hRequirement already satisfied: packaging in /usr/local/lib/python3.9/site-packages (from tensorflow) (21.3)\n",
            "Collecting keras<2.10.0,>=2.9.0rc0\n",
            "  Using cached keras-2.9.0-py2.py3-none-any.whl (1.6 MB)\n",
            "Collecting google-pasta>=0.1.1\n",
            "  Using cached google_pasta-0.2.0-py3-none-any.whl (57 kB)\n",
            "Collecting astunparse>=1.6.0\n",
            "  Using cached astunparse-1.6.3-py2.py3-none-any.whl (12 kB)\n",
            "Collecting grpcio<2.0,>=1.24.3\n",
            "  Downloading grpcio-1.47.0-cp39-cp39-macosx_10_10_x86_64.whl (4.4 MB)\n",
            "     |████████████████████████████████| 4.4 MB 3.3 MB/s            \n",
            "\u001b[?25hCollecting tensorflow-io-gcs-filesystem>=0.23.1\n",
            "  Downloading tensorflow_io_gcs_filesystem-0.26.0-cp39-cp39-macosx_10_14_x86_64.whl (1.6 MB)\n",
            "     |████████████████████████████████| 1.6 MB 10.0 MB/s            \n",
            "\u001b[?25hCollecting wrapt>=1.11.0\n",
            "  Downloading wrapt-1.14.1-cp39-cp39-macosx_10_9_x86_64.whl (35 kB)\n",
            "Requirement already satisfied: six>=1.12.0 in /usr/local/lib/python3.9/site-packages (from tensorflow) (1.16.0)\n",
            "Requirement already satisfied: setuptools in /usr/local/lib/python3.9/site-packages (from tensorflow) (60.2.0)\n",
            "Requirement already satisfied: wheel<1.0,>=0.23.0 in /usr/local/lib/python3.9/site-packages (from astunparse>=1.6.0->tensorflow) (0.37.1)\n",
            "Collecting google-auth<3,>=1.6.3\n",
            "  Using cached google_auth-2.11.0-py2.py3-none-any.whl (167 kB)\n",
            "Collecting markdown>=2.6.8\n",
            "  Using cached Markdown-3.4.1-py3-none-any.whl (93 kB)\n",
            "Collecting tensorboard-plugin-wit>=1.6.0\n",
            "  Using cached tensorboard_plugin_wit-1.8.1-py3-none-any.whl (781 kB)\n",
            "Collecting tensorboard-data-server<0.7.0,>=0.6.0\n",
            "  Using cached tensorboard_data_server-0.6.1-py3-none-macosx_10_9_x86_64.whl (3.5 MB)\n",
            "Requirement already satisfied: requests<3,>=2.21.0 in /usr/local/lib/python3.9/site-packages (from tensorboard<2.10,>=2.9->tensorflow) (2.26.0)\n",
            "Collecting google-auth-oauthlib<0.5,>=0.4.1\n",
            "  Using cached google_auth_oauthlib-0.4.6-py2.py3-none-any.whl (18 kB)\n",
            "Collecting werkzeug>=1.0.1\n",
            "  Using cached Werkzeug-2.2.2-py3-none-any.whl (232 kB)\n",
            "Requirement already satisfied: pyparsing!=3.0.5,>=2.0.2 in /usr/local/lib/python3.9/site-packages (from packaging->tensorflow) (3.0.6)\n",
            "Requirement already satisfied: rsa<5,>=3.1.4 in /usr/local/lib/python3.9/site-packages (from google-auth<3,>=1.6.3->tensorboard<2.10,>=2.9->tensorflow) (4.7.2)\n",
            "Collecting cachetools<6.0,>=2.0.0\n",
            "  Using cached cachetools-5.2.0-py3-none-any.whl (9.3 kB)\n",
            "Collecting pyasn1-modules>=0.2.1\n",
            "  Using cached pyasn1_modules-0.2.8-py2.py3-none-any.whl (155 kB)\n",
            "Collecting requests-oauthlib>=0.7.0\n",
            "  Using cached requests_oauthlib-1.3.1-py2.py3-none-any.whl (23 kB)\n",
            "Collecting importlib-metadata>=4.4\n",
            "  Using cached importlib_metadata-4.12.0-py3-none-any.whl (21 kB)\n",
            "Requirement already satisfied: idna<4,>=2.5 in /usr/local/lib/python3.9/site-packages (from requests<3,>=2.21.0->tensorboard<2.10,>=2.9->tensorflow) (3.3)\n",
            "Requirement already satisfied: certifi>=2017.4.17 in /usr/local/lib/python3.9/site-packages (from requests<3,>=2.21.0->tensorboard<2.10,>=2.9->tensorflow) (2021.10.8)\n",
            "Requirement already satisfied: urllib3<1.27,>=1.21.1 in /usr/local/lib/python3.9/site-packages (from requests<3,>=2.21.0->tensorboard<2.10,>=2.9->tensorflow) (1.26.7)\n",
            "Requirement already satisfied: charset-normalizer~=2.0.0 in /usr/local/lib/python3.9/site-packages (from requests<3,>=2.21.0->tensorboard<2.10,>=2.9->tensorflow) (2.0.9)\n",
            "Collecting MarkupSafe>=2.1.1\n",
            "  Downloading MarkupSafe-2.1.1-cp39-cp39-macosx_10_9_x86_64.whl (13 kB)\n",
            "Collecting zipp>=0.5\n",
            "  Using cached zipp-3.8.1-py3-none-any.whl (5.6 kB)\n",
            "Requirement already satisfied: pyasn1<0.5.0,>=0.4.6 in /usr/local/lib/python3.9/site-packages (from pyasn1-modules>=0.2.1->google-auth<3,>=1.6.3->tensorboard<2.10,>=2.9->tensorflow) (0.4.8)\n",
            "Collecting oauthlib>=3.0.0\n",
            "  Using cached oauthlib-3.2.0-py3-none-any.whl (151 kB)\n",
            "Building wheels for collected packages: termcolor\n",
            "  Building wheel for termcolor (setup.py) ... \u001b[?25ldone\n",
            "\u001b[?25h  Created wheel for termcolor: filename=termcolor-1.1.0-py3-none-any.whl size=4848 sha256=64992015aeb67950588200b095e9865c7c838e86340478812828602084ff4bfc\n",
            "  Stored in directory: /Users/maria/Library/Caches/pip/wheels/b6/0d/90/0d1bbd99855f99cb2f6c2e5ff96f8023fad8ec367695f7d72d\n",
            "Successfully built termcolor\n",
            "Installing collected packages: zipp, pyasn1-modules, oauthlib, cachetools, requests-oauthlib, MarkupSafe, importlib-metadata, google-auth, werkzeug, tensorboard-plugin-wit, tensorboard-data-server, protobuf, markdown, grpcio, google-auth-oauthlib, absl-py, wrapt, termcolor, tensorflow-io-gcs-filesystem, tensorflow-estimator, tensorboard, opt-einsum, libclang, keras-preprocessing, keras, h5py, google-pasta, gast, flatbuffers, astunparse, tensorflow\n",
            "\u001b[33m  DEPRECATION: Configuring installation scheme with distutils config files is deprecated and will no longer work in the near future. If you are using a Homebrew or Linuxbrew Python, please see discussion at https://github.com/Homebrew/homebrew-core/issues/76621\u001b[0m\n",
            "\u001b[33m  DEPRECATION: Configuring installation scheme with distutils config files is deprecated and will no longer work in the near future. If you are using a Homebrew or Linuxbrew Python, please see discussion at https://github.com/Homebrew/homebrew-core/issues/76621\u001b[0m\n",
            "\u001b[33m  DEPRECATION: Configuring installation scheme with distutils config files is deprecated and will no longer work in the near future. If you are using a Homebrew or Linuxbrew Python, please see discussion at https://github.com/Homebrew/homebrew-core/issues/76621\u001b[0m\n",
            "\u001b[33m  DEPRECATION: Configuring installation scheme with distutils config files is deprecated and will no longer work in the near future. If you are using a Homebrew or Linuxbrew Python, please see discussion at https://github.com/Homebrew/homebrew-core/issues/76621\u001b[0m\n",
            "  Attempting uninstall: MarkupSafe\n",
            "    Found existing installation: MarkupSafe 2.0.1\n",
            "    Uninstalling MarkupSafe-2.0.1:\n",
            "      Successfully uninstalled MarkupSafe-2.0.1\n",
            "\u001b[33m  DEPRECATION: Configuring installation scheme with distutils config files is deprecated and will no longer work in the near future. If you are using a Homebrew or Linuxbrew Python, please see discussion at https://github.com/Homebrew/homebrew-core/issues/76621\u001b[0m\n",
            "\u001b[33m  DEPRECATION: Configuring installation scheme with distutils config files is deprecated and will no longer work in the near future. If you are using a Homebrew or Linuxbrew Python, please see discussion at https://github.com/Homebrew/homebrew-core/issues/76621\u001b[0m\n",
            "\u001b[33m  DEPRECATION: Configuring installation scheme with distutils config files is deprecated and will no longer work in the near future. If you are using a Homebrew or Linuxbrew Python, please see discussion at https://github.com/Homebrew/homebrew-core/issues/76621\u001b[0m\n",
            "\u001b[33m  DEPRECATION: Configuring installation scheme with distutils config files is deprecated and will no longer work in the near future. If you are using a Homebrew or Linuxbrew Python, please see discussion at https://github.com/Homebrew/homebrew-core/issues/76621\u001b[0m\n",
            "\u001b[33m  DEPRECATION: Configuring installation scheme with distutils config files is deprecated and will no longer work in the near future. If you are using a Homebrew or Linuxbrew Python, please see discussion at https://github.com/Homebrew/homebrew-core/issues/76621\u001b[0m\n",
            "\u001b[33m  DEPRECATION: Configuring installation scheme with distutils config files is deprecated and will no longer work in the near future. If you are using a Homebrew or Linuxbrew Python, please see discussion at https://github.com/Homebrew/homebrew-core/issues/76621\u001b[0m\n",
            "\u001b[33m  DEPRECATION: Configuring installation scheme with distutils config files is deprecated and will no longer work in the near future. If you are using a Homebrew or Linuxbrew Python, please see discussion at https://github.com/Homebrew/homebrew-core/issues/76621\u001b[0m\n",
            "\u001b[33m  DEPRECATION: Configuring installation scheme with distutils config files is deprecated and will no longer work in the near future. If you are using a Homebrew or Linuxbrew Python, please see discussion at https://github.com/Homebrew/homebrew-core/issues/76621\u001b[0m\n",
            "\u001b[33m  DEPRECATION: Configuring installation scheme with distutils config files is deprecated and will no longer work in the near future. If you are using a Homebrew or Linuxbrew Python, please see discussion at https://github.com/Homebrew/homebrew-core/issues/76621\u001b[0m\n",
            "\u001b[33m  DEPRECATION: Configuring installation scheme with distutils config files is deprecated and will no longer work in the near future. If you are using a Homebrew or Linuxbrew Python, please see discussion at https://github.com/Homebrew/homebrew-core/issues/76621\u001b[0m\n",
            "\u001b[33m  DEPRECATION: Configuring installation scheme with distutils config files is deprecated and will no longer work in the near future. If you are using a Homebrew or Linuxbrew Python, please see discussion at https://github.com/Homebrew/homebrew-core/issues/76621\u001b[0m\n",
            "\u001b[33m  DEPRECATION: Configuring installation scheme with distutils config files is deprecated and will no longer work in the near future. If you are using a Homebrew or Linuxbrew Python, please see discussion at https://github.com/Homebrew/homebrew-core/issues/76621\u001b[0m\n",
            "\u001b[33m  DEPRECATION: Configuring installation scheme with distutils config files is deprecated and will no longer work in the near future. If you are using a Homebrew or Linuxbrew Python, please see discussion at https://github.com/Homebrew/homebrew-core/issues/76621\u001b[0m\n",
            "\u001b[33m  DEPRECATION: Configuring installation scheme with distutils config files is deprecated and will no longer work in the near future. If you are using a Homebrew or Linuxbrew Python, please see discussion at https://github.com/Homebrew/homebrew-core/issues/76621\u001b[0m\n",
            "\u001b[33m  DEPRECATION: Configuring installation scheme with distutils config files is deprecated and will no longer work in the near future. If you are using a Homebrew or Linuxbrew Python, please see discussion at https://github.com/Homebrew/homebrew-core/issues/76621\u001b[0m\n",
            "\u001b[33m  DEPRECATION: Configuring installation scheme with distutils config files is deprecated and will no longer work in the near future. If you are using a Homebrew or Linuxbrew Python, please see discussion at https://github.com/Homebrew/homebrew-core/issues/76621\u001b[0m\n",
            "\u001b[33m  DEPRECATION: Configuring installation scheme with distutils config files is deprecated and will no longer work in the near future. If you are using a Homebrew or Linuxbrew Python, please see discussion at https://github.com/Homebrew/homebrew-core/issues/76621\u001b[0m\n",
            "\u001b[33m  DEPRECATION: Configuring installation scheme with distutils config files is deprecated and will no longer work in the near future. If you are using a Homebrew or Linuxbrew Python, please see discussion at https://github.com/Homebrew/homebrew-core/issues/76621\u001b[0m\n",
            "\u001b[33m  DEPRECATION: Configuring installation scheme with distutils config files is deprecated and will no longer work in the near future. If you are using a Homebrew or Linuxbrew Python, please see discussion at https://github.com/Homebrew/homebrew-core/issues/76621\u001b[0m\n",
            "\u001b[33m  DEPRECATION: Configuring installation scheme with distutils config files is deprecated and will no longer work in the near future. If you are using a Homebrew or Linuxbrew Python, please see discussion at https://github.com/Homebrew/homebrew-core/issues/76621\u001b[0m\n",
            "\u001b[33m  DEPRECATION: Configuring installation scheme with distutils config files is deprecated and will no longer work in the near future. If you are using a Homebrew or Linuxbrew Python, please see discussion at https://github.com/Homebrew/homebrew-core/issues/76621\u001b[0m\n",
            "\u001b[33m  DEPRECATION: Configuring installation scheme with distutils config files is deprecated and will no longer work in the near future. If you are using a Homebrew or Linuxbrew Python, please see discussion at https://github.com/Homebrew/homebrew-core/issues/76621\u001b[0m\n",
            "\u001b[33m  DEPRECATION: Configuring installation scheme with distutils config files is deprecated and will no longer work in the near future. If you are using a Homebrew or Linuxbrew Python, please see discussion at https://github.com/Homebrew/homebrew-core/issues/76621\u001b[0m\n",
            "\u001b[33m  DEPRECATION: Configuring installation scheme with distutils config files is deprecated and will no longer work in the near future. If you are using a Homebrew or Linuxbrew Python, please see discussion at https://github.com/Homebrew/homebrew-core/issues/76621\u001b[0m\n",
            "\u001b[33m  DEPRECATION: Configuring installation scheme with distutils config files is deprecated and will no longer work in the near future. If you are using a Homebrew or Linuxbrew Python, please see discussion at https://github.com/Homebrew/homebrew-core/issues/76621\u001b[0m\n",
            "\u001b[33m  DEPRECATION: Configuring installation scheme with distutils config files is deprecated and will no longer work in the near future. If you are using a Homebrew or Linuxbrew Python, please see discussion at https://github.com/Homebrew/homebrew-core/issues/76621\u001b[0m\n",
            "\u001b[33mDEPRECATION: Configuring installation scheme with distutils config files is deprecated and will no longer work in the near future. If you are using a Homebrew or Linuxbrew Python, please see discussion at https://github.com/Homebrew/homebrew-core/issues/76621\u001b[0m\n",
            "Successfully installed MarkupSafe-2.1.1 absl-py-1.2.0 astunparse-1.6.3 cachetools-5.2.0 flatbuffers-1.12 gast-0.4.0 google-auth-2.11.0 google-auth-oauthlib-0.4.6 google-pasta-0.2.0 grpcio-1.47.0 h5py-3.7.0 importlib-metadata-4.12.0 keras-2.9.0 keras-preprocessing-1.1.2 libclang-14.0.6 markdown-3.4.1 oauthlib-3.2.0 opt-einsum-3.3.0 protobuf-3.19.4 pyasn1-modules-0.2.8 requests-oauthlib-1.3.1 tensorboard-2.9.1 tensorboard-data-server-0.6.1 tensorboard-plugin-wit-1.8.1 tensorflow-2.9.1 tensorflow-estimator-2.9.0 tensorflow-io-gcs-filesystem-0.26.0 termcolor-1.1.0 werkzeug-2.2.2 wrapt-1.14.1 zipp-3.8.1\n",
            "\u001b[33mWARNING: You are using pip version 21.3.1; however, version 22.2.2 is available.\n",
            "You should consider upgrading via the '/usr/local/opt/python@3.9/bin/python3.9 -m pip install --upgrade pip' command.\u001b[0m\n",
            "Note: you may need to restart the kernel to use updated packages.\n",
            "\u001b[33mDEPRECATION: Configuring installation scheme with distutils config files is deprecated and will no longer work in the near future. If you are using a Homebrew or Linuxbrew Python, please see discussion at https://github.com/Homebrew/homebrew-core/issues/76621\u001b[0m\n",
            "Collecting tcav\n",
            "  Using cached tcav-0.2.2-py3-none-any.whl (54 kB)\n",
            "Collecting matplotlib>=2.2.4\n",
            "  Downloading matplotlib-3.5.3-cp39-cp39-macosx_10_9_x86_64.whl (7.3 MB)\n",
            "     |████████████████████████████████| 7.3 MB 1.0 MB/s            \n",
            "\u001b[?25hCollecting scipy>=1.2.1\n",
            "  Downloading scipy-1.9.1-cp39-cp39-macosx_12_0_universal2.macosx_10_9_x86_64.whl (58.4 MB)\n",
            "     |████████████████████████████████| 58.4 MB 8.5 MB/s             \n",
            "\u001b[?25hRequirement already satisfied: protobuf>=3.10.0 in /usr/local/lib/python3.9/site-packages (from tcav) (3.19.4)\n",
            "Collecting Pillow>=6.0.0\n",
            "  Downloading Pillow-9.2.0-cp39-cp39-macosx_10_10_x86_64.whl (3.1 MB)\n",
            "     |████████████████████████████████| 3.1 MB 30.5 MB/s            \n",
            "\u001b[?25hCollecting scikit-learn>=0.20.3\n",
            "  Downloading scikit_learn-1.1.2-cp39-cp39-macosx_10_9_x86_64.whl (8.7 MB)\n",
            "     |████████████████████████████████| 8.7 MB 10.4 MB/s            \n",
            "\u001b[?25hCollecting fonttools>=4.22.0\n",
            "  Using cached fonttools-4.37.1-py3-none-any.whl (957 kB)\n",
            "Collecting kiwisolver>=1.0.1\n",
            "  Downloading kiwisolver-1.4.4-cp39-cp39-macosx_10_9_x86_64.whl (65 kB)\n",
            "     |████████████████████████████████| 65 kB 1.9 MB/s            \n",
            "\u001b[?25hRequirement already satisfied: python-dateutil>=2.7 in /usr/local/lib/python3.9/site-packages (from matplotlib>=2.2.4->tcav) (2.8.2)\n",
            "Requirement already satisfied: numpy>=1.17 in /usr/local/lib/python3.9/site-packages (from matplotlib>=2.2.4->tcav) (1.22.0)\n",
            "Requirement already satisfied: pyparsing>=2.2.1 in /usr/local/lib/python3.9/site-packages (from matplotlib>=2.2.4->tcav) (3.0.6)\n",
            "Requirement already satisfied: packaging>=20.0 in /usr/local/lib/python3.9/site-packages (from matplotlib>=2.2.4->tcav) (21.3)\n",
            "Collecting cycler>=0.10\n",
            "  Using cached cycler-0.11.0-py3-none-any.whl (6.4 kB)\n",
            "Collecting threadpoolctl>=2.0.0\n",
            "  Using cached threadpoolctl-3.1.0-py3-none-any.whl (14 kB)\n",
            "Collecting joblib>=1.0.0\n",
            "  Using cached joblib-1.1.0-py2.py3-none-any.whl (306 kB)\n",
            "Requirement already satisfied: six>=1.5 in /usr/local/lib/python3.9/site-packages (from python-dateutil>=2.7->matplotlib>=2.2.4->tcav) (1.16.0)\n",
            "Installing collected packages: threadpoolctl, scipy, Pillow, kiwisolver, joblib, fonttools, cycler, scikit-learn, matplotlib, tcav\n",
            "\u001b[33m  DEPRECATION: Configuring installation scheme with distutils config files is deprecated and will no longer work in the near future. If you are using a Homebrew or Linuxbrew Python, please see discussion at https://github.com/Homebrew/homebrew-core/issues/76621\u001b[0m\n",
            "\u001b[33m  DEPRECATION: Configuring installation scheme with distutils config files is deprecated and will no longer work in the near future. If you are using a Homebrew or Linuxbrew Python, please see discussion at https://github.com/Homebrew/homebrew-core/issues/76621\u001b[0m\n",
            "\u001b[33m  DEPRECATION: Configuring installation scheme with distutils config files is deprecated and will no longer work in the near future. If you are using a Homebrew or Linuxbrew Python, please see discussion at https://github.com/Homebrew/homebrew-core/issues/76621\u001b[0m\n",
            "\u001b[33m  DEPRECATION: Configuring installation scheme with distutils config files is deprecated and will no longer work in the near future. If you are using a Homebrew or Linuxbrew Python, please see discussion at https://github.com/Homebrew/homebrew-core/issues/76621\u001b[0m\n",
            "\u001b[33m  DEPRECATION: Configuring installation scheme with distutils config files is deprecated and will no longer work in the near future. If you are using a Homebrew or Linuxbrew Python, please see discussion at https://github.com/Homebrew/homebrew-core/issues/76621\u001b[0m\n",
            "\u001b[33m  DEPRECATION: Configuring installation scheme with distutils config files is deprecated and will no longer work in the near future. If you are using a Homebrew or Linuxbrew Python, please see discussion at https://github.com/Homebrew/homebrew-core/issues/76621\u001b[0m\n",
            "\u001b[33m  DEPRECATION: Configuring installation scheme with distutils config files is deprecated and will no longer work in the near future. If you are using a Homebrew or Linuxbrew Python, please see discussion at https://github.com/Homebrew/homebrew-core/issues/76621\u001b[0m\n",
            "\u001b[33m  DEPRECATION: Configuring installation scheme with distutils config files is deprecated and will no longer work in the near future. If you are using a Homebrew or Linuxbrew Python, please see discussion at https://github.com/Homebrew/homebrew-core/issues/76621\u001b[0m\n",
            "\u001b[33m  DEPRECATION: Configuring installation scheme with distutils config files is deprecated and will no longer work in the near future. If you are using a Homebrew or Linuxbrew Python, please see discussion at https://github.com/Homebrew/homebrew-core/issues/76621\u001b[0m\n",
            "\u001b[33mDEPRECATION: Configuring installation scheme with distutils config files is deprecated and will no longer work in the near future. If you are using a Homebrew or Linuxbrew Python, please see discussion at https://github.com/Homebrew/homebrew-core/issues/76621\u001b[0m\n",
            "Successfully installed Pillow-9.2.0 cycler-0.11.0 fonttools-4.37.1 joblib-1.1.0 kiwisolver-1.4.4 matplotlib-3.5.3 scikit-learn-1.1.2 scipy-1.9.1 tcav-0.2.2 threadpoolctl-3.1.0\n",
            "\u001b[33mWARNING: You are using pip version 21.3.1; however, version 22.2.2 is available.\n",
            "You should consider upgrading via the '/usr/local/opt/python@3.9/bin/python3.9 -m pip install --upgrade pip' command.\u001b[0m\n",
            "Note: you may need to restart the kernel to use updated packages.\n"
          ]
        }
      ],
      "source": [
        "%pip install tensorflow\n",
        "%pip install tcav"
      ]
    },
    {
      "cell_type": "markdown",
      "metadata": {
        "id": "-NT91qkMYYdk"
      },
      "source": [
        "## Download example models and images\n",
        "\n",
        "Open a terminal and run the following commands:\n",
        "\n",
        "```\n",
        "cd tcav/tcav_examples/image_models/imagenet\n",
        "\n",
        "python download_and_make_datasets.py --source_dir=YOUR_PATH --number_of_images_per_folder=50 --number_of_random_folders=3\n",
        "```\n",
        "\n",
        "This script will download the following content into separate folders into a directory you specify with the `--source_dir=` argument:\n",
        "\n",
        "**Images**\n",
        "*  ImageNet images for the target Zebra class\n",
        "*  [Broden dataset](http://netdissect.csail.mit.edu/) images for three concepts (e.g. striped, dotted, zigzagged)\n",
        "*  Random ImageNet class images used by TCAV for hypothesis testing of important concepts\n",
        "\n",
        "**Models**\n",
        "*  [Inception 5h model](https://github.com/Hvass-Labs/TensorFlow-Tutorials/blob/master/inception5h.py)\n",
        "*  [Mobilenet V2 model](https://github.com/tensorflow/models/blob/master/research/slim/nets/mobilenet_v1.md)"
      ]
    },
    {
      "cell_type": "markdown",
      "metadata": {
        "id": "rlrLUu4zYYdl"
      },
      "source": [
        "## Import extensions and libraries"
      ]
    },
    {
      "cell_type": "code",
      "execution_count": 1,
      "metadata": {
        "id": "sS1ZjSZjYYdl"
      },
      "outputs": [],
      "source": [
        "%load_ext autoreload\n",
        "%autoreload 2"
      ]
    },
    {
      "cell_type": "code",
      "execution_count": 2,
      "metadata": {
        "id": "U4yP9kDlYYdl"
      },
      "outputs": [],
      "source": [
        "import tcav.activation_generator as act_gen\n",
        "import tcav.cav as cav\n",
        "import tcav.model  as model\n",
        "import tcav.tcav as tcav\n",
        "import tcav.utils as utils\n",
        "import tcav.utils_plot as utils_plot # utils_plot requires matplotlib\n",
        "import os \n",
        "import tensorflow as tf"
      ]
    },
    {
      "cell_type": "markdown",
      "metadata": {
        "id": "yitpnXmEYYdm"
      },
      "source": [
        "## TCAV step-by-step\n",
        "\n",
        "You will walk through the following steps below:\n",
        "\n",
        "1. **Store example images in each folder** (you have this if you ran the above)\n",
        " * images for each concept\n",
        " * images for the class/labels of interest\n",
        " * random images that will be negative examples when learning CAVs (images that probably don't belong to any concepts)\n",
        "2. **Write a model wrapper** (below uses example from tcav/model.py)\n",
        " * an instance of  ModelWrapper abstract class (in model.py). This tells TCAV class (tcav.py) how to communicate with your model (e.g., getting internal tensors)\n",
        "3. **Retrieve model activations** (below uses example from tcav/activation_generator.py)\n",
        " * an instance of ActivationGeneratorInterface that tells TCAV class how to load example data and how to get activations from the model\n",
        "4. Run TCAV and visualize scores for important concepts."
      ]
    },
    {
      "cell_type": "markdown",
      "metadata": {
        "id": "zjjLK3pBYYdm"
      },
      "source": [
        "## Step 1: Store concept and target class images to local folders\n",
        "\n",
        "... and tell TCAV where they are.\n",
        "\n",
        "**source_dir**: where images of concepts, target class and random images (negative samples when learning CAVs) live. Each should be a sub-folder within this directory.\n",
        "\n",
        "Note that random image directories can be in any name. In this example, we are using `random500_0`, `random500_1`,.. for an arbitrary reason. \n",
        "\n",
        "You need roughly 50-200 images per concept and target class (10-20 pictures also tend to work, but 200 is pretty safe).\n",
        "\n",
        "\n",
        "**cav_dir**: directory to store CAVs (`None` if you don't want to store)\n",
        "\n",
        "**target, concept**: names of the target class (that you want to investigate) and concepts (strings) - these are folder names in source_dir\n",
        "\n",
        "**bottlenecks**: list of bottleneck names (intermediate layers in your model) that you want to use for TCAV. These names are defined in the model wrapper below.\n",
        "\n"
      ]
    },
    {
      "cell_type": "code",
      "execution_count": 5,
      "metadata": {
        "id": "EHabMnMNYYdm",
        "tags": []
      },
      "outputs": [
        {
          "name": "stdout",
          "output_type": "stream",
          "text": [
            "REMEMBER TO UPDATE YOUR_PATH (where images, models are)!\n"
          ]
        }
      ],
      "source": [
        "print ('REMEMBER TO UPDATE YOUR_PATH (where images, models are)!')\n",
        "\n",
        "# This is the name of your model wrapper (InceptionV3 and GoogleNet are provided in model.py)\n",
        "model_to_run = 'GoogleNet'  \n",
        "user = 'beenkim'\n",
        "# the name of the parent directory that results are stored (only if you want to cache)\n",
        "project_name = 'tcav_class_test'\n",
        "working_dir = \"/tmp/\" + user + '/' + project_name\n",
        "# where activations are stored (only if your act_gen_wrapper does so)\n",
        "activation_dir =  working_dir+ '/activations/'\n",
        "# where CAVs are stored. \n",
        "# You can say None if you don't wish to store any.\n",
        "cav_dir = working_dir + '/cavs/'\n",
        "# where the images live.\n",
        "\n",
        "# TODO: replace 'YOUR_PATH' with path to downloaded models and images. \n",
        "source_dir = '/Users/maria/MastersThesis/tcav/ImageNet_Data'\n",
        "bottlenecks = [ 'mixed4c']  # @param \n",
        "      \n",
        "utils.make_dir_if_not_exists(activation_dir)\n",
        "utils.make_dir_if_not_exists(working_dir)\n",
        "utils.make_dir_if_not_exists(cav_dir)\n",
        "\n",
        "# this is a regularizer penalty parameter for linear classifier to get CAVs. \n",
        "alphas = [0.1]   \n",
        "\n",
        "target = 'zebra'  \n",
        "concepts = [\"dotted\",\"striped\",\"zigzagged\"]  \n"
      ]
    },
    {
      "cell_type": "markdown",
      "metadata": {
        "id": "u_DfQqsAYYdn"
      },
      "source": [
        "## Step 2: Write your model wrapper\n",
        "\n",
        "The next step is to tell TCAV how to communicate with your model. See `model.GoogleNetWrapper_public ` for details.\n",
        "\n",
        "You can define a subclass of ModelWrapper abstract class to do this. Let me walk you thru what each function does (tho they are pretty self-explanatory).  This wrapper includes a lot of the functions that you already have, for example, `get_prediction`.\n",
        "\n",
        "### 2.1: Tensors from the graph: bottleneck tensors and ends\n",
        "First, store your bottleneck tensors in `self.bottlenecks_tensors` as a dictionary. You only need bottlenecks that you are interested in running TCAV with. Similarly, fill in `self.ends` dictionary with `input`, `logit` and `prediction` tensors.\n",
        "\n",
        "### 2.2: Define loss\n",
        "Get your loss tensor, and assigned it to `self.loss`. This is what TCAV uses to take directional derivatives. \n",
        "\n",
        "While doing so, you would also want to set \n",
        "```python\n",
        "self.y_input \n",
        "```\n",
        "this simply is a tensorflow place holder for the target index in the logit layer (e.g., 0 index for a dog, 1 for a cat).\n",
        "For multi-class classification, typically something like this works:\n",
        "\n",
        "```python\n",
        "self.y_input = tf.placeholder(tf.int64, shape=[None])\n",
        "```\n",
        "\n",
        "For example, for a multiclass classifier, something like below would work. \n",
        "\n",
        "```python\n",
        "    # Construct gradient ops.\n",
        "    with g.as_default():\n",
        "      self.y_input = tf.placeholder(tf.int64, shape=[None])\n",
        "\n",
        "      self.pred = tf.expand_dims(self.ends['prediction'][0], 0)\n",
        "\n",
        "      self.loss = tf.reduce_mean(\n",
        "          tf.nn.softmax_cross_entropy_with_logits(\n",
        "              labels=tf.one_hot(self.y_input, len(self.labels)),\n",
        "              logits=self.pred))\n",
        "    self._make_gradient_tensors()\n",
        "```\n",
        "\n",
        "### 2.3: Call _make_gradient_tensors in __init__() of your wrapper\n",
        "```python\n",
        "_make_gradient_tensors()  \n",
        "```\n",
        "does what you expect - given the loss and bottleneck tensors defined above, it adds gradient tensors.\n",
        "\n",
        "### 2.4: Fill in labels, image shapes and a model name.\n",
        "Get the mapping from labels (strings) to indice in the logit layer (int) in a dictionary format.\n",
        "\n",
        "```python\n",
        "def id_to_label(self, idx)\n",
        "def label_to_id(self, label)\n",
        "```\n",
        "\n",
        "Set your input image shape at  `self.image_shape`\n",
        "\n",
        "\n",
        "Set your model name to `self.model_name`\n",
        "\n",
        "You are done with writing the model wrapper! See the two example model wrapers, InceptionV3 and Googlenet in `tcav/model.py`."
      ]
    },
    {
      "cell_type": "code",
      "execution_count": 6,
      "metadata": {
        "id": "hH-YQiEIYYdn",
        "tags": []
      },
      "outputs": [
        {
          "name": "stderr",
          "output_type": "stream",
          "text": [
            "/usr/local/lib/python3.9/site-packages/tensorflow/python/client/session.py:1768: UserWarning: An interactive session is already active. This can cause out-of-memory errors in some cases. You must explicitly call `InteractiveSession.close()` to release resources held by the other session(s).\n",
            "  warnings.warn('An interactive session is already active. This can '\n"
          ]
        }
      ],
      "source": [
        "# Create TensorFlow session.\n",
        "sess = utils.create_session()\n",
        "\n",
        "# GRAPH_PATH is where the trained model is stored.\n",
        "GRAPH_PATH = source_dir + \"/inception5h/tensorflow_inception_graph.pb\"\n",
        "# LABEL_PATH is where the labels are stored. Each line contains one class, and they are ordered with respect to their index in \n",
        "# the logit layer. (yes, id_to_label function in the model wrapper reads from this file.)\n",
        "# For example, imagenet_comp_graph_label_strings.txt looks like:\n",
        "# dummy                                                                                      \n",
        "# kit fox\n",
        "# English setter\n",
        "# Siberian husky ...\n",
        "\n",
        "LABEL_PATH = source_dir + \"/inception5h/imagenet_comp_graph_label_strings.txt\"\n",
        "\n",
        "mymodel = model.GoogleNetWrapper_public(sess,\n",
        "                                        GRAPH_PATH,\n",
        "                                        LABEL_PATH)"
      ]
    },
    {
      "cell_type": "markdown",
      "metadata": {
        "id": "yY5kXbVAYYdo"
      },
      "source": [
        "## Step 3: Implement a class that returns activations (maybe with caching!)\n",
        "\n",
        "Lastly, you will implement a class of the ActivationGenerationInterface which TCAV uses to load example data for a given concept or target, call into your model wrapper and return activations. I pulled out this logic outside of mymodel because this step often takes the longest. By making it modular, you can cache your activations and/or parallelize your computations, as I have done in `ActivationGeneratorBase.process_and_load_activations` in `activation_generator.py`.\n",
        "\n",
        "\n",
        "The `process_and_load_activations` method of the activation generator must return a dictionary of activations that has concept or target name as  a first key, and the bottleneck name as a second key. So something like:\n",
        "\n",
        "```python\n",
        "{concept1: {bottleneck1: [[0.2, 0.1, ....]]},\n",
        "concept2: {bottleneck1: [[0.1, 0.02, ....]]},\n",
        "target1: {bottleneck1: [[0.02, 0.99, ....]]}\n",
        "```\n"
      ]
    },
    {
      "cell_type": "code",
      "execution_count": 7,
      "metadata": {
        "id": "ZmSyFxQbYYdo"
      },
      "outputs": [],
      "source": [
        "act_generator = act_gen.ImageActivationGenerator(mymodel, source_dir, activation_dir, max_examples=100)"
      ]
    },
    {
      "cell_type": "markdown",
      "metadata": {
        "id": "uABCWhp8YYdo"
      },
      "source": [
        "## Step 4: Run TCAV and visualize concept importance\n",
        "\n",
        "You are now ready to run TCAV! Let's do it.\n",
        "\n",
        "**num_random_exp**: number of experiments to confirm meaningful concept direction. TCAV will search for this many folders named `random500_0`, `random500_1`, etc. You can alternatively set the `random_concepts` keyword to be a list of folders of random concepts. Run at least 10-20 for meaningful tests. \n",
        "\n",
        "**random_counterpart**: as well as the above, you can optionally supply a single folder with random images as the \"positive set\" for statistical testing. Reduces computation time at the cost of less reliable random TCAV scores.\n"
      ]
    },
    {
      "cell_type": "code",
      "execution_count": 8,
      "metadata": {
        "id": "F2FVOGSvYYdp",
        "scrolled": false,
        "tags": []
      },
      "outputs": [
        {
          "name": "stdout",
          "output_type": "stream",
          "text": [
            "INFO:tensorflow:mixed4c ['dotted', 'random500_0'] zebra 0.1\n",
            "INFO:tensorflow:mixed4c ['dotted', 'random500_1'] zebra 0.1\n",
            "INFO:tensorflow:mixed4c ['dotted', 'random500_2'] zebra 0.1\n",
            "INFO:tensorflow:mixed4c ['striped', 'random500_0'] zebra 0.1\n",
            "INFO:tensorflow:mixed4c ['striped', 'random500_1'] zebra 0.1\n",
            "INFO:tensorflow:mixed4c ['striped', 'random500_2'] zebra 0.1\n",
            "INFO:tensorflow:mixed4c ['zigzagged', 'random500_0'] zebra 0.1\n",
            "INFO:tensorflow:mixed4c ['zigzagged', 'random500_1'] zebra 0.1\n",
            "INFO:tensorflow:mixed4c ['zigzagged', 'random500_2'] zebra 0.1\n",
            "INFO:tensorflow:mixed4c ['random500_0', 'random500_1'] zebra 0.1\n",
            "INFO:tensorflow:mixed4c ['random500_0', 'random500_2'] zebra 0.1\n",
            "INFO:tensorflow:mixed4c ['random500_1', 'random500_0'] zebra 0.1\n",
            "INFO:tensorflow:mixed4c ['random500_1', 'random500_2'] zebra 0.1\n",
            "INFO:tensorflow:mixed4c ['random500_2', 'random500_0'] zebra 0.1\n",
            "INFO:tensorflow:mixed4c ['random500_2', 'random500_1'] zebra 0.1\n",
            "INFO:tensorflow:TCAV will 15 params\n",
            "This may take a while... Go get coffee!\n",
            "INFO:tensorflow:running 15 params\n",
            "INFO:tensorflow:Running param 0 of 15\n",
            "INFO:tensorflow:running zebra ['dotted', 'random500_0']\n"
          ]
        },
        {
          "name": "stderr",
          "output_type": "stream",
          "text": [
            "2022-09-01 15:56:27.670169: I tensorflow/compiler/mlir/mlir_graph_optimization_pass.cc:354] MLIR V1 optimization pass is not enabled\n"
          ]
        },
        {
          "name": "stdout",
          "output_type": "stream",
          "text": [
            "INFO:tensorflow:/tmp/beenkim/tcav_class_test/activations/acts_dotted_mixed4c does not exist, Making one...\n",
            "INFO:tensorflow:/tmp/beenkim/tcav_class_test/activations/acts_random500_0_mixed4c does not exist, Making one...\n",
            "INFO:tensorflow:cannot identify image file <tensorflow.python.platform.gfile.GFile object at 0x13e904310>\n",
            "INFO:tensorflow:/tmp/beenkim/tcav_class_test/activations/acts_zebra_mixed4c does not exist, Making one...\n",
            "INFO:tensorflow:Training CAV ['dotted', 'random500_0'] - mixed4c alpha 0.1\n",
            "INFO:tensorflow:training with alpha=0.1\n",
            "INFO:tensorflow:acc per class {'dotted': 1.0, 'random500_0': 1.0, 'overall': 1.0}\n",
            "INFO:tensorflow:CAV accuracies: {'dotted': 1.0, 'random500_0': 1.0, 'overall': 1.0}\n",
            "INFO:tensorflow:cannot identify image file <tensorflow.python.platform.gfile.GFile object at 0x13eec4d60>\n",
            "INFO:tensorflow:cannot identify image file <tensorflow.python.platform.gfile.GFile object at 0x13eeb0b20>\n",
            "INFO:tensorflow:Running param 1 of 15\n",
            "INFO:tensorflow:running zebra ['dotted', 'random500_1']\n",
            "INFO:tensorflow:Loaded /tmp/beenkim/tcav_class_test/activations/acts_dotted_mixed4c shape (50, 14, 14, 512)\n",
            "INFO:tensorflow:/tmp/beenkim/tcav_class_test/activations/acts_random500_1_mixed4c does not exist, Making one...\n",
            "INFO:tensorflow:Loaded /tmp/beenkim/tcav_class_test/activations/acts_zebra_mixed4c shape (34, 14, 14, 512)\n",
            "INFO:tensorflow:Training CAV ['dotted', 'random500_1'] - mixed4c alpha 0.1\n",
            "INFO:tensorflow:training with alpha=0.1\n",
            "INFO:tensorflow:acc per class {'dotted': 1.0, 'random500_1': 1.0, 'overall': 1.0}\n",
            "INFO:tensorflow:CAV accuracies: {'dotted': 1.0, 'random500_1': 1.0, 'overall': 1.0}\n",
            "INFO:tensorflow:cannot identify image file <tensorflow.python.platform.gfile.GFile object at 0x13eed7ee0>\n",
            "INFO:tensorflow:cannot identify image file <tensorflow.python.platform.gfile.GFile object at 0x13eebf850>\n",
            "INFO:tensorflow:Running param 2 of 15\n",
            "INFO:tensorflow:running zebra ['dotted', 'random500_2']\n",
            "INFO:tensorflow:Loaded /tmp/beenkim/tcav_class_test/activations/acts_dotted_mixed4c shape (50, 14, 14, 512)\n",
            "INFO:tensorflow:/tmp/beenkim/tcav_class_test/activations/acts_random500_2_mixed4c does not exist, Making one...\n",
            "INFO:tensorflow:Loaded /tmp/beenkim/tcav_class_test/activations/acts_zebra_mixed4c shape (34, 14, 14, 512)\n",
            "INFO:tensorflow:Training CAV ['dotted', 'random500_2'] - mixed4c alpha 0.1\n",
            "INFO:tensorflow:training with alpha=0.1\n",
            "INFO:tensorflow:acc per class {'dotted': 0.9230769230769231, 'random500_2': 1.0, 'overall': 0.9615384615384616}\n",
            "INFO:tensorflow:CAV accuracies: {'dotted': 0.9230769230769231, 'random500_2': 1.0, 'overall': 0.9615384615384616}\n",
            "INFO:tensorflow:cannot identify image file <tensorflow.python.platform.gfile.GFile object at 0x13eebf460>\n",
            "INFO:tensorflow:cannot identify image file <tensorflow.python.platform.gfile.GFile object at 0x13eebfc40>\n",
            "INFO:tensorflow:Running param 3 of 15\n",
            "INFO:tensorflow:running zebra ['striped', 'random500_0']\n",
            "INFO:tensorflow:/tmp/beenkim/tcav_class_test/activations/acts_striped_mixed4c does not exist, Making one...\n",
            "INFO:tensorflow:Loaded /tmp/beenkim/tcav_class_test/activations/acts_random500_0_mixed4c shape (40, 14, 14, 512)\n",
            "INFO:tensorflow:Loaded /tmp/beenkim/tcav_class_test/activations/acts_zebra_mixed4c shape (34, 14, 14, 512)\n",
            "INFO:tensorflow:Training CAV ['striped', 'random500_0'] - mixed4c alpha 0.1\n",
            "INFO:tensorflow:training with alpha=0.1\n",
            "INFO:tensorflow:acc per class {'striped': 1.0, 'random500_0': 1.0, 'overall': 1.0}\n",
            "INFO:tensorflow:CAV accuracies: {'striped': 1.0, 'random500_0': 1.0, 'overall': 1.0}\n",
            "INFO:tensorflow:cannot identify image file <tensorflow.python.platform.gfile.GFile object at 0x13eee25b0>\n",
            "INFO:tensorflow:cannot identify image file <tensorflow.python.platform.gfile.GFile object at 0x13eed2280>\n",
            "INFO:tensorflow:Running param 4 of 15\n",
            "INFO:tensorflow:running zebra ['striped', 'random500_1']\n",
            "INFO:tensorflow:Loaded /tmp/beenkim/tcav_class_test/activations/acts_striped_mixed4c shape (50, 14, 14, 512)\n",
            "INFO:tensorflow:Loaded /tmp/beenkim/tcav_class_test/activations/acts_random500_1_mixed4c shape (44, 14, 14, 512)\n",
            "INFO:tensorflow:Loaded /tmp/beenkim/tcav_class_test/activations/acts_zebra_mixed4c shape (34, 14, 14, 512)\n",
            "INFO:tensorflow:Training CAV ['striped', 'random500_1'] - mixed4c alpha 0.1\n",
            "INFO:tensorflow:training with alpha=0.1\n",
            "INFO:tensorflow:acc per class {'striped': 1.0, 'random500_1': 0.9333333333333333, 'overall': 0.9666666666666667}\n",
            "INFO:tensorflow:CAV accuracies: {'striped': 1.0, 'random500_1': 0.9333333333333333, 'overall': 0.9666666666666667}\n",
            "INFO:tensorflow:cannot identify image file <tensorflow.python.platform.gfile.GFile object at 0x13eee4bb0>\n",
            "INFO:tensorflow:cannot identify image file <tensorflow.python.platform.gfile.GFile object at 0x13eef54c0>\n",
            "INFO:tensorflow:Running param 5 of 15\n",
            "INFO:tensorflow:running zebra ['striped', 'random500_2']\n",
            "INFO:tensorflow:Loaded /tmp/beenkim/tcav_class_test/activations/acts_striped_mixed4c shape (50, 14, 14, 512)\n",
            "INFO:tensorflow:Loaded /tmp/beenkim/tcav_class_test/activations/acts_random500_2_mixed4c shape (38, 14, 14, 512)\n",
            "INFO:tensorflow:Loaded /tmp/beenkim/tcav_class_test/activations/acts_zebra_mixed4c shape (34, 14, 14, 512)\n",
            "INFO:tensorflow:Training CAV ['striped', 'random500_2'] - mixed4c alpha 0.1\n",
            "INFO:tensorflow:training with alpha=0.1\n",
            "INFO:tensorflow:acc per class {'striped': 1.0, 'random500_2': 0.9230769230769231, 'overall': 0.9615384615384616}\n",
            "INFO:tensorflow:CAV accuracies: {'striped': 1.0, 'random500_2': 0.9230769230769231, 'overall': 0.9615384615384616}\n",
            "INFO:tensorflow:cannot identify image file <tensorflow.python.platform.gfile.GFile object at 0x13eee8ca0>\n",
            "INFO:tensorflow:cannot identify image file <tensorflow.python.platform.gfile.GFile object at 0x13ef02f10>\n",
            "INFO:tensorflow:Running param 6 of 15\n",
            "INFO:tensorflow:running zebra ['zigzagged', 'random500_0']\n",
            "INFO:tensorflow:cannot identify image file <tensorflow.python.platform.gfile.GFile object at 0x13ef00670>\n",
            "INFO:tensorflow:/tmp/beenkim/tcav_class_test/activations/acts_zigzagged_mixed4c does not exist, Making one...\n",
            "INFO:tensorflow:Loaded /tmp/beenkim/tcav_class_test/activations/acts_random500_0_mixed4c shape (40, 14, 14, 512)\n",
            "INFO:tensorflow:Loaded /tmp/beenkim/tcav_class_test/activations/acts_zebra_mixed4c shape (34, 14, 14, 512)\n",
            "INFO:tensorflow:Training CAV ['zigzagged', 'random500_0'] - mixed4c alpha 0.1\n",
            "INFO:tensorflow:training with alpha=0.1\n",
            "INFO:tensorflow:acc per class {'zigzagged': 1.0, 'random500_0': 1.0, 'overall': 1.0}\n",
            "INFO:tensorflow:CAV accuracies: {'zigzagged': 1.0, 'random500_0': 1.0, 'overall': 1.0}\n",
            "INFO:tensorflow:cannot identify image file <tensorflow.python.platform.gfile.GFile object at 0x13eef5970>\n",
            "INFO:tensorflow:cannot identify image file <tensorflow.python.platform.gfile.GFile object at 0x13eef4e80>\n",
            "INFO:tensorflow:Running param 7 of 15\n",
            "INFO:tensorflow:running zebra ['zigzagged', 'random500_1']\n",
            "INFO:tensorflow:Loaded /tmp/beenkim/tcav_class_test/activations/acts_zigzagged_mixed4c shape (50, 14, 14, 512)\n",
            "INFO:tensorflow:Loaded /tmp/beenkim/tcav_class_test/activations/acts_random500_1_mixed4c shape (44, 14, 14, 512)\n",
            "INFO:tensorflow:Loaded /tmp/beenkim/tcav_class_test/activations/acts_zebra_mixed4c shape (34, 14, 14, 512)\n",
            "INFO:tensorflow:Training CAV ['zigzagged', 'random500_1'] - mixed4c alpha 0.1\n",
            "INFO:tensorflow:training with alpha=0.1\n",
            "INFO:tensorflow:acc per class {'zigzagged': 0.9333333333333333, 'random500_1': 1.0, 'overall': 0.9666666666666667}\n",
            "INFO:tensorflow:CAV accuracies: {'zigzagged': 0.9333333333333333, 'random500_1': 1.0, 'overall': 0.9666666666666667}\n",
            "INFO:tensorflow:cannot identify image file <tensorflow.python.platform.gfile.GFile object at 0x13eef4070>\n",
            "INFO:tensorflow:cannot identify image file <tensorflow.python.platform.gfile.GFile object at 0x13ef0f580>\n",
            "INFO:tensorflow:Running param 8 of 15\n",
            "INFO:tensorflow:running zebra ['zigzagged', 'random500_2']\n",
            "INFO:tensorflow:Loaded /tmp/beenkim/tcav_class_test/activations/acts_zigzagged_mixed4c shape (50, 14, 14, 512)\n",
            "INFO:tensorflow:Loaded /tmp/beenkim/tcav_class_test/activations/acts_random500_2_mixed4c shape (38, 14, 14, 512)\n",
            "INFO:tensorflow:Loaded /tmp/beenkim/tcav_class_test/activations/acts_zebra_mixed4c shape (34, 14, 14, 512)\n",
            "INFO:tensorflow:Training CAV ['zigzagged', 'random500_2'] - mixed4c alpha 0.1\n",
            "INFO:tensorflow:training with alpha=0.1\n",
            "INFO:tensorflow:acc per class {'zigzagged': 0.8461538461538461, 'random500_2': 1.0, 'overall': 0.9230769230769231}\n",
            "INFO:tensorflow:CAV accuracies: {'zigzagged': 0.8461538461538461, 'random500_2': 1.0, 'overall': 0.9230769230769231}\n",
            "INFO:tensorflow:cannot identify image file <tensorflow.python.platform.gfile.GFile object at 0x13ef11160>\n",
            "INFO:tensorflow:cannot identify image file <tensorflow.python.platform.gfile.GFile object at 0x13eee5400>\n",
            "INFO:tensorflow:Running param 9 of 15\n",
            "INFO:tensorflow:running zebra ['random500_0', 'random500_1']\n",
            "INFO:tensorflow:Loaded /tmp/beenkim/tcav_class_test/activations/acts_random500_0_mixed4c shape (40, 14, 14, 512)\n",
            "INFO:tensorflow:Loaded /tmp/beenkim/tcav_class_test/activations/acts_random500_1_mixed4c shape (44, 14, 14, 512)\n",
            "INFO:tensorflow:Loaded /tmp/beenkim/tcav_class_test/activations/acts_zebra_mixed4c shape (34, 14, 14, 512)\n",
            "INFO:tensorflow:Training CAV ['random500_0', 'random500_1'] - mixed4c alpha 0.1\n",
            "INFO:tensorflow:training with alpha=0.1\n",
            "INFO:tensorflow:acc per class {'random500_0': 0.23076923076923078, 'random500_1': 0.7142857142857143, 'overall': 0.48148148148148145}\n",
            "INFO:tensorflow:CAV accuracies: {'random500_0': 0.23076923076923078, 'random500_1': 0.7142857142857143, 'overall': 0.48148148148148145}\n",
            "INFO:tensorflow:cannot identify image file <tensorflow.python.platform.gfile.GFile object at 0x13eee5c70>\n",
            "INFO:tensorflow:cannot identify image file <tensorflow.python.platform.gfile.GFile object at 0x13ef15be0>\n",
            "INFO:tensorflow:Running param 10 of 15\n",
            "INFO:tensorflow:running zebra ['random500_0', 'random500_2']\n",
            "INFO:tensorflow:Loaded /tmp/beenkim/tcav_class_test/activations/acts_random500_0_mixed4c shape (40, 14, 14, 512)\n",
            "INFO:tensorflow:Loaded /tmp/beenkim/tcav_class_test/activations/acts_random500_2_mixed4c shape (38, 14, 14, 512)\n",
            "INFO:tensorflow:Loaded /tmp/beenkim/tcav_class_test/activations/acts_zebra_mixed4c shape (34, 14, 14, 512)\n",
            "INFO:tensorflow:Training CAV ['random500_0', 'random500_2'] - mixed4c alpha 0.1\n",
            "INFO:tensorflow:training with alpha=0.1\n",
            "INFO:tensorflow:acc per class {'random500_0': 0.6923076923076923, 'random500_2': 0.38461538461538464, 'overall': 0.5384615384615384}\n",
            "INFO:tensorflow:CAV accuracies: {'random500_0': 0.6923076923076923, 'random500_2': 0.38461538461538464, 'overall': 0.5384615384615384}\n",
            "INFO:tensorflow:cannot identify image file <tensorflow.python.platform.gfile.GFile object at 0x13ef153d0>\n",
            "INFO:tensorflow:cannot identify image file <tensorflow.python.platform.gfile.GFile object at 0x13ef15430>\n",
            "INFO:tensorflow:Running param 11 of 15\n",
            "INFO:tensorflow:running zebra ['random500_1', 'random500_0']\n",
            "INFO:tensorflow:Loaded /tmp/beenkim/tcav_class_test/activations/acts_random500_1_mixed4c shape (44, 14, 14, 512)\n",
            "INFO:tensorflow:Loaded /tmp/beenkim/tcav_class_test/activations/acts_random500_0_mixed4c shape (40, 14, 14, 512)\n",
            "INFO:tensorflow:Loaded /tmp/beenkim/tcav_class_test/activations/acts_zebra_mixed4c shape (34, 14, 14, 512)\n",
            "INFO:tensorflow:Training CAV ['random500_1', 'random500_0'] - mixed4c alpha 0.1\n",
            "INFO:tensorflow:training with alpha=0.1\n",
            "INFO:tensorflow:acc per class {'random500_1': 0.42857142857142855, 'random500_0': 0.7692307692307693, 'overall': 0.5925925925925926}\n",
            "INFO:tensorflow:CAV accuracies: {'random500_1': 0.42857142857142855, 'random500_0': 0.7692307692307693, 'overall': 0.5925925925925926}\n",
            "INFO:tensorflow:cannot identify image file <tensorflow.python.platform.gfile.GFile object at 0x13ef21340>\n",
            "INFO:tensorflow:cannot identify image file <tensorflow.python.platform.gfile.GFile object at 0x13ef12310>\n",
            "INFO:tensorflow:Running param 12 of 15\n",
            "INFO:tensorflow:running zebra ['random500_1', 'random500_2']\n",
            "INFO:tensorflow:Loaded /tmp/beenkim/tcav_class_test/activations/acts_random500_1_mixed4c shape (44, 14, 14, 512)\n",
            "INFO:tensorflow:Loaded /tmp/beenkim/tcav_class_test/activations/acts_random500_2_mixed4c shape (38, 14, 14, 512)\n",
            "INFO:tensorflow:Loaded /tmp/beenkim/tcav_class_test/activations/acts_zebra_mixed4c shape (34, 14, 14, 512)\n",
            "INFO:tensorflow:Training CAV ['random500_1', 'random500_2'] - mixed4c alpha 0.1\n",
            "INFO:tensorflow:training with alpha=0.1\n",
            "INFO:tensorflow:acc per class {'random500_1': 0.38461538461538464, 'random500_2': 0.46153846153846156, 'overall': 0.4230769230769231}\n",
            "INFO:tensorflow:CAV accuracies: {'random500_1': 0.38461538461538464, 'random500_2': 0.46153846153846156, 'overall': 0.4230769230769231}\n",
            "INFO:tensorflow:cannot identify image file <tensorflow.python.platform.gfile.GFile object at 0x13ef29ac0>\n",
            "INFO:tensorflow:cannot identify image file <tensorflow.python.platform.gfile.GFile object at 0x13ef21cd0>\n",
            "INFO:tensorflow:Running param 13 of 15\n",
            "INFO:tensorflow:running zebra ['random500_2', 'random500_0']\n",
            "INFO:tensorflow:Loaded /tmp/beenkim/tcav_class_test/activations/acts_random500_2_mixed4c shape (38, 14, 14, 512)\n",
            "INFO:tensorflow:Loaded /tmp/beenkim/tcav_class_test/activations/acts_random500_0_mixed4c shape (40, 14, 14, 512)\n",
            "INFO:tensorflow:Loaded /tmp/beenkim/tcav_class_test/activations/acts_zebra_mixed4c shape (34, 14, 14, 512)\n",
            "INFO:tensorflow:Training CAV ['random500_2', 'random500_0'] - mixed4c alpha 0.1\n",
            "INFO:tensorflow:training with alpha=0.1\n",
            "INFO:tensorflow:acc per class {'random500_2': 0.5384615384615384, 'random500_0': 0.7692307692307693, 'overall': 0.6538461538461539}\n",
            "INFO:tensorflow:CAV accuracies: {'random500_2': 0.5384615384615384, 'random500_0': 0.7692307692307693, 'overall': 0.6538461538461539}\n",
            "INFO:tensorflow:cannot identify image file <tensorflow.python.platform.gfile.GFile object at 0x13ef214f0>\n",
            "INFO:tensorflow:cannot identify image file <tensorflow.python.platform.gfile.GFile object at 0x13ef29280>\n",
            "INFO:tensorflow:Running param 14 of 15\n",
            "INFO:tensorflow:running zebra ['random500_2', 'random500_1']\n",
            "INFO:tensorflow:Loaded /tmp/beenkim/tcav_class_test/activations/acts_random500_2_mixed4c shape (38, 14, 14, 512)\n",
            "INFO:tensorflow:Loaded /tmp/beenkim/tcav_class_test/activations/acts_random500_1_mixed4c shape (44, 14, 14, 512)\n",
            "INFO:tensorflow:Loaded /tmp/beenkim/tcav_class_test/activations/acts_zebra_mixed4c shape (34, 14, 14, 512)\n",
            "INFO:tensorflow:Training CAV ['random500_2', 'random500_1'] - mixed4c alpha 0.1\n",
            "INFO:tensorflow:training with alpha=0.1\n",
            "INFO:tensorflow:acc per class {'random500_2': 0.38461538461538464, 'random500_1': 0.5384615384615384, 'overall': 0.46153846153846156}\n",
            "INFO:tensorflow:CAV accuracies: {'random500_2': 0.38461538461538464, 'random500_1': 0.5384615384615384, 'overall': 0.46153846153846156}\n",
            "INFO:tensorflow:cannot identify image file <tensorflow.python.platform.gfile.GFile object at 0x13ef29ca0>\n",
            "INFO:tensorflow:cannot identify image file <tensorflow.python.platform.gfile.GFile object at 0x13ef220a0>\n",
            "INFO:tensorflow:Done running 15 params. Took 45.06766414642334 seconds...\n",
            "done!\n"
          ]
        }
      ],
      "source": [
        "import absl\n",
        "absl.logging.set_verbosity(0)\n",
        "num_random_exp=3\n",
        "## only running num_random_exp = 10 to save some time. The paper number are reported for 500 random runs. \n",
        "mytcav = tcav.TCAV(sess,\n",
        "                   target,\n",
        "                   concepts,\n",
        "                   bottlenecks,\n",
        "                   act_generator,\n",
        "                   alphas,\n",
        "                   cav_dir=cav_dir,\n",
        "                   num_random_exp=num_random_exp)#10)\n",
        "print ('This may take a while... Go get coffee!')\n",
        "results = mytcav.run(run_parallel=False)\n",
        "print ('done!')"
      ]
    },
    {
      "cell_type": "code",
      "execution_count": 9,
      "metadata": {
        "id": "hjKVKa80YYdp",
        "outputId": "ff3cbebe-4edd-4342-cede-24dc10ce9d99",
        "scrolled": false,
        "tags": []
      },
      "outputs": [
        {
          "name": "stdout",
          "output_type": "stream",
          "text": [
            "Class = zebra\n",
            "  Concept = dotted\n",
            "    Bottleneck = mixed4c. TCAV Score = 0.70 (+- 0.16), random was 0.56 (+- 0.18). p-val = 0.370 (not significant)\n",
            "  Concept = striped\n",
            "    Bottleneck = mixed4c. TCAV Score = 0.76 (+- 0.21), random was 0.56 (+- 0.18). p-val = 0.225 (not significant)\n",
            "  Concept = zigzagged\n",
            "    Bottleneck = mixed4c. TCAV Score = 0.80 (+- 0.11), random was 0.56 (+- 0.18). p-val = 0.100 (not significant)\n",
            "{'mixed4c': {'bn_vals': [0.01, 0.01, 0.01], 'bn_stds': [0, 0, 0], 'significant': [False, False, False]}}\n"
          ]
        },
        {
          "data": {
            "image/png": "[encoded data removed]",
            "text/plain": [
              "<Figure size 432x288 with 1 Axes>"
            ]
          },
          "metadata": {
            "needs_background": "light"
          },
          "output_type": "display_data"
        }
      ],
      "source": [
        "utils_plot.plot_results(results, num_random_exp=num_random_exp)"
      ]
    }
  ],
  "metadata": {
    "colab": {
      "name": "Run TCAV.ipynb",
      "provenance": []
    },
    "kernelspec": {
      "display_name": "Python 3.9.2 64-bit",
      "language": "python",
      "name": "python3"
    },
    "language_info": {
      "codemirror_mode": {
        "name": "ipython",
        "version": 3
      },
      "file_extension": ".py",
      "mimetype": "text/x-python",
      "name": "python",
      "nbconvert_exporter": "python",
      "pygments_lexer": "ipython3",
      "version": "3.9.2"
    },
    "vscode": {
      "interpreter": {
        "hash": "397704579725e15f5c7cb49fe5f0341eb7531c82d19f2c29d197e8b64ab5776b"
      }
    }
  },
  "nbformat": 4,
  "nbformat_minor": 0
}
